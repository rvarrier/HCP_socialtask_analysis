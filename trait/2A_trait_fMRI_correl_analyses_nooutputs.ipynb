{
 "cells": [
  {
   "cell_type": "code",
   "execution_count": null,
   "source": [
    "import numpy as np\n",
    "import scipy as sp\n",
    "from scipy import stats\n",
    "import pandas as pd\n",
    "from matplotlib import pyplot as plt\n",
    "import seaborn as sns\n",
    "\n",
    "plt.rcParams.update({'font.size': 16})"
   ],
   "outputs": [],
   "metadata": {}
  },
  {
   "cell_type": "code",
   "execution_count": null,
   "source": [
    "res_behav_data = pd.read_csv('../data/RESTRICTED_esfinn_11_21_2021_19_19_35.csv')\n",
    "res_behav_data.set_index(\"Subject\", inplace=True)\n",
    "res_behav_data.index = res_behav_data.index.map(str)\n",
    "print(res_behav_data.shape)\n",
    "res_behav_data.head()"
   ],
   "outputs": [],
   "metadata": {}
  },
  {
   "cell_type": "markdown",
   "source": [
    "Read in unrestricted behavioral data:"
   ],
   "metadata": {}
  },
  {
   "cell_type": "code",
   "execution_count": null,
   "source": [
    "unres_behav_data = pd.read_csv('../data/unrestricted_esfinn_11_21_2021_19_19_13.csv')\n",
    "unres_behav_data.set_index(\"Subject\", inplace=True)\n",
    "unres_behav_data.index = unres_behav_data.index.map(str)\n",
    "print(unres_behav_data.shape)\n",
    "unres_behav_data.head()"
   ],
   "outputs": [],
   "metadata": {}
  },
  {
   "cell_type": "code",
   "execution_count": null,
   "source": [
    "behav_data = pd.concat([res_behav_data, unres_behav_data], axis=1)\n",
    "print(behav_data.shape)\n",
    "behav_data.head()"
   ],
   "outputs": [],
   "metadata": {}
  },
  {
   "cell_type": "markdown",
   "source": [
    "Read in FMRI data, join into single dataframe, then join this with the larger dataframe:"
   ],
   "metadata": {}
  },
  {
   "cell_type": "code",
   "execution_count": null,
   "source": [
    "data_file_loc = '/Users/f0053cz/Dropbox (Dartmouth College)/postdoc_Dartmouth/HCP/fMRIScipts/data'\n",
    "sub_id_all = np.load(os.path.join(data_file_loc,'sub_ID_all.npy'))\n",
    "sub_id_all = [str(i) for i in sub_id_all]\n",
    "print(len(sub_id_all),sub_id_all[:5])\n",
    "\n",
    "# load behavioral responses too - to identify missed/invalid trials later - 1 for \"social\", 0 for \"nonsocial\" and 9 for \"unsure\", nan for missed response\n",
    "responses = np.load(os.path.join(data_file_loc,'responses.npy'))\n",
    "responses.shape # subs *movies"
   ],
   "outputs": [],
   "metadata": {}
  },
  {
   "cell_type": "code",
   "execution_count": null,
   "source": [
    "for r in [0,1,9]:\n",
    "    print(len(np.where(responses[:,4]==r)[0]))\n",
    "print(len(np.where(np.isnan(responses[:,4]))[0]))\n",
    "print(587+88+186+187)"
   ],
   "outputs": [],
   "metadata": {}
  },
  {
   "cell_type": "markdown",
   "source": [
    "- lots of missing responses in RANDOM MECH - let's keep this here for now"
   ],
   "metadata": {}
  },
  {
   "cell_type": "code",
   "execution_count": null,
   "source": [
    "shen268_lbl = pd.read_csv(os.path.join(data_file_loc,\"shen_dictionary.csv\"))\n",
    "pd.set_option('display.max_colwidth', None)\n",
    "shen268_lbl.head()"
   ],
   "outputs": [],
   "metadata": {}
  },
  {
   "cell_type": "code",
   "execution_count": null,
   "source": [
    "# for comparison with the other main figure if needed\n",
    "nodes_coaxbill_rand_all = np.load(os.path.join(data_file_loc,'nodes_coaxbill_rand_all.npy')) # sig nodes hihglighted in the first S>NS GLM\n",
    "len(np.where(nodes_coaxbill_rand_all)[0])"
   ],
   "outputs": [],
   "metadata": {}
  },
  {
   "cell_type": "code",
   "execution_count": null,
   "source": [
    "from multipy.fdr import lsu\n",
    "from corrstats import independent_corr"
   ],
   "outputs": [],
   "metadata": {}
  },
  {
   "cell_type": "code",
   "execution_count": null,
   "source": [
    "vidnames = [\"COAXING-B\", \"BILLIARD-A\", \"DRIFTING-A\", \"Fishing\", \"Random mechanical\",\"Scaring\", \"SEDUCING-B\", \"STAR-A\", \"SURPRISING-B\", \"TENNIS-A\"]\n"
   ],
   "outputs": [],
   "metadata": {}
  },
  {
   "cell_type": "markdown",
   "source": [
    "# traits vs. fmri unmodulated by responses"
   ],
   "metadata": {}
  },
  {
   "cell_type": "code",
   "execution_count": null,
   "source": [
    "def get_correlations(coef_slope, movie_ind,sub_id_all,responses,corrtype):\n",
    "    \n",
    "    corr_nodes,   pval_nodes    =  [np.empty((268,)) for _ in range(2)] # nodes * responses (non-social, social)\n",
    "    corr_nodes[:],pval_nodes[:] = [np.nan] *2\n",
    "\n",
    "    for n in range(268): \n",
    "        if n% 50 ==0:\n",
    "            print('node',n)\n",
    "\n",
    "        fMRI_data = pd.DataFrame({'Subject':sub_id_all,'slopeReg_node':coef_slope[:,n], 'responses':responses[:,movie_ind]})\n",
    "        fMRI_data.set_index(\"Subject\", inplace=True)\n",
    "        data = fMRI_data.join(behav_data, how='inner') # join betas and trait info\n",
    "\n",
    "        x,y = \"slopeReg_node\", \"ASR_Intn_T\" #y = \"Loneliness_Unadj\"\n",
    "        \n",
    "        inds = ~np.isnan(data[x]) & ~np.isnan(data[y]) #& ~np.isnan(data['responses'])# find rows where neither x or y is NaN\n",
    "        \n",
    "        # Calculate and print correlations\n",
    "        if corrtype == 'Pearson':\n",
    "            corr_nodes[n], pval_nodes[n] = stats.pearsonr(data[x][inds], data[y][inds])\n",
    "        elif corrtype =='Spearman':\n",
    "            corr_nodes[n], pval_nodes[n] = stats.spearmanr(data[x][inds], data[y][inds])\n",
    "            \n",
    "\n",
    "    pval_nodes_fdr = lsu(pval_nodes,q=.05)\n",
    "\n",
    "    return corr_nodes, pval_nodes, pval_nodes_fdr"
   ],
   "outputs": [],
   "metadata": {}
  },
  {
   "cell_type": "code",
   "execution_count": null,
   "source": [
    "# movie \"SURPRISING-B, most social\n",
    "\n",
    "movie_ind = 8\n",
    "coef_slope = np.load(os.path.join(data_file_loc,'coefs_trial_norm','slope_reg',f'coef_slopereg_trialnorm_{vidnames[movie_ind]}.npy'))\n",
    "\n",
    "corr_nodes_surp, pval_nodes_surp, pval_nodes_fdr_surp = get_correlations(coef_slope, movie_ind, sub_id_all, responses, 'Spearman')\n"
   ],
   "outputs": [],
   "metadata": {}
  },
  {
   "cell_type": "code",
   "execution_count": null,
   "source": [
    "# movie \"COAXING-B, second most social\n",
    "\n",
    "movie_ind = 0\n",
    "coef_slope = np.load(os.path.join(data_file_loc,'coefs_trial_norm','slope_reg',f'coef_slopereg_trialnorm_{vidnames[movie_ind]}.npy'))\n",
    "\n",
    "corr_nodes_coax, pval_nodes_coax, pval_nodes_fdr_coax = get_correlations(coef_slope, movie_ind, sub_id_all, responses, 'Spearman')\n"
   ],
   "outputs": [],
   "metadata": {}
  },
  {
   "cell_type": "code",
   "execution_count": null,
   "source": [
    "# movie DRIFTING, most nonsocial\n",
    "\n",
    "movie_ind = 2\n",
    "coef_slope = np.load(os.path.join(data_file_loc,'coefs_trial_norm','slope_reg',f'coef_slopereg_trialnorm_{vidnames[movie_ind]}.npy'))\n",
    "\n",
    "corr_nodes_drif, pval_nodes_drif, pval_nodes_fdr_drif = get_correlations(coef_slope, movie_ind, sub_id_all, responses, 'Spearman')\n"
   ],
   "outputs": [],
   "metadata": {}
  },
  {
   "cell_type": "code",
   "execution_count": null,
   "source": [
    "# movie DRIFTING, most nonsocial\n",
    "\n",
    "movie_ind = 1\n",
    "coef_slope = np.load(os.path.join(data_file_loc,'coefs_trial_norm','slope_reg',f'coef_slopereg_trialnorm_{vidnames[movie_ind]}.npy'))\n",
    "\n",
    "corr_nodes_bill, pval_nodes_bill, pval_nodes_fd_bill = get_correlations(coef_slope, movie_ind, sub_id_all, responses, 'Spearman')\n"
   ],
   "outputs": [],
   "metadata": {}
  },
  {
   "cell_type": "code",
   "execution_count": null,
   "source": [
    "'''print('Surp')\n",
    "print('fdr',np.where(pval_nodes_fdr_surp)[0].shape)\n",
    "print('unc.',np.where(pval_nodes_surp<.05)[0].shape)\n",
    "\n",
    "print('\\ncoax')\n",
    "print('fdr',np.where(pval_nodes_fdr_coax))\n",
    "print('unc.',np.where(pval_nodes_coax<.05),pval_nodes_surp[pval_nodes_coax<.05])\n",
    "\n",
    "\n",
    "print('\\nsurp-coax intersection')\n",
    "inter_ = np.where((pval_nodes_surp<.05)&(pval_nodes_coax<.05))\n",
    "corr_nodes_coax[inter_],corr_nodes_surp[inter_]\n",
    "# 3 nodes intersect, but different signs..'''"
   ],
   "outputs": [],
   "metadata": {}
  },
  {
   "cell_type": "markdown",
   "source": [
    "- for SURPRISING-B, many nodes survive mult-comp correction, but not other movies (taken individually).\n",
    "- Trait vs. fMRI, nothing survives at the whole brain level\n",
    "- but nevertheless, looks like the correlation is negative - but this could be driven by lesser activation or more deactivation  which means different things - so I looked at the mean/median beta in the sig nodes\n"
   ],
   "metadata": {}
  },
  {
   "cell_type": "code",
   "execution_count": null,
   "source": [
    "#plt.hist(np.nanmean(coef_slope,axis=0),label='all nodes')\n",
    "plt.hist(np.nanmean(coef_slope[:,pval_nodes_surp<.05],axis=0),label='Mean slope beta, nodes\\nwith sig. correl (p<.05)', color = [.7,.7,.7])\n",
    "plt.hist(np.nanmean(coef_slope[:,pval_nodes_fdr_surp],axis=0),label='Mean slope beta, nodes\\nwith sig correl (q<.05)',color = [.3,.3,.3])\n",
    "ymin,ymax =  plt.ylim()\n",
    "plt.vlines(np.nanmean(coef_slope[:,pval_nodes_surp<.05]),ymin,ymax,color= 'k',ls='dashed',label='Mean, p<.05 nodes')\n",
    "plt.vlines(np.nanmean(coef_slope[:,pval_nodes_fdr_surp]),ymin,ymax, color = 'k',ls='solid',label='Mean, q<.05 nodes')\n",
    "plt.legend(bbox_to_anchor =[1.01,1])\n",
    "plt.xlabel('Mean slope beta per node')\n",
    "plt.ylabel('Number of nodes')\n",
    "plt.title('SURPRISING-B')\n",
    "\n",
    "\n",
    "t,p=stats.ttest_1samp(coef_slope[:,np.where(pval_nodes_fdr_surp)[0]],0,axis=0,nan_policy='omit')\n",
    "print(max(p))\n",
    "\n",
    "t,p=stats.ttest_1samp(coef_slope[:,np.where(pval_nodes_surp<.05)[0]],0,axis=0,nan_policy='omit')\n",
    "print(max(p))\n",
    "\n",
    "t,p=stats.ttest_1samp(coef_slope,0,axis=0,nan_policy='omit')\n",
    "print(np.where(p>.05))\n",
    "\n",
    "plt.ylim(0,30)\n",
    "plt.xlim(-2,2)\n",
    "\n",
    "# for all of the orange and green nodes, mean sig >0, and most nodes across all 268 too - so the negative correlations do show lower activation "
   ],
   "outputs": [],
   "metadata": {}
  },
  {
   "cell_type": "code",
   "execution_count": null,
   "source": [
    "plt.figure(1,figsize=(10,10))\n",
    "plt.suptitle('SURPRISING-B, trait-fMRI (slope beta) correlation coefft\\nacross all 268 nodes')\n",
    "plt.subplot(121)\n",
    "plt.hist(corr_nodes_surp,bins=20,orientation='horizontal',color='grey')\n",
    "_, pval = stats.ttest_1samp(corr_nodes_surp,0)\n",
    "avg  = np.nanmean(corr_nodes_surp)\n",
    "xmin,xmax = plt.xlim()\n",
    "plt.hlines(avg,xmin,xmax,color = 'orange',label = f'Mean= {avg:.2f},\\n(p={pval:.1e})')\n",
    "plt.ylim(-1,1)\n",
    "plt.ylabel('Spearman correlation coefft',fontsize=20)\n",
    "plt.xlabel('Nr. of nodes')\n",
    "plt.title('Histogram')\n",
    "plt.legend()\n",
    "\n",
    "\n",
    "plt.subplot(122)\n",
    "plt.boxplot(corr_nodes_surp,vert=True)\n",
    "plt.xticks([])\n",
    "plt.ylim(-1,1)\n",
    "plt.title('Boxplot')\n",
    "plt.ylabel('Spearman correlation coefft',fontsize=20)\n",
    "plt.xlim(.8,1.2)\n",
    "plt.tight_layout()"
   ],
   "outputs": [],
   "metadata": {}
  },
  {
   "cell_type": "markdown",
   "source": [
    "# Plot brain maps for the movie above"
   ],
   "metadata": {}
  },
  {
   "cell_type": "code",
   "execution_count": null,
   "source": [
    "from nltools.data import Brain_Data\n",
    "from nltools.mask import expand_mask, roi_to_brain\n",
    "from nilearn.plotting import plot_glass_brain, plot_surf_roi,plot_stat_map,plot_img,plot_surf_contours\n",
    "from nilearn import datasets\n",
    "from nilearn.surface import vol_to_surf\n",
    "\n",
    "import nibabel as nib\n",
    "\n",
    "from nilearn.datasets import fetch_surf_fsaverage\n",
    "fsaverage = fetch_surf_fsaverage()\n",
    "\n",
    "#coords = [10*int(i) for i in np.linspace(-4,7,6)]\n",
    "bg_img = datasets.load_mni152_template()\n",
    "\n",
    "mask = Brain_Data('https://neurovault.org/media/images/8423/shen_2mm_268_parcellation.nii.gz')\n",
    "mask_x = expand_mask(mask)\n",
    "\n",
    "\n",
    "def color_rois(values):\n",
    "    \n",
    "    \"\"\"\n",
    "    This function assumes you are passing a vector \"values\" with the same length as the number of nodes in the atlas.\n",
    "    \"\"\"\n",
    "    shen268 = nib.load(os.path.join(data_file_loc,\"shen_2mm_268_parcellation.nii.gz\"))\n",
    "    shen268_data = shen268.get_fdata()\n",
    "    img = np.zeros(shen268_data.shape)\n",
    "    #print(shen268_data.shape)\n",
    "    for roi in range(len(values)):\n",
    "        itemindex = np.where(shen268_data==roi+1) # find voxels in this node (add 1 to account for zero-indexing)\n",
    "        #print(len(itemindex[0]))\n",
    "        img[itemindex] = values[roi] # color them by the desired value \n",
    "\n",
    "    affine = shen268.affine\n",
    "    img_nii = nib.Nifti1Image(img, affine)\n",
    "    \n",
    "    return img_nii\n",
    "\n",
    "fig_save_loc = os.path.join('/Users/f0053cz/Dropbox (Dartmouth College)/postdoc_Dartmouth/HCP/paper_prep/figures/fig2_2_traits/fmri_results')"
   ],
   "outputs": [],
   "metadata": {}
  },
  {
   "cell_type": "code",
   "execution_count": null,
   "source": [
    "print('all nodes:',min(corr_nodes_surp),max(corr_nodes_surp))\n",
    "print('sig unc nodes:',min(corr_nodes_surp[pval_nodes_surp<.05]),max(corr_nodes_surp[pval_nodes_surp<.05]))"
   ],
   "outputs": [],
   "metadata": {}
  },
  {
   "cell_type": "code",
   "execution_count": null,
   "source": [
    "def plot_result_brainmaps(nodes, vmin, vmax, txt, title_txt, contours_mat, pval_, intersection_, params,text_x):\n",
    "    cmap = 'RdBu_r'\n",
    "\n",
    "    levels,labels,colors,coods = params['levels'],params['labels'],params['colors'],params['coords']\n",
    "\n",
    "    fig,ax = plt.subplots(nrows=1,ncols=4,figsize = (20,5),subplot_kw={'projection': '3d'})\n",
    "    \n",
    "    img = roi_to_brain(pd.Series(nodes), mask_x)\n",
    "    ax_plot = plot_img(img.to_nifti(), display_mode = 'z',vmin = vmin, vmax = vmax, cut_coords = coords,cmap = cmap, bg_img = bg_img,colorbar= False,threshold = .0001)\n",
    "    #ax_plot.add_contours(color_rois((nodes_coaxbill_rand_all)),linewidths=1, colors=colors_glm_nodes,linestyles='solid')\n",
    "    ax_plot.add_contours(color_rois((pval_)),linewidths=1, colors=[colors[0]],linestyles='solid')\n",
    "    #ax_plot.add_contours(color_rois((nodes_coaxbill_rand_all)),linewidths=1, colors=[colors[1]],linestyles='solid')\n",
    "    ax_plot.add_contours(color_rois((intersection_)),linewidths=1, colors=[colors[1]],linestyles='solid')\n",
    "    #ax_plot.title(title_txt)\n",
    "    #ax_plot._colorbar_ax.text(1,.8*vmax,txt,fontsize=20,fontdict = {'verticalalignment':'top','rotation':0})#get_legend()\n",
    "    #plt.savefig(os.path.join(fig_save_loc,f'RAND/{resp_lbl[resp]}/axial.png'),dpi=300,bbox_inches='tight',facecolor='white', edgecolor='none')\n",
    "    #plt.clf()\n",
    "\n",
    "\n",
    "    #LH\n",
    "    texture = vol_to_surf(color_rois(nodes), fsaverage.pial_left,interpolation='nearest',radius =1, n_samples=1)\n",
    "    surf_plot1=plot_surf_roi(fsaverage.infl_left, texture, hemi='left',cmap = cmap, colorbar=False, symmetric_cmap=True, vmin = vmin, vmax = vmax,\n",
    "                                bg_map=fsaverage.sulc_left,axes=ax[0], title=title_txt)#,vol_to_surf_kwargs={\"n_samples\": 10, \"radius\": 10, \"interpolation\": \"nearest\",\"kind\":'ball'})\n",
    "    texture_contour = vol_to_surf(color_rois(contours_mat), fsaverage.pial_left,interpolation='nearest',radius =1, n_samples=1)\n",
    "    plot_surf_contours(fsaverage.infl_left, texture_contour, axes = ax[0], figure=surf_plot1, legend=True,levels = levels, colors=colors)\n",
    "\n",
    "    \n",
    "    surf_plot2=plot_surf_roi(fsaverage.infl_left, texture, hemi='left',cmap = cmap, colorbar=False, symmetric_cmap=True, vmin = vmin, vmax = vmax,\n",
    "                                bg_map=fsaverage.sulc_left, view = 'medial',axes=ax[1])#,vol_to_surf_kwargs={\"n_samples\": 10, \"radius\": 10, \"interpolation\": \"nearest\",\"kind\":'ball'})\n",
    "    plot_surf_contours(fsaverage.infl_left, texture_contour, axes = ax[1], figure=surf_plot2, legend=True,levels = levels, colors=colors)\n",
    "\n",
    "\n",
    "    #RH\n",
    "    texture = vol_to_surf(color_rois(nodes), fsaverage.pial_right,interpolation='nearest',radius =1, n_samples=1)\n",
    "    surf_plot3=plot_surf_roi(fsaverage.infl_right, texture, hemi='right',cmap = cmap, colorbar=True,symmetric_cmap=True, vmin = vmin, vmax = vmax,\n",
    "                                bg_map=fsaverage.sulc_right,axes=ax[3])#,vol_to_surf_kwargs={\"n_samples\": 10, \"radius\": 10, \"interpolation\": \"nearest\",\"kind\":'ball'})\n",
    "    surf_plot3.axes[4].text(text_x,.5*vmax,s=txt,fontsize=20, fontdict = {'verticalalignment':'top','horizontalalignment':'left','rotation':0})\n",
    "    texture_contour = vol_to_surf(color_rois(contours_mat), fsaverage.pial_right,interpolation='nearest',radius =1, n_samples=1)\n",
    "    plot_surf_contours(fsaverage.infl_right, texture_contour, axes = ax[3], figure=surf_plot3, legend=True,levels = levels, labels = labels, colors=colors)\n",
    "\n",
    "    surf_plot4=plot_surf_roi(fsaverage.infl_right, texture, hemi='right',cmap = cmap, colorbar=False,symmetric_cmap=True, vmin = vmin, vmax = vmax,\n",
    "                                bg_map=fsaverage.sulc_right, view ='medial',axes=ax[2])#,vol_to_surf_kwargs={\"n_samples\": 10, \"radius\": 10, \"interpolation\": \"nearest\",\"kind\":'ball'})\n",
    "    plot_surf_contours(fsaverage.infl_right, texture_contour, axes = ax[2], figure=surf_plot4, legend=True,levels = levels, colors=colors)\n",
    "    #plt.savefig(os.path.join(fig_save_loc,f'RAND/{resp_lbl[resp]}/right_med.png'),dpi=300,bbox_inches='tight',facecolor='white', edgecolor='none')\n",
    "    #plt.clf()\n"
   ],
   "outputs": [],
   "metadata": {}
  },
  {
   "cell_type": "code",
   "execution_count": null,
   "source": [
    "min(corr_nodes_surp),max(corr_nodes_surp)"
   ],
   "outputs": [],
   "metadata": {}
  },
  {
   "cell_type": "code",
   "execution_count": null,
   "source": [
    "# surprising\n",
    "coords = [-50,-40,-25,-10,0,10,25,40,55] # initial exploration\n",
    "#coords = [-40,-30,-20] # for the final version\n",
    "cmap = 'RdBu_r'\n",
    "   \n",
    "vmin,vmax = -.16,.16\n",
    "\n",
    "#txt = r\"$\\overline{\\beta}(''Social''-''Non-social'')$\"\n",
    "txt = 'Spearman r (ASR_Intn_T vs.\\nslope beta)'\n",
    "\n",
    "nodes = np.zeros((268,))\n",
    "nodes[pval_nodes_surp<.05] = corr_nodes_surp[pval_nodes_surp<.05]\n",
    "movie_ind = 8\n",
    "title_txt = f'{vidnames[movie_ind]} (nodes unc.)'\n",
    "\n",
    "contours_mat = np.zeros((268,))\n",
    "contours_mat[pval_nodes_fdr_surp] = 1\n",
    "#contours_mat[nodes_coaxbill_rand_all] = 2\n",
    "contours_mat[nodes_int_sign_fdr] = 2\n",
    "\n",
    "levels = [1,2]\n",
    "labels = ['q<.05','intersection']\n",
    "colors = [[0,0,0,1],[1,0,0,1]]\n",
    "params = {'levels':levels, 'labels': labels, 'colors': colors, 'coords':coords}\n",
    "text_x=2\n",
    "plot_result_brainmaps(nodes,vmin,vmax,txt,title_txt,contours_mat,pval_nodes_fdr_surp,nodes_int_sign_fdr,params,text_x)\n"
   ],
   "outputs": [],
   "metadata": {}
  },
  {
   "cell_type": "code",
   "execution_count": null,
   "source": [
    "def explore_correlation(x, y, data,corrtype='Spearman'):\n",
    "    \"\"\"\n",
    "    Calculates and plots correlation between x and y variables in dataframe `data`, plus distribution of x and y \n",
    "    \"\"\"\n",
    "    sns.set_style(\"white\")\n",
    "    \n",
    "    inds = ~np.isnan(data[x]) & ~np.isnan(data[y]) # find rows where neither x or y is NaN\n",
    "\n",
    "    g = sns.jointplot(x=x, y=y, data=data, kind='reg', color='gray')\n",
    "\n",
    "    # Calculate and print correlations\n",
    "    if corrtype == 'Pearson':\n",
    "        rp, pp = stats.pearsonr(data[x][inds], data[y][inds])\n",
    "        g.ax_joint.annotate(f'r_p = {rp:.2f} (p={pp:.1g})', xy=(.05,.95), xycoords='axes fraction')\n",
    "    elif corrtype == 'Spearman':\n",
    "        rs, ps = stats.spearmanr(data[x][inds], data[y][inds])\n",
    "        g.ax_joint.annotate(f'r_s = {rs:.2f} (p={ps:.1g})', xy=(.05,.95), xycoords='axes fraction')\n",
    "    \n",
    "    return g"
   ],
   "outputs": [],
   "metadata": {}
  },
  {
   "cell_type": "code",
   "execution_count": null,
   "source": [
    "vidnames"
   ],
   "outputs": [],
   "metadata": {}
  },
  {
   "cell_type": "code",
   "execution_count": null,
   "source": [
    "#plt.figure(1,figsize = (15,5))\n",
    "#plt.subplot(121)\n",
    "corrtype = 'Pearson'\n",
    "\n",
    "df = pd.DataFrame({'corr_nodes_surp':corr_nodes_surp,'corr_nodes_coax':corr_nodes_coax})\n",
    "explore_correlation('corr_nodes_surp','corr_nodes_coax',df,corrtype)\n",
    "plt.xlim(-.15,.15)\n",
    "plt.ylim(-.15,.15)\n",
    "ax = plt.gca()\n",
    "ax.set_aspect('equal')\n",
    "plt.xticks([-.15,-.1,-.05,0,.05,.1,.15])\n",
    "plt.yticks([-.15,-.1,-.05,0,.05,.1,.15])\n",
    "plt.xlabel('r SURPRISING-B (\"Social\")')\n",
    "plt.ylabel('r COAXING-B (\"Social\")')\n",
    "plt.scatter(corr_nodes_surp[nodes_int_sign_fdr],corr_nodes_coax[nodes_int_sign_fdr],color='k', label = 'SURP &&\\nALL OTHERS, q<.05')\n",
    "plt.legend(bbox_to_anchor = [2.01,1])\n",
    "\n",
    "#plt.subplot(122)\n",
    "df = pd.DataFrame({'corr_nodes_surp':corr_nodes_surp,'corr_nodes_drif':corr_nodes_drif})\n",
    "explore_correlation('corr_nodes_surp','corr_nodes_drif',df,corrtype)\n",
    "plt.xlim(-.15,.15)\n",
    "plt.ylim(-.15,.15)\n",
    "ax = plt.gca()\n",
    "ax.set_aspect('equal')\n",
    "plt.xticks([-.15,-.1,-.05,0,.05,.1,.15])\n",
    "plt.yticks([-.15,-.1,-.05,0,.05,.1,.15])\n",
    "plt.xlabel('r SURPRISING-B (\"Social\")')\n",
    "plt.ylabel('r DRIFTING-A (\"Non-social\")')\n",
    "plt.scatter(corr_nodes_surp[nodes_int_sign_fdr],corr_nodes_drif[nodes_int_sign_fdr],color='k', label = 'SURP & ALL OTHERS, q<.05')\n",
    "\n",
    "\n",
    "#plt.subplot(122)\n",
    "df = pd.DataFrame({'corr_nodes_surp':corr_nodes_surp,'corr_nodes_bill':corr_nodes_bill})\n",
    "explore_correlation('corr_nodes_surp','corr_nodes_bill',df,corrtype)\n",
    "plt.xlim(-.15,.15)\n",
    "plt.ylim(-.15,.15)\n",
    "ax = plt.gca()\n",
    "ax.set_aspect('equal')\n",
    "plt.xticks([-.15,-.1,-.05,0,.05,.1,.15])\n",
    "plt.yticks([-.15,-.1,-.05,0,.05,.1,.15])\n",
    "plt.xlabel('r SURPRISING-B (\"Social\")')\n",
    "plt.ylabel('r BILLIARDS-A (\"Non-social\")')\n",
    "plt.scatter(corr_nodes_surp[nodes_int_sign_fdr],corr_nodes_bill[nodes_int_sign_fdr],color='k', label = 'SURP & ALL OTHERS, q<.05')\n",
    "\n",
    "\n",
    "df = pd.DataFrame({'corr_nodes_bill':corr_nodes_bill,'corr_nodes_drif':corr_nodes_drif})\n",
    "explore_correlation('corr_nodes_bill','corr_nodes_drif',df),corrtype\n",
    "plt.xlim(-.15,.15)\n",
    "plt.ylim(-.15,.15)\n",
    "ax = plt.gca()\n",
    "ax.set_aspect('equal')\n",
    "plt.xticks([-.15,-.1,-.05,0,.05,.1,.15])\n",
    "plt.yticks([-.15,-.1,-.05,0,.05,.1,.15])\n",
    "plt.xlabel('r BILLIARDS-A (\"Non-social\")')\n",
    "plt.ylabel('r DRIFTING-A (\"Non-social\")')\n"
   ],
   "outputs": [],
   "metadata": {}
  },
  {
   "cell_type": "code",
   "execution_count": null,
   "source": [
    "np.where(pval_nodes_surp<.05)"
   ],
   "outputs": [],
   "metadata": {}
  },
  {
   "cell_type": "code",
   "execution_count": null,
   "source": [
    "# print ROIs neatly\n",
    "import pprint\n",
    "pd.set_option('display.max_colwidth', 300)\n",
    "pd.set_option('display.precision', 3)\n",
    "\n",
    "nodes = np.where(pval_nodes_fdr_surp)[0]#_surp<.05)[0]\n",
    "print(len(nodes))\n",
    "# writing our nodes for RANDOM MECH\n",
    "pd.DataFrame({'Node': [n+1 for n in nodes], 'rcoef(Sp)':corr_nodes_surp[nodes],'pval(Sp)':pval_nodes_surp[nodes], 'ROI name':[eval(shen268_lbl[str(n+1)][0])['name'] for n in nodes]}).sort_values(by=['rcoef(Sp)'],\n",
    "ascending = False)"
   ],
   "outputs": [],
   "metadata": {}
  },
  {
   "cell_type": "code",
   "execution_count": null,
   "source": [
    "# nodes which show a diff between corr\"Social\" and corr\"Non-social\" for RANODM MECH and across nodes in the main GLM analysis\n",
    "print('overlap with the main GLM nodes:', np.where(nodes_coaxbill_rand_all & (pval_nodes_surp<.05))) "
   ],
   "outputs": [],
   "metadata": {}
  },
  {
   "cell_type": "markdown",
   "source": [
    "# ALL MOVIES"
   ],
   "metadata": {}
  },
  {
   "cell_type": "code",
   "execution_count": null,
   "source": [
    "# first of all, best to remove subjects with < 10 responses for power in general\n",
    "count_resp = np.zeros((responses.shape[0],))\n",
    "for i in range(responses.shape[0]):\n",
    "    count_resp[i] = len(np.where(~np.isnan(responses[i,:]))[0])\n",
    "subs_10resp = np.where(count_resp == 10)[0]\n",
    "len(subs_10resp)"
   ],
   "outputs": [],
   "metadata": {}
  },
  {
   "cell_type": "code",
   "execution_count": null,
   "source": [
    "# creating a 3D array of beta coeffs across movies from individual movie files\n",
    "all_coefs_run = np.zeros((1048,268,10))\n",
    "all_coefs_trial = np.zeros((1048,268,10))\n",
    "\n",
    "vidnames = [\"COAXING-B\", \"BILLIARD-A\", \"DRIFTING-A\", \"Fishing\", \"Random mechanical\",\"Scaring\", \"SEDUCING-B\", \"STAR-A\", \"SURPRISING-B\", \"TENNIS-A\"]\n",
    "for m in range(10):\n",
    "    fileName =  os.path.join(data_file_loc,'coefs_trial_norm','slope_reg',f'coef_slopereg_trialnorm_{vidnames[m]}.npy')\n",
    "    all_coefs_run[:,:,m] = np.load(fileName)\n",
    "\n",
    "    #fileName =  os.path.join(data_file_loc,'coefs_run_norm','slope_reg',f'coef_slopereg_runnorm_{vidnames[m]}.npy')\n",
    "    #all_coefs_trial[:,:,m] = np.load(fileName)\n",
    "    #print(dat.shape)"
   ],
   "outputs": [],
   "metadata": {}
  },
  {
   "cell_type": "code",
   "execution_count": null,
   "source": [
    "from pymer4.models import Lmer,Lm\n",
    "import time"
   ],
   "outputs": [],
   "metadata": {}
  },
  {
   "cell_type": "code",
   "execution_count": null,
   "source": [
    "# ALL MOVIES - LME - run norm slope betas\n",
    "\n",
    "coef_nodes_all_lme_run,   pval_nodes_all_lme_run   =  [np.empty((268,)) for _ in range(2)] # nodes * responses (non-social, social)\n",
    "coef_nodes_all_lme_run[:],pval_nodes_all_lme_run[:] = [np.nan] *2\n",
    "\n",
    "#coef_nodes_all_lr_run,   pval_nodes_all_lr_run   =  [np.empty((268,)) for _ in range(2)] # nodes * responses (non-social, social)\n",
    "#coef_nodes_all_lr_run[:],pval_nodes_all_lr_run[:] = [np.nan] *2\n",
    "\n",
    "\n",
    "nresp = [len(np.where(~np.isnan(responses[i,:]))[0]) for i in range(responses.shape[0])]\n",
    "start_time = time.time()\n",
    "for n in range(268): \n",
    "    if n% 50 ==0:\n",
    "        print('node',n, ', time taken=',time.time()-start_time)\n",
    "\n",
    "    data = pd.DataFrame({})#columns = ['Subject','coef','response','movie'])\n",
    "    for m in range(10):\n",
    "        #fMRI_data = pd.DataFrame({'coefs': all_coefs[subs_10resp,n,m],'response':responses[subs_10resp,m], 'subID':sub_id_all[subs_10resp], 'movie':np.repeat(m,len(subs_10resp))})\n",
    "        fMRI_data = pd.DataFrame({'Subject':sub_id_all,'slopeReg_node': all_coefs_run[:,n,m], 'response': responses[:,m],'nresp':nresp, 'movie': np.repeat(m,1048)})\n",
    "        #fMRI_data = fMRI_data.loc[fMRI_data['nresp']==10,:]\n",
    "        fMRI_data.set_index(\"Subject\", inplace=True)\n",
    "        data_temp = fMRI_data.join(behav_data['ASR_Intn_T'], how='inner') # join betas and trait info\n",
    "        data = data.append(data_temp)#,ignore_index=True)\n",
    "    data.reset_index(inplace=True)\n",
    "\n",
    "    inds = ~np.isnan(data['slopeReg_node']) & ~np.isnan(data['ASR_Intn_T']) # find rows where neither x or y is NaN\n",
    "    data = data.loc[inds,:]\n",
    "    # Calculate and print correlations\n",
    "    \n",
    "    #model1 = Lm('slopeReg_node ~  ASR_Intn_T ', data=data) # ff: mean response, rf:subjID\n",
    "    #model1.fit(summary = False, verbose = False, no_warnings = True)\n",
    "    model2 = Lmer('slopeReg_node ~  ASR_Intn_T + (1|movie)', data=data) # ff: mean response, rf:subjID\n",
    "    model2.fit(summary = False, verbose = False, no_warnings = True)\n",
    "    #model.fit(factors={\"response\":[\"Non-social\",\"Social\"]},summary = False, verbose = False)\n",
    "\n",
    "    #if (len(model1.warnings) == 0):\n",
    "    #    coef_nodes_all_lr_run[n] = model1.coefs['Estimate'][1]\n",
    "    #    pval_nodes_all_lr_run[n] = model1.coefs['P-val'][1]\n",
    "\n",
    "    if (len(model2.warnings) == 0):\n",
    "        coef_nodes_all_lme_run[n] = model2.coefs['Estimate'][1]\n",
    "        pval_nodes_all_lme_run[n] = model2.coefs['P-val'][1]\n",
    "   \n",
    "#pval_nodes_fdr_all_lr_run = lsu(pval_nodes_all_lr_run,q=.05)\n",
    "pval_nodes_fdr_all_lme_run = lsu(pval_nodes_all_lme_run,q=.05)\n",
    "np.where(pval_nodes_fdr_all_lme_run)#, np.where(pval_nodes_fdr_all_lr_run)\n"
   ],
   "outputs": [],
   "metadata": {}
  },
  {
   "cell_type": "code",
   "execution_count": null,
   "source": [
    "len(np.where(nodes_coaxbill_rand_all&pval_nodes_fdr_all_lme_run)[0])"
   ],
   "outputs": [],
   "metadata": {}
  },
  {
   "cell_type": "code",
   "execution_count": null,
   "source": [
    "# ALL OTHER MOVIES - LME - run norm slope betas\n",
    "\n",
    "coef_nodes_allother_lme_run,   pval_nodes_allother_lme_run   =  [np.empty((268,)) for _ in range(2)] # nodes * responses (non-social, social)\n",
    "coef_nodes_allother_lme_run[:],pval_nodes_allother_lme_run[:] = [np.nan] *2\n",
    "\n",
    "#coef_nodes_all_lr_run,   pval_nodes_all_lr_run   =  [np.empty((268,)) for _ in range(2)] # nodes * responses (non-social, social)\n",
    "#coef_nodes_all_lr_run[:],pval_nodes_all_lr_run[:] = [np.nan] *2\n",
    "\n",
    "\n",
    "nresp = [len(np.where(~np.isnan(responses[i,:]))[0]) for i in range(responses.shape[0])]\n",
    "start_time = time.time()\n",
    "for n in range(268): \n",
    "    if n% 50 ==0:\n",
    "        print('node',n, ', time taken=',time.time()-start_time)\n",
    "\n",
    "    data = pd.DataFrame({})#columns = ['Subject','coef','response','movie'])\n",
    "    for m in [0,1,2,3,4,5,6,7,9]:#range(10):\n",
    "        #fMRI_data = pd.DataFrame({'coefs': all_coefs[subs_10resp,n,m],'response':responses[subs_10resp,m], 'subID':sub_id_all[subs_10resp], 'movie':np.repeat(m,len(subs_10resp))})\n",
    "        fMRI_data = pd.DataFrame({'Subject':sub_id_all,'slopeReg_node': all_coefs_run[:,n,m], 'response': responses[:,m],'nresp':nresp, 'movie': np.repeat(m,1048)})\n",
    "        #fMRI_data = fMRI_data.loc[fMRI_data['nresp']==10,:]\n",
    "        fMRI_data.set_index(\"Subject\", inplace=True)\n",
    "        data_temp = fMRI_data.join(behav_data['ASR_Intn_T'], how='inner') # join betas and trait info\n",
    "        data = data.append(data_temp)#,ignore_index=True)\n",
    "    data.reset_index(inplace=True)\n",
    "\n",
    "    inds = ~np.isnan(data['slopeReg_node']) & ~np.isnan(data['ASR_Intn_T']) # find rows where neither x or y is NaN\n",
    "    data = data.loc[inds,:]\n",
    "    # Calculate and print correlations\n",
    "    \n",
    "    #model1 = Lm('slopeReg_node ~  ASR_Intn_T ', data=data) # ff: mean response, rf:subjID\n",
    "    #model1.fit(summary = False, verbose = False, no_warnings = True)\n",
    "    model2 = Lmer('slopeReg_node ~  ASR_Intn_T + (1|movie)', data=data) # ff: mean response, rf:subjID\n",
    "    model2.fit(summary = False, verbose = False, no_warnings = True)\n",
    "    #model.fit(factors={\"response\":[\"Non-social\",\"Social\"]},summary = False, verbose = False)\n",
    "\n",
    "    #if (len(model1.warnings) == 0):\n",
    "    #    coef_nodes_all_lr_run[n] = model1.coefs['Estimate'][1]\n",
    "    #    pval_nodes_all_lr_run[n] = model1.coefs['P-val'][1]\n",
    "\n",
    "    if (len(model2.warnings) == 0):\n",
    "        coef_nodes_allother_lme_run[n] = model2.coefs['Estimate'][1]\n",
    "        pval_nodes_allother_lme_run[n] = model2.coefs['P-val'][1]\n",
    "   \n",
    "#pval_nodes_fdr_all_lr_run = lsu(pval_nodes_all_lr_run,q=.05)\n",
    "pval_nodes_fdr_allother_lme_run = lsu(pval_nodes_allother_lme_run,q=.05)\n",
    "np.where(pval_nodes_fdr_allother_lme_run)#, np.where(pval_nodes_fdr_all_lr_run)\n"
   ],
   "outputs": [],
   "metadata": {}
  },
  {
   "cell_type": "code",
   "execution_count": null,
   "source": [
    "#plt.hist(np.nanmean(all_coefs_run,axis=(0,2)),label='all nodes')\n",
    "plt.hist(np.nanmean(all_coefs_run[:,pval_nodes_all_lme_run<.05,:],axis=(0,2)),label='Mean slope beta, nodes\\nwith sig. correl (p<.05)',color = [.7,.7,.7])\n",
    "plt.hist(np.nanmean(all_coefs_run[:,pval_nodes_fdr_all_lme_run,:],axis=(0,2)),label='Mean slope beta, nodes\\nwith sig correl (q<.05)',color = [.3,.3,.3])\n",
    "ymin,ymax =  plt.ylim()\n",
    "plt.vlines(np.nanmean(all_coefs_run[:,pval_nodes_all_lme_run<.05,:]),ymin,ymax,color= 'k',ls='dashed',label='Mean, p<.05 nodes')\n",
    "plt.vlines(np.nanmean(all_coefs_run[:,pval_nodes_fdr_all_lme_run,:]),ymin,ymax, color = 'k',ls='solid',label='Mean, q<.05 nodes')\n",
    "\n",
    "plt.legend(bbox_to_anchor =[1.01,1])\n",
    "plt.xlabel('Mean slope beta per node')\n",
    "plt.ylabel('Number of nodes')\n",
    "plt.title('ALL MOVIES')\n",
    "\n",
    "plt.xlim(-2,2)\n",
    "plt.ylim(0,30)\n",
    "coefs_ = np.array([np.ndarray.flatten(all_coefs_run[:,n,:]) for n in np.where(pval_nodes_fdr_all_lme_run)[0]]).T\n",
    "t,p=stats.ttest_1samp(coefs_,0,axis=0,nan_policy='omit')\n",
    "print(max(p))\n",
    "\n",
    "coefs_ = np.array([np.ndarray.flatten(all_coefs_run[:,n,:]) for n in np.where(pval_nodes_all_lme_run<.05)[0]]).T\n",
    "t,p=stats.ttest_1samp(coefs_,0,axis=0,nan_policy='omit')\n",
    "print(max(p))\n",
    "\n",
    "coefs_ = np.array([np.ndarray.flatten(all_coefs_run[:,n,:]) for n in range(268)]).T\n",
    "t,p=stats.ttest_1samp(coefs_,0,axis=0,nan_policy='omit')\n",
    "print(np.where(p>.05)[0])\n",
    "\n",
    "# for all of the orange and green nodes, mean sig >0, and most nodes across all 268 too - so the negative correlations do show lower activation "
   ],
   "outputs": [],
   "metadata": {}
  },
  {
   "cell_type": "code",
   "execution_count": null,
   "source": [
    "print(len(np.where(pval_nodes_fdr_all_lme_run)[0]), len(np.where(pval_nodes_all_lme_run<.05)[0]))\n",
    "print(len(np.where(pval_nodes_fdr_allother_lme_run)[0]),len(np.where(pval_nodes_allother_lme_run<.05)[0]))\n",
    "print(len(np.where(pval_nodes_fdr_surp)[0]), len(np.where(pval_nodes_surp<.05)[0]))\n",
    "\n",
    "nodes_int_sign_fdr = pval_nodes_fdr_surp & pval_nodes_fdr_allother_lme_run & (np.sign(corr_nodes_surp) == np.sign(coef_nodes_allother_lme_run))\n",
    "nodes_int_sign_unc = (pval_nodes_surp<.05) & (pval_nodes_allother_lme_run<.05) & (np.sign(corr_nodes_surp) == np.sign(coef_nodes_allother_lme_run))\n",
    "print(len(np.where(nodes_int_sign_fdr)[0]), len(np.where(nodes_int_sign_unc)[0]))\n"
   ],
   "outputs": [],
   "metadata": {}
  },
  {
   "cell_type": "code",
   "execution_count": null,
   "source": [
    "max(corr_nodes_surp[ (pval_nodes_surp<.05) & (pval_nodes_allother_lme_run<.05) ])"
   ],
   "outputs": [],
   "metadata": {}
  },
  {
   "cell_type": "code",
   "execution_count": null,
   "source": [
    "max(coef_nodes_allother_lme_run[ (pval_nodes_surp<.05) & (pval_nodes_allother_lme_run<.05) ])"
   ],
   "outputs": [],
   "metadata": {}
  },
  {
   "cell_type": "code",
   "execution_count": null,
   "source": [
    "nodes = np.where(pval_nodes_fdr_surp & pval_nodes_fdr_allother_lme_run)[0]\n",
    "print(len(nodes))\n",
    "# writing our nodes for RANDOM MECH\n",
    "pd.DataFrame({'Node': [n+1 for n in nodes], 'rcoef(Sp)':corr_nodes_surp[nodes],'pval(Sp)':pval_nodes_surp[nodes], 'ROI name':[eval(shen268_lbl[str(n+1)][0])['name'] for n in nodes]}).sort_values(by=['rcoef(Sp)'],\n",
    "ascending = False)"
   ],
   "outputs": [],
   "metadata": {}
  },
  {
   "cell_type": "code",
   "execution_count": null,
   "source": [
    "#ALL OTHER MOVIES\n",
    "#plt.hist(np.nanmean(all_coefs_run,axis=(0,2)),label='all nodes')\n",
    "other_movies = [0,1,2,3,4,5,6,7,9]\n",
    "arr_ = all_coefs_run[:,:,other_movies]\n",
    "plt.hist(np.nanmean(arr_[:,pval_nodes_allother_lme_run<.05,:],axis=(0,2)),label='Mean slope beta, nodes\\nwith sig. correl (p<.05)',color = [.7,.7,.7])\n",
    "plt.hist(np.nanmean(arr_[:,pval_nodes_fdr_allother_lme_run,:],axis=(0,2)),label='Mean slope beta, nodes\\nwith sig correl (q<.05)',color = [.3,.3,.3])\n",
    "\n",
    "ymin,ymax =  plt.ylim()\n",
    "plt.vlines(np.nanmean(arr_[:,pval_nodes_all_lme_run<.05,:]),ymin,ymax,color= 'k',ls='dashed',label='Mean, p<.05 nodes')\n",
    "plt.vlines(np.nanmean(arr_[:,pval_nodes_fdr_all_lme_run,:]),ymin,ymax, color = 'k',ls='solid',label='Mean, q<.05 nodes')\n",
    "\n",
    "plt.legend(bbox_to_anchor =[1.01,1])\n",
    "plt.xlabel('Mean slope beta per node')\n",
    "plt.ylabel('Numnber of nodes')\n",
    "plt.title('ALL OTHER MOVIES')\n",
    "\n",
    "plt.xlim(-2,2)\n",
    "plt.ylim(0,30)\n",
    "\n",
    "coefs_ = np.array([np.ndarray.flatten(all_coefs_run[:,n,other_movies]) for n in np.where(pval_nodes_fdr_allother_lme_run)[0]]).T\n",
    "t,p=stats.ttest_1samp(coefs_,0,axis=0,nan_policy='omit')\n",
    "print(max(p))\n",
    "\n",
    "coefs_ = np.array([np.ndarray.flatten(all_coefs_run[:,n,other_movies]) for n in np.where(pval_nodes_allother_lme_run<.05)[0]]).T\n",
    "t,p=stats.ttest_1samp(coefs_,0,axis=0,nan_policy='omit')\n",
    "print(max(p))\n",
    "\n",
    "coefs_ = np.array([np.ndarray.flatten(all_coefs_run[:,n,other_movies]) for n in range(268)]).T\n",
    "t,p=stats.ttest_1samp(coefs_,0,axis=0,nan_policy='omit')\n",
    "print(np.where(p>.05)[0])\n",
    "\n",
    "# for all of the orange and green nodes, mean sig >0, and most nodes across all 268 too - so the negative correlations do show lower activation "
   ],
   "outputs": [],
   "metadata": {}
  },
  {
   "cell_type": "code",
   "execution_count": null,
   "source": [
    "print(len(np.where(pval_nodes_fdr_all_lme_run)[0]), 'nodes')\n",
    "\n",
    "plt.figure(1,figsize=(10,5))\n",
    "plt.suptitle('ALL MOVIES, trait-fMRI (slope beta) reg coefft\\nacross all 268 nodes')\n",
    "plt.subplot(121)\n",
    "plt.hist(coef_nodes_all_lme_run,bins=20,orientation='horizontal',color='grey')\n",
    "_, pval = stats.ttest_1samp(coef_nodes_all_lme_run,0)\n",
    "avg  = np.nanmean(coef_nodes_all_lme_run)\n",
    "xmin,xmax = plt.xlim()\n",
    "plt.hlines(avg,xmin,xmax,color = 'orange',label = f'Mean= {avg:.4f},\\n(p={pval:.1e})')\n",
    "#plt.ylim(-1,1)\n",
    "plt.ylabel('lme  coefft',fontsize=20)\n",
    "plt.xlabel('Nr. of nodes')\n",
    "plt.title('Histogram')\n",
    "plt.ylim(-.006,.006)\n",
    "plt.legend()\n",
    "\n",
    "\n",
    "plt.subplot(122)\n",
    "plt.boxplot(coef_nodes_all_lme_run,vert=True)\n",
    "plt.xticks([])\n",
    "#plt.ylim(-1,1)\n",
    "plt.title('Boxplot')\n",
    "plt.ylabel('lme  coefft',fontsize=20)\n",
    "plt.xlim(.8,1.2)\n",
    "plt.ylim(-.006,.006)\n",
    "plt.tight_layout()\n"
   ],
   "outputs": [],
   "metadata": {}
  },
  {
   "cell_type": "code",
   "execution_count": null,
   "source": [
    "print(len(np.where(pval_nodes_fdr_allother_lme_run)[0]), 'nodes')\n",
    "\n",
    "plt.figure(1,figsize=(10,5))\n",
    "plt.suptitle('ALL OTHER MOVIES, trait-fMRI (slope beta) reg coefft\\nacross all 268 nodes')\n",
    "plt.subplot(121)\n",
    "plt.hist(coef_nodes_allother_lme_run,bins=20,orientation='horizontal',color='grey')\n",
    "_, pval = stats.ttest_1samp(coef_nodes_allother_lme_run,0)\n",
    "avg  = np.nanmean(coef_nodes_allother_lme_run)\n",
    "xmin,xmax = plt.xlim()\n",
    "plt.hlines(avg,xmin,xmax,color = 'orange',label = f'Mean= {avg:.4f},\\n(p={pval:.1e})')\n",
    "#plt.ylim(-1,1)\n",
    "plt.ylabel('lme  coefft',fontsize=20)\n",
    "plt.xlabel('Nr. of nodes')\n",
    "plt.title('Histogram')\n",
    "plt.legend()\n",
    "plt.ylim(-.006,.006)\n",
    "\n",
    "plt.subplot(122)\n",
    "plt.boxplot(coef_nodes_allother_lme_run,vert=True)\n",
    "plt.xticks([])\n",
    "#plt.ylim(-1,1)\n",
    "plt.title('Boxplot')\n",
    "plt.ylabel('lme  coefft',fontsize=20)\n",
    "plt.xlim(.8,1.2)\n",
    "plt.tight_layout()\n",
    "plt.ylim(-.006,.006)"
   ],
   "outputs": [],
   "metadata": {}
  },
  {
   "cell_type": "code",
   "execution_count": null,
   "source": [
    "print([i for i in behav_data.columns])"
   ],
   "outputs": [],
   "metadata": {}
  },
  {
   "cell_type": "markdown",
   "source": [
    "# Plot brain maps"
   ],
   "metadata": {}
  },
  {
   "cell_type": "code",
   "execution_count": null,
   "source": [],
   "outputs": [],
   "metadata": {}
  },
  {
   "cell_type": "code",
   "execution_count": null,
   "source": [
    "pval_nodes_all_lme_run.shape"
   ],
   "outputs": [],
   "metadata": {}
  },
  {
   "cell_type": "code",
   "execution_count": null,
   "source": [
    "print('all nodes:',min(coef_nodes_all_lme_run),max(coef_nodes_all_lme_run))\n",
    "print('sig unc nodes:',min(coef_nodes_all_lme_run[pval_nodes_all_lme_run<.05]),max(coef_nodes_all_lme_run[pval_nodes_all_lme_run<.05]))"
   ],
   "outputs": [],
   "metadata": {}
  },
  {
   "cell_type": "code",
   "execution_count": null,
   "source": [
    "# surprising\n",
    "coords = [-50,-40,-25,-10,0,10,25,40,55] # initial exploration\n",
    "#coords = [-40,-30,-20] # for the final version\n",
    "cmap = 'RdBu_r'\n",
    "   \n",
    "vmin,vmax = -.006,.006\n",
    "\n",
    "#txt = r\"$\\overline{\\beta}(''Social''-''Non-social'')$\"\n",
    "txt = 'reg coefft (ASR_Intn_T vs.\\nslope beta)'\n",
    "\n",
    "nodes = np.zeros((268,))\n",
    "nodes[pval_nodes_all_lme_run<.05] = coef_nodes_all_lme_run[pval_nodes_all_lme_run<.05]\n",
    "title_txt = f'ALL MOVIES (nodes unc.)'\n",
    "\n",
    "contours_mat = np.zeros((268,))\n",
    "contours_mat[pval_nodes_fdr_all_lme_run] = 1\n",
    "#contours_mat[nodes_coaxbill_rand_all] = 2\n",
    "contours_mat[nodes_coaxbill_rand_all] = 2\n",
    "\n",
    "levels = [1,2]\n",
    "labels = ['q<.05','GLM nodes']\n",
    "colors = [[0,0,0,1],[.5,0,.5,1]]\n",
    "params = {'levels':levels, 'labels': labels, 'colors': colors, 'coords':coords}\n",
    "text_x = .1\n",
    "plot_result_brainmaps(nodes,vmin,vmax,txt,title_txt,contours_mat,pval_nodes_fdr_all_lme_run,nodes_coaxbill_rand_all,params,text_x)\n"
   ],
   "outputs": [],
   "metadata": {}
  },
  {
   "cell_type": "code",
   "execution_count": null,
   "source": [
    "[n for n in range(268) if 'amygdala' in str.lower(eval(shen268_lbl[str(n+1)][0])['name']) ]"
   ],
   "outputs": [],
   "metadata": {}
  },
  {
   "cell_type": "code",
   "execution_count": null,
   "source": [
    "nodes = np.where(pval_nodes_all_lme_run<.05)[0]\n",
    "print(len(nodes))\n",
    "[n for n in nodes if 'amygdala' in str.lower(eval(shen268_lbl[str(n+1)][0])['name']) ]"
   ],
   "outputs": [],
   "metadata": {}
  },
  {
   "cell_type": "code",
   "execution_count": null,
   "source": [
    "\n",
    "#nodes = np.where(nodes_coaxbill_rand_all & (coef_nodes_all_lme_run>0))[0]\n",
    "nodes = np.where(pval_nodes_fdr_all_lme_run & (coef_nodes_all_lme_run>0))[0]\n",
    "#nodes = nodes[nodes>134]\n",
    "print(len(nodes))\n",
    "\n",
    "# writing our nodes common for RANDOM MECH and ALL MOVIES\n",
    "pd.DataFrame({'Node': [n+1 for n in nodes], 'reg coefft':coef_nodes_all_lme_run[nodes],'pval':pval_nodes_all_lme_run[nodes], 'ROI name':[eval(shen268_lbl[str(n+1)][0])['name'] for n in nodes]}).sort_values(by=['reg coefft'],ascending = False)"
   ],
   "outputs": [],
   "metadata": {}
  },
  {
   "cell_type": "code",
   "execution_count": null,
   "source": [
    "\n",
    "#nodes = np.where(nodes_coaxbill_rand_all & (coef_nodes_all_lme_run>0))[0]\n",
    "nodes = np.where((pval_nodes_all_lme_run<.05) & ~pval_nodes_fdr_all_lme_run & (coef_nodes_all_lme_run>0))[0]\n",
    "#nodes = nodes[nodes>134]\n",
    "print(len(nodes))\n",
    "\n",
    "# writing our nodes common for RANDOM MECH and ALL MOVIES\n",
    "pd.DataFrame({'Node': [n+1 for n in nodes], 'reg coefft':coef_nodes_all_lme_run[nodes],'pval':pval_nodes_all_lme_run[nodes], 'ROI name':[eval(shen268_lbl[str(n+1)][0])['name'] for n in nodes]}).sort_values(by=['reg coefft'],ascending = False)"
   ],
   "outputs": [],
   "metadata": {}
  },
  {
   "cell_type": "code",
   "execution_count": null,
   "source": [
    "coords = [-50,-40,-25,-10,0,10,25,40] # initial exploration\n",
    "#coords = [-40,-30,-20] # for the final version\n",
    "cmap = 'RdBu_r'\n",
    "   \n",
    "vmin,vmax = -.006,.006\n",
    "\n",
    "#txt = r\"$\\overline{\\beta}(''Social''-''Non-social'')$\"\n",
    "txt = 'reg coefft (ASR_Intn_T vs.\\nslope beta)'\n",
    "\n",
    "nodes = np.zeros((268,))\n",
    "nodes[pval_nodes_all_lme_run<.05] = coef_nodes_all_lme_run[pval_nodes_all_lme_run<.05]\n",
    "title_txt = f'ALL MOVIES (nodes unc.)'\n",
    "\n",
    "fig,ax = plt.subplots(nrows=1,ncols=4,figsize = (20,5),subplot_kw={'projection': '3d'})\n",
    "colors_glm_nodes = [[.1,.1,.1,1]]\n",
    "colors_fdr = ['k']#[[0,.5,0,1]]\n",
    "\n",
    "img = roi_to_brain(pd.Series(nodes), mask_x)\n",
    "ax_plot = plot_img(img.to_nifti(), display_mode = 'z',vmin = vmin, vmax = vmax, cut_coords =coords,cmap = cmap, bg_img = bg_img,colorbar= False,threshold = .0001)\n",
    "#ax_plot.add_contours(color_rois((nodes_coaxbill_rand_all)),linewidths=1, colors=colors_glm_nodes,linestyles='solid')\n",
    "ax_plot.add_contours(color_rois((pval_nodes_fdr_all_lme_run)),linewidths=1, colors=colors_fdr,linestyles='solid')\n",
    "#ax_plot.title(title_txt)\n",
    "#ax_plot._colorbar_ax.text(1,.8*vmax,txt,fontsize=20,fontdict = {'verticalalignment':'top','rotation':0})#get_legend()\n",
    "#plt.savefig(os.path.join(fig_save_loc,f'RAND/{resp_lbl[resp]}/axial.png'),dpi=300,bbox_inches='tight',facecolor='white', edgecolor='none')\n",
    "#plt.clf()\n",
    "\n",
    "#LH\n",
    "texture = vol_to_surf(color_rois(nodes), fsaverage.pial_left,interpolation='nearest',radius =1, n_samples=1)\n",
    "surf_plot1=plot_surf_roi(fsaverage.infl_left, texture, hemi='left',cmap = cmap, colorbar=False, symmetric_cmap=True, vmin = vmin, vmax = vmax,\n",
    "                            bg_map=fsaverage.sulc_left,axes=ax[0], title=title_txt)#,vol_to_surf_kwargs={\"n_samples\": 10, \"radius\": 10, \"interpolation\": \"nearest\",\"kind\":'ball'})\n",
    "\n",
    "#surf_plot1.axes[0].set_title(title_txt,fontsize=24,color='k',fontweight='bold')\n",
    "#texture_contour1 = vol_to_surf(color_rois(nodes_coaxbill_rand_all), fsaverage.pial_left,interpolation='nearest',radius =1, n_samples=1)\n",
    "#plot_surf_contours(fsaverage.infl_left, texture_contour1, axes = ax[0], figure=surf_plot1, legend=True,levels = [1], colors=colors_glm_nodes)\n",
    "texture_contour2 = vol_to_surf(color_rois(pval_nodes_fdr_all_lme_run), fsaverage.pial_left,interpolation='nearest',radius =1, n_samples=1)\n",
    "plot_surf_contours(fsaverage.infl_left, texture_contour2, axes = ax[0], figure=surf_plot1, legend=True,levels = [1], colors=colors_fdr)\n",
    "#plt.savefig(os.path.join(fig_save_loc,f'RAND/{resp_lbl[resp]}/left_lat.png'),dpi=300,bbox_inches='tight',facecolor='white', edgecolor='none')   \n",
    "#plt.clf()\n",
    "   \n",
    "\n",
    "surf_plot2=plot_surf_roi(fsaverage.infl_left, texture, hemi='left',cmap = cmap, colorbar=False, symmetric_cmap=True, vmin = vmin, vmax = vmax,\n",
    "                            bg_map=fsaverage.sulc_left, view = 'medial',axes=ax[1])#,vol_to_surf_kwargs={\"n_samples\": 10, \"radius\": 10, \"interpolation\": \"nearest\",\"kind\":'ball'})\n",
    "#plot_surf_contours(fsaverage.infl_left, texture_contour1, axes = ax[1], figure=surf_plot2, legend=True,levels = [1], colors=colors_glm_nodes)\n",
    "plot_surf_contours(fsaverage.infl_left, texture_contour2, axes = ax[1], figure=surf_plot2, legend=True,levels = [1], colors=colors_fdr)\n",
    "#plt.savefig(os.path.join(fig_save_loc,f'RAND/{resp_lbl[resp]}/left_med.png'),dpi=300,bbox_inches='tight',facecolor='white', edgecolor='none')\n",
    "#plt.clf()\n",
    "\n",
    "#RH\n",
    "texture = vol_to_surf(color_rois(nodes), fsaverage.pial_right,interpolation='nearest',radius =1, n_samples=1)\n",
    "surf_plot3=plot_surf_roi(fsaverage.infl_right, texture, hemi='right',cmap = cmap, colorbar=True,symmetric_cmap=True, vmin = vmin, vmax = vmax,\n",
    "                            bg_map=fsaverage.sulc_right,axes=ax[3])#,vol_to_surf_kwargs={\"n_samples\": 10, \"radius\": 10, \"interpolation\": \"nearest\",\"kind\":'ball'})\n",
    "surf_plot3.axes[4].text(.1,.5*vmax,s=txt,fontsize=20, fontdict = {'verticalalignment':'top','horizontalalignment':'left','rotation':0})\n",
    "#texture_contour1 = vol_to_surf(color_rois(nodes_coaxbill_rand_all), fsaverage.pial_right,interpolation='nearest',radius =1, n_samples=1)\n",
    "#plot_surf_contours(fsaverage.infl_right, texture_contour1, axes = ax[3],figure=surf_plot3, legend=True,levels = [1], colors=colors_glm_nodes) # ,labels=['GLM node']\n",
    "texture_contour2 = vol_to_surf(color_rois(pval_nodes_fdr_all_lme_run), fsaverage.pial_right,interpolation='nearest',radius =1, n_samples=1)\n",
    "plot_surf_contours(fsaverage.infl_right, texture_contour2, axes = ax[3],figure=surf_plot3, legend=True,levels = [1], labels=['q<..05'],colors=colors_fdr)\n",
    "#plt.savefig(os.path.join(fig_save_loc,f'RAND/{resp_lbl[resp]}/right_lat.png'),dpi=300,bbox_inches='tight',facecolor='white', edgecolor='none')\n",
    "#plt.clf()\n",
    "\n",
    "\n",
    "surf_plot4=plot_surf_roi(fsaverage.infl_right, texture, hemi='right',cmap = cmap, colorbar=False,symmetric_cmap=True, vmin = vmin, vmax = vmax,\n",
    "                            bg_map=fsaverage.sulc_right, view ='medial',axes=ax[2])#,vol_to_surf_kwargs={\"n_samples\": 10, \"radius\": 10, \"interpolation\": \"nearest\",\"kind\":'ball'})\n",
    "#plot_surf_contours(fsaverage.infl_right, texture_contour1, axes = ax[2], figure=surf_plot4, legend=True,levels = [1], colors=colors_glm_nodes)\n",
    "plot_surf_contours(fsaverage.infl_right, texture_contour2, axes = ax[2], figure=surf_plot4, legend=True,levels = [1], colors=colors_fdr)\n",
    "#plt.savefig(os.path.join(fig_save_loc,f'RAND/{resp_lbl[resp]}/right_med.png'),dpi=300,bbox_inches='tight',facecolor='white', edgecolor='none')\n",
    "#plt.clf()\n"
   ],
   "outputs": [],
   "metadata": {}
  },
  {
   "cell_type": "code",
   "execution_count": null,
   "source": [],
   "outputs": [],
   "metadata": {}
  },
  {
   "cell_type": "code",
   "execution_count": null,
   "source": [
    "print('all nodes:',min(coef_nodes_allother_lme_run),max(coef_nodes_allother_lme_run))\n",
    "print('sig unc nodes:',min(coef_nodes_allother_lme_run[pval_nodes_allother_lme_run<.05]),max(coef_nodes_allother_lme_run[pval_nodes_allother_lme_run<.05]))"
   ],
   "outputs": [],
   "metadata": {}
  },
  {
   "cell_type": "code",
   "execution_count": null,
   "source": [
    "len(np.where(pval_nodes_fdr_allother_lme_run)[0]),len(np.where(pval_nodes_fdr_movie)[0]), len(np.where(pval_nodes_fdr_allother_lme_run & pval_nodes_fdr_movie)[0])"
   ],
   "outputs": [],
   "metadata": {}
  },
  {
   "cell_type": "code",
   "execution_count": null,
   "source": [
    "coords = [-50,-40,-25,-10,0,10,25,40] # initial exploration\n",
    "#coords = [-40,-30,-20] # for the final version\n",
    "cmap = 'RdBu_r'\n",
    "   \n",
    "vmin,vmax = -.006,.006\n",
    "\n",
    "#txt = r\"$\\overline{\\beta}(''Social''-''Non-social'')$\"\n",
    "txt = 'reg coefft (ASR_Intn_T vs.\\nslope beta)'\n",
    "\n",
    "nodes = np.zeros((268,))\n",
    "nodes[pval_nodes_allother_lme_run<.05] = coef_nodes_allother_lme_run[pval_nodes_allother_lme_run<.05]\n",
    "title_txt = f'ALL EXCEPT SURPRISING-B (nodes unc.)'\n",
    "\n",
    "fig,ax = plt.subplots(nrows=1,ncols=4,figsize = (20,5),subplot_kw={'projection': '3d'})\n",
    "colors_glm_nodes = [[.1,.1,.1,1]]\n",
    "colors_fdr = ['k']#[[0,.5,0,1]]\n",
    "\n",
    "img = roi_to_brain(pd.Series(nodes), mask_x)\n",
    "ax_plot = plot_img(img.to_nifti(), display_mode = 'z',vmin = vmin, vmax = vmax, cut_coords =coords,cmap = cmap, bg_img = bg_img,colorbar= False,threshold = .0001)\n",
    "#ax_plot.add_contours(color_rois((nodes_coaxbill_rand_all)),linewidths=1, colors=colors_glm_nodes,linestyles='solid')\n",
    "ax_plot.add_contours(color_rois((pval_nodes_fdr_allother_lme_run)),linewidths=1, colors=colors_fdr,linestyles='solid')\n",
    "#ax_plot.title(title_txt)\n",
    "#ax_plot._colorbar_ax.text(1,.8*vmax,txt,fontsize=20,fontdict = {'verticalalignment':'top','rotation':0})#get_legend()\n",
    "#plt.savefig(os.path.join(fig_save_loc,f'RAND/{resp_lbl[resp]}/axial.png'),dpi=300,bbox_inches='tight',facecolor='white', edgecolor='none')\n",
    "#plt.clf()\n",
    "\n",
    "#LH\n",
    "texture = vol_to_surf(color_rois(nodes), fsaverage.pial_left,interpolation='nearest',radius =1, n_samples=1)\n",
    "surf_plot1=plot_surf_roi(fsaverage.infl_left, texture, hemi='left',cmap = cmap, colorbar=False, symmetric_cmap=True, vmin = vmin, vmax = vmax,\n",
    "                            bg_map=fsaverage.sulc_left,axes=ax[0], title=title_txt)#,vol_to_surf_kwargs={\"n_samples\": 10, \"radius\": 10, \"interpolation\": \"nearest\",\"kind\":'ball'})\n",
    "\n",
    "#surf_plot1.axes[0].set_title(title_txt,fontsize=24,color='k',fontweight='bold')\n",
    "#texture_contour1 = vol_to_surf(color_rois(nodes_coaxbill_rand_all), fsaverage.pial_left,interpolation='nearest',radius =1, n_samples=1)\n",
    "#plot_surf_contours(fsaverage.infl_left, texture_contour1, axes = ax[0], figure=surf_plot1, legend=True,levels = [1], colors=colors_glm_nodes)\n",
    "texture_contour2 = vol_to_surf(color_rois(pval_nodes_fdr_allother_lme_run), fsaverage.pial_left,interpolation='nearest',radius =1, n_samples=1)\n",
    "plot_surf_contours(fsaverage.infl_left, texture_contour2, axes = ax[0], figure=surf_plot1, legend=True,levels = [1], colors=colors_fdr)\n",
    "#plt.savefig(os.path.join(fig_save_loc,f'RAND/{resp_lbl[resp]}/left_lat.png'),dpi=300,bbox_inches='tight',facecolor='white', edgecolor='none')   \n",
    "#plt.clf()\n",
    "   \n",
    "\n",
    "surf_plot2=plot_surf_roi(fsaverage.infl_left, texture, hemi='left',cmap = cmap, colorbar=False, symmetric_cmap=True, vmin = vmin, vmax = vmax,\n",
    "                            bg_map=fsaverage.sulc_left, view = 'medial',axes=ax[1])#,vol_to_surf_kwargs={\"n_samples\": 10, \"radius\": 10, \"interpolation\": \"nearest\",\"kind\":'ball'})\n",
    "#plot_surf_contours(fsaverage.infl_left, texture_contour1, axes = ax[1], figure=surf_plot2, legend=True,levels = [1], colors=colors_glm_nodes)\n",
    "plot_surf_contours(fsaverage.infl_left, texture_contour2, axes = ax[1], figure=surf_plot2, legend=True,levels = [1], colors=colors_fdr)\n",
    "#plt.savefig(os.path.join(fig_save_loc,f'RAND/{resp_lbl[resp]}/left_med.png'),dpi=300,bbox_inches='tight',facecolor='white', edgecolor='none')\n",
    "#plt.clf()\n",
    "\n",
    "#RH\n",
    "texture = vol_to_surf(color_rois(nodes), fsaverage.pial_right,interpolation='nearest',radius =1, n_samples=1)\n",
    "surf_plot3=plot_surf_roi(fsaverage.infl_right, texture, hemi='right',cmap = cmap, colorbar=True,symmetric_cmap=True, vmin = vmin, vmax = vmax,\n",
    "                            bg_map=fsaverage.sulc_right,axes=ax[3])#,vol_to_surf_kwargs={\"n_samples\": 10, \"radius\": 10, \"interpolation\": \"nearest\",\"kind\":'ball'})\n",
    "surf_plot3.axes[4].text(.1,.5*vmax,s=txt,fontsize=20, fontdict = {'verticalalignment':'top','horizontalalignment':'left','rotation':0})\n",
    "#texture_contour1 = vol_to_surf(color_rois(nodes_coaxbill_rand_all), fsaverage.pial_right,interpolation='nearest',radius =1, n_samples=1)\n",
    "#plot_surf_contours(fsaverage.infl_right, texture_contour1, axes = ax[3],figure=surf_plot3, legend=True,levels = [1], colors=colors_glm_nodes) # ,labels=['GLM node']\n",
    "texture_contour2 = vol_to_surf(color_rois(pval_nodes_fdr_allother_lme_run), fsaverage.pial_right,interpolation='nearest',radius =1, n_samples=1)\n",
    "plot_surf_contours(fsaverage.infl_right, texture_contour2, axes = ax[3],figure=surf_plot3, legend=True,levels = [1], labels=['q<..05'],colors=colors_fdr)\n",
    "#plt.savefig(os.path.join(fig_save_loc,f'RAND/{resp_lbl[resp]}/right_lat.png'),dpi=300,bbox_inches='tight',facecolor='white', edgecolor='none')\n",
    "#plt.clf()\n",
    "\n",
    "surf_plot4=plot_surf_roi(fsaverage.infl_right, texture, hemi='right',cmap = cmap, colorbar=False,symmetric_cmap=True, vmin = vmin, vmax = vmax,\n",
    "                            bg_map=fsaverage.sulc_right, view ='medial',axes=ax[2])#,vol_to_surf_kwargs={\"n_samples\": 10, \"radius\": 10, \"interpolation\": \"nearest\",\"kind\":'ball'})\n",
    "#plot_surf_contours(fsaverage.infl_right, texture_contour1, axes = ax[2], figure=surf_plot4, legend=True,levels = [1], colors=colors_glm_nodes)\n",
    "plot_surf_contours(fsaverage.infl_right, texture_contour2, axes = ax[2], figure=surf_plot4, legend=True,levels = [1], colors=colors_fdr)\n",
    "#plt.savefig(os.path.join(fig_save_loc,f'RAND/{resp_lbl[resp]}/right_med.png'),dpi=300,bbox_inches='tight',facecolor='white', edgecolor='none')\n",
    "#plt.clf()\n"
   ],
   "outputs": [],
   "metadata": {}
  },
  {
   "cell_type": "code",
   "execution_count": null,
   "source": [
    "[col for col in behav_data if col.startswith('ASR_Intn')]"
   ],
   "outputs": [],
   "metadata": {}
  },
  {
   "cell_type": "code",
   "execution_count": null,
   "source": [
    "behav_data.columns"
   ],
   "outputs": [],
   "metadata": {}
  },
  {
   "cell_type": "code",
   "execution_count": null,
   "source": [
    "def intersection(lst1, lst2):\n",
    "    \n",
    "    if type(lst1) != 'list':\n",
    "        lst1 = list(lst1)\n",
    "    \n",
    "    if type(lst2) != 'list':\n",
    "        lst2 = list(lst2)\n",
    "    \n",
    "    lst3 = [value for value in lst1 if value in lst2]\n",
    "    return lst3\n",
    "\n",
    "nodes = intersection((np.where(pval_nodes_rand<.05)[0]),(np.where(pval_nodes_fdr_all_lme_run)[0]))\n",
    "\n",
    "# writing our nodes common for RANDOM MECH and ALL MOVIES\n",
    "pd.DataFrame({'Node': [n+1 for n in nodes], 'rcoef(Sp)':corr_nodes_rand[nodes],'pval(Sp)':pval_nodes_rand[nodes],  'rcoef(lme)':coef_nodes_all_lme_run[nodes],'pval(lme)':pval_nodes_all_lme_run[nodes], \n",
    "'ROI name':[eval(shen268_lbl[str(n+1)][0])['name'] for n in nodes]}).sort_values(by=['rcoef(Sp)'],\n",
    "ascending = False)\n"
   ],
   "outputs": [],
   "metadata": {}
  },
  {
   "cell_type": "code",
   "execution_count": null,
   "source": [
    "\n",
    "nodes2 = intersection((np.where(pval_nodes_rand<.05)[0]),(np.where(pval_nodes_all_lme_run)[0]))\n",
    "\n",
    "# writing our nodes common for RANDOM MECH and ALL MOVIES\n",
    "pd.DataFrame({'Node': [n+1 for n in nodes2], 'RANDOM MECH rcoef(Sp)':corr_nodes_rand[nodes2],'RANDOM MECH pval(Sp)':pval_nodes_rand[nodes2],  'ALL rcoef(lme)':coef_nodes_all_lme_run[nodes2],'ALL pval(lme)':pval_nodes_all_lme_run[nodes2], \n",
    "'ROI name':[eval(shen268_lbl[str(n+1)][0])['name'] for n in nodes2]}).sort_values(by=['RANDOM MECH rcoef(Sp)'],\n",
    "ascending = False)"
   ],
   "outputs": [],
   "metadata": {}
  },
  {
   "cell_type": "code",
   "execution_count": null,
   "source": [
    "x,y = stats.zscore(corr_nodes_rand),stats.zscore(coef_nodes_all_lme_run)\n",
    "\n",
    "fig1 = plt.figure(1,figsize=(4,4))\n",
    "ax = fig1.add_subplot(111)\n",
    "plt.scatter(x,y,marker='.',color='grey')\n",
    "plt.scatter(x[nodes],y[nodes],marker='o',color='k')\n",
    "ax.set_aspect('equal')\n",
    "plt.xlim(-5,5)\n",
    "plt.ylim(-5,5)\n",
    "plt.xlabel('Z(corr coef.\\nRANDOM MECH)')\n",
    "plt.ylabel('Z(LME coef.\\nALL MOVIES)')\n",
    "rs,ps =  stats.spearmanr(corr_nodes_rand,coef_nodes_all_lme_run)\n",
    "plt.annotate(f'r_s = {rs:.2f}\\n(p={ps:.1g})', xy=(.05,.8), xycoords='axes fraction')\n",
    "plt.xticks([-5,-2.5,0,2.5,5])\n",
    "plt.yticks([-5,-2.5,0,2.5,5])"
   ],
   "outputs": [],
   "metadata": {}
  },
  {
   "cell_type": "code",
   "execution_count": null,
   "source": [],
   "outputs": [],
   "metadata": {}
  },
  {
   "cell_type": "markdown",
   "source": [
    "# additional exploratory analysis"
   ],
   "metadata": {}
  },
  {
   "cell_type": "code",
   "execution_count": null,
   "source": [
    "all_coefs_run.shape"
   ],
   "outputs": [],
   "metadata": {}
  },
  {
   "cell_type": "code",
   "execution_count": null,
   "source": [
    "# all\n",
    "\n",
    "corrtype='Spearman' # 'Pearson'\n",
    "\n",
    "x = \"slopeReg_node\"\n",
    "#y = \"Loneliness_Unadj\"\n",
    "y = \"ASR_Intn_T\"\n",
    "\n",
    "corr_nodes_all_sep,    pval_nodes_all_sep   =  [np.empty((268,10)) for _ in range(2)] # nodes * responses (non-social, social)\n",
    "corr_nodes_all_sep[:], pval_nodes_all_sep[:] = [np.nan] *2\n",
    "\n",
    "pval_nodes_fdr_all_sep = np.empty_like(pval_nodes_all_sep)\n",
    "pval_nodes_fdr_all_sep[:] = np.nan\n",
    "\n",
    "#rtemp,   ptemp    =  [np.empty((268,10)) for _ in range(2)] # nodes * responses (non-social, social)\n",
    "#rtemp[:],ptemp[:] = [np.nan] *2\n",
    "\n",
    "for n in range(268): \n",
    "    if n% 50 ==0:\n",
    "        print('node',n)\n",
    "\n",
    "    for m in range(10):\n",
    "\n",
    "        fMRI_data = pd.DataFrame({'Subject':sub_id_all,'slopeReg_node':all_coefs_run[:,n,m], 'responses':responses[:,m]})\n",
    "        fMRI_data.set_index(\"Subject\", inplace=True)\n",
    "        data = fMRI_data.join(behav_data, how='inner') # join betas and trait info\n",
    "        \n",
    "        inds = ~np.isnan(data[x]) & ~np.isnan(data[y]) #& ~np.isnan(data['responses'])# find rows where neither x or y is NaN\n",
    "        \n",
    "        # Calculate and print correlations\n",
    "        if corrtype == 'Pearson':\n",
    "            corr_nodes_all_sep[n,m], pval_nodes_all_sep[n,m] = stats.pearsonr(data[x][inds], data[y][inds])\n",
    "        elif corrtype =='Spearman':\n",
    "            corr_nodes_all_sep[n,m], pval_nodes_all_sep[n,m] = stats.spearmanr(data[x][inds], data[y][inds])\n",
    "            #rtemp[n,m],ptemp[n,m] = stats.pearsonr(data[x][inds], data[y][inds])\n",
    "\n",
    "for m in range(10):\n",
    "    pval_nodes_fdr_all_sep[:,m] = lsu(pval_nodes_all_sep[:,m],q=.05)\n",
    "    #ptemp_fdr = lsu(ptemp,q=.05)\n"
   ],
   "outputs": [],
   "metadata": {}
  },
  {
   "cell_type": "code",
   "execution_count": null,
   "source": [
    "pval_nodes_rand"
   ],
   "outputs": [],
   "metadata": {}
  },
  {
   "cell_type": "code",
   "execution_count": null,
   "source": [
    "pval_nodes_all_sep[:,8]"
   ],
   "outputs": [],
   "metadata": {}
  },
  {
   "cell_type": "code",
   "execution_count": null,
   "source": [
    " lsu(pval_nodes_all_sep[:,8],q=.05)"
   ],
   "outputs": [],
   "metadata": {}
  },
  {
   "cell_type": "code",
   "execution_count": null,
   "source": [
    "for m in range(10):\n",
    "    print('movie',m+1,np.where(pval_nodes_fdr_all_sep[:,m]))"
   ],
   "outputs": [],
   "metadata": {}
  },
  {
   "cell_type": "code",
   "execution_count": null,
   "source": [
    "len(np.where(pval_nodes_fdr_all_lme_run)[0])"
   ],
   "outputs": [],
   "metadata": {}
  },
  {
   "cell_type": "code",
   "execution_count": null,
   "source": [
    "np.where(pval_nodes_fdr_all_sep)"
   ],
   "outputs": [],
   "metadata": {}
  },
  {
   "cell_type": "code",
   "execution_count": null,
   "source": [
    "# nodes which show a diff between corr\"Social\" and corr\"Non-social\" for RANODM MECH and across nodes in the main GLM analysis\n",
    "print('movie 8')\n",
    "print('overlap with the main GLM nodes: unc.', len(np.where(nodes_coaxbill_rand_all & (pval_nodes_all[:,8]<.05))[0]) )\n",
    "print('overlap with the main GLM nodes: fdr.', len(np.where(nodes_coaxbill_rand_all & (pval_nodes_fdr_all[:,8]==1))[0]) )"
   ],
   "outputs": [],
   "metadata": {}
  },
  {
   "cell_type": "code",
   "execution_count": null,
   "source": [
    "plt.hist(corr_nodes_all[(nodes_coaxbill_rand_all) & (pval_nodes_all[:,8]<.05),8])"
   ],
   "outputs": [],
   "metadata": {}
  },
  {
   "cell_type": "markdown",
   "source": [
    "# extra code"
   ],
   "metadata": {}
  },
  {
   "cell_type": "code",
   "execution_count": null,
   "source": [
    "coef_slope_rand = np.load(os.path.join(data_file_loc,'coefs_run_norm','slope_reg','coef_slopereg_runnorm_Random mechanical.npy'))\n",
    "coef_slope_fish = np.load(os.path.join(data_file_loc,'coefs_run_norm','slope_reg','coef_slopereg_runnorm_Fishing.npy'))\n",
    "coef_slope_coax = np.load(os.path.join(data_file_loc,'coefs_trial_norm','slope_reg','coef_slopereg_trialnorm_COAXING-B.npy'))\n",
    "coef_slope_bill = np.load(os.path.join(data_file_loc,'coefs_trial_norm','slope_reg','coef_slopereg_trialnorm_BILLIARD-A.npy'))\n",
    "coef_slope_all  = np.load(os.path.join(data_file_loc,'coef_slopereg_all.npy'))\n",
    "\n",
    "print(coef_slope_rand.shape)\n",
    "coef_slope_all.shape"
   ],
   "outputs": [],
   "metadata": {}
  },
  {
   "cell_type": "code",
   "execution_count": null,
   "source": [
    "print(np.where(coef_nodes_all_lme_run == max(coef_nodes_all_lme_run)),max(coef_nodes_all_lme_run))\n",
    "print(np.where(coef_nodes_all_lme_run == min(coef_nodes_all_lme_run)),min(coef_nodes_all_lme_run))\n",
    "\n",
    "data = pd.DataFrame({})#columns = ['Subject','coef','response','movie'])\n",
    "n = 49\n",
    "for m in range(10):\n",
    "    #fMRI_data = pd.DataFrame({'coefs': all_coefs[subs_10resp,n,m],'response':responses[subs_10resp,m], 'subID':sub_id_all[subs_10resp], 'movie':np.repeat(m,len(subs_10resp))})\n",
    "    fMRI_data = pd.DataFrame({'Subject':sub_id_all,'slopeReg_node': all_coefs_run[:,n,m], 'response': responses[:,m],'nresp':nresp, 'movie': np.repeat(m,1048)})\n",
    "    #fMRI_data = fMRI_data.loc[fMRI_data['nresp']==10,:]\n",
    "    fMRI_data.set_index(\"Subject\", inplace=True)\n",
    "    data_temp = fMRI_data.join(behav_data['ASR_Intn_T'], how='inner') # join betas and trait info\n",
    "    data = data.append(data_temp)#,ignore_index=True)\n",
    "data.reset_index(inplace=True)\n",
    "\n",
    "inds = ~np.isnan(data['slopeReg_node']) & ~np.isnan(data['ASR_Intn_T']) # find rows where neither x or y is NaN\n",
    "data = data.loc[inds,:]\n",
    "data['asr_z'] = stats.zscore(data['ASR_Intn_T'].values)\n",
    "explore_correlation('ASR_Intn_T','slopeReg_node',data)\n",
    "explore_correlation('asr_z','slopeReg_node',data)\n",
    "\n",
    "model1 = Lmer('slopeReg_node ~  ASR_Intn_T + (1|movie)', data=data) # ff: mean response, rf:subjID\n",
    "model1.fit(summary = False, verbose = False, no_warnings = True)\n",
    "\n",
    "model2 = Lmer('slopeReg_node ~  asr_z + (1|movie)', data=data) # ff: mean response, rf:subjID\n",
    "model2.fit(summary = False, verbose = False, no_warnings = True)\n",
    "#model.fit(factors={\"response\":[\"Non-social\",\"Social\"]},summary = False, verbose = False)\n",
    "\n",
    "#if (len(model1.warnings) == 0):\n",
    "#    coef_nodes_all_lr_run[n] = model1.coefs['Estimate'][1]\n",
    "#    pval_nodes_all_lr_run[n] = model1.coefs['P-val'][1]\n",
    "\n",
    "if (len(model1.warnings) == 0):\n",
    "    coef_1 = model1.coefs['Estimate'][1]\n",
    "    pval_1 = model1.coefs['P-val'][1]\n",
    "\n",
    "if (len(model2.warnings) == 0):\n",
    "    coef_2 = model2.coefs['Estimate'][1]\n",
    "    pval_2 = model2.coefs['P-val'][1]"
   ],
   "outputs": [],
   "metadata": {}
  },
  {
   "cell_type": "code",
   "execution_count": null,
   "source": [
    "def plot_brain_maps(nodes,vmin,vmax,txt,title_txt,contours_mat):\n",
    "    coords = [-50,-40,-25,-10,0,10,25,40] # initial exploration\n",
    "    #coords = [-40,-30,-20] # for the final version\n",
    "    cmap = 'RdBu_r'\n",
    "\n",
    "    colors = [[0,0,0,1],[0,1,0,1],[1,0,0,1]]\n",
    "\n",
    "\n",
    "    fig,ax = plt.subplots(nrows=1,ncols=4,figsize = (20,5),subplot_kw={'projection': '3d'})\n",
    "colors_glm_nodes = [[.1,.1,.1,1]]\n",
    "colors_fdr = ['k']#[[0,.5,0,1]]\n",
    "colors_intersection = ['r']\n",
    "\n",
    "colors = [[0,0,0,1],[0,1,0,1],[1,0,0,1]]\n",
    "\n",
    "img = roi_to_brain(pd.Series(nodes), mask_x)\n",
    "ax_plot = plot_img(img.to_nifti(), display_mode = 'z',vmin = vmin, vmax = vmax, cut_coords =coords,cmap = cmap, bg_img = bg_img,colorbar= False,threshold = .0001)\n",
    "#ax_plot.add_contours(color_rois((nodes_coaxbill_rand_all)),linewidths=1, colors=colors_glm_nodes,linestyles='solid')\n",
    "ax_plot.add_contours(color_rois((pval_nodes_fdr_surp)),linewidths=1, colors=colors_fdr,linestyles='solid')\n",
    "#ax_plot.title(title_txt)\n",
    "#ax_plot._colorbar_ax.text(1,.8*vmax,txt,fontsize=20,fontdict = {'verticalalignment':'top','rotation':0})#get_legend()\n",
    "#plt.savefig(os.path.join(fig_save_loc,f'RAND/{resp_lbl[resp]}/axial.png'),dpi=300,bbox_inches='tight',facecolor='white', edgecolor='none')\n",
    "#plt.clf()\n",
    "\n",
    "#LH\n",
    "texture = vol_to_surf(color_rois(nodes), fsaverage.pial_left,interpolation='nearest',radius =1, n_samples=1)\n",
    "surf_plot1=plot_surf_roi(fsaverage.infl_left, texture, hemi='left',cmap = cmap, colorbar=False, symmetric_cmap=True, vmin = vmin, vmax = vmax,\n",
    "                            bg_map=fsaverage.sulc_left,axes=ax[0], title=title_txt)#,vol_to_surf_kwargs={\"n_samples\": 10, \"radius\": 10, \"interpolation\": \"nearest\",\"kind\":'ball'})\n",
    "#surf_plot1.axes[0].set_title(title_txt,fontsize=24,color='k',fontweight='bold')\n",
    "#texture_contour1 = vol_to_surf(color_rois(nodes_coaxbill_rand_all), fsaverage.pial_left,interpolation='nearest',radius =1, n_samples=1)\n",
    "#plot_surf_contours(fsaverage.infl_left, texture_contour1, axes = ax[0], figure=surf_plot1, legend=True,levels = [1], colors=colors_glm_nodes)\n",
    "texture_contour2 = vol_to_surf(color_rois(contours_mat), fsaverage.pial_left,interpolation='nearest',radius =1, n_samples=1)\n",
    "plot_surf_contours(fsaverage.infl_left, texture_contour2, axes = ax[0], figure=surf_plot1, legend=True,levels = [1,2,3], colors=colors)\n",
    "#texture_contour2 = vol_to_surf(color_rois(pval_nodes_fdr_surp), fsaverage.pial_left,interpolation='nearest',radius =1, n_samples=1)\n",
    "#plot_surf_contours(fsaverage.infl_left, texture_contour2, axes = ax[0], figure=surf_plot1, legend=True,levels = [1], colors=colors_fdr)\n",
    "#plt.savefig(os.path.join(fig_save_loc,f'RAND/{resp_lbl[resp]}/left_lat.png'),dpi=300,bbox_inches='tight',facecolor='white', edgecolor='none')   \n",
    "#plt.clf()\n",
    "   \n",
    "\n",
    "surf_plot2=plot_surf_roi(fsaverage.infl_left, texture, hemi='left',cmap = cmap, colorbar=False, symmetric_cmap=True, vmin = vmin, vmax = vmax,\n",
    "                            bg_map=fsaverage.sulc_left, view = 'medial',axes=ax[1])#,vol_to_surf_kwargs={\"n_samples\": 10, \"radius\": 10, \"interpolation\": \"nearest\",\"kind\":'ball'})\n",
    "#plot_surf_contours(fsaverage.infl_left, texture_contour1, axes = ax[1], figure=surf_plot2, legend=True,levels = [1], colors=colors_glm_nodes)\n",
    "#plot_surf_contours(fsaverage.infl_left, texture_contour2, axes = ax[1], figure=surf_plot2, legend=True,levels = [1], colors=colors_fdr)\n",
    "plot_surf_contours(fsaverage.infl_left, texture_contour2, axes = ax[1], figure=surf_plot2, legend=True,levels = [1,2,3], colors=colors)\n",
    "#plt.savefig(os.path.join(fig_save_loc,f'RAND/{resp_lbl[resp]}/left_med.png'),dpi=300,bbox_inches='tight',facecolor='white', edgecolor='none')\n",
    "#plt.clf()\n",
    "\n",
    "#RH\n",
    "texture = vol_to_surf(color_rois(nodes), fsaverage.pial_right,interpolation='nearest',radius =1, n_samples=1)\n",
    "surf_plot3=plot_surf_roi(fsaverage.infl_right, texture, hemi='right',cmap = cmap, colorbar=True,symmetric_cmap=True, vmin = vmin, vmax = vmax,\n",
    "                            bg_map=fsaverage.sulc_right,axes=ax[3])#,vol_to_surf_kwargs={\"n_samples\": 10, \"radius\": 10, \"interpolation\": \"nearest\",\"kind\":'ball'})\n",
    "surf_plot3.axes[4].text(2,.5*vmax,s=txt,fontsize=20, fontdict = {'verticalalignment':'top','horizontalalignment':'left','rotation':0})\n",
    "#texture_contour1 = vol_to_surf(color_rois(nodes_coaxbill_rand_all), fsaverage.pial_right,interpolation='nearest',radius =1, n_samples=1)\n",
    "#plot_surf_contours(fsaverage.infl_right, texture_contour1, axes = ax[3],figure=surf_plot3, legend=True,levels = [1], colors=colors_glm_nodes) # ,labels=['GLM node']\n",
    "#texture_contour2 = vol_to_surf(color_rois(pval_nodes_fdr_surp), fsaverage.pial_right,interpolation='nearest',radius =1, n_samples=1)\n",
    "texture_contour2 = vol_to_surf(color_rois(contours_mat), fsaverage.pial_right,interpolation='nearest',radius =1, n_samples=1)\n",
    "plot_surf_contours(fsaverage.infl_right, texture_contour2, axes = ax[3], figure=surf_plot4, legend=True,levels = [1,2,3], colors=colors)\n",
    "#plot_surf_contours(fsaverage.infl_right, texture_contour2, axes = ax[3],figure=surf_plot3, legend=True,levels = [1], labels=['q<..05'],colors=colors_fdr)\n",
    "#plt.savefig(os.path.join(fig_save_loc,f'RAND/{resp_lbl[resp]}/right_lat.png'),dpi=300,bbox_inches='tight',facecolor='white', edgecolor='none')\n",
    "#plt.clf()\n",
    "\n",
    "\n",
    "surf_plot4=plot_surf_roi(fsaverage.infl_right, texture, hemi='right',cmap = cmap, colorbar=False,symmetric_cmap=True, vmin = vmin, vmax = vmax,\n",
    "                            bg_map=fsaverage.sulc_right, view ='medial',axes=ax[2])#,vol_to_surf_kwargs={\"n_samples\": 10, \"radius\": 10, \"interpolation\": \"nearest\",\"kind\":'ball'})\n",
    "#plot_surf_contours(fsaverage.infl_right, texture_contour1, axes = ax[2], figure=surf_plot4, legend=True,levels = [1], colors=colors_glm_nodes)\n",
    "#plot_surf_contours(fsaverage.infl_right, texture_contour2, axes = ax[2], figure=surf_plot4, legend=True,levels = [1], colors=colors_fdr)\n",
    "plot_surf_contours(fsaverage.infl_right, texture_contour2, axes = ax[2], figure=surf_plot4, legend=True,levels = [1,2,3], colors=colors)\n",
    "#plt.savefig(os.path.join(fig_save_loc,f'RAND/{resp_lbl[resp]}/right_med.png'),dpi=300,bbox_inches='tight',facecolor='white', edgecolor='none')\n",
    "#plt.clf()\n"
   ],
   "outputs": [],
   "metadata": {}
  },
  {
   "cell_type": "markdown",
   "source": [],
   "metadata": {}
  }
 ],
 "metadata": {
  "orig_nbformat": 4,
  "language_info": {
   "name": "python",
   "version": "3.7.9",
   "mimetype": "text/x-python",
   "codemirror_mode": {
    "name": "ipython",
    "version": 3
   },
   "pygments_lexer": "ipython3",
   "nbconvert_exporter": "python",
   "file_extension": ".py"
  },
  "kernelspec": {
   "name": "python3",
   "display_name": "Python 3.7.9 64-bit ('py37': conda)"
  },
  "interpreter": {
   "hash": "30fd9c97283ec1278eec212a8f8afab06ad903f38228c32cacb469eba8e56f4f"
  }
 },
 "nbformat": 4,
 "nbformat_minor": 2
}