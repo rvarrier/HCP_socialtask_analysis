{
 "cells": [
  {
   "cell_type": "code",
   "execution_count": null,
   "source": [
    "import numpy as np\n",
    "import scipy as sp\n",
    "from scipy import stats\n",
    "import pandas as pd\n",
    "from matplotlib import pyplot as plt\n",
    "import seaborn as sns\n",
    "\n",
    "plt.rcParams.update({'font.size': 16})"
   ],
   "outputs": [],
   "metadata": {}
  },
  {
   "cell_type": "markdown",
   "source": [
    "Read in restricted behavioral data:"
   ],
   "metadata": {}
  },
  {
   "cell_type": "code",
   "execution_count": null,
   "source": [
    "res_behav_data = pd.read_csv('../data/RESTRICTED_esfinn_11_21_2021_19_19_35.csv')\n",
    "res_behav_data.set_index(\"Subject\", inplace=True)\n",
    "res_behav_data.index = res_behav_data.index.map(str)\n",
    "print(res_behav_data.shape)\n",
    "res_behav_data.head()"
   ],
   "outputs": [],
   "metadata": {}
  },
  {
   "cell_type": "markdown",
   "source": [
    "Read in unrestricted behavioral data:"
   ],
   "metadata": {}
  },
  {
   "cell_type": "code",
   "execution_count": null,
   "source": [
    "unres_behav_data = pd.read_csv('../data/unrestricted_esfinn_11_21_2021_19_19_13.csv')\n",
    "unres_behav_data.set_index(\"Subject\", inplace=True)\n",
    "unres_behav_data.index = unres_behav_data.index.map(str)\n",
    "print(unres_behav_data.shape)\n",
    "unres_behav_data.head()"
   ],
   "outputs": [],
   "metadata": {}
  },
  {
   "cell_type": "markdown",
   "source": [
    "Combine restricted and unrestricted behavioral data into a single dataframe:"
   ],
   "metadata": {}
  },
  {
   "cell_type": "code",
   "execution_count": null,
   "source": [
    "behav_data = pd.concat([res_behav_data, unres_behav_data], axis=1)\n",
    "print(behav_data.shape)\n",
    "behav_data.head()"
   ],
   "outputs": [],
   "metadata": {}
  },
  {
   "cell_type": "markdown",
   "source": [
    "Read in FMRI data, join into single dataframe, then join this with the larger dataframe:"
   ],
   "metadata": {}
  },
  {
   "cell_type": "code",
   "execution_count": null,
   "source": [
    "data_file_loc = '/Users/f0053cz/Dropbox (Dartmouth College)/postdoc_Dartmouth/HCP/fMRIScipts/data'\n",
    "sub_id_all = np.load(os.path.join(data_file_loc,'sub_ID_all.npy'))\n",
    "sub_id_all = [str(i) for i in sub_id_all]\n",
    "print(len(sub_id_all),sub_id_all[:5])"
   ],
   "outputs": [],
   "metadata": {}
  },
  {
   "cell_type": "code",
   "execution_count": null,
   "source": [
    "# load behavioral responses too - to identify missed/invalid trials later - 1 for \"social\", 0 for \"nonsocial\" and 9 for \"unsure\", nan for missed response\n",
    "responses = np.load(os.path.join(data_file_loc,'responses.npy'))\n",
    "responses.shape # subs *movies"
   ],
   "outputs": [],
   "metadata": {}
  },
  {
   "cell_type": "code",
   "execution_count": null,
   "source": [
    "coef_slope_rand = np.load(os.path.join(data_file_loc,'coefs_run_norm','slope_reg','coef_slopereg_runnorm_Random mechanical.npy'))\n",
    "coef_slope_fish = np.load(os.path.join(data_file_loc,'coefs_run_norm','slope_reg','coef_slopereg_runnorm_Fishing.npy'))\n",
    "coef_slope_coax = np.load(os.path.join(data_file_loc,'coefs_trial_norm','slope_reg','coef_slopereg_trialnorm_COAXING-B.npy'))\n",
    "coef_slope_bill = np.load(os.path.join(data_file_loc,'coefs_trial_norm','slope_reg','coef_slopereg_trialnorm_BILLIARD-A.npy'))\n",
    "coef_slope_all  = np.load(os.path.join(data_file_loc,'coef_slopereg_all.npy'))\n",
    "\n",
    "print(coef_slope_rand.shape)\n",
    "coef_slope_all.shape"
   ],
   "outputs": [],
   "metadata": {}
  },
  {
   "cell_type": "markdown",
   "source": [
    "# Explore correlations between proportion of \"social\" responses and various trait phenotypes:"
   ],
   "metadata": {}
  },
  {
   "cell_type": "code",
   "execution_count": null,
   "source": [
    "from multipy.fdr import lsu\n",
    "corrtype='Spearman' # 'Pearson'\n"
   ],
   "outputs": [],
   "metadata": {}
  },
  {
   "cell_type": "code",
   "execution_count": null,
   "source": [
    "def explore_correlation(x, y, data,corrtype='Spearman'):\n",
    "    \"\"\"\n",
    "    Calculates and plots correlation between x and y variables in dataframe `data`, plus distribution of x and y \n",
    "    \"\"\"\n",
    "    sns.set_style(\"white\")\n",
    "    \n",
    "    inds = ~np.isnan(data[x]) & ~np.isnan(data[y]) # find rows where neither x or y is NaN\n",
    "\n",
    "    g = sns.jointplot(x=x, y=y, data=data, kind='reg', color='gray')\n",
    "\n",
    "    # Calculate and print correlations\n",
    "    if corrtype == 'Pearson':\n",
    "        rp, pp = stats.pearsonr(data[x][inds], data[y][inds])\n",
    "        g.ax_joint.annotate(f'r_p = {rp:.2f} (p={pp:.1g})', xy=(.05,.95), xycoords='axes fraction')\n",
    "    elif corrtype == 'Spearman':\n",
    "        rs, ps = stats.spearmanr(data[x][inds], data[y][inds])\n",
    "        g.ax_joint.annotate(f'r_s = {rs:.2f} (p={ps:.1g})', xy=(.05,.95), xycoords='axes fraction')\n",
    "    \n",
    "    return g"
   ],
   "outputs": [],
   "metadata": {}
  },
  {
   "cell_type": "code",
   "execution_count": null,
   "source": [
    "# same analysis as above, all nodes\n",
    "# RANDOM MECH\n",
    "\n",
    "x = \"slopeReg_node\"\n",
    "#y = \"Loneliness_Unadj\"\n",
    "y = \"ASR_Intn_T\"\n",
    "\n",
    "corr_nodes_rand,   pval_nodes_rand    =  [np.empty((268,2)) for _ in range(2)] # nodes * responses (non-social, social)\n",
    "corr_nodes_rand[:],pval_nodes_rand[:] = [np.nan] *2\n",
    "\n",
    "pval_nodes_corr_rand = np.empty_like(pval_nodes_rand)\n",
    "pval_nodes_corr_rand[:] = np.nan\n",
    "\n",
    "for n in range(268): \n",
    "    if n% 50 ==0:\n",
    "        print('node',n)\n",
    "\n",
    "    fMRI_data = pd.DataFrame({'Subject':sub_id_all,'slopeReg_node':coef_slope_rand[:,n], 'responses':responses[:,4]})\n",
    "    fMRI_data.set_index(\"Subject\", inplace=True)\n",
    "    data = fMRI_data.join(behav_data, how='inner') # join betas and trait info\n",
    "    #if n == 0:\n",
    "    #    print(data.shape)\n",
    "    #    print(data.head())\n",
    "    for resp in [0,1]:\n",
    "        d = data.loc[data['responses']==resp,:]\n",
    "        inds = ~np.isnan(d[x]) & ~np.isnan(d[y]) # find rows where neither x or y is NaN\n",
    "        \n",
    "        # Calculate and print correlations\n",
    "        if corrtype == 'Pearson':\n",
    "            corr_nodes_rand[n,resp], pval_nodes_rand[n,resp] = stats.pearsonr(d[x][inds], d[y][inds])\n",
    "        elif corrtype =='Spearman':\n",
    "            corr_nodes_rand[n,resp], pval_nodes_rand[n,resp] = stats.spearmanr(d[x][inds], d[y][inds])\n",
    "\n",
    "        pval_nodes_corr_rand[:,resp] = lsu(pval_nodes_rand[:,resp],q=.05)\n",
    "\n",
    "#print(np.where(pval_nodes_p_corr)[0])\n",
    "#pval_nodes_sp_corr = lsu(pval_nodes_sp,q=.05)\n",
    "#print(np.where(pval_nodes_sp_corr)[0])\n"
   ],
   "outputs": [],
   "metadata": {}
  },
  {
   "cell_type": "code",
   "execution_count": null,
   "source": [
    "resp_lbl"
   ],
   "outputs": [],
   "metadata": {}
  },
  {
   "cell_type": "code",
   "execution_count": null,
   "source": [
    "print('RANDOM MECH')\n",
    "\n",
    "print('p corr. \"Non-social\" responders',np.where(pval_nodes_corr_rand[:,0]))\n",
    "print('p corr. \"Social\" responders',np.where(pval_nodes_corr_rand[:,1]))\n",
    "\n",
    "print('p unc. \"Non-social\" responders',np.where(pval_nodes_rand[:,0]<.05))\n",
    "print('p unc. \"Social\" responders',np.where(pval_nodes_rand[:,1]<.05))\n",
    "\n"
   ],
   "outputs": [],
   "metadata": {}
  },
  {
   "cell_type": "code",
   "execution_count": null,
   "source": [
    "# same analysis as above, all nodes\n",
    "# FISHING\n",
    "\n",
    "x = \"slopeReg_node\"\n",
    "#y = \"Loneliness_Unadj\"\n",
    "y = \"ASR_Intn_T\"\n",
    "\n",
    "corr_nodes_fish,   pval_nodes_fish    =  [np.empty((268,2)) for _ in range(2)]\n",
    "corr_nodes_fish[:],pval_nodes_fish[:] = [np.nan] *2\n",
    "\n",
    "pval_nodes_corr_fish = np.empty_like(pval_nodes_fish)\n",
    "pval_nodes_corr_fish[:] = np.nan\n",
    "\n",
    "for n in range(268): \n",
    "    if n% 50 ==0:\n",
    "        print('node',n)\n",
    "\n",
    "    fMRI_data = pd.DataFrame({'Subject':sub_id_all,'slopeReg_node':coef_slope_fish[:,n], 'responses':responses[:,3]})\n",
    "    fMRI_data.set_index(\"Subject\", inplace=True)\n",
    "    data = fMRI_data.join(behav_data, how='inner') # join betas and trait info\n",
    "    #if n == 0:\n",
    "    #    print(data.shape)\n",
    "    #    print(data.head())\n",
    "    for resp in [0,1]:\n",
    "        d = data.loc[data['responses']==resp,:]\n",
    "        inds = ~np.isnan(d[x]) & ~np.isnan(d[y]) # find rows where neither x or y is NaN\n",
    "        \n",
    "        # Calculate and print correlations\n",
    "        if corrtype == 'Pearson':\n",
    "            corr_nodes_fish[n,resp], pval_nodes_fish[n,resp] = stats.pearsonr(d[x][inds], d[y][inds])\n",
    "        elif corrtype =='Spearman':\n",
    "            corr_nodes_fish[n,resp], pval_nodes_fish[n,resp] = stats.spearmanr(d[x][inds], d[y][inds])\n",
    "\n",
    "        pval_nodes_corr_fish[:,resp] = lsu(pval_nodes_fish[:,resp],q=.05)\n",
    "\n",
    "#print(np.where(pval_nodes_p_corr)[0])\n",
    "#pval_nodes_sp_corr = lsu(pval_nodes_sp,q=.05)\n",
    "#print(np.where(pval_nodes_sp_corr)[0])\n"
   ],
   "outputs": [],
   "metadata": {}
  },
  {
   "cell_type": "code",
   "execution_count": null,
   "source": [
    "print('FISHING')\n",
    "\n",
    "print('p corr. \"Non-social\" responders',np.where(pval_nodes_corr_fish[:,0]))\n",
    "print('p corr. \"Social\" responders',np.where(pval_nodes_corr_fish[:,1]))\n",
    "\n",
    "print('p unc. \"Non-social\" responders',np.where(pval_nodes_fish[:,0]<.05))\n",
    "print('p unc. \"Social\" responders',np.where(pval_nodes_fish[:,1]<.05))\n"
   ],
   "outputs": [],
   "metadata": {}
  },
  {
   "cell_type": "code",
   "execution_count": null,
   "source": [
    "# same analysis as above, all nodes\n",
    "# COAX-BILL\n",
    "\n",
    "x = \"slopeReg_diff\"\n",
    "#y = \"Loneliness_Unadj\"\n",
    "y = \"ASR_Intn_T\"\n",
    "\n",
    "corr_nodes_coaxbill,   pval_nodes_coaxbill    =  [np.empty((268,)) for _ in range(2)]\n",
    "corr_nodes_coaxbill[:],pval_nodes_coaxbill[:] = [np.nan] *2\n",
    "\n",
    "pval_nodes_corr_coaxbill = np.empty_like(pval_nodes_coaxbill)\n",
    "pval_nodes_corr_coaxbill[:] = np.nan\n",
    "\n",
    "for n in range(268): \n",
    "    if n% 50 ==0:\n",
    "        print('node',n)\n",
    "\n",
    "    fMRI_data = pd.DataFrame({'Subject':sub_id_all,'slopeReg_diff':coef_slope_coax[:,n]-coef_slope_bill[:,n], 'responses':(responses[:,0]==1)&(responses[:,1]==0)})\n",
    "    fMRI_data.set_index(\"Subject\", inplace=True)\n",
    "    data = fMRI_data.join(behav_data, how='inner') # join betas and trait info\n",
    "    #if n == 0:\n",
    "    #    print(data.shape)\n",
    "    #    print(data.head())\n",
    "    \n",
    "    d = data.loc[data['responses']==True,:]\n",
    "    inds = ~np.isnan(d[x]) & ~np.isnan(d[y]) # find rows where neither x or y is NaN\n",
    "    \n",
    "    # Calculate and print correlations\n",
    "    if corrtype == 'Pearson':\n",
    "        corr_nodes_coaxbill[n], pval_nodes_coaxbill[n] = stats.pearsonr(d[x][inds], d[y][inds])\n",
    "    elif corrtype =='Spearman':\n",
    "        corr_nodes_coaxbill[n], pval_nodes_coaxbill[n] = stats.spearmanr(d[x][inds], d[y][inds])\n",
    "\n",
    "    pval_nodes_corr_coaxbill = lsu(pval_nodes_coaxbill,q=.05)\n",
    "\n",
    "#print(np.where(pval_nodes_p_corr)[0])\n",
    "#pval_nodes_sp_corr = lsu(pval_nodes_sp,q=.05)\n",
    "#print(np.where(pval_nodes_sp_corr)[0])/\n"
   ],
   "outputs": [],
   "metadata": {}
  },
  {
   "cell_type": "code",
   "execution_count": null,
   "source": [
    "print('COAX-BILL')\n",
    "print('p corr. \"Social\"- \"Non-social\" responders',np.where(pval_nodes_corr_coaxbill))\n",
    "print('p unc. \"Social\" - \"Non-social\" responders',np.where(pval_nodes_coaxbill<.05))"
   ],
   "outputs": [],
   "metadata": {}
  },
  {
   "cell_type": "code",
   "execution_count": null,
   "source": [
    "# same analysis as above, all nodes\n",
    "# ALL MOVIES\n",
    "\n",
    "x = \"slopeReg_diff\"\n",
    "#y = \"Loneliness_Unadj\"\n",
    "y = \"ASR_Intn_T\"\n",
    "\n",
    "corr_nodes_all,   pval_nodes_all    =  [np.empty((268,)) for _ in range(2)]\n",
    "corr_nodes_all[:],pval_nodes_all[:] = [np.nan] *2\n",
    "\n",
    "pval_nodes_corr_all = np.empty_like(pval_nodes_all)\n",
    "pval_nodes_corr_all[:] = np.nan\n",
    "\n",
    "mean_coef_slope_all = np.nanmean(coef_slope_all,axis=2)\n",
    "mean_coef_slope_all.shape\n",
    "\n",
    "nresp = [len(np.where(~np.isnan(responses[i,:]))[0]) for i in range(responses.shape[0])]\n",
    "for n in range(268):\n",
    "    if n% 50 ==0:\n",
    "        print('node',n)\n",
    "\n",
    "    fMRI_data = pd.DataFrame({'Subject':sub_id_all,'slopeReg_diff':mean_coef_slope_all[:,n], 'responses':nresp})\n",
    "    fMRI_data.set_index(\"Subject\", inplace=True)\n",
    "    data = fMRI_data.join(behav_data, how='inner') # join betas and trait info\n",
    "    #if n == 0:\n",
    "    #    print(data.shape)\n",
    "    #    print(data.head())\n",
    "    \n",
    "    d = data.loc[data['responses']==10,:]\n",
    "    inds = ~np.isnan(d[x]) & ~np.isnan(d[y]) # find rows where neither x or y is NaN\n",
    "    \n",
    "    # Calculate and print correlations\n",
    "    if corrtype == 'Pearson':\n",
    "        corr_nodes_all[n], pval_nodes_all[n] = stats.pearsonr(d[x][inds], d[y][inds])\n",
    "    elif corrtype =='Spearman':\n",
    "        corr_nodes_all[n], pval_nodes_all[n] = stats.spearmanr(d[x][inds], d[y][inds])\n",
    "\n",
    "    pval_nodes_corr_all = lsu(pval_nodes_all,q=.05)\n",
    "\n",
    "#print(np.where(pval_nodes_p_corr)[0])\n",
    "#pval_nodes_sp_corr = lsu(pval_nodes_sp,q=.05)\n",
    "#print(np.where(pval_nodes_sp_corr)[0])\n"
   ],
   "outputs": [],
   "metadata": {}
  },
  {
   "cell_type": "code",
   "execution_count": null,
   "source": [
    "len(nresp)"
   ],
   "outputs": [],
   "metadata": {}
  },
  {
   "cell_type": "code",
   "execution_count": null,
   "source": [
    "nsubs = {'RAND':[len(np.where(responses[:,4]==0)[0]),len(np.where(responses[:,4]==1)[0])],\n",
    "'FISH':[len(np.where(responses[:,3]==0)[0]),len(np.where(responses[:,3]==1)[0])],\n",
    "'COAXBILL':len(np.where((responses[:,0]==1) & (responses[:,1]==0))[0]),\n",
    "'ALL':len(np.where(np.array(nresp)==10)[0])}\n",
    "nsubs"
   ],
   "outputs": [],
   "metadata": {}
  },
  {
   "cell_type": "code",
   "execution_count": null,
   "source": [
    "print('ALL MOVIES')\n",
    "\n",
    "print('p corr. \"Social\"- \"Non-social\" responders',np.where(pval_nodes_corr_all))\n",
    "print('p unc. \"Social\" - \"Non-social\" responders',np.where(pval_nodes_all<.05))"
   ],
   "outputs": [],
   "metadata": {}
  },
  {
   "cell_type": "code",
   "execution_count": null,
   "source": [
    "# What are the ranges of these correlations?\n",
    "\n",
    "for resp in [0,1]:\n",
    "    nmin,nmax = np.argmin(corr_nodes_rand[:,resp]),np.argmax(corr_nodes_rand[:,resp])\n",
    "    print(f'\\n\\nRANDOM MECH\\nresp:{resp}, min node={nmin+1}, rSp={corr_nodes_rand[nmin,resp]:.2f}, pSp = {pval_nodes_rand[nmin,resp]:.2e}')\n",
    "    print(f'resp:{resp}, max node={nmax+1}, rSp={corr_nodes_rand[nmax,resp]:.2f}, pSp = {pval_nodes_rand[nmax,resp]:.2e}')\n",
    "\n",
    "    nmin,nmax = np.argmin(corr_nodes_fish[:,resp]),np.argmax(corr_nodes_fish[:,resp])\n",
    "    print(f'\\n\\nFISHING\\nresp:{resp}, min node={nmin+1}, rSp={corr_nodes_fish[nmin,resp]:.2f}, pSp = {pval_nodes_fish[nmin,resp]:.2e}')\n",
    "    print(f'resp:{resp}, max node={nmax+1}, rSp={corr_nodes_fish[nmax,resp]:.2f}, pSp = {pval_nodes_fish[nmax,resp]:.2e}')"
   ],
   "outputs": [],
   "metadata": {}
  },
  {
   "cell_type": "code",
   "execution_count": null,
   "source": [
    "nmin,nmax = np.argmin(corr_nodes_coaxbill),np.argmax(corr_nodes_coaxbill)\n",
    "print(f'coaxbill, Node {nmin+1}, rSp={corr_nodes_coaxbill[nmin]:.2f}, pSp = {pval_nodes_coaxbill[nmin]:.2e}')\n",
    "print(f'coaxbill, Node {nmax+1}, rSp={corr_nodes_coaxbill[nmax]:.2f}, pSp = {pval_nodes_coaxbill[nmax]:.2e}')\n",
    "\n",
    "\n",
    "nmin,nmax = np.argmin(corr_nodes_all),np.argmax(corr_nodes_all)\n",
    "print(f'\\n\\nall movies, Node {nmin+1}, rSp={corr_nodes_coaxbill[nmin]:.2f}, pSp = {pval_nodes_coaxbill[nmin]:.2e}')\n",
    "print(f'all movies, Node {nmax+1}, rSp={corr_nodes_coaxbill[nmax]:.2f}, pSp = {pval_nodes_coaxbill[nmax]:.2e}')"
   ],
   "outputs": [],
   "metadata": {}
  },
  {
   "cell_type": "code",
   "execution_count": null,
   "source": [
    "shen268_lbl = pd.read_csv(os.path.join(data_file_loc,\"shen_dictionary.csv\"))\n",
    "shen268_lbl.head()"
   ],
   "outputs": [],
   "metadata": {}
  },
  {
   "cell_type": "code",
   "execution_count": null,
   "source": [
    "nodes_ind = np.where((pval_nodes_rand[:,1]<.05) & (pval_nodes_fish[:,1]<.05))[0] #& (pval_nodes_coaxbill<.05) & (pval_nodes_all<.05))[0]\n",
    "print(nodes_ind)\n",
    "for n in nodes_ind:\n",
    "    lbl = eval(shen268_lbl[str(n+1)][0])['name']\n",
    "\n",
    "print(lbl)"
   ],
   "outputs": [],
   "metadata": {}
  },
  {
   "cell_type": "code",
   "execution_count": null,
   "source": [
    "nodes_ind = np.where((pval_nodes_coaxbill<.05) & (pval_nodes_all<.05))[0]\n",
    "print(nodes_ind)\n",
    "for n in nodes_ind:\n",
    "    lbl = eval(shen268_lbl[str(n+1)][0])['name']\n",
    "\n",
    "print(lbl)"
   ],
   "outputs": [],
   "metadata": {}
  },
  {
   "cell_type": "code",
   "execution_count": null,
   "source": [
    "# for comparison with the other main figure if needed\n",
    "nodes_coaxbill_rand_all = np.load(os.path.join(data_file_loc,'nodes_coaxbill_rand_all.npy')) # sig nodes hihglighted in the first S>NS GLM\n",
    "len(np.where(nodes_coaxbill_rand_all)[0])"
   ],
   "outputs": [],
   "metadata": {}
  },
  {
   "cell_type": "markdown",
   "source": [
    "# Plot brain maps"
   ],
   "metadata": {}
  },
  {
   "cell_type": "code",
   "execution_count": null,
   "source": [
    "from nltools.data import Brain_Data\n",
    "from nltools.mask import expand_mask, roi_to_brain\n",
    "from nilearn.plotting import plot_glass_brain, plot_surf_roi,plot_stat_map,plot_img,plot_surf_contours\n",
    "from nilearn import datasets\n",
    "from nilearn.surface import vol_to_surf\n",
    "\n",
    "import nibabel as nib\n",
    "\n",
    "from nilearn.datasets import fetch_surf_fsaverage\n",
    "fsaverage = fetch_surf_fsaverage()\n",
    "\n",
    "#coords = [10*int(i) for i in np.linspace(-4,7,6)]\n",
    "bg_img = datasets.load_mni152_template()\n",
    "\n",
    "mask = Brain_Data('https://neurovault.org/media/images/8423/shen_2mm_268_parcellation.nii.gz')\n",
    "mask_x = expand_mask(mask)\n"
   ],
   "outputs": [],
   "metadata": {}
  },
  {
   "cell_type": "code",
   "execution_count": null,
   "source": [
    "def color_rois(values):\n",
    "    \n",
    "    \"\"\"\n",
    "    This function assumes you are passing a vector \"values\" with the same length as the number of nodes in the atlas.\n",
    "    \"\"\"\n",
    "    shen268 = nib.load(os.path.join(data_file_loc,\"shen_2mm_268_parcellation.nii.gz\"))\n",
    "    shen268_data = shen268.get_fdata()\n",
    "    img = np.zeros(shen268_data.shape)\n",
    "    #print(shen268_data.shape)\n",
    "    for roi in range(len(values)):\n",
    "        itemindex = np.where(shen268_data==roi+1) # find voxels in this node (add 1 to account for zero-indexing)\n",
    "        #print(len(itemindex[0]))\n",
    "        img[itemindex] = values[roi] # color them by the desired value \n",
    "\n",
    "    affine = shen268.affine\n",
    "    img_nii = nib.Nifti1Image(img, affine)\n",
    "    \n",
    "    return img_nii"
   ],
   "outputs": [],
   "metadata": {}
  },
  {
   "cell_type": "code",
   "execution_count": null,
   "source": [
    "plt.subplot(221)\n",
    "nodes = pval_nodes_rand[:,1] <.05\n",
    "plt.hist(corr_nodes_rand[nodes,1])\n",
    "plt.title('RANDOM MECH')\n",
    "plt.xlim(-.25,.25)\n",
    "plt.ylim(0,20)\n",
    "\n",
    "plt.subplot(222)\n",
    "nodes = pval_nodes_fish[:,0] <.05\n",
    "plt.hist(corr_nodes_fish[nodes,0])\n",
    "plt.title('FISHING')\n",
    "plt.xlim(-.25,.25)\n",
    "plt.ylim(0,20)\n",
    "\n",
    "plt.subplot(223)\n",
    "plt.hist(corr_nodes_coaxbill[pval_nodes_coaxbill<.05])\n",
    "plt.title('COAX-BILL')\n",
    "plt.xlim(-.25,.25)\n",
    "plt.ylim(0,20)\n",
    "\n",
    "plt.subplot(224)\n",
    "plt.hist(corr_nodes_all[pval_nodes_all<.05])\n",
    "plt.title('ALL MOVIES')\n",
    "plt.xlim(-.25,.25)\n",
    "plt.ylim(0,20)\n",
    "\n",
    "plt.tight_layout()"
   ],
   "outputs": [],
   "metadata": {}
  },
  {
   "cell_type": "code",
   "execution_count": null,
   "source": [
    "fig_save_loc = os.path.join('/Users/f0053cz/Dropbox (Dartmouth College)/postdoc_Dartmouth/HCP/paper_prep/figures/fig2_2_traits/fmri_results')"
   ],
   "outputs": [],
   "metadata": {}
  },
  {
   "cell_type": "code",
   "execution_count": null,
   "source": [
    "coords = [-50,-40,-25,-10,0,10,25,40] # initial exploration\n",
    "#coords = [-40,-30,-20] # for the final version\n",
    "\n",
    "txt = f'  {corrtype} r\\n  (p<.05 unc.)\\n {y} vs  \\n  'r\"$\\beta(''Social''-'$\"\"\\n  ''Non-social'')}\"\n",
    "title_txt = 'ALL MOVIES'\n",
    "\n",
    "nodes = np.zeros((268,))\n",
    "nodes[pval_nodes_all<.05] = corr_nodes_all[pval_nodes_all<.05]\n",
    "#vmin,vmax = -max(abs(nodes)),max(abs(nodes))\n",
    "vmin,vmax = -.32,.32\n",
    "cmap = 'RdBu_r'\n",
    "\n",
    "img = roi_to_brain(pd.Series(nodes), mask_x)\n",
    "ax_plot = plot_img(img.to_nifti(), display_mode = 'z',vmin = vmin, vmax = vmax, cut_coords =coords,cmap = cmap, bg_img = bg_img,colorbar= False,threshold = .0001)\n",
    "#ax_plot.title(title_txt,fontsize=24,bgcolor='k',color='w',fontweight='bold')\n",
    "#ax_plot._colorbar_ax.text(1,.8*vmax,txt,fontsize=20,fontdict = {'verticalalignment':'top','rotation':0})#get_legend()\n",
    "\n",
    "plt.savefig(os.path.join(fig_save_loc,f'ALL/axial.png'),dpi=300,bbox_inches='tight',facecolor='white', edgecolor='none')\n",
    "\n",
    "#LH\n",
    "texture = vol_to_surf(color_rois(nodes), fsaverage.pial_left,interpolation='nearest',radius =1, n_samples=1)\n",
    "surf_plot1=plot_surf_roi(fsaverage.infl_left, texture, hemi='left',cmap = cmap, colorbar=False, symmetric_cmap=True, vmin = vmin, vmax = vmax,\n",
    "                            bg_map=fsaverage.sulc_left)#,vol_to_surf_kwargs={\"n_samples\": 10, \"radius\": 10, \"interpolation\": \"nearest\",\"kind\":'ball'})\n",
    "#surf_plot1.axes[1].text(1,.8*vmax,s= txt,fontsize=20, fontdict = {'verticalalignment':'top','horizontalalignment':'left','rotation':0})\n",
    "surf_plot1.axes[0].set_title(title_txt,fontsize=24,color='k',fontweight='bold')\n",
    "#LH\n",
    "texture_contour = vol_to_surf(color_rois(nodes_coaxbill_rand_all), fsaverage.pial_left,interpolation='nearest',radius =1, n_samples=1)\n",
    "plot_surf_contours(fsaverage.infl_left, texture_contour, figure=surf_plot1, legend=True,levels = [1], colors=['k'])\n",
    "plt.savefig(os.path.join(fig_save_loc,f'ALL/left_lat.png'),dpi=300,bbox_inches='tight',facecolor='white', edgecolor='none')\n",
    "\n",
    "surf_plot2=plot_surf_roi(fsaverage.infl_left, texture, hemi='left',cmap = cmap, colorbar=False, symmetric_cmap=True, vmin = vmin, vmax = vmax,\n",
    "                            bg_map=fsaverage.sulc_left, view = 'medial')#,vol_to_surf_kwargs={\"n_samples\": 10, \"radius\": 10, \"interpolation\": \"nearest\",\"kind\":'ball'})\n",
    "#surf_plot2.axes[1].text(3,.8*vmax,s= txt,fontsize=20, fontdict = {'verticalalignment':'top','horizontalalignment':'left','rotation':0})\n",
    "#surf_plot2.axes[0].set_title(title_txt,fontsize=24,color='k',fontweight='bold')\n",
    "plot_surf_contours(fsaverage.infl_left, texture_contour, figure=surf_plot2, legend=True,levels = [1], colors=['k'])\n",
    "plt.savefig(os.path.join(fig_save_loc,f'ALL/left_med.png'),dpi=300,bbox_inches='tight',facecolor='white', edgecolor='none')\n",
    "\n",
    "#RH\n",
    "texture = vol_to_surf(color_rois(nodes), fsaverage.pial_right,interpolation='nearest',radius =1, n_samples=1)\n",
    "surf_plot3=plot_surf_roi(fsaverage.infl_right, texture, hemi='right',cmap = cmap, colorbar=True,symmetric_cmap=True, vmin = vmin, vmax = vmax,\n",
    "                            bg_map=fsaverage.sulc_right)#,vol_to_surf_kwargs={\"n_samples\": 10, \"radius\": 10, \"interpolation\": \"nearest\",\"kind\":'ball'})\n",
    "surf_plot3.axes[1].text(3,.8*vmax,s=txt,fontsize=20, fontdict = {'verticalalignment':'top','horizontalalignment':'left','rotation':0})\n",
    "#surf_plot3.axes[0].set_title(title_txt,fontsize=24,color='k',fontweight='bold')\n",
    "texture_contour = vol_to_surf(color_rois(nodes_coaxbill_rand_all), fsaverage.pial_right,interpolation='nearest',radius =1, n_samples=1)\n",
    "plot_surf_contours(fsaverage.infl_right, texture_contour, figure=surf_plot3, legend=True,levels = [1], colors=['k'])\n",
    "plt.savefig(os.path.join(fig_save_loc,f'ALL/right_lat.png'),dpi=300,bbox_inches='tight',facecolor='white', edgecolor='none')\n",
    "\n",
    "surf_plot4=plot_surf_roi(fsaverage.infl_right, texture, hemi='right',cmap = cmap, colorbar=False,symmetric_cmap=True, vmin = vmin, vmax = vmax,\n",
    "                            bg_map=fsaverage.sulc_right, view ='medial')#,vol_to_surf_kwargs={\"n_samples\": 10, \"radius\": 10, \"interpolation\": \"nearest\",\"kind\":'ball'})\n",
    "#surf_plot4.axes[1].text(3,.8*vmax,s=txt,fontsize=20, fontdict = {'verticalalignment':'top','horizontalalignment':'left','rotation':0})\n",
    "#surf_plot4.axes[0].set_title(title_txt,fontsize=24,color='k',fontweight='bold')\n",
    "plot_surf_contours(fsaverage.infl_right, texture_contour, figure=surf_plot4, legend=True,levels = [1], colors=['k'])\n",
    "plt.savefig(os.path.join(fig_save_loc,f'ALL/right_med.png'),dpi=300,bbox_inches='tight',facecolor='white', edgecolor='none')\n"
   ],
   "outputs": [],
   "metadata": {}
  },
  {
   "cell_type": "code",
   "execution_count": null,
   "source": [
    "coords = [-50,-40,-25,-10,0,10,25,40] # initial exploration\n",
    "#coords = [-40,-30,-20] # for the final version\n",
    "\n",
    "txt = f'  {corrtype} r\\n  (p<.05 unc.)\\n {y} vs  \\n  'r\"$\\overline{\\beta(''Social''-}$\" + '\\n  ' + r\"$\\overline{\\beta(''Non-social'')}$\"\n",
    "title_txt = 'COAX-BILL'\n",
    "\n",
    "nodes = np.zeros((268,))\n",
    "nodes[pval_nodes_coaxbill<.05] = corr_nodes_coaxbill[pval_nodes_coaxbill<.05]\n",
    "#vmin,vmax = -max(abs(nodes)),max(abs(nodes))\n",
    "vmin,vmax = -.32,.32\n",
    "\n",
    "cmap = 'RdBu_r'\n",
    "\n",
    "img = roi_to_brain(pd.Series(nodes), mask_x)\n",
    "ax_plot = plot_img(img.to_nifti(), display_mode = 'z',vmin = vmin, vmax = vmax, cut_coords =coords,cmap = cmap, bg_img = bg_img,colorbar= False,threshold = .0001)\n",
    "#ax_plot.title(title_txt,fontsize=24,bgcolor='k',color='w',fontweight='bold')\n",
    "#ax_plot._colorbar_ax.text(1,.8*vmax,txt,fontsize=20,fontdict = {'verticalalignment':'top','rotation':0})#get_legend()\n",
    "plt.savefig(os.path.join(fig_save_loc,f'COAXBILL/axial.png'),dpi=300,bbox_inches='tight',facecolor='white', edgecolor='none')\n",
    "\n",
    "#LH\n",
    "texture = vol_to_surf(color_rois(nodes), fsaverage.pial_left,interpolation='nearest',radius =1, n_samples=1)\n",
    "surf_plot1=plot_surf_roi(fsaverage.infl_left, texture, hemi='left',cmap = cmap, colorbar=False, symmetric_cmap=True, vmin = vmin, vmax = vmax,\n",
    "                            bg_map=fsaverage.sulc_left)#,vol_to_surf_kwargs={\"n_samples\": 10, \"radius\": 10, \"interpolation\": \"nearest\",\"kind\":'ball'})\n",
    "#surf_plot1.axes[1].text(1,.8*vmax,s= txt,fontsize=20, fontdict = {'verticalalignment':'top','horizontalalignment':'left','rotation':0})\n",
    "surf_plot1.axes[0].set_title(title_txt,fontsize=24,color='k',fontweight='bold')\n",
    "texture_contour = vol_to_surf(color_rois(nodes_coaxbill_rand_all), fsaverage.pial_left,interpolation='nearest',radius =1, n_samples=1)\n",
    "plot_surf_contours(fsaverage.infl_left, texture_contour, figure=surf_plot1, legend=True,levels = [1], colors=['k'])\n",
    "plt.savefig(os.path.join(fig_save_loc,f'COAXBILL/left_lat.png'),dpi=300,bbox_inches='tight',facecolor='white', edgecolor='none')\n",
    "\n",
    "surf_plot2=plot_surf_roi(fsaverage.infl_left, texture, hemi='left',cmap = cmap, colorbar=False, symmetric_cmap=True, vmin = vmin, vmax = vmax,\n",
    "                            bg_map=fsaverage.sulc_left, view = 'medial')#,vol_to_surf_kwargs={\"n_samples\": 10, \"radius\": 10, \"interpolation\": \"nearest\",\"kind\":'ball'})\n",
    "#surf_plot2.axes[1].text(3,.8*vmax,s= txt,fontsize=20, fontdict = {'verticalalignment':'top','horizontalalignment':'left','rotation':0})\n",
    "#surf_plot2.axes[0].set_title(title_txt,fontsize=24,color='k',fontweight='bold')\n",
    "plot_surf_contours(fsaverage.infl_left, texture_contour, figure=surf_plot2, legend=True,levels = [1], colors=['k'])\n",
    "plt.savefig(os.path.join(fig_save_loc,f'COAXBILL/left_med.png'),dpi=300,bbox_inches='tight',facecolor='white', edgecolor='none')\n",
    "\n",
    "#RH\n",
    "texture = vol_to_surf(color_rois(nodes), fsaverage.pial_right,interpolation='nearest',radius =1, n_samples=1)\n",
    "surf_plot3=plot_surf_roi(fsaverage.infl_right, texture, hemi='right',cmap = cmap, colorbar=True,symmetric_cmap=True, vmin = vmin, vmax = vmax,\n",
    "                            bg_map=fsaverage.sulc_right)#,vol_to_surf_kwargs={\"n_samples\": 10, \"radius\": 10, \"interpolation\": \"nearest\",\"kind\":'ball'})\n",
    "surf_plot3.axes[1].text(3,.8*vmax,s=txt,fontsize=20, fontdict = {'verticalalignment':'top','horizontalalignment':'left','rotation':0})\n",
    "#surf_plot3.axes[0].set_title(title_txt,fontsize=24,color='k',fontweight='bold')\n",
    "texture_contour = vol_to_surf(color_rois(nodes_coaxbill_rand_all), fsaverage.pial_right,interpolation='nearest',radius =1, n_samples=1)\n",
    "plot_surf_contours(fsaverage.infl_right, texture_contour, figure=surf_plot3, legend=True,levels = [1], colors=['k'])\n",
    "plt.savefig(os.path.join(fig_save_loc,f'COAXBILL/right_lat.png'),dpi=300,bbox_inches='tight',facecolor='white', edgecolor='none')\n",
    "\n",
    "surf_plot4=plot_surf_roi(fsaverage.infl_right, texture, hemi='right',cmap = cmap, colorbar=False,symmetric_cmap=True, vmin = vmin, vmax = vmax,\n",
    "                            bg_map=fsaverage.sulc_right, view ='medial')#,vol_to_surf_kwargs={\"n_samples\": 10, \"radius\": 10, \"interpolation\": \"nearest\",\"kind\":'ball'})\n",
    "#surf_plot4.axes[1].text(3,.8*vmax,s=txt,fontsize=20, fontdict = {'verticalalignment':'top','horizontalalignment':'left','rotation':0})\n",
    "#surf_plot4.axes[0].set_title(title_txt,fontsize=24,color='k',fontweight='bold')\n",
    "plot_surf_contours(fsaverage.infl_right, texture_contour, figure=surf_plot4, legend=True,levels = [1], colors=['k'])\n",
    "plt.savefig(os.path.join(fig_save_loc,f'COAXBILL/right_med.png'),dpi=300,bbox_inches='tight',facecolor='white', edgecolor='none')\n"
   ],
   "outputs": [],
   "metadata": {}
  },
  {
   "cell_type": "code",
   "execution_count": null,
   "source": [
    "coords = [-50,-40,-25,-10,0,10,25,40] # initial exploration\n",
    "#coords = [-40,-30,-20] # for the final version\n",
    "cmap = 'RdBu_r'\n",
    "\n",
    "resp_lbl = [\"Nonsocial\",  \"Social\"]\n",
    "    \n",
    "vmin,vmax = -.32,.32\n",
    "for resp in [0,1]:\n",
    "    if resp == 1:\n",
    "        txt = f'  {corrtype} r\\n  (p<.05 unc.)\\n {y} vs  'r\"$\\overline{\\beta}(''Social'')$\"\n",
    "    else:\n",
    "        txt = f'  {corrtype} r\\n  (p<.05 unc.)\\n {y} vs  'r\"$\\overline{\\beta}(''Non-social'')$\"\n",
    "\n",
    "    nodes = np.zeros((268,))\n",
    "    nodes[pval_nodes_rand[:,resp]<.05] = corr_nodes_rand[pval_nodes_rand[:,resp]<.05,resp]\n",
    "\n",
    "    title_txt = f'RANDOM MECH \"{resp_lbl[resp]}\"'\n",
    "\n",
    "    img = roi_to_brain(pd.Series(nodes), mask_x)\n",
    "    ax_plot = plot_img(img.to_nifti(), display_mode = 'z',vmin = vmin, vmax = vmax, cut_coords =coords,cmap = cmap, bg_img = bg_img,colorbar= False,threshold = .0001)\n",
    "    #ax_plot.title(title_txt,fontsize=24,bgcolor='k',color='w',fontweight='bold')\n",
    "    #ax_plot._colorbar_ax.text(1,.8*vmax,txt,fontsize=20,fontdict = {'verticalalignment':'top','rotation':0})#get_legend()\n",
    "    plt.savefig(os.path.join(fig_save_loc,f'RAND/{resp_lbl[resp]}/axial.png'),dpi=300,bbox_inches='tight',facecolor='white', edgecolor='none')\n",
    "\n",
    "    #LH\n",
    "    texture = vol_to_surf(color_rois(nodes), fsaverage.pial_left,interpolation='nearest',radius =1, n_samples=1)\n",
    "    surf_plot1=plot_surf_roi(fsaverage.infl_left, texture, hemi='left',cmap = cmap, colorbar=False, symmetric_cmap=True, vmin = vmin, vmax = vmax,\n",
    "                                bg_map=fsaverage.sulc_left)#,vol_to_surf_kwargs={\"n_samples\": 10, \"radius\": 10, \"interpolation\": \"nearest\",\"kind\":'ball'})\n",
    "    #surf_plot1.axes[1].text(3,.8*vmax,s= txt,fontsize=20, fontdict = {'verticalalignment':'top','horizontalalignment':'left','rotation':0})\n",
    "    surf_plot1.axes[0].set_title(title_txt,fontsize=24,color='k',fontweight='bold')\n",
    "    texture_contour = vol_to_surf(color_rois(nodes_coaxbill_rand_all), fsaverage.pial_left,interpolation='nearest',radius =1, n_samples=1)\n",
    "    plot_surf_contours(fsaverage.infl_left, texture_contour, figure=surf_plot1, legend=True,levels = [1], colors=['k'])\n",
    "    plt.savefig(os.path.join(fig_save_loc,f'RAND/{resp_lbl[resp]}/left_lat.png'),dpi=300,bbox_inches='tight',facecolor='white', edgecolor='none')   \n",
    "\n",
    "\n",
    "    surf_plot2=plot_surf_roi(fsaverage.infl_left, texture, hemi='left',cmap = cmap, colorbar=False, symmetric_cmap=True, vmin = vmin, vmax = vmax,\n",
    "                                bg_map=fsaverage.sulc_left, view = 'medial')#,vol_to_surf_kwargs={\"n_samples\": 10, \"radius\": 10, \"interpolation\": \"nearest\",\"kind\":'ball'})\n",
    "    #surf_plot2.axes[1].text(3,.8*vmax,s= txt,fontsize=20, fontdict = {'verticalalignment':'top','horizontalalignment':'left','rotation':0})\n",
    "    #surf_plot2.axes[0].set_title(title_txt,fontsize=24,color='k',fontweight='bold')\n",
    "    plot_surf_contours(fsaverage.infl_left, texture_contour, figure=surf_plot2, legend=True,levels = [1], colors=['k'])\n",
    "    plt.savefig(os.path.join(fig_save_loc,f'RAND/{resp_lbl[resp]}/left_med.png'),dpi=300,bbox_inches='tight',facecolor='white', edgecolor='none')\n",
    "\n",
    "    #RH\n",
    "    texture = vol_to_surf(color_rois(nodes), fsaverage.pial_right,interpolation='nearest',radius =1, n_samples=1)\n",
    "    surf_plot3=plot_surf_roi(fsaverage.infl_right, texture, hemi='right',cmap = cmap, colorbar=True,symmetric_cmap=True, vmin = vmin, vmax = vmax,\n",
    "                                bg_map=fsaverage.sulc_right)#,vol_to_surf_kwargs={\"n_samples\": 10, \"radius\": 10, \"interpolation\": \"nearest\",\"kind\":'ball'})\n",
    "    surf_plot3.axes[1].text(3,.8*vmax,s=txt,fontsize=20, fontdict = {'verticalalignment':'top','horizontalalignment':'left','rotation':0})\n",
    "    texture_contour = vol_to_surf(color_rois(nodes_coaxbill_rand_all), fsaverage.pial_right,interpolation='nearest',radius =1, n_samples=1)\n",
    "    plot_surf_contours(fsaverage.infl_right, texture_contour, figure=surf_plot3, legend=True,levels = [1], colors=['k'])\n",
    "    #surf_plot3.axes[0].set_title(title_txt,fontsize=24,color='k',fontweight='bold')\n",
    "    plt.savefig(os.path.join(fig_save_loc,f'RAND/{resp_lbl[resp]}/right_lat.png'),dpi=300,bbox_inches='tight',facecolor='white', edgecolor='none')\n",
    "\n",
    "\n",
    "    surf_plot4=plot_surf_roi(fsaverage.infl_right, texture, hemi='right',cmap = cmap, colorbar=False,symmetric_cmap=True, vmin = vmin, vmax = vmax,\n",
    "                                bg_map=fsaverage.sulc_right, view ='medial')#,vol_to_surf_kwargs={\"n_samples\": 10, \"radius\": 10, \"interpolation\": \"nearest\",\"kind\":'ball'})\n",
    "    #surf_plot4.axes[1].text(3,.8*vmax,s=txt,fontsize=20, fontdict = {'verticalalignment':'top','horizontalalignment':'left','rotation':0})\n",
    "    #surf_plot4.axes[0].set_title(title_txt,fontsize=24,color='k',fontweight='bold')\n",
    "    plot_surf_contours(fsaverage.infl_right, texture_contour, figure=surf_plot4, legend=True,levels = [1], colors=['k'])\n",
    "    plt.savefig(os.path.join(fig_save_loc,f'RAND/{resp_lbl[resp]}/right_med.png'),dpi=300,bbox_inches='tight',facecolor='white', edgecolor='none')\n",
    "\n"
   ],
   "outputs": [],
   "metadata": {}
  },
  {
   "cell_type": "code",
   "execution_count": null,
   "source": [
    "coords = [-50,-40,-25,-10,0,10,25,40] # initial exploration\n",
    "#coords = [-40,-30,-20] # for the final version\n",
    "cmap = 'RdBu_r'\n",
    "\n",
    "resp_lbl = [\"Nonsocial\",  \"Social\"]\n",
    "\n",
    "vmin,vmax = -.32,.32\n",
    "for resp in [0,1]:\n",
    "    if resp == 1:\n",
    "        txt = f'  {corrtype} r\\n  (p<.05 unc.)\\n {y} vs  'r\"$\\overline{\\beta}(''Social'')$\"\n",
    "    else:\n",
    "        txt = f'  {corrtype} r\\n  (p<.05 unc.)\\n {y} vs  'r\"$\\overline{\\beta}(''Non-social'')$\"\n",
    "\n",
    "    nodes = np.zeros((268,))\n",
    "    nodes[pval_nodes_fish[:,resp]<.05] = corr_nodes_fish[pval_nodes_fish[:,resp]<.05,resp]\n",
    "\n",
    "    title_txt = f'FISHING \"{resp_lbl[resp]}\"'\n",
    "    \n",
    "    img = roi_to_brain(pd.Series(nodes), mask_x)\n",
    "    ax_plot = plot_img(img.to_nifti(), display_mode = 'z',vmin = vmin, vmax = vmax, cut_coords =coords,cmap = cmap, bg_img = bg_img,colorbar= False,threshold = .0001)\n",
    "    #ax_plot.title(title_txt,fontsize=24,bgcolor='k',color='w',fontweight='bold')\n",
    "    #ax_plot._colorbar_ax.text(1,.8*vmax,txt,fontsize=20,fontdict = {'verticalalignment':'top','rotation':0})#get_legend()\n",
    "    plt.savefig(os.path.join(fig_save_loc,f'FISH/{resp_lbl[resp]}/axial.png'),dpi=300,bbox_inches='tight',facecolor='white', edgecolor='none')\n",
    "\n",
    "    #LH\n",
    "    texture = vol_to_surf(color_rois(nodes), fsaverage.pial_left,interpolation='nearest',radius =1, n_samples=1)\n",
    "    surf_plot1=plot_surf_roi(fsaverage.infl_left, texture, hemi='left',cmap = cmap, colorbar=False, symmetric_cmap=True, vmin = vmin, vmax = vmax,\n",
    "                                bg_map=fsaverage.sulc_left)#,vol_to_surf_kwargs={\"n_samples\": 10, \"radius\": 10, \"interpolation\": \"nearest\",\"kind\":'ball'})\n",
    "    #surf_plot1.axes[1].text(3,.8*vmax,s= txt,fontsize=20, fontdict = {'verticalalignment':'top','horizontalalignment':'left','rotation':0})\n",
    "    surf_plot1.axes[0].set_title(title_txt,fontsize=24,color='k',fontweight='bold')\n",
    "    texture_contour = vol_to_surf(color_rois(nodes_coaxbill_rand_all), fsaverage.pial_left,interpolation='nearest',radius =1, n_samples=1)\n",
    "    plot_surf_contours(fsaverage.infl_left, texture_contour, figure=surf_plot1, legend=True,levels = [1], colors=['k'])\n",
    "    plt.savefig(os.path.join(fig_save_loc,f'FISH/{resp_lbl[resp]}/left_lat.png'),dpi=300,bbox_inches='tight',facecolor='white', edgecolor='none')   \n",
    "\n",
    "\n",
    "    surf_plot2=plot_surf_roi(fsaverage.infl_left, texture, hemi='left',cmap = cmap, colorbar=False, symmetric_cmap=True, vmin = vmin, vmax = vmax,\n",
    "                                bg_map=fsaverage.sulc_left, view = 'medial')#,vol_to_surf_kwargs={\"n_samples\": 10, \"radius\": 10, \"interpolation\": \"nearest\",\"kind\":'ball'})\n",
    "    #surf_plot2.axes[1].text(3,.8*vmax,s= txt,fontsize=20, fontdict = {'verticalalignment':'top','horizontalalignment':'left','rotation':0})\n",
    "    #surf_plot2.axes[0].set_title(title_txt,fontsize=24,color='k',fontweight='bold')\n",
    "    plot_surf_contours(fsaverage.infl_left, texture_contour, figure=surf_plot2, legend=True,levels = [1], colors=['k'])\n",
    "    plt.savefig(os.path.join(fig_save_loc,f'FISH/{resp_lbl[resp]}/left_med.png'),dpi=300,bbox_inches='tight',facecolor='white', edgecolor='none')\n",
    "\n",
    "    #RH\n",
    "    texture = vol_to_surf(color_rois(nodes), fsaverage.pial_right,interpolation='nearest',radius =1, n_samples=1)\n",
    "    surf_plot3=plot_surf_roi(fsaverage.infl_right, texture, hemi='right',cmap = cmap, colorbar=True,symmetric_cmap=True, vmin = vmin, vmax = vmax,\n",
    "                                bg_map=fsaverage.sulc_right)#,vol_to_surf_kwargs={\"n_samples\": 10, \"radius\": 10, \"interpolation\": \"nearest\",\"kind\":'ball'})\n",
    "    surf_plot3.axes[1].text(3,.8*vmax,s=txt,fontsize=20, fontdict = {'verticalalignment':'top','horizontalalignment':'left','rotation':0})\n",
    "    #surf_plot3.axes[0].set_title(title_txt,fontsize=24,color='k',fontweight='bold')\n",
    "    texture_contour = vol_to_surf(color_rois(nodes_coaxbill_rand_all), fsaverage.pial_right,interpolation='nearest',radius =1, n_samples=1)\n",
    "    plot_surf_contours(fsaverage.infl_right, texture_contour, figure=surf_plot3, legend=True,levels = [1], colors=['k'])\n",
    "    plt.savefig(os.path.join(fig_save_loc,f'FISH/{resp_lbl[resp]}/right_lat.png'),dpi=300,bbox_inches='tight',facecolor='white', edgecolor='none')\n",
    "\n",
    "\n",
    "    surf_plot4=plot_surf_roi(fsaverage.infl_right, texture, hemi='right',cmap = cmap, colorbar=False,symmetric_cmap=True, vmin = vmin, vmax = vmax,\n",
    "                                bg_map=fsaverage.sulc_right, view ='medial')#,vol_to_surf_kwargs={\"n_samples\": 10, \"radius\": 10, \"interpolation\": \"nearest\",\"kind\":'ball'})\n",
    "    #surf_plot4.axes[1].text(3,.8*vmax,s=txt,fontsize=20, fontdict = {'verticalalignment':'top','horizontalalignment':'left','rotation':0})\n",
    "    #surf_plot4.axes[0].set_title(title_txt,fontsize=24,color='k',fontweight='bold')\n",
    "    plot_surf_contours(fsaverage.infl_right, texture_contour, figure=surf_plot4, legend=True,levels = [1], colors=['k'])\n",
    "    plt.savefig(os.path.join(fig_save_loc,f'FISH/{resp_lbl[resp]}/right_med.png'),dpi=300,bbox_inches='tight',facecolor='white', edgecolor='none')\n"
   ],
   "outputs": [],
   "metadata": {}
  },
  {
   "cell_type": "markdown",
   "source": [
    "# Plot correlations"
   ],
   "metadata": {}
  },
  {
   "cell_type": "code",
   "execution_count": null,
   "source": [
    "#\"Social\" alone\n",
    "nodes_ind = np.where( (pval_nodes_rand[:,1]<.05))[0]\n",
    "for n in nodes_ind:\n",
    "    lbl = eval(shen268_lbl[str(n+1)][0])['name']\n",
    "    print(n+1,lbl)"
   ],
   "outputs": [],
   "metadata": {}
  },
  {
   "cell_type": "code",
   "execution_count": null,
   "source": [
    "#\"Social\" alone\n",
    "nodes_ind = np.where( (pval_nodes_coaxbill<.05))[0]\n",
    "for n in nodes_ind:\n",
    "    lbl = eval(shen268_lbl[str(n+1)][0])['name']\n",
    "    print(n+1,np.round(corr_nodes_coaxbill[n],2),np.round(np.nanmean(coef_slope_coax[:,n]-coef_slope_bill[:,n]),2),lbl)"
   ],
   "outputs": [],
   "metadata": {}
  },
  {
   "cell_type": "code",
   "execution_count": null,
   "source": [
    "y"
   ],
   "outputs": [],
   "metadata": {}
  },
  {
   "cell_type": "code",
   "execution_count": null,
   "source": [
    "x = \"slopeReg_diff\"\n",
    "\n",
    "#for n in range(268):\n",
    "n=138\n",
    "#n=191 # left MTG\n",
    "hemi_txt = 'Right hem' if n < 134 else 'Left hem'\n",
    "lbl  = '\\n'.join(eval(shen268_lbl[str(n+1)][0])['name'].split(';'))\n",
    "fMRI_data = pd.DataFrame({'Subject':sub_id_all,'slopeReg_diff':coef_slope_coax[:,n]-coef_slope_bill[:,n], 'responses':(responses[:,0]==1)&(responses[:,1]==0)})\n",
    "fMRI_data.set_index(\"Subject\", inplace=True)\n",
    "data = fMRI_data.join(behav_data, how='inner') # join betas and trait info\n",
    "\n",
    "\n",
    "d = data.loc[data['responses']==True,:]\n",
    "g = explore_correlation(x,y,d)\n",
    "plt.xlabel('Beta COAX-BILL')\n",
    "plt.text(plt.xlim()[0],100,f'\"{resp_lbl[resp]}\" (n={d.shape[0]}),\\n Node{n+1}',fontweight = 'bold')\n",
    "plt.xlim(min(data[x]),max(data[x]))\n",
    "plt.ylim(min(data[y]),max(data[y]))\n",
    "plt.text(plt.xlim()[0],120,f'\"{resp_lbl[resp]}\",{hemi_txt}\\n{lbl}',fontweight='bold')\n",
    "#g.savefig(f'../results/RandBeta{n+1}_vs_loneliness.png')\n",
    "\n"
   ],
   "outputs": [],
   "metadata": {}
  },
  {
   "cell_type": "code",
   "execution_count": null,
   "source": [
    "np.where(pval_nodes_fish[:,0]<.05)[0]"
   ],
   "outputs": [],
   "metadata": {}
  },
  {
   "cell_type": "code",
   "execution_count": null,
   "source": [
    "np.where(pval_nodes_fish[:,1]<.05)[0]"
   ],
   "outputs": [],
   "metadata": {}
  },
  {
   "cell_type": "code",
   "execution_count": null,
   "source": [
    "np.where(pval_nodes_rand[:,1]<.05)"
   ],
   "outputs": [],
   "metadata": {}
  },
  {
   "cell_type": "code",
   "execution_count": null,
   "source": [
    "nodes_ind =np.where((pval_nodes_rand[:,1]<.05) & (pval_nodes_fish[:,0]<.05))[0]\n",
    "for n in nodes_ind:\n",
    "    lbl = eval(shen268_lbl[str(n+1)][0])['name']\n",
    "    print(n+1,lbl)"
   ],
   "outputs": [],
   "metadata": {}
  },
  {
   "cell_type": "code",
   "execution_count": null,
   "source": [
    "np.where((pval_nodes_rand[:,1]<.05) & (pval_nodes_fish[:,1]<.05))"
   ],
   "outputs": [],
   "metadata": {}
  },
  {
   "cell_type": "code",
   "execution_count": null,
   "source": [
    "x = \"slopeReg_node\"\n",
    "\n",
    "#for n in range(268):\n",
    "n=84 \n",
    "hemi_txt = 'Right hem' if n < 134 else 'Left hem'\n",
    "lbl  = '\\n'.join(eval(shen268_lbl[str(n+1)][0])['name'].split())\n",
    "fMRI_data = pd.DataFrame({'Subject':sub_id_all,'slopeReg_node':coef_slope_rand[:,n], 'responses':responses[:,4]})\n",
    "fMRI_data.set_index(\"Subject\", inplace=True)\n",
    "data = fMRI_data.join(behav_data, how='inner') # join betas and trait info\n",
    "\n",
    "for resp in [0,1]:\n",
    "    d = data.loc[data['responses']==resp,:]\n",
    "    g = explore_correlation(x,y,d,'Spearman')\n",
    "    plt.xlabel('Beta RANDOM MECH\\n(<<< Deactivation   Activation >>>)')\n",
    "    plt.text(plt.xlim()[0],100,f'\"{resp_lbl[resp]}\" (n={d.shape[0]}),\\n Node{n+1}',fontweight = 'bold')\n",
    "    plt.xlim(min(data[x]),max(data[x]))\n",
    "    plt.ylim(min(data[y]),max(data[y]))\n",
    "    if resp ==0:\n",
    "        plt.text(plt.xlim()[0],120,f'\"{resp_lbl[resp]}\",{hemi_txt}\\n{lbl}',fontweight='bold')\n",
    "    else:\n",
    "        plt.text(plt.xlim()[0],120,f'\"{resp_lbl[resp]}\"',fontweight='bold')\n",
    "    #g.savefig(f'../results/RandBeta{n+1}_vs_loneliness.png')\n",
    "\n"
   ],
   "outputs": [],
   "metadata": {}
  },
  {
   "cell_type": "code",
   "execution_count": null,
   "source": [
    "x = \"slopeReg_node\"\n",
    "#for n in range(268):\n",
    "n=84\n",
    "hemi_txt = 'Right hem' if n < 134 else 'Left hem'\n",
    "lbl  = '\\n'.join(eval(shen268_lbl[str(n+1)][0])['name'].split())\n",
    "fMRI_data = pd.DataFrame({'Subject':sub_id_all,'slopeReg_node':coef_slope_fish[:,n], 'responses':responses[:,3]})\n",
    "fMRI_data.set_index(\"Subject\", inplace=True)\n",
    "data = fMRI_data.join(behav_data, how='inner') # join betas and trait info\n",
    "\n",
    "for resp in [0,1]:\n",
    "    d = data.loc[data['responses']==resp,:]\n",
    "    g = explore_correlation(x,y,d,'Spearman')\n",
    "    plt.xlabel('Beta FISHING\\n(<<< Deactivation   Activation >>>)')\n",
    "    plt.text(plt.xlim()[0],100,f'\"{resp_lbl[resp]}\" (n={d.shape[0]}),\\n Node{n+1}',fontweight = 'bold')\n",
    "    plt.xlim(min(data[x]),max(data[x]))\n",
    "    plt.ylim(min(data[y]),max(data[y]))\n",
    "    if resp ==0:\n",
    "        plt.text(plt.xlim()[0],120,f'\"{resp_lbl[resp]}\",{hemi_txt}\\n{lbl}',fontweight='bold')\n",
    "    else:\n",
    "        plt.text(plt.xlim()[0],120,f'\"{resp_lbl[resp]}\"',fontweight='bold')\n",
    "    #g.savefig(f'../results/RandBeta{n+1}_vs_loneliness.png')\n",
    "\n"
   ],
   "outputs": [],
   "metadata": {}
  },
  {
   "cell_type": "code",
   "execution_count": null,
   "source": [
    "nodes = np.zeros((268,))\n",
    "nodes[n] = corr_nodes[n,1]\n",
    "cmap = 'RdBu_r'\n",
    "img = roi_to_brain(pd.Series(nodes), mask_x)\n",
    "ax_plot = plot_img(img.to_nifti(), display_mode = 'z',vmin = vmin, vmax = vmax, cut_coords =coords,cmap = cmap, bg_img = bg_img,colorbar= True,threshold = .0001)\n",
    "ax_plot.title(title_txt,fontsize=24,bgcolor='k',color='w',fontweight='bold')\n",
    "ax_plot._colorbar_ax.text(1,.8*vmax,txt,fontsize=20,fontdict = {'verticalalignment':'top','rotation':0})#get_legend()\n",
    "\n",
    "#RH\n",
    "texture = vol_to_surf(color_rois(nodes), fsaverage.pial_right,interpolation='nearest',radius =1, n_samples=1)\n",
    "surf_plot3=plot_surf_roi(fsaverage.infl_right, texture, hemi='right',cmap = cmap, colorbar=True,symmetric_cmap=True, vmin = vmin, vmax = vmax,\n",
    "                            bg_map=fsaverage.sulc_right)#,vol_to_surf_kwargs={\"n_samples\": 10, \"radius\": 10, \"interpolation\": \"nearest\",\"kind\":'ball'})\n",
    "surf_plot3.axes[1].text(3,.8*vmax,s=txt,fontsize=20, fontdict = {'verticalalignment':'top','horizontalalignment':'left','rotation':0})\n",
    "surf_plot3.axes[0].set_title(title_txt,fontsize=24,color='k',fontweight='bold')\n",
    "\n",
    "surf_plot4=plot_surf_roi(fsaverage.infl_right, texture, hemi='right',cmap = cmap, colorbar=True,symmetric_cmap=True, vmin = vmin, vmax = vmax,\n",
    "                            bg_map=fsaverage.sulc_right,view='medial')#,vol_to_surf_kwargs={\"n_samples\": 10, \"radius\": 10, \"interpolation\": \"nearest\",\"kind\":'ball'})\n",
    "\n",
    "\n",
    "  "
   ],
   "outputs": [],
   "metadata": {}
  },
  {
   "cell_type": "code",
   "execution_count": null,
   "source": [
    "nodes = np.zeros((268,))\n",
    "nodes[pval_nodes[:,1]<.05] = corr_nodes[pval_nodes[:,1]<.05,1]\n",
    "    \n",
    "texture = vol_to_surf(color_rois(nodes), fsaverage.pial_right,interpolation='nearest',radius =1, n_samples=1)\n",
    "surf_plot3=plot_surf_roi(fsaverage.infl_right, texture, hemi='right',cmap = cmap, colorbar=True,symmetric_cmap=True, vmin = vmin, vmax = vmax,\n",
    "                            bg_map=fsaverage.sulc_right)#,vol_to_surf_kwargs={\"n_samples\": 10, \"radius\": 10, \"interpolation\": \"nearest\",\"kind\":'ball'})\n",
    "surf_plot3.axes[1].text(3,.8*vmax,s=txt,fontsize=20, fontdict = {'verticalalignment':'top','horizontalalignment':'left','rotation':0})\n",
    "surf_plot3.axes[0].set_title(title_txt,fontsize=24,color='k',fontweight='bold')\n",
    "\n",
    "   "
   ],
   "outputs": [],
   "metadata": {}
  },
  {
   "cell_type": "markdown",
   "source": [
    "# plot timecourses"
   ],
   "metadata": {}
  },
  {
   "cell_type": "code",
   "execution_count": null,
   "source": [
    "data_file_loc"
   ],
   "outputs": [],
   "metadata": {}
  },
  {
   "cell_type": "code",
   "execution_count": null,
   "source": [
    "tr0_ind = 3 # ind at which tr=0 starts\n",
    "[timepts_indiv_movie,vid_start_rel_tr] = np.load(os.path.join(data_file_loc,'Video_TRs.npy'),allow_pickle=True)\n",
    "print(vid_start_rel_tr)\n",
    "l_task = 28\n",
    "\n",
    "def remove_pretrial_TRs(tcs,vid_start_rel_tr,pretrial_TRs):\n",
    "\n",
    "    tcs1 = np.empty((tcs.shape[0],tcs.shape[1],28+pretrial_TRs,tcs.shape[3]))\n",
    "    tcs1[:] = np.nan\n",
    "\n",
    "    for vid_no in range(10):\n",
    "        tr0 = vid_start_rel_tr[vid_no]\n",
    "        tcs1[:,:,:,vid_no] = tcs[:,:,tr0-pretrial_TRs:tr0+28,vid_no] # 31 timepts\n",
    "    return tcs1"
   ],
   "outputs": [],
   "metadata": {}
  },
  {
   "cell_type": "code",
   "execution_count": null,
   "source": [
    "#select subs who responded \"social\" to the yes movie and nonsocial to the no movie\n",
    "\n",
    "print('\\ntrial-wise norm data.')\n",
    "fileName = os.path.join(data_file_loc,'timecourses_run_norm','timecourse-all-movies_zscorenorm.npy') # load fmri data\n",
    "tcs_run_z = np.load(fileName) # nsubs * nnodes * ntimepts *nmovies\n",
    "print('before:',tcs_run_z.shape)\n",
    "tcs_run_z = remove_pretrial_TRs(tcs_run_z,vid_start_rel_tr,tr0_ind)\n",
    "print('after:',tcs_run_z.shape)"
   ],
   "outputs": [],
   "metadata": {}
  },
  {
   "cell_type": "code",
   "execution_count": null,
   "source": [
    "nodes = np.where(pval_nodes[:,1]<.05)[0]\n",
    "nodes"
   ],
   "outputs": [],
   "metadata": {}
  },
  {
   "cell_type": "code",
   "execution_count": null,
   "source": [
    "# get the right red/blue shades\n",
    "#red_rgb = [103,0,31] # edges of RdBu\n",
    "#blue_rgb = [5,48,97] # edges of RdBu\n",
    "red_rgb =[188,61,62] # from Emily\n",
    "blue_rgb = [54,122,177] # from Emily\n",
    "red_rgb = np.array(red_rgb)/255\n",
    "blue_rgb = np.array(blue_rgb)/255\n",
    "alpha = .2 # transparency inside boxplots, for datapts etc."
   ],
   "outputs": [],
   "metadata": {}
  },
  {
   "cell_type": "code",
   "execution_count": null,
   "source": [
    "fMRI_data = pd.DataFrame({'Subject':sub_id_all,'sub_ind':np.arange(0,1048),'slopeReg_node':coef_slope_rand[:,n], 'responses':responses[:,4]})\n",
    "fMRI_data.set_index(\"Subject\", inplace=True)\n",
    "data = fMRI_data.join(behav_data, how='inner') # join betas and trait info\n"
   ],
   "outputs": [],
   "metadata": {}
  },
  {
   "cell_type": "code",
   "execution_count": null,
   "source": [
    "fMRI_data\n"
   ],
   "outputs": [],
   "metadata": {}
  },
  {
   "cell_type": "code",
   "execution_count": null,
   "source": [
    "sorted_data = data.loc[data['responses']==1,['slopeReg_node','ASR_Intn_T','sub_ind','responses']]\n",
    "sorted_data = sorted_data.sort_values(by=['ASR_Intn_T'])\n",
    "sorted_data"
   ],
   "outputs": [],
   "metadata": {}
  },
  {
   "cell_type": "code",
   "execution_count": null,
   "source": [
    "movie_ind = 4\n",
    "ymin,ymax = -5,5\n",
    "n = 58\n",
    "subs = sorted_data['sub_ind'].values\n",
    "\n",
    "ncols = 15\n",
    "nrows= int(np.ceil(len(subs)/ncols))\n",
    "#fig, axes = plt.subplots(67,4, figsize=(15,150))\n",
    "xwidth = 30\n",
    "yheight = 20# .75*nrows*xwidth/ncols\n",
    "fig, ax = plt.subplots(nrows, ncols, sharex=True, sharey=True, figsize = (xwidth,yheight))\n",
    "fig.set_figwidth(xwidth)\n",
    "fig.set_figheight(yheight)\n",
    "\n",
    "TR=.72\n",
    "xlbls = [-2,0,5,10,15,20]\n",
    "x_ticks = [(i/TR)+tr0_ind for i in xlbls]\n",
    "xlbls = [str(i) for i in xlbls]\n",
    "lbls = [str(np.round((i-tr0_ind)*TR,1)) for i in x_ticks]\n",
    "\n",
    "plt.suptitle(f'Node {n+1},{eval(shen268_lbl[str(n+1)][0])[\"name\"]}',fontweight='bold')\n",
    "\n",
    "for i,s in enumerate(subs):\n",
    "\n",
    "    r = int(np.floor(i/ncols))\n",
    "    c = int(np.floor(i%ncols))\n",
    "\n",
    "    movieTC_yes = tcs_run_z[s,n,:,movie_ind] # nsubs * ntimepts\n",
    "    #movieTC_no  = tcs_run_z[responses[:,movie_ind]==0,n,:,movie_ind] # nsubs * ntimepts\n",
    "    #sig = np.where(~np.isnan(meanDiff_rand[n,:]))[0]    \n",
    "\n",
    "    ax[r,c].set_ylim(ymin,ymax)\n",
    "    ax[r,c].plot(range(movieTC_yes.shape[0]),movieTC_yes,color = 'k',linewidth=2,label ='\"Social\"')\n",
    "    #ax[r,c].errorbar(range(movieTC_yes.shape[1]),np.nanmean(movieTC_no,axis=0),stats.sem(movieTC_no,axis=0,nan_policy='omit'),color = blue_rgb,linewidth=2,label ='\"Non-social\"')\n",
    "    #if r==0:\n",
    "    if sorted_data[\"slopeReg_node\"][i] > 1:\n",
    "        ax[r,c].set_title(f'Sub {s},\\nasr={int(sorted_data[\"ASR_Intn_T\"][i])},b={sorted_data[\"slopeReg_node\"][i]:.2f}', color='r',fontsize = 16)\n",
    "    elif sorted_data[\"slopeReg_node\"][i] > .5:\n",
    "        ax[r,c].set_title(f'Sub {s},\\nasr={int(sorted_data[\"ASR_Intn_T\"][i])},b={sorted_data[\"slopeReg_node\"][i]:.2f}', color=[.5,.25,.25],fontsize = 16,)\n",
    "    elif sorted_data[\"slopeReg_node\"][i] < -1:\n",
    "        ax[r,c].set_title(f'Sub {s},\\nasr={int(sorted_data[\"ASR_Intn_T\"][i])},b={sorted_data[\"slopeReg_node\"][i]:.2f}', color='b',fontsize = 16)\n",
    "    elif sorted_data[\"slopeReg_node\"][i] < -.5:\n",
    "        ax[r,c].set_title(f'Sub {s},\\nasr={int(sorted_data[\"ASR_Intn_T\"][i])},b={sorted_data[\"slopeReg_node\"][i]:.2f}', color=[.25,.25,.5],fontsize = 16)\n",
    "    else:\n",
    "        ax[r,c].set_title(f'Sub {s},\\nasr={int(sorted_data[\"ASR_Intn_T\"][i])},b={sorted_data[\"slopeReg_node\"][i]:.2f}',fontsize = 16)\n",
    "    \n",
    "    ax[r,c].vlines(tr0_ind,-1,2,color=[.8,.8,.8])\n",
    "    ax[r,c].hlines(0,0,31,color=[.8,.8,.8])\n",
    "    ax[r,c].set_xticks(x_ticks)\n",
    "    ax[r,c].set_xticklabels(xlbls)\n",
    "\n",
    "ax[r,c+1].axis('off')\n",
    "ax[r,c+2].axis('off')\n",
    "\n",
    "plt.tight_layout()"
   ],
   "outputs": [],
   "metadata": {}
  },
  {
   "cell_type": "code",
   "execution_count": null,
   "source": [
    "sorted_data['ASR_Intn_T'][i]"
   ],
   "outputs": [],
   "metadata": {}
  },
  {
   "cell_type": "code",
   "execution_count": null,
   "source": [
    "y = \"ASR_Extn_T\"\n",
    "g = explore_correlation(x, y)\n",
    "plt.xlabel('Beta Rand')\n"
   ],
   "outputs": [],
   "metadata": {}
  },
  {
   "cell_type": "markdown",
   "source": [
    "Determine whether the difference in correlation between `Soc-NonSoc_pc` and internalizing vs externalizing symptoms is statistically significant:"
   ],
   "metadata": {}
  },
  {
   "cell_type": "code",
   "execution_count": null,
   "source": [
    "x = \"Soc-NonSoc_pc\"\n",
    "y = \"ASR_Intn_T\"\n",
    "z = \"ASR_Extn_T\"\n",
    "\n",
    "inds = ~np.isnan(data[x]) & ~np.isnan(data[y]) & ~np.isnan(data[z])\n",
    "print(inds.sum())\n",
    "\n",
    "rs_xy = stats.spearmanr(data[x][inds], data[y][inds])[0]\n",
    "rs_xz = stats.spearmanr(data[x][inds], data[z][inds])[0]\n",
    "rs_yz = stats.spearmanr(data[y][inds], data[z][inds])[0]\n",
    "print(rs_xy)\n",
    "print(rs_xz)\n",
    "print(rs_yz)"
   ],
   "outputs": [],
   "metadata": {}
  },
  {
   "cell_type": "markdown",
   "source": [
    "The following function was taken from here: https://github.com/psinger/CorrelationStats/blob/master/corrstats.py"
   ],
   "metadata": {}
  },
  {
   "cell_type": "code",
   "execution_count": null,
   "source": [
    "from scipy.stats import t, norm\n",
    "from math import atanh, pow\n",
    "from numpy import tanh\n",
    "\n",
    "def rz_ci(r, n, conf_level = 0.95):\n",
    "    zr_se = pow(1/(n - 3), .5)\n",
    "    moe = norm.ppf(1 - (1 - conf_level)/float(2)) * zr_se\n",
    "    zu = atanh(r) + moe\n",
    "    zl = atanh(r) - moe\n",
    "    return tanh((zl, zu))\n",
    "\n",
    "def rho_rxy_rxz(rxy, rxz, ryz):\n",
    "    num = (ryz-1/2.*rxy*rxz)*(1-pow(rxy,2)-pow(rxz,2)-pow(ryz,2))+pow(ryz,3)\n",
    "    den = (1 - pow(rxy,2)) * (1 - pow(rxz,2))\n",
    "    return num/float(den)\n",
    "\n",
    "def dependent_corr(xy, xz, yz, n, twotailed=True, conf_level=0.95, method='steiger'):\n",
    "    \"\"\"\n",
    "    Calculates the statistic significance between two dependent correlation coefficients\n",
    "    @param xy: correlation coefficient between x and y\n",
    "    @param xz: correlation coefficient between x and z\n",
    "    @param yz: correlation coefficient between y and z\n",
    "    @param n: number of elements in x, y and z\n",
    "    @param twotailed: whether to calculate a one or two tailed test, only works for 'steiger' method\n",
    "    @param conf_level: confidence level, only works for 'zou' method\n",
    "    @param method: defines the method uses, 'steiger' or 'zou'\n",
    "    @return: t and p-val\n",
    "    \"\"\"\n",
    "    if method == 'steiger':\n",
    "        d = xy - xz\n",
    "        determin = 1 - xy * xy - xz * xz - yz * yz + 2 * xy * xz * yz\n",
    "        av = (xy + xz)/2\n",
    "        cube = (1 - yz) * (1 - yz) * (1 - yz)\n",
    "\n",
    "        t2 = d * np.sqrt((n - 1) * (1 + yz)/(((2 * (n - 1)/(n - 3)) * determin + av * av * cube)))\n",
    "        p = 1 - t.cdf(abs(t2), n - 3)\n",
    "\n",
    "        if twotailed:\n",
    "            p *= 2\n",
    "\n",
    "        return t2, p\n",
    "    elif method == 'zou':\n",
    "        L1 = rz_ci(xy, n, conf_level=conf_level)[0]\n",
    "        U1 = rz_ci(xy, n, conf_level=conf_level)[1]\n",
    "        L2 = rz_ci(xz, n, conf_level=conf_level)[0]\n",
    "        U2 = rz_ci(xz, n, conf_level=conf_level)[1]\n",
    "        rho_r12_r13 = rho_rxy_rxz(xy, xz, yz)\n",
    "        lower = xy - xz - pow((pow((xy - L1), 2) + pow((U2 - xz), 2) - 2 * rho_r12_r13 * (xy - L1) * (U2 - xz)), 0.5)\n",
    "        upper = xy - xz + pow((pow((U1 - xy), 2) + pow((xz - L2), 2) - 2 * rho_r12_r13 * (U1 - xy) * (xz - L2)), 0.5)\n",
    "        return lower, upper\n",
    "    else:\n",
    "        raise Exception('Wrong method!')"
   ],
   "outputs": [],
   "metadata": {}
  },
  {
   "cell_type": "code",
   "execution_count": null,
   "source": [
    "n = inds.sum()\n",
    "\n",
    "xy = stats.spearmanr(data[x][inds], data[y][inds])[0]\n",
    "xz = stats.spearmanr(data[x][inds], data[z][inds])[0]\n",
    "yz = stats.spearmanr(data[y][inds], data[z][inds])[0]\n",
    "\n",
    "dependent_corr(xy, xz, yz, n, twotailed=False)"
   ],
   "outputs": [],
   "metadata": {}
  },
  {
   "cell_type": "markdown",
   "source": [
    "Look at responses on RANDMECH:"
   ],
   "metadata": {}
  },
  {
   "cell_type": "code",
   "execution_count": null,
   "source": [
    "all_trial_data = pd.read_csv('../data/hcp_social_826subs.csv')\n",
    "all_trial_data.set_index(\"subj_idx\", inplace=True)\n",
    "all_trial_data.index.rename(\"Subject\", inplace=True)\n",
    "all_trial_data.index = all_trial_data.index.map(str)\n",
    "all_trial_data.head()"
   ],
   "outputs": [],
   "metadata": {}
  },
  {
   "cell_type": "code",
   "execution_count": null,
   "source": [
    "data = data.join(all_trial_data[all_trial_data[\"movie\"]==\"Random mechanical.AVI\"][\"response\"])\n",
    "data.rename(columns={\"response\": \"rand_mech_response\"}, inplace=True)\n",
    "data.head()"
   ],
   "outputs": [],
   "metadata": {}
  },
  {
   "cell_type": "code",
   "execution_count": null,
   "source": [
    "#red_rgb = [103,0,31] # edges of RdBu\n",
    "#blue_rgb = [5,48,97] # edges of RdBu\n",
    "red_rgb =[188,61,62] # from Emily\n",
    "blue_rgb = [54,122,177] # from Emily\n",
    "red_rgb = np.array(red_rgb)/255\n",
    "blue_rgb = np.array(blue_rgb)/255\n",
    "alpha = .2 # transparency inside boxplots, for datapts etc."
   ],
   "outputs": [],
   "metadata": {}
  },
  {
   "cell_type": "code",
   "execution_count": null,
   "source": [
    "#colors = [red_rgb,blue_rgb]\n",
    "# Set your custom color palette\n",
    "#myPalette = sns.set_palette(sns.color_palette(colors))"
   ],
   "outputs": [],
   "metadata": {}
  },
  {
   "cell_type": "code",
   "execution_count": null,
   "source": [
    "list(col[:2])+[alpha]"
   ],
   "outputs": [],
   "metadata": {}
  },
  {
   "cell_type": "code",
   "execution_count": null,
   "source": [
    "# Create a new variable denoting subjects who responded either \"yes\" or \"unsure\"\n",
    "data[\"rand_mech_yesorunsure\"] = data[\"rand_mech_response\"] > 0\n",
    "\n",
    "y = \"ASR_Intn_T\"\n",
    "\n",
    "fig, ax = plt.subplots(figsize=(3,10))\n",
    "\n",
    "#sns.set_palette([\"tab:blue\", \"tab:red\"])\n",
    "ax = sns.boxplot(x=\"rand_mech_yesorunsure\", y=y, data=data)\n",
    "ax.set_xlabel(\"RANDMECH response\")\n",
    "ax.set_xticklabels([\"\\\"Non-\\nsocial\\\"\", \"\\\"Social\\\" or \\n\\\"Unsure\\\"\"])\n",
    "\n",
    "'''for patch in ax.artists:\n",
    " r, g, b, a = patch.get_facecolor()\n",
    " patch.set_facecolor((r, g, b, alpha))\n",
    " patch.set_edgecolor((r, g, b, 1))'''\n",
    " \n",
    "for i,artist in enumerate(ax.artists):\n",
    "    if i == 0:\n",
    "        col = blue_rgb + [alpha]\n",
    "    else:\n",
    "        col = red_rgb + [alpha]\n",
    "        # Set the linecolor on the artist to the facecolor, and set the facecolor to None\n",
    "    #col = artist.get_facecolor()\n",
    "    artist.set_edgecolor(col)\n",
    "    #artist.set_edgecolor('None')\n",
    "    artist.set_facecolor(list(col[:3])+[alpha])\n",
    "    if np.round(col[0],2) ==  .75:\n",
    "        print(i)\n",
    "    # Each box has 6 associated Line2D objects (to make the whiskers, fliers, etc.)\n",
    "    # Loop over them here, and use the same colour as above\n",
    "    \n",
    "    for j in range(i*6,i*6+6):\n",
    "        line = ax.lines[j]\n",
    "        if j in [4,10]:\n",
    "            line.set_color('k')\n",
    "            line.set_linestyle('--')\n",
    "            line.set_linewidth(2)\n",
    "        else:\n",
    "            line.set_color(col)\n",
    "        line.set_mfc(col)\n",
    "        line.set_mec(col)\n",
    "        if j in [5,11]:\n",
    "            line.set_marker('o')\n",
    "plt.xlabel('')\n",
    "plt.title('RANDOM MECH', fontweight = 'bold')\n",
    "t, p = stats.ttest_ind(data[data[\"rand_mech_yesorunsure\"]==1][y], data[data[\"rand_mech_yesorunsure\"]==0][y], nan_policy='omit')\n",
    "ax.annotate(f't = {t:.2f},\\n(p = {p:.2g})', xy=(0.05, 0.85), xycoords='axes fraction')\n",
    "\n",
    "fig.savefig('../results/RANDMECHresp_vs_ASRIntnT.png')\n"
   ],
   "outputs": [],
   "metadata": {}
  },
  {
   "cell_type": "code",
   "execution_count": null,
   "source": [
    "def box_plot(data, edge_color, fill_color,pos,v):\n",
    "    # customize boxplots\n",
    "    alpha= .2\n",
    "    data = data[~np.isnan(data)]\n",
    "    bp = ax.boxplot(data, positions = [pos], patch_artist=True,widths=.6,vert=v,flierprops = dict(markeredgecolor=edge_color,\n",
    "    markerfacecolor=fill_color, alpha=alpha))\n",
    "    \n",
    "    for element in ['boxes', 'whiskers', 'fliers', 'means', 'caps']:\n",
    "        plt.setp(bp[element], color=edge_color)\n",
    "    for element in ['medians']:\n",
    "        plt.setp(bp[element], color='k',linewidth=2,ls='dashed')\n",
    "\n",
    "    for patch in bp['boxes']:\n",
    "        patch.set(facecolor=fill_color,alpha=alpha)#'w'       \n",
    "        \n",
    "    return bp"
   ],
   "outputs": [],
   "metadata": {}
  },
  {
   "cell_type": "code",
   "execution_count": null,
   "source": [
    "#data1 = data.loc[data['rand_mech_response']!=9,:]\n",
    "#data1.shape\n",
    "fig, ax = plt.subplots(figsize=(3,5))\n",
    "\n",
    "y = \"ASR_Intn_T\"\n",
    "#x = \"rand_mech_response\"\n",
    "x = \"rand_mech_yesorunsure\"\n",
    "rows = data[x] == 0\n",
    "bp2 = box_plot(data.loc[rows,y], blue_rgb, blue_rgb,0,True)\n",
    "rows = data[x] == 1\n",
    "bp1 = box_plot(data.loc[rows,y], red_rgb, red_rgb,1,True)\n",
    "plt.xticks(range(2),['\"Non-social\"','\"Social\"/\\n \"Unsure\"'])\n",
    "t, p = stats.ttest_ind(data[data[x]==1][y], data[data[x]==0][y], nan_policy='omit')\n",
    "plt.ylabel('ASR_Intn_T')\n",
    "ax.annotate(f't = {t:.2f}\\n(p = {p:.2g})', xy=(0.05, 0.85), xycoords='axes fraction')\n",
    "plt.title('RANDOM MECH',fontweight='bold')\n",
    "fig.savefig('../results/RANDMECHresp_vs_ASRIntnT.png')\n"
   ],
   "outputs": [],
   "metadata": {}
  },
  {
   "cell_type": "code",
   "execution_count": null,
   "source": [
    "# Create a new variable denoting subjects who responded either \"yes\" or \"unsure\"\n",
    "data[\"rand_mech_yesorunsure\"] = data[\"rand_mech_response\"] > 0\n",
    "\n",
    "y = \"ASR_Intn_T\"\n",
    "\n",
    "fig, ax = plt.subplots(figsize=(5,10))\n",
    "\n",
    "sns.set_palette([\"tab:blue\", \"tab:red\"])\n",
    "ax = sns.boxplot(x=\"rand_mech_yesorunsure\", y=y, data=data)\n",
    "ax.set_xlabel(\"RANDMECH response\")\n",
    "ax.set_xticklabels([\"\\\"Non-social\\\"\", \"\\\"Social\\\" or \\n\\\"Unsure\\\"\"])\n",
    "\n",
    "t, p = stats.ttest_ind(data[data[\"rand_mech_yesorunsure\"]==1][y], data[data[\"rand_mech_yesorunsure\"]==0][y], nan_policy='omit')\n",
    "ax.annotate(f't = {t:.2f} (p = {p:.2g})', xy=(0.05, 0.9), xycoords='axes fraction')\n",
    "\n",
    "#fig.savefig('../results/RANDMECHresp_vs_ASRIntnT.png')\n"
   ],
   "outputs": [],
   "metadata": {}
  },
  {
   "cell_type": "markdown",
   "source": [
    "Look at RT on RANDMECH:"
   ],
   "metadata": {}
  },
  {
   "cell_type": "code",
   "execution_count": null,
   "source": [
    "data = data.join(all_trial_data[all_trial_data[\"movie\"]==\"Random mechanical.AVI\"][\"rt\"])\n",
    "data = data.rename(columns={\"rt\": \"rand_mech_rt\"})\n",
    "data.head()"
   ],
   "outputs": [],
   "metadata": {}
  },
  {
   "cell_type": "code",
   "execution_count": null,
   "source": [
    "g = explore_correlation(x=\"rand_mech_rt\", y=\"ASR_Intn_T\", data=data)"
   ],
   "outputs": [],
   "metadata": {}
  },
  {
   "cell_type": "code",
   "execution_count": null,
   "source": [
    "# Restrict correlation to only subjects that responded \"yes\" or \"unsure\"\n",
    "\n",
    "g = explore_correlation(x=\"rand_mech_rt\", y=\"ASR_Intn_T\", data=data[data[\"rand_mech_yesorunsure\"]==1])"
   ],
   "outputs": [],
   "metadata": {}
  },
  {
   "cell_type": "code",
   "execution_count": null,
   "source": [],
   "outputs": [],
   "metadata": {}
  }
 ],
 "metadata": {
  "interpreter": {
   "hash": "30fd9c97283ec1278eec212a8f8afab06ad903f38228c32cacb469eba8e56f4f"
  },
  "kernelspec": {
   "name": "python3",
   "display_name": "Python 3.7.9 64-bit ('py37': conda)"
  },
  "language_info": {
   "codemirror_mode": {
    "name": "ipython",
    "version": 3
   },
   "file_extension": ".py",
   "mimetype": "text/x-python",
   "name": "python",
   "nbconvert_exporter": "python",
   "pygments_lexer": "ipython3",
   "version": "3.7.9"
  },
  "orig_nbformat": 4
 },
 "nbformat": 4,
 "nbformat_minor": 2
}