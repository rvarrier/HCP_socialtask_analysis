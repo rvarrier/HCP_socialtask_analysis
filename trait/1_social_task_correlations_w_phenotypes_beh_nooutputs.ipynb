{
 "cells": [
  {
   "cell_type": "code",
   "execution_count": null,
   "source": [
    "import numpy as np\n",
    "import scipy as sp\n",
    "from scipy import stats\n",
    "import pandas as pd\n",
    "from matplotlib import pyplot as plt\n",
    "import seaborn as sns\n",
    "\n",
    "plt.rcParams.update({'font.size': 16})"
   ],
   "outputs": [],
   "metadata": {}
  },
  {
   "cell_type": "code",
   "execution_count": null,
   "source": [
    "# setting default fontsizes for plots\n",
    "\n",
    "s=24# CHANGE FONTSIZE HERE\n",
    "\n",
    "plt.rc('font', size=s) #controls default text size\n",
    "plt.rc('axes', titlesize=s) #fontsize of the title\n",
    "plt.rc('axes', labelsize=s) #fontsize of the x and y labels\n",
    "plt.rc('xtick', labelsize=s) #fontsize of the x tick labels\n",
    "plt.rc('ytick', labelsize=s) #fontsize of the y tick labels\n",
    "plt.rc('legend', fontsize=s) #fontsize of the legend\n",
    "plt.rcParams['savefig.facecolor']='white'\n",
    "#import matplotlib as mpl\n",
    "#mpl.rcParams['font.weight']= 'normal'\n",
    "\n"
   ],
   "outputs": [],
   "metadata": {}
  },
  {
   "cell_type": "markdown",
   "source": [
    "Read in restricted behavioral data:"
   ],
   "metadata": {}
  },
  {
   "cell_type": "code",
   "execution_count": null,
   "source": [
    "res_behav_data = pd.read_csv('../data/RESTRICTED_esfinn_11_21_2021_19_19_35.csv')\n",
    "res_behav_data.set_index(\"Subject\", inplace=True)\n",
    "res_behav_data.index = res_behav_data.index.map(str)\n",
    "print(res_behav_data.shape)\n",
    "res_behav_data.head()"
   ],
   "outputs": [],
   "metadata": {}
  },
  {
   "cell_type": "markdown",
   "source": [
    "Read in unrestricted behavioral data:"
   ],
   "metadata": {}
  },
  {
   "cell_type": "code",
   "execution_count": null,
   "source": [
    "unres_behav_data = pd.read_csv('../data/unrestricted_esfinn_11_21_2021_19_19_13.csv')\n",
    "unres_behav_data.set_index(\"Subject\", inplace=True)\n",
    "unres_behav_data.index = unres_behav_data.index.map(str)\n",
    "print(unres_behav_data.shape)\n",
    "unres_behav_data.head()"
   ],
   "outputs": [],
   "metadata": {}
  },
  {
   "cell_type": "code",
   "execution_count": null,
   "source": [
    "[i for i in res_behav_data.columns]"
   ],
   "outputs": [],
   "metadata": {}
  },
  {
   "cell_type": "code",
   "execution_count": null,
   "source": [
    "unres_behav_data.shape,res_behav_data.shape"
   ],
   "outputs": [],
   "metadata": {}
  },
  {
   "cell_type": "markdown",
   "source": [
    "Combine restricted and unrestricted behavioral data into a single dataframe:"
   ],
   "metadata": {}
  },
  {
   "cell_type": "code",
   "execution_count": null,
   "source": [
    "behav_data = pd.concat([res_behav_data, unres_behav_data], axis=1)\n",
    "print(behav_data.shape)\n",
    "behav_data.head()"
   ],
   "outputs": [],
   "metadata": {}
  },
  {
   "cell_type": "code",
   "execution_count": null,
   "source": [
    "print([i for i in behav_data.columns if 'gend' in str.lower(i)])"
   ],
   "outputs": [],
   "metadata": {}
  },
  {
   "cell_type": "code",
   "execution_count": null,
   "source": [
    "behav_data.groupby(['Gender']).count()"
   ],
   "outputs": [],
   "metadata": {}
  },
  {
   "cell_type": "code",
   "execution_count": null,
   "source": [
    "behav_data['Age_in_Yrs'].describe()"
   ],
   "outputs": [],
   "metadata": {}
  },
  {
   "cell_type": "markdown",
   "source": [
    "Read in task response data, join into single dataframe, then join this with the larger dataframe:"
   ],
   "metadata": {}
  },
  {
   "cell_type": "code",
   "execution_count": null,
   "source": [
    "task_data = pd.read_csv('../data/1a_S_NS_responses_per_subj.csv')\n",
    "task_data.set_index(\"subj_idx\", inplace=True)\n",
    "task_data.index.rename(\"Subject\", inplace=True)\n",
    "task_data.index = task_data.index.map(str)\n",
    "print(task_data.shape)\n",
    "task_data.head()"
   ],
   "outputs": [],
   "metadata": {}
  },
  {
   "cell_type": "code",
   "execution_count": null,
   "source": [
    "task_data2 = pd.read_csv('../data/1d_S_NS_pc_uncertainResp_per_subj.csv')\n",
    "task_data2.set_index(\"subj_idx\", inplace=True)\n",
    "task_data2.index.rename(\"Subject\", inplace=True)\n",
    "task_data2.index = task_data2.index.map(str)\n",
    "task_data2[\"pc_unc_total\"] = (task_data2[\"pc_unc_Mental\"] + task_data2[\"pc_unc_Rand\"])/2\n",
    "print(task_data2.shape)\n",
    "task_data2.head()"
   ],
   "outputs": [],
   "metadata": {}
  },
  {
   "cell_type": "code",
   "execution_count": null,
   "source": [
    "task_data = task_data.join(task_data2, how='inner')\n",
    "print(task_data.shape)\n",
    "task_data.head()"
   ],
   "outputs": [],
   "metadata": {}
  },
  {
   "cell_type": "code",
   "execution_count": null,
   "source": [
    "task_data.shape"
   ],
   "outputs": [],
   "metadata": {}
  },
  {
   "cell_type": "code",
   "execution_count": null,
   "source": [
    "data = task_data.join(behav_data, how='inner')\n",
    "print(data.shape)\n",
    "data.head()"
   ],
   "outputs": [],
   "metadata": {}
  },
  {
   "cell_type": "code",
   "execution_count": null,
   "source": [
    "task_data"
   ],
   "outputs": [],
   "metadata": {}
  },
  {
   "cell_type": "markdown",
   "source": [
    "Explore correlations between proportion of \"social\" responses and various trait phenotypes:"
   ],
   "metadata": {}
  },
  {
   "cell_type": "code",
   "execution_count": null,
   "source": [
    "def explore_correlation(x, y, data=data):\n",
    "    \"\"\"\n",
    "    Calculates and plots correlation between x and y variables in dataframe `data`, plus distribution of x and y \n",
    "    \"\"\"\n",
    "    sns.set_style(\"white\")\n",
    "    \n",
    "    inds = ~np.isnan(data[x]) & ~np.isnan(data[y]) # find rows where neither x or y is NaN\n",
    "\n",
    "    g = sns.jointplot(x=x, y=y, data=data, kind='reg', color='gray')\n",
    "\n",
    "    # Calculate and print correlations\n",
    "    rp, pp = stats.pearsonr(data[x][inds], data[y][inds])\n",
    "    rs, ps = stats.spearmanr(data[x][inds], data[y][inds])\n",
    "    g.ax_joint.annotate(f'r_s = {rs:.2f}\\n(p={ps:.1g})', xy=(.05,.8), xycoords='axes fraction')\n",
    "    #g.ax_joint.annotate(f'r_s = {rs:.2f}\\n(p={ps:.1e})', xy=(.05,.8), xycoords='axes fraction')\n",
    "    \n",
    "    return g"
   ],
   "outputs": [],
   "metadata": {}
  },
  {
   "cell_type": "code",
   "execution_count": null,
   "source": [
    "x = \"pc_unc_total\"\n",
    "\n",
    "g = explore_correlation(x, y=\"ASR_Intn_T\")\n",
    "plt.xlabel('Mean(%Unsure\"Social\", %Unsure\"Non-social\")')\n",
    "plt.xlim(0,100)\n",
    "#g.savefig('../results/soc-nonsoc_vs_loneliness.png')\n",
    "\n",
    "x = \"pc_unc_Rand\"\n",
    "\n",
    "g = explore_correlation(x, y=\"ASR_Intn_T\")\n",
    "plt.xlabel('%Unsure Random')\n",
    "plt.xlim(-1,100)\n",
    "plt.ylim(30,100)\n",
    "plt.yticks(10*np.arange(3,11))\n",
    "g.savefig('../results/unsure_random_vs_asr.png')\n",
    "\n",
    "x = \"pc_unc_Mental\"\n",
    "\n",
    "g = explore_correlation(x, y=\"ASR_Intn_T\")\n",
    "plt.xlabel('%Unsure Mental')\n",
    "plt.xlim(-1,100)\n",
    "plt.ylim(30,100)\n",
    "plt.yticks(10*np.arange(3,11))\n",
    "g.savefig('../results/unsure_mental_vs_asr.png')"
   ],
   "outputs": [],
   "metadata": {}
  },
  {
   "cell_type": "code",
   "execution_count": null,
   "source": [],
   "outputs": [],
   "metadata": {}
  },
  {
   "cell_type": "code",
   "execution_count": null,
   "source": [
    "x = \"Soc-NonSoc_pc\"\n",
    "\n",
    "g = explore_correlation(x, y=\"Loneliness_Unadj\")\n",
    "plt.xlabel('%\"Social\" - %\"Non-social\"')\n",
    "g.savefig('../results/soc-nonsoc_vs_loneliness.png')"
   ],
   "outputs": [],
   "metadata": {}
  },
  {
   "cell_type": "code",
   "execution_count": null,
   "source": [
    "x = \"Soc-NonSoc_pc\"\n",
    "y = \"ASR_Intn_T\"\n",
    "\n",
    "g = explore_correlation(x, y)\n",
    "plt.xlabel('%\"Social\" - %\"Non-social\"')\n",
    "g.savefig('../results/soc-nonsoc_vs_ASRIntnT.png')"
   ],
   "outputs": [],
   "metadata": {}
  },
  {
   "cell_type": "markdown",
   "source": [
    "# externalization score"
   ],
   "metadata": {}
  },
  {
   "cell_type": "code",
   "execution_count": null,
   "source": [
    "x = \"Soc-NonSoc_pc\"\n",
    "y = \"ASR_Extn_T\"\n",
    "\n",
    "g = explore_correlation(x, y)\n",
    "plt.xlabel('%\"Social\" - %\"Non-social\"')\n"
   ],
   "outputs": [],
   "metadata": {}
  },
  {
   "cell_type": "code",
   "execution_count": null,
   "source": [
    "x = \"pc_unc_total\"\n",
    "y = \"ASR_Extn_T\"\n",
    "\n",
    "g = explore_correlation(x, y)\n",
    "plt.xlabel('Mean(%Unsure\"Social\", %Unsure\"Non-social\")')\n",
    "plt.xlim(0,100)\n",
    "#g.savefig('../results/soc-nonsoc_vs_loneliness.png')\n",
    "\n",
    "x = \"pc_unc_Rand\"\n",
    "\n",
    "g = explore_correlation(x, y)\n",
    "plt.xlabel('%Unsure Random')\n",
    "plt.xlim(-1,100)\n",
    "plt.ylim(30,100)\n",
    "plt.yticks(10*np.arange(3,11))\n",
    "\n",
    "x = \"pc_unc_Mental\"\n",
    "\n",
    "g = explore_correlation(x, y)\n",
    "plt.xlabel('%Unsure Mental')\n",
    "plt.xlim(-1,100)\n",
    "plt.ylim(30,100)\n",
    "plt.yticks(10*np.arange(3,11))\n"
   ],
   "outputs": [],
   "metadata": {}
  },
  {
   "cell_type": "code",
   "execution_count": null,
   "source": [
    "x = 'ASR_Intn_T'\n",
    "y = 'pc_unc_Rand'\n",
    "z = 'pc_unc_Mental'\n",
    "\n",
    "inds = ~np.isnan(data[x]) & ~np.isnan(data[y]) & ~np.isnan(data[z])\n",
    "\n",
    "n = inds.sum()\n",
    "xy = stats.spearmanr(data[x][inds], data[y][inds])[0]\n",
    "xz = stats.spearmanr(data[x][inds], data[z][inds])[0]\n",
    "yz = stats.spearmanr(data[y][inds], data[z][inds])[0]\n",
    "\n",
    "dependent_corr(xy, xz, yz, n, twotailed=False)"
   ],
   "outputs": [],
   "metadata": {}
  },
  {
   "cell_type": "code",
   "execution_count": null,
   "source": [
    "#data1 = data.loc[data['rand_mech_response']!=9,:]\n",
    "#data1.shape\n",
    "fig, ax = plt.subplots(figsize=(5,5))\n",
    "\n",
    "y = \"ASR_Extn_T\"\n",
    "#x = \"rand_mech_response\"\n",
    "x = \"rand_mech_yesorunsure\"\n",
    "rows = data[x] == 0\n",
    "bp2 = box_plot(data.loc[rows,y], blue_rgb, blue_rgb,0,True)\n",
    "rows = data[x] == 1\n",
    "bp1 = box_plot(data.loc[rows,y], red_rgb, red_rgb,1,True)\n",
    "plt.xticks(range(2),['\"Non-social\"','\"Social\"/\\n \"Unsure\"'])\n",
    "t, p = stats.ttest_ind(data[data[x]==1][y], data[data[x]==0][y], nan_policy='omit')\n",
    "plt.ylabel('ASR_Intn_T')\n",
    "ax.annotate(f't = {t:.2f}\\n(p = {p:.2g})', xy=(0.05, 0.8), xycoords='axes fraction')\n",
    "plt.title('RANDOM MECH',fontweight='bold')\n",
    "fig.savefig('../results/RANDMECHresp_vs_ASRIntnT.png')\n"
   ],
   "outputs": [],
   "metadata": {}
  },
  {
   "cell_type": "markdown",
   "source": [
    "Determine whether the difference in correlation between `Soc-NonSoc_pc` and internalizing vs externalizing symptoms is statistically significant:"
   ],
   "metadata": {}
  },
  {
   "cell_type": "code",
   "execution_count": null,
   "source": [
    "x = \"Soc-NonSoc_pc\"\n",
    "y = \"ASR_Intn_T\"\n",
    "z = \"ASR_Extn_T\"\n",
    "\n",
    "inds = ~np.isnan(data[x]) & ~np.isnan(data[y]) & ~np.isnan(data[z])\n",
    "print(inds.sum())\n",
    "\n",
    "rs_xy = stats.spearmanr(data[x][inds], data[y][inds])[0]\n",
    "rs_xz = stats.spearmanr(data[x][inds], data[z][inds])[0]\n",
    "rs_yz = stats.spearmanr(data[y][inds], data[z][inds])[0]\n",
    "print(rs_xy)\n",
    "print(rs_xz)\n",
    "print(rs_yz)"
   ],
   "outputs": [],
   "metadata": {}
  },
  {
   "cell_type": "markdown",
   "source": [
    "The following function was taken from here: https://github.com/psinger/CorrelationStats/blob/master/corrstats.py"
   ],
   "metadata": {}
  },
  {
   "cell_type": "code",
   "execution_count": null,
   "source": [
    "from scipy.stats import t, norm\n",
    "from math import atanh, pow\n",
    "from numpy import tanh\n",
    "\n",
    "def rz_ci(r, n, conf_level = 0.95):\n",
    "    zr_se = pow(1/(n - 3), .5)\n",
    "    moe = norm.ppf(1 - (1 - conf_level)/float(2)) * zr_se\n",
    "    zu = atanh(r) + moe\n",
    "    zl = atanh(r) - moe\n",
    "    return tanh((zl, zu))\n",
    "\n",
    "def rho_rxy_rxz(rxy, rxz, ryz):\n",
    "    num = (ryz-1/2.*rxy*rxz)*(1-pow(rxy,2)-pow(rxz,2)-pow(ryz,2))+pow(ryz,3)\n",
    "    den = (1 - pow(rxy,2)) * (1 - pow(rxz,2))\n",
    "    return num/float(den)\n",
    "\n",
    "def dependent_corr(xy, xz, yz, n, twotailed=True, conf_level=0.95, method='steiger'):\n",
    "    \"\"\"\n",
    "    Calculates the statistic significance between two dependent correlation coefficients\n",
    "    @param xy: correlation coefficient between x and y\n",
    "    @param xz: correlation coefficient between x and z\n",
    "    @param yz: correlation coefficient between y and z\n",
    "    @param n: number of elements in x, y and z\n",
    "    @param twotailed: whether to calculate a one or two tailed test, only works for 'steiger' method\n",
    "    @param conf_level: confidence level, only works for 'zou' method\n",
    "    @param method: defines the method uses, 'steiger' or 'zou'\n",
    "    @return: t and p-val\n",
    "    \"\"\"\n",
    "    if method == 'steiger':\n",
    "        d = xy - xz\n",
    "        determin = 1 - xy * xy - xz * xz - yz * yz + 2 * xy * xz * yz\n",
    "        av = (xy + xz)/2\n",
    "        cube = (1 - yz) * (1 - yz) * (1 - yz)\n",
    "\n",
    "        t2 = d * np.sqrt((n - 1) * (1 + yz)/(((2 * (n - 1)/(n - 3)) * determin + av * av * cube)))\n",
    "        p = 1 - t.cdf(abs(t2), n - 3)\n",
    "\n",
    "        if twotailed:\n",
    "            p *= 2\n",
    "\n",
    "        return t2, p\n",
    "    elif method == 'zou':\n",
    "        L1 = rz_ci(xy, n, conf_level=conf_level)[0]\n",
    "        U1 = rz_ci(xy, n, conf_level=conf_level)[1]\n",
    "        L2 = rz_ci(xz, n, conf_level=conf_level)[0]\n",
    "        U2 = rz_ci(xz, n, conf_level=conf_level)[1]\n",
    "        rho_r12_r13 = rho_rxy_rxz(xy, xz, yz)\n",
    "        lower = xy - xz - pow((pow((xy - L1), 2) + pow((U2 - xz), 2) - 2 * rho_r12_r13 * (xy - L1) * (U2 - xz)), 0.5)\n",
    "        upper = xy - xz + pow((pow((U1 - xy), 2) + pow((xz - L2), 2) - 2 * rho_r12_r13 * (U1 - xy) * (xz - L2)), 0.5)\n",
    "        return lower, upper\n",
    "    else:\n",
    "        raise Exception('Wrong method!')"
   ],
   "outputs": [],
   "metadata": {}
  },
  {
   "cell_type": "code",
   "execution_count": null,
   "source": [
    "n = inds.sum()\n",
    "\n",
    "xy = stats.spearmanr(data[x][inds], data[y][inds])[0]\n",
    "xz = stats.spearmanr(data[x][inds], data[z][inds])[0]\n",
    "yz = stats.spearmanr(data[y][inds], data[z][inds])[0]\n",
    "\n",
    "dependent_corr(xy, xz, yz, n, twotailed=False)"
   ],
   "outputs": [],
   "metadata": {}
  },
  {
   "cell_type": "markdown",
   "source": [
    "Look at responses on RANDMECH:"
   ],
   "metadata": {}
  },
  {
   "cell_type": "code",
   "execution_count": null,
   "source": [
    "all_trial_data = pd.read_csv('../data/hcp_social_826subs.csv')\n",
    "all_trial_data.set_index(\"subj_idx\", inplace=True)\n",
    "all_trial_data.index.rename(\"Subject\", inplace=True)\n",
    "all_trial_data.index = all_trial_data.index.map(str)\n",
    "all_trial_data.head()"
   ],
   "outputs": [],
   "metadata": {}
  },
  {
   "cell_type": "code",
   "execution_count": null,
   "source": [
    "data = data.join(all_trial_data[all_trial_data[\"movie\"]==\"Random mechanical.AVI\"][\"response\"])\n",
    "data.rename(columns={\"response\": \"rand_mech_response\"}, inplace=True)\n",
    "data.head()"
   ],
   "outputs": [],
   "metadata": {}
  },
  {
   "cell_type": "code",
   "execution_count": null,
   "source": [
    "#red_rgb = [103,0,31] # edges of RdBu\n",
    "#blue_rgb = [5,48,97] # edges of RdBu\n",
    "red_rgb =[188,61,62] # from Emily\n",
    "blue_rgb = [54,122,177] # from Emily\n",
    "red_rgb = np.array(red_rgb)/255\n",
    "blue_rgb = np.array(blue_rgb)/255\n",
    "alpha = .2 # transparency inside boxplots, for datapts etc."
   ],
   "outputs": [],
   "metadata": {}
  },
  {
   "cell_type": "code",
   "execution_count": null,
   "source": [
    "#colors = [red_rgb,blue_rgb]\n",
    "# Set your custom color palette\n",
    "#myPalette = sns.set_palette(sns.color_palette(colors))"
   ],
   "outputs": [],
   "metadata": {}
  },
  {
   "cell_type": "code",
   "execution_count": null,
   "source": [
    "list(col[:2])+[alpha]"
   ],
   "outputs": [],
   "metadata": {}
  },
  {
   "cell_type": "code",
   "execution_count": null,
   "source": [
    "# Create a new variable denoting subjects who responded either \"yes\" or \"unsure\"\n",
    "data[\"rand_mech_yesorunsure\"] = data[\"rand_mech_response\"] > 0\n",
    "\n",
    "y = \"ASR_Intn_T\"\n",
    "\n",
    "fig, ax = plt.subplots(figsize=(3,10))\n",
    "\n",
    "#sns.set_palette([\"tab:blue\", \"tab:red\"])\n",
    "ax = sns.boxplot(x=\"rand_mech_yesorunsure\", y=y, data=data)\n",
    "ax.set_xlabel(\"RANDMECH response\")\n",
    "ax.set_xticklabels([\"\\\"Non-\\nsocial\\\"\", \"\\\"Social\\\" or \\n\\\"Unsure\\\"\"])\n",
    "\n",
    "'''for patch in ax.artists:\n",
    " r, g, b, a = patch.get_facecolor()\n",
    " patch.set_facecolor((r, g, b, alpha))\n",
    " patch.set_edgecolor((r, g, b, 1))'''\n",
    " \n",
    "for i,artist in enumerate(ax.artists):\n",
    "    if i == 0:\n",
    "        col = blue_rgb + [alpha]\n",
    "    else:\n",
    "        col = red_rgb + [alpha]\n",
    "        # Set the linecolor on the artist to the facecolor, and set the facecolor to None\n",
    "    #col = artist.get_facecolor()\n",
    "    artist.set_edgecolor(col)\n",
    "    #artist.set_edgecolor('None')\n",
    "    artist.set_facecolor(list(col[:3])+[alpha])\n",
    "    if np.round(col[0],2) ==  .75:\n",
    "        print(i)\n",
    "    # Each box has 6 associated Line2D objects (to make the whiskers, fliers, etc.)\n",
    "    # Loop over them here, and use the same colour as above\n",
    "    \n",
    "    for j in range(i*6,i*6+6):\n",
    "        line = ax.lines[j]\n",
    "        if j in [4,10]:\n",
    "            line.set_color('k')\n",
    "            line.set_linestyle('--')\n",
    "            line.set_linewidth(2)\n",
    "        else:\n",
    "            line.set_color(col)\n",
    "        line.set_mfc(col)\n",
    "        line.set_mec(col)\n",
    "        if j in [5,11]:\n",
    "            line.set_marker('o')\n",
    "plt.xlabel('')\n",
    "plt.title('RANDOM MECH', fontweight = 'bold')\n",
    "t, p = stats.ttest_ind(data[data[\"rand_mech_yesorunsure\"]==1][y], data[data[\"rand_mech_yesorunsure\"]==0][y], nan_policy='omit')\n",
    "ax.annotate(f't = {t:.2f},\\n(p = {p:.2g})', xy=(0.05, 0.85), xycoords='axes fraction')\n",
    "\n",
    "fig.savefig('../results/RANDMECHresp_vs_ASRIntnT.png')\n"
   ],
   "outputs": [],
   "metadata": {}
  },
  {
   "cell_type": "code",
   "execution_count": null,
   "source": [
    "def box_plot(data, edge_color, fill_color,pos,v):\n",
    "    # customize boxplots\n",
    "    alpha= .2\n",
    "    data = data[~np.isnan(data)]\n",
    "    bp = ax.boxplot(data, positions = [pos], patch_artist=True,widths=.6,vert=v,flierprops = dict(markeredgecolor=edge_color,\n",
    "    markerfacecolor=fill_color, alpha=alpha))\n",
    "    \n",
    "    for element in ['boxes', 'whiskers', 'fliers', 'means', 'caps']:\n",
    "        plt.setp(bp[element], color=edge_color)\n",
    "    for element in ['medians']:\n",
    "        plt.setp(bp[element], color='k',linewidth=2,ls='dashed')\n",
    "\n",
    "    for patch in bp['boxes']:\n",
    "        patch.set(facecolor=fill_color,alpha=alpha)#'w'       \n",
    "        \n",
    "    return bp"
   ],
   "outputs": [],
   "metadata": {}
  },
  {
   "cell_type": "code",
   "execution_count": null,
   "source": [
    "#data1 = data.loc[data['rand_mech_response']!=9,:]\n",
    "#data1.shape\n",
    "fig, ax = plt.subplots(figsize=(5,6))\n",
    "\n",
    "y = \"ASR_Intn_T\"\n",
    "#x = \"rand_mech_response\"\n",
    "x = \"rand_mech_yesorunsure\"\n",
    "rows = data[x] == 0\n",
    "bp2 = box_plot(data.loc[rows,y], blue_rgb, blue_rgb,0,True)\n",
    "rows = data[x] == 1\n",
    "bp1 = box_plot(data.loc[rows,y], red_rgb, red_rgb,1,True)\n",
    "plt.xticks(range(2),['\"Non-social\"','\"Social\"/\\n \"Unsure\"'])\n",
    "t, p = stats.ttest_ind(data[data[x]==1][y], data[data[x]==0][y], nan_policy='omit')\n",
    "plt.ylabel('ASR_Intn_T')\n",
    "ax.annotate(f't = {t:.2f}\\n(p = {p:.2g})', xy=(0.05, 0.8), xycoords='axes fraction')\n",
    "plt.title('RANDOM MECH',fontweight='bold')\n",
    "fig.savefig('../results/RANDMECHresp_vs_ASRIntnT.png')\n"
   ],
   "outputs": [],
   "metadata": {}
  },
  {
   "cell_type": "code",
   "execution_count": null,
   "source": [
    "# Create a new variable denoting subjects who responded either \"yes\" or \"unsure\"\n",
    "data[\"rand_mech_yesorunsure\"] = data[\"rand_mech_response\"] > 0\n",
    "\n",
    "y = \"ASR_Intn_T\"\n",
    "\n",
    "fig, ax = plt.subplots(figsize=(5,10))\n",
    "\n",
    "sns.set_palette([\"tab:blue\", \"tab:red\"])\n",
    "ax = sns.boxplot(x=\"rand_mech_yesorunsure\", y=y, data=data)\n",
    "ax.set_xlabel(\"RANDMECH response\")\n",
    "ax.set_xticklabels([\"\\\"Non-social\\\"\", \"\\\"Social\\\" or \\n\\\"Unsure\\\"\"])\n",
    "\n",
    "t, p = stats.ttest_ind(data[data[\"rand_mech_yesorunsure\"]==1][y], data[data[\"rand_mech_yesorunsure\"]==0][y], nan_policy='omit')\n",
    "ax.annotate(f't = {t:.2f} (p = {p:.2g})', xy=(0.05, 0.9), xycoords='axes fraction')\n",
    "\n",
    "#fig.savefig('../results/RANDMECHresp_vs_ASRIntnT.png')\n"
   ],
   "outputs": [],
   "metadata": {}
  },
  {
   "cell_type": "markdown",
   "source": [
    "Look at RT on RANDMECH:"
   ],
   "metadata": {}
  },
  {
   "cell_type": "code",
   "execution_count": null,
   "source": [
    "data = data.join(all_trial_data[all_trial_data[\"movie\"]==\"Random mechanical.AVI\"][\"rt\"])\n",
    "data = data.rename(columns={\"rt\": \"rand_mech_rt\"})\n",
    "data.head()"
   ],
   "outputs": [],
   "metadata": {}
  },
  {
   "cell_type": "code",
   "execution_count": null,
   "source": [
    "g = explore_correlation(x=\"rand_mech_rt\", y=\"ASR_Intn_T\", data=data)"
   ],
   "outputs": [],
   "metadata": {}
  },
  {
   "cell_type": "code",
   "execution_count": null,
   "source": [
    "# Restrict correlation to only subjects that responded \"yes\" or \"unsure\"\n",
    "\n",
    "g = explore_correlation(x=\"rand_mech_rt\", y=\"ASR_Intn_T\", data=data[data[\"rand_mech_yesorunsure\"]==1])"
   ],
   "outputs": [],
   "metadata": {}
  },
  {
   "cell_type": "code",
   "execution_count": null,
   "source": [],
   "outputs": [],
   "metadata": {}
  }
 ],
 "metadata": {
  "interpreter": {
   "hash": "30fd9c97283ec1278eec212a8f8afab06ad903f38228c32cacb469eba8e56f4f"
  },
  "kernelspec": {
   "name": "python3",
   "display_name": "Python 3.7.9 64-bit ('py37': conda)"
  },
  "language_info": {
   "codemirror_mode": {
    "name": "ipython",
    "version": 3
   },
   "file_extension": ".py",
   "mimetype": "text/x-python",
   "name": "python",
   "nbconvert_exporter": "python",
   "pygments_lexer": "ipython3",
   "version": "3.7.9"
  },
  "orig_nbformat": 4
 },
 "nbformat": 4,
 "nbformat_minor": 2
}