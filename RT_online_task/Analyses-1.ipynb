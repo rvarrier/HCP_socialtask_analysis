{
 "cells": [
  {
   "cell_type": "markdown",
   "source": [
    "- looking at response biases, moviewise socialness\n",
    "- visualize rt distributions\n",
    "- plotting rt distributions across movies and per movie\n",
    "- comparing RT distributions"
   ],
   "metadata": {}
  },
  {
   "cell_type": "code",
   "execution_count": 1,
   "source": [
    "import pandas as pd\n",
    "import numpy as np\n",
    "import os\n",
    "import matplotlib.pyplot as plt\n",
    "import scipy.stats as stats\n",
    "import seaborn as sns"
   ],
   "outputs": [],
   "metadata": {}
  },
  {
   "cell_type": "code",
   "execution_count": 2,
   "source": [
    "# setting default fontsizes for plots\n",
    "\n",
    "s=20 # CHANGE FONTSIZE HERE\n",
    "\n",
    "plt.rc('font', size=s) #controls default text size\n",
    "plt.rc('axes', titlesize=s) #fontsize of the title\n",
    "plt.rc('axes', labelsize=s) #fontsize of the x and y labels\n",
    "plt.rc('xtick', labelsize=s) #fontsize of the x tick labels\n",
    "plt.rc('ytick', labelsize=s) #fontsize of the y tick labels\n",
    "plt.rc('legend', fontsize=s) #fontsize of the legend\n",
    "#import matplotlib as mpl\n",
    "#mpl.rcParams['font.weight']= 'normal'\n"
   ],
   "outputs": [],
   "metadata": {}
  },
  {
   "cell_type": "code",
   "execution_count": 129,
   "source": [
    "# load data\n",
    "final_data_folder = r'/Users/f0053cz/Dropbox (Dartmouth College)/postdoc_Dartmouth/HCP/RT_online_task'\n",
    "dat_all = pd.read_csv(os.path.join(final_data_folder,'RT_data_all_subs.csv'))\n",
    "dat_all_full = pd.read_csv(os.path.join(final_data_folder,'RT_data_all_subs.csv'))\n",
    "dat_all.head()"
   ],
   "outputs": [
    {
     "output_type": "execute_result",
     "data": {
      "text/html": [
       "<div>\n",
       "<style scoped>\n",
       "    .dataframe tbody tr th:only-of-type {\n",
       "        vertical-align: middle;\n",
       "    }\n",
       "\n",
       "    .dataframe tbody tr th {\n",
       "        vertical-align: top;\n",
       "    }\n",
       "\n",
       "    .dataframe thead th {\n",
       "        text-align: right;\n",
       "    }\n",
       "</style>\n",
       "<table border=\"1\" class=\"dataframe\">\n",
       "  <thead>\n",
       "    <tr style=\"text-align: right;\">\n",
       "      <th></th>\n",
       "      <th>Unnamed: 0</th>\n",
       "      <th>sub_ind</th>\n",
       "      <th>respDur_keys</th>\n",
       "      <th>respDur_rt</th>\n",
       "      <th>respAfter_keys</th>\n",
       "      <th>respAfter_rt</th>\n",
       "      <th>movie</th>\n",
       "      <th>date</th>\n",
       "      <th>movie_ind</th>\n",
       "      <th>consistency</th>\n",
       "    </tr>\n",
       "  </thead>\n",
       "  <tbody>\n",
       "    <tr>\n",
       "      <th>0</th>\n",
       "      <td>0</td>\n",
       "      <td>86.0</td>\n",
       "      <td>left</td>\n",
       "      <td>3.070585</td>\n",
       "      <td>left</td>\n",
       "      <td>0.868510</td>\n",
       "      <td>COAXINGB0</td>\n",
       "      <td>2021-07-25_08h39.36.916</td>\n",
       "      <td>0.0</td>\n",
       "      <td>1.0</td>\n",
       "    </tr>\n",
       "    <tr>\n",
       "      <th>1</th>\n",
       "      <td>1</td>\n",
       "      <td>86.0</td>\n",
       "      <td>right</td>\n",
       "      <td>1.909830</td>\n",
       "      <td>right</td>\n",
       "      <td>0.669700</td>\n",
       "      <td>BILLIARDA1</td>\n",
       "      <td>2021-07-25_08h39.36.916</td>\n",
       "      <td>1.0</td>\n",
       "      <td>1.0</td>\n",
       "    </tr>\n",
       "    <tr>\n",
       "      <th>2</th>\n",
       "      <td>2</td>\n",
       "      <td>86.0</td>\n",
       "      <td>right</td>\n",
       "      <td>2.362310</td>\n",
       "      <td>right</td>\n",
       "      <td>0.497975</td>\n",
       "      <td>DRIFTINGA2</td>\n",
       "      <td>2021-07-25_08h39.36.916</td>\n",
       "      <td>2.0</td>\n",
       "      <td>1.0</td>\n",
       "    </tr>\n",
       "    <tr>\n",
       "      <th>3</th>\n",
       "      <td>3</td>\n",
       "      <td>86.0</td>\n",
       "      <td>left</td>\n",
       "      <td>4.312300</td>\n",
       "      <td>left</td>\n",
       "      <td>1.568915</td>\n",
       "      <td>FISHING3</td>\n",
       "      <td>2021-07-25_08h39.36.916</td>\n",
       "      <td>3.0</td>\n",
       "      <td>1.0</td>\n",
       "    </tr>\n",
       "    <tr>\n",
       "      <th>4</th>\n",
       "      <td>4</td>\n",
       "      <td>86.0</td>\n",
       "      <td>right</td>\n",
       "      <td>1.539055</td>\n",
       "      <td>right</td>\n",
       "      <td>0.667690</td>\n",
       "      <td>RANDOMMECH4</td>\n",
       "      <td>2021-07-25_08h39.36.916</td>\n",
       "      <td>4.0</td>\n",
       "      <td>1.0</td>\n",
       "    </tr>\n",
       "  </tbody>\n",
       "</table>\n",
       "</div>"
      ],
      "text/plain": [
       "   Unnamed: 0  sub_ind respDur_keys  respDur_rt respAfter_keys  respAfter_rt  \\\n",
       "0           0     86.0         left    3.070585           left      0.868510   \n",
       "1           1     86.0        right    1.909830          right      0.669700   \n",
       "2           2     86.0        right    2.362310          right      0.497975   \n",
       "3           3     86.0         left    4.312300           left      1.568915   \n",
       "4           4     86.0        right    1.539055          right      0.667690   \n",
       "\n",
       "         movie                     date  movie_ind  consistency  \n",
       "0    COAXINGB0  2021-07-25_08h39.36.916        0.0          1.0  \n",
       "1   BILLIARDA1  2021-07-25_08h39.36.916        1.0          1.0  \n",
       "2   DRIFTINGA2  2021-07-25_08h39.36.916        2.0          1.0  \n",
       "3     FISHING3  2021-07-25_08h39.36.916        3.0          1.0  \n",
       "4  RANDOMMECH4  2021-07-25_08h39.36.916        4.0          1.0  "
      ]
     },
     "metadata": {},
     "execution_count": 129
    }
   ],
   "metadata": {}
  },
  {
   "cell_type": "code",
   "execution_count": 4,
   "source": [
    "vid_names_hcp = [\"COAXING-B\", \"BILLIARD-A\", \"DRIFTING-A\", \"Fishing\", \"Random mechanical\", \"Scaring\", \"SEDUCING-B\", \"STAR-A\", \"SURPRISING-B\", \"TENNIS-A\"]\n"
   ],
   "outputs": [],
   "metadata": {}
  },
  {
   "cell_type": "markdown",
   "source": [
    "## Preliminary checks - response bias etc."
   ],
   "metadata": {}
  },
  {
   "cell_type": "code",
   "execution_count": 5,
   "source": [
    "x = [-1,0,.5,1]\n",
    "plt.xticks(x,['flip', 'no resp', 'unsure', 'same'])\n",
    "y = plt.hist(dat_all['consistency'].values)\n",
    "\n",
    "print(y) # -1(response flip):56 , 0(response missed):23, 0.5(response changed to unsure):28, 1(consistent):887"
   ],
   "outputs": [
    {
     "output_type": "stream",
     "name": "stdout",
     "text": [
      "(array([ 56.,   0.,   0.,   0.,   0.,  23.,   0.,  28.,   0., 887.]), array([-1. , -0.8, -0.6, -0.4, -0.2,  0. ,  0.2,  0.4,  0.6,  0.8,  1. ]), <BarContainer object of 10 artists>)\n"
     ]
    },
    {
     "output_type": "display_data",
     "data": {
      "image/png": "[encoded data removed]",
      "text/plain": [
       "<Figure size 432x288 with 1 Axes>"
      ]
     },
     "metadata": {
      "needs_background": "light"
     }
    }
   ],
   "metadata": {}
  },
  {
   "cell_type": "code",
   "execution_count": 6,
   "source": [
    "total = 56+23+28+887\n",
    "total"
   ],
   "outputs": [
    {
     "output_type": "execute_result",
     "data": {
      "text/plain": [
       "994"
      ]
     },
     "metadata": {},
     "execution_count": 6
    }
   ],
   "metadata": {}
  },
  {
   "cell_type": "code",
   "execution_count": 7,
   "source": [
    "print('% during-> after changed: \\nflip:',100*56/1000, '%\\nno resp:',100*23/1000, \n",
    "      '%\\nchange to unsure:',100*28/1000, '%\\nconsistent:',100*887/1000, '%')"
   ],
   "outputs": [
    {
     "output_type": "stream",
     "name": "stdout",
     "text": [
      "% during-> after changed: \n",
      "flip: 5.6 %\n",
      "no resp: 2.3 %\n",
      "change to unsure: 2.8 %\n",
      "consistent: 88.7 %\n"
     ]
    }
   ],
   "metadata": {}
  },
  {
   "cell_type": "code",
   "execution_count": 8,
   "source": [
    "# left: social, right: random, down, unsure\n",
    "# Response during : % of left and right responses in the \"during\" phase\n",
    "l_resp_dur = len(np.where(dat_all['respDur_keys'].values == 'left')[0])\n",
    "r_resp_dur = len(np.where(dat_all['respDur_keys'].values == 'right')[0])\n",
    "print(f'left:{100*l_resp_dur/(l_resp_dur+r_resp_dur):.2f}%, right: {100*r_resp_dur/(l_resp_dur+r_resp_dur):.2f}%')\n",
    "#dat_all.groupby(['respDur.keys']).count()"
   ],
   "outputs": [
    {
     "output_type": "stream",
     "name": "stdout",
     "text": [
      "left:49.50%, right: 50.50%\n"
     ]
    }
   ],
   "metadata": {}
  },
  {
   "cell_type": "code",
   "execution_count": 9,
   "source": [
    "# Response after: % of left, right and down responses in the \"after\" phase --> to compare with HCP data\n",
    "l_resp_aft = len(np.where(dat_all['respAfter_keys'].values == 'left')[0])\n",
    "r_resp_aft = len(np.where(dat_all['respAfter_keys'].values == 'right')[0])\n",
    "d_resp_aft = len(np.where(dat_all['respAfter_keys'].values == 'down')[0])\n",
    "\n",
    "print(f'left:{100*l_resp_aft/(l_resp_aft+r_resp_aft+d_resp_aft):.2f}%, right: {100*r_resp_aft/(l_resp_aft+r_resp_aft+d_resp_aft):.2f}%,\\\n",
    "     down: {100*d_resp_aft/(l_resp_aft+r_resp_aft+d_resp_aft):.2f}%')\n",
    "#dat_all.groupby(['respDur.keys']).count()"
   ],
   "outputs": [
    {
     "output_type": "stream",
     "name": "stdout",
     "text": [
      "left:52.83%, right: 44.28%,     down: 2.88%\n"
     ]
    }
   ],
   "metadata": {}
  },
  {
   "cell_type": "code",
   "execution_count": 10,
   "source": [
    "movie_names = ['COAXINGB0','BILLIARDA1','DRIFTINGA2','FISHING3','RANDOMMECH4',\n",
    "              'SCARING5', 'SEDUCINGB6', 'STARA7', 'SURPRISINGB8', 'TENNISA9']"
   ],
   "outputs": [],
   "metadata": {}
  },
  {
   "cell_type": "code",
   "execution_count": 11,
   "source": [
    "dat_all.columns"
   ],
   "outputs": [
    {
     "output_type": "execute_result",
     "data": {
      "text/plain": [
       "Index(['Unnamed: 0', 'sub_ind', 'respDur_keys', 'respDur_rt', 'respAfter_keys',\n",
       "       'respAfter_rt', 'movie', 'date', 'movie_ind', 'consistency'],\n",
       "      dtype='object')"
      ]
     },
     "metadata": {},
     "execution_count": 11
    }
   ],
   "metadata": {}
  },
  {
   "cell_type": "code",
   "execution_count": 12,
   "source": [
    "#red_rgb = [103,0,31] # edges of RdBu\n",
    "#blue_rgb = [5,48,97] # edges of RdBu\n",
    "red_rgb =[188,61,62] # from Emily\n",
    "blue_rgb = [54,122,177] # from Emily\n",
    "red_rgb = np.array(red_rgb)/255\n",
    "blue_rgb = np.array(blue_rgb)/255\n",
    "alpha = .2 # transparency inside boxplots, for datapts etc."
   ],
   "outputs": [],
   "metadata": {}
  },
  {
   "cell_type": "code",
   "execution_count": 13,
   "source": [
    "vid_names_short = np.array([str.upper(i[:4]) for i in vid_names_hcp])\n",
    "vid_names_short"
   ],
   "outputs": [
    {
     "output_type": "execute_result",
     "data": {
      "text/plain": [
       "array(['COAX', 'BILL', 'DRIF', 'FISH', 'RAND', 'SCAR', 'SEDU', 'STAR',\n",
       "       'SURP', 'TENN'], dtype='<U4')"
      ]
     },
     "metadata": {},
     "execution_count": 13
    }
   ],
   "metadata": {}
  },
  {
   "cell_type": "code",
   "execution_count": 14,
   "source": [
    "hcp_socialness_sorted_names = ['SURP','COAX','SEDU','SCAR','FISH','RAND','TENN','STAR','BILL','DRIF']\n",
    "hcp_socialness_sorted_ind = []\n",
    "for i,m1 in enumerate(vid_names_short):\n",
    "    for j,m2 in enumerate(hcp_socialness_sorted_names):\n",
    "        if m1== m2:\n",
    "            hcp_socialness_sorted_ind.append(j)\n",
    "            break\n",
    "print(hcp_socialness_sorted_ind)"
   ],
   "outputs": [
    {
     "output_type": "stream",
     "name": "stdout",
     "text": [
      "[1, 8, 9, 4, 5, 3, 2, 7, 0, 6]\n"
     ]
    }
   ],
   "metadata": {}
  },
  {
   "cell_type": "code",
   "execution_count": 15,
   "source": [
    "fig_save_loc = '/Users/f0053cz/Dropbox (Dartmouth College)/postdoc_Dartmouth/HCP/paper_prep/figures/fig2_onlineRTtask'"
   ],
   "outputs": [],
   "metadata": {}
  },
  {
   "cell_type": "code",
   "execution_count": 16,
   "source": [
    "subsel_data_dur = dat_all.loc[:,['movie_ind','respDur_keys','respDur_rt']].groupby(['movie_ind','respDur_keys']).count()\n",
    "subsel_data_dur = subsel_data_dur.unstack(level = -1)\n",
    "subsel_data_dur = subsel_data_dur.fillna(0)\n",
    "subsel_data_dur['socialness_dur'] = 100*subsel_data_dur['respDur_rt']['left']/(subsel_data_dur['respDur_rt']['left'] + \n",
    "                                                            subsel_data_dur['respDur_rt']['right'])\n",
    "subsel_data_dur['nonsocialness_dur'] = 100*subsel_data_dur['respDur_rt']['right']/(subsel_data_dur['respDur_rt']['left'] + \n",
    "                                                            subsel_data_dur['respDur_rt']['right'])\n",
    "subsel_data_dur['socialness_rank_hcp'] = hcp_socialness_sorted_ind\n",
    "#subsel_data_dur = subsel_data_dur.sort_values(by='socialness_dur')\n",
    "subsel_data_dur = subsel_data_dur.sort_values(by='socialness_rank_hcp',ascending=False)\n",
    "subsel_data_dur"
   ],
   "outputs": [
    {
     "output_type": "execute_result",
     "data": {
      "text/html": [
       "<div>\n",
       "<style scoped>\n",
       "    .dataframe tbody tr th:only-of-type {\n",
       "        vertical-align: middle;\n",
       "    }\n",
       "\n",
       "    .dataframe tbody tr th {\n",
       "        vertical-align: top;\n",
       "    }\n",
       "\n",
       "    .dataframe thead tr th {\n",
       "        text-align: left;\n",
       "    }\n",
       "\n",
       "    .dataframe thead tr:last-of-type th {\n",
       "        text-align: right;\n",
       "    }\n",
       "</style>\n",
       "<table border=\"1\" class=\"dataframe\">\n",
       "  <thead>\n",
       "    <tr>\n",
       "      <th></th>\n",
       "      <th colspan=\"2\" halign=\"left\">respDur_rt</th>\n",
       "      <th>socialness_dur</th>\n",
       "      <th>nonsocialness_dur</th>\n",
       "      <th>socialness_rank_hcp</th>\n",
       "    </tr>\n",
       "    <tr>\n",
       "      <th>respDur_keys</th>\n",
       "      <th>left</th>\n",
       "      <th>right</th>\n",
       "      <th></th>\n",
       "      <th></th>\n",
       "      <th></th>\n",
       "    </tr>\n",
       "    <tr>\n",
       "      <th>movie_ind</th>\n",
       "      <th></th>\n",
       "      <th></th>\n",
       "      <th></th>\n",
       "      <th></th>\n",
       "      <th></th>\n",
       "    </tr>\n",
       "  </thead>\n",
       "  <tbody>\n",
       "    <tr>\n",
       "      <th>2.0</th>\n",
       "      <td>4</td>\n",
       "      <td>95</td>\n",
       "      <td>4.040404</td>\n",
       "      <td>95.959596</td>\n",
       "      <td>9</td>\n",
       "    </tr>\n",
       "    <tr>\n",
       "      <th>1.0</th>\n",
       "      <td>2</td>\n",
       "      <td>98</td>\n",
       "      <td>2.000000</td>\n",
       "      <td>98.000000</td>\n",
       "      <td>8</td>\n",
       "    </tr>\n",
       "    <tr>\n",
       "      <th>7.0</th>\n",
       "      <td>6</td>\n",
       "      <td>94</td>\n",
       "      <td>6.000000</td>\n",
       "      <td>94.000000</td>\n",
       "      <td>7</td>\n",
       "    </tr>\n",
       "    <tr>\n",
       "      <th>9.0</th>\n",
       "      <td>8</td>\n",
       "      <td>91</td>\n",
       "      <td>8.080808</td>\n",
       "      <td>91.919192</td>\n",
       "      <td>6</td>\n",
       "    </tr>\n",
       "    <tr>\n",
       "      <th>4.0</th>\n",
       "      <td>10</td>\n",
       "      <td>89</td>\n",
       "      <td>10.101010</td>\n",
       "      <td>89.898990</td>\n",
       "      <td>5</td>\n",
       "    </tr>\n",
       "    <tr>\n",
       "      <th>3.0</th>\n",
       "      <td>91</td>\n",
       "      <td>8</td>\n",
       "      <td>91.919192</td>\n",
       "      <td>8.080808</td>\n",
       "      <td>4</td>\n",
       "    </tr>\n",
       "    <tr>\n",
       "      <th>5.0</th>\n",
       "      <td>81</td>\n",
       "      <td>17</td>\n",
       "      <td>82.653061</td>\n",
       "      <td>17.346939</td>\n",
       "      <td>3</td>\n",
       "    </tr>\n",
       "    <tr>\n",
       "      <th>6.0</th>\n",
       "      <td>98</td>\n",
       "      <td>2</td>\n",
       "      <td>98.000000</td>\n",
       "      <td>2.000000</td>\n",
       "      <td>2</td>\n",
       "    </tr>\n",
       "    <tr>\n",
       "      <th>0.0</th>\n",
       "      <td>96</td>\n",
       "      <td>4</td>\n",
       "      <td>96.000000</td>\n",
       "      <td>4.000000</td>\n",
       "      <td>1</td>\n",
       "    </tr>\n",
       "    <tr>\n",
       "      <th>8.0</th>\n",
       "      <td>96</td>\n",
       "      <td>4</td>\n",
       "      <td>96.000000</td>\n",
       "      <td>4.000000</td>\n",
       "      <td>0</td>\n",
       "    </tr>\n",
       "  </tbody>\n",
       "</table>\n",
       "</div>"
      ],
      "text/plain": [
       "             respDur_rt       socialness_dur nonsocialness_dur  \\\n",
       "respDur_keys       left right                                    \n",
       "movie_ind                                                        \n",
       "2.0                   4    95       4.040404         95.959596   \n",
       "1.0                   2    98       2.000000         98.000000   \n",
       "7.0                   6    94       6.000000         94.000000   \n",
       "9.0                   8    91       8.080808         91.919192   \n",
       "4.0                  10    89      10.101010         89.898990   \n",
       "3.0                  91     8      91.919192          8.080808   \n",
       "5.0                  81    17      82.653061         17.346939   \n",
       "6.0                  98     2      98.000000          2.000000   \n",
       "0.0                  96     4      96.000000          4.000000   \n",
       "8.0                  96     4      96.000000          4.000000   \n",
       "\n",
       "             socialness_rank_hcp  \n",
       "respDur_keys                      \n",
       "movie_ind                         \n",
       "2.0                            9  \n",
       "1.0                            8  \n",
       "7.0                            7  \n",
       "9.0                            6  \n",
       "4.0                            5  \n",
       "3.0                            4  \n",
       "5.0                            3  \n",
       "6.0                            2  \n",
       "0.0                            1  \n",
       "8.0                            0  "
      ]
     },
     "metadata": {},
     "execution_count": 16
    }
   ],
   "metadata": {}
  },
  {
   "cell_type": "code",
   "execution_count": 17,
   "source": [
    "#vid_movie_ticks = [str.upper(vid_joined[i].split('-')[0]) for i in counts.index]\n",
    "#vid_movie_ticks[4] = 'RAND MECH'\n",
    "#vid_movie_ticks"
   ],
   "outputs": [],
   "metadata": {}
  },
  {
   "cell_type": "code",
   "execution_count": 18,
   "source": [
    "# plot mean socialness\n",
    "#during\n",
    "#plt.figure(1,figsize=(10,5))\n",
    "def figure_1S_a(ax):\n",
    "    subsel_data_dur = dat_all.loc[:,['movie_ind','respDur_keys','respDur_rt']].groupby(['movie_ind','respDur_keys']).count()\n",
    "    subsel_data_dur = subsel_data_dur.unstack(level = -1)\n",
    "    subsel_data_dur = subsel_data_dur.fillna(0)\n",
    "    subsel_data_dur['socialness_dur'] = 100*subsel_data_dur['respDur_rt']['left']/(subsel_data_dur['respDur_rt']['left'] + \n",
    "                                                                subsel_data_dur['respDur_rt']['right'])\n",
    "    subsel_data_dur['nonsocialness_dur'] = 100*subsel_data_dur['respDur_rt']['right']/(subsel_data_dur['respDur_rt']['left'] + \n",
    "                                                                subsel_data_dur['respDur_rt']['right'])\n",
    "    subsel_data_dur['socialness_rank_hcp'] = hcp_socialness_sorted_ind\n",
    "    #subsel_data_dur = subsel_data_dur.sort_values(by='socialness_dur')\n",
    "    subsel_data_dur = subsel_data_dur.sort_values(by='socialness_rank_hcp',ascending=False)\n",
    "    ax.barh(range(10),subsel_data_dur['socialness_dur'].values,color = red_rgb, align='edge', height = -.4, label='\"Social\" during', alpha=.7)\n",
    "    ax.barh(range(10),subsel_data_dur['nonsocialness_dur'].values,left=subsel_data_dur['socialness_dur'].values,color = blue_rgb, align='edge', height = -.4, label='\"Non-social\" during', alpha=.7)\n",
    "    #lbls = [str.upper(i[:4]) for i in movie_names]\n",
    "    lbls=[]\n",
    "    for i in subsel_data_dur.index:\n",
    "        m = str.upper(movie_names[int(i)])\n",
    "        if ('FISH' in m) | ('SCAR' in m):\n",
    "            lbls.append(m[:-1])\n",
    "        elif ('RAND' in m):\n",
    "            lbls.append('RAND MECH')\n",
    "        else:\n",
    "            lbls.append(m[:-2])\n",
    "        \n",
    "    #plt.xticks(subsel_data.index)\n",
    "    plt.yticks(np.arange(10),lbls, rotation = 0)\n",
    "    #plt.ylim(.7,1)\n",
    "\n",
    "    #after\n",
    "    subsel_data_aft = dat_all.loc[:,['movie_ind','respAfter_keys','respAfter_rt']].groupby(['movie_ind','respAfter_keys']).count()\n",
    "    subsel_data_aft = subsel_data_aft.unstack(level = -1)\n",
    "    subsel_data_aft = subsel_data_aft.fillna(0)\n",
    "    subsel_data_aft['socialness_aft'] = 100*subsel_data_aft['respAfter_rt']['left']/(subsel_data_aft['respAfter_rt']['left'] + \n",
    "                                                                subsel_data_aft['respAfter_rt']['right'] + subsel_data_aft['respAfter_rt']['down'])\n",
    "    subsel_data_aft['nonsocialness_aft'] = 100*subsel_data_aft['respAfter_rt']['right']/(subsel_data_aft['respAfter_rt']['left'] + \n",
    "                                                                subsel_data_aft['respAfter_rt']['right'] + subsel_data_aft['respAfter_rt']['down'])\n",
    "    subsel_data_aft['unsure_aft'] = 100*subsel_data_aft['respAfter_rt']['down']/(subsel_data_aft['respAfter_rt']['left'] + \n",
    "                                                                subsel_data_aft['respAfter_rt']['right'] + subsel_data_aft['respAfter_rt']['down'])                                                            \n",
    "    #subsel_data_aft['socialness_dur'] = subsel_data_dur['socialness_dur']\n",
    "    #subsel_data_aft = subsel_data_aft.sort_values(by='socialness_dur')\n",
    "\n",
    "    subsel_data_aft['socialness_rank_hcp'] = hcp_socialness_sorted_ind\n",
    "    subsel_data_aft = subsel_data_aft.sort_values(by='socialness_rank_hcp',ascending=False)\n",
    "\n",
    "    plt.barh(range(10),subsel_data_aft['socialness_aft'].values,color= red_rgb, align='edge', height = .4, label='\"Social\" after')\n",
    "    plt.barh(range(10),subsel_data_aft['nonsocialness_aft'].values,left=subsel_data_aft['socialness_aft'].values,color = blue_rgb, align='edge', height = .4, label='\"Non-social\" after')\n",
    "    plt.barh(range(10),subsel_data_aft['unsure_aft'].values,left=(subsel_data_aft['socialness_aft'].values+subsel_data_aft['nonsocialness_aft'].values),color = 'grey', align='edge', height = .4, label='\"Unsure\" after')\n",
    "    #lbls = [str.upper(i[:4]) for i in movie_names]\n",
    "\n",
    "    #plt.xticks(subsel_data.index)\n",
    "    plt.xlim(-1,101)\n",
    "    #plt.title('Socialness per movie after', fontweight = 'bold')\n",
    "    ax.legend(bbox_to_anchor=[1,1])#,fontsize=20)\n",
    "    ax.set_xlabel('% of participants',fontsize=20)\n",
    "    #ax.set_title('Response time (sec) during/after each movie', fontweight = 'bold',fontsize=16)\n",
    "    #ax.set_title('Number of responses during/after each movie', fontweight = 'bold',fontsize=16)\n",
    "\n",
    "fig = plt.figure(1,figsize=(10,5))\n",
    "ax = fig.add_subplot(111)\n",
    "figure_1S_a(ax) # Fig 2a in the final version\n",
    "plt.savefig(os.path.join(fig_save_loc,'fig1S_nr_of_responses.png'),dpi=300,bbox_inches='tight',facecolor='white', edgecolor='none')\n"
   ],
   "outputs": [
    {
     "output_type": "display_data",
     "data": {
      "image/png": "[encoded data removed]",
      "text/plain": [
       "<Figure size 720x360 with 1 Axes>"
      ]
     },
     "metadata": {
      "needs_background": "light"
     }
    }
   ],
   "metadata": {}
  },
  {
   "cell_type": "code",
   "execution_count": 19,
   "source": [
    "# plot certainty/unanimity in perception\n",
    "subsel_data_dur['unanimity'] = np.abs(0.5-subsel_data_dur['socialness_dur']/100)\n",
    "plt.bar(range(10),subsel_data_dur['unanimity'].values)\n",
    "lbls = [str.upper(i[:4]) for i in movie_names]\n",
    "plt.xticks(np.arange(10),[str.upper(movie_names[int(i)][:4]) for i in subsel_data_dur.index], rotation = 30)\n",
    "#plt.ylim(.7,1)\n",
    "plt.xlabel('')\n",
    "plt.ylabel('Absolute distance\\nfrom 0.5')\n",
    "plt.xlabel('Movies, sorted by socialness_dur')\n",
    "plt.title('Unanimity in the sample during', fontweight = 'bold')"
   ],
   "outputs": [
    {
     "output_type": "execute_result",
     "data": {
      "text/plain": [
       "Text(0.5, 1.0, 'Unanimity in the sample during')"
      ]
     },
     "metadata": {},
     "execution_count": 19
    },
    {
     "output_type": "display_data",
     "data": {
      "image/png": "[encoded data removed]",
      "text/plain": [
       "<Figure size 432x288 with 1 Axes>"
      ]
     },
     "metadata": {
      "needs_background": "light"
     }
    }
   ],
   "metadata": {}
  },
  {
   "cell_type": "markdown",
   "source": [
    "- above: Another way of presenting earlier data: most ambiguous movies are halfway between extreme social or nonsocial."
   ],
   "metadata": {}
  },
  {
   "cell_type": "code",
   "execution_count": 20,
   "source": [
    "mat = dat_all.groupby(['movie_ind','consistency']).count().unstack(level=-1)\n",
    "print(mat)\n",
    "mat['respDur_keys'][1.0].values # consistent"
   ],
   "outputs": [
    {
     "output_type": "stream",
     "name": "stdout",
     "text": [
      "            Unnamed: 0                 sub_ind                 respDur_keys  \\\n",
      "consistency       -1.0  0.0  0.5   1.0    -1.0  0.0  0.5   1.0         -1.0   \n",
      "movie_ind                                                                     \n",
      "0.0                3.0  3.0  1.0  93.0     3.0  3.0  1.0  93.0          3.0   \n",
      "1.0                1.0  3.0  2.0  94.0     1.0  3.0  2.0  94.0          1.0   \n",
      "2.0                2.0  NaN  3.0  94.0     2.0  NaN  3.0  94.0          2.0   \n",
      "3.0                7.0  2.0  1.0  89.0     7.0  2.0  1.0  89.0          7.0   \n",
      "4.0               13.0  4.0  5.0  77.0    13.0  4.0  5.0  77.0         13.0   \n",
      "5.0               17.0  2.0  1.0  78.0    17.0  2.0  1.0  78.0         17.0   \n",
      "6.0                1.0  NaN  NaN  99.0     1.0  NaN  NaN  99.0          1.0   \n",
      "7.0                2.0  3.0  6.0  89.0     2.0  3.0  6.0  89.0          2.0   \n",
      "8.0                3.0  3.0  NaN  94.0     3.0  3.0  NaN  94.0          3.0   \n",
      "9.0                7.0  3.0  9.0  80.0     7.0  3.0  9.0  80.0          7.0   \n",
      "\n",
      "                  ... respAfter_rt       movie                  date       \\\n",
      "consistency  0.0  ...          0.5   1.0  -1.0  0.0  0.5   1.0  -1.0  0.0   \n",
      "movie_ind         ...                                                       \n",
      "0.0          3.0  ...          1.0  93.0   3.0  3.0  1.0  93.0   3.0  3.0   \n",
      "1.0          3.0  ...          2.0  94.0   1.0  3.0  2.0  94.0   1.0  3.0   \n",
      "2.0          NaN  ...          3.0  94.0   2.0  NaN  3.0  94.0   2.0  NaN   \n",
      "3.0          2.0  ...          1.0  89.0   7.0  2.0  1.0  89.0   7.0  2.0   \n",
      "4.0          4.0  ...          5.0  77.0  13.0  4.0  5.0  77.0  13.0  4.0   \n",
      "5.0          2.0  ...          1.0  78.0  17.0  2.0  1.0  78.0  17.0  2.0   \n",
      "6.0          NaN  ...          NaN  99.0   1.0  NaN  NaN  99.0   1.0  NaN   \n",
      "7.0          3.0  ...          6.0  89.0   2.0  3.0  6.0  89.0   2.0  3.0   \n",
      "8.0          3.0  ...          NaN  94.0   3.0  3.0  NaN  94.0   3.0  3.0   \n",
      "9.0          3.0  ...          9.0  80.0   7.0  3.0  9.0  80.0   7.0  3.0   \n",
      "\n",
      "                        \n",
      "consistency  0.5   1.0  \n",
      "movie_ind               \n",
      "0.0          1.0  93.0  \n",
      "1.0          2.0  94.0  \n",
      "2.0          3.0  94.0  \n",
      "3.0          1.0  89.0  \n",
      "4.0          5.0  77.0  \n",
      "5.0          1.0  78.0  \n",
      "6.0          NaN  99.0  \n",
      "7.0          6.0  89.0  \n",
      "8.0          NaN  94.0  \n",
      "9.0          9.0  80.0  \n",
      "\n",
      "[10 rows x 32 columns]\n"
     ]
    },
    {
     "output_type": "execute_result",
     "data": {
      "text/plain": [
       "array([93., 94., 94., 89., 77., 78., 99., 89., 94., 80.])"
      ]
     },
     "metadata": {},
     "execution_count": 20
    }
   ],
   "metadata": {}
  },
  {
   "cell_type": "code",
   "execution_count": 21,
   "source": [
    "moviewise_cons = mat['respDur_keys'][1.0].values # consistent\n",
    "total_subs_per_movie = np.nansum(mat['respDur_keys'].values, axis =1) #both consistent and inconsistent\n",
    "total_subs_per_movie"
   ],
   "outputs": [
    {
     "output_type": "execute_result",
     "data": {
      "text/plain": [
       "array([100., 100.,  99.,  99.,  99.,  98., 100., 100., 100.,  99.])"
      ]
     },
     "metadata": {},
     "execution_count": 21
    }
   ],
   "metadata": {}
  },
  {
   "cell_type": "code",
   "execution_count": 22,
   "source": [
    "# consistency: fraction of trials where response during = response after\n",
    "ncons = len(np.where(dat_all['consistency'] == 1)[0])\n",
    "pc_consistency_all = 100*ncons/dat_all.shape[0]\n",
    "print('Consistency, i.e., fraction of trials with \"during = after\": ', pc_consistency_all)\n",
    "\n",
    "mat = dat_all.groupby(['movie_ind','consistency']).count().unstack(level=-1)\n",
    "moviewise_cons = mat['respDur_keys'][1.0].values\n",
    "total_subs_per_movie = np.nansum(mat['respDur_keys'].values, axis =1)\n",
    "plt.bar(range(10),100*np.divide(moviewise_cons,total_subs_per_movie))\n",
    "lbls = [str.upper(i[:4]) for i in movie_names]\n",
    "plt.xticks(np.arange(10),lbls, rotation = 30)\n",
    "plt.ylim(70,100)\n",
    "plt.xlabel('')\n",
    "plt.ylabel('% of trials w/\\nduringResp = afterResp')\n",
    "plt.title('During-After response consistency', fontweight = 'bold')\n"
   ],
   "outputs": [
    {
     "output_type": "stream",
     "name": "stdout",
     "text": [
      "Consistency, i.e., fraction of trials with \"during = after\":  89.2354124748491\n"
     ]
    },
    {
     "output_type": "execute_result",
     "data": {
      "text/plain": [
       "Text(0.5, 1.0, 'During-After response consistency')"
      ]
     },
     "metadata": {},
     "execution_count": 22
    },
    {
     "output_type": "display_data",
     "data": {
      "image/png": "[encoded data removed]",
      "text/plain": [
       "<Figure size 432x288 with 1 Axes>"
      ]
     },
     "metadata": {
      "needs_background": "light"
     }
    }
   ],
   "metadata": {}
  },
  {
   "cell_type": "markdown",
   "source": [
    "- Looks like some of our generally ambiguous movies (random mech, tennis etc.) also show less during-after consistency - suggesting evidence accumulation even after an early decision making during."
   ],
   "metadata": {}
  },
  {
   "cell_type": "code",
   "execution_count": 24,
   "source": [
    "#before removing inconsistent responses, coaxing (CHECKING)\n",
    "dat_all.loc[dat_all['movie_ind']==0,:].groupby(['respDur_keys','consistency']).count()"
   ],
   "outputs": [
    {
     "output_type": "execute_result",
     "data": {
      "text/html": [
       "<div>\n",
       "<style scoped>\n",
       "    .dataframe tbody tr th:only-of-type {\n",
       "        vertical-align: middle;\n",
       "    }\n",
       "\n",
       "    .dataframe tbody tr th {\n",
       "        vertical-align: top;\n",
       "    }\n",
       "\n",
       "    .dataframe thead th {\n",
       "        text-align: right;\n",
       "    }\n",
       "</style>\n",
       "<table border=\"1\" class=\"dataframe\">\n",
       "  <thead>\n",
       "    <tr style=\"text-align: right;\">\n",
       "      <th></th>\n",
       "      <th></th>\n",
       "      <th>Unnamed: 0</th>\n",
       "      <th>sub_ind</th>\n",
       "      <th>respDur_rt</th>\n",
       "      <th>respAfter_keys</th>\n",
       "      <th>respAfter_rt</th>\n",
       "      <th>movie</th>\n",
       "      <th>date</th>\n",
       "      <th>movie_ind</th>\n",
       "    </tr>\n",
       "    <tr>\n",
       "      <th>respDur_keys</th>\n",
       "      <th>consistency</th>\n",
       "      <th></th>\n",
       "      <th></th>\n",
       "      <th></th>\n",
       "      <th></th>\n",
       "      <th></th>\n",
       "      <th></th>\n",
       "      <th></th>\n",
       "      <th></th>\n",
       "    </tr>\n",
       "  </thead>\n",
       "  <tbody>\n",
       "    <tr>\n",
       "      <th rowspan=\"3\" valign=\"top\">left</th>\n",
       "      <th>0.0</th>\n",
       "      <td>2</td>\n",
       "      <td>2</td>\n",
       "      <td>2</td>\n",
       "      <td>0</td>\n",
       "      <td>0</td>\n",
       "      <td>2</td>\n",
       "      <td>2</td>\n",
       "      <td>2</td>\n",
       "    </tr>\n",
       "    <tr>\n",
       "      <th>0.5</th>\n",
       "      <td>1</td>\n",
       "      <td>1</td>\n",
       "      <td>1</td>\n",
       "      <td>1</td>\n",
       "      <td>1</td>\n",
       "      <td>1</td>\n",
       "      <td>1</td>\n",
       "      <td>1</td>\n",
       "    </tr>\n",
       "    <tr>\n",
       "      <th>1.0</th>\n",
       "      <td>93</td>\n",
       "      <td>93</td>\n",
       "      <td>93</td>\n",
       "      <td>93</td>\n",
       "      <td>93</td>\n",
       "      <td>93</td>\n",
       "      <td>93</td>\n",
       "      <td>93</td>\n",
       "    </tr>\n",
       "    <tr>\n",
       "      <th rowspan=\"2\" valign=\"top\">right</th>\n",
       "      <th>-1.0</th>\n",
       "      <td>3</td>\n",
       "      <td>3</td>\n",
       "      <td>3</td>\n",
       "      <td>3</td>\n",
       "      <td>3</td>\n",
       "      <td>3</td>\n",
       "      <td>3</td>\n",
       "      <td>3</td>\n",
       "    </tr>\n",
       "    <tr>\n",
       "      <th>0.0</th>\n",
       "      <td>1</td>\n",
       "      <td>1</td>\n",
       "      <td>1</td>\n",
       "      <td>0</td>\n",
       "      <td>0</td>\n",
       "      <td>1</td>\n",
       "      <td>1</td>\n",
       "      <td>1</td>\n",
       "    </tr>\n",
       "  </tbody>\n",
       "</table>\n",
       "</div>"
      ],
      "text/plain": [
       "                          Unnamed: 0  sub_ind  respDur_rt  respAfter_keys  \\\n",
       "respDur_keys consistency                                                    \n",
       "left          0.0                  2        2           2               0   \n",
       "              0.5                  1        1           1               1   \n",
       "              1.0                 93       93          93              93   \n",
       "right        -1.0                  3        3           3               3   \n",
       "              0.0                  1        1           1               0   \n",
       "\n",
       "                          respAfter_rt  movie  date  movie_ind  \n",
       "respDur_keys consistency                                        \n",
       "left          0.0                    0      2     2          2  \n",
       "              0.5                    1      1     1          1  \n",
       "              1.0                   93     93    93         93  \n",
       "right        -1.0                    3      3     3          3  \n",
       "              0.0                    0      1     1          1  "
      ]
     },
     "metadata": {},
     "execution_count": 24
    }
   ],
   "metadata": {}
  },
  {
   "cell_type": "code",
   "execution_count": 25,
   "source": [
    "#pop_response = ['left','right','left'] # popular response for 3 movies of interest\n",
    "#movie_inds = [0,1,6]\n",
    "#for i in range(3):\n",
    "#    print(dat_all.loc[(dat_all['movie']==movie_names[movie_inds[i]])&(dat_all['respDur_keys']==pop_response[i]),'respDur_rt'].mean(skipna=True))"
   ],
   "outputs": [],
   "metadata": {}
  },
  {
   "cell_type": "code",
   "execution_count": 26,
   "source": [
    "# trying to understand some inconsistencies in reporting the coax-bill median and sem rt in the paper.\n",
    "# Was this including some inconsistent responses or bad subs?\n",
    "# Run ONLY if needed\n",
    "# Visualising median RT during and after for each movie based on responses\n",
    "print('\\nMedian RT per movie (note:there were very few responses in the nondominant category):')\n",
    "print(dat_all.groupby(['movie_ind','respDur_keys']).median().loc[:,['respDur_rt','respAfter_rt']])\n",
    "\n",
    "# Visualising median RT during and after for each movie based on responses\n",
    "print('\\nSEM RT per movie (note:there were very few responses in the nondominant category):')\n",
    "dat_all.groupby(['movie_ind','respDur_keys']).sem().loc[:,['respDur_rt','respAfter_rt']]\n",
    "\n",
    "# clarified; these SEMs were reported in the paper!"
   ],
   "outputs": [
    {
     "output_type": "stream",
     "name": "stdout",
     "text": [
      "\n",
      "Median RT per movie (note:there were very few responses in the nondominant category):\n",
      "                        respDur_rt  respAfter_rt\n",
      "movie_ind respDur_keys                          \n",
      "0.0       left             3.46667      0.861905\n",
      "          right            4.65145      0.548600\n",
      "1.0       left             7.66750      0.592600\n",
      "          right            3.80850      0.698700\n",
      "2.0       left            10.85820      0.723950\n",
      "          right            5.36690      0.706500\n",
      "3.0       left             6.36350      0.893100\n",
      "          right            9.30460      0.772047\n",
      "4.0       left            13.87245      1.051450\n",
      "          right            5.62900      0.851100\n",
      "5.0       left            10.03500      0.767350\n",
      "          right            8.26450      0.609600\n",
      "6.0       left             5.09975      0.613050\n",
      "          right            2.58425      0.765100\n",
      "7.0       left             9.06800      0.497950\n",
      "          right            5.10090      0.622500\n",
      "8.0       left             6.05110      0.753800\n",
      "          right            7.04375      0.630400\n",
      "9.0       left            12.95155      1.068900\n",
      "          right            4.06540      0.855400\n",
      "\n",
      "SEM RT per movie (note:there were very few responses in the nondominant category):\n"
     ]
    },
    {
     "output_type": "execute_result",
     "data": {
      "text/html": [
       "<div>\n",
       "<style scoped>\n",
       "    .dataframe tbody tr th:only-of-type {\n",
       "        vertical-align: middle;\n",
       "    }\n",
       "\n",
       "    .dataframe tbody tr th {\n",
       "        vertical-align: top;\n",
       "    }\n",
       "\n",
       "    .dataframe thead th {\n",
       "        text-align: right;\n",
       "    }\n",
       "</style>\n",
       "<table border=\"1\" class=\"dataframe\">\n",
       "  <thead>\n",
       "    <tr style=\"text-align: right;\">\n",
       "      <th></th>\n",
       "      <th></th>\n",
       "      <th>respDur_rt</th>\n",
       "      <th>respAfter_rt</th>\n",
       "    </tr>\n",
       "    <tr>\n",
       "      <th>movie_ind</th>\n",
       "      <th>respDur_keys</th>\n",
       "      <th></th>\n",
       "      <th></th>\n",
       "    </tr>\n",
       "  </thead>\n",
       "  <tbody>\n",
       "    <tr>\n",
       "      <th rowspan=\"2\" valign=\"top\">0.0</th>\n",
       "      <th>left</th>\n",
       "      <td>0.248316</td>\n",
       "      <td>0.053104</td>\n",
       "    </tr>\n",
       "    <tr>\n",
       "      <th>right</th>\n",
       "      <td>1.908425</td>\n",
       "      <td>0.300074</td>\n",
       "    </tr>\n",
       "    <tr>\n",
       "      <th rowspan=\"2\" valign=\"top\">1.0</th>\n",
       "      <th>left</th>\n",
       "      <td>1.874300</td>\n",
       "      <td>0.045100</td>\n",
       "    </tr>\n",
       "    <tr>\n",
       "      <th>right</th>\n",
       "      <td>0.263924</td>\n",
       "      <td>0.054393</td>\n",
       "    </tr>\n",
       "    <tr>\n",
       "      <th rowspan=\"2\" valign=\"top\">2.0</th>\n",
       "      <th>left</th>\n",
       "      <td>0.425447</td>\n",
       "      <td>0.555435</td>\n",
       "    </tr>\n",
       "    <tr>\n",
       "      <th>right</th>\n",
       "      <td>0.383892</td>\n",
       "      <td>0.056032</td>\n",
       "    </tr>\n",
       "    <tr>\n",
       "      <th rowspan=\"2\" valign=\"top\">3.0</th>\n",
       "      <th>left</th>\n",
       "      <td>0.387884</td>\n",
       "      <td>0.051894</td>\n",
       "    </tr>\n",
       "    <tr>\n",
       "      <th>right</th>\n",
       "      <td>1.682393</td>\n",
       "      <td>0.175711</td>\n",
       "    </tr>\n",
       "    <tr>\n",
       "      <th rowspan=\"2\" valign=\"top\">4.0</th>\n",
       "      <th>left</th>\n",
       "      <td>1.495996</td>\n",
       "      <td>0.230890</td>\n",
       "    </tr>\n",
       "    <tr>\n",
       "      <th>right</th>\n",
       "      <td>0.458823</td>\n",
       "      <td>0.056886</td>\n",
       "    </tr>\n",
       "    <tr>\n",
       "      <th rowspan=\"2\" valign=\"top\">5.0</th>\n",
       "      <th>left</th>\n",
       "      <td>0.522265</td>\n",
       "      <td>0.044507</td>\n",
       "    </tr>\n",
       "    <tr>\n",
       "      <th>right</th>\n",
       "      <td>0.758568</td>\n",
       "      <td>0.062443</td>\n",
       "    </tr>\n",
       "    <tr>\n",
       "      <th rowspan=\"2\" valign=\"top\">6.0</th>\n",
       "      <th>left</th>\n",
       "      <td>0.255915</td>\n",
       "      <td>0.042641</td>\n",
       "    </tr>\n",
       "    <tr>\n",
       "      <th>right</th>\n",
       "      <td>0.371250</td>\n",
       "      <td>0.237900</td>\n",
       "    </tr>\n",
       "    <tr>\n",
       "      <th rowspan=\"2\" valign=\"top\">7.0</th>\n",
       "      <th>left</th>\n",
       "      <td>2.537832</td>\n",
       "      <td>0.269801</td>\n",
       "    </tr>\n",
       "    <tr>\n",
       "      <th>right</th>\n",
       "      <td>0.286312</td>\n",
       "      <td>0.042745</td>\n",
       "    </tr>\n",
       "    <tr>\n",
       "      <th rowspan=\"2\" valign=\"top\">8.0</th>\n",
       "      <th>left</th>\n",
       "      <td>0.292309</td>\n",
       "      <td>0.037513</td>\n",
       "    </tr>\n",
       "    <tr>\n",
       "      <th>right</th>\n",
       "      <td>1.968728</td>\n",
       "      <td>0.185583</td>\n",
       "    </tr>\n",
       "    <tr>\n",
       "      <th rowspan=\"2\" valign=\"top\">9.0</th>\n",
       "      <th>left</th>\n",
       "      <td>1.356928</td>\n",
       "      <td>0.167248</td>\n",
       "    </tr>\n",
       "    <tr>\n",
       "      <th>right</th>\n",
       "      <td>0.329482</td>\n",
       "      <td>0.045715</td>\n",
       "    </tr>\n",
       "  </tbody>\n",
       "</table>\n",
       "</div>"
      ],
      "text/plain": [
       "                        respDur_rt  respAfter_rt\n",
       "movie_ind respDur_keys                          \n",
       "0.0       left            0.248316      0.053104\n",
       "          right           1.908425      0.300074\n",
       "1.0       left            1.874300      0.045100\n",
       "          right           0.263924      0.054393\n",
       "2.0       left            0.425447      0.555435\n",
       "          right           0.383892      0.056032\n",
       "3.0       left            0.387884      0.051894\n",
       "          right           1.682393      0.175711\n",
       "4.0       left            1.495996      0.230890\n",
       "          right           0.458823      0.056886\n",
       "5.0       left            0.522265      0.044507\n",
       "          right           0.758568      0.062443\n",
       "6.0       left            0.255915      0.042641\n",
       "          right           0.371250      0.237900\n",
       "7.0       left            2.537832      0.269801\n",
       "          right           0.286312      0.042745\n",
       "8.0       left            0.292309      0.037513\n",
       "          right           1.968728      0.185583\n",
       "9.0       left            1.356928      0.167248\n",
       "          right           0.329482      0.045715"
      ]
     },
     "metadata": {},
     "execution_count": 26
    }
   ],
   "metadata": {}
  },
  {
   "cell_type": "code",
   "execution_count": 27,
   "source": [
    "# remove trials with different during-after responses \n",
    "# note: during != after can also be due to a missed or unsure response, not just flipping opinion!!!\n",
    "# best to not interpret inconsistent trials unless the flip is from Yes to No\n",
    "dat_all= dat_all.loc[dat_all['consistency']==1,:]\n",
    "dat_all.shape"
   ],
   "outputs": [
    {
     "output_type": "execute_result",
     "data": {
      "text/plain": [
       "(887, 10)"
      ]
     },
     "metadata": {},
     "execution_count": 27
    }
   ],
   "metadata": {}
  },
  {
   "cell_type": "code",
   "execution_count": 28,
   "source": [
    "#after removing inconsistent responses. movie coaxing  (CHECKING)\n",
    "dat_all.loc[dat_all['movie_ind']==0,:].groupby(['respDur_keys','consistency']).count() \n",
    "# no right-right responses for coaxing"
   ],
   "outputs": [
    {
     "output_type": "execute_result",
     "data": {
      "text/html": [
       "<div>\n",
       "<style scoped>\n",
       "    .dataframe tbody tr th:only-of-type {\n",
       "        vertical-align: middle;\n",
       "    }\n",
       "\n",
       "    .dataframe tbody tr th {\n",
       "        vertical-align: top;\n",
       "    }\n",
       "\n",
       "    .dataframe thead th {\n",
       "        text-align: right;\n",
       "    }\n",
       "</style>\n",
       "<table border=\"1\" class=\"dataframe\">\n",
       "  <thead>\n",
       "    <tr style=\"text-align: right;\">\n",
       "      <th></th>\n",
       "      <th></th>\n",
       "      <th>Unnamed: 0</th>\n",
       "      <th>sub_ind</th>\n",
       "      <th>respDur_rt</th>\n",
       "      <th>respAfter_keys</th>\n",
       "      <th>respAfter_rt</th>\n",
       "      <th>movie</th>\n",
       "      <th>date</th>\n",
       "      <th>movie_ind</th>\n",
       "    </tr>\n",
       "    <tr>\n",
       "      <th>respDur_keys</th>\n",
       "      <th>consistency</th>\n",
       "      <th></th>\n",
       "      <th></th>\n",
       "      <th></th>\n",
       "      <th></th>\n",
       "      <th></th>\n",
       "      <th></th>\n",
       "      <th></th>\n",
       "      <th></th>\n",
       "    </tr>\n",
       "  </thead>\n",
       "  <tbody>\n",
       "    <tr>\n",
       "      <th>left</th>\n",
       "      <th>1.0</th>\n",
       "      <td>93</td>\n",
       "      <td>93</td>\n",
       "      <td>93</td>\n",
       "      <td>93</td>\n",
       "      <td>93</td>\n",
       "      <td>93</td>\n",
       "      <td>93</td>\n",
       "      <td>93</td>\n",
       "    </tr>\n",
       "  </tbody>\n",
       "</table>\n",
       "</div>"
      ],
      "text/plain": [
       "                          Unnamed: 0  sub_ind  respDur_rt  respAfter_keys  \\\n",
       "respDur_keys consistency                                                    \n",
       "left         1.0                  93       93          93              93   \n",
       "\n",
       "                          respAfter_rt  movie  date  movie_ind  \n",
       "respDur_keys consistency                                        \n",
       "left         1.0                    93     93    93         93  "
      ]
     },
     "metadata": {},
     "execution_count": 28
    }
   ],
   "metadata": {}
  },
  {
   "cell_type": "code",
   "execution_count": 29,
   "source": [
    "# getting response times for three movies of interest\n",
    "#pop_response = ['left','right','left']\n",
    "#movie_inds = [0,1,6]\n",
    "#for i in range(3):\n",
    "#    print(dat_all.loc[(dat_all['movie']==movie_names[movie_inds[i]])&(dat_all['respDur_keys']==pop_response[i]),'respDur_rt'].mean(skipna=True))"
   ],
   "outputs": [],
   "metadata": {}
  },
  {
   "cell_type": "code",
   "execution_count": 30,
   "source": [
    "# trying to understand some inconsistencies in reporting the coax-bill median and sem rt in the paper.\n",
    "# Was this including some inconsistent responses or bad subs?\n",
    "# Run ONLY if needed\n",
    "# Visualising median RT during and after for each movie based on responses\n",
    "print('\\nMedian RT per movie (note:there were very few responses in the nondominant category):')\n",
    "print(dat_all.groupby(['movie_ind','respDur_keys']).median().loc[:,['respDur_rt','respAfter_rt']])\n",
    "\n",
    "# Visualising median RT during and after for each movie based on responses\n",
    "print('\\nSEM RT per movie (note:there were very few responses in the nondominant category):')\n",
    "dat_all.groupby(['movie_ind','respDur_keys']).sem().loc[:,['respDur_rt','respAfter_rt']]"
   ],
   "outputs": [
    {
     "output_type": "stream",
     "name": "stdout",
     "text": [
      "\n",
      "Median RT per movie (note:there were very few responses in the nondominant category):\n",
      "                        respDur_rt  respAfter_rt\n",
      "movie_ind respDur_keys                          \n",
      "0.0       left            3.453340      0.855300\n",
      "1.0       left            9.541800      0.637700\n",
      "          right           3.749000      0.698700\n",
      "2.0       left           11.183050      0.723950\n",
      "          right           5.311250      0.703550\n",
      "3.0       left            6.317600      0.900000\n",
      "          right          14.475855      1.110347\n",
      "4.0       left           13.872450      1.051450\n",
      "          right           6.019700      0.855600\n",
      "5.0       left           10.187700      0.767900\n",
      "          right           8.264500      1.134300\n",
      "6.0       left            5.099750      0.613050\n",
      "          right           2.213000      1.003000\n",
      "7.0       left           13.901650      0.497950\n",
      "          right           5.130000      0.604500\n",
      "8.0       left            6.088900      0.756400\n",
      "          right          10.807495      1.139515\n",
      "9.0       left           12.933500      1.068900\n",
      "          right           3.768800      0.853100\n",
      "\n",
      "SEM RT per movie (note:there were very few responses in the nondominant category):\n"
     ]
    },
    {
     "output_type": "execute_result",
     "data": {
      "text/html": [
       "<div>\n",
       "<style scoped>\n",
       "    .dataframe tbody tr th:only-of-type {\n",
       "        vertical-align: middle;\n",
       "    }\n",
       "\n",
       "    .dataframe tbody tr th {\n",
       "        vertical-align: top;\n",
       "    }\n",
       "\n",
       "    .dataframe thead th {\n",
       "        text-align: right;\n",
       "    }\n",
       "</style>\n",
       "<table border=\"1\" class=\"dataframe\">\n",
       "  <thead>\n",
       "    <tr style=\"text-align: right;\">\n",
       "      <th></th>\n",
       "      <th></th>\n",
       "      <th>respDur_rt</th>\n",
       "      <th>respAfter_rt</th>\n",
       "    </tr>\n",
       "    <tr>\n",
       "      <th>movie_ind</th>\n",
       "      <th>respDur_keys</th>\n",
       "      <th></th>\n",
       "      <th></th>\n",
       "    </tr>\n",
       "  </thead>\n",
       "  <tbody>\n",
       "    <tr>\n",
       "      <th>0.0</th>\n",
       "      <th>left</th>\n",
       "      <td>0.252540</td>\n",
       "      <td>0.052933</td>\n",
       "    </tr>\n",
       "    <tr>\n",
       "      <th rowspan=\"2\" valign=\"top\">1.0</th>\n",
       "      <th>left</th>\n",
       "      <td>NaN</td>\n",
       "      <td>NaN</td>\n",
       "    </tr>\n",
       "    <tr>\n",
       "      <th>right</th>\n",
       "      <td>0.228237</td>\n",
       "      <td>0.051404</td>\n",
       "    </tr>\n",
       "    <tr>\n",
       "      <th rowspan=\"2\" valign=\"top\">2.0</th>\n",
       "      <th>left</th>\n",
       "      <td>0.088450</td>\n",
       "      <td>0.242750</td>\n",
       "    </tr>\n",
       "    <tr>\n",
       "      <th>right</th>\n",
       "      <td>0.369130</td>\n",
       "      <td>0.056382</td>\n",
       "    </tr>\n",
       "    <tr>\n",
       "      <th rowspan=\"2\" valign=\"top\">3.0</th>\n",
       "      <th>left</th>\n",
       "      <td>0.379568</td>\n",
       "      <td>0.052818</td>\n",
       "    </tr>\n",
       "    <tr>\n",
       "      <th>right</th>\n",
       "      <td>4.668345</td>\n",
       "      <td>0.274853</td>\n",
       "    </tr>\n",
       "    <tr>\n",
       "      <th rowspan=\"2\" valign=\"top\">4.0</th>\n",
       "      <th>left</th>\n",
       "      <td>1.330948</td>\n",
       "      <td>0.281234</td>\n",
       "    </tr>\n",
       "    <tr>\n",
       "      <th>right</th>\n",
       "      <td>0.556667</td>\n",
       "      <td>0.059467</td>\n",
       "    </tr>\n",
       "    <tr>\n",
       "      <th rowspan=\"2\" valign=\"top\">5.0</th>\n",
       "      <th>left</th>\n",
       "      <td>0.533663</td>\n",
       "      <td>0.041439</td>\n",
       "    </tr>\n",
       "    <tr>\n",
       "      <th>right</th>\n",
       "      <td>NaN</td>\n",
       "      <td>NaN</td>\n",
       "    </tr>\n",
       "    <tr>\n",
       "      <th rowspan=\"2\" valign=\"top\">6.0</th>\n",
       "      <th>left</th>\n",
       "      <td>0.255915</td>\n",
       "      <td>0.042641</td>\n",
       "    </tr>\n",
       "    <tr>\n",
       "      <th>right</th>\n",
       "      <td>NaN</td>\n",
       "      <td>NaN</td>\n",
       "    </tr>\n",
       "    <tr>\n",
       "      <th rowspan=\"2\" valign=\"top\">7.0</th>\n",
       "      <th>left</th>\n",
       "      <td>0.591250</td>\n",
       "      <td>0.158050</td>\n",
       "    </tr>\n",
       "    <tr>\n",
       "      <th>right</th>\n",
       "      <td>0.257233</td>\n",
       "      <td>0.041904</td>\n",
       "    </tr>\n",
       "    <tr>\n",
       "      <th rowspan=\"2\" valign=\"top\">8.0</th>\n",
       "      <th>left</th>\n",
       "      <td>0.292942</td>\n",
       "      <td>0.037903</td>\n",
       "    </tr>\n",
       "    <tr>\n",
       "      <th>right</th>\n",
       "      <td>NaN</td>\n",
       "      <td>NaN</td>\n",
       "    </tr>\n",
       "    <tr>\n",
       "      <th rowspan=\"2\" valign=\"top\">9.0</th>\n",
       "      <th>left</th>\n",
       "      <td>2.038148</td>\n",
       "      <td>0.231313</td>\n",
       "    </tr>\n",
       "    <tr>\n",
       "      <th>right</th>\n",
       "      <td>0.373908</td>\n",
       "      <td>0.052232</td>\n",
       "    </tr>\n",
       "  </tbody>\n",
       "</table>\n",
       "</div>"
      ],
      "text/plain": [
       "                        respDur_rt  respAfter_rt\n",
       "movie_ind respDur_keys                          \n",
       "0.0       left            0.252540      0.052933\n",
       "1.0       left                 NaN           NaN\n",
       "          right           0.228237      0.051404\n",
       "2.0       left            0.088450      0.242750\n",
       "          right           0.369130      0.056382\n",
       "3.0       left            0.379568      0.052818\n",
       "          right           4.668345      0.274853\n",
       "4.0       left            1.330948      0.281234\n",
       "          right           0.556667      0.059467\n",
       "5.0       left            0.533663      0.041439\n",
       "          right                NaN           NaN\n",
       "6.0       left            0.255915      0.042641\n",
       "          right                NaN           NaN\n",
       "7.0       left            0.591250      0.158050\n",
       "          right           0.257233      0.041904\n",
       "8.0       left            0.292942      0.037903\n",
       "          right                NaN           NaN\n",
       "9.0       left            2.038148      0.231313\n",
       "          right           0.373908      0.052232"
      ]
     },
     "metadata": {},
     "execution_count": 30
    }
   ],
   "metadata": {}
  },
  {
   "cell_type": "code",
   "execution_count": 31,
   "source": [
    "dat_all.shape"
   ],
   "outputs": [
    {
     "output_type": "execute_result",
     "data": {
      "text/plain": [
       "(887, 10)"
      ]
     },
     "metadata": {},
     "execution_count": 31
    }
   ],
   "metadata": {}
  },
  {
   "cell_type": "code",
   "execution_count": 32,
   "source": [
    "thresh = 8 # good subs threshold\n",
    "trial_counts = dat_all.groupby(\"sub_ind\").count()[\"movie_ind\"]\n",
    "bad_subs = trial_counts[(trial_counts < thresh)].index\n",
    "#print(bad_subs)\n",
    "dat_all = dat_all.set_index('sub_ind') # make subj_idx the index\n",
    "dat_all.drop(bad_subs, inplace=True) # remove bad subjects\n",
    "dat_all = dat_all.reset_index() #bring back subj_idx as a column\n",
    "\n",
    "print(\"Nr. of subjects left\",len(dat_all.groupby(\"sub_ind\")))\n",
    "print(\"Nr. of rows:\",dat_all.shape)"
   ],
   "outputs": [
    {
     "output_type": "stream",
     "name": "stdout",
     "text": [
      "Nr. of subjects left 90\n",
      "Nr. of rows: (821, 10)\n"
     ]
    }
   ],
   "metadata": {}
  },
  {
   "cell_type": "code",
   "execution_count": 33,
   "source": [
    "nresponses = dat_all.groupby('sub_ind').count().iloc[:,0].values\n",
    "for tot in [8,9,10]:\n",
    "    print(f\"nsubs with {tot} responses in all {len(np.where(nresponses == tot)[0])}\")"
   ],
   "outputs": [
    {
     "output_type": "stream",
     "name": "stdout",
     "text": [
      "nsubs with 8 responses in all 23\n",
      "nsubs with 9 responses in all 33\n",
      "nsubs with 10 responses in all 34\n"
     ]
    }
   ],
   "metadata": {}
  },
  {
   "cell_type": "code",
   "execution_count": 35,
   "source": [
    "rows = dat_all['movie_ind'] <=1\n",
    "dat_coaxbill = dat_all.loc[rows,:]\n",
    "nresponses_coaxbill = dat_coaxbill.groupby('sub_ind').count().iloc[:,0].values\n",
    "for tot in [0,1,2]:\n",
    "    print(f\"nsubs with {tot} responses in all {len(np.where(nresponses_coaxbill == tot)[0])}\")"
   ],
   "outputs": [
    {
     "output_type": "stream",
     "name": "stdout",
     "text": [
      "nsubs with 0 responses in all 0\n",
      "nsubs with 1 responses in all 6\n",
      "nsubs with 2 responses in all 84\n"
     ]
    }
   ],
   "metadata": {}
  },
  {
   "cell_type": "code",
   "execution_count": 219,
   "source": [
    "# distribution of left and right responses for each movie\n",
    "dat_all.groupby(['movie_ind','respDur_keys']).count().sub_ind.unstack(level = -1)"
   ],
   "outputs": [
    {
     "output_type": "execute_result",
     "data": {
      "text/html": [
       "<div>\n",
       "<style scoped>\n",
       "    .dataframe tbody tr th:only-of-type {\n",
       "        vertical-align: middle;\n",
       "    }\n",
       "\n",
       "    .dataframe tbody tr th {\n",
       "        vertical-align: top;\n",
       "    }\n",
       "\n",
       "    .dataframe thead th {\n",
       "        text-align: right;\n",
       "    }\n",
       "</style>\n",
       "<table border=\"1\" class=\"dataframe\">\n",
       "  <thead>\n",
       "    <tr style=\"text-align: right;\">\n",
       "      <th>respDur_keys</th>\n",
       "      <th>left</th>\n",
       "      <th>right</th>\n",
       "    </tr>\n",
       "    <tr>\n",
       "      <th>movie_ind</th>\n",
       "      <th></th>\n",
       "      <th></th>\n",
       "    </tr>\n",
       "  </thead>\n",
       "  <tbody>\n",
       "    <tr>\n",
       "      <th>0.0</th>\n",
       "      <td>86.0</td>\n",
       "      <td>NaN</td>\n",
       "    </tr>\n",
       "    <tr>\n",
       "      <th>1.0</th>\n",
       "      <td>1.0</td>\n",
       "      <td>87.0</td>\n",
       "    </tr>\n",
       "    <tr>\n",
       "      <th>2.0</th>\n",
       "      <td>NaN</td>\n",
       "      <td>89.0</td>\n",
       "    </tr>\n",
       "    <tr>\n",
       "      <th>3.0</th>\n",
       "      <td>80.0</td>\n",
       "      <td>2.0</td>\n",
       "    </tr>\n",
       "    <tr>\n",
       "      <th>4.0</th>\n",
       "      <td>6.0</td>\n",
       "      <td>66.0</td>\n",
       "    </tr>\n",
       "    <tr>\n",
       "      <th>5.0</th>\n",
       "      <td>72.0</td>\n",
       "      <td>1.0</td>\n",
       "    </tr>\n",
       "    <tr>\n",
       "      <th>6.0</th>\n",
       "      <td>89.0</td>\n",
       "      <td>NaN</td>\n",
       "    </tr>\n",
       "    <tr>\n",
       "      <th>7.0</th>\n",
       "      <td>2.0</td>\n",
       "      <td>82.0</td>\n",
       "    </tr>\n",
       "    <tr>\n",
       "      <th>8.0</th>\n",
       "      <td>83.0</td>\n",
       "      <td>1.0</td>\n",
       "    </tr>\n",
       "    <tr>\n",
       "      <th>9.0</th>\n",
       "      <td>3.0</td>\n",
       "      <td>71.0</td>\n",
       "    </tr>\n",
       "  </tbody>\n",
       "</table>\n",
       "</div>"
      ],
      "text/plain": [
       "respDur_keys  left  right\n",
       "movie_ind                \n",
       "0.0           86.0    NaN\n",
       "1.0            1.0   87.0\n",
       "2.0            NaN   89.0\n",
       "3.0           80.0    2.0\n",
       "4.0            6.0   66.0\n",
       "5.0           72.0    1.0\n",
       "6.0           89.0    NaN\n",
       "7.0            2.0   82.0\n",
       "8.0           83.0    1.0\n",
       "9.0            3.0   71.0"
      ]
     },
     "metadata": {},
     "execution_count": 219
    }
   ],
   "metadata": {}
  },
  {
   "cell_type": "code",
   "execution_count": 100,
   "source": [
    "acc = []\n",
    "\n",
    "for i,row in dat_coaxbill.iterrows():\n",
    "    if (row['respAfter_keys'] == 'left'): # & (row['respDur_keys'] == 'left'):\n",
    "        if row['movie_ind'] == 0:\n",
    "            acc.append(1)\n",
    "        else:\n",
    "            acc.append(0)\n",
    "    \n",
    "    if (row['respAfter_keys'] == 'right'): #& (row['respDur_keys'] == 'right'):\n",
    "        if row['movie_ind'] == 0:\n",
    "            acc.append(0)\n",
    "        else:\n",
    "            acc.append(1)\n",
    "dat_coaxbill['acc'] = acc"
   ],
   "outputs": [
    {
     "output_type": "stream",
     "name": "stderr",
     "text": [
      "/Users/f0053cz/anaconda3/envs/py37/lib/python3.7/site-packages/ipykernel_launcher.py:15: SettingWithCopyWarning: \n",
      "A value is trying to be set on a copy of a slice from a DataFrame.\n",
      "Try using .loc[row_indexer,col_indexer] = value instead\n",
      "\n",
      "See the caveats in the documentation: https://pandas.pydata.org/pandas-docs/stable/user_guide/indexing.html#returning-a-view-versus-a-copy\n",
      "  from ipykernel import kernelapp as app\n"
     ]
    }
   ],
   "metadata": {}
  },
  {
   "cell_type": "code",
   "execution_count": 168,
   "source": [],
   "outputs": [
    {
     "output_type": "execute_result",
     "data": {
      "text/plain": [
       "87"
      ]
     },
     "metadata": {},
     "execution_count": 168
    }
   ],
   "metadata": {}
  },
  {
   "cell_type": "code",
   "execution_count": 117,
   "source": [
    "x = dat_coaxbill.loc[(dat_coaxbill['acc']==1),:].groupby(['sub_ind']).count().iloc[:,0].values\n",
    "(np.where(x==1)[0]), len(np.where(x==2)[0]) # sub inds with 1 \"correct\" and 2 \"correct\" responses, resp."
   ],
   "outputs": [
    {
     "output_type": "execute_result",
     "data": {
      "text/plain": [
       "(array([ 0,  9, 39, 66, 80, 84, 89]), 83)"
      ]
     },
     "metadata": {},
     "execution_count": 117
    }
   ],
   "metadata": {}
  },
  {
   "cell_type": "code",
   "execution_count": 118,
   "source": [
    "x = dat_coaxbill.loc[(dat_coaxbill['consistency']==1),:].groupby(['sub_ind']).count().iloc[:,0].values\n",
    "(np.where(x==1)[0]), len(np.where(x==2)[0])  # sub inds with 1 consistent and 2 consistent responses, resp."
   ],
   "outputs": [
    {
     "output_type": "execute_result",
     "data": {
      "text/plain": [
       "(array([ 0, 39, 66, 80, 84, 89]), 84)"
      ]
     },
     "metadata": {},
     "execution_count": 118
    }
   ],
   "metadata": {}
  },
  {
   "cell_type": "code",
   "execution_count": 113,
   "source": [
    "dat_coaxbill.loc[(dat_coaxbill['acc']==1),:].groupby(['sub_ind']).count().iloc[:,0].index[9] # ind of the subject with 2 consistent responses, but only 1 \"correct\" response"
   ],
   "outputs": [
    {
     "output_type": "execute_result",
     "data": {
      "text/plain": [
       "10.0"
      ]
     },
     "metadata": {},
     "execution_count": 113
    }
   ],
   "metadata": {}
  },
  {
   "cell_type": "code",
   "execution_count": 116,
   "source": [
    "dat_coaxbill.loc[dat_coaxbill['sub_ind'] ==10,:] # checking responses for sub_ind 10 - they reported BILLIARD as \"Social\""
   ],
   "outputs": [
    {
     "output_type": "execute_result",
     "data": {
      "text/html": [
       "<div>\n",
       "<style scoped>\n",
       "    .dataframe tbody tr th:only-of-type {\n",
       "        vertical-align: middle;\n",
       "    }\n",
       "\n",
       "    .dataframe tbody tr th {\n",
       "        vertical-align: top;\n",
       "    }\n",
       "\n",
       "    .dataframe thead th {\n",
       "        text-align: right;\n",
       "    }\n",
       "</style>\n",
       "<table border=\"1\" class=\"dataframe\">\n",
       "  <thead>\n",
       "    <tr style=\"text-align: right;\">\n",
       "      <th></th>\n",
       "      <th>sub_ind</th>\n",
       "      <th>Unnamed: 0</th>\n",
       "      <th>respDur_keys</th>\n",
       "      <th>respDur_rt</th>\n",
       "      <th>respAfter_keys</th>\n",
       "      <th>respAfter_rt</th>\n",
       "      <th>movie</th>\n",
       "      <th>date</th>\n",
       "      <th>movie_ind</th>\n",
       "      <th>consistency</th>\n",
       "      <th>acc</th>\n",
       "    </tr>\n",
       "  </thead>\n",
       "  <tbody>\n",
       "    <tr>\n",
       "      <th>10</th>\n",
       "      <td>10.0</td>\n",
       "      <td>10</td>\n",
       "      <td>left</td>\n",
       "      <td>2.6565</td>\n",
       "      <td>left</td>\n",
       "      <td>0.3983</td>\n",
       "      <td>COAXINGB0</td>\n",
       "      <td>2021-07-25_14h56.09.793</td>\n",
       "      <td>0.0</td>\n",
       "      <td>1.0</td>\n",
       "      <td>1</td>\n",
       "    </tr>\n",
       "    <tr>\n",
       "      <th>11</th>\n",
       "      <td>10.0</td>\n",
       "      <td>11</td>\n",
       "      <td>left</td>\n",
       "      <td>9.5418</td>\n",
       "      <td>left</td>\n",
       "      <td>0.6377</td>\n",
       "      <td>BILLIARDA1</td>\n",
       "      <td>2021-07-25_14h56.09.793</td>\n",
       "      <td>1.0</td>\n",
       "      <td>1.0</td>\n",
       "      <td>0</td>\n",
       "    </tr>\n",
       "  </tbody>\n",
       "</table>\n",
       "</div>"
      ],
      "text/plain": [
       "    sub_ind  Unnamed: 0 respDur_keys  respDur_rt respAfter_keys  respAfter_rt  \\\n",
       "10     10.0          10         left      2.6565           left        0.3983   \n",
       "11     10.0          11         left      9.5418           left        0.6377   \n",
       "\n",
       "         movie                     date  movie_ind  consistency  acc  \n",
       "10   COAXINGB0  2021-07-25_14h56.09.793        0.0          1.0    1  \n",
       "11  BILLIARDA1  2021-07-25_14h56.09.793        1.0          1.0    0  "
      ]
     },
     "metadata": {},
     "execution_count": 116
    }
   ],
   "metadata": {}
  },
  {
   "cell_type": "code",
   "execution_count": 128,
   "source": [
    "for i in [ 0,  9, 39, 66, 80, 84, 89]:\n",
    "    sub_ind = dat_coaxbill.loc[(dat_coaxbill['acc']==1),:].groupby(['sub_ind']).count().iloc[:,0].index[i] \n",
    "    print('\\nsub:', dat_coaxbill.loc[dat_coaxbill['sub_ind'] ==sub_ind,['sub_ind','respDur_keys','respAfter_keys','consistency','acc']]) # checking responses for sub_ind 10 - they reported BILLIARD as \"Social\")"
   ],
   "outputs": [
    {
     "output_type": "stream",
     "name": "stdout",
     "text": [
      "\n",
      "sub:      sub_ind respDur_keys respAfter_keys  consistency  acc\n",
      "767      0.0        right          right          1.0    1\n",
      "\n",
      "sub:     sub_ind respDur_keys respAfter_keys  consistency  acc\n",
      "10     10.0         left           left          1.0    1\n",
      "11     10.0         left           left          1.0    0\n",
      "\n",
      "sub:      sub_ind respDur_keys respAfter_keys  consistency  acc\n",
      "604     46.0        right          right          1.0    1\n",
      "\n",
      "sub:      sub_ind respDur_keys respAfter_keys  consistency  acc\n",
      "131     75.0         left           left          1.0    1\n",
      "\n",
      "sub:      sub_ind respDur_keys respAfter_keys  consistency  acc\n",
      "578     90.0         left           left          1.0    1\n",
      "\n",
      "sub:      sub_ind respDur_keys respAfter_keys  consistency  acc\n",
      "638     94.0        right          right          1.0    1\n",
      "\n",
      "sub:     sub_ind respDur_keys respAfter_keys  consistency  acc\n",
      "96     99.0        right          right          1.0    1\n"
     ]
    }
   ],
   "metadata": {}
  },
  {
   "cell_type": "code",
   "execution_count": 171,
   "source": [
    "dat_coax = dat_coaxbill.loc[(dat_coaxbill['movie_ind']==0) & (dat_coaxbill['consistency']==1),:]\n",
    "dat_bill = dat_coaxbill.loc[(dat_coaxbill['movie_ind']==1) & (dat_coaxbill['consistency']==1),:]\n",
    "dat_coaxbill_sideways = dat_coax.merge(dat_bill, how = 'inner', on = 'sub_ind')\n",
    "dat_coaxbill_sideways"
   ],
   "outputs": [
    {
     "output_type": "execute_result",
     "data": {
      "text/html": [
       "<div>\n",
       "<style scoped>\n",
       "    .dataframe tbody tr th:only-of-type {\n",
       "        vertical-align: middle;\n",
       "    }\n",
       "\n",
       "    .dataframe tbody tr th {\n",
       "        vertical-align: top;\n",
       "    }\n",
       "\n",
       "    .dataframe thead th {\n",
       "        text-align: right;\n",
       "    }\n",
       "</style>\n",
       "<table border=\"1\" class=\"dataframe\">\n",
       "  <thead>\n",
       "    <tr style=\"text-align: right;\">\n",
       "      <th></th>\n",
       "      <th>sub_ind</th>\n",
       "      <th>Unnamed: 0_x</th>\n",
       "      <th>respDur_keys_x</th>\n",
       "      <th>respDur_rt_x</th>\n",
       "      <th>respAfter_keys_x</th>\n",
       "      <th>respAfter_rt_x</th>\n",
       "      <th>movie_x</th>\n",
       "      <th>date_x</th>\n",
       "      <th>movie_ind_x</th>\n",
       "      <th>consistency_x</th>\n",
       "      <th>...</th>\n",
       "      <th>Unnamed: 0_y</th>\n",
       "      <th>respDur_keys_y</th>\n",
       "      <th>respDur_rt_y</th>\n",
       "      <th>respAfter_keys_y</th>\n",
       "      <th>respAfter_rt_y</th>\n",
       "      <th>movie_y</th>\n",
       "      <th>date_y</th>\n",
       "      <th>movie_ind_y</th>\n",
       "      <th>consistency_y</th>\n",
       "      <th>acc_y</th>\n",
       "    </tr>\n",
       "  </thead>\n",
       "  <tbody>\n",
       "    <tr>\n",
       "      <th>0</th>\n",
       "      <td>86.0</td>\n",
       "      <td>0</td>\n",
       "      <td>left</td>\n",
       "      <td>3.070585</td>\n",
       "      <td>left</td>\n",
       "      <td>0.86851</td>\n",
       "      <td>COAXINGB0</td>\n",
       "      <td>2021-07-25_08h39.36.916</td>\n",
       "      <td>0.0</td>\n",
       "      <td>1.0</td>\n",
       "      <td>...</td>\n",
       "      <td>1</td>\n",
       "      <td>right</td>\n",
       "      <td>1.90983</td>\n",
       "      <td>right</td>\n",
       "      <td>0.669700</td>\n",
       "      <td>BILLIARDA1</td>\n",
       "      <td>2021-07-25_08h39.36.916</td>\n",
       "      <td>1.0</td>\n",
       "      <td>1.0</td>\n",
       "      <td>1</td>\n",
       "    </tr>\n",
       "    <tr>\n",
       "      <th>1</th>\n",
       "      <td>10.0</td>\n",
       "      <td>10</td>\n",
       "      <td>left</td>\n",
       "      <td>2.656500</td>\n",
       "      <td>left</td>\n",
       "      <td>0.39830</td>\n",
       "      <td>COAXINGB0</td>\n",
       "      <td>2021-07-25_14h56.09.793</td>\n",
       "      <td>0.0</td>\n",
       "      <td>1.0</td>\n",
       "      <td>...</td>\n",
       "      <td>11</td>\n",
       "      <td>left</td>\n",
       "      <td>9.54180</td>\n",
       "      <td>left</td>\n",
       "      <td>0.637700</td>\n",
       "      <td>BILLIARDA1</td>\n",
       "      <td>2021-07-25_14h56.09.793</td>\n",
       "      <td>1.0</td>\n",
       "      <td>1.0</td>\n",
       "      <td>0</td>\n",
       "    </tr>\n",
       "    <tr>\n",
       "      <th>2</th>\n",
       "      <td>39.0</td>\n",
       "      <td>30</td>\n",
       "      <td>left</td>\n",
       "      <td>3.072100</td>\n",
       "      <td>left</td>\n",
       "      <td>0.31040</td>\n",
       "      <td>COAXINGB0</td>\n",
       "      <td>2021-07-25_14h37.25.903</td>\n",
       "      <td>0.0</td>\n",
       "      <td>1.0</td>\n",
       "      <td>...</td>\n",
       "      <td>31</td>\n",
       "      <td>right</td>\n",
       "      <td>1.48970</td>\n",
       "      <td>right</td>\n",
       "      <td>0.238900</td>\n",
       "      <td>BILLIARDA1</td>\n",
       "      <td>2021-07-25_14h37.25.903</td>\n",
       "      <td>1.0</td>\n",
       "      <td>1.0</td>\n",
       "      <td>1</td>\n",
       "    </tr>\n",
       "    <tr>\n",
       "      <th>3</th>\n",
       "      <td>47.0</td>\n",
       "      <td>40</td>\n",
       "      <td>left</td>\n",
       "      <td>2.865100</td>\n",
       "      <td>left</td>\n",
       "      <td>0.62790</td>\n",
       "      <td>COAXINGB0</td>\n",
       "      <td>2021-07-25_14h54.05.867</td>\n",
       "      <td>0.0</td>\n",
       "      <td>1.0</td>\n",
       "      <td>...</td>\n",
       "      <td>41</td>\n",
       "      <td>right</td>\n",
       "      <td>2.78050</td>\n",
       "      <td>right</td>\n",
       "      <td>1.091000</td>\n",
       "      <td>BILLIARDA1</td>\n",
       "      <td>2021-07-25_14h54.05.867</td>\n",
       "      <td>1.0</td>\n",
       "      <td>1.0</td>\n",
       "      <td>1</td>\n",
       "    </tr>\n",
       "    <tr>\n",
       "      <th>4</th>\n",
       "      <td>31.0</td>\n",
       "      <td>50</td>\n",
       "      <td>left</td>\n",
       "      <td>3.453340</td>\n",
       "      <td>left</td>\n",
       "      <td>1.26579</td>\n",
       "      <td>COAXINGB0</td>\n",
       "      <td>2021-07-25_08h52.20.361</td>\n",
       "      <td>0.0</td>\n",
       "      <td>1.0</td>\n",
       "      <td>...</td>\n",
       "      <td>51</td>\n",
       "      <td>right</td>\n",
       "      <td>2.67928</td>\n",
       "      <td>right</td>\n",
       "      <td>0.700595</td>\n",
       "      <td>BILLIARDA1</td>\n",
       "      <td>2021-07-25_08h52.20.361</td>\n",
       "      <td>1.0</td>\n",
       "      <td>1.0</td>\n",
       "      <td>1</td>\n",
       "    </tr>\n",
       "    <tr>\n",
       "      <th>...</th>\n",
       "      <td>...</td>\n",
       "      <td>...</td>\n",
       "      <td>...</td>\n",
       "      <td>...</td>\n",
       "      <td>...</td>\n",
       "      <td>...</td>\n",
       "      <td>...</td>\n",
       "      <td>...</td>\n",
       "      <td>...</td>\n",
       "      <td>...</td>\n",
       "      <td>...</td>\n",
       "      <td>...</td>\n",
       "      <td>...</td>\n",
       "      <td>...</td>\n",
       "      <td>...</td>\n",
       "      <td>...</td>\n",
       "      <td>...</td>\n",
       "      <td>...</td>\n",
       "      <td>...</td>\n",
       "      <td>...</td>\n",
       "      <td>...</td>\n",
       "    </tr>\n",
       "    <tr>\n",
       "      <th>79</th>\n",
       "      <td>32.0</td>\n",
       "      <td>960</td>\n",
       "      <td>left</td>\n",
       "      <td>3.379000</td>\n",
       "      <td>left</td>\n",
       "      <td>0.60300</td>\n",
       "      <td>COAXINGB0</td>\n",
       "      <td>2021-07-25_06h52.13.337</td>\n",
       "      <td>0.0</td>\n",
       "      <td>1.0</td>\n",
       "      <td>...</td>\n",
       "      <td>961</td>\n",
       "      <td>right</td>\n",
       "      <td>3.69900</td>\n",
       "      <td>right</td>\n",
       "      <td>0.536000</td>\n",
       "      <td>BILLIARDA1</td>\n",
       "      <td>2021-07-25_06h52.13.337</td>\n",
       "      <td>1.0</td>\n",
       "      <td>1.0</td>\n",
       "      <td>1</td>\n",
       "    </tr>\n",
       "    <tr>\n",
       "      <th>80</th>\n",
       "      <td>14.0</td>\n",
       "      <td>970</td>\n",
       "      <td>left</td>\n",
       "      <td>5.250400</td>\n",
       "      <td>left</td>\n",
       "      <td>1.00100</td>\n",
       "      <td>COAXINGB0</td>\n",
       "      <td>2021-07-25_09h51.36.290</td>\n",
       "      <td>0.0</td>\n",
       "      <td>1.0</td>\n",
       "      <td>...</td>\n",
       "      <td>971</td>\n",
       "      <td>right</td>\n",
       "      <td>5.72450</td>\n",
       "      <td>right</td>\n",
       "      <td>1.035600</td>\n",
       "      <td>BILLIARDA1</td>\n",
       "      <td>2021-07-25_09h51.36.290</td>\n",
       "      <td>1.0</td>\n",
       "      <td>1.0</td>\n",
       "      <td>1</td>\n",
       "    </tr>\n",
       "    <tr>\n",
       "      <th>81</th>\n",
       "      <td>78.0</td>\n",
       "      <td>980</td>\n",
       "      <td>left</td>\n",
       "      <td>4.643200</td>\n",
       "      <td>left</td>\n",
       "      <td>0.38530</td>\n",
       "      <td>COAXINGB0</td>\n",
       "      <td>2021-07-25_14h55.23.086</td>\n",
       "      <td>0.0</td>\n",
       "      <td>1.0</td>\n",
       "      <td>...</td>\n",
       "      <td>981</td>\n",
       "      <td>right</td>\n",
       "      <td>4.06800</td>\n",
       "      <td>right</td>\n",
       "      <td>0.416900</td>\n",
       "      <td>BILLIARDA1</td>\n",
       "      <td>2021-07-25_14h55.23.086</td>\n",
       "      <td>1.0</td>\n",
       "      <td>1.0</td>\n",
       "      <td>1</td>\n",
       "    </tr>\n",
       "    <tr>\n",
       "      <th>82</th>\n",
       "      <td>9.0</td>\n",
       "      <td>990</td>\n",
       "      <td>left</td>\n",
       "      <td>8.183700</td>\n",
       "      <td>left</td>\n",
       "      <td>2.36050</td>\n",
       "      <td>COAXINGB0</td>\n",
       "      <td>2021-07-25_14h57.00.228</td>\n",
       "      <td>0.0</td>\n",
       "      <td>1.0</td>\n",
       "      <td>...</td>\n",
       "      <td>991</td>\n",
       "      <td>right</td>\n",
       "      <td>7.15560</td>\n",
       "      <td>right</td>\n",
       "      <td>1.811000</td>\n",
       "      <td>BILLIARDA1</td>\n",
       "      <td>2021-07-25_14h57.00.228</td>\n",
       "      <td>1.0</td>\n",
       "      <td>1.0</td>\n",
       "      <td>1</td>\n",
       "    </tr>\n",
       "    <tr>\n",
       "      <th>83</th>\n",
       "      <td>69.0</td>\n",
       "      <td>1000</td>\n",
       "      <td>left</td>\n",
       "      <td>2.372800</td>\n",
       "      <td>left</td>\n",
       "      <td>0.43820</td>\n",
       "      <td>COAXINGB0</td>\n",
       "      <td>2021-07-25_14h45.48.361</td>\n",
       "      <td>0.0</td>\n",
       "      <td>1.0</td>\n",
       "      <td>...</td>\n",
       "      <td>1001</td>\n",
       "      <td>right</td>\n",
       "      <td>1.39250</td>\n",
       "      <td>right</td>\n",
       "      <td>0.312900</td>\n",
       "      <td>BILLIARDA1</td>\n",
       "      <td>2021-07-25_14h45.48.361</td>\n",
       "      <td>1.0</td>\n",
       "      <td>1.0</td>\n",
       "      <td>1</td>\n",
       "    </tr>\n",
       "  </tbody>\n",
       "</table>\n",
       "<p>84 rows × 21 columns</p>\n",
       "</div>"
      ],
      "text/plain": [
       "    sub_ind  Unnamed: 0_x respDur_keys_x  respDur_rt_x respAfter_keys_x  \\\n",
       "0      86.0             0           left      3.070585             left   \n",
       "1      10.0            10           left      2.656500             left   \n",
       "2      39.0            30           left      3.072100             left   \n",
       "3      47.0            40           left      2.865100             left   \n",
       "4      31.0            50           left      3.453340             left   \n",
       "..      ...           ...            ...           ...              ...   \n",
       "79     32.0           960           left      3.379000             left   \n",
       "80     14.0           970           left      5.250400             left   \n",
       "81     78.0           980           left      4.643200             left   \n",
       "82      9.0           990           left      8.183700             left   \n",
       "83     69.0          1000           left      2.372800             left   \n",
       "\n",
       "    respAfter_rt_x    movie_x                   date_x  movie_ind_x  \\\n",
       "0          0.86851  COAXINGB0  2021-07-25_08h39.36.916          0.0   \n",
       "1          0.39830  COAXINGB0  2021-07-25_14h56.09.793          0.0   \n",
       "2          0.31040  COAXINGB0  2021-07-25_14h37.25.903          0.0   \n",
       "3          0.62790  COAXINGB0  2021-07-25_14h54.05.867          0.0   \n",
       "4          1.26579  COAXINGB0  2021-07-25_08h52.20.361          0.0   \n",
       "..             ...        ...                      ...          ...   \n",
       "79         0.60300  COAXINGB0  2021-07-25_06h52.13.337          0.0   \n",
       "80         1.00100  COAXINGB0  2021-07-25_09h51.36.290          0.0   \n",
       "81         0.38530  COAXINGB0  2021-07-25_14h55.23.086          0.0   \n",
       "82         2.36050  COAXINGB0  2021-07-25_14h57.00.228          0.0   \n",
       "83         0.43820  COAXINGB0  2021-07-25_14h45.48.361          0.0   \n",
       "\n",
       "    consistency_x  ...  Unnamed: 0_y  respDur_keys_y respDur_rt_y  \\\n",
       "0             1.0  ...             1           right      1.90983   \n",
       "1             1.0  ...            11            left      9.54180   \n",
       "2             1.0  ...            31           right      1.48970   \n",
       "3             1.0  ...            41           right      2.78050   \n",
       "4             1.0  ...            51           right      2.67928   \n",
       "..            ...  ...           ...             ...          ...   \n",
       "79            1.0  ...           961           right      3.69900   \n",
       "80            1.0  ...           971           right      5.72450   \n",
       "81            1.0  ...           981           right      4.06800   \n",
       "82            1.0  ...           991           right      7.15560   \n",
       "83            1.0  ...          1001           right      1.39250   \n",
       "\n",
       "    respAfter_keys_y respAfter_rt_y     movie_y                   date_y  \\\n",
       "0              right       0.669700  BILLIARDA1  2021-07-25_08h39.36.916   \n",
       "1               left       0.637700  BILLIARDA1  2021-07-25_14h56.09.793   \n",
       "2              right       0.238900  BILLIARDA1  2021-07-25_14h37.25.903   \n",
       "3              right       1.091000  BILLIARDA1  2021-07-25_14h54.05.867   \n",
       "4              right       0.700595  BILLIARDA1  2021-07-25_08h52.20.361   \n",
       "..               ...            ...         ...                      ...   \n",
       "79             right       0.536000  BILLIARDA1  2021-07-25_06h52.13.337   \n",
       "80             right       1.035600  BILLIARDA1  2021-07-25_09h51.36.290   \n",
       "81             right       0.416900  BILLIARDA1  2021-07-25_14h55.23.086   \n",
       "82             right       1.811000  BILLIARDA1  2021-07-25_14h57.00.228   \n",
       "83             right       0.312900  BILLIARDA1  2021-07-25_14h45.48.361   \n",
       "\n",
       "   movie_ind_y  consistency_y  acc_y  \n",
       "0          1.0            1.0      1  \n",
       "1          1.0            1.0      0  \n",
       "2          1.0            1.0      1  \n",
       "3          1.0            1.0      1  \n",
       "4          1.0            1.0      1  \n",
       "..         ...            ...    ...  \n",
       "79         1.0            1.0      1  \n",
       "80         1.0            1.0      1  \n",
       "81         1.0            1.0      1  \n",
       "82         1.0            1.0      1  \n",
       "83         1.0            1.0      1  \n",
       "\n",
       "[84 rows x 21 columns]"
      ]
     },
     "metadata": {},
     "execution_count": 171
    }
   ],
   "metadata": {}
  },
  {
   "cell_type": "code",
   "execution_count": 174,
   "source": [
    "print('coax-social:', len(np.where(dat_coaxbill_sideways['respDur_keys_x'] =='left')[0]))\n",
    "print('coax-nonsocial:', len(np.where(dat_coaxbill_sideways['respDur_keys_x'] =='right')[0]))\n",
    "print('bill-social:', len(np.where(dat_coaxbill_sideways['respDur_keys_y'] =='left')[0]))\n",
    "print('bill-nonsocial:', len(np.where(dat_coaxbill_sideways['respDur_keys_y'] =='right')[0]))"
   ],
   "outputs": [
    {
     "output_type": "stream",
     "name": "stdout",
     "text": [
      "coax-social: 84\n",
      "coax-nonsocial: 0\n",
      "bill-social: 1\n",
      "bill-nonsocial: 83\n"
     ]
    }
   ],
   "metadata": {}
  },
  {
   "cell_type": "code",
   "execution_count": 175,
   "source": [
    "# McNemar's test looking at group-wise trends\n",
    "\n",
    "def return_len(inp):\n",
    "    return len(np.where(inp)[0])\n",
    "\n",
    "def run_mcnemar(data):\n",
    "    # source: https://towardsdatascience.com/mcnemars-test-to-evaluate-machine-learning-classifiers-with-python-9f26191e1a6b and \n",
    "    # https://gist.github.com/March-08/ba49d2ed1150bc0a135294c0489f4c1c#file-mcnemar_test-py\n",
    "    # Import library\n",
    "    from statsmodels.stats.contingency_tables import mcnemar\n",
    "    \n",
    "    # Create a dataset\n",
    "    #data = [[9, 37], [16, 82]]\n",
    "    print(data)\n",
    "\n",
    "\n",
    "    threshold = 3.841 \n",
    "    significance_value = 0.05\n",
    "\n",
    "    # McNemar's Test with the continuity correction\n",
    "    #test = mcnemar(data, exact=False, correction=True) # either exact or correction needed for small samples\n",
    "    test = mcnemar(data, exact=True, correction=False)\n",
    "\n",
    "    if test.pvalue < significance_value:\n",
    "        print(\"Reject Null hypotesis\")\n",
    "    else:\n",
    "        print(\"Fail to reject Null hypotesis\")\n",
    "\n",
    "    #or equivalently\n",
    "    if test.statistic > threshold:\n",
    "        print(\"Reject Null hypotesis\")\n",
    "    else:\n",
    "        print(\"Fail to reject Null hypotesis\")\n",
    "\n",
    "    return data, test\n",
    "\n",
    "\n",
    "'''subs_nonan = ~np.isnan(responses[:,0]) & ~np.isnan(responses[:,1]) # including unsure\n",
    "coax_div = np.array([len(np.where(responses[subs_nonan,0]==1)[0]), len(np.where(responses[subs_nonan,0]==0)[0]), len(np.where(responses[subs_nonan,0]==9)[0])])\n",
    "bill_div = np.array([len(np.where(responses[subs_nonan,1]==1)[0]), len(np.where(responses[subs_nonan,1]==0)[0]), len(np.where(responses[subs_nonan,1]==9)[0])])\n",
    "bill_div = bill_div[[1,0,2]]\n",
    "\n",
    "#print(len(np.where(subs_nonan)[0]), coax_div, bill_div)\n",
    "coax_bill_resp  = responses[subs_nonan,:2]\n",
    "coax_vals =  {'dom': 1, 'nondom': [0,9]}\n",
    "bill_vals =  {'dom': 0, 'nondom': [1,9]}\n",
    "comp_type = 'dom_nondom' #'s_ns'  #  'dom_nondom'\n",
    "print('\\n', comp_type)\n",
    "data, results = run_mcnemar(coax_bill_resp, coax_vals, bill_vals,  comp_type)\n",
    "print(results) #chisquare statistic if exact is false\n",
    "\n",
    "#print(len(np.where(subs_nonan)[0]), coax_div, bill_div)\n",
    "coax_bill_resp  = responses[subs_nonan,:2]\n",
    "coax_vals =  {'dom': 1, 'nondom': [0,9]}\n",
    "bill_vals =  {'dom': 0, 'nondom': [1,9]}\n",
    "comp_type = 's_ns'  #  'dom_nondom'\n",
    "print('\\n', comp_type)\n",
    "data, results = run_mcnemar(coax_bill_resp, coax_vals, bill_vals,  comp_type)\n",
    "print(results) # chisquare statistic if exact is false'''\n",
    "\n",
    "'''b = 6#14\n",
    "c = 16#59\n",
    "(np.abs(b-c)-1)**2/(b+c)'''\n",
    "\n",
    "data = [[0,1],[0,83]]\n",
    "d,t = run_mcnemar(data)\n",
    "print(t)"
   ],
   "outputs": [
    {
     "output_type": "stream",
     "name": "stdout",
     "text": [
      "[[0, 1], [0, 83]]\n",
      "Fail to reject Null hypotesis\n",
      "Fail to reject Null hypotesis\n",
      "pvalue      1.0\n",
      "statistic   0.0\n"
     ]
    }
   ],
   "metadata": {}
  },
  {
   "cell_type": "code",
   "execution_count": 165,
   "source": [
    "dat_all_coax = dat_all_full.loc[(dat_all_full['movie_ind']==0) & (dat_all_full['consistency']==1),:]\n",
    "dat_all_bill = dat_all_full.loc[(dat_all_full['movie_ind']==1) & (dat_all_full['consistency']==1),:]\n",
    "dat_coaxbill_sideways = dat_all_coax.merge(dat_all_bill, how = 'inner', on = 'sub_ind')\n",
    "dat_coaxbill_sideways"
   ],
   "outputs": [
    {
     "output_type": "execute_result",
     "data": {
      "text/html": [
       "<div>\n",
       "<style scoped>\n",
       "    .dataframe tbody tr th:only-of-type {\n",
       "        vertical-align: middle;\n",
       "    }\n",
       "\n",
       "    .dataframe tbody tr th {\n",
       "        vertical-align: top;\n",
       "    }\n",
       "\n",
       "    .dataframe thead th {\n",
       "        text-align: right;\n",
       "    }\n",
       "</style>\n",
       "<table border=\"1\" class=\"dataframe\">\n",
       "  <thead>\n",
       "    <tr style=\"text-align: right;\">\n",
       "      <th></th>\n",
       "      <th>Unnamed: 0_x</th>\n",
       "      <th>sub_ind</th>\n",
       "      <th>respDur_keys_x</th>\n",
       "      <th>respDur_rt_x</th>\n",
       "      <th>respAfter_keys_x</th>\n",
       "      <th>respAfter_rt_x</th>\n",
       "      <th>movie_x</th>\n",
       "      <th>date_x</th>\n",
       "      <th>movie_ind_x</th>\n",
       "      <th>consistency_x</th>\n",
       "      <th>Unnamed: 0_y</th>\n",
       "      <th>respDur_keys_y</th>\n",
       "      <th>respDur_rt_y</th>\n",
       "      <th>respAfter_keys_y</th>\n",
       "      <th>respAfter_rt_y</th>\n",
       "      <th>movie_y</th>\n",
       "      <th>date_y</th>\n",
       "      <th>movie_ind_y</th>\n",
       "      <th>consistency_y</th>\n",
       "    </tr>\n",
       "  </thead>\n",
       "  <tbody>\n",
       "    <tr>\n",
       "      <th>0</th>\n",
       "      <td>0</td>\n",
       "      <td>86.0</td>\n",
       "      <td>left</td>\n",
       "      <td>3.070585</td>\n",
       "      <td>left</td>\n",
       "      <td>0.86851</td>\n",
       "      <td>COAXINGB0</td>\n",
       "      <td>2021-07-25_08h39.36.916</td>\n",
       "      <td>0.0</td>\n",
       "      <td>1.0</td>\n",
       "      <td>1</td>\n",
       "      <td>right</td>\n",
       "      <td>1.90983</td>\n",
       "      <td>right</td>\n",
       "      <td>0.6697</td>\n",
       "      <td>BILLIARDA1</td>\n",
       "      <td>2021-07-25_08h39.36.916</td>\n",
       "      <td>1.0</td>\n",
       "      <td>1.0</td>\n",
       "    </tr>\n",
       "    <tr>\n",
       "      <th>1</th>\n",
       "      <td>10</td>\n",
       "      <td>10.0</td>\n",
       "      <td>left</td>\n",
       "      <td>2.656500</td>\n",
       "      <td>left</td>\n",
       "      <td>0.39830</td>\n",
       "      <td>COAXINGB0</td>\n",
       "      <td>2021-07-25_14h56.09.793</td>\n",
       "      <td>0.0</td>\n",
       "      <td>1.0</td>\n",
       "      <td>11</td>\n",
       "      <td>left</td>\n",
       "      <td>9.54180</td>\n",
       "      <td>left</td>\n",
       "      <td>0.6377</td>\n",
       "      <td>BILLIARDA1</td>\n",
       "      <td>2021-07-25_14h56.09.793</td>\n",
       "      <td>1.0</td>\n",
       "      <td>1.0</td>\n",
       "    </tr>\n",
       "    <tr>\n",
       "      <th>2</th>\n",
       "      <td>20</td>\n",
       "      <td>23.0</td>\n",
       "      <td>left</td>\n",
       "      <td>3.052000</td>\n",
       "      <td>left</td>\n",
       "      <td>1.75900</td>\n",
       "      <td>COAXINGB0</td>\n",
       "      <td>2021-07-25_09h54.48.232</td>\n",
       "      <td>0.0</td>\n",
       "      <td>1.0</td>\n",
       "      <td>21</td>\n",
       "      <td>right</td>\n",
       "      <td>1.77300</td>\n",
       "      <td>right</td>\n",
       "      <td>0.4830</td>\n",
       "      <td>BILLIARDA1</td>\n",
       "      <td>2021-07-25_09h54.48.232</td>\n",
       "      <td>1.0</td>\n",
       "      <td>1.0</td>\n",
       "    </tr>\n",
       "    <tr>\n",
       "      <th>3</th>\n",
       "      <td>30</td>\n",
       "      <td>39.0</td>\n",
       "      <td>left</td>\n",
       "      <td>3.072100</td>\n",
       "      <td>left</td>\n",
       "      <td>0.31040</td>\n",
       "      <td>COAXINGB0</td>\n",
       "      <td>2021-07-25_14h37.25.903</td>\n",
       "      <td>0.0</td>\n",
       "      <td>1.0</td>\n",
       "      <td>31</td>\n",
       "      <td>right</td>\n",
       "      <td>1.48970</td>\n",
       "      <td>right</td>\n",
       "      <td>0.2389</td>\n",
       "      <td>BILLIARDA1</td>\n",
       "      <td>2021-07-25_14h37.25.903</td>\n",
       "      <td>1.0</td>\n",
       "      <td>1.0</td>\n",
       "    </tr>\n",
       "    <tr>\n",
       "      <th>4</th>\n",
       "      <td>40</td>\n",
       "      <td>47.0</td>\n",
       "      <td>left</td>\n",
       "      <td>2.865100</td>\n",
       "      <td>left</td>\n",
       "      <td>0.62790</td>\n",
       "      <td>COAXINGB0</td>\n",
       "      <td>2021-07-25_14h54.05.867</td>\n",
       "      <td>0.0</td>\n",
       "      <td>1.0</td>\n",
       "      <td>41</td>\n",
       "      <td>right</td>\n",
       "      <td>2.78050</td>\n",
       "      <td>right</td>\n",
       "      <td>1.0910</td>\n",
       "      <td>BILLIARDA1</td>\n",
       "      <td>2021-07-25_14h54.05.867</td>\n",
       "      <td>1.0</td>\n",
       "      <td>1.0</td>\n",
       "    </tr>\n",
       "    <tr>\n",
       "      <th>...</th>\n",
       "      <td>...</td>\n",
       "      <td>...</td>\n",
       "      <td>...</td>\n",
       "      <td>...</td>\n",
       "      <td>...</td>\n",
       "      <td>...</td>\n",
       "      <td>...</td>\n",
       "      <td>...</td>\n",
       "      <td>...</td>\n",
       "      <td>...</td>\n",
       "      <td>...</td>\n",
       "      <td>...</td>\n",
       "      <td>...</td>\n",
       "      <td>...</td>\n",
       "      <td>...</td>\n",
       "      <td>...</td>\n",
       "      <td>...</td>\n",
       "      <td>...</td>\n",
       "      <td>...</td>\n",
       "    </tr>\n",
       "    <tr>\n",
       "      <th>84</th>\n",
       "      <td>960</td>\n",
       "      <td>32.0</td>\n",
       "      <td>left</td>\n",
       "      <td>3.379000</td>\n",
       "      <td>left</td>\n",
       "      <td>0.60300</td>\n",
       "      <td>COAXINGB0</td>\n",
       "      <td>2021-07-25_06h52.13.337</td>\n",
       "      <td>0.0</td>\n",
       "      <td>1.0</td>\n",
       "      <td>961</td>\n",
       "      <td>right</td>\n",
       "      <td>3.69900</td>\n",
       "      <td>right</td>\n",
       "      <td>0.5360</td>\n",
       "      <td>BILLIARDA1</td>\n",
       "      <td>2021-07-25_06h52.13.337</td>\n",
       "      <td>1.0</td>\n",
       "      <td>1.0</td>\n",
       "    </tr>\n",
       "    <tr>\n",
       "      <th>85</th>\n",
       "      <td>970</td>\n",
       "      <td>14.0</td>\n",
       "      <td>left</td>\n",
       "      <td>5.250400</td>\n",
       "      <td>left</td>\n",
       "      <td>1.00100</td>\n",
       "      <td>COAXINGB0</td>\n",
       "      <td>2021-07-25_09h51.36.290</td>\n",
       "      <td>0.0</td>\n",
       "      <td>1.0</td>\n",
       "      <td>971</td>\n",
       "      <td>right</td>\n",
       "      <td>5.72450</td>\n",
       "      <td>right</td>\n",
       "      <td>1.0356</td>\n",
       "      <td>BILLIARDA1</td>\n",
       "      <td>2021-07-25_09h51.36.290</td>\n",
       "      <td>1.0</td>\n",
       "      <td>1.0</td>\n",
       "    </tr>\n",
       "    <tr>\n",
       "      <th>86</th>\n",
       "      <td>980</td>\n",
       "      <td>78.0</td>\n",
       "      <td>left</td>\n",
       "      <td>4.643200</td>\n",
       "      <td>left</td>\n",
       "      <td>0.38530</td>\n",
       "      <td>COAXINGB0</td>\n",
       "      <td>2021-07-25_14h55.23.086</td>\n",
       "      <td>0.0</td>\n",
       "      <td>1.0</td>\n",
       "      <td>981</td>\n",
       "      <td>right</td>\n",
       "      <td>4.06800</td>\n",
       "      <td>right</td>\n",
       "      <td>0.4169</td>\n",
       "      <td>BILLIARDA1</td>\n",
       "      <td>2021-07-25_14h55.23.086</td>\n",
       "      <td>1.0</td>\n",
       "      <td>1.0</td>\n",
       "    </tr>\n",
       "    <tr>\n",
       "      <th>87</th>\n",
       "      <td>990</td>\n",
       "      <td>9.0</td>\n",
       "      <td>left</td>\n",
       "      <td>8.183700</td>\n",
       "      <td>left</td>\n",
       "      <td>2.36050</td>\n",
       "      <td>COAXINGB0</td>\n",
       "      <td>2021-07-25_14h57.00.228</td>\n",
       "      <td>0.0</td>\n",
       "      <td>1.0</td>\n",
       "      <td>991</td>\n",
       "      <td>right</td>\n",
       "      <td>7.15560</td>\n",
       "      <td>right</td>\n",
       "      <td>1.8110</td>\n",
       "      <td>BILLIARDA1</td>\n",
       "      <td>2021-07-25_14h57.00.228</td>\n",
       "      <td>1.0</td>\n",
       "      <td>1.0</td>\n",
       "    </tr>\n",
       "    <tr>\n",
       "      <th>88</th>\n",
       "      <td>1000</td>\n",
       "      <td>69.0</td>\n",
       "      <td>left</td>\n",
       "      <td>2.372800</td>\n",
       "      <td>left</td>\n",
       "      <td>0.43820</td>\n",
       "      <td>COAXINGB0</td>\n",
       "      <td>2021-07-25_14h45.48.361</td>\n",
       "      <td>0.0</td>\n",
       "      <td>1.0</td>\n",
       "      <td>1001</td>\n",
       "      <td>right</td>\n",
       "      <td>1.39250</td>\n",
       "      <td>right</td>\n",
       "      <td>0.3129</td>\n",
       "      <td>BILLIARDA1</td>\n",
       "      <td>2021-07-25_14h45.48.361</td>\n",
       "      <td>1.0</td>\n",
       "      <td>1.0</td>\n",
       "    </tr>\n",
       "  </tbody>\n",
       "</table>\n",
       "<p>89 rows × 19 columns</p>\n",
       "</div>"
      ],
      "text/plain": [
       "    Unnamed: 0_x  sub_ind respDur_keys_x  respDur_rt_x respAfter_keys_x  \\\n",
       "0              0     86.0           left      3.070585             left   \n",
       "1             10     10.0           left      2.656500             left   \n",
       "2             20     23.0           left      3.052000             left   \n",
       "3             30     39.0           left      3.072100             left   \n",
       "4             40     47.0           left      2.865100             left   \n",
       "..           ...      ...            ...           ...              ...   \n",
       "84           960     32.0           left      3.379000             left   \n",
       "85           970     14.0           left      5.250400             left   \n",
       "86           980     78.0           left      4.643200             left   \n",
       "87           990      9.0           left      8.183700             left   \n",
       "88          1000     69.0           left      2.372800             left   \n",
       "\n",
       "    respAfter_rt_x    movie_x                   date_x  movie_ind_x  \\\n",
       "0          0.86851  COAXINGB0  2021-07-25_08h39.36.916          0.0   \n",
       "1          0.39830  COAXINGB0  2021-07-25_14h56.09.793          0.0   \n",
       "2          1.75900  COAXINGB0  2021-07-25_09h54.48.232          0.0   \n",
       "3          0.31040  COAXINGB0  2021-07-25_14h37.25.903          0.0   \n",
       "4          0.62790  COAXINGB0  2021-07-25_14h54.05.867          0.0   \n",
       "..             ...        ...                      ...          ...   \n",
       "84         0.60300  COAXINGB0  2021-07-25_06h52.13.337          0.0   \n",
       "85         1.00100  COAXINGB0  2021-07-25_09h51.36.290          0.0   \n",
       "86         0.38530  COAXINGB0  2021-07-25_14h55.23.086          0.0   \n",
       "87         2.36050  COAXINGB0  2021-07-25_14h57.00.228          0.0   \n",
       "88         0.43820  COAXINGB0  2021-07-25_14h45.48.361          0.0   \n",
       "\n",
       "    consistency_x  Unnamed: 0_y respDur_keys_y  respDur_rt_y respAfter_keys_y  \\\n",
       "0             1.0             1          right       1.90983            right   \n",
       "1             1.0            11           left       9.54180             left   \n",
       "2             1.0            21          right       1.77300            right   \n",
       "3             1.0            31          right       1.48970            right   \n",
       "4             1.0            41          right       2.78050            right   \n",
       "..            ...           ...            ...           ...              ...   \n",
       "84            1.0           961          right       3.69900            right   \n",
       "85            1.0           971          right       5.72450            right   \n",
       "86            1.0           981          right       4.06800            right   \n",
       "87            1.0           991          right       7.15560            right   \n",
       "88            1.0          1001          right       1.39250            right   \n",
       "\n",
       "    respAfter_rt_y     movie_y                   date_y  movie_ind_y  \\\n",
       "0           0.6697  BILLIARDA1  2021-07-25_08h39.36.916          1.0   \n",
       "1           0.6377  BILLIARDA1  2021-07-25_14h56.09.793          1.0   \n",
       "2           0.4830  BILLIARDA1  2021-07-25_09h54.48.232          1.0   \n",
       "3           0.2389  BILLIARDA1  2021-07-25_14h37.25.903          1.0   \n",
       "4           1.0910  BILLIARDA1  2021-07-25_14h54.05.867          1.0   \n",
       "..             ...         ...                      ...          ...   \n",
       "84          0.5360  BILLIARDA1  2021-07-25_06h52.13.337          1.0   \n",
       "85          1.0356  BILLIARDA1  2021-07-25_09h51.36.290          1.0   \n",
       "86          0.4169  BILLIARDA1  2021-07-25_14h55.23.086          1.0   \n",
       "87          1.8110  BILLIARDA1  2021-07-25_14h57.00.228          1.0   \n",
       "88          0.3129  BILLIARDA1  2021-07-25_14h45.48.361          1.0   \n",
       "\n",
       "    consistency_y  \n",
       "0             1.0  \n",
       "1             1.0  \n",
       "2             1.0  \n",
       "3             1.0  \n",
       "4             1.0  \n",
       "..            ...  \n",
       "84            1.0  \n",
       "85            1.0  \n",
       "86            1.0  \n",
       "87            1.0  \n",
       "88            1.0  \n",
       "\n",
       "[89 rows x 19 columns]"
      ]
     },
     "metadata": {},
     "execution_count": 165
    }
   ],
   "metadata": {}
  },
  {
   "cell_type": "code",
   "execution_count": 167,
   "source": [],
   "outputs": [
    {
     "output_type": "execute_result",
     "data": {
      "text/plain": [
       "89"
      ]
     },
     "metadata": {},
     "execution_count": 167
    }
   ],
   "metadata": {}
  },
  {
   "cell_type": "code",
   "execution_count": 157,
   "source": [
    "for i in ['left', 'right']:\n",
    "    for j in ['right', 'left']:\n",
    "        print('coax',i, ', bill', j, ':', len(np.where((dat_coaxbill_sideways['respDur_keys_x']==i) & (dat_coaxbill_sideways['respDur_keys_y']==j))[0]))"
   ],
   "outputs": [
    {
     "output_type": "stream",
     "name": "stdout",
     "text": [
      "coax left , bill right : 88\n",
      "coax left , bill left : 1\n",
      "coax right , bill right : 0\n",
      "coax right , bill left : 0\n"
     ]
    }
   ],
   "metadata": {}
  },
  {
   "cell_type": "code",
   "execution_count": 163,
   "source": [
    "data = np.array([[0,0],[1,88]])\n",
    "d,t = run_mcnemar(data)\n",
    "print(t)"
   ],
   "outputs": [
    {
     "output_type": "stream",
     "name": "stdout",
     "text": [
      "[[ 0  0]\n",
      " [ 1 88]]\n",
      "Fail to reject Null hypotesis\n",
      "Fail to reject Null hypotesis\n",
      "pvalue      1.0\n",
      "statistic   0.0\n"
     ]
    }
   ],
   "metadata": {}
  },
  {
   "cell_type": "code",
   "execution_count": 148,
   "source": [
    "len(np.unique(dat_all_full.loc[(dat_all_full['movie_ind']<2)&(dat_all_full['consistency']==1),:].groupby(['sub_ind','movie_ind','respDur_keys']).count().reset_index().sub_ind.values))"
   ],
   "outputs": [
    {
     "output_type": "execute_result",
     "data": {
      "text/plain": [
       "98"
      ]
     },
     "metadata": {},
     "execution_count": 148
    }
   ],
   "metadata": {}
  },
  {
   "cell_type": "code",
   "execution_count": 149,
   "source": [
    "subs = np.unique(dat_all_full.loc[(dat_all_full['movie_ind']<2)&(dat_all_full['consistency']==1),:].groupby(['sub_ind','movie_ind','respDur_keys']).count().reset_index().sub_ind.values)"
   ],
   "outputs": [
    {
     "output_type": "execute_result",
     "data": {
      "text/plain": [
       "array([ 0.,  1.,  2.,  3.,  4.,  5.,  6.,  7.,  8.,  9., 10., 11., 12.,\n",
       "       13., 14., 15., 16., 17., 18., 19., 20., 21., 22., 23., 24., 25.,\n",
       "       26., 27., 28., 29., 30., 31., 32., 33., 34., 35., 36., 38., 39.,\n",
       "       41., 42., 43., 44., 45., 46., 47., 48., 49., 50., 51., 52., 53.,\n",
       "       54., 55., 56., 57., 58., 59., 60., 61., 62., 63., 64., 65., 66.,\n",
       "       67., 68., 69., 70., 71., 72., 73., 74., 75., 76., 77., 78., 79.,\n",
       "       80., 81., 82., 83., 84., 85., 86., 87., 88., 89., 90., 91., 92.,\n",
       "       93., 94., 95., 96., 97., 98., 99.])"
      ]
     },
     "metadata": {},
     "execution_count": 149
    }
   ],
   "metadata": {}
  },
  {
   "cell_type": "code",
   "execution_count": null,
   "source": [
    "acc = []\n",
    "\n",
    "for i,row in dat_coaxbill.iterrows():\n",
    "    if (row['respAfter_keys'] == 'left'): # & (row['respDur_keys'] == 'left'):\n",
    "        if row['movie_ind'] == 0:\n",
    "            acc.append(1)\n",
    "        else:\n",
    "            acc.append(0)\n",
    "    \n",
    "    if (row['respAfter_keys'] == 'right'): #& (row['respDur_keys'] == 'right'):\n",
    "        if row['movie_ind'] == 0:\n",
    "            acc.append(0)\n",
    "        else:\n",
    "            acc.append(1)\n",
    "dat_coaxbill['acc'] = acc"
   ],
   "outputs": [],
   "metadata": {}
  },
  {
   "cell_type": "markdown",
   "source": [
    "## RT analyses"
   ],
   "metadata": {}
  },
  {
   "cell_type": "markdown",
   "source": [
    "- This was used for most of the reports until the final version of the paper (as of 3 May). But to repor the p-values of a paired ttest between them we need to sub select subs who responded \"Social\" to COAX AND \"Random\" to BILL. So we do another analysis for that below"
   ],
   "metadata": {}
  },
  {
   "cell_type": "code",
   "execution_count": 48,
   "source": [
    "# Don't use this for the final reporting! \n",
    "# Visualising median RT during and after for each movie based on responses\n",
    "print('\\nMedian RT per movie (note:there were very few responses in the nondominant category):')\n",
    "print(dat_all.groupby(['movie_ind','respDur_keys']).median().loc[:,['respDur_rt','respAfter_rt']])\n",
    "\n",
    "# Visualising median RT during and after for each movie based on responses\n",
    "print('\\nSEM RT per movie (note:there were very few responses in the nondominant category):')\n",
    "dat_all.groupby(['movie_ind','respDur_keys']).sem().loc[:,['respDur_rt','respAfter_rt']]"
   ],
   "outputs": [
    {
     "output_type": "stream",
     "name": "stdout",
     "text": [
      "\n",
      "Median RT per movie (note:there were very few responses in the nondominant category):\n",
      "                        respDur_rt  respAfter_rt\n",
      "movie_ind respDur_keys                          \n",
      "0.0       left            3.450320      0.855000\n",
      "1.0       left            9.541800      0.637700\n",
      "          right           3.663600      0.700595\n",
      "2.0       right           5.322500      0.720600\n",
      "3.0       left            6.340550      0.881400\n",
      "          right          14.475855      1.110347\n",
      "4.0       left           13.872450      0.937950\n",
      "          right           5.897500      0.864900\n",
      "5.0       left           10.111350      0.779500\n",
      "          right           8.264500      1.134300\n",
      "6.0       left            5.008300      0.622500\n",
      "7.0       left           13.901650      0.497950\n",
      "          right           5.100900      0.634750\n",
      "8.0       left            6.013300      0.756400\n",
      "          right          10.807495      1.139515\n",
      "9.0       left           12.933500      1.375800\n",
      "          right           3.768800      0.819500\n",
      "\n",
      "SEM RT per movie (note:there were very few responses in the nondominant category):\n"
     ]
    },
    {
     "output_type": "execute_result",
     "data": {
      "text/html": [
       "<div>\n",
       "<style scoped>\n",
       "    .dataframe tbody tr th:only-of-type {\n",
       "        vertical-align: middle;\n",
       "    }\n",
       "\n",
       "    .dataframe tbody tr th {\n",
       "        vertical-align: top;\n",
       "    }\n",
       "\n",
       "    .dataframe thead th {\n",
       "        text-align: right;\n",
       "    }\n",
       "</style>\n",
       "<table border=\"1\" class=\"dataframe\">\n",
       "  <thead>\n",
       "    <tr style=\"text-align: right;\">\n",
       "      <th></th>\n",
       "      <th></th>\n",
       "      <th>respDur_rt</th>\n",
       "      <th>respAfter_rt</th>\n",
       "    </tr>\n",
       "    <tr>\n",
       "      <th>movie_ind</th>\n",
       "      <th>respDur_keys</th>\n",
       "      <th></th>\n",
       "      <th></th>\n",
       "    </tr>\n",
       "  </thead>\n",
       "  <tbody>\n",
       "    <tr>\n",
       "      <th>0.0</th>\n",
       "      <th>left</th>\n",
       "      <td>0.261801</td>\n",
       "      <td>0.054470</td>\n",
       "    </tr>\n",
       "    <tr>\n",
       "      <th rowspan=\"2\" valign=\"top\">1.0</th>\n",
       "      <th>left</th>\n",
       "      <td>NaN</td>\n",
       "      <td>NaN</td>\n",
       "    </tr>\n",
       "    <tr>\n",
       "      <th>right</th>\n",
       "      <td>0.239774</td>\n",
       "      <td>0.053396</td>\n",
       "    </tr>\n",
       "    <tr>\n",
       "      <th>2.0</th>\n",
       "      <th>right</th>\n",
       "      <td>0.379013</td>\n",
       "      <td>0.057681</td>\n",
       "    </tr>\n",
       "    <tr>\n",
       "      <th rowspan=\"2\" valign=\"top\">3.0</th>\n",
       "      <th>left</th>\n",
       "      <td>0.374642</td>\n",
       "      <td>0.056763</td>\n",
       "    </tr>\n",
       "    <tr>\n",
       "      <th>right</th>\n",
       "      <td>4.668345</td>\n",
       "      <td>0.274853</td>\n",
       "    </tr>\n",
       "    <tr>\n",
       "      <th rowspan=\"2\" valign=\"top\">4.0</th>\n",
       "      <th>left</th>\n",
       "      <td>0.783341</td>\n",
       "      <td>0.214649</td>\n",
       "    </tr>\n",
       "    <tr>\n",
       "      <th>right</th>\n",
       "      <td>0.577789</td>\n",
       "      <td>0.061179</td>\n",
       "    </tr>\n",
       "    <tr>\n",
       "      <th rowspan=\"2\" valign=\"top\">5.0</th>\n",
       "      <th>left</th>\n",
       "      <td>0.553709</td>\n",
       "      <td>0.042881</td>\n",
       "    </tr>\n",
       "    <tr>\n",
       "      <th>right</th>\n",
       "      <td>NaN</td>\n",
       "      <td>NaN</td>\n",
       "    </tr>\n",
       "    <tr>\n",
       "      <th>6.0</th>\n",
       "      <th>left</th>\n",
       "      <td>0.252319</td>\n",
       "      <td>0.045813</td>\n",
       "    </tr>\n",
       "    <tr>\n",
       "      <th rowspan=\"2\" valign=\"top\">7.0</th>\n",
       "      <th>left</th>\n",
       "      <td>0.591250</td>\n",
       "      <td>0.158050</td>\n",
       "    </tr>\n",
       "    <tr>\n",
       "      <th>right</th>\n",
       "      <td>0.265157</td>\n",
       "      <td>0.043680</td>\n",
       "    </tr>\n",
       "    <tr>\n",
       "      <th rowspan=\"2\" valign=\"top\">8.0</th>\n",
       "      <th>left</th>\n",
       "      <td>0.309182</td>\n",
       "      <td>0.040716</td>\n",
       "    </tr>\n",
       "    <tr>\n",
       "      <th>right</th>\n",
       "      <td>NaN</td>\n",
       "      <td>NaN</td>\n",
       "    </tr>\n",
       "    <tr>\n",
       "      <th rowspan=\"2\" valign=\"top\">9.0</th>\n",
       "      <th>left</th>\n",
       "      <td>1.293783</td>\n",
       "      <td>0.333862</td>\n",
       "    </tr>\n",
       "    <tr>\n",
       "      <th>right</th>\n",
       "      <td>0.372510</td>\n",
       "      <td>0.053368</td>\n",
       "    </tr>\n",
       "  </tbody>\n",
       "</table>\n",
       "</div>"
      ],
      "text/plain": [
       "                        respDur_rt  respAfter_rt\n",
       "movie_ind respDur_keys                          \n",
       "0.0       left            0.261801      0.054470\n",
       "1.0       left                 NaN           NaN\n",
       "          right           0.239774      0.053396\n",
       "2.0       right           0.379013      0.057681\n",
       "3.0       left            0.374642      0.056763\n",
       "          right           4.668345      0.274853\n",
       "4.0       left            0.783341      0.214649\n",
       "          right           0.577789      0.061179\n",
       "5.0       left            0.553709      0.042881\n",
       "          right                NaN           NaN\n",
       "6.0       left            0.252319      0.045813\n",
       "7.0       left            0.591250      0.158050\n",
       "          right           0.265157      0.043680\n",
       "8.0       left            0.309182      0.040716\n",
       "          right                NaN           NaN\n",
       "9.0       left            1.293783      0.333862\n",
       "          right           0.372510      0.053368"
      ]
     },
     "metadata": {},
     "execution_count": 48
    }
   ],
   "metadata": {}
  },
  {
   "cell_type": "markdown",
   "source": [
    "- To report in the paper and to use in the timecourse analysis!"
   ],
   "metadata": {}
  },
  {
   "cell_type": "code",
   "execution_count": 49,
   "source": [
    "# Median and SEM for subs who responded \"Social\" to COAX and \"Random\" to BILL (also sed vs. bill presented when \n",
    "# it was considered for an alternate control)\n",
    "# This reduces n to 83 but we need to sub-select these to run a paired t-test between them.\n",
    "\n",
    "movie_inds = [0,1,6] # CHANGE MOVIE INDEX HERE.first should be social, second random\n",
    "mnames = [movie_names[i] for i in movie_inds]\n",
    "print(mnames)\n",
    "df1 = dat_all.loc[(dat_all['movie']== mnames[0]) & (dat_all['respDur_keys']== 'left'),\n",
    "                  ['sub_ind','respDur_rt']] # \"social\" responders for the social movie\n",
    "df2 = dat_all.loc[(dat_all['movie']== mnames[1]) & (dat_all['respDur_keys']== 'right'), \n",
    "                  ['sub_ind','respDur_rt']] # \"random\" responders for the random movie\n",
    "#df3 = dat_all.loc[(dat_all['movie']== mnames[2]) & (dat_all['respDur_keys']== 'left'), \n",
    "#                  ['sub_ind','respDur_rt']] # \"social\" responders for the 2nd social movie (we don't use this now!)\n",
    "\n",
    "i#nd = df2.sub_ind.isin(df1.sub_ind) & df1.sub_ind.isin(df2.sub_ind)\n",
    "merged1 = pd.merge(df1, df2, how='inner', on=['sub_ind'],suffixes = ['_'+ mnames[0][:4],'_'+ mnames[1][:4]])\n",
    "#merged2 = pd.merge(df3, df2, how='inner', on=['sub_ind'],suffixes = ['_'+ mnames[2][:4],'_'+ mnames[1][:4]])\n",
    "\n",
    "merged1['diff'] = merged1[merged1.columns[-2]] -  merged1[merged1.columns[-1]]\n",
    "#merged2['diff'] = merged2[merged2.columns[-2]] -  merged2[merged2.columns[-1]]\n",
    "\n",
    "print(merged1.shape)#, merged2.shape) # list of subs who gave a \"social\" response for movie 1 and \"nonsocial\" response for movie 2\n",
    "\n",
    "# for the fmri analysis\n",
    "print('median RT, social:', merged1['respDur_rt_COAX'].median())\n",
    "print('sem RT, social:', merged1['respDur_rt_COAX'].sem())\n",
    "print('median RT, random:', merged1['respDur_rt_BILL'].median())\n",
    "print('sem RT, random:', merged1['respDur_rt_BILL'].sem())\n"
   ],
   "outputs": [
    {
     "output_type": "stream",
     "name": "stdout",
     "text": [
      "['COAXINGB0', 'BILLIARDA1', 'SEDUCINGB6']\n",
      "(83, 4)\n",
      "median RT, social: 3.4533400010000004\n",
      "sem RT, social: 0.2680027249434063\n",
      "median RT, random: 3.699\n",
      "sem RT, random: 0.2467791956465626\n"
     ]
    }
   ],
   "metadata": {}
  },
  {
   "cell_type": "code",
   "execution_count": 50,
   "source": [
    "plt.figure(1,figsize =(3,2))\n",
    "plt.hist(merged1['diff'],bins =10,color ='grey', alpha = .4)\n",
    "plt.xlabel ('RTCOAX-RTBILL', fontsize =20)\n",
    "plt.ylabel('#subjects', fontsize =20)\n",
    "ymi,yma = plt.ylim()\n",
    "plt.vlines(np.mean(merged1['diff']),ymi,yma,label = 'mean', ls = 'solid',color = 'g', linewidth = 4)\n",
    "plt.vlines(np.median(merged1['diff']),ymi,yma,label = 'median', ls = 'dashed', color = 'r', linewidth =4)\n",
    "plt.xticks(fontsize=20)\n",
    "plt.yticks(fontsize=20)\n",
    "plt.legend(bbox_to_anchor=[1.01,1])\n",
    "print(stats.normaltest(merged1['diff'])) # the difference is not normally distrbuted around zero.\n",
    "stats.wilcoxon(merged1['diff'])"
   ],
   "outputs": [
    {
     "output_type": "stream",
     "name": "stdout",
     "text": [
      "NormaltestResult(statistic=25.988950807317465, pvalue=2.272851372105547e-06)\n"
     ]
    },
    {
     "output_type": "execute_result",
     "data": {
      "text/plain": [
       "WilcoxonResult(statistic=1619.0, pvalue=0.5734507851511437)"
      ]
     },
     "metadata": {},
     "execution_count": 50
    },
    {
     "output_type": "display_data",
     "data": {
      "image/png": "[encoded data removed]",
      "text/plain": [
       "<Figure size 216x144 with 1 Axes>"
      ]
     },
     "metadata": {
      "needs_background": "light"
     }
    }
   ],
   "metadata": {}
  },
  {
   "cell_type": "code",
   "execution_count": 53,
   "source": [
    "merged1['diff'].values.shape"
   ],
   "outputs": [
    {
     "output_type": "execute_result",
     "data": {
      "text/plain": [
       "(83,)"
      ]
     },
     "metadata": {},
     "execution_count": 53
    }
   ],
   "metadata": {}
  },
  {
   "cell_type": "code",
   "execution_count": null,
   "source": [
    "#pop_response = ['left','right','left']\n",
    "#movie_inds = [0,1,6]\n",
    "#for i in range(3):\n",
    "#    print(dat_all.loc[(dat_all['movie_ind']==movie_inds[i])&(dat_all['respDur_keys']==pop_response[i]),'respDur_rt'].median(skipna=True))"
   ],
   "outputs": [],
   "metadata": {}
  },
  {
   "cell_type": "code",
   "execution_count": 60,
   "source": [
    "# extracts RTs and stores them in a list - 1 index for RTs for a movie\n",
    "rtDur_all = []\n",
    "for movies in range(10):\n",
    "    rows = dat_all['movie_ind'] == movies\n",
    "    rtDur_all.append(dat_all.loc[rows,'respDur_rt'].values) # each list element is an array of during-RTs\n",
    "print('len(rtDur_all):', len(rtDur_all),', rtDur_all[0].shape', rtDur_all[0].shape)"
   ],
   "outputs": [
    {
     "output_type": "stream",
     "name": "stdout",
     "text": [
      "len(rtDur_all): 10 , rtDur_all[0].shape (86,)\n"
     ]
    }
   ],
   "metadata": {}
  },
  {
   "cell_type": "markdown",
   "source": [
    "#### Raincloud plots"
   ],
   "metadata": {}
  },
  {
   "cell_type": "code",
   "execution_count": 61,
   "source": [
    "red_rgb*1.2"
   ],
   "outputs": [
    {
     "output_type": "execute_result",
     "data": {
      "text/plain": [
       "array([0.88470588, 0.28705882, 0.29176471])"
      ]
     },
     "metadata": {},
     "execution_count": 61
    }
   ],
   "metadata": {}
  },
  {
   "cell_type": "code",
   "execution_count": 38,
   "source": [
    "colors = [red_rgb,blue_rgb]\n",
    "# Set your custom color palette\n",
    "myPalette = sns.set_palette(sns.color_palette(colors))"
   ],
   "outputs": [],
   "metadata": {}
  },
  {
   "cell_type": "code",
   "execution_count": 39,
   "source": [
    "#pip install ptitprince\n",
    "\n",
    "import ptitprince as pt"
   ],
   "outputs": [],
   "metadata": {}
  },
  {
   "cell_type": "code",
   "execution_count": 40,
   "source": [
    "import warnings\n",
    "warnings.filterwarnings(\"ignore\", message='single_var_warning.format(\"Vertical\",x\")')"
   ],
   "outputs": [],
   "metadata": {}
  },
  {
   "cell_type": "markdown",
   "source": [
    "### two ways of plotting"
   ],
   "metadata": {}
  },
  {
   "cell_type": "code",
   "execution_count": 41,
   "source": [
    "def box_plot(data, edge_color, fill_color,pos,v):\n",
    "    # customize boxplots\n",
    "    alpha= .2\n",
    "    bp = ax.boxplot(data, positions = [pos], patch_artist=True,widths=.3,vert=v,flierprops = dict(markeredgecolor=edge_color,\n",
    "    markerfacecolor=fill_color, alpha=alpha))\n",
    "    \n",
    "    for element in ['boxes', 'whiskers', 'fliers', 'means', 'caps']:\n",
    "        plt.setp(bp[element], color=edge_color)\n",
    "    for element in ['medians']:\n",
    "        plt.setp(bp[element], color='k',linewidth=2,ls='dashed')\n",
    "\n",
    "    for patch in bp['boxes']:\n",
    "        patch.set(facecolor=fill_color,alpha=alpha)#'w'       \n",
    "        \n",
    "    return bp"
   ],
   "outputs": [],
   "metadata": {}
  },
  {
   "cell_type": "code",
   "execution_count": 42,
   "source": [
    "dat_all.groupby(['movie','respDur_keys']).count().unstack(level=-1).sub_ind"
   ],
   "outputs": [
    {
     "output_type": "execute_result",
     "data": {
      "text/html": [
       "<div>\n",
       "<style scoped>\n",
       "    .dataframe tbody tr th:only-of-type {\n",
       "        vertical-align: middle;\n",
       "    }\n",
       "\n",
       "    .dataframe tbody tr th {\n",
       "        vertical-align: top;\n",
       "    }\n",
       "\n",
       "    .dataframe thead th {\n",
       "        text-align: right;\n",
       "    }\n",
       "</style>\n",
       "<table border=\"1\" class=\"dataframe\">\n",
       "  <thead>\n",
       "    <tr style=\"text-align: right;\">\n",
       "      <th>respDur_keys</th>\n",
       "      <th>left</th>\n",
       "      <th>right</th>\n",
       "    </tr>\n",
       "    <tr>\n",
       "      <th>movie</th>\n",
       "      <th></th>\n",
       "      <th></th>\n",
       "    </tr>\n",
       "  </thead>\n",
       "  <tbody>\n",
       "    <tr>\n",
       "      <th>BILLIARDA1</th>\n",
       "      <td>1.0</td>\n",
       "      <td>87.0</td>\n",
       "    </tr>\n",
       "    <tr>\n",
       "      <th>COAXINGB0</th>\n",
       "      <td>86.0</td>\n",
       "      <td>NaN</td>\n",
       "    </tr>\n",
       "    <tr>\n",
       "      <th>DRIFTINGA2</th>\n",
       "      <td>NaN</td>\n",
       "      <td>89.0</td>\n",
       "    </tr>\n",
       "    <tr>\n",
       "      <th>FISHING3</th>\n",
       "      <td>80.0</td>\n",
       "      <td>2.0</td>\n",
       "    </tr>\n",
       "    <tr>\n",
       "      <th>RANDOMMECH4</th>\n",
       "      <td>6.0</td>\n",
       "      <td>66.0</td>\n",
       "    </tr>\n",
       "    <tr>\n",
       "      <th>SCARING5</th>\n",
       "      <td>72.0</td>\n",
       "      <td>1.0</td>\n",
       "    </tr>\n",
       "    <tr>\n",
       "      <th>SEDUCINGB6</th>\n",
       "      <td>89.0</td>\n",
       "      <td>NaN</td>\n",
       "    </tr>\n",
       "    <tr>\n",
       "      <th>STARA7</th>\n",
       "      <td>2.0</td>\n",
       "      <td>82.0</td>\n",
       "    </tr>\n",
       "    <tr>\n",
       "      <th>SURPRISINGB8</th>\n",
       "      <td>83.0</td>\n",
       "      <td>1.0</td>\n",
       "    </tr>\n",
       "    <tr>\n",
       "      <th>TENNISA9</th>\n",
       "      <td>3.0</td>\n",
       "      <td>71.0</td>\n",
       "    </tr>\n",
       "  </tbody>\n",
       "</table>\n",
       "</div>"
      ],
      "text/plain": [
       "respDur_keys  left  right\n",
       "movie                    \n",
       "BILLIARDA1     1.0   87.0\n",
       "COAXINGB0     86.0    NaN\n",
       "DRIFTINGA2     NaN   89.0\n",
       "FISHING3      80.0    2.0\n",
       "RANDOMMECH4    6.0   66.0\n",
       "SCARING5      72.0    1.0\n",
       "SEDUCINGB6    89.0    NaN\n",
       "STARA7         2.0   82.0\n",
       "SURPRISINGB8  83.0    1.0\n",
       "TENNISA9       3.0   71.0"
      ]
     },
     "metadata": {},
     "execution_count": 42
    }
   ],
   "metadata": {}
  },
  {
   "cell_type": "code",
   "execution_count": 51,
   "source": [
    "#same thing with a single command: now x **must** be the categorical value\n",
    "m=0\n",
    "df = dat_all.loc[dat_all['movie'] == movie_names[m],:]\n",
    "\n",
    "dx = \"respDur_keys\"; dy = \"respDur_rt\"; ort = \"v\"; pal = myPalette; sigma = .2\n",
    "f, ax = plt.subplots(figsize=(20, 15))\n",
    "order = ['left','right']\n",
    "\n",
    "boxplot_lims = [.4,1.4]\n",
    "for m in range(10):\n",
    "    plt.subplot(2,5,m+1)\n",
    "    df = dat_all.loc[dat_all['movie']==movie_names[m],:]\n",
    "    ax= pt.stripplot( y = dy, x = dx, data = df, palette = pal, edgecolor = \"white\",size = 3, jitter = True, zorder = 0, orient = ort,marker='.',s=10,order=order,move=0)\n",
    "    if m ==4:\n",
    "        plt.title('RANDOM MECH',fontweight='bold')\n",
    "    else:\n",
    "        plt.title(str.upper(vid_names_hcp[m].split('-')[0]),fontweight='bold',fontsize=24)\n",
    "    #for i,resp in enumerate(['left','right']):\n",
    "    for i,resp in enumerate(['left','right']):\n",
    "        df2 = dat_all.loc[(dat_all['movie']==movie_names[m])&(dat_all['respDur_keys']==resp),:]\n",
    "        keys_binary = [boxplot_lims[0] if i == 'left' else boxplot_lims[1] for i in df2['respDur_keys'].values]\n",
    "        df2['keysDur_binary'] = keys_binary\n",
    "        #df2['respDur_keys_binary'] = df2['respDur_keys'].map({'left': .5, 'right': 1.5})\n",
    "        if df2.shape[0]>10:\n",
    "            ax=pt.half_violinplot( y = dy, x = dx, data =df2, palette = pal, bw = .2, cut = 0.,\n",
    "                                scale = \"area\", width = .4, inner = None, orient = ort,order=order,dodge=True,offset=.3)\n",
    "            #ax=sns.boxplot( x = dx, y = dy, data = df2, color = \"black\", width = .1, zorder = 10,\\\n",
    "            #            showcaps = True, boxprops = {'facecolor':'none', \"zorder\":10},\\\n",
    "            #            showfliers=True, whiskerprops = {'linewidth':2, \"zorder\":10},\\\n",
    "            #            saturation = 1, orient = ort,order=order,dodge=True)\n",
    "\n",
    "            color =  red_rgb if df2['keysDur_binary'].values[0] == boxplot_lims[0] else blue_rgb\n",
    "            bp = box_plot(df2[dy], color, color,df2['keysDur_binary'].values[0],True)\n",
    "\n",
    "            #ax = plt.boxplot(, positions= [df2['keysDur_binary'].values[0]])\n",
    "            \n",
    "\n",
    "    plt.xlabel('')\n",
    "    plt.xticks(range(2),['\"Soc\"','\"Non-\\nsoc\"'], fontsize=24,ha='center')\n",
    "    plt.xlim(-.7,1.7)\n",
    "    if m%5==0:\n",
    "        plt.ylabel('Response time (s)',fontsize=24)\n",
    "    else:\n",
    "        plt.ylabel(' ')\n",
    "    plt.ylim(0,20)\n",
    "    plt.yticks([0,5,10,15,20])\n",
    "\n",
    "plt.subplots_adjust(left=0,\n",
    "                    bottom=0.1, \n",
    "                    right=1, \n",
    "                    top=0.9, \n",
    "                    wspace=0.2, \n",
    "                    hspace=0.3)\n",
    "#plt.tight_layout()\n",
    "\n",
    "plt.savefig(os.path.join(fig_save_loc,'fig1S_RTduring.png'),dpi=300,bbox_inches='tight',facecolor='white', edgecolor='none')\n"
   ],
   "outputs": [
    {
     "output_type": "stream",
     "name": "stderr",
     "text": [
      "/Users/f0053cz/anaconda3/envs/py37/lib/python3.7/site-packages/ipykernel_launcher.py:22: SettingWithCopyWarning: \n",
      "A value is trying to be set on a copy of a slice from a DataFrame.\n",
      "Try using .loc[row_indexer,col_indexer] = value instead\n",
      "\n",
      "See the caveats in the documentation: https://pandas.pydata.org/pandas-docs/stable/user_guide/indexing.html#returning-a-view-versus-a-copy\n",
      "/Users/f0053cz/anaconda3/envs/py37/lib/python3.7/site-packages/ipykernel_launcher.py:22: SettingWithCopyWarning: \n",
      "A value is trying to be set on a copy of a slice from a DataFrame.\n",
      "Try using .loc[row_indexer,col_indexer] = value instead\n",
      "\n",
      "See the caveats in the documentation: https://pandas.pydata.org/pandas-docs/stable/user_guide/indexing.html#returning-a-view-versus-a-copy\n",
      "/Users/f0053cz/anaconda3/envs/py37/lib/python3.7/site-packages/ipykernel_launcher.py:22: SettingWithCopyWarning: \n",
      "A value is trying to be set on a copy of a slice from a DataFrame.\n",
      "Try using .loc[row_indexer,col_indexer] = value instead\n",
      "\n",
      "See the caveats in the documentation: https://pandas.pydata.org/pandas-docs/stable/user_guide/indexing.html#returning-a-view-versus-a-copy\n",
      "/Users/f0053cz/anaconda3/envs/py37/lib/python3.7/site-packages/ipykernel_launcher.py:22: SettingWithCopyWarning: \n",
      "A value is trying to be set on a copy of a slice from a DataFrame.\n",
      "Try using .loc[row_indexer,col_indexer] = value instead\n",
      "\n",
      "See the caveats in the documentation: https://pandas.pydata.org/pandas-docs/stable/user_guide/indexing.html#returning-a-view-versus-a-copy\n",
      "/Users/f0053cz/anaconda3/envs/py37/lib/python3.7/site-packages/ipykernel_launcher.py:22: SettingWithCopyWarning: \n",
      "A value is trying to be set on a copy of a slice from a DataFrame.\n",
      "Try using .loc[row_indexer,col_indexer] = value instead\n",
      "\n",
      "See the caveats in the documentation: https://pandas.pydata.org/pandas-docs/stable/user_guide/indexing.html#returning-a-view-versus-a-copy\n",
      "/Users/f0053cz/anaconda3/envs/py37/lib/python3.7/site-packages/ipykernel_launcher.py:22: SettingWithCopyWarning: \n",
      "A value is trying to be set on a copy of a slice from a DataFrame.\n",
      "Try using .loc[row_indexer,col_indexer] = value instead\n",
      "\n",
      "See the caveats in the documentation: https://pandas.pydata.org/pandas-docs/stable/user_guide/indexing.html#returning-a-view-versus-a-copy\n",
      "/Users/f0053cz/anaconda3/envs/py37/lib/python3.7/site-packages/ipykernel_launcher.py:22: SettingWithCopyWarning: \n",
      "A value is trying to be set on a copy of a slice from a DataFrame.\n",
      "Try using .loc[row_indexer,col_indexer] = value instead\n",
      "\n",
      "See the caveats in the documentation: https://pandas.pydata.org/pandas-docs/stable/user_guide/indexing.html#returning-a-view-versus-a-copy\n",
      "/Users/f0053cz/anaconda3/envs/py37/lib/python3.7/site-packages/ipykernel_launcher.py:22: SettingWithCopyWarning: \n",
      "A value is trying to be set on a copy of a slice from a DataFrame.\n",
      "Try using .loc[row_indexer,col_indexer] = value instead\n",
      "\n",
      "See the caveats in the documentation: https://pandas.pydata.org/pandas-docs/stable/user_guide/indexing.html#returning-a-view-versus-a-copy\n",
      "/Users/f0053cz/anaconda3/envs/py37/lib/python3.7/site-packages/ipykernel_launcher.py:22: SettingWithCopyWarning: \n",
      "A value is trying to be set on a copy of a slice from a DataFrame.\n",
      "Try using .loc[row_indexer,col_indexer] = value instead\n",
      "\n",
      "See the caveats in the documentation: https://pandas.pydata.org/pandas-docs/stable/user_guide/indexing.html#returning-a-view-versus-a-copy\n",
      "/Users/f0053cz/anaconda3/envs/py37/lib/python3.7/site-packages/ipykernel_launcher.py:22: SettingWithCopyWarning: \n",
      "A value is trying to be set on a copy of a slice from a DataFrame.\n",
      "Try using .loc[row_indexer,col_indexer] = value instead\n",
      "\n",
      "See the caveats in the documentation: https://pandas.pydata.org/pandas-docs/stable/user_guide/indexing.html#returning-a-view-versus-a-copy\n",
      "/Users/f0053cz/anaconda3/envs/py37/lib/python3.7/site-packages/ipykernel_launcher.py:22: SettingWithCopyWarning: \n",
      "A value is trying to be set on a copy of a slice from a DataFrame.\n",
      "Try using .loc[row_indexer,col_indexer] = value instead\n",
      "\n",
      "See the caveats in the documentation: https://pandas.pydata.org/pandas-docs/stable/user_guide/indexing.html#returning-a-view-versus-a-copy\n",
      "/Users/f0053cz/anaconda3/envs/py37/lib/python3.7/site-packages/ipykernel_launcher.py:22: SettingWithCopyWarning: \n",
      "A value is trying to be set on a copy of a slice from a DataFrame.\n",
      "Try using .loc[row_indexer,col_indexer] = value instead\n",
      "\n",
      "See the caveats in the documentation: https://pandas.pydata.org/pandas-docs/stable/user_guide/indexing.html#returning-a-view-versus-a-copy\n",
      "/Users/f0053cz/anaconda3/envs/py37/lib/python3.7/site-packages/ipykernel_launcher.py:22: SettingWithCopyWarning: \n",
      "A value is trying to be set on a copy of a slice from a DataFrame.\n",
      "Try using .loc[row_indexer,col_indexer] = value instead\n",
      "\n",
      "See the caveats in the documentation: https://pandas.pydata.org/pandas-docs/stable/user_guide/indexing.html#returning-a-view-versus-a-copy\n"
     ]
    },
    {
     "output_type": "display_data",
     "data": {
      "image/png": "[encoded data removed]",
      "text/plain": [
       "<Figure size 1440x1080 with 10 Axes>"
      ]
     },
     "metadata": {
      "needs_background": "light"
     }
    }
   ],
   "metadata": {}
  },
  {
   "cell_type": "code",
   "execution_count": 100,
   "source": [
    "#same thing with a single command: now x **must** be the categorical value\n",
    "#f, ax = plt.subplots(figsize=(7, 5))\n",
    "plt.figure(1,figsize=(15,10))\n",
    "m=6\n",
    "for m in range(10):\n",
    "    plt.subplot(2,5,m+1)\n",
    "    df = dat_all.loc[(dat_all['movie'] == movie_names[m]),:]\n",
    "    dx = df[\"respDur_keys\"]; dy = df[\"respDur_rt\"]; ort = \"v\"; pal = myPalette; sigma = .2\n",
    "    #if m in [0,3,5,6,8]:\n",
    "    #    pal = \"RdBu\"\n",
    "    #else:\n",
    "    #    pal = \"RdBu_r\"\n",
    "    ax=plt.gcf().axes[m]\n",
    "    pt.RainCloud(x = dx, y = dy, data = df, palette = pal, bw = sigma,width_viol = .6, ax = ax, orient = ort,move = .3,order=['left','right'])\n",
    "    #pt.RainCloud(x = dx, y = dy, data = df, palette = pal, bw = sigma,\\\n",
    "    #                width_viol = .6, ax = plt.gcf().axes[m], orient = ort,move = .3)\n",
    "    plt.xlabel('')\n",
    "    #if m in [0,3,5,6,8]:\n",
    "    plt.xticks(range(2),['\"Social\"','\"Non-\\nsocial\"'])\n",
    "    #else:\n",
    "    #    plt.yticks(range(2),['\"Non-\\nsocial\"','\"Social\"'])\n",
    "    plt.ylabel('RT(sec)')\n",
    "    plt.title(movie_names[m][:-1],fontweight='bold')\n",
    "    \n",
    "    plt.ylim(0,20)\n",
    "    plt.xlim(-.6,1.6)\n",
    "    \n",
    "plt.tight_layout()"
   ],
   "outputs": [
    {
     "output_type": "display_data",
     "data": {
      "image/png": "[encoded data removed]",
      "text/plain": [
       "<Figure size 1080x720 with 10 Axes>"
      ]
     },
     "metadata": {
      "needs_background": "light"
     }
    }
   ],
   "metadata": {}
  },
  {
   "cell_type": "markdown",
   "source": [
    "### other visualizations of RT"
   ],
   "metadata": {}
  },
  {
   "cell_type": "code",
   "execution_count": 43,
   "source": [
    "plt.figure(1,figsize = (15,8))\n",
    "for i in range(10):\n",
    "    plt.subplot(2,5,i+1)\n",
    "    val = rtDur_all[i]\n",
    "    #plt.errorbar(i+1,np.nanmean(val),stats.sem(val, nan_policy = 'omit'),marker = 'o')\n",
    "    #plt.plot(np.ones((len(val))),val, marker = 'o', ls = 'None')\n",
    "    #sns.violinplot(val)\n",
    "    s =  dat_all.groupby(['movie_ind','respDur_keys']).count().sub_ind.unstack(level = -1).iloc[i,0]\n",
    "    ns =  dat_all.groupby(['movie_ind','respDur_keys']).count().sub_ind.unstack(level = -1).iloc[i,1]\n",
    "    s = 0 if np.isnan(s) else s\n",
    "    ns = 0 if np.isnan(ns) else ns\n",
    "    plt.hist(val,bins=20, color = [0,0,.95],alpha = .5)\n",
    "    #plt.title(movie_names[i] + ',n=' + str(nsubs[i])+ '\\nnSoc='+ str(s) + ',nRand=' + str(ns))\n",
    "    plt.title(movie_names[i] + '\\nnSoc='+ str(s) + ',\\nnRand=' + str(ns),fontweight = 'bold',fontsize =20)\n",
    "    plt.vlines(np.mean(val),0,20,color = 'r', linewidth = 2, ls = 'dotted', label = 'mean')\n",
    "    plt.vlines(np.median(val),0,20,color = 'g', linewidth = 2, ls = 'dotted', label = 'median')\n",
    "    plt.xticks([0,5,10,15,20],fontsize =20)\n",
    "    if i % 5 ==0:\n",
    "        plt.yticks(fontsize =20)\n",
    "        plt.ylabel('#subs')\n",
    "    else:\n",
    "        plt.yticks([])\n",
    "    if i>4:\n",
    "        plt.xlabel('RT(s)',fontsize =20)\n",
    "    plt.ylim(0,20)\n",
    "    if i ==4:\n",
    "        plt.legend(bbox_to_anchor=(1.2, 1), loc = 'upper left',fontsize=20)\n",
    "    \n",
    "plt.tight_layout()\n",
    "#lbls = [str.upper(i[:4]) for i in movie_names]\n",
    "#plt.xticks(1+np.arange(10),lbls)"
   ],
   "outputs": [
    {
     "output_type": "error",
     "ename": "NameError",
     "evalue": "name 'rtDur_all' is not defined",
     "traceback": [
      "\u001b[0;31m---------------------------------------------------------------------------\u001b[0m",
      "\u001b[0;31mNameError\u001b[0m                                 Traceback (most recent call last)",
      "\u001b[0;32m<ipython-input-43-6c436a6a5e14>\u001b[0m in \u001b[0;36m<module>\u001b[0;34m\u001b[0m\n\u001b[1;32m      2\u001b[0m \u001b[0;32mfor\u001b[0m \u001b[0mi\u001b[0m \u001b[0;32min\u001b[0m \u001b[0mrange\u001b[0m\u001b[0;34m(\u001b[0m\u001b[0;36m10\u001b[0m\u001b[0;34m)\u001b[0m\u001b[0;34m:\u001b[0m\u001b[0;34m\u001b[0m\u001b[0;34m\u001b[0m\u001b[0m\n\u001b[1;32m      3\u001b[0m     \u001b[0mplt\u001b[0m\u001b[0;34m.\u001b[0m\u001b[0msubplot\u001b[0m\u001b[0;34m(\u001b[0m\u001b[0;36m2\u001b[0m\u001b[0;34m,\u001b[0m\u001b[0;36m5\u001b[0m\u001b[0;34m,\u001b[0m\u001b[0mi\u001b[0m\u001b[0;34m+\u001b[0m\u001b[0;36m1\u001b[0m\u001b[0;34m)\u001b[0m\u001b[0;34m\u001b[0m\u001b[0;34m\u001b[0m\u001b[0m\n\u001b[0;32m----> 4\u001b[0;31m     \u001b[0mval\u001b[0m \u001b[0;34m=\u001b[0m \u001b[0mrtDur_all\u001b[0m\u001b[0;34m[\u001b[0m\u001b[0mi\u001b[0m\u001b[0;34m]\u001b[0m\u001b[0;34m\u001b[0m\u001b[0;34m\u001b[0m\u001b[0m\n\u001b[0m\u001b[1;32m      5\u001b[0m     \u001b[0;31m#plt.errorbar(i+1,np.nanmean(val),stats.sem(val, nan_policy = 'omit'),marker = 'o')\u001b[0m\u001b[0;34m\u001b[0m\u001b[0;34m\u001b[0m\u001b[0;34m\u001b[0m\u001b[0m\n\u001b[1;32m      6\u001b[0m     \u001b[0;31m#plt.plot(np.ones((len(val))),val, marker = 'o', ls = 'None')\u001b[0m\u001b[0;34m\u001b[0m\u001b[0;34m\u001b[0m\u001b[0;34m\u001b[0m\u001b[0m\n",
      "\u001b[0;31mNameError\u001b[0m: name 'rtDur_all' is not defined"
     ]
    },
    {
     "output_type": "display_data",
     "data": {
      "image/png": "[encoded data removed]",
      "text/plain": [
       "<Figure size 1080x576 with 1 Axes>"
      ]
     },
     "metadata": {
      "needs_background": "light"
     }
    }
   ],
   "metadata": {}
  },
  {
   "cell_type": "code",
   "execution_count": 44,
   "source": [
    "# visualizing RTs per group as dots\n",
    "plt.figure(1,figsize =(16,7))\n",
    "for i in range(10):\n",
    "    plt.subplot(2,5,i+1)\n",
    "    dat_movie = dat_all.loc[dat_all['movie_ind']==i]\n",
    "        \n",
    "    # extracts RTs and stores them in a list - 1 index for RTs for a movie\n",
    "    rows = (dat_all['movie_ind'] == i) & (dat_all['respDur_keys'] == 'left') \n",
    "    val1 = dat_all.loc[rows,'respDur_rt'].values\n",
    "    val1 = val1[~np.isnan(val1)]\n",
    "    \n",
    "    rows = (dat_all['movie_ind'] == i) & (dat_all['respDur_keys'] == 'right') \n",
    "    val2 = dat_all.loc[rows,'respDur_rt'].values\n",
    "    val2 = val2[~np.isnan(val2)]\n",
    "    \n",
    "    plt.plot(np.ones((len(val1),))+.5,val1, color = 'red', ls = 'None',marker = 'o', markersize =12, alpha = .1, label = 'social')\n",
    "    plt.plot(np.ones((len(val2),))-.5,val2, color = 'blue', ls = 'None',marker = 'o', markersize =12,alpha = .1, label = 'random')\n",
    "    plt.bar([.5,1.5], [np.nanmedian(val2),np.nanmedian(val1)], color = 'grey', alpha = .3, label = 'median')\n",
    "    #plt.hlines(0,0,2,color = 'k')\n",
    "    if i ==4:\n",
    "        plt.legend(bbox_to_anchor=(1.2, 1), loc = 'upper left',fontsize =20)\n",
    "    plt.title(movie_names[i], fontweight = 'bold', fontsize =20)\n",
    "    plt.xticks([])\n",
    "    if i% 5 == 0:\n",
    "        plt.yticks(fontsize=20)\n",
    "        plt.ylabel('RT(s)',fontsize =20)\n",
    "    else:\n",
    "        plt.yticks([])\n",
    "    plt.xlim(0,2)\n",
    "    plt.ylim(0,20)\n",
    "    plt.xlabel('')\n",
    "    #lbls = [str.upper(i[:4]) for i in movie_names]\n",
    "    #plt.xticks(np.arange(10),lbls, rotation = 30)\n",
    "plt.tight_layout()"
   ],
   "outputs": [
    {
     "output_type": "display_data",
     "data": {
      "image/png": "[encoded data removed]",
      "text/plain": [
       "<Figure size 1152x504 with 10 Axes>"
      ]
     },
     "metadata": {
      "needs_background": "light"
     }
    }
   ],
   "metadata": {}
  },
  {
   "cell_type": "code",
   "execution_count": 52,
   "source": [
    "plt.figure(1,figsize = (12,8))\n",
    "for i in range(10):\n",
    "    plt.subplot(2,5,i+1)\n",
    "    val = rtDur_all[i]\n",
    "    #plt.errorbar(i+1,np.nanmean(val),stats.sem(val, nan_policy = 'omit'),marker = 'o')\n",
    "    #plt.plot(np.ones((len(val))),val, marker = 'o', ls = 'None')\n",
    "    #sns.violinplot(val)\n",
    "    val = val[~np.isnan(val)]\n",
    "    plt.boxplot(val, notch = False)\n",
    "    s =  dat_all.groupby(['movie_ind','respDur_keys']).count().sub_ind.unstack(level = -1).iloc[i,0]\n",
    "    ns =  dat_all.groupby(['movie_ind','respDur_keys']).count().sub_ind.unstack(level = -1).iloc[i,1]\n",
    "    s = 0 if np.isnan(s) else s\n",
    "    ns = 0 if np.isnan(ns) else ns\n",
    "    plt.title(movie_names[i] + '\\nnSoc='+ str(s) + ',\\nnRand=' + str(ns),fontsize = 20,fontweight = 'bold')\n",
    "    plt.xticks([])\n",
    "    if i%5 ==0 :\n",
    "        plt.yticks(fontsize =20)\n",
    "        plt.ylabel('RT(s)', fontsize =20)\n",
    "    else:\n",
    "        plt.yticks([])\n",
    "    plt.ylim(0,20)\n",
    "plt.tight_layout()\n",
    "#lbls = [str.upper(i[:4]) for i in movie_names]\n",
    "#plt.xticks(1+np.arange(10),lbls)"
   ],
   "outputs": [
    {
     "output_type": "display_data",
     "data": {
      "image/png": "[encoded data removed]",
      "text/plain": [
       "<Figure size 864x576 with 10 Axes>"
      ]
     },
     "metadata": {
      "needs_background": "light"
     }
    }
   ],
   "metadata": {}
  },
  {
   "cell_type": "markdown",
   "source": [
    "## Comparing distrbutions"
   ],
   "metadata": {}
  },
  {
   "cell_type": "code",
   "execution_count": 53,
   "source": [
    "['_'+ mnames[0][:4],'_'+ mnames[1][:4],'_'+ mnames[2][:4]]"
   ],
   "outputs": [
    {
     "output_type": "error",
     "ename": "NameError",
     "evalue": "name 'mnames' is not defined",
     "traceback": [
      "\u001b[0;31m---------------------------------------------------------------------------\u001b[0m",
      "\u001b[0;31mNameError\u001b[0m                                 Traceback (most recent call last)",
      "\u001b[0;32m<ipython-input-53-d252a341113f>\u001b[0m in \u001b[0;36m<module>\u001b[0;34m\u001b[0m\n\u001b[0;32m----> 1\u001b[0;31m \u001b[0;34m[\u001b[0m\u001b[0;34m'_'\u001b[0m\u001b[0;34m+\u001b[0m \u001b[0mmnames\u001b[0m\u001b[0;34m[\u001b[0m\u001b[0;36m0\u001b[0m\u001b[0;34m]\u001b[0m\u001b[0;34m[\u001b[0m\u001b[0;34m:\u001b[0m\u001b[0;36m4\u001b[0m\u001b[0;34m]\u001b[0m\u001b[0;34m,\u001b[0m\u001b[0;34m'_'\u001b[0m\u001b[0;34m+\u001b[0m \u001b[0mmnames\u001b[0m\u001b[0;34m[\u001b[0m\u001b[0;36m1\u001b[0m\u001b[0;34m]\u001b[0m\u001b[0;34m[\u001b[0m\u001b[0;34m:\u001b[0m\u001b[0;36m4\u001b[0m\u001b[0;34m]\u001b[0m\u001b[0;34m,\u001b[0m\u001b[0;34m'_'\u001b[0m\u001b[0;34m+\u001b[0m \u001b[0mmnames\u001b[0m\u001b[0;34m[\u001b[0m\u001b[0;36m2\u001b[0m\u001b[0;34m]\u001b[0m\u001b[0;34m[\u001b[0m\u001b[0;34m:\u001b[0m\u001b[0;36m4\u001b[0m\u001b[0;34m]\u001b[0m\u001b[0;34m]\u001b[0m\u001b[0;34m\u001b[0m\u001b[0;34m\u001b[0m\u001b[0m\n\u001b[0m",
      "\u001b[0;31mNameError\u001b[0m: name 'mnames' is not defined"
     ]
    }
   ],
   "metadata": {}
  },
  {
   "cell_type": "code",
   "execution_count": 63,
   "source": [
    "# for the fmri analysis\n",
    "print('median RT, social:', merged2['respDur_rt_SEDU'].median())\n",
    "print('median RT, random:', merged2['respDur_rt_BILL'].median())"
   ],
   "outputs": [
    {
     "output_type": "stream",
     "name": "stdout",
     "text": [
      "median RT, social: 4.996650000000001\n",
      "median RT, random: 3.6813000000000002\n"
     ]
    }
   ],
   "metadata": {}
  },
  {
   "cell_type": "code",
   "execution_count": 20,
   "source": [
    "movie_inds = [0,1] # CHANGE MOVIE INDEX HERE\n",
    "mnames = [movie_names[i] for i in movie_inds]\n",
    "print(mnames)\n",
    "df1 = dat_all.loc[(dat_all['movie']== mnames[0]) & (dat_all['respDur_keys']== 'left'),:]#['participant','respDur_rt']]\n",
    "df2 = dat_all.loc[(dat_all['movie']== mnames[1]) & (dat_all['respDur_keys']== 'right'),:]#  ['participant','respDur_rt']]\n"
   ],
   "outputs": [
    {
     "output_type": "stream",
     "name": "stdout",
     "text": [
      "['COAXINGB0', 'BILLIARDA1']\n"
     ]
    }
   ],
   "metadata": {}
  },
  {
   "cell_type": "code",
   "execution_count": 79,
   "source": [
    "ind = df2.sub_ind.isin(df1.sub_ind) & df1.sub_ind.isin(df2.sub_ind)\n",
    "merged = pd.merge(df1, df2, how='inner', on=['sub_ind'],suffixes = ['_'+ mnames[0][:4],'_'+ mnames[1][:4]])\n",
    "\n",
    "merged['diff'] = merged['respDur_rt_COAX'] -  merged['respDur_rt_BILL']\n",
    "\n",
    "merged # list of subs who gave a \"social\" response for movie 1 and \"nonsocial\" response for movie 2\n"
   ],
   "outputs": [
    {
     "output_type": "stream",
     "name": "stdout",
     "text": [
      "['COAXINGB0', 'BILLIARDA1']\n"
     ]
    },
    {
     "output_type": "execute_result",
     "data": {
      "text/html": [
       "<div>\n",
       "<style scoped>\n",
       "    .dataframe tbody tr th:only-of-type {\n",
       "        vertical-align: middle;\n",
       "    }\n",
       "\n",
       "    .dataframe tbody tr th {\n",
       "        vertical-align: top;\n",
       "    }\n",
       "\n",
       "    .dataframe thead th {\n",
       "        text-align: right;\n",
       "    }\n",
       "</style>\n",
       "<table border=\"1\" class=\"dataframe\">\n",
       "  <thead>\n",
       "    <tr style=\"text-align: right;\">\n",
       "      <th></th>\n",
       "      <th>sub_ind</th>\n",
       "      <th>Unnamed: 0_COAX</th>\n",
       "      <th>respDur_keys_COAX</th>\n",
       "      <th>respDur_rt_COAX</th>\n",
       "      <th>respAfter_keys_COAX</th>\n",
       "      <th>respAfter_rt_COAX</th>\n",
       "      <th>movie_COAX</th>\n",
       "      <th>date_COAX</th>\n",
       "      <th>movie_ind_COAX</th>\n",
       "      <th>consistency_COAX</th>\n",
       "      <th>Unnamed: 0_BILL</th>\n",
       "      <th>respDur_keys_BILL</th>\n",
       "      <th>respDur_rt_BILL</th>\n",
       "      <th>respAfter_keys_BILL</th>\n",
       "      <th>respAfter_rt_BILL</th>\n",
       "      <th>movie_BILL</th>\n",
       "      <th>date_BILL</th>\n",
       "      <th>movie_ind_BILL</th>\n",
       "      <th>consistency_BILL</th>\n",
       "      <th>diff</th>\n",
       "    </tr>\n",
       "  </thead>\n",
       "  <tbody>\n",
       "    <tr>\n",
       "      <th>0</th>\n",
       "      <td>86.0</td>\n",
       "      <td>0</td>\n",
       "      <td>left</td>\n",
       "      <td>3.070585</td>\n",
       "      <td>left</td>\n",
       "      <td>0.86851</td>\n",
       "      <td>COAXINGB0</td>\n",
       "      <td>2021-07-25_08h39.36.916</td>\n",
       "      <td>0.0</td>\n",
       "      <td>1.0</td>\n",
       "      <td>1</td>\n",
       "      <td>right</td>\n",
       "      <td>1.90983</td>\n",
       "      <td>right</td>\n",
       "      <td>0.669700</td>\n",
       "      <td>BILLIARDA1</td>\n",
       "      <td>2021-07-25_08h39.36.916</td>\n",
       "      <td>1.0</td>\n",
       "      <td>1.0</td>\n",
       "      <td>1.160755</td>\n",
       "    </tr>\n",
       "    <tr>\n",
       "      <th>1</th>\n",
       "      <td>39.0</td>\n",
       "      <td>30</td>\n",
       "      <td>left</td>\n",
       "      <td>3.072100</td>\n",
       "      <td>left</td>\n",
       "      <td>0.31040</td>\n",
       "      <td>COAXINGB0</td>\n",
       "      <td>2021-07-25_14h37.25.903</td>\n",
       "      <td>0.0</td>\n",
       "      <td>1.0</td>\n",
       "      <td>31</td>\n",
       "      <td>right</td>\n",
       "      <td>1.48970</td>\n",
       "      <td>right</td>\n",
       "      <td>0.238900</td>\n",
       "      <td>BILLIARDA1</td>\n",
       "      <td>2021-07-25_14h37.25.903</td>\n",
       "      <td>1.0</td>\n",
       "      <td>1.0</td>\n",
       "      <td>1.582400</td>\n",
       "    </tr>\n",
       "    <tr>\n",
       "      <th>2</th>\n",
       "      <td>47.0</td>\n",
       "      <td>40</td>\n",
       "      <td>left</td>\n",
       "      <td>2.865100</td>\n",
       "      <td>left</td>\n",
       "      <td>0.62790</td>\n",
       "      <td>COAXINGB0</td>\n",
       "      <td>2021-07-25_14h54.05.867</td>\n",
       "      <td>0.0</td>\n",
       "      <td>1.0</td>\n",
       "      <td>41</td>\n",
       "      <td>right</td>\n",
       "      <td>2.78050</td>\n",
       "      <td>right</td>\n",
       "      <td>1.091000</td>\n",
       "      <td>BILLIARDA1</td>\n",
       "      <td>2021-07-25_14h54.05.867</td>\n",
       "      <td>1.0</td>\n",
       "      <td>1.0</td>\n",
       "      <td>0.084600</td>\n",
       "    </tr>\n",
       "    <tr>\n",
       "      <th>3</th>\n",
       "      <td>31.0</td>\n",
       "      <td>50</td>\n",
       "      <td>left</td>\n",
       "      <td>3.453340</td>\n",
       "      <td>left</td>\n",
       "      <td>1.26579</td>\n",
       "      <td>COAXINGB0</td>\n",
       "      <td>2021-07-25_08h52.20.361</td>\n",
       "      <td>0.0</td>\n",
       "      <td>1.0</td>\n",
       "      <td>51</td>\n",
       "      <td>right</td>\n",
       "      <td>2.67928</td>\n",
       "      <td>right</td>\n",
       "      <td>0.700595</td>\n",
       "      <td>BILLIARDA1</td>\n",
       "      <td>2021-07-25_08h52.20.361</td>\n",
       "      <td>1.0</td>\n",
       "      <td>1.0</td>\n",
       "      <td>0.774060</td>\n",
       "    </tr>\n",
       "    <tr>\n",
       "      <th>4</th>\n",
       "      <td>27.0</td>\n",
       "      <td>60</td>\n",
       "      <td>left</td>\n",
       "      <td>3.371800</td>\n",
       "      <td>left</td>\n",
       "      <td>1.36510</td>\n",
       "      <td>COAXINGB0</td>\n",
       "      <td>2021-07-25_09h36.55.282</td>\n",
       "      <td>0.0</td>\n",
       "      <td>1.0</td>\n",
       "      <td>61</td>\n",
       "      <td>right</td>\n",
       "      <td>2.98620</td>\n",
       "      <td>right</td>\n",
       "      <td>1.105000</td>\n",
       "      <td>BILLIARDA1</td>\n",
       "      <td>2021-07-25_09h36.55.282</td>\n",
       "      <td>1.0</td>\n",
       "      <td>1.0</td>\n",
       "      <td>0.385600</td>\n",
       "    </tr>\n",
       "    <tr>\n",
       "      <th>...</th>\n",
       "      <td>...</td>\n",
       "      <td>...</td>\n",
       "      <td>...</td>\n",
       "      <td>...</td>\n",
       "      <td>...</td>\n",
       "      <td>...</td>\n",
       "      <td>...</td>\n",
       "      <td>...</td>\n",
       "      <td>...</td>\n",
       "      <td>...</td>\n",
       "      <td>...</td>\n",
       "      <td>...</td>\n",
       "      <td>...</td>\n",
       "      <td>...</td>\n",
       "      <td>...</td>\n",
       "      <td>...</td>\n",
       "      <td>...</td>\n",
       "      <td>...</td>\n",
       "      <td>...</td>\n",
       "      <td>...</td>\n",
       "    </tr>\n",
       "    <tr>\n",
       "      <th>78</th>\n",
       "      <td>32.0</td>\n",
       "      <td>960</td>\n",
       "      <td>left</td>\n",
       "      <td>3.379000</td>\n",
       "      <td>left</td>\n",
       "      <td>0.60300</td>\n",
       "      <td>COAXINGB0</td>\n",
       "      <td>2021-07-25_06h52.13.337</td>\n",
       "      <td>0.0</td>\n",
       "      <td>1.0</td>\n",
       "      <td>961</td>\n",
       "      <td>right</td>\n",
       "      <td>3.69900</td>\n",
       "      <td>right</td>\n",
       "      <td>0.536000</td>\n",
       "      <td>BILLIARDA1</td>\n",
       "      <td>2021-07-25_06h52.13.337</td>\n",
       "      <td>1.0</td>\n",
       "      <td>1.0</td>\n",
       "      <td>-0.320000</td>\n",
       "    </tr>\n",
       "    <tr>\n",
       "      <th>79</th>\n",
       "      <td>14.0</td>\n",
       "      <td>970</td>\n",
       "      <td>left</td>\n",
       "      <td>5.250400</td>\n",
       "      <td>left</td>\n",
       "      <td>1.00100</td>\n",
       "      <td>COAXINGB0</td>\n",
       "      <td>2021-07-25_09h51.36.290</td>\n",
       "      <td>0.0</td>\n",
       "      <td>1.0</td>\n",
       "      <td>971</td>\n",
       "      <td>right</td>\n",
       "      <td>5.72450</td>\n",
       "      <td>right</td>\n",
       "      <td>1.035600</td>\n",
       "      <td>BILLIARDA1</td>\n",
       "      <td>2021-07-25_09h51.36.290</td>\n",
       "      <td>1.0</td>\n",
       "      <td>1.0</td>\n",
       "      <td>-0.474100</td>\n",
       "    </tr>\n",
       "    <tr>\n",
       "      <th>80</th>\n",
       "      <td>78.0</td>\n",
       "      <td>980</td>\n",
       "      <td>left</td>\n",
       "      <td>4.643200</td>\n",
       "      <td>left</td>\n",
       "      <td>0.38530</td>\n",
       "      <td>COAXINGB0</td>\n",
       "      <td>2021-07-25_14h55.23.086</td>\n",
       "      <td>0.0</td>\n",
       "      <td>1.0</td>\n",
       "      <td>981</td>\n",
       "      <td>right</td>\n",
       "      <td>4.06800</td>\n",
       "      <td>right</td>\n",
       "      <td>0.416900</td>\n",
       "      <td>BILLIARDA1</td>\n",
       "      <td>2021-07-25_14h55.23.086</td>\n",
       "      <td>1.0</td>\n",
       "      <td>1.0</td>\n",
       "      <td>0.575200</td>\n",
       "    </tr>\n",
       "    <tr>\n",
       "      <th>81</th>\n",
       "      <td>9.0</td>\n",
       "      <td>990</td>\n",
       "      <td>left</td>\n",
       "      <td>8.183700</td>\n",
       "      <td>left</td>\n",
       "      <td>2.36050</td>\n",
       "      <td>COAXINGB0</td>\n",
       "      <td>2021-07-25_14h57.00.228</td>\n",
       "      <td>0.0</td>\n",
       "      <td>1.0</td>\n",
       "      <td>991</td>\n",
       "      <td>right</td>\n",
       "      <td>7.15560</td>\n",
       "      <td>right</td>\n",
       "      <td>1.811000</td>\n",
       "      <td>BILLIARDA1</td>\n",
       "      <td>2021-07-25_14h57.00.228</td>\n",
       "      <td>1.0</td>\n",
       "      <td>1.0</td>\n",
       "      <td>1.028100</td>\n",
       "    </tr>\n",
       "    <tr>\n",
       "      <th>82</th>\n",
       "      <td>69.0</td>\n",
       "      <td>1000</td>\n",
       "      <td>left</td>\n",
       "      <td>2.372800</td>\n",
       "      <td>left</td>\n",
       "      <td>0.43820</td>\n",
       "      <td>COAXINGB0</td>\n",
       "      <td>2021-07-25_14h45.48.361</td>\n",
       "      <td>0.0</td>\n",
       "      <td>1.0</td>\n",
       "      <td>1001</td>\n",
       "      <td>right</td>\n",
       "      <td>1.39250</td>\n",
       "      <td>right</td>\n",
       "      <td>0.312900</td>\n",
       "      <td>BILLIARDA1</td>\n",
       "      <td>2021-07-25_14h45.48.361</td>\n",
       "      <td>1.0</td>\n",
       "      <td>1.0</td>\n",
       "      <td>0.980300</td>\n",
       "    </tr>\n",
       "  </tbody>\n",
       "</table>\n",
       "<p>83 rows × 20 columns</p>\n",
       "</div>"
      ],
      "text/plain": [
       "    sub_ind  Unnamed: 0_COAX respDur_keys_COAX  respDur_rt_COAX  \\\n",
       "0      86.0                0              left         3.070585   \n",
       "1      39.0               30              left         3.072100   \n",
       "2      47.0               40              left         2.865100   \n",
       "3      31.0               50              left         3.453340   \n",
       "4      27.0               60              left         3.371800   \n",
       "..      ...              ...               ...              ...   \n",
       "78     32.0              960              left         3.379000   \n",
       "79     14.0              970              left         5.250400   \n",
       "80     78.0              980              left         4.643200   \n",
       "81      9.0              990              left         8.183700   \n",
       "82     69.0             1000              left         2.372800   \n",
       "\n",
       "   respAfter_keys_COAX  respAfter_rt_COAX movie_COAX                date_COAX  \\\n",
       "0                 left            0.86851  COAXINGB0  2021-07-25_08h39.36.916   \n",
       "1                 left            0.31040  COAXINGB0  2021-07-25_14h37.25.903   \n",
       "2                 left            0.62790  COAXINGB0  2021-07-25_14h54.05.867   \n",
       "3                 left            1.26579  COAXINGB0  2021-07-25_08h52.20.361   \n",
       "4                 left            1.36510  COAXINGB0  2021-07-25_09h36.55.282   \n",
       "..                 ...                ...        ...                      ...   \n",
       "78                left            0.60300  COAXINGB0  2021-07-25_06h52.13.337   \n",
       "79                left            1.00100  COAXINGB0  2021-07-25_09h51.36.290   \n",
       "80                left            0.38530  COAXINGB0  2021-07-25_14h55.23.086   \n",
       "81                left            2.36050  COAXINGB0  2021-07-25_14h57.00.228   \n",
       "82                left            0.43820  COAXINGB0  2021-07-25_14h45.48.361   \n",
       "\n",
       "    movie_ind_COAX  consistency_COAX  Unnamed: 0_BILL respDur_keys_BILL  \\\n",
       "0              0.0               1.0                1             right   \n",
       "1              0.0               1.0               31             right   \n",
       "2              0.0               1.0               41             right   \n",
       "3              0.0               1.0               51             right   \n",
       "4              0.0               1.0               61             right   \n",
       "..             ...               ...              ...               ...   \n",
       "78             0.0               1.0              961             right   \n",
       "79             0.0               1.0              971             right   \n",
       "80             0.0               1.0              981             right   \n",
       "81             0.0               1.0              991             right   \n",
       "82             0.0               1.0             1001             right   \n",
       "\n",
       "    respDur_rt_BILL respAfter_keys_BILL  respAfter_rt_BILL  movie_BILL  \\\n",
       "0           1.90983               right           0.669700  BILLIARDA1   \n",
       "1           1.48970               right           0.238900  BILLIARDA1   \n",
       "2           2.78050               right           1.091000  BILLIARDA1   \n",
       "3           2.67928               right           0.700595  BILLIARDA1   \n",
       "4           2.98620               right           1.105000  BILLIARDA1   \n",
       "..              ...                 ...                ...         ...   \n",
       "78          3.69900               right           0.536000  BILLIARDA1   \n",
       "79          5.72450               right           1.035600  BILLIARDA1   \n",
       "80          4.06800               right           0.416900  BILLIARDA1   \n",
       "81          7.15560               right           1.811000  BILLIARDA1   \n",
       "82          1.39250               right           0.312900  BILLIARDA1   \n",
       "\n",
       "                  date_BILL  movie_ind_BILL  consistency_BILL      diff  \n",
       "0   2021-07-25_08h39.36.916             1.0               1.0  1.160755  \n",
       "1   2021-07-25_14h37.25.903             1.0               1.0  1.582400  \n",
       "2   2021-07-25_14h54.05.867             1.0               1.0  0.084600  \n",
       "3   2021-07-25_08h52.20.361             1.0               1.0  0.774060  \n",
       "4   2021-07-25_09h36.55.282             1.0               1.0  0.385600  \n",
       "..                      ...             ...               ...       ...  \n",
       "78  2021-07-25_06h52.13.337             1.0               1.0 -0.320000  \n",
       "79  2021-07-25_09h51.36.290             1.0               1.0 -0.474100  \n",
       "80  2021-07-25_14h55.23.086             1.0               1.0  0.575200  \n",
       "81  2021-07-25_14h57.00.228             1.0               1.0  1.028100  \n",
       "82  2021-07-25_14h45.48.361             1.0               1.0  0.980300  \n",
       "\n",
       "[83 rows x 20 columns]"
      ]
     },
     "metadata": {},
     "execution_count": 79
    }
   ],
   "metadata": {}
  },
  {
   "cell_type": "code",
   "execution_count": 81,
   "source": [],
   "outputs": [
    {
     "output_type": "stream",
     "name": "stdout",
     "text": [
      "NormaltestResult(statistic=25.988950807317465, pvalue=2.272851372105547e-06)\n"
     ]
    },
    {
     "output_type": "execute_result",
     "data": {
      "text/plain": [
       "WilcoxonResult(statistic=1619.0, pvalue=0.5734507851511437)"
      ]
     },
     "metadata": {},
     "execution_count": 81
    },
    {
     "output_type": "display_data",
     "data": {
      "image/png": "[encoded data removed]",
      "text/plain": [
       "<Figure size 216x144 with 1 Axes>"
      ]
     },
     "metadata": {
      "needs_background": "light"
     }
    }
   ],
   "metadata": {}
  },
  {
   "cell_type": "code",
   "execution_count": 62,
   "source": [
    "plt.hist(merged['respDur_rt_COAX'], label = 'COAX')\n",
    "plt.hist(merged['respDur_rt_BILL'], label = 'BILL')\n",
    "plt.legend()\n"
   ],
   "outputs": [
    {
     "output_type": "execute_result",
     "data": {
      "text/plain": [
       "<matplotlib.legend.Legend at 0x7fc5880e2700>"
      ]
     },
     "metadata": {},
     "execution_count": 62
    },
    {
     "output_type": "display_data",
     "data": {
      "image/png": "[encoded data removed]",
      "text/plain": [
       "<Figure size 432x288 with 1 Axes>"
      ]
     },
     "metadata": {
      "needs_background": "light"
     }
    }
   ],
   "metadata": {}
  },
  {
   "cell_type": "code",
   "execution_count": 70,
   "source": [
    "plt.figure(1,figsize =(3,2))\n",
    "plt.hist(merged['diff'],bins =10,color = 'grey',alpha = .4)\n",
    "plt.xlabel ('RTSED-RTBILL', fontsize =20)\n",
    "plt.ylabel('#subjects', fontsize =20)\n",
    "ymi,yma = plt.ylim()\n",
    "plt.vlines(np.mean(merged['diff']),ymi,yma,label = 'mean', ls = 'solid',color = 'g', linewidth = 4)\n",
    "plt.vlines(np.median(merged['diff']),ymi,yma,label = 'median', ls = 'dashed', color = 'r', linewidth =4)\n",
    "\n",
    "plt.xticks(fontsize=20)\n",
    "plt.yticks(fontsize=20)\n",
    "plt.legend()\n",
    "print(stats.normaltest(merged['diff']),'mean diff:',np.mean(merged['diff'])) # the difference is not normally distrbuted around zero.\n",
    "stats.ttest_1samp(merged['diff'],0)"
   ],
   "outputs": [
    {
     "output_type": "stream",
     "name": "stdout",
     "text": [
      "NormaltestResult(statistic=5.633326554651264, pvalue=0.05980516339675759) mean diff: 1.0054784066043954\n"
     ]
    },
    {
     "output_type": "execute_result",
     "data": {
      "text/plain": [
       "Ttest_1sampResult(statistic=4.047214495447447, pvalue=0.00010943915132574506)"
      ]
     },
     "metadata": {},
     "execution_count": 70
    },
    {
     "output_type": "display_data",
     "data": {
      "image/png": "[encoded data removed]",
      "text/plain": [
       "<Figure size 216x144 with 1 Axes>"
      ]
     },
     "metadata": {
      "needs_background": "light"
     }
    }
   ],
   "metadata": {}
  },
  {
   "cell_type": "code",
   "execution_count": null,
   "source": [
    "plt.hist(merged['respDur_rt_SEDU'], label = 'SEDU')\n",
    "plt.hist(merged['respDur_rt_BILL'], label = 'BILL')\n",
    "plt.legend()"
   ],
   "outputs": [],
   "metadata": {}
  },
  {
   "cell_type": "code",
   "execution_count": null,
   "source": [],
   "outputs": [],
   "metadata": {}
  },
  {
   "cell_type": "code",
   "execution_count": null,
   "source": [],
   "outputs": [],
   "metadata": {}
  },
  {
   "cell_type": "markdown",
   "source": [
    "## Extra code"
   ],
   "metadata": {}
  },
  {
   "cell_type": "code",
   "execution_count": 99,
   "source": [
    "plt.figure(1,figsize = (10,6))\n",
    "for i in range(10):\n",
    "    plt.subplot(2,5,i+1)\n",
    "    val = rtDur_all[i]\n",
    "    plt.errorbar(i+1,np.nanmean(val),stats.sem(val, nan_policy = 'omit'),marker = 'o')\n",
    "    plt.title(movie_names[i])\n",
    "    plt.xticks([])\n",
    "    plt.ylim(0,12)\n",
    "plt.tight_layout()\n",
    "#lbls = [str.upper(i[:4]) for i in movie_names]\n",
    "#plt.xticks(1+np.arange(10),lbls)"
   ],
   "outputs": [
    {
     "output_type": "display_data",
     "data": {
      "image/png": "[encoded data removed]",
      "text/plain": [
       "<Figure size 720x432 with 10 Axes>"
      ]
     },
     "metadata": {
      "needs_background": "light"
     }
    }
   ],
   "metadata": {}
  },
  {
   "cell_type": "code",
   "execution_count": 60,
   "source": [
    "# check if this is correct\n",
    "def mean_confidence_interval(data, confidence=0.95):\n",
    "    a = 1.0*np.array(data)\n",
    "    n = len(a)\n",
    "    m = np.mean(a)\n",
    "    se = stats.sem(a)\n",
    "    h = se * stats.t._ppf((1+confidence)/2., n-1)\n",
    "    return m,h "
   ],
   "outputs": [],
   "metadata": {}
  },
  {
   "cell_type": "code",
   "execution_count": 134,
   "source": [
    "from scipy.stats import t\n",
    "\n",
    "t_bounds = t.interval(0.999, len(val) - 1)\n",
    "t_bounds"
   ],
   "outputs": [
    {
     "output_type": "execute_result",
     "data": {
      "text/plain": [
       "(-3.417985096707854, 3.4179850967078886)"
      ]
     },
     "metadata": {},
     "execution_count": 134
    }
   ],
   "metadata": {}
  },
  {
   "cell_type": "code",
   "execution_count": 228,
   "source": [
    "def cum_plot(data1,data2,lbls = ['data1','data2']):\n",
    "    \n",
    "    \n",
    "    for i,data in enumerate([data1,data2]):\n",
    "        # getting data of the histogram\n",
    "        count, bins_count = np.histogram(data, bins=20)\n",
    "\n",
    "        # finding the PDF of the histogram using count values\n",
    "        pdf = count / sum(count)\n",
    "\n",
    "        # using numpy np.cumsum to calculate the CDF\n",
    "        # We can also find using the PDF values by looping and adding\n",
    "        cdf = np.cumsum(pdf)\n",
    "\n",
    "        # plotting PDF and CDF\n",
    "        plt.figure(1,figsize =(8,4))\n",
    "        plt.subplot(1,2,1)\n",
    "        plt.title('PDF',fontsize =20)\n",
    "        plt.plot(bins_count[1:], pdf,label=lbls[i],marker ='o')\n",
    "        plt.xlabel('RT(s)',fontsize=20)\n",
    "        plt.xticks(fontsize=20)\n",
    "        plt.yticks(fontsize=20)\n",
    "        #plt.legend()\n",
    "        \n",
    "        plt.subplot(1,2,2)\n",
    "        plt.title('CDF',fontsize =20)\n",
    "        plt.plot(bins_count[1:], cdf, label=lbls[i],marker ='o')\n",
    "        plt.legend(bbox_to_anchor=(1.02,1))\n",
    "        plt.xlabel('RT(s)',fontsize=20)\n",
    "        plt.xticks(fontsize=20)\n",
    "        plt.yticks(fontsize=20)\n",
    "    plt.tight_layout()\n",
    "\n",
    "cum_plot(merged[merged.columns[-3]],merged[merged.columns[-2]],[merged.columns[-3],merged.columns[-2]])\n",
    "\n",
    "from scipy.stats import ks_2samp\n",
    "ks_2samp(mat1,mat2)"
   ],
   "outputs": [
    {
     "output_type": "stream",
     "name": "stderr",
     "text": [
      "<ipython-input-228-8934cd2f9f84>:17: MatplotlibDeprecationWarning: Adding an axes using the same arguments as a previous axes currently reuses the earlier instance.  In a future version, a new instance will always be created and returned.  Meanwhile, this warning can be suppressed, and the future behavior ensured, by passing a unique label to each axes instance.\n",
      "  plt.subplot(1,2,1)\n",
      "<ipython-input-228-8934cd2f9f84>:25: MatplotlibDeprecationWarning: Adding an axes using the same arguments as a previous axes currently reuses the earlier instance.  In a future version, a new instance will always be created and returned.  Meanwhile, this warning can be suppressed, and the future behavior ensured, by passing a unique label to each axes instance.\n",
      "  plt.subplot(1,2,2)\n"
     ]
    },
    {
     "output_type": "execute_result",
     "data": {
      "text/plain": [
       "KstestResult(statistic=0.15053763440860216, pvalue=0.24350006240630304)"
      ]
     },
     "metadata": {},
     "execution_count": 228
    },
    {
     "output_type": "display_data",
     "data": {
      "image/png": "[encoded data removed]",
      "text/plain": [
       "<Figure size 576x288 with 2 Axes>"
      ]
     },
     "metadata": {
      "needs_background": "light"
     }
    }
   ],
   "metadata": {}
  },
  {
   "cell_type": "markdown",
   "source": [
    "- distributions not sig different, but these are from the same subs whereas K-S assumes independent samples"
   ],
   "metadata": {}
  },
  {
   "cell_type": "code",
   "execution_count": null,
   "source": [],
   "outputs": [],
   "metadata": {}
  }
 ],
 "metadata": {
  "kernelspec": {
   "name": "python3",
   "display_name": "Python 3.7.11 64-bit ('py37': conda)"
  },
  "language_info": {
   "codemirror_mode": {
    "name": "ipython",
    "version": 3
   },
   "file_extension": ".py",
   "mimetype": "text/x-python",
   "name": "python",
   "nbconvert_exporter": "python",
   "pygments_lexer": "ipython3",
   "version": "3.7.11"
  },
  "interpreter": {
   "hash": "30fd9c97283ec1278eec212a8f8afab06ad903f38228c32cacb469eba8e56f4f"
  }
 },
 "nbformat": 4,
 "nbformat_minor": 4
}