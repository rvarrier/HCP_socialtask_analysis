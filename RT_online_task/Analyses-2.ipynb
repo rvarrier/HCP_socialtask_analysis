{
 "cells": [
  {
   "cell_type": "markdown",
   "metadata": {},
   "source": [
    "# RT analyses\n",
    "\n",
    "- comparing during and after, and both with HCP RT's\n",
    "- compare RT distributions for majority responses in coaxing and billiards (also other movies with similar RT profiles)\n"
   ]
  },
  {
   "cell_type": "code",
   "execution_count": 186,
   "metadata": {},
   "outputs": [],
   "source": [
    "import pandas as pd\n",
    "import numpy as np\n",
    "import os\n",
    "import matplotlib.pyplot as plt\n",
    "import scipy.stats as stats"
   ]
  },
  {
   "cell_type": "code",
   "execution_count": 187,
   "metadata": {},
   "outputs": [
    {
     "data": {
      "text/html": [
       "<div>\n",
       "<style scoped>\n",
       "    .dataframe tbody tr th:only-of-type {\n",
       "        vertical-align: middle;\n",
       "    }\n",
       "\n",
       "    .dataframe tbody tr th {\n",
       "        vertical-align: top;\n",
       "    }\n",
       "\n",
       "    .dataframe thead th {\n",
       "        text-align: right;\n",
       "    }\n",
       "</style>\n",
       "<table border=\"1\" class=\"dataframe\">\n",
       "  <thead>\n",
       "    <tr style=\"text-align: right;\">\n",
       "      <th></th>\n",
       "      <th>Unnamed: 0</th>\n",
       "      <th>respDur_keys</th>\n",
       "      <th>respDur_rt</th>\n",
       "      <th>respAfter_keys</th>\n",
       "      <th>respAfter_rt</th>\n",
       "      <th>participant</th>\n",
       "      <th>movie</th>\n",
       "      <th>date</th>\n",
       "      <th>movie_ind</th>\n",
       "      <th>consistency</th>\n",
       "    </tr>\n",
       "  </thead>\n",
       "  <tbody>\n",
       "    <tr>\n",
       "      <th>0</th>\n",
       "      <td>0</td>\n",
       "      <td>left</td>\n",
       "      <td>3.070585</td>\n",
       "      <td>left</td>\n",
       "      <td>0.868510</td>\n",
       "      <td>60fd5d01137be0173165dcfe</td>\n",
       "      <td>COAXINGB0</td>\n",
       "      <td>2021-07-25_08h39.36.916</td>\n",
       "      <td>0.0</td>\n",
       "      <td>1.0</td>\n",
       "    </tr>\n",
       "    <tr>\n",
       "      <th>1</th>\n",
       "      <td>1</td>\n",
       "      <td>right</td>\n",
       "      <td>1.909830</td>\n",
       "      <td>right</td>\n",
       "      <td>0.669700</td>\n",
       "      <td>60fd5d01137be0173165dcfe</td>\n",
       "      <td>BILLIARDA1</td>\n",
       "      <td>2021-07-25_08h39.36.916</td>\n",
       "      <td>1.0</td>\n",
       "      <td>1.0</td>\n",
       "    </tr>\n",
       "    <tr>\n",
       "      <th>2</th>\n",
       "      <td>2</td>\n",
       "      <td>right</td>\n",
       "      <td>2.362310</td>\n",
       "      <td>right</td>\n",
       "      <td>0.497975</td>\n",
       "      <td>60fd5d01137be0173165dcfe</td>\n",
       "      <td>DRIFTINGA2</td>\n",
       "      <td>2021-07-25_08h39.36.916</td>\n",
       "      <td>2.0</td>\n",
       "      <td>1.0</td>\n",
       "    </tr>\n",
       "    <tr>\n",
       "      <th>3</th>\n",
       "      <td>3</td>\n",
       "      <td>left</td>\n",
       "      <td>4.312300</td>\n",
       "      <td>left</td>\n",
       "      <td>1.568915</td>\n",
       "      <td>60fd5d01137be0173165dcfe</td>\n",
       "      <td>FISHING3</td>\n",
       "      <td>2021-07-25_08h39.36.916</td>\n",
       "      <td>3.0</td>\n",
       "      <td>1.0</td>\n",
       "    </tr>\n",
       "    <tr>\n",
       "      <th>4</th>\n",
       "      <td>4</td>\n",
       "      <td>right</td>\n",
       "      <td>1.539055</td>\n",
       "      <td>right</td>\n",
       "      <td>0.667690</td>\n",
       "      <td>60fd5d01137be0173165dcfe</td>\n",
       "      <td>RANDOMMECH4</td>\n",
       "      <td>2021-07-25_08h39.36.916</td>\n",
       "      <td>4.0</td>\n",
       "      <td>1.0</td>\n",
       "    </tr>\n",
       "  </tbody>\n",
       "</table>\n",
       "</div>"
      ],
      "text/plain": [
       "   Unnamed: 0 respDur_keys  respDur_rt respAfter_keys  respAfter_rt  \\\n",
       "0           0         left    3.070585           left      0.868510   \n",
       "1           1        right    1.909830          right      0.669700   \n",
       "2           2        right    2.362310          right      0.497975   \n",
       "3           3         left    4.312300           left      1.568915   \n",
       "4           4        right    1.539055          right      0.667690   \n",
       "\n",
       "                participant        movie                     date  movie_ind  \\\n",
       "0  60fd5d01137be0173165dcfe    COAXINGB0  2021-07-25_08h39.36.916        0.0   \n",
       "1  60fd5d01137be0173165dcfe   BILLIARDA1  2021-07-25_08h39.36.916        1.0   \n",
       "2  60fd5d01137be0173165dcfe   DRIFTINGA2  2021-07-25_08h39.36.916        2.0   \n",
       "3  60fd5d01137be0173165dcfe     FISHING3  2021-07-25_08h39.36.916        3.0   \n",
       "4  60fd5d01137be0173165dcfe  RANDOMMECH4  2021-07-25_08h39.36.916        4.0   \n",
       "\n",
       "   consistency  \n",
       "0          1.0  \n",
       "1          1.0  \n",
       "2          1.0  \n",
       "3          1.0  \n",
       "4          1.0  "
      ]
     },
     "execution_count": 187,
     "metadata": {},
     "output_type": "execute_result"
    }
   ],
   "source": [
    "final_data_folder = r'/Users/f0053cz/Dropbox (Dartmouth College)/postdoc_Dartmouth/HCP/RT_online_task'\n",
    "dat_all = pd.read_csv(os.path.join(final_data_folder,'RT_data_all_subs.csv'))\n",
    "dat_all.head()"
   ]
  },
  {
   "cell_type": "markdown",
   "metadata": {},
   "source": [
    "### Analysis 1: is \"during\" RT predictive of \"after RT\"?"
   ]
  },
  {
   "cell_type": "code",
   "execution_count": 188,
   "metadata": {},
   "outputs": [
    {
     "data": {
      "text/html": [
       "<div>\n",
       "<style scoped>\n",
       "    .dataframe tbody tr th:only-of-type {\n",
       "        vertical-align: middle;\n",
       "    }\n",
       "\n",
       "    .dataframe tbody tr th {\n",
       "        vertical-align: top;\n",
       "    }\n",
       "\n",
       "    .dataframe thead th {\n",
       "        text-align: right;\n",
       "    }\n",
       "</style>\n",
       "<table border=\"1\" class=\"dataframe\">\n",
       "  <thead>\n",
       "    <tr style=\"text-align: right;\">\n",
       "      <th></th>\n",
       "      <th>Unnamed: 0</th>\n",
       "      <th>respDur_keys</th>\n",
       "      <th>respDur_rt</th>\n",
       "      <th>respAfter_keys</th>\n",
       "      <th>respAfter_rt</th>\n",
       "      <th>participant</th>\n",
       "      <th>movie</th>\n",
       "      <th>date</th>\n",
       "      <th>movie_ind</th>\n",
       "      <th>consistency</th>\n",
       "      <th>logRTdur</th>\n",
       "      <th>logRTaft</th>\n",
       "      <th>zRTdur</th>\n",
       "      <th>zRTaft</th>\n",
       "    </tr>\n",
       "  </thead>\n",
       "  <tbody>\n",
       "    <tr>\n",
       "      <th>0</th>\n",
       "      <td>0</td>\n",
       "      <td>left</td>\n",
       "      <td>3.070585</td>\n",
       "      <td>left</td>\n",
       "      <td>0.868510</td>\n",
       "      <td>60fd5d01137be0173165dcfe</td>\n",
       "      <td>COAXINGB0</td>\n",
       "      <td>2021-07-25_08h39.36.916</td>\n",
       "      <td>0.0</td>\n",
       "      <td>1.0</td>\n",
       "      <td>1.121868</td>\n",
       "      <td>-0.140976</td>\n",
       "      <td>-0.814168</td>\n",
       "      <td>-0.018935</td>\n",
       "    </tr>\n",
       "    <tr>\n",
       "      <th>1</th>\n",
       "      <td>1</td>\n",
       "      <td>right</td>\n",
       "      <td>1.909830</td>\n",
       "      <td>right</td>\n",
       "      <td>0.669700</td>\n",
       "      <td>60fd5d01137be0173165dcfe</td>\n",
       "      <td>BILLIARDA1</td>\n",
       "      <td>2021-07-25_08h39.36.916</td>\n",
       "      <td>1.0</td>\n",
       "      <td>1.0</td>\n",
       "      <td>0.647014</td>\n",
       "      <td>-0.400925</td>\n",
       "      <td>-1.118946</td>\n",
       "      <td>-0.444729</td>\n",
       "    </tr>\n",
       "    <tr>\n",
       "      <th>2</th>\n",
       "      <td>2</td>\n",
       "      <td>right</td>\n",
       "      <td>2.362310</td>\n",
       "      <td>right</td>\n",
       "      <td>0.497975</td>\n",
       "      <td>60fd5d01137be0173165dcfe</td>\n",
       "      <td>DRIFTINGA2</td>\n",
       "      <td>2021-07-25_08h39.36.916</td>\n",
       "      <td>2.0</td>\n",
       "      <td>1.0</td>\n",
       "      <td>0.859640</td>\n",
       "      <td>-0.697205</td>\n",
       "      <td>-1.000139</td>\n",
       "      <td>-0.812515</td>\n",
       "    </tr>\n",
       "    <tr>\n",
       "      <th>3</th>\n",
       "      <td>3</td>\n",
       "      <td>left</td>\n",
       "      <td>4.312300</td>\n",
       "      <td>left</td>\n",
       "      <td>1.568915</td>\n",
       "      <td>60fd5d01137be0173165dcfe</td>\n",
       "      <td>FISHING3</td>\n",
       "      <td>2021-07-25_08h39.36.916</td>\n",
       "      <td>3.0</td>\n",
       "      <td>1.0</td>\n",
       "      <td>1.461471</td>\n",
       "      <td>0.450384</td>\n",
       "      <td>-0.488131</td>\n",
       "      <td>1.481131</td>\n",
       "    </tr>\n",
       "    <tr>\n",
       "      <th>4</th>\n",
       "      <td>4</td>\n",
       "      <td>right</td>\n",
       "      <td>1.539055</td>\n",
       "      <td>right</td>\n",
       "      <td>0.667690</td>\n",
       "      <td>60fd5d01137be0173165dcfe</td>\n",
       "      <td>RANDOMMECH4</td>\n",
       "      <td>2021-07-25_08h39.36.916</td>\n",
       "      <td>4.0</td>\n",
       "      <td>1.0</td>\n",
       "      <td>0.431169</td>\n",
       "      <td>-0.403931</td>\n",
       "      <td>-1.216301</td>\n",
       "      <td>-0.449034</td>\n",
       "    </tr>\n",
       "    <tr>\n",
       "      <th>...</th>\n",
       "      <td>...</td>\n",
       "      <td>...</td>\n",
       "      <td>...</td>\n",
       "      <td>...</td>\n",
       "      <td>...</td>\n",
       "      <td>...</td>\n",
       "      <td>...</td>\n",
       "      <td>...</td>\n",
       "      <td>...</td>\n",
       "      <td>...</td>\n",
       "      <td>...</td>\n",
       "      <td>...</td>\n",
       "      <td>...</td>\n",
       "      <td>...</td>\n",
       "    </tr>\n",
       "    <tr>\n",
       "      <th>882</th>\n",
       "      <td>1014</td>\n",
       "      <td>right</td>\n",
       "      <td>11.273700</td>\n",
       "      <td>right</td>\n",
       "      <td>0.642000</td>\n",
       "      <td>60fd20e2fcd0da955a2b7b3c</td>\n",
       "      <td>RANDOMMECH4</td>\n",
       "      <td>2021-07-25_16h57.42.386</td>\n",
       "      <td>4.0</td>\n",
       "      <td>1.0</td>\n",
       "      <td>2.422473</td>\n",
       "      <td>-0.443167</td>\n",
       "      <td>1.339719</td>\n",
       "      <td>-0.504055</td>\n",
       "    </tr>\n",
       "    <tr>\n",
       "      <th>883</th>\n",
       "      <td>1015</td>\n",
       "      <td>left</td>\n",
       "      <td>7.740700</td>\n",
       "      <td>left</td>\n",
       "      <td>0.696100</td>\n",
       "      <td>60fd20e2fcd0da955a2b7b3c</td>\n",
       "      <td>SCARING5</td>\n",
       "      <td>2021-07-25_16h57.42.386</td>\n",
       "      <td>5.0</td>\n",
       "      <td>1.0</td>\n",
       "      <td>2.046492</td>\n",
       "      <td>-0.362262</td>\n",
       "      <td>0.412062</td>\n",
       "      <td>-0.388188</td>\n",
       "    </tr>\n",
       "    <tr>\n",
       "      <th>884</th>\n",
       "      <td>1016</td>\n",
       "      <td>left</td>\n",
       "      <td>4.984500</td>\n",
       "      <td>left</td>\n",
       "      <td>0.574300</td>\n",
       "      <td>60fd20e2fcd0da955a2b7b3c</td>\n",
       "      <td>SEDUCINGB6</td>\n",
       "      <td>2021-07-25_16h57.42.386</td>\n",
       "      <td>6.0</td>\n",
       "      <td>1.0</td>\n",
       "      <td>1.606333</td>\n",
       "      <td>-0.554603</td>\n",
       "      <td>-0.311632</td>\n",
       "      <td>-0.649048</td>\n",
       "    </tr>\n",
       "    <tr>\n",
       "      <th>885</th>\n",
       "      <td>1018</td>\n",
       "      <td>left</td>\n",
       "      <td>0.688400</td>\n",
       "      <td>left</td>\n",
       "      <td>1.417700</td>\n",
       "      <td>60fd20e2fcd0da955a2b7b3c</td>\n",
       "      <td>SURPRISINGB8</td>\n",
       "      <td>2021-07-25_16h57.42.386</td>\n",
       "      <td>8.0</td>\n",
       "      <td>1.0</td>\n",
       "      <td>-0.373385</td>\n",
       "      <td>0.349036</td>\n",
       "      <td>-1.439657</td>\n",
       "      <td>1.157272</td>\n",
       "    </tr>\n",
       "    <tr>\n",
       "      <th>886</th>\n",
       "      <td>1019</td>\n",
       "      <td>left</td>\n",
       "      <td>4.391200</td>\n",
       "      <td>left</td>\n",
       "      <td>1.068900</td>\n",
       "      <td>60fd20e2fcd0da955a2b7b3c</td>\n",
       "      <td>TENNISA9</td>\n",
       "      <td>2021-07-25_16h57.42.386</td>\n",
       "      <td>9.0</td>\n",
       "      <td>1.0</td>\n",
       "      <td>1.479603</td>\n",
       "      <td>0.066630</td>\n",
       "      <td>-0.467415</td>\n",
       "      <td>0.410242</td>\n",
       "    </tr>\n",
       "  </tbody>\n",
       "</table>\n",
       "<p>887 rows × 14 columns</p>\n",
       "</div>"
      ],
      "text/plain": [
       "     Unnamed: 0 respDur_keys  respDur_rt respAfter_keys  respAfter_rt  \\\n",
       "0             0         left    3.070585           left      0.868510   \n",
       "1             1        right    1.909830          right      0.669700   \n",
       "2             2        right    2.362310          right      0.497975   \n",
       "3             3         left    4.312300           left      1.568915   \n",
       "4             4        right    1.539055          right      0.667690   \n",
       "..          ...          ...         ...            ...           ...   \n",
       "882        1014        right   11.273700          right      0.642000   \n",
       "883        1015         left    7.740700           left      0.696100   \n",
       "884        1016         left    4.984500           left      0.574300   \n",
       "885        1018         left    0.688400           left      1.417700   \n",
       "886        1019         left    4.391200           left      1.068900   \n",
       "\n",
       "                  participant         movie                     date  \\\n",
       "0    60fd5d01137be0173165dcfe     COAXINGB0  2021-07-25_08h39.36.916   \n",
       "1    60fd5d01137be0173165dcfe    BILLIARDA1  2021-07-25_08h39.36.916   \n",
       "2    60fd5d01137be0173165dcfe    DRIFTINGA2  2021-07-25_08h39.36.916   \n",
       "3    60fd5d01137be0173165dcfe      FISHING3  2021-07-25_08h39.36.916   \n",
       "4    60fd5d01137be0173165dcfe   RANDOMMECH4  2021-07-25_08h39.36.916   \n",
       "..                        ...           ...                      ...   \n",
       "882  60fd20e2fcd0da955a2b7b3c   RANDOMMECH4  2021-07-25_16h57.42.386   \n",
       "883  60fd20e2fcd0da955a2b7b3c      SCARING5  2021-07-25_16h57.42.386   \n",
       "884  60fd20e2fcd0da955a2b7b3c    SEDUCINGB6  2021-07-25_16h57.42.386   \n",
       "885  60fd20e2fcd0da955a2b7b3c  SURPRISINGB8  2021-07-25_16h57.42.386   \n",
       "886  60fd20e2fcd0da955a2b7b3c      TENNISA9  2021-07-25_16h57.42.386   \n",
       "\n",
       "     movie_ind  consistency  logRTdur  logRTaft    zRTdur    zRTaft  \n",
       "0          0.0          1.0  1.121868 -0.140976 -0.814168 -0.018935  \n",
       "1          1.0          1.0  0.647014 -0.400925 -1.118946 -0.444729  \n",
       "2          2.0          1.0  0.859640 -0.697205 -1.000139 -0.812515  \n",
       "3          3.0          1.0  1.461471  0.450384 -0.488131  1.481131  \n",
       "4          4.0          1.0  0.431169 -0.403931 -1.216301 -0.449034  \n",
       "..         ...          ...       ...       ...       ...       ...  \n",
       "882        4.0          1.0  2.422473 -0.443167  1.339719 -0.504055  \n",
       "883        5.0          1.0  2.046492 -0.362262  0.412062 -0.388188  \n",
       "884        6.0          1.0  1.606333 -0.554603 -0.311632 -0.649048  \n",
       "885        8.0          1.0 -0.373385  0.349036 -1.439657  1.157272  \n",
       "886        9.0          1.0  1.479603  0.066630 -0.467415  0.410242  \n",
       "\n",
       "[887 rows x 14 columns]"
      ]
     },
     "execution_count": 188,
     "metadata": {},
     "output_type": "execute_result"
    }
   ],
   "source": [
    "dat_all['logRTdur'] = np.log(dat_all['respDur_rt'])\n",
    "dat_all['logRTaft'] = np.log(dat_all['respAfter_rt'])\n",
    "dat_all['zRTdur'] = stats.zscore(dat_all['respDur_rt'])\n",
    "dat_all['zRTaft'] = stats.zscore(dat_all['respAfter_rt'])\n",
    "dat_all"
   ]
  },
  {
   "cell_type": "code",
   "execution_count": 189,
   "metadata": {},
   "outputs": [
    {
     "data": {
      "text/plain": [
       "(0.15005411939268337, 7.185247330567464e-06)"
      ]
     },
     "execution_count": 189,
     "metadata": {},
     "output_type": "execute_result"
    },
    {
     "data": {
      "image/png": "[encoded data removed]",
      "text/plain": [
       "<Figure size 432x288 with 1 Axes>"
      ]
     },
     "metadata": {
      "needs_background": "light"
     },
     "output_type": "display_data"
    }
   ],
   "source": [
    "dat_all.plot(x='respDur_rt', y='respAfter_rt', style='o', alpha = .15)\n",
    "#dat_all['respDur_rt'].corr(dat_all['respAfter_rt'])\n",
    "stats.pearsonr(dat_all['respDur_rt'],dat_all['respAfter_rt'])"
   ]
  },
  {
   "cell_type": "code",
   "execution_count": 190,
   "metadata": {},
   "outputs": [
    {
     "data": {
      "text/plain": [
       "(0.15005411939268337, 7.185247330567464e-06)"
      ]
     },
     "execution_count": 190,
     "metadata": {},
     "output_type": "execute_result"
    },
    {
     "data": {
      "image/png": "[encoded data removed]",
      "text/plain": [
       "<Figure size 432x288 with 1 Axes>"
      ]
     },
     "metadata": {
      "needs_background": "light"
     },
     "output_type": "display_data"
    }
   ],
   "source": [
    "dat_all.plot(x='zRTdur', y='zRTaft', style='o', alpha = .15)\n",
    "#dat_all['respDur_rt'].corr(dat_all['respAfter_rt'])\n",
    "stats.pearsonr(dat_all['zRTdur'],dat_all['zRTaft'])"
   ]
  },
  {
   "cell_type": "code",
   "execution_count": 191,
   "metadata": {},
   "outputs": [
    {
     "data": {
      "text/plain": [
       "SpearmanrResult(correlation=0.19780509361240778, pvalue=2.821947082021859e-09)"
      ]
     },
     "execution_count": 191,
     "metadata": {},
     "output_type": "execute_result"
    }
   ],
   "source": [
    "stats.spearmanr(dat_all['respDur_rt'],dat_all['respAfter_rt'])"
   ]
  },
  {
   "cell_type": "code",
   "execution_count": 192,
   "metadata": {},
   "outputs": [
    {
     "data": {
      "text/plain": [
       "SpearmanrResult(correlation=0.19780509361240778, pvalue=2.821947082021859e-09)"
      ]
     },
     "execution_count": 192,
     "metadata": {},
     "output_type": "execute_result"
    }
   ],
   "source": [
    "stats.spearmanr(dat_all['zRTdur'],dat_all['zRTaft'])"
   ]
  },
  {
   "cell_type": "code",
   "execution_count": 193,
   "metadata": {},
   "outputs": [
    {
     "data": {
      "text/plain": [
       "(0.19882252677273982, 2.3318904219679807e-09)"
      ]
     },
     "execution_count": 193,
     "metadata": {},
     "output_type": "execute_result"
    },
    {
     "data": {
      "image/png": "[encoded data removed]",
      "text/plain": [
       "<Figure size 432x288 with 1 Axes>"
      ]
     },
     "metadata": {
      "needs_background": "light"
     },
     "output_type": "display_data"
    }
   ],
   "source": [
    "# log transformed RTs\n",
    "\n",
    "dat_all.plot(x='logRTdur', y='logRTaft', style='o', alpha = .15)\n",
    "#dat_all['logRTdur'].corr(dat_all['logRTaft'])\n",
    "stats.pearsonr(dat_all['logRTdur'],dat_all['logRTaft'])"
   ]
  },
  {
   "cell_type": "code",
   "execution_count": 194,
   "metadata": {},
   "outputs": [
    {
     "data": {
      "text/html": [
       "<div>\n",
       "<style scoped>\n",
       "    .dataframe tbody tr th:only-of-type {\n",
       "        vertical-align: middle;\n",
       "    }\n",
       "\n",
       "    .dataframe tbody tr th {\n",
       "        vertical-align: top;\n",
       "    }\n",
       "\n",
       "    .dataframe thead th {\n",
       "        text-align: right;\n",
       "    }\n",
       "</style>\n",
       "<table border=\"1\" class=\"dataframe\">\n",
       "  <thead>\n",
       "    <tr style=\"text-align: right;\">\n",
       "      <th></th>\n",
       "      <th>subj_idx</th>\n",
       "      <th>stim</th>\n",
       "      <th>movie</th>\n",
       "      <th>rt</th>\n",
       "      <th>response</th>\n",
       "    </tr>\n",
       "  </thead>\n",
       "  <tbody>\n",
       "    <tr>\n",
       "      <th>0</th>\n",
       "      <td>168745</td>\n",
       "      <td>Mental</td>\n",
       "      <td>Scaring.AVI</td>\n",
       "      <td>1.252</td>\n",
       "      <td>1</td>\n",
       "    </tr>\n",
       "    <tr>\n",
       "      <th>1</th>\n",
       "      <td>168745</td>\n",
       "      <td>Mental</td>\n",
       "      <td>SEDUCING-B.AVI</td>\n",
       "      <td>0.578</td>\n",
       "      <td>1</td>\n",
       "    </tr>\n",
       "    <tr>\n",
       "      <th>2</th>\n",
       "      <td>168745</td>\n",
       "      <td>Random</td>\n",
       "      <td>STAR-A.AVI</td>\n",
       "      <td>1.643</td>\n",
       "      <td>0</td>\n",
       "    </tr>\n",
       "    <tr>\n",
       "      <th>3</th>\n",
       "      <td>168745</td>\n",
       "      <td>Mental</td>\n",
       "      <td>SURPRISING-B.AVI</td>\n",
       "      <td>1.082</td>\n",
       "      <td>1</td>\n",
       "    </tr>\n",
       "    <tr>\n",
       "      <th>4</th>\n",
       "      <td>168745</td>\n",
       "      <td>Random</td>\n",
       "      <td>TENNIS-A.AVI</td>\n",
       "      <td>1.232</td>\n",
       "      <td>0</td>\n",
       "    </tr>\n",
       "  </tbody>\n",
       "</table>\n",
       "</div>"
      ],
      "text/plain": [
       "   subj_idx    stim             movie     rt  response\n",
       "0    168745  Mental       Scaring.AVI  1.252         1\n",
       "1    168745  Mental    SEDUCING-B.AVI  0.578         1\n",
       "2    168745  Random        STAR-A.AVI  1.643         0\n",
       "3    168745  Mental  SURPRISING-B.AVI  1.082         1\n",
       "4    168745  Random      TENNIS-A.AVI  1.232         0"
      ]
     },
     "execution_count": 194,
     "metadata": {},
     "output_type": "execute_result"
    }
   ],
   "source": [
    "HCP_data_file = r'/Users/f0053cz/Dropbox (Dartmouth College)/postdoc_Dartmouth/HCP/BehaviorAnalyses/hcp_social_behav_for_ddm_stim-coding.csv'\n",
    "hcp_behdata = pd.read_csv(HCP_data_file)\n",
    "hcp_behdata = hcp_behdata.loc[hcp_behdata['rt']>.1,:]\n",
    "hcp_behdata.head()"
   ]
  },
  {
   "cell_type": "code",
   "execution_count": 195,
   "metadata": {},
   "outputs": [
    {
     "name": "stdout",
     "output_type": "stream",
     "text": [
      "10149\n"
     ]
    },
    {
     "data": {
      "text/html": [
       "<div>\n",
       "<style scoped>\n",
       "    .dataframe tbody tr th:only-of-type {\n",
       "        vertical-align: middle;\n",
       "    }\n",
       "\n",
       "    .dataframe tbody tr th {\n",
       "        vertical-align: top;\n",
       "    }\n",
       "\n",
       "    .dataframe thead th {\n",
       "        text-align: right;\n",
       "    }\n",
       "</style>\n",
       "<table border=\"1\" class=\"dataframe\">\n",
       "  <thead>\n",
       "    <tr style=\"text-align: right;\">\n",
       "      <th></th>\n",
       "      <th>subj_idx</th>\n",
       "      <th>stim</th>\n",
       "      <th>movie</th>\n",
       "      <th>rt</th>\n",
       "      <th>response</th>\n",
       "      <th>movie_ind</th>\n",
       "      <th>logRT</th>\n",
       "      <th>zRT</th>\n",
       "    </tr>\n",
       "  </thead>\n",
       "  <tbody>\n",
       "    <tr>\n",
       "      <th>0</th>\n",
       "      <td>168745</td>\n",
       "      <td>Mental</td>\n",
       "      <td>Scaring.AVI</td>\n",
       "      <td>1.252</td>\n",
       "      <td>1</td>\n",
       "      <td>5.0</td>\n",
       "      <td>0.224742</td>\n",
       "      <td>0.415506</td>\n",
       "    </tr>\n",
       "    <tr>\n",
       "      <th>1</th>\n",
       "      <td>168745</td>\n",
       "      <td>Mental</td>\n",
       "      <td>SEDUCING-B.AVI</td>\n",
       "      <td>0.578</td>\n",
       "      <td>1</td>\n",
       "      <td>6.0</td>\n",
       "      <td>-0.548181</td>\n",
       "      <td>-0.940478</td>\n",
       "    </tr>\n",
       "    <tr>\n",
       "      <th>2</th>\n",
       "      <td>168745</td>\n",
       "      <td>Random</td>\n",
       "      <td>STAR-A.AVI</td>\n",
       "      <td>1.643</td>\n",
       "      <td>0</td>\n",
       "      <td>7.0</td>\n",
       "      <td>0.496524</td>\n",
       "      <td>1.202138</td>\n",
       "    </tr>\n",
       "    <tr>\n",
       "      <th>3</th>\n",
       "      <td>168745</td>\n",
       "      <td>Mental</td>\n",
       "      <td>SURPRISING-B.AVI</td>\n",
       "      <td>1.082</td>\n",
       "      <td>1</td>\n",
       "      <td>8.0</td>\n",
       "      <td>0.078811</td>\n",
       "      <td>0.073492</td>\n",
       "    </tr>\n",
       "    <tr>\n",
       "      <th>4</th>\n",
       "      <td>168745</td>\n",
       "      <td>Random</td>\n",
       "      <td>TENNIS-A.AVI</td>\n",
       "      <td>1.232</td>\n",
       "      <td>0</td>\n",
       "      <td>9.0</td>\n",
       "      <td>0.208639</td>\n",
       "      <td>0.375269</td>\n",
       "    </tr>\n",
       "    <tr>\n",
       "      <th>...</th>\n",
       "      <td>...</td>\n",
       "      <td>...</td>\n",
       "      <td>...</td>\n",
       "      <td>...</td>\n",
       "      <td>...</td>\n",
       "      <td>...</td>\n",
       "      <td>...</td>\n",
       "      <td>...</td>\n",
       "    </tr>\n",
       "    <tr>\n",
       "      <th>10144</th>\n",
       "      <td>175136</td>\n",
       "      <td>Mental</td>\n",
       "      <td>COAXING-B.AVI</td>\n",
       "      <td>1.542</td>\n",
       "      <td>1</td>\n",
       "      <td>0.0</td>\n",
       "      <td>0.433080</td>\n",
       "      <td>0.998941</td>\n",
       "    </tr>\n",
       "    <tr>\n",
       "      <th>10145</th>\n",
       "      <td>175136</td>\n",
       "      <td>Random</td>\n",
       "      <td>BILLIARD-A.AVI</td>\n",
       "      <td>0.893</td>\n",
       "      <td>0</td>\n",
       "      <td>1.0</td>\n",
       "      <td>-0.113169</td>\n",
       "      <td>-0.306746</td>\n",
       "    </tr>\n",
       "    <tr>\n",
       "      <th>10146</th>\n",
       "      <td>175136</td>\n",
       "      <td>Random</td>\n",
       "      <td>DRIFTING-A.AVI</td>\n",
       "      <td>0.895</td>\n",
       "      <td>0</td>\n",
       "      <td>2.0</td>\n",
       "      <td>-0.110932</td>\n",
       "      <td>-0.302723</td>\n",
       "    </tr>\n",
       "    <tr>\n",
       "      <th>10147</th>\n",
       "      <td>175136</td>\n",
       "      <td>Mental</td>\n",
       "      <td>Fishing.AVI</td>\n",
       "      <td>0.985</td>\n",
       "      <td>1</td>\n",
       "      <td>3.0</td>\n",
       "      <td>-0.015114</td>\n",
       "      <td>-0.121657</td>\n",
       "    </tr>\n",
       "    <tr>\n",
       "      <th>10148</th>\n",
       "      <td>175136</td>\n",
       "      <td>Random</td>\n",
       "      <td>Random mechanical.AVI</td>\n",
       "      <td>1.304</td>\n",
       "      <td>0</td>\n",
       "      <td>4.0</td>\n",
       "      <td>0.265436</td>\n",
       "      <td>0.520122</td>\n",
       "    </tr>\n",
       "  </tbody>\n",
       "</table>\n",
       "<p>9950 rows × 8 columns</p>\n",
       "</div>"
      ],
      "text/plain": [
       "       subj_idx    stim                  movie     rt  response  movie_ind  \\\n",
       "0        168745  Mental            Scaring.AVI  1.252         1        5.0   \n",
       "1        168745  Mental         SEDUCING-B.AVI  0.578         1        6.0   \n",
       "2        168745  Random             STAR-A.AVI  1.643         0        7.0   \n",
       "3        168745  Mental       SURPRISING-B.AVI  1.082         1        8.0   \n",
       "4        168745  Random           TENNIS-A.AVI  1.232         0        9.0   \n",
       "...         ...     ...                    ...    ...       ...        ...   \n",
       "10144    175136  Mental          COAXING-B.AVI  1.542         1        0.0   \n",
       "10145    175136  Random         BILLIARD-A.AVI  0.893         0        1.0   \n",
       "10146    175136  Random         DRIFTING-A.AVI  0.895         0        2.0   \n",
       "10147    175136  Mental            Fishing.AVI  0.985         1        3.0   \n",
       "10148    175136  Random  Random mechanical.AVI  1.304         0        4.0   \n",
       "\n",
       "          logRT       zRT  \n",
       "0      0.224742  0.415506  \n",
       "1     -0.548181 -0.940478  \n",
       "2      0.496524  1.202138  \n",
       "3      0.078811  0.073492  \n",
       "4      0.208639  0.375269  \n",
       "...         ...       ...  \n",
       "10144  0.433080  0.998941  \n",
       "10145 -0.113169 -0.306746  \n",
       "10146 -0.110932 -0.302723  \n",
       "10147 -0.015114 -0.121657  \n",
       "10148  0.265436  0.520122  \n",
       "\n",
       "[9950 rows x 8 columns]"
      ]
     },
     "execution_count": 195,
     "metadata": {},
     "output_type": "execute_result"
    }
   ],
   "source": [
    "movie_names = ['COAXINGB0','BILLIARDA1','DRIFTINGA2','FISHING3','RANDOMMECH4',\n",
    "              'SCARING5', 'SEDUCINGB6', 'STARA7', 'SURPRISINGB8', 'TENNISA9']\n",
    "\n",
    "movies_hcp_list = hcp_behdata['movie'].values\n",
    "movie_ind_list = np.empty((movies_hcp_list.shape[0],))\n",
    "for i,m in enumerate(movies_hcp_list):\n",
    "    for j in range(10):\n",
    "        if movie_names[j][:4] in str.upper(m):\n",
    "            movie_ind_list[i] = j\n",
    "            break\n",
    "\n",
    "hcp_behdata['movie_ind'] =  movie_ind_list\n",
    "hcp_behdata['logRT'] = np.log(hcp_behdata['rt'])\n",
    "hcp_behdata['zRT'] = stats.zscore(hcp_behdata['rt'])\n",
    "print(count)\n",
    "hcp_behdata"
   ]
  },
  {
   "cell_type": "code",
   "execution_count": 196,
   "metadata": {},
   "outputs": [
    {
     "data": {
      "text/plain": [
       "movie_ind\n",
       "0.0    1.352411\n",
       "1.0    1.295999\n",
       "2.0    1.689224\n",
       "3.0    1.950964\n",
       "4.0    1.778285\n",
       "5.0    2.236313\n",
       "6.0    1.541536\n",
       "7.0    1.555364\n",
       "8.0    1.616493\n",
       "9.0    1.482265\n",
       "Name: logRTdur, dtype: float64"
      ]
     },
     "execution_count": 196,
     "metadata": {},
     "output_type": "execute_result"
    }
   ],
   "source": [
    "dat_all.groupby(['movie_ind']).mean().logRTdur"
   ]
  },
  {
   "cell_type": "code",
   "execution_count": 126,
   "metadata": {},
   "outputs": [
    {
     "data": {
      "text/plain": [
       "movie_ind\n",
       "0.0    0.176325\n",
       "1.0    0.141436\n",
       "2.0   -0.048315\n",
       "3.0    0.106058\n",
       "4.0    0.070830\n",
       "5.0   -0.120297\n",
       "6.0   -0.281009\n",
       "7.0   -0.329794\n",
       "8.0   -0.176279\n",
       "9.0   -0.053283\n",
       "Name: logRT, dtype: float64"
      ]
     },
     "execution_count": 126,
     "metadata": {},
     "output_type": "execute_result"
    }
   ],
   "source": [
    "hcp_behdata.groupby(['movie_ind']).mean().logRT"
   ]
  },
  {
   "cell_type": "code",
   "execution_count": 122,
   "metadata": {},
   "outputs": [
    {
     "data": {
      "text/plain": [
       "movie\n",
       "BILLIARDA1      1.295999\n",
       "COAXINGB0       1.352411\n",
       "DRIFTINGA2      1.689224\n",
       "FISHING3        1.950964\n",
       "RANDOMMECH4     1.778285\n",
       "SCARING5        2.236313\n",
       "SEDUCINGB6      1.541536\n",
       "STARA7          1.555364\n",
       "SURPRISINGB8    1.616493\n",
       "TENNISA9        1.482265\n",
       "Name: logRTdur, dtype: float64"
      ]
     },
     "execution_count": 122,
     "metadata": {},
     "output_type": "execute_result"
    }
   ],
   "source": [
    "dat_all.groupby(['movie']).mean().logRTdur"
   ]
  },
  {
   "cell_type": "code",
   "execution_count": 127,
   "metadata": {},
   "outputs": [
    {
     "data": {
      "text/plain": [
       "movie\n",
       "BILLIARD-A.AVI           0.141436\n",
       "COAXING-B.AVI            0.176325\n",
       "DRIFTING-A.AVI          -0.048315\n",
       "Fishing.AVI              0.106058\n",
       "Random mechanical.AVI    0.070830\n",
       "SEDUCING-B.AVI          -0.281009\n",
       "STAR-A.AVI              -0.329794\n",
       "SURPRISING-B.AVI        -0.176279\n",
       "Scaring.AVI             -0.120297\n",
       "TENNIS-A.AVI            -0.053283\n",
       "Name: logRT, dtype: float64"
      ]
     },
     "execution_count": 127,
     "metadata": {},
     "output_type": "execute_result"
    }
   ],
   "source": [
    "hcp_behdata.groupby(['movie']).mean().logRT"
   ]
  },
  {
   "cell_type": "code",
   "execution_count": 230,
   "metadata": {},
   "outputs": [
    {
     "data": {
      "text/plain": [
       "SpearmanrResult(correlation=0.4545454545454545, pvalue=0.186904810349332)"
      ]
     },
     "execution_count": 230,
     "metadata": {},
     "output_type": "execute_result"
    },
    {
     "data": {
      "image/png": "[encoded data removed]",
      "text/plain": [
       "<Figure size 216x216 with 1 Axes>"
      ]
     },
     "metadata": {
      "needs_background": "light"
     },
     "output_type": "display_data"
    }
   ],
   "source": [
    "plt.figure(1,figsize =(3,3))\n",
    "plt.plot(dat_all.groupby(['movie_ind']).mean().respDur_rt,\n",
    "               dat_all.groupby(['movie_ind']).mean().respAfter_rt,marker ='o', color = 'k',ls = 'None', markersize = 12)\n",
    "plt.xlabel('online during',fontsize =16, color='g')\n",
    "plt.ylabel('online after',fontsize =16,color = 'b')\n",
    "stats.spearmanr(dat_all.groupby(['movie_ind']).mean().respDur_rt,\n",
    "               dat_all.groupby(['movie_ind']).mean().respAfter_rt)\n",
    "# for comparability with other coorels below. In general, timept-wise analysis  above makes more sense"
   ]
  },
  {
   "cell_type": "code",
   "execution_count": 180,
   "metadata": {},
   "outputs": [
    {
     "data": {
      "text/plain": [
       "SpearmanrResult(correlation=0.4545454545454545, pvalue=0.186904810349332)"
      ]
     },
     "execution_count": 180,
     "metadata": {},
     "output_type": "execute_result"
    }
   ],
   "source": [
    "stats.spearmanr(dat_all.groupby(['movie_ind']).mean().zRTdur,\n",
    "               dat_all.groupby(['movie_ind']).mean().zRTaft)\n",
    "# for comparability with other coorels below. In general, timept-wise analysis  above makes more sense"
   ]
  },
  {
   "cell_type": "code",
   "execution_count": 137,
   "metadata": {},
   "outputs": [
    {
     "data": {
      "text/plain": [
       "SpearmanrResult(correlation=0.29696969696969694, pvalue=0.4047016712701569)"
      ]
     },
     "execution_count": 137,
     "metadata": {},
     "output_type": "execute_result"
    }
   ],
   "source": [
    "stats.spearmanr(dat_all.groupby(['movie_ind']).mean().logRTdur,\n",
    "               dat_all.groupby(['movie_ind']).mean().logRTaft)\n",
    "# same as above, but log RTs"
   ]
  },
  {
   "cell_type": "code",
   "execution_count": 226,
   "metadata": {},
   "outputs": [
    {
     "data": {
      "text/plain": [
       "SpearmanrResult(correlation=-0.12727272727272726, pvalue=0.7260570147627894)"
      ]
     },
     "execution_count": 226,
     "metadata": {},
     "output_type": "execute_result"
    },
    {
     "data": {
      "image/png": "[encoded data removed]",
      "text/plain": [
       "<Figure size 216x216 with 1 Axes>"
      ]
     },
     "metadata": {
      "needs_background": "light"
     },
     "output_type": "display_data"
    }
   ],
   "source": [
    "plt.figure(1,figsize =(3,3))\n",
    "plt.plot(dat_all.groupby(['movie_ind']).mean().respDur_rt,\n",
    "               hcp_behdata.groupby(['movie_ind']).mean().rt,marker ='o', ls = 'None', markersize = 12,color = 'k')\n",
    "plt.xlabel('online during',fontsize =16,color = 'g')\n",
    "plt.ylabel('HCP rt after',fontsize =16, color = 'orange')\n",
    "\n",
    "stats.spearmanr(dat_all.groupby(['movie_ind']).mean().respDur_rt,\n",
    "               hcp_behdata.groupby(['movie_ind']).mean().rt)\n",
    "# comparing mean \"during RTs\" with mean HCP RTs\n",
    "# using meadian instead of mean reduced p values to .38"
   ]
  },
  {
   "cell_type": "code",
   "execution_count": 224,
   "metadata": {},
   "outputs": [
    {
     "data": {
      "text/plain": [
       "SpearmanrResult(correlation=0.7212121212121211, pvalue=0.018573155089460208)"
      ]
     },
     "execution_count": 224,
     "metadata": {},
     "output_type": "execute_result"
    },
    {
     "data": {
      "image/png": "[encoded data removed]",
      "text/plain": [
       "<Figure size 216x216 with 1 Axes>"
      ]
     },
     "metadata": {
      "needs_background": "light"
     },
     "output_type": "display_data"
    }
   ],
   "source": [
    "plt.figure(1,figsize =(3,3))\n",
    "plt.plot(dat_all.groupby(['movie_ind']).mean().respAfter_rt,\n",
    "               hcp_behdata.groupby(['movie_ind']).mean().rt,marker ='o', color = 'k',ls = 'None', markersize = 12)\n",
    "plt.xlabel('online after',fontsize =16,color = 'b')\n",
    "plt.ylabel('HCP rt after',fontsize =16,color ='orange')\n",
    "\n",
    "stats.spearmanr(dat_all.groupby(['movie_ind']).mean().respAfter_rt,\n",
    "               hcp_behdata.groupby(['movie_ind']).mean().rt)\n",
    "# comparing mean \"during RTs\" with mean HCP RTs\n",
    "# using meadian instead of mean reduced p values to .38"
   ]
  },
  {
   "cell_type": "code",
   "execution_count": 149,
   "metadata": {},
   "outputs": [
    {
     "data": {
      "text/plain": [
       "SpearmanrResult(correlation=-0.2121212121212121, pvalue=0.5563057751029299)"
      ]
     },
     "execution_count": 149,
     "metadata": {},
     "output_type": "execute_result"
    }
   ],
   "source": [
    "stats.spearmanr(dat_all.groupby(['movie_ind']).mean().logRTdur,\n",
    "               hcp_behdata.groupby(['movie_ind']).mean().logRT)\n",
    "# same as above, but log RTs\n",
    "# using meadian instead of mean reduced p values to .38"
   ]
  },
  {
   "cell_type": "code",
   "execution_count": 168,
   "metadata": {},
   "outputs": [
    {
     "data": {
      "text/plain": [
       "array([ 4.37188892,  4.20324122,  6.37767053,  7.81966079,  7.54110409,\n",
       "       10.58758904,  5.24302737,  5.38617539,  5.74724229,  5.39606375])"
      ]
     },
     "execution_count": 168,
     "metadata": {},
     "output_type": "execute_result"
    }
   ],
   "source": [
    "dat_all.groupby(['movie_ind']).mean().respDur_rt.values"
   ]
  },
  {
   "cell_type": "code",
   "execution_count": 167,
   "metadata": {},
   "outputs": [
    {
     "data": {
      "text/plain": [
       "([<matplotlib.axis.XTick at 0x7fb2ebca83a0>,\n",
       "  <matplotlib.axis.XTick at 0x7fb2ebca8370>,\n",
       "  <matplotlib.axis.XTick at 0x7fb2ebcad9d0>,\n",
       "  <matplotlib.axis.XTick at 0x7fb2d9c5bbb0>,\n",
       "  <matplotlib.axis.XTick at 0x7fb3180db100>,\n",
       "  <matplotlib.axis.XTick at 0x7fb3180db610>,\n",
       "  <matplotlib.axis.XTick at 0x7fb3180dbb20>,\n",
       "  <matplotlib.axis.XTick at 0x7fb3180de070>,\n",
       "  <matplotlib.axis.XTick at 0x7fb3180de580>,\n",
       "  <matplotlib.axis.XTick at 0x7fb3180dea90>],\n",
       " [Text(0, 0, 'COAXINGB0'),\n",
       "  Text(1, 0, 'BILLIARDA1'),\n",
       "  Text(2, 0, 'DRIFTINGA2'),\n",
       "  Text(3, 0, 'FISHING3'),\n",
       "  Text(4, 0, 'RANDOMMECH4'),\n",
       "  Text(5, 0, 'SCARING5'),\n",
       "  Text(6, 0, 'SEDUCINGB6'),\n",
       "  Text(7, 0, 'STARA7'),\n",
       "  Text(8, 0, 'SURPRISINGB8'),\n",
       "  Text(9, 0, 'TENNISA9')])"
      ]
     },
     "execution_count": 167,
     "metadata": {},
     "output_type": "execute_result"
    },
    {
     "data": {
      "image/png": "[encoded data removed]",
      "text/plain": [
       "<Figure size 1080x360 with 1 Axes>"
      ]
     },
     "metadata": {
      "needs_background": "light"
     },
     "output_type": "display_data"
    }
   ],
   "source": [
    "plt.figure(1,figsize =(15,5))\n",
    "plt.bar(np.arange(0,10),stats.zscore(dat_all.groupby(['movie_ind']).mean().respDur_rt.values), align='edge', \n",
    "        width = -.2, label = 'Z-online-during')\n",
    "plt.bar(np.arange(0,10),stats.zscore(hcp_behdata.groupby(['movie_ind']).mean().rt.values), align='edge', \n",
    "        width = .2, label = 'Z-HCP-after')\n",
    "plt.xticks(range(10),movie_names)"
   ]
  },
  {
   "cell_type": "code",
   "execution_count": 220,
   "metadata": {},
   "outputs": [
    {
     "data": {
      "text/plain": [
       "<matplotlib.legend.Legend at 0x7fb2d1cae8e0>"
      ]
     },
     "execution_count": 220,
     "metadata": {},
     "output_type": "execute_result"
    },
    {
     "data": {
      "image/png": "[encoded data removed]",
      "text/plain": [
       "<Figure size 504x288 with 1 Axes>"
      ]
     },
     "metadata": {
      "needs_background": "light"
     },
     "output_type": "display_data"
    }
   ],
   "source": [
    "plt.figure(1,figsize =(7,4))\n",
    "plt.bar(np.arange(0,10),dat_all.groupby(['movie_ind']).mean().respAfter_rt, \n",
    "        align='center', width = .25, label = 'online-after')\n",
    "plt.bar(np.arange(0,10)+.3,hcp_behdata.groupby(['movie_ind']).mean().rt, \n",
    "        align='center', width = .25, label = 'HCP-after')\n",
    "plt.bar(np.arange(0,10)-.3,dat_all.groupby(['movie_ind']).mean().respDur_rt, \n",
    "        align='center', width = .25, label = 'online-during')\n",
    "\n",
    "plt.xticks(range(10),movie_names,rotation=30)\n",
    "plt.legend()"
   ]
  },
  {
   "cell_type": "code",
   "execution_count": 221,
   "metadata": {},
   "outputs": [
    {
     "data": {
      "text/plain": [
       "<matplotlib.legend.Legend at 0x7fb2cd09a2b0>"
      ]
     },
     "execution_count": 221,
     "metadata": {},
     "output_type": "execute_result"
    },
    {
     "data": {
      "image/png": "[encoded data removed]",
      "text/plain": [
       "<Figure size 504x288 with 1 Axes>"
      ]
     },
     "metadata": {
      "needs_background": "light"
     },
     "output_type": "display_data"
    }
   ],
   "source": [
    "plt.figure(1,figsize =(7,4))\n",
    "\n",
    "plt.bar(np.arange(0,10),dat_all.groupby(['movie_ind']).mean().respAfter_rt, \n",
    "        align='center', width = .25, label = 'online-after')\n",
    "plt.bar(np.arange(0,10)+.3,hcp_behdata.groupby(['movie_ind']).mean().rt, \n",
    "        align='center', width = .25, label = 'HCP-after')\n",
    "plt.xticks(range(10),movie_names,rotation=30)\n",
    "plt.legend()"
   ]
  },
  {
   "cell_type": "code",
   "execution_count": 141,
   "metadata": {},
   "outputs": [
    {
     "data": {
      "text/plain": [
       "SpearmanrResult(correlation=0.6484848484848483, pvalue=0.04254012768448945)"
      ]
     },
     "execution_count": 141,
     "metadata": {},
     "output_type": "execute_result"
    }
   ],
   "source": [
    "stats.spearmanr(dat_all.groupby(['movie_ind']).mean().logRTaft,\n",
    "               hcp_behdata.groupby(['movie_ind']).mean().logRT)\n",
    "# same as above, but log RTs"
   ]
  },
  {
   "cell_type": "markdown",
   "metadata": {},
   "source": [
    "- overall, it looks like in the online RT expt, during and after responses correlated\n",
    "- but taking means per movie and correlating gives a sig correlation only for online-after and hcp-after, not online-during and hcp after. prob because of the variability in online-during (for example, online during and after also were not significant here)\n",
    "\n",
    "- NEED TO REPEAT THIS WITH CONSISTENT+INCONSISTENT RESPONSES OR RESPONSE FLIPPING TRIALS ALONE OF INCONSISTENT TRIALS, SINCE HERE THERE WAS ONLY CONSISTENT: SO RT'S MAY HAVE BEEN SKEWED"
   ]
  },
  {
   "cell_type": "markdown",
   "metadata": {},
   "source": [
    "## Identify the most similar distributions (majority)\n",
    "\n",
    "E.g. see if coaxing-yes and billiards-no are sig. different"
   ]
  },
  {
   "cell_type": "markdown",
   "metadata": {},
   "source": [
    "### Analysis 3: deciding on which two movies and comapring them"
   ]
  },
  {
   "cell_type": "code",
   "execution_count": 184,
   "metadata": {},
   "outputs": [
    {
     "data": {
      "text/plain": [
       "KstestResult(statistic=0.15053763440860216, pvalue=0.24350006240630304)"
      ]
     },
     "execution_count": 184,
     "metadata": {},
     "output_type": "execute_result"
    }
   ],
   "source": [
    "\n",
    "mat1 = dat_all.loc[(dat_all['movie']== movie_names[0]) & (dat_all['respDur_keys']== 'left'),'respDur_rt'].values\n",
    "mat2 = dat_all.loc[(dat_all['movie']== movie_names[1]) & (dat_all['respDur_keys']== 'right'),'respDur_rt'].values\n",
    "\n",
    "from scipy.stats import ks_2samp\n",
    "ks_2samp(mat1,mat2)"
   ]
  },
  {
   "cell_type": "code",
   "execution_count": null,
   "metadata": {},
   "outputs": [],
   "source": []
  }
 ],
 "metadata": {
  "kernelspec": {
   "display_name": "Python 3",
   "language": "python",
   "name": "python3"
  },
  "language_info": {
   "codemirror_mode": {
    "name": "ipython",
    "version": 3
   },
   "file_extension": ".py",
   "mimetype": "text/x-python",
   "name": "python",
   "nbconvert_exporter": "python",
   "pygments_lexer": "ipython3",
   "version": "3.8.5"
  }
 },
 "nbformat": 4,
 "nbformat_minor": 4
}
