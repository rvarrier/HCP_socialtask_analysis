{
 "cells": [
  {
   "cell_type": "markdown",
   "source": [
    "# RT analyses\n",
    "\n",
    "- comparing during and after, and both with HCP RT's\n",
    "- compare RT distributions for majority responses in coaxing and billiards (also other movies with similar RT profiles)\n"
   ],
   "metadata": {}
  },
  {
   "cell_type": "code",
   "execution_count": 17,
   "source": [
    "import pandas as pd\n",
    "import numpy as np\n",
    "import os\n",
    "import matplotlib.pyplot as plt\n",
    "import scipy.stats as stats"
   ],
   "outputs": [],
   "metadata": {}
  },
  {
   "cell_type": "code",
   "execution_count": 18,
   "source": [
    "final_data_folder = r'/Users/f0053cz/Dropbox (Dartmouth College)/postdoc_Dartmouth/HCP/RT_online_task'\n",
    "dat_all = pd.read_csv(os.path.join(final_data_folder,'RT_data_all_subs.csv'))\n",
    "dat_all.head()"
   ],
   "outputs": [
    {
     "output_type": "execute_result",
     "data": {
      "text/html": [
       "<div>\n",
       "<style scoped>\n",
       "    .dataframe tbody tr th:only-of-type {\n",
       "        vertical-align: middle;\n",
       "    }\n",
       "\n",
       "    .dataframe tbody tr th {\n",
       "        vertical-align: top;\n",
       "    }\n",
       "\n",
       "    .dataframe thead th {\n",
       "        text-align: right;\n",
       "    }\n",
       "</style>\n",
       "<table border=\"1\" class=\"dataframe\">\n",
       "  <thead>\n",
       "    <tr style=\"text-align: right;\">\n",
       "      <th></th>\n",
       "      <th>Unnamed: 0</th>\n",
       "      <th>sub_ind</th>\n",
       "      <th>respDur_keys</th>\n",
       "      <th>respDur_rt</th>\n",
       "      <th>respAfter_keys</th>\n",
       "      <th>respAfter_rt</th>\n",
       "      <th>movie</th>\n",
       "      <th>date</th>\n",
       "      <th>movie_ind</th>\n",
       "      <th>consistency</th>\n",
       "    </tr>\n",
       "  </thead>\n",
       "  <tbody>\n",
       "    <tr>\n",
       "      <th>0</th>\n",
       "      <td>0</td>\n",
       "      <td>86.0</td>\n",
       "      <td>left</td>\n",
       "      <td>3.070585</td>\n",
       "      <td>left</td>\n",
       "      <td>0.868510</td>\n",
       "      <td>COAXINGB0</td>\n",
       "      <td>2021-07-25_08h39.36.916</td>\n",
       "      <td>0.0</td>\n",
       "      <td>1.0</td>\n",
       "    </tr>\n",
       "    <tr>\n",
       "      <th>1</th>\n",
       "      <td>1</td>\n",
       "      <td>86.0</td>\n",
       "      <td>right</td>\n",
       "      <td>1.909830</td>\n",
       "      <td>right</td>\n",
       "      <td>0.669700</td>\n",
       "      <td>BILLIARDA1</td>\n",
       "      <td>2021-07-25_08h39.36.916</td>\n",
       "      <td>1.0</td>\n",
       "      <td>1.0</td>\n",
       "    </tr>\n",
       "    <tr>\n",
       "      <th>2</th>\n",
       "      <td>2</td>\n",
       "      <td>86.0</td>\n",
       "      <td>right</td>\n",
       "      <td>2.362310</td>\n",
       "      <td>right</td>\n",
       "      <td>0.497975</td>\n",
       "      <td>DRIFTINGA2</td>\n",
       "      <td>2021-07-25_08h39.36.916</td>\n",
       "      <td>2.0</td>\n",
       "      <td>1.0</td>\n",
       "    </tr>\n",
       "    <tr>\n",
       "      <th>3</th>\n",
       "      <td>3</td>\n",
       "      <td>86.0</td>\n",
       "      <td>left</td>\n",
       "      <td>4.312300</td>\n",
       "      <td>left</td>\n",
       "      <td>1.568915</td>\n",
       "      <td>FISHING3</td>\n",
       "      <td>2021-07-25_08h39.36.916</td>\n",
       "      <td>3.0</td>\n",
       "      <td>1.0</td>\n",
       "    </tr>\n",
       "    <tr>\n",
       "      <th>4</th>\n",
       "      <td>4</td>\n",
       "      <td>86.0</td>\n",
       "      <td>right</td>\n",
       "      <td>1.539055</td>\n",
       "      <td>right</td>\n",
       "      <td>0.667690</td>\n",
       "      <td>RANDOMMECH4</td>\n",
       "      <td>2021-07-25_08h39.36.916</td>\n",
       "      <td>4.0</td>\n",
       "      <td>1.0</td>\n",
       "    </tr>\n",
       "  </tbody>\n",
       "</table>\n",
       "</div>"
      ],
      "text/plain": [
       "   Unnamed: 0  sub_ind respDur_keys  respDur_rt respAfter_keys  respAfter_rt  \\\n",
       "0           0     86.0         left    3.070585           left      0.868510   \n",
       "1           1     86.0        right    1.909830          right      0.669700   \n",
       "2           2     86.0        right    2.362310          right      0.497975   \n",
       "3           3     86.0         left    4.312300           left      1.568915   \n",
       "4           4     86.0        right    1.539055          right      0.667690   \n",
       "\n",
       "         movie                     date  movie_ind  consistency  \n",
       "0    COAXINGB0  2021-07-25_08h39.36.916        0.0          1.0  \n",
       "1   BILLIARDA1  2021-07-25_08h39.36.916        1.0          1.0  \n",
       "2   DRIFTINGA2  2021-07-25_08h39.36.916        2.0          1.0  \n",
       "3     FISHING3  2021-07-25_08h39.36.916        3.0          1.0  \n",
       "4  RANDOMMECH4  2021-07-25_08h39.36.916        4.0          1.0  "
      ]
     },
     "metadata": {},
     "execution_count": 18
    }
   ],
   "metadata": {}
  },
  {
   "cell_type": "code",
   "execution_count": 19,
   "source": [
    "dat_all.shape"
   ],
   "outputs": [
    {
     "output_type": "execute_result",
     "data": {
      "text/plain": [
       "(994, 10)"
      ]
     },
     "metadata": {},
     "execution_count": 19
    }
   ],
   "metadata": {}
  },
  {
   "cell_type": "code",
   "execution_count": 21,
   "source": [
    "dat_all = dat_all.loc[dat_all['consistency']==1,:] # select only consistent responses (i.e., same response during and after)\n",
    "dat_all.shape"
   ],
   "outputs": [
    {
     "output_type": "execute_result",
     "data": {
      "text/plain": [
       "(887, 10)"
      ]
     },
     "metadata": {},
     "execution_count": 21
    }
   ],
   "metadata": {}
  },
  {
   "cell_type": "code",
   "execution_count": 22,
   "source": [
    "thresh = 8\n",
    "trial_counts = dat_all.groupby(\"sub_ind\").count()[\"movie_ind\"]\n",
    "bad_subs = trial_counts[(trial_counts < thresh)].index\n",
    "#print(bad_subs)\n",
    "dat_all = dat_all.set_index('sub_ind') # make subj_idx the index\n",
    "dat_all.drop(bad_subs, inplace=True) # remove bad subjects\n",
    "dat_all = dat_all.reset_index() #bring back subj_idx as a column\n",
    "\n",
    "print(\"Nr. of subjects left\",len(dat_all.groupby(\"sub_ind\")))\n",
    "print(\"Nr. of rows:\",dat_all.shape)"
   ],
   "outputs": [
    {
     "output_type": "stream",
     "name": "stdout",
     "text": [
      "Nr. of subjects left 90\n",
      "Nr. of rows: (821, 10)\n"
     ]
    }
   ],
   "metadata": {}
  },
  {
   "cell_type": "markdown",
   "source": [
    "### Analysis 1: is \"during\" RT predictive of \"after RT\"?"
   ],
   "metadata": {}
  },
  {
   "cell_type": "code",
   "execution_count": 23,
   "source": [
    "dat_all['logRTdur'] = np.log(dat_all['respDur_rt'])\n",
    "dat_all['logRTaft'] = np.log(dat_all['respAfter_rt'])\n",
    "dat_all['zRTdur'] = stats.zscore(dat_all['respDur_rt'])\n",
    "dat_all['zRTaft'] = stats.zscore(dat_all['respAfter_rt'])\n",
    "dat_all"
   ],
   "outputs": [
    {
     "output_type": "execute_result",
     "data": {
      "text/html": [
       "<div>\n",
       "<style scoped>\n",
       "    .dataframe tbody tr th:only-of-type {\n",
       "        vertical-align: middle;\n",
       "    }\n",
       "\n",
       "    .dataframe tbody tr th {\n",
       "        vertical-align: top;\n",
       "    }\n",
       "\n",
       "    .dataframe thead th {\n",
       "        text-align: right;\n",
       "    }\n",
       "</style>\n",
       "<table border=\"1\" class=\"dataframe\">\n",
       "  <thead>\n",
       "    <tr style=\"text-align: right;\">\n",
       "      <th></th>\n",
       "      <th>sub_ind</th>\n",
       "      <th>Unnamed: 0</th>\n",
       "      <th>respDur_keys</th>\n",
       "      <th>respDur_rt</th>\n",
       "      <th>respAfter_keys</th>\n",
       "      <th>respAfter_rt</th>\n",
       "      <th>movie</th>\n",
       "      <th>date</th>\n",
       "      <th>movie_ind</th>\n",
       "      <th>consistency</th>\n",
       "      <th>logRTdur</th>\n",
       "      <th>logRTaft</th>\n",
       "      <th>zRTdur</th>\n",
       "      <th>zRTaft</th>\n",
       "    </tr>\n",
       "  </thead>\n",
       "  <tbody>\n",
       "    <tr>\n",
       "      <th>0</th>\n",
       "      <td>86.0</td>\n",
       "      <td>0</td>\n",
       "      <td>left</td>\n",
       "      <td>3.070585</td>\n",
       "      <td>left</td>\n",
       "      <td>0.868510</td>\n",
       "      <td>COAXINGB0</td>\n",
       "      <td>2021-07-25_08h39.36.916</td>\n",
       "      <td>0.0</td>\n",
       "      <td>1.0</td>\n",
       "      <td>1.121868</td>\n",
       "      <td>-0.140976</td>\n",
       "      <td>-0.804030</td>\n",
       "      <td>-0.026170</td>\n",
       "    </tr>\n",
       "    <tr>\n",
       "      <th>1</th>\n",
       "      <td>86.0</td>\n",
       "      <td>1</td>\n",
       "      <td>right</td>\n",
       "      <td>1.909830</td>\n",
       "      <td>right</td>\n",
       "      <td>0.669700</td>\n",
       "      <td>BILLIARDA1</td>\n",
       "      <td>2021-07-25_08h39.36.916</td>\n",
       "      <td>1.0</td>\n",
       "      <td>1.0</td>\n",
       "      <td>0.647014</td>\n",
       "      <td>-0.400925</td>\n",
       "      <td>-1.110599</td>\n",
       "      <td>-0.452144</td>\n",
       "    </tr>\n",
       "    <tr>\n",
       "      <th>2</th>\n",
       "      <td>86.0</td>\n",
       "      <td>2</td>\n",
       "      <td>right</td>\n",
       "      <td>2.362310</td>\n",
       "      <td>right</td>\n",
       "      <td>0.497975</td>\n",
       "      <td>DRIFTINGA2</td>\n",
       "      <td>2021-07-25_08h39.36.916</td>\n",
       "      <td>2.0</td>\n",
       "      <td>1.0</td>\n",
       "      <td>0.859640</td>\n",
       "      <td>-0.697205</td>\n",
       "      <td>-0.991094</td>\n",
       "      <td>-0.820084</td>\n",
       "    </tr>\n",
       "    <tr>\n",
       "      <th>3</th>\n",
       "      <td>86.0</td>\n",
       "      <td>3</td>\n",
       "      <td>left</td>\n",
       "      <td>4.312300</td>\n",
       "      <td>left</td>\n",
       "      <td>1.568915</td>\n",
       "      <td>FISHING3</td>\n",
       "      <td>2021-07-25_08h39.36.916</td>\n",
       "      <td>3.0</td>\n",
       "      <td>1.0</td>\n",
       "      <td>1.461471</td>\n",
       "      <td>0.450384</td>\n",
       "      <td>-0.476078</td>\n",
       "      <td>1.474527</td>\n",
       "    </tr>\n",
       "    <tr>\n",
       "      <th>4</th>\n",
       "      <td>86.0</td>\n",
       "      <td>4</td>\n",
       "      <td>right</td>\n",
       "      <td>1.539055</td>\n",
       "      <td>right</td>\n",
       "      <td>0.667690</td>\n",
       "      <td>RANDOMMECH4</td>\n",
       "      <td>2021-07-25_08h39.36.916</td>\n",
       "      <td>4.0</td>\n",
       "      <td>1.0</td>\n",
       "      <td>0.431169</td>\n",
       "      <td>-0.403931</td>\n",
       "      <td>-1.208525</td>\n",
       "      <td>-0.456450</td>\n",
       "    </tr>\n",
       "    <tr>\n",
       "      <th>...</th>\n",
       "      <td>...</td>\n",
       "      <td>...</td>\n",
       "      <td>...</td>\n",
       "      <td>...</td>\n",
       "      <td>...</td>\n",
       "      <td>...</td>\n",
       "      <td>...</td>\n",
       "      <td>...</td>\n",
       "      <td>...</td>\n",
       "      <td>...</td>\n",
       "      <td>...</td>\n",
       "      <td>...</td>\n",
       "      <td>...</td>\n",
       "      <td>...</td>\n",
       "    </tr>\n",
       "    <tr>\n",
       "      <th>816</th>\n",
       "      <td>69.0</td>\n",
       "      <td>1003</td>\n",
       "      <td>left</td>\n",
       "      <td>4.639200</td>\n",
       "      <td>left</td>\n",
       "      <td>0.601600</td>\n",
       "      <td>FISHING3</td>\n",
       "      <td>2021-07-25_14h45.48.361</td>\n",
       "      <td>3.0</td>\n",
       "      <td>1.0</td>\n",
       "      <td>1.534542</td>\n",
       "      <td>-0.508163</td>\n",
       "      <td>-0.389739</td>\n",
       "      <td>-0.598056</td>\n",
       "    </tr>\n",
       "    <tr>\n",
       "      <th>817</th>\n",
       "      <td>69.0</td>\n",
       "      <td>1004</td>\n",
       "      <td>right</td>\n",
       "      <td>3.087600</td>\n",
       "      <td>right</td>\n",
       "      <td>0.311200</td>\n",
       "      <td>RANDOMMECH4</td>\n",
       "      <td>2021-07-25_14h45.48.361</td>\n",
       "      <td>4.0</td>\n",
       "      <td>1.0</td>\n",
       "      <td>1.127394</td>\n",
       "      <td>-1.167319</td>\n",
       "      <td>-0.799536</td>\n",
       "      <td>-1.220271</td>\n",
       "    </tr>\n",
       "    <tr>\n",
       "      <th>818</th>\n",
       "      <td>69.0</td>\n",
       "      <td>1006</td>\n",
       "      <td>left</td>\n",
       "      <td>2.388300</td>\n",
       "      <td>left</td>\n",
       "      <td>0.425800</td>\n",
       "      <td>SEDUCINGB6</td>\n",
       "      <td>2021-07-25_14h45.48.361</td>\n",
       "      <td>6.0</td>\n",
       "      <td>1.0</td>\n",
       "      <td>0.870582</td>\n",
       "      <td>-0.853786</td>\n",
       "      <td>-0.984229</td>\n",
       "      <td>-0.974727</td>\n",
       "    </tr>\n",
       "    <tr>\n",
       "      <th>819</th>\n",
       "      <td>69.0</td>\n",
       "      <td>1007</td>\n",
       "      <td>right</td>\n",
       "      <td>2.380100</td>\n",
       "      <td>right</td>\n",
       "      <td>0.421600</td>\n",
       "      <td>STARA7</td>\n",
       "      <td>2021-07-25_14h45.48.361</td>\n",
       "      <td>7.0</td>\n",
       "      <td>1.0</td>\n",
       "      <td>0.867143</td>\n",
       "      <td>-0.863698</td>\n",
       "      <td>-0.986395</td>\n",
       "      <td>-0.983726</td>\n",
       "    </tr>\n",
       "    <tr>\n",
       "      <th>820</th>\n",
       "      <td>69.0</td>\n",
       "      <td>1008</td>\n",
       "      <td>left</td>\n",
       "      <td>2.486800</td>\n",
       "      <td>left</td>\n",
       "      <td>0.517900</td>\n",
       "      <td>SURPRISINGB8</td>\n",
       "      <td>2021-07-25_14h45.48.361</td>\n",
       "      <td>8.0</td>\n",
       "      <td>1.0</td>\n",
       "      <td>0.910997</td>\n",
       "      <td>-0.657973</td>\n",
       "      <td>-0.958214</td>\n",
       "      <td>-0.777393</td>\n",
       "    </tr>\n",
       "  </tbody>\n",
       "</table>\n",
       "<p>821 rows × 14 columns</p>\n",
       "</div>"
      ],
      "text/plain": [
       "     sub_ind  Unnamed: 0 respDur_keys  respDur_rt respAfter_keys  \\\n",
       "0       86.0           0         left    3.070585           left   \n",
       "1       86.0           1        right    1.909830          right   \n",
       "2       86.0           2        right    2.362310          right   \n",
       "3       86.0           3         left    4.312300           left   \n",
       "4       86.0           4        right    1.539055          right   \n",
       "..       ...         ...          ...         ...            ...   \n",
       "816     69.0        1003         left    4.639200           left   \n",
       "817     69.0        1004        right    3.087600          right   \n",
       "818     69.0        1006         left    2.388300           left   \n",
       "819     69.0        1007        right    2.380100          right   \n",
       "820     69.0        1008         left    2.486800           left   \n",
       "\n",
       "     respAfter_rt         movie                     date  movie_ind  \\\n",
       "0        0.868510     COAXINGB0  2021-07-25_08h39.36.916        0.0   \n",
       "1        0.669700    BILLIARDA1  2021-07-25_08h39.36.916        1.0   \n",
       "2        0.497975    DRIFTINGA2  2021-07-25_08h39.36.916        2.0   \n",
       "3        1.568915      FISHING3  2021-07-25_08h39.36.916        3.0   \n",
       "4        0.667690   RANDOMMECH4  2021-07-25_08h39.36.916        4.0   \n",
       "..            ...           ...                      ...        ...   \n",
       "816      0.601600      FISHING3  2021-07-25_14h45.48.361        3.0   \n",
       "817      0.311200   RANDOMMECH4  2021-07-25_14h45.48.361        4.0   \n",
       "818      0.425800    SEDUCINGB6  2021-07-25_14h45.48.361        6.0   \n",
       "819      0.421600        STARA7  2021-07-25_14h45.48.361        7.0   \n",
       "820      0.517900  SURPRISINGB8  2021-07-25_14h45.48.361        8.0   \n",
       "\n",
       "     consistency  logRTdur  logRTaft    zRTdur    zRTaft  \n",
       "0            1.0  1.121868 -0.140976 -0.804030 -0.026170  \n",
       "1            1.0  0.647014 -0.400925 -1.110599 -0.452144  \n",
       "2            1.0  0.859640 -0.697205 -0.991094 -0.820084  \n",
       "3            1.0  1.461471  0.450384 -0.476078  1.474527  \n",
       "4            1.0  0.431169 -0.403931 -1.208525 -0.456450  \n",
       "..           ...       ...       ...       ...       ...  \n",
       "816          1.0  1.534542 -0.508163 -0.389739 -0.598056  \n",
       "817          1.0  1.127394 -1.167319 -0.799536 -1.220271  \n",
       "818          1.0  0.870582 -0.853786 -0.984229 -0.974727  \n",
       "819          1.0  0.867143 -0.863698 -0.986395 -0.983726  \n",
       "820          1.0  0.910997 -0.657973 -0.958214 -0.777393  \n",
       "\n",
       "[821 rows x 14 columns]"
      ]
     },
     "metadata": {},
     "execution_count": 23
    }
   ],
   "metadata": {}
  },
  {
   "cell_type": "code",
   "execution_count": 24,
   "source": [
    "dat_all.plot(x='respDur_rt', y='respAfter_rt', style='o', alpha = .15)\n",
    "#dat_all['respDur_rt'].corr(dat_all['respAfter_rt'])\n",
    "stats.pearsonr(dat_all['respDur_rt'],dat_all['respAfter_rt'])"
   ],
   "outputs": [
    {
     "output_type": "execute_result",
     "data": {
      "text/plain": [
       "(0.16912462486243188, 1.0952128077608828e-06)"
      ]
     },
     "metadata": {},
     "execution_count": 24
    },
    {
     "output_type": "display_data",
     "data": {
      "image/png": "[encoded data removed]",
      "text/plain": [
       "<Figure size 432x288 with 1 Axes>"
      ]
     },
     "metadata": {
      "needs_background": "light"
     }
    }
   ],
   "metadata": {}
  },
  {
   "cell_type": "code",
   "execution_count": 25,
   "source": [
    "dat_all.loc[dat_all['movie_ind']==i,'respDur_rt'].values"
   ],
   "outputs": [
    {
     "output_type": "execute_result",
     "data": {
      "text/plain": [
       "array([ 3.070585,  2.6565  ,  3.0721  ,  2.8651  ,  3.45334 ,  3.3718  ,\n",
       "        6.024   ,  7.6051  ,  3.5059  ,  8.839   ,  6.4807  ,  3.4473  ,\n",
       "        3.8974  ,  7.0192  ,  3.5531  ,  2.4184  ,  7.7918  ,  6.2099  ,\n",
       "        2.7619  ,  2.291   ,  4.0371  ,  1.7381  ,  3.4203  ,  1.622   ,\n",
       "        3.1622  ,  2.3387  ,  2.525   ,  3.7314  ,  3.672   ,  3.609   ,\n",
       "       11.639   ,  3.0718  ,  3.48    ,  3.271   , 12.4651  ,  2.2371  ,\n",
       "        3.7053  ,  2.8591  ,  7.6245  ,  5.0793  ,  2.8179  ,  4.3385  ,\n",
       "        2.795   ,  3.3003  ,  2.784   ,  5.6848  ,  2.5862  , 14.7985  ,\n",
       "        1.6018  ,  6.6978  ,  5.54798 ,  2.6947  ,  3.1897  ,  3.8251  ,\n",
       "        4.765   ,  5.8707  ,  6.0378  ,  2.4577  ,  1.737765,  1.616   ,\n",
       "        2.5565  ,  2.5752  ,  2.8544  ,  3.6513  ,  6.6537  ,  2.187   ,\n",
       "        1.753   ,  3.1213  ,  6.6337  ,  3.1932  ,  4.124   ,  2.627   ,\n",
       "        3.1806  ,  7.3146  ,  2.4637  ,  4.9876  ,  4.7534  ,  4.2524  ,\n",
       "        4.7672  ,  7.961   ,  2.86    ,  3.379   ,  5.2504  ,  4.6432  ,\n",
       "        8.1837  ,  2.3728  ])"
      ]
     },
     "metadata": {},
     "execution_count": 25
    }
   ],
   "metadata": {}
  },
  {
   "cell_type": "code",
   "execution_count": 26,
   "source": [
    "plt.figure(1,figsize = (12,5))\n",
    "for i in range(10):\n",
    "    plt.subplot(2,5,i+1)\n",
    "    plt.plot(dat_all.loc[dat_all['movie_ind']==i,'respDur_rt'].values,\n",
    "             dat_all.loc[dat_all['movie_ind']==i,'respAfter_rt'].values,\n",
    "             marker='o', ls = 'None', alpha = .15)\n",
    "             #dat_all.loc[dat_all['movie_ind']==i,:].plot(x='respDur_rt', y='respAfter_rt', style='o', alpha = .15)\n",
    "    #dat_all['respDur_rt'].corr(dat_all['respAfter_rt'])\n",
    "    r,p = stats.spearmanr(dat_all.loc[dat_all['movie_ind']==i,'respDur_rt'].values,\n",
    "                        dat_all.loc[dat_all['movie_ind']==i,'respAfter_rt'].values) \n",
    "    #stats.pearsonr(dat_all['respDur_rt'],dat_all['respAfter_rt'])\n",
    "    extn = ['*' if p<.05 else ' ']\n",
    "    plt.title(f'{movie_names[i][:4]},\\nr={np.round(r,2)},\\np={np.round(p,3)}{extn[0]}',fontsize =20)\n",
    "    plt.xticks(fontsize =16)\n",
    "    plt.yticks(fontsize =16)\n",
    "    plt.xlim(0,20)\n",
    "    plt.ylim(0,3)\n",
    "plt.tight_layout()"
   ],
   "outputs": [
    {
     "output_type": "error",
     "ename": "NameError",
     "evalue": "name 'movie_names' is not defined",
     "traceback": [
      "\u001b[0;31m---------------------------------------------------------------------------\u001b[0m",
      "\u001b[0;31mNameError\u001b[0m                                 Traceback (most recent call last)",
      "\u001b[0;32m<ipython-input-26-ab3ece70a895>\u001b[0m in \u001b[0;36m<module>\u001b[0;34m\u001b[0m\n\u001b[1;32m     11\u001b[0m     \u001b[0;31m#stats.pearsonr(dat_all['respDur_rt'],dat_all['respAfter_rt'])\u001b[0m\u001b[0;34m\u001b[0m\u001b[0;34m\u001b[0m\u001b[0;34m\u001b[0m\u001b[0m\n\u001b[1;32m     12\u001b[0m     \u001b[0mextn\u001b[0m \u001b[0;34m=\u001b[0m \u001b[0;34m[\u001b[0m\u001b[0;34m'*'\u001b[0m \u001b[0;32mif\u001b[0m \u001b[0mp\u001b[0m\u001b[0;34m<\u001b[0m\u001b[0;36m.05\u001b[0m \u001b[0;32melse\u001b[0m \u001b[0;34m' '\u001b[0m\u001b[0;34m]\u001b[0m\u001b[0;34m\u001b[0m\u001b[0;34m\u001b[0m\u001b[0m\n\u001b[0;32m---> 13\u001b[0;31m     \u001b[0mplt\u001b[0m\u001b[0;34m.\u001b[0m\u001b[0mtitle\u001b[0m\u001b[0;34m(\u001b[0m\u001b[0;34mf'{movie_names[i][:4]},\\nr={np.round(r,2)},\\np={np.round(p,3)}{extn[0]}'\u001b[0m\u001b[0;34m,\u001b[0m\u001b[0mfontsize\u001b[0m \u001b[0;34m=\u001b[0m\u001b[0;36m20\u001b[0m\u001b[0;34m)\u001b[0m\u001b[0;34m\u001b[0m\u001b[0;34m\u001b[0m\u001b[0m\n\u001b[0m\u001b[1;32m     14\u001b[0m     \u001b[0mplt\u001b[0m\u001b[0;34m.\u001b[0m\u001b[0mxticks\u001b[0m\u001b[0;34m(\u001b[0m\u001b[0mfontsize\u001b[0m \u001b[0;34m=\u001b[0m\u001b[0;36m16\u001b[0m\u001b[0;34m)\u001b[0m\u001b[0;34m\u001b[0m\u001b[0;34m\u001b[0m\u001b[0m\n\u001b[1;32m     15\u001b[0m     \u001b[0mplt\u001b[0m\u001b[0;34m.\u001b[0m\u001b[0myticks\u001b[0m\u001b[0;34m(\u001b[0m\u001b[0mfontsize\u001b[0m \u001b[0;34m=\u001b[0m\u001b[0;36m16\u001b[0m\u001b[0;34m)\u001b[0m\u001b[0;34m\u001b[0m\u001b[0;34m\u001b[0m\u001b[0m\n",
      "\u001b[0;31mNameError\u001b[0m: name 'movie_names' is not defined"
     ]
    },
    {
     "output_type": "display_data",
     "data": {
      "image/png": "[encoded data removed]",
      "text/plain": [
       "<Figure size 864x360 with 1 Axes>"
      ]
     },
     "metadata": {
      "needs_background": "light"
     }
    }
   ],
   "metadata": {}
  },
  {
   "cell_type": "code",
   "execution_count": 15,
   "source": [
    "plt.figure(1,figsize = (12,5))\n",
    "for i in range(10):\n",
    "    plt.subplot(2,5,i+1)\n",
    "    x = np.log(dat_all.loc[dat_all['movie_ind']==i,'respDur_rt'].values)\n",
    "    y = np.log(dat_all.loc[dat_all['movie_ind']==i,'respAfter_rt'].values)\n",
    "    plt.plot(x,y, marker='o', ls = 'None', alpha = .15)\n",
    "             #dat_all.loc[dat_all['movie_ind']==i,:].plot(x='respDur_rt', y='respAfter_rt', style='o', alpha = .15)\n",
    "    #dat_all['respDur_rt'].corr(dat_all['respAfter_rt'])\n",
    "    #r,p = stats.spearmanr(x,y) \n",
    "    r,p = stats.pearsonr(x,y) \n",
    "    #stats.pearsonr(dat_all['respDur_rt'],dat_all['respAfter_rt'])\n",
    "    extn = ['*' if p<.05 else ' ']\n",
    "    plt.title(f'{movie_names[i][:4]},\\nr={np.round(r,2)},\\np={np.round(p,3)}{extn[0]}',fontsize =20)\n",
    "    plt.xticks(fontsize =16)\n",
    "    plt.yticks(fontsize =16)\n",
    "    #plt.xlim(0,20)\n",
    "    #plt.ylim(0,3)\n",
    "plt.tight_layout()"
   ],
   "outputs": [
    {
     "output_type": "error",
     "ename": "NameError",
     "evalue": "name 'movie_names' is not defined",
     "traceback": [
      "\u001b[0;31m---------------------------------------------------------------------------\u001b[0m",
      "\u001b[0;31mNameError\u001b[0m                                 Traceback (most recent call last)",
      "\u001b[0;32m<ipython-input-15-9edd5b7ebca5>\u001b[0m in \u001b[0;36m<module>\u001b[0;34m\u001b[0m\n\u001b[1;32m     11\u001b[0m     \u001b[0;31m#stats.pearsonr(dat_all['respDur_rt'],dat_all['respAfter_rt'])\u001b[0m\u001b[0;34m\u001b[0m\u001b[0;34m\u001b[0m\u001b[0;34m\u001b[0m\u001b[0m\n\u001b[1;32m     12\u001b[0m     \u001b[0mextn\u001b[0m \u001b[0;34m=\u001b[0m \u001b[0;34m[\u001b[0m\u001b[0;34m'*'\u001b[0m \u001b[0;32mif\u001b[0m \u001b[0mp\u001b[0m\u001b[0;34m<\u001b[0m\u001b[0;36m.05\u001b[0m \u001b[0;32melse\u001b[0m \u001b[0;34m' '\u001b[0m\u001b[0;34m]\u001b[0m\u001b[0;34m\u001b[0m\u001b[0;34m\u001b[0m\u001b[0m\n\u001b[0;32m---> 13\u001b[0;31m     \u001b[0mplt\u001b[0m\u001b[0;34m.\u001b[0m\u001b[0mtitle\u001b[0m\u001b[0;34m(\u001b[0m\u001b[0;34mf'{movie_names[i][:4]},\\nr={np.round(r,2)},\\np={np.round(p,3)}{extn[0]}'\u001b[0m\u001b[0;34m,\u001b[0m\u001b[0mfontsize\u001b[0m \u001b[0;34m=\u001b[0m\u001b[0;36m20\u001b[0m\u001b[0;34m)\u001b[0m\u001b[0;34m\u001b[0m\u001b[0;34m\u001b[0m\u001b[0m\n\u001b[0m\u001b[1;32m     14\u001b[0m     \u001b[0mplt\u001b[0m\u001b[0;34m.\u001b[0m\u001b[0mxticks\u001b[0m\u001b[0;34m(\u001b[0m\u001b[0mfontsize\u001b[0m \u001b[0;34m=\u001b[0m\u001b[0;36m16\u001b[0m\u001b[0;34m)\u001b[0m\u001b[0;34m\u001b[0m\u001b[0;34m\u001b[0m\u001b[0m\n\u001b[1;32m     15\u001b[0m     \u001b[0mplt\u001b[0m\u001b[0;34m.\u001b[0m\u001b[0myticks\u001b[0m\u001b[0;34m(\u001b[0m\u001b[0mfontsize\u001b[0m \u001b[0;34m=\u001b[0m\u001b[0;36m16\u001b[0m\u001b[0;34m)\u001b[0m\u001b[0;34m\u001b[0m\u001b[0;34m\u001b[0m\u001b[0m\n",
      "\u001b[0;31mNameError\u001b[0m: name 'movie_names' is not defined"
     ]
    },
    {
     "output_type": "display_data",
     "data": {
      "image/png": "[encoded data removed]",
      "text/plain": [
       "<Figure size 864x360 with 1 Axes>"
      ]
     },
     "metadata": {
      "needs_background": "light"
     }
    }
   ],
   "metadata": {}
  },
  {
   "cell_type": "code",
   "execution_count": 16,
   "source": [
    "dat_all.plot(x='zRTdur', y='zRTaft', style='o', alpha = .15)\n",
    "#dat_all['respDur_rt'].corr(dat_all['respAfter_rt'])\n",
    "stats.pearsonr(dat_all['zRTdur'],dat_all['zRTaft'])"
   ],
   "outputs": [
    {
     "output_type": "execute_result",
     "data": {
      "text/plain": [
       "(0.15005411939268337, 7.185247330567464e-06)"
      ]
     },
     "metadata": {},
     "execution_count": 16
    },
    {
     "output_type": "display_data",
     "data": {
      "image/png": "[encoded data removed]",
      "text/plain": [
       "<Figure size 432x288 with 1 Axes>"
      ]
     },
     "metadata": {
      "needs_background": "light"
     }
    }
   ],
   "metadata": {}
  },
  {
   "cell_type": "code",
   "execution_count": 15,
   "source": [
    "stats.spearmanr(dat_all['respDur_rt'],dat_all['respAfter_rt'])"
   ],
   "outputs": [
    {
     "output_type": "execute_result",
     "data": {
      "text/plain": [
       "SpearmanrResult(correlation=0.19780509361240778, pvalue=2.821947082021859e-09)"
      ]
     },
     "metadata": {},
     "execution_count": 15
    }
   ],
   "metadata": {}
  },
  {
   "cell_type": "code",
   "execution_count": 16,
   "source": [
    "stats.spearmanr(dat_all['zRTdur'],dat_all['zRTaft'])"
   ],
   "outputs": [
    {
     "output_type": "execute_result",
     "data": {
      "text/plain": [
       "SpearmanrResult(correlation=0.19780509361240778, pvalue=2.821947082021859e-09)"
      ]
     },
     "metadata": {},
     "execution_count": 16
    }
   ],
   "metadata": {}
  },
  {
   "cell_type": "code",
   "execution_count": 17,
   "source": [
    "# log transformed RTs\n",
    "\n",
    "dat_all.plot(x='logRTdur', y='logRTaft', style='o', alpha = .15)\n",
    "#dat_all['logRTdur'].corr(dat_all['logRTaft'])\n",
    "stats.pearsonr(dat_all['logRTdur'],dat_all['logRTaft'])"
   ],
   "outputs": [
    {
     "output_type": "execute_result",
     "data": {
      "text/plain": [
       "(0.19882252677273982, 2.3318904219679807e-09)"
      ]
     },
     "metadata": {},
     "execution_count": 17
    },
    {
     "output_type": "display_data",
     "data": {
      "image/png": "[encoded data removed]",
      "text/plain": [
       "<Figure size 432x288 with 1 Axes>"
      ]
     },
     "metadata": {
      "needs_background": "light"
     }
    }
   ],
   "metadata": {}
  },
  {
   "cell_type": "code",
   "execution_count": 18,
   "source": [
    "HCP_data_file = r'/Users/f0053cz/Dropbox (Dartmouth College)/postdoc_Dartmouth/HCP/BehaviorAnalyses/hcp_social_behav_for_ddm_stim-coding.csv'\n",
    "hcp_behdata = pd.read_csv(HCP_data_file)\n",
    "hcp_behdata = hcp_behdata.loc[hcp_behdata['rt']>.1,:]\n",
    "hcp_behdata.head()"
   ],
   "outputs": [
    {
     "output_type": "execute_result",
     "data": {
      "text/html": [
       "<div>\n",
       "<style scoped>\n",
       "    .dataframe tbody tr th:only-of-type {\n",
       "        vertical-align: middle;\n",
       "    }\n",
       "\n",
       "    .dataframe tbody tr th {\n",
       "        vertical-align: top;\n",
       "    }\n",
       "\n",
       "    .dataframe thead th {\n",
       "        text-align: right;\n",
       "    }\n",
       "</style>\n",
       "<table border=\"1\" class=\"dataframe\">\n",
       "  <thead>\n",
       "    <tr style=\"text-align: right;\">\n",
       "      <th></th>\n",
       "      <th>subj_idx</th>\n",
       "      <th>stim</th>\n",
       "      <th>movie</th>\n",
       "      <th>rt</th>\n",
       "      <th>response</th>\n",
       "    </tr>\n",
       "  </thead>\n",
       "  <tbody>\n",
       "    <tr>\n",
       "      <th>0</th>\n",
       "      <td>168745</td>\n",
       "      <td>Mental</td>\n",
       "      <td>Scaring.AVI</td>\n",
       "      <td>1.252</td>\n",
       "      <td>1</td>\n",
       "    </tr>\n",
       "    <tr>\n",
       "      <th>1</th>\n",
       "      <td>168745</td>\n",
       "      <td>Mental</td>\n",
       "      <td>SEDUCING-B.AVI</td>\n",
       "      <td>0.578</td>\n",
       "      <td>1</td>\n",
       "    </tr>\n",
       "    <tr>\n",
       "      <th>2</th>\n",
       "      <td>168745</td>\n",
       "      <td>Random</td>\n",
       "      <td>STAR-A.AVI</td>\n",
       "      <td>1.643</td>\n",
       "      <td>0</td>\n",
       "    </tr>\n",
       "    <tr>\n",
       "      <th>3</th>\n",
       "      <td>168745</td>\n",
       "      <td>Mental</td>\n",
       "      <td>SURPRISING-B.AVI</td>\n",
       "      <td>1.082</td>\n",
       "      <td>1</td>\n",
       "    </tr>\n",
       "    <tr>\n",
       "      <th>4</th>\n",
       "      <td>168745</td>\n",
       "      <td>Random</td>\n",
       "      <td>TENNIS-A.AVI</td>\n",
       "      <td>1.232</td>\n",
       "      <td>0</td>\n",
       "    </tr>\n",
       "  </tbody>\n",
       "</table>\n",
       "</div>"
      ],
      "text/plain": [
       "   subj_idx    stim             movie     rt  response\n",
       "0    168745  Mental       Scaring.AVI  1.252         1\n",
       "1    168745  Mental    SEDUCING-B.AVI  0.578         1\n",
       "2    168745  Random        STAR-A.AVI  1.643         0\n",
       "3    168745  Mental  SURPRISING-B.AVI  1.082         1\n",
       "4    168745  Random      TENNIS-A.AVI  1.232         0"
      ]
     },
     "metadata": {},
     "execution_count": 18
    }
   ],
   "metadata": {}
  },
  {
   "cell_type": "code",
   "execution_count": 22,
   "source": [
    "movie_names = ['COAXINGB0','BILLIARDA1','DRIFTINGA2','FISHING3','RANDOMMECH4',\n",
    "              'SCARING5', 'SEDUCINGB6', 'STARA7', 'SURPRISINGB8', 'TENNISA9']\n",
    "\n",
    "movies_hcp_list = hcp_behdata['movie'].values\n",
    "movie_ind_list = np.empty((movies_hcp_list.shape[0],))\n",
    "for i,m in enumerate(movies_hcp_list):\n",
    "    for j in range(10):\n",
    "        if movie_names[j][:4] in str.upper(m):\n",
    "            movie_ind_list[i] = j\n",
    "            break\n",
    "\n",
    "hcp_behdata['movie_ind'] =  movie_ind_list\n",
    "hcp_behdata['logRT'] = np.log(hcp_behdata['rt'])\n",
    "hcp_behdata['zRT'] = stats.zscore(hcp_behdata['rt'])\n",
    "hcp_behdata"
   ],
   "outputs": [
    {
     "output_type": "execute_result",
     "data": {
      "text/html": [
       "<div>\n",
       "<style scoped>\n",
       "    .dataframe tbody tr th:only-of-type {\n",
       "        vertical-align: middle;\n",
       "    }\n",
       "\n",
       "    .dataframe tbody tr th {\n",
       "        vertical-align: top;\n",
       "    }\n",
       "\n",
       "    .dataframe thead th {\n",
       "        text-align: right;\n",
       "    }\n",
       "</style>\n",
       "<table border=\"1\" class=\"dataframe\">\n",
       "  <thead>\n",
       "    <tr style=\"text-align: right;\">\n",
       "      <th></th>\n",
       "      <th>subj_idx</th>\n",
       "      <th>stim</th>\n",
       "      <th>movie</th>\n",
       "      <th>rt</th>\n",
       "      <th>response</th>\n",
       "      <th>movie_ind</th>\n",
       "      <th>logRT</th>\n",
       "      <th>zRT</th>\n",
       "    </tr>\n",
       "  </thead>\n",
       "  <tbody>\n",
       "    <tr>\n",
       "      <th>0</th>\n",
       "      <td>168745</td>\n",
       "      <td>Mental</td>\n",
       "      <td>Scaring.AVI</td>\n",
       "      <td>1.252</td>\n",
       "      <td>1</td>\n",
       "      <td>5.0</td>\n",
       "      <td>0.224742</td>\n",
       "      <td>0.415506</td>\n",
       "    </tr>\n",
       "    <tr>\n",
       "      <th>1</th>\n",
       "      <td>168745</td>\n",
       "      <td>Mental</td>\n",
       "      <td>SEDUCING-B.AVI</td>\n",
       "      <td>0.578</td>\n",
       "      <td>1</td>\n",
       "      <td>6.0</td>\n",
       "      <td>-0.548181</td>\n",
       "      <td>-0.940478</td>\n",
       "    </tr>\n",
       "    <tr>\n",
       "      <th>2</th>\n",
       "      <td>168745</td>\n",
       "      <td>Random</td>\n",
       "      <td>STAR-A.AVI</td>\n",
       "      <td>1.643</td>\n",
       "      <td>0</td>\n",
       "      <td>7.0</td>\n",
       "      <td>0.496524</td>\n",
       "      <td>1.202138</td>\n",
       "    </tr>\n",
       "    <tr>\n",
       "      <th>3</th>\n",
       "      <td>168745</td>\n",
       "      <td>Mental</td>\n",
       "      <td>SURPRISING-B.AVI</td>\n",
       "      <td>1.082</td>\n",
       "      <td>1</td>\n",
       "      <td>8.0</td>\n",
       "      <td>0.078811</td>\n",
       "      <td>0.073492</td>\n",
       "    </tr>\n",
       "    <tr>\n",
       "      <th>4</th>\n",
       "      <td>168745</td>\n",
       "      <td>Random</td>\n",
       "      <td>TENNIS-A.AVI</td>\n",
       "      <td>1.232</td>\n",
       "      <td>0</td>\n",
       "      <td>9.0</td>\n",
       "      <td>0.208639</td>\n",
       "      <td>0.375269</td>\n",
       "    </tr>\n",
       "    <tr>\n",
       "      <th>...</th>\n",
       "      <td>...</td>\n",
       "      <td>...</td>\n",
       "      <td>...</td>\n",
       "      <td>...</td>\n",
       "      <td>...</td>\n",
       "      <td>...</td>\n",
       "      <td>...</td>\n",
       "      <td>...</td>\n",
       "    </tr>\n",
       "    <tr>\n",
       "      <th>10144</th>\n",
       "      <td>175136</td>\n",
       "      <td>Mental</td>\n",
       "      <td>COAXING-B.AVI</td>\n",
       "      <td>1.542</td>\n",
       "      <td>1</td>\n",
       "      <td>0.0</td>\n",
       "      <td>0.433080</td>\n",
       "      <td>0.998941</td>\n",
       "    </tr>\n",
       "    <tr>\n",
       "      <th>10145</th>\n",
       "      <td>175136</td>\n",
       "      <td>Random</td>\n",
       "      <td>BILLIARD-A.AVI</td>\n",
       "      <td>0.893</td>\n",
       "      <td>0</td>\n",
       "      <td>1.0</td>\n",
       "      <td>-0.113169</td>\n",
       "      <td>-0.306746</td>\n",
       "    </tr>\n",
       "    <tr>\n",
       "      <th>10146</th>\n",
       "      <td>175136</td>\n",
       "      <td>Random</td>\n",
       "      <td>DRIFTING-A.AVI</td>\n",
       "      <td>0.895</td>\n",
       "      <td>0</td>\n",
       "      <td>2.0</td>\n",
       "      <td>-0.110932</td>\n",
       "      <td>-0.302723</td>\n",
       "    </tr>\n",
       "    <tr>\n",
       "      <th>10147</th>\n",
       "      <td>175136</td>\n",
       "      <td>Mental</td>\n",
       "      <td>Fishing.AVI</td>\n",
       "      <td>0.985</td>\n",
       "      <td>1</td>\n",
       "      <td>3.0</td>\n",
       "      <td>-0.015114</td>\n",
       "      <td>-0.121657</td>\n",
       "    </tr>\n",
       "    <tr>\n",
       "      <th>10148</th>\n",
       "      <td>175136</td>\n",
       "      <td>Random</td>\n",
       "      <td>Random mechanical.AVI</td>\n",
       "      <td>1.304</td>\n",
       "      <td>0</td>\n",
       "      <td>4.0</td>\n",
       "      <td>0.265436</td>\n",
       "      <td>0.520122</td>\n",
       "    </tr>\n",
       "  </tbody>\n",
       "</table>\n",
       "<p>9950 rows × 8 columns</p>\n",
       "</div>"
      ],
      "text/plain": [
       "       subj_idx    stim                  movie     rt  response  movie_ind  \\\n",
       "0        168745  Mental            Scaring.AVI  1.252         1        5.0   \n",
       "1        168745  Mental         SEDUCING-B.AVI  0.578         1        6.0   \n",
       "2        168745  Random             STAR-A.AVI  1.643         0        7.0   \n",
       "3        168745  Mental       SURPRISING-B.AVI  1.082         1        8.0   \n",
       "4        168745  Random           TENNIS-A.AVI  1.232         0        9.0   \n",
       "...         ...     ...                    ...    ...       ...        ...   \n",
       "10144    175136  Mental          COAXING-B.AVI  1.542         1        0.0   \n",
       "10145    175136  Random         BILLIARD-A.AVI  0.893         0        1.0   \n",
       "10146    175136  Random         DRIFTING-A.AVI  0.895         0        2.0   \n",
       "10147    175136  Mental            Fishing.AVI  0.985         1        3.0   \n",
       "10148    175136  Random  Random mechanical.AVI  1.304         0        4.0   \n",
       "\n",
       "          logRT       zRT  \n",
       "0      0.224742  0.415506  \n",
       "1     -0.548181 -0.940478  \n",
       "2      0.496524  1.202138  \n",
       "3      0.078811  0.073492  \n",
       "4      0.208639  0.375269  \n",
       "...         ...       ...  \n",
       "10144  0.433080  0.998941  \n",
       "10145 -0.113169 -0.306746  \n",
       "10146 -0.110932 -0.302723  \n",
       "10147 -0.015114 -0.121657  \n",
       "10148  0.265436  0.520122  \n",
       "\n",
       "[9950 rows x 8 columns]"
      ]
     },
     "metadata": {},
     "execution_count": 22
    }
   ],
   "metadata": {}
  },
  {
   "cell_type": "code",
   "execution_count": 23,
   "source": [
    "dat_all.groupby(['movie_ind']).mean().logRTdur"
   ],
   "outputs": [
    {
     "output_type": "execute_result",
     "data": {
      "text/plain": [
       "movie_ind\n",
       "0.0    1.352411\n",
       "1.0    1.295999\n",
       "2.0    1.689224\n",
       "3.0    1.950964\n",
       "4.0    1.778285\n",
       "5.0    2.236313\n",
       "6.0    1.541536\n",
       "7.0    1.555364\n",
       "8.0    1.616493\n",
       "9.0    1.482265\n",
       "Name: logRTdur, dtype: float64"
      ]
     },
     "metadata": {},
     "execution_count": 23
    }
   ],
   "metadata": {}
  },
  {
   "cell_type": "code",
   "execution_count": 24,
   "source": [
    "hcp_behdata.groupby(['movie_ind']).mean().logRT"
   ],
   "outputs": [
    {
     "output_type": "execute_result",
     "data": {
      "text/plain": [
       "movie_ind\n",
       "0.0    0.176325\n",
       "1.0    0.141436\n",
       "2.0   -0.048315\n",
       "3.0    0.106058\n",
       "4.0    0.070830\n",
       "5.0   -0.120297\n",
       "6.0   -0.281009\n",
       "7.0   -0.329794\n",
       "8.0   -0.176279\n",
       "9.0   -0.053283\n",
       "Name: logRT, dtype: float64"
      ]
     },
     "metadata": {},
     "execution_count": 24
    }
   ],
   "metadata": {}
  },
  {
   "cell_type": "code",
   "execution_count": 25,
   "source": [
    "dat_all.groupby(['movie']).mean().logRTdur"
   ],
   "outputs": [
    {
     "output_type": "execute_result",
     "data": {
      "text/plain": [
       "movie\n",
       "BILLIARDA1      1.295999\n",
       "COAXINGB0       1.352411\n",
       "DRIFTINGA2      1.689224\n",
       "FISHING3        1.950964\n",
       "RANDOMMECH4     1.778285\n",
       "SCARING5        2.236313\n",
       "SEDUCINGB6      1.541536\n",
       "STARA7          1.555364\n",
       "SURPRISINGB8    1.616493\n",
       "TENNISA9        1.482265\n",
       "Name: logRTdur, dtype: float64"
      ]
     },
     "metadata": {},
     "execution_count": 25
    }
   ],
   "metadata": {}
  },
  {
   "cell_type": "code",
   "execution_count": 6,
   "source": [
    "hcp_behdata.groupby(['movie']).mean().logRT"
   ],
   "outputs": [
    {
     "output_type": "error",
     "ename": "NameError",
     "evalue": "name 'hcp_behdata' is not defined",
     "traceback": [
      "\u001b[0;31m---------------------------------------------------------------------------\u001b[0m",
      "\u001b[0;31mNameError\u001b[0m                                 Traceback (most recent call last)",
      "\u001b[0;32m<ipython-input-6-4b5bb6da1728>\u001b[0m in \u001b[0;36m<module>\u001b[0;34m\u001b[0m\n\u001b[0;32m----> 1\u001b[0;31m \u001b[0mhcp_behdata\u001b[0m\u001b[0;34m.\u001b[0m\u001b[0mgroupby\u001b[0m\u001b[0;34m(\u001b[0m\u001b[0;34m[\u001b[0m\u001b[0;34m'movie'\u001b[0m\u001b[0;34m]\u001b[0m\u001b[0;34m)\u001b[0m\u001b[0;34m.\u001b[0m\u001b[0mmean\u001b[0m\u001b[0;34m(\u001b[0m\u001b[0;34m)\u001b[0m\u001b[0;34m.\u001b[0m\u001b[0mlogRT\u001b[0m\u001b[0;34m\u001b[0m\u001b[0;34m\u001b[0m\u001b[0m\n\u001b[0m",
      "\u001b[0;31mNameError\u001b[0m: name 'hcp_behdata' is not defined"
     ]
    }
   ],
   "metadata": {}
  },
  {
   "cell_type": "code",
   "execution_count": 27,
   "source": [
    "plt.figure(1,figsize =(3,3))\n",
    "plt.plot(dat_all.groupby(['movie_ind']).mean().respDur_rt,\n",
    "               dat_all.groupby(['movie_ind']).mean().respAfter_rt,marker ='o', color = 'k',ls = 'None', markersize = 12)\n",
    "plt.xlabel('online during',fontsize =16, color='g')\n",
    "plt.ylabel('online after',fontsize =16,color = 'b')\n",
    "stats.spearmanr(dat_all.groupby(['movie_ind']).mean().respDur_rt,\n",
    "               dat_all.groupby(['movie_ind']).mean().respAfter_rt)\n",
    "# for comparability with other coorels below. In general, timept-wise analysis  above makes more sense"
   ],
   "outputs": [
    {
     "output_type": "execute_result",
     "data": {
      "text/plain": [
       "SpearmanrResult(correlation=0.4545454545454545, pvalue=0.186904810349332)"
      ]
     },
     "metadata": {},
     "execution_count": 27
    },
    {
     "output_type": "display_data",
     "data": {
      "image/png": "[encoded data removed]",
      "text/plain": [
       "<Figure size 216x216 with 1 Axes>"
      ]
     },
     "metadata": {
      "needs_background": "light"
     }
    }
   ],
   "metadata": {}
  },
  {
   "cell_type": "code",
   "execution_count": 28,
   "source": [
    "stats.spearmanr(dat_all.groupby(['movie_ind']).mean().zRTdur,\n",
    "               dat_all.groupby(['movie_ind']).mean().zRTaft)\n",
    "# for comparability with other coorels below. In general, timept-wise analysis  above makes more sense"
   ],
   "outputs": [
    {
     "output_type": "execute_result",
     "data": {
      "text/plain": [
       "SpearmanrResult(correlation=0.4545454545454545, pvalue=0.186904810349332)"
      ]
     },
     "metadata": {},
     "execution_count": 28
    }
   ],
   "metadata": {}
  },
  {
   "cell_type": "code",
   "execution_count": 29,
   "source": [
    "stats.spearmanr(dat_all.groupby(['movie_ind']).mean().logRTdur,\n",
    "               dat_all.groupby(['movie_ind']).mean().logRTaft)\n",
    "# same as above, but log RTs"
   ],
   "outputs": [
    {
     "output_type": "execute_result",
     "data": {
      "text/plain": [
       "SpearmanrResult(correlation=0.29696969696969694, pvalue=0.4047016712701569)"
      ]
     },
     "metadata": {},
     "execution_count": 29
    }
   ],
   "metadata": {}
  },
  {
   "cell_type": "code",
   "execution_count": 30,
   "source": [
    "plt.figure(1,figsize =(3,3))\n",
    "plt.plot(dat_all.groupby(['movie_ind']).mean().respDur_rt,\n",
    "               hcp_behdata.groupby(['movie_ind']).mean().rt,marker ='o', ls = 'None', markersize = 12,color = 'k')\n",
    "plt.xlabel('online during',fontsize =16,color = 'g')\n",
    "plt.ylabel('HCP rt after',fontsize =16, color = 'orange')\n",
    "\n",
    "stats.spearmanr(dat_all.groupby(['movie_ind']).mean().respDur_rt,\n",
    "               hcp_behdata.groupby(['movie_ind']).mean().rt)\n",
    "# comparing mean \"during RTs\" with mean HCP RTs\n",
    "# using meadian instead of mean reduced p values to .38"
   ],
   "outputs": [
    {
     "output_type": "execute_result",
     "data": {
      "text/plain": [
       "SpearmanrResult(correlation=-0.12727272727272726, pvalue=0.7260570147627894)"
      ]
     },
     "metadata": {},
     "execution_count": 30
    },
    {
     "output_type": "display_data",
     "data": {
      "image/png": "[encoded data removed]",
      "text/plain": [
       "<Figure size 216x216 with 1 Axes>"
      ]
     },
     "metadata": {
      "needs_background": "light"
     }
    }
   ],
   "metadata": {}
  },
  {
   "cell_type": "code",
   "execution_count": 31,
   "source": [
    "plt.figure(1,figsize =(3,3))\n",
    "plt.plot(dat_all.groupby(['movie_ind']).mean().respAfter_rt,\n",
    "               hcp_behdata.groupby(['movie_ind']).mean().rt,marker ='o', color = 'k',ls = 'None', markersize = 12)\n",
    "plt.xlabel('online after',fontsize =16,color = 'b')\n",
    "plt.ylabel('HCP rt after',fontsize =16,color ='orange')\n",
    "\n",
    "stats.spearmanr(dat_all.groupby(['movie_ind']).mean().respAfter_rt,\n",
    "               hcp_behdata.groupby(['movie_ind']).mean().rt)\n",
    "# comparing mean \"during RTs\" with mean HCP RTs\n",
    "# using meadian instead of mean reduced p values to .38"
   ],
   "outputs": [
    {
     "output_type": "execute_result",
     "data": {
      "text/plain": [
       "SpearmanrResult(correlation=0.7212121212121211, pvalue=0.018573155089460208)"
      ]
     },
     "metadata": {},
     "execution_count": 31
    },
    {
     "output_type": "display_data",
     "data": {
      "image/png": "[encoded data removed]",
      "text/plain": [
       "<Figure size 216x216 with 1 Axes>"
      ]
     },
     "metadata": {
      "needs_background": "light"
     }
    }
   ],
   "metadata": {}
  },
  {
   "cell_type": "code",
   "execution_count": 32,
   "source": [
    "stats.spearmanr(dat_all.groupby(['movie_ind']).mean().logRTdur,\n",
    "               hcp_behdata.groupby(['movie_ind']).mean().logRT)\n",
    "# same as above, but log RTs\n",
    "# using meadian instead of mean reduced p values to .38"
   ],
   "outputs": [
    {
     "output_type": "execute_result",
     "data": {
      "text/plain": [
       "SpearmanrResult(correlation=-0.2121212121212121, pvalue=0.5563057751029299)"
      ]
     },
     "metadata": {},
     "execution_count": 32
    }
   ],
   "metadata": {}
  },
  {
   "cell_type": "code",
   "execution_count": 33,
   "source": [
    "dat_all.groupby(['movie_ind']).mean().respDur_rt.values"
   ],
   "outputs": [
    {
     "output_type": "execute_result",
     "data": {
      "text/plain": [
       "array([ 4.37188892,  4.20324122,  6.37767053,  7.81966079,  7.54110409,\n",
       "       10.58758904,  5.24302737,  5.38617539,  5.74724229,  5.39606375])"
      ]
     },
     "metadata": {},
     "execution_count": 33
    }
   ],
   "metadata": {}
  },
  {
   "cell_type": "code",
   "execution_count": 34,
   "source": [
    "plt.figure(1,figsize =(15,5))\n",
    "plt.bar(np.arange(0,10),stats.zscore(dat_all.groupby(['movie_ind']).mean().respDur_rt.values), align='edge', \n",
    "        width = -.2, label = 'Z-online-during')\n",
    "plt.bar(np.arange(0,10),stats.zscore(hcp_behdata.groupby(['movie_ind']).mean().rt.values), align='edge', \n",
    "        width = .2, label = 'Z-HCP-after')\n",
    "plt.xticks(range(10),movie_names)"
   ],
   "outputs": [
    {
     "output_type": "execute_result",
     "data": {
      "text/plain": [
       "([<matplotlib.axis.XTick at 0x7fb978fa05b0>,\n",
       "  <matplotlib.axis.XTick at 0x7fb978fa0340>,\n",
       "  <matplotlib.axis.XTick at 0x7fb9a97d6160>,\n",
       "  <matplotlib.axis.XTick at 0x7fb9825e39a0>,\n",
       "  <matplotlib.axis.XTick at 0x7fb9a97fb220>,\n",
       "  <matplotlib.axis.XTick at 0x7fb9a97fbca0>,\n",
       "  <matplotlib.axis.XTick at 0x7fb9a982c820>,\n",
       "  <matplotlib.axis.XTick at 0x7fb9a982c7f0>,\n",
       "  <matplotlib.axis.XTick at 0x7fb9a9e38160>,\n",
       "  <matplotlib.axis.XTick at 0x7fb9a982c370>],\n",
       " [Text(0, 0, 'COAXINGB0'),\n",
       "  Text(1, 0, 'BILLIARDA1'),\n",
       "  Text(2, 0, 'DRIFTINGA2'),\n",
       "  Text(3, 0, 'FISHING3'),\n",
       "  Text(4, 0, 'RANDOMMECH4'),\n",
       "  Text(5, 0, 'SCARING5'),\n",
       "  Text(6, 0, 'SEDUCINGB6'),\n",
       "  Text(7, 0, 'STARA7'),\n",
       "  Text(8, 0, 'SURPRISINGB8'),\n",
       "  Text(9, 0, 'TENNISA9')])"
      ]
     },
     "metadata": {},
     "execution_count": 34
    },
    {
     "output_type": "display_data",
     "data": {
      "image/png": "[encoded data removed]",
      "text/plain": [
       "<Figure size 1080x360 with 1 Axes>"
      ]
     },
     "metadata": {
      "needs_background": "light"
     }
    }
   ],
   "metadata": {}
  },
  {
   "cell_type": "code",
   "execution_count": 36,
   "source": [
    "dat_all.groupby(['movie_ind']).mean().respAfter_rt"
   ],
   "outputs": [
    {
     "output_type": "execute_result",
     "data": {
      "text/plain": [
       "movie_ind\n",
       "0.0    0.978619\n",
       "1.0    0.860454\n",
       "2.0    0.864559\n",
       "3.0    1.017348\n",
       "4.0    0.984044\n",
       "5.0    0.874769\n",
       "6.0    0.752342\n",
       "7.0    0.715292\n",
       "8.0    0.828630\n",
       "9.0    0.930829\n",
       "Name: respAfter_rt, dtype: float64"
      ]
     },
     "metadata": {},
     "execution_count": 36
    }
   ],
   "metadata": {}
  },
  {
   "cell_type": "code",
   "execution_count": 51,
   "source": [
    "plt.figure(1,figsize =(8,4))\n",
    "plt.bar(np.arange(0,10),dat_all.groupby(['movie_ind']).mean().respAfter_rt, \n",
    "        align='center', width = .25, label = 'online-after')\n",
    "plt.errorbar(np.arange(0,10),dat_all.groupby(['movie_ind']).mean().respAfter_rt, \n",
    "             dat_all.groupby(['movie_ind']).sem().respAfter_rt,color= 'k', ls = 'none')\n",
    "\n",
    "plt.bar(np.arange(0,10)+.3,hcp_behdata.groupby(['movie_ind']).mean().rt, \n",
    "        align='center', width = .25, label = 'HCP-after')\n",
    "plt.errorbar(np.arange(0,10)+.3,hcp_behdata.groupby(['movie_ind']).mean().rt,\n",
    "             hcp_behdata.groupby(['movie_ind']).sem().rt, \n",
    "             dat_all.groupby(['movie_ind']).sem().respAfter_rt,color= 'k', ls = 'none')\n",
    "\n",
    "\n",
    "plt.bar(np.arange(0,10)-.3,dat_all.groupby(['movie_ind']).mean().respDur_rt, \n",
    "        align='center', width = .25, label = 'online-during')\n",
    "plt.errorbar(np.arange(0,10)-.3,dat_all.groupby(['movie_ind']).mean().respDur_rt, \n",
    "             dat_all.groupby(['movie_ind']).sem().respDur_rt, \n",
    "             dat_all.groupby(['movie_ind']).sem().respAfter_rt,color= 'k', ls = 'none')\n",
    "\n",
    "\n",
    "\n",
    "plt.xticks(range(10),[i[:4] for i in movie_names],rotation=30)\n",
    "plt.legend()"
   ],
   "outputs": [
    {
     "output_type": "execute_result",
     "data": {
      "text/plain": [
       "<matplotlib.legend.Legend at 0x7fb982b0cfd0>"
      ]
     },
     "metadata": {},
     "execution_count": 51
    },
    {
     "output_type": "display_data",
     "data": {
      "image/png": "[encoded data removed]",
      "text/plain": [
       "<Figure size 576x288 with 1 Axes>"
      ]
     },
     "metadata": {
      "needs_background": "light"
     }
    }
   ],
   "metadata": {}
  },
  {
   "cell_type": "code",
   "execution_count": 52,
   "source": [
    "plt.figure(1,figsize =(8,4))\n",
    "\n",
    "plt.bar(np.arange(0,10),dat_all.groupby(['movie_ind']).mean().respAfter_rt, \n",
    "        align='center', width = .25, label = 'online-after')\n",
    "plt.errorbar(np.arange(0,10),dat_all.groupby(['movie_ind']).mean().respAfter_rt, \n",
    "             dat_all.groupby(['movie_ind']).sem().respAfter_rt,color= 'k', ls = 'none')\n",
    "\n",
    "\n",
    "plt.bar(np.arange(0,10)+.3,hcp_behdata.groupby(['movie_ind']).mean().rt, \n",
    "        align='center', width = .25, label = 'HCP-after')\n",
    "plt.errorbar(np.arange(0,10)+.3,hcp_behdata.groupby(['movie_ind']).mean().rt,\n",
    "             hcp_behdata.groupby(['movie_ind']).sem().rt, \n",
    "             dat_all.groupby(['movie_ind']).sem().respAfter_rt,color= 'k', ls = 'none')\n",
    "\n",
    "\n",
    "plt.xticks(range(10),[i[:4] for i in movie_names],rotation=30)\n",
    "plt.legend()"
   ],
   "outputs": [
    {
     "output_type": "execute_result",
     "data": {
      "text/plain": [
       "<matplotlib.legend.Legend at 0x7fb989c8aa00>"
      ]
     },
     "metadata": {},
     "execution_count": 52
    },
    {
     "output_type": "display_data",
     "data": {
      "image/png": "[encoded data removed]",
      "text/plain": [
       "<Figure size 576x288 with 1 Axes>"
      ]
     },
     "metadata": {
      "needs_background": "light"
     }
    }
   ],
   "metadata": {}
  },
  {
   "cell_type": "code",
   "execution_count": 141,
   "source": [
    "stats.spearmanr(dat_all.groupby(['movie_ind']).mean().logRTaft,\n",
    "               hcp_behdata.groupby(['movie_ind']).mean().logRT)\n",
    "# same as above, but log RTs"
   ],
   "outputs": [
    {
     "output_type": "execute_result",
     "data": {
      "text/plain": [
       "SpearmanrResult(correlation=0.6484848484848483, pvalue=0.04254012768448945)"
      ]
     },
     "metadata": {},
     "execution_count": 141
    }
   ],
   "metadata": {}
  },
  {
   "cell_type": "markdown",
   "source": [
    "- overall, it looks like in the online RT expt, during and after responses correlated\n",
    "- but taking means per movie and correlating gives a sig correlation only for online-after and hcp-after, not online-during and hcp after. prob because of the variability in online-during (for example, online during and after also were not significant here)\n",
    "\n",
    "- NEED TO REPEAT THIS WITH CONSISTENT+INCONSISTENT RESPONSES OR RESPONSE FLIPPING TRIALS ALONE OF INCONSISTENT TRIALS, SINCE HERE THERE WAS ONLY CONSISTENT: SO RT'S MAY HAVE BEEN SKEWED"
   ],
   "metadata": {}
  },
  {
   "cell_type": "markdown",
   "source": [
    "## Identify the most similar distributions (majority)\n",
    "\n",
    "E.g. see if coaxing-yes and billiards-no are sig. different"
   ],
   "metadata": {}
  },
  {
   "cell_type": "markdown",
   "source": [
    "### Analysis 3: deciding on which two movies and comapring them"
   ],
   "metadata": {}
  },
  {
   "cell_type": "code",
   "execution_count": 184,
   "source": [
    "\n",
    "mat1 = dat_all.loc[(dat_all['movie']== movie_names[0]) & (dat_all['respDur_keys']== 'left'),'respDur_rt'].values\n",
    "mat2 = dat_all.loc[(dat_all['movie']== movie_names[1]) & (dat_all['respDur_keys']== 'right'),'respDur_rt'].values\n",
    "\n",
    "from scipy.stats import ks_2samp\n",
    "ks_2samp(mat1,mat2)"
   ],
   "outputs": [
    {
     "output_type": "execute_result",
     "data": {
      "text/plain": [
       "KstestResult(statistic=0.15053763440860216, pvalue=0.24350006240630304)"
      ]
     },
     "metadata": {},
     "execution_count": 184
    }
   ],
   "metadata": {}
  },
  {
   "cell_type": "code",
   "execution_count": null,
   "source": [],
   "outputs": [],
   "metadata": {}
  }
 ],
 "metadata": {
  "kernelspec": {
   "name": "python3",
   "display_name": "Python 3.7.9 64-bit ('py37': conda)"
  },
  "language_info": {
   "codemirror_mode": {
    "name": "ipython",
    "version": 3
   },
   "file_extension": ".py",
   "mimetype": "text/x-python",
   "name": "python",
   "nbconvert_exporter": "python",
   "pygments_lexer": "ipython3",
   "version": "3.7.9"
  },
  "interpreter": {
   "hash": "30fd9c97283ec1278eec212a8f8afab06ad903f38228c32cacb469eba8e56f4f"
  }
 },
 "nbformat": 4,
 "nbformat_minor": 4
}