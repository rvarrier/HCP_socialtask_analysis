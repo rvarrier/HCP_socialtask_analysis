{
 "cells": [
  {
   "cell_type": "markdown",
   "source": [
    "# Univariate fMRI analysis -  yes v. no response activations"
   ],
   "metadata": {}
  },
  {
   "cell_type": "markdown",
   "source": [
    "Data from HCP social task (Barch et al, 2013, van Essen et al, 2013 - NeuroImage)\n",
    "\n",
    "- This script has the code I used for the fMRI analyses mentioned in the OHBM abstract (improved now)\n",
    "\n",
    "- Here each movie was modelled separately using two linear models: BOLD = f(stimPresence), stimPresence &isin; {0,1} and BOLD = f(normalized TR#). I refer to these as the block and the slope regressor, resp.\n",
    "- The resultant beta values for each sub, node and movie, can be used to compare brain activity between subject groups who responded 'yes'/'social' and 'no'/'nonsocial' using button presses in the scanner\n",
    "\n",
    "- I did this comparison using\n",
    "(1) unpaired t-tests for each node of the most ambiguous movie (random mechanical) and plotted the T-scores on a brain map thresholded at p =.05 (fdr corr. at .05), and \n",
    "(2) selecting only common subjects and performing paired t-tests across subjects for movies with comparable decision times (from a separate online expt). also thresholded and fdr corrected like before\n",
    "\n",
    "- Ignore the section 'extra' in the end\n",
    "\n",
    "Rekha Varrier, 2021-22"
   ],
   "metadata": {}
  },
  {
   "cell_type": "code",
   "execution_count": 4,
   "source": [
    "# import packages, check folders\n",
    "#%reset\n",
    "import os\n",
    "import numpy as np\n",
    "import h5py\n",
    "import pandas as pd\n",
    "#import imagesc as imagesc #pip install imagesc\n",
    "import matplotlib.pyplot as plt\n",
    "import seaborn as sns\n",
    "from scipy import stats\n",
    "import time\n",
    "from pathlib import Path\n",
    "from datetime import datetime\n",
    "\n",
    "# TO DO - REMOVE THE UNNECESSARY LIBRARY IMPORTS\n",
    "\n",
    "%matplotlib inline\n",
    "\n",
    "working_dir = '/Users/f0053cz/Dropbox (Dartmouth College)/postdoc_Dartmouth/HCP/fMRIScipts/code'\n",
    "#working_dir = os.getcwd()\n",
    "print('current directory:\\n',working_dir)\n",
    "path = Path(working_dir)\n",
    "parent_folder = path.parent\n",
    "#print('parent folder:', parent_folder)\n",
    "data_file_loc = os.path.join(parent_folder,'data') # to store data we extract later in this notebook"
   ],
   "outputs": [
    {
     "output_type": "stream",
     "name": "stdout",
     "text": [
      "current directory:\n",
      " /Users/f0053cz/Dropbox (Dartmouth College)/postdoc_Dartmouth/HCP/fMRIScipts/code\n"
     ]
    }
   ],
   "metadata": {}
  },
  {
   "cell_type": "markdown",
   "source": [
    "Now let's get working on the dataset. First we need to extract the data per trial + fixations"
   ],
   "metadata": {}
  },
  {
   "cell_type": "code",
   "execution_count": 5,
   "source": [
    "# setting default fontsizes for plots\n",
    "\n",
    "s=16 # CHANGE FONTSIZE HERE\n",
    "\n",
    "plt.rc('font', size=s) #controls default text size\n",
    "plt.rc('axes', titlesize=s) #fontsize of the title\n",
    "plt.rc('axes', labelsize=s) #fontsize of the x and y labels\n",
    "plt.rc('xtick', labelsize=s) #fontsize of the x tick labels\n",
    "plt.rc('ytick', labelsize=s) #fontsize of the y tick labels\n",
    "plt.rc('legend', fontsize=s) #fontsize of the legend\n",
    "#import matplotlib as mpl\n",
    "#mpl.rcParams['font.weight']= 'normal'\n"
   ],
   "outputs": [],
   "metadata": {}
  },
  {
   "cell_type": "code",
   "execution_count": 6,
   "source": [
    "# order of movies - constant across subjects. useful to display while running analyses\n",
    "vid_names = {}\n",
    "movie_types = [1,0,0,1,0,1,1,0,1,0] # based on general responses. 1 is for social, 0 for nonsocial\n",
    "vid_joined = [\"COAXING-B\", \"BILLIARD-A\", \"DRIFTING-A\", \"Fishing\", \"Random mechanical\",\"Scaring\", \"SEDUCING-B\", \"STAR-A\", \"SURPRISING-B\", \"TENNIS-A\"]\n",
    "vid_joined"
   ],
   "outputs": [
    {
     "output_type": "execute_result",
     "data": {
      "text/plain": [
       "['COAXING-B',\n",
       " 'BILLIARD-A',\n",
       " 'DRIFTING-A',\n",
       " 'Fishing',\n",
       " 'Random mechanical',\n",
       " 'Scaring',\n",
       " 'SEDUCING-B',\n",
       " 'STAR-A',\n",
       " 'SURPRISING-B',\n",
       " 'TENNIS-A']"
      ]
     },
     "metadata": {},
     "execution_count": 6
    }
   ],
   "metadata": {}
  },
  {
   "cell_type": "code",
   "execution_count": 7,
   "source": [
    "#suff= ' '\n",
    "suff = '_corrected'"
   ],
   "outputs": [],
   "metadata": {}
  },
  {
   "cell_type": "code",
   "execution_count": 8,
   "source": [
    "# timepts_indiv_movie = file with TRs within run to be selected for each movie (including a few fixation TRs at the start and end),\n",
    "# vid_start_rel_tr = the TR at which the movie begins within each timecourse snippet\n",
    "# details in 1_1_create_regressors.ipynb\n",
    "[timepts_indiv_movie,vid_start_rel_tr] = np.load(os.path.join(data_file_loc,'Video_TRs.npy'),allow_pickle=True)\n",
    "l_task = 28 # lenght of experient = 20 seconds or 28 TRs\n",
    "tcs_run_z = np.load(os.path.join(data_file_loc,'timecourses_run_norm',f'timecourse-all-movies_zscorenorm{suff}.npy'))  # movie wise timecourses from tr-14:tr+14\n",
    "tcs_run_z.shape"
   ],
   "outputs": [
    {
     "output_type": "execute_result",
     "data": {
      "text/plain": [
       "(1049, 268, 56, 10)"
      ]
     },
     "metadata": {},
     "execution_count": 8
    }
   ],
   "metadata": {}
  },
  {
   "cell_type": "code",
   "execution_count": 9,
   "source": [
    "tcs_trial_z = np.load(os.path.join(data_file_loc,'timecourses_trial_norm',f'timecourse-all-movies_zscorenorm{suff}.npy'))  # movie wise timecourses from tr-14:tr+14\n",
    "tcs_trial_z.shape"
   ],
   "outputs": [
    {
     "output_type": "execute_result",
     "data": {
      "text/plain": [
       "(1049, 268, 56, 10)"
      ]
     },
     "metadata": {},
     "execution_count": 9
    }
   ],
   "metadata": {}
  },
  {
   "cell_type": "code",
   "execution_count": 11,
   "source": [
    "dir_name_beh = '/Users/f0053cz/Dropbox (Dartmouth College)/postdoc_Dartmouth/HCP/BehaviorAnalyses/Documented scripts/data/'\n",
    "beh_data = pd.read_csv(dir_name_beh + 'hcp_social_behav_for_ddm_stim-coding_corrected.csv')\n",
    "beh_data.loc[beh_data['subj_idx']==subID[1],:]"
   ],
   "outputs": [
    {
     "output_type": "execute_result",
     "data": {
      "text/html": [
       "<div>\n",
       "<style scoped>\n",
       "    .dataframe tbody tr th:only-of-type {\n",
       "        vertical-align: middle;\n",
       "    }\n",
       "\n",
       "    .dataframe tbody tr th {\n",
       "        vertical-align: top;\n",
       "    }\n",
       "\n",
       "    .dataframe thead th {\n",
       "        text-align: right;\n",
       "    }\n",
       "</style>\n",
       "<table border=\"1\" class=\"dataframe\">\n",
       "  <thead>\n",
       "    <tr style=\"text-align: right;\">\n",
       "      <th></th>\n",
       "      <th>subj_idx</th>\n",
       "      <th>stim</th>\n",
       "      <th>movie</th>\n",
       "      <th>rt</th>\n",
       "      <th>response</th>\n",
       "    </tr>\n",
       "  </thead>\n",
       "  <tbody>\n",
       "    <tr>\n",
       "      <th>1909</th>\n",
       "      <td>553344</td>\n",
       "      <td>Mental</td>\n",
       "      <td>Scaring.AVI</td>\n",
       "      <td>1.096</td>\n",
       "      <td>1</td>\n",
       "    </tr>\n",
       "    <tr>\n",
       "      <th>1910</th>\n",
       "      <td>553344</td>\n",
       "      <td>Mental</td>\n",
       "      <td>SEDUCING-B.AVI</td>\n",
       "      <td>0.792</td>\n",
       "      <td>1</td>\n",
       "    </tr>\n",
       "    <tr>\n",
       "      <th>1911</th>\n",
       "      <td>553344</td>\n",
       "      <td>Random</td>\n",
       "      <td>STAR-A.AVI</td>\n",
       "      <td>0.731</td>\n",
       "      <td>0</td>\n",
       "    </tr>\n",
       "    <tr>\n",
       "      <th>1912</th>\n",
       "      <td>553344</td>\n",
       "      <td>Mental</td>\n",
       "      <td>SURPRISING-B.AVI</td>\n",
       "      <td>1.536</td>\n",
       "      <td>1</td>\n",
       "    </tr>\n",
       "    <tr>\n",
       "      <th>1913</th>\n",
       "      <td>553344</td>\n",
       "      <td>Random</td>\n",
       "      <td>TENNIS-A.AVI</td>\n",
       "      <td>0.864</td>\n",
       "      <td>0</td>\n",
       "    </tr>\n",
       "    <tr>\n",
       "      <th>4807</th>\n",
       "      <td>553344</td>\n",
       "      <td>Mental</td>\n",
       "      <td>COAXING-B.AVI</td>\n",
       "      <td>1.066</td>\n",
       "      <td>1</td>\n",
       "    </tr>\n",
       "    <tr>\n",
       "      <th>4808</th>\n",
       "      <td>553344</td>\n",
       "      <td>Random</td>\n",
       "      <td>BILLIARD-A.AVI</td>\n",
       "      <td>1.035</td>\n",
       "      <td>0</td>\n",
       "    </tr>\n",
       "    <tr>\n",
       "      <th>4809</th>\n",
       "      <td>553344</td>\n",
       "      <td>Random</td>\n",
       "      <td>DRIFTING-A.AVI</td>\n",
       "      <td>0.984</td>\n",
       "      <td>0</td>\n",
       "    </tr>\n",
       "    <tr>\n",
       "      <th>4810</th>\n",
       "      <td>553344</td>\n",
       "      <td>Mental</td>\n",
       "      <td>Fishing.AVI</td>\n",
       "      <td>0.822</td>\n",
       "      <td>1</td>\n",
       "    </tr>\n",
       "    <tr>\n",
       "      <th>4811</th>\n",
       "      <td>553344</td>\n",
       "      <td>Random</td>\n",
       "      <td>Random mechanical.AVI</td>\n",
       "      <td>0.880</td>\n",
       "      <td>0</td>\n",
       "    </tr>\n",
       "  </tbody>\n",
       "</table>\n",
       "</div>"
      ],
      "text/plain": [
       "      subj_idx    stim                  movie     rt  response\n",
       "1909    553344  Mental            Scaring.AVI  1.096         1\n",
       "1910    553344  Mental         SEDUCING-B.AVI  0.792         1\n",
       "1911    553344  Random             STAR-A.AVI  0.731         0\n",
       "1912    553344  Mental       SURPRISING-B.AVI  1.536         1\n",
       "1913    553344  Random           TENNIS-A.AVI  0.864         0\n",
       "4807    553344  Mental          COAXING-B.AVI  1.066         1\n",
       "4808    553344  Random         BILLIARD-A.AVI  1.035         0\n",
       "4809    553344  Random         DRIFTING-A.AVI  0.984         0\n",
       "4810    553344  Mental            Fishing.AVI  0.822         1\n",
       "4811    553344  Random  Random mechanical.AVI  0.880         0"
      ]
     },
     "metadata": {},
     "execution_count": 11
    }
   ],
   "metadata": {}
  },
  {
   "cell_type": "markdown",
   "source": [
    "# A la traditional-GLM analysis: BOLD timecourse = f(movie)\n",
    "\n",
    "- The GLM is done at the trial level i.e., each timecourse spans from t-14 to t+28 +14 (if t is the onset TR, except movie 1)\n",
    "\n",
    "- first analysis is simple - for each movie, node and subject, we create a block regressor including the movie time windows + fixations before and after it. Then we fit the equation: BOLD = b0+b1*stimPresence, and compare b1 across subjects responses etc. (stimPresence = 1 during the video block and 0 otherwise)\n",
    "- along with that, a parallel analysis uses a slope regressor indicating changes across time: BOLD = b0+b1*stimTime\n"
   ],
   "metadata": {}
  },
  {
   "cell_type": "markdown",
   "source": [
    "### Defining the HRF"
   ],
   "metadata": {}
  },
  {
   "cell_type": "code",
   "execution_count": 12,
   "source": [
    "#defining the hrf\n",
    "from nltools.external import glover_hrf\n",
    "\n",
    "tr = .72\n",
    "#hrf function\n",
    "hrf = glover_hrf(tr, oversampling=1)\n",
    "plt.plot(hrf, linewidth=3)\n",
    "plt.ylabel('Intensity', fontsize=18)\n",
    "plt.xlabel('Time', fontsize=18)"
   ],
   "outputs": [
    {
     "output_type": "execute_result",
     "data": {
      "text/plain": [
       "Text(0.5, 0, 'Time')"
      ]
     },
     "metadata": {},
     "execution_count": 12
    },
    {
     "output_type": "display_data",
     "data": {
      "image/png": "[encoded data removed]",
      "text/plain": [
       "<Figure size 432x288 with 1 Axes>"
      ]
     },
     "metadata": {
      "needs_background": "light"
     }
    }
   ],
   "metadata": {}
  },
  {
   "cell_type": "markdown",
   "source": [
    "## Creating the convolved block and slope regressors"
   ],
   "metadata": {}
  },
  {
   "cell_type": "code",
   "execution_count": 13,
   "source": [
    "# function needed for the GLM\n",
    "from sklearn.linear_model import LinearRegression\n",
    "from multiprocessing import Pool\n",
    "from joblib import cpu_count"
   ],
   "outputs": [],
   "metadata": {}
  },
  {
   "cell_type": "code",
   "execution_count": 14,
   "source": [
    "# illustrating the convolution\n",
    "plt.figure(1,figsize = (10,5))\n",
    "for vid_no in [0,1,5,6]:\n",
    "    reg_block = np.zeros((len(timepts_indiv_movie[vid_no]),))\n",
    "    reg_slope = np.zeros_like(reg_block)\n",
    "\n",
    "    inds_block = np.arange(vid_start_rel_tr[vid_no]+1,vid_start_rel_tr[vid_no]+l_task+1)\n",
    "    reg_block[inds_block] = 1 \n",
    "    reg_block = np.convolve(reg_block, hrf)[:len(reg_block)]\n",
    "\n",
    "    inds_slope = np.arange(vid_start_rel_tr[vid_no],vid_start_rel_tr[vid_no]+l_task+1)\n",
    "    reg_slope[inds_slope] = np.linspace(0,1,len(inds_slope))\n",
    "    reg_slope = np.convolve(reg_slope, hrf)[:len(reg_slope)]\n",
    "    \n",
    "    if vid_no < 5:\n",
    "        plt.subplot(1,2,1)\n",
    "    else:\n",
    "        plt.subplot(1,2,2)\n",
    "\n",
    "    if vid_no%5==0:\n",
    "        plt.plot(reg_block,label = f'movie{vid_no}')\n",
    "        plt.plot(reg_slope,label = f'movie{vid_no}')\n",
    "    if vid_no%5!=0:\n",
    "        plt.plot(reg_block,label = f'movie{vid_no}')\n",
    "        plt.plot(reg_slope,label = f'movie{vid_no}')\n",
    "    plt.legend()"
   ],
   "outputs": [
    {
     "output_type": "display_data",
     "data": {
      "image/png": "[encoded data removed]",
      "text/plain": [
       "<Figure size 720x360 with 2 Axes>"
      ]
     },
     "metadata": {
      "needs_background": "light"
     }
    }
   ],
   "metadata": {}
  },
  {
   "cell_type": "markdown",
   "source": [
    "### GLM\n",
    "\n",
    "- Next,we perform a linear regression for each subject, movie (trial) and node. This takes about 3-4mins, so skip to quickly load data stored previously\n"
   ],
   "metadata": {}
  },
  {
   "cell_type": "code",
   "execution_count": 15,
   "source": [
    "vid_start_rel_tr"
   ],
   "outputs": [
    {
     "output_type": "execute_result",
     "data": {
      "text/plain": [
       "array([6, 13, 13, 13, 13, 6, 13, 13, 13, 13], dtype=object)"
      ]
     },
     "metadata": {},
     "execution_count": 15
    }
   ],
   "metadata": {}
  },
  {
   "cell_type": "code",
   "execution_count": 42,
   "source": [
    "# functions that will be parallelized across nodes. For use in the next cell\n",
    "def lm_estimate_blockreg(Y):\n",
    "    # function to perform a linear regression using a block regressor and to return the reg. coefft.\n",
    "    # dims of Y = timecourse + movie ind\n",
    "    # not used in the paper because slope regressors were better\n",
    "    reg_block = np.zeros((len(timepts_indiv_movie[movie_ind]),))\n",
    "    inds = np.arange(vid_start_rel_tr[movie_ind]+1,vid_start_rel_tr[movie_ind]+l_task+1) # from the image index 1 (i.e., first TR ATFER stim onset)\n",
    "    reg_block[inds] = 1 \n",
    "    reg_block = np.convolve(reg_block, hrf)[:len(reg_block)]\n",
    "    reg_block = reg_block.reshape(-1, 1)\n",
    "    \n",
    "    model = LinearRegression().fit(reg_block, Y) # block regressor\n",
    "    return model.coef_[0] \n",
    "\n",
    "def lm_estimate_slopereg(Y):\n",
    "    # function to perform a linear regression using  an ascending (slope) regressor and to return the reg. coefft.\n",
    "    # dims of Y = timecourse + movie ind\n",
    "    # USED IN THE PAPER\n",
    "    if len(np.where(np.isnan(Y))[0])==0:\n",
    "        reg_slope = np.zeros((len(timepts_indiv_movie[movie_ind]),))\n",
    "        inds = np.arange(vid_start_rel_tr[movie_ind],vid_start_rel_tr[movie_ind]+l_task+1) # from the image index 0 (i.e., first TR BEFORE stim onset)\n",
    "        # to image index 1+28\n",
    "        reg_slope[inds] = np.linspace(0,1,len(inds))\n",
    "        reg_slope = np.convolve(reg_slope, hrf)[:len(reg_slope)]\n",
    "        reg_slope = reg_slope.reshape(-1, 1)\n",
    "        \n",
    "        model = LinearRegression().fit(reg_slope, Y) # slope regressor\n",
    "        return model.coef_[0] \n",
    "    else:\n",
    "        return np.nan\n",
    "    "
   ],
   "outputs": [],
   "metadata": {}
  },
  {
   "cell_type": "code",
   "execution_count": 43,
   "source": [
    "# verifying timepts\n",
    "plt.figure(1,figsize=(5,3))\n",
    "s=143\n",
    "movie_ind = 0\n",
    "plt.vlines(vid_start_rel_tr[movie_ind],-1,3,color='k')\n",
    "if movie_ind%5 ==0:\n",
    "    timepts = np.arange(49)\n",
    "else:\n",
    "    timepts = np.arange(56)\n",
    "plt.xlim(0,56)\n",
    "lm_estimate_slopereg(tcs_run_z[s,0,timepts,movie_ind])"
   ],
   "outputs": [
    {
     "output_type": "execute_result",
     "data": {
      "text/plain": [
       "nan"
      ]
     },
     "metadata": {},
     "execution_count": 43
    },
    {
     "output_type": "display_data",
     "data": {
      "image/png": "[encoded data removed]",
      "text/plain": [
       "<Figure size 360x216 with 1 Axes>"
      ]
     },
     "metadata": {
      "needs_background": "light"
     }
    }
   ],
   "metadata": {}
  },
  {
   "cell_type": "code",
   "execution_count": 48,
   "source": [
    "def linReg(dat,fileName,regType):\n",
    "    coef_ = np.empty((dat.shape[0],dat.shape[1])) # variable to store the regression coeffts or beta estimates for each subject and row\n",
    "    start = time.time()\n",
    "    parallelize=1\n",
    "    if __name__ == '__main__':\n",
    "        pool = Pool(processes=cpu_count()) # helps to parallelize processing\n",
    "\n",
    "    print('movie_ind:',movie_ind)\n",
    "    for s in range(dat.shape[0]): # number of subjects\n",
    "        # print(s)\n",
    "        if s%200 == 0:\n",
    "            now = time.time()\n",
    "            print(f'sub:{s}, time elapsed:{(now - start)/60:.2f}mins')\n",
    "        tcs = [y for y in dat[s,:,:]] # list of length nnodes (268), each element of the list is a [32,] timcourse array\n",
    "        if regType == 'block':\n",
    "            coef_[s,:] = pool.map(lm_estimate_blockreg,tcs) # estimate returned as a list of size 268\n",
    "        elif regType == 'slope':\n",
    "            if parallelize:\n",
    "                coef_[s,:] = pool.map(lm_estimate_slopereg,tcs) # estimate returned as a list of size 268\n",
    "            else:\n",
    "                for n in range(268):\n",
    "                    coef_[s,n] = lm_estimate_slopereg(tcs[n]) # estimate returned as a list of size 268\n",
    "        \n",
    "    now = time.time()\n",
    "    print(f'Done.total time:{(now-start)/60:.2f}mins')\n",
    "    np.save(fileName,coef_)\n",
    "    return coef_"
   ],
   "outputs": [],
   "metadata": {}
  },
  {
   "cell_type": "markdown",
   "source": [
    "- estimating trial wise regressors to do an all movies social > unsure > nonsocial analysis in 2B_2_ fmri....soc_v_unsure_v_nonsocial.ipynb"
   ],
   "metadata": {}
  },
  {
   "cell_type": "markdown",
   "source": [
    "## Estimating regression coeffts"
   ],
   "metadata": {}
  },
  {
   "cell_type": "markdown",
   "source": [
    "### For within-movie analyses- movie (RAND, FISH etc)"
   ],
   "metadata": {}
  },
  {
   "cell_type": "code",
   "execution_count": 47,
   "source": [
    "for movie_ind in range(10):\n",
    "    print(timepts_indiv_movie[movie_ind].shape[0])"
   ],
   "outputs": [
    {
     "output_type": "stream",
     "name": "stdout",
     "text": [
      "49\n",
      "56\n",
      "56\n",
      "56\n",
      "56\n",
      "49\n",
      "56\n",
      "56\n",
      "56\n",
      "56\n"
     ]
    }
   ],
   "metadata": {}
  },
  {
   "cell_type": "code",
   "execution_count": 49,
   "source": [
    "# Slope regressor, run norm (bill,fishing, rand, , tennis (since drifting looked weird))\n",
    "movie_inds = list(np.arange(10))\n",
    "reg_slope = reg_slope.reshape((-1, 1))\n",
    "coef_slopereg_runnorm= np.empty((tcs_run_z.shape[0],tcs_run_z.shape[1],len(movie_inds)))\n",
    "coef_slopereg_runnorm[:] = np.nan\n",
    "for i,movie_ind in enumerate(movie_inds):\n",
    "    print('\\nSlope','runnorm,',vid_joined[movie_ind])\n",
    "    ts = np.arange(timepts_indiv_movie[movie_ind].shape[0]) # 0-49 or 0-56\n",
    "    fileName = os.path.join(data_file_loc,'coefs_run_norm','slope_reg',f'coef_slopereg_runnorm_{vid_joined[movie_ind]}{suff}.npy')\n",
    "    coef_slopereg_runnorm[:,:,i] = linReg(tcs_run_z[: ,: , ts, movie_ind], fileName,'slope')\n",
    "print('\\n\\nData saved on/at:',datetime.now()) # cell run at"
   ],
   "outputs": [
    {
     "output_type": "stream",
     "name": "stdout",
     "text": [
      "\n",
      "Slope runnorm, COAXING-B\n",
      "movie_ind: 0\n",
      "sub:0, time elapsed:0.00mins\n",
      "sub:200, time elapsed:0.08mins\n",
      "sub:400, time elapsed:0.17mins\n",
      "sub:600, time elapsed:0.26mins\n",
      "sub:800, time elapsed:0.36mins\n",
      "sub:1000, time elapsed:0.45mins\n",
      "Done.total time:0.48mins\n",
      "\n",
      "Slope runnorm, BILLIARD-A\n",
      "movie_ind: 1\n",
      "sub:0, time elapsed:0.00mins\n",
      "sub:200, time elapsed:0.11mins\n",
      "sub:400, time elapsed:0.23mins\n",
      "sub:600, time elapsed:0.33mins\n",
      "sub:800, time elapsed:0.44mins\n",
      "sub:1000, time elapsed:0.56mins\n",
      "Done.total time:0.58mins\n",
      "\n",
      "Slope runnorm, DRIFTING-A\n",
      "movie_ind: 2\n",
      "sub:0, time elapsed:0.00mins\n",
      "sub:200, time elapsed:0.11mins\n",
      "sub:400, time elapsed:0.20mins\n",
      "sub:600, time elapsed:0.29mins\n",
      "sub:800, time elapsed:0.39mins\n",
      "sub:1000, time elapsed:0.49mins\n",
      "Done.total time:0.52mins\n",
      "\n",
      "Slope runnorm, Fishing\n",
      "movie_ind: 3\n",
      "sub:0, time elapsed:0.00mins\n",
      "sub:200, time elapsed:0.10mins\n",
      "sub:400, time elapsed:0.20mins\n",
      "sub:600, time elapsed:0.29mins\n",
      "sub:800, time elapsed:0.39mins\n",
      "sub:1000, time elapsed:0.48mins\n",
      "Done.total time:0.50mins\n",
      "\n",
      "Slope runnorm, Random mechanical\n",
      "movie_ind: 4\n",
      "sub:0, time elapsed:0.00mins\n",
      "sub:200, time elapsed:0.10mins\n",
      "sub:400, time elapsed:0.20mins\n",
      "sub:600, time elapsed:0.29mins\n",
      "sub:800, time elapsed:0.39mins\n",
      "sub:1000, time elapsed:0.48mins\n",
      "Done.total time:0.50mins\n",
      "\n",
      "Slope runnorm, Scaring\n",
      "movie_ind: 5\n",
      "sub:0, time elapsed:0.00mins\n",
      "sub:200, time elapsed:0.11mins\n",
      "sub:400, time elapsed:0.20mins\n",
      "sub:600, time elapsed:0.30mins\n",
      "sub:800, time elapsed:0.40mins\n",
      "sub:1000, time elapsed:0.50mins\n",
      "Done.total time:0.52mins\n",
      "\n",
      "Slope runnorm, SEDUCING-B\n",
      "movie_ind: 6\n",
      "sub:0, time elapsed:0.00mins\n",
      "sub:200, time elapsed:0.10mins\n",
      "sub:400, time elapsed:0.19mins\n",
      "sub:600, time elapsed:0.29mins\n",
      "sub:800, time elapsed:0.38mins\n",
      "sub:1000, time elapsed:0.48mins\n",
      "Done.total time:0.50mins\n",
      "\n",
      "Slope runnorm, STAR-A\n",
      "movie_ind: 7\n",
      "sub:0, time elapsed:0.00mins\n",
      "sub:200, time elapsed:0.10mins\n",
      "sub:400, time elapsed:0.18mins\n",
      "sub:600, time elapsed:0.28mins\n",
      "sub:800, time elapsed:0.37mins\n",
      "sub:1000, time elapsed:0.47mins\n",
      "Done.total time:0.49mins\n",
      "\n",
      "Slope runnorm, SURPRISING-B\n",
      "movie_ind: 8\n",
      "sub:0, time elapsed:0.00mins\n",
      "sub:200, time elapsed:0.10mins\n",
      "sub:400, time elapsed:0.19mins\n",
      "sub:600, time elapsed:0.28mins\n",
      "sub:800, time elapsed:0.37mins\n",
      "sub:1000, time elapsed:0.47mins\n",
      "Done.total time:0.49mins\n",
      "\n",
      "Slope runnorm, TENNIS-A\n",
      "movie_ind: 9\n",
      "sub:0, time elapsed:0.00mins\n",
      "sub:200, time elapsed:0.11mins\n",
      "sub:400, time elapsed:0.20mins\n",
      "sub:600, time elapsed:0.30mins\n",
      "sub:800, time elapsed:0.39mins\n",
      "sub:1000, time elapsed:0.48mins\n",
      "Done.total time:0.50mins\n",
      "\n",
      "\n",
      "Data saved on/at: 2022-03-13 21:48:20.318779\n"
     ]
    }
   ],
   "metadata": {}
  },
  {
   "cell_type": "markdown",
   "source": [
    "### coax/bill"
   ],
   "metadata": {}
  },
  {
   "cell_type": "code",
   "execution_count": 36,
   "source": [
    "# Slope regressor, trial-norm data (coax/bill analyses)\n",
    "movie_inds = [0,1]\n",
    "coef_slopereg_trialnorm = np.empty((tcs_trial_z.shape[0],tcs_trial_z.shape[1],len(movie_inds)))\n",
    "coef_slopereg_trialnorm[:] = np.nan\n",
    "for i,movie_ind in enumerate(movie_inds):\n",
    "    \n",
    "    print('Slope','trial norm,' ,vid_joined[movie_ind])\n",
    "    fileName = os.path.join(data_file_loc,'coefs_trial_norm','slope_reg',f'coef_slopereg_trialnorm_{vid_joined[movie_ind]}{suff}.npy')\n",
    "    print(fileName)\n",
    "    \n",
    "    ts = np.arange(timepts_indiv_movie[movie_ind].shape[0]) # 0-49 or 0-56\n",
    "    coef_slopereg_trialnorm[:,:,i] = linReg(tcs_trial_z[:,:,ts,movie_ind],fileName,'slope')"
   ],
   "outputs": [
    {
     "output_type": "stream",
     "name": "stdout",
     "text": [
      "Slope trial norm, COAXING-B\n",
      "/Users/f0053cz/Dropbox (Dartmouth College)/postdoc_Dartmouth/HCP/fMRIScipts/data/coefs_trial_norm/slope_reg/coef_slopereg_trialnorm_COAXING-B_corrected.npy\n",
      "movie_ind: 0\n",
      "sub:0, time elapsed:0.00mins\n",
      "nan:nan:nan:nan:nan:nan:nan:nan:        4949494949494949\n",
      "\n",
      "\n",
      "\n",
      "\n",
      "\n",
      "\n",
      "\n",
      "nan:nan:nan:nan:nan:nan:nan:nan:        4949494949494949\n",
      "\n",
      "\n",
      "\n",
      "\n",
      "\n",
      "\n",
      "\n",
      "nan:nan:nan:nan:nan:nan:nan:nan:        4949494949494949\n",
      "\n",
      "\n",
      "\n",
      "\n",
      "\n",
      "\n",
      "\n",
      "nan:nan:nan:nan:nan:nan:nan:nan:        4949494949494949\n",
      "\n",
      "\n",
      "\n",
      "\n",
      "\n",
      "\n",
      "\n",
      "nan:nan:nan:nan:nan:nan:nan:nan:        4949494949494949\n",
      "\n",
      "\n",
      "\n",
      "\n",
      "\n",
      "\n",
      "\n",
      "nan:nan:nan:nan:  nan:nan:  4949 4949\n",
      "\n",
      "49\n",
      "\n",
      "nan:nan:nan:\n",
      "  nan:  nan:49494949\n",
      " \n",
      "\n",
      "\n",
      "49nan:nan:nan:\n",
      " nan:  nan: 494949 49\n",
      "\n",
      "\n",
      "\n",
      "49nan:nan:nan:nan:\n",
      "   4949 nan:49\n",
      "\n",
      " \n",
      "49nan:49nan:nan:\n",
      "  \n",
      " nan:494949nan: \n",
      "\n",
      "\n",
      " nan:49nan:nan:49\n",
      "   49nan:\n",
      "49\n",
      "49 nan:\n",
      "nan:49\n",
      "  nan:\n",
      "nan:49 49nan: \n",
      "\n",
      "49 nan:nan:49\n",
      "  \n",
      "49nan:nan:4949\n",
      " \n",
      "nan:\n",
      " nan:49 49nan: \n",
      "\n",
      "49 49nan:49\n",
      "nan: \n",
      "49\n",
      "nan:nan:  nan:\n",
      "  49nan: 4949\n",
      " 49\n",
      "nan:\n",
      "nan:nan:  49 \n",
      "\n",
      "4949nan:49nan:\n",
      "nan:\n",
      "nan:nan: 49nan: \n",
      " 49  49\n",
      " 49\n",
      "\n",
      "nan:49\n",
      "nan:nan: nan:49 4949 nan:49\n",
      "\n",
      "49\n",
      "nan:\n",
      "nan: nan:\n",
      "  \n",
      "49  49nan:\n",
      "49\n",
      "\n",
      "49nan:nan:nan:nan:49nan:   494949 \n",
      " \n",
      "\n",
      "\n",
      " \n",
      "nan:4949nan:nan:nan: nan:49\n",
      " 49  \n",
      " 49\n",
      "\n",
      "49nan:49\n",
      "nan:\n",
      "nan:49nan:nan: nan: \n",
      "  49\n",
      " 49nan:\n",
      "4949\n",
      " 49nan:\n",
      "nan:nan: \n",
      " 49nan: \n",
      "49 49nan: 49\n",
      "nan:\n",
      "49\n",
      "\n",
      " 49nan:\n",
      "nan: nan:nan: 49  49nan:49\n",
      "\n",
      "49\n",
      " nan:\n",
      "nan: \n",
      "49 nan:49 nan:nan:4949\n",
      "49  \n",
      "\n",
      " \n",
      "\n",
      "nan:4949nan:nan:nan:\n",
      "49 nan:  nan:49\n",
      "49 \n",
      "49 49\n",
      "\n",
      "nan: nan:\n",
      "\n",
      "nan:49 nan: nan: 4949\n",
      "  nan:4949\n",
      "49 nan:\n",
      "49\n",
      "\n",
      "\n",
      "nan:nan:49 nan:\n",
      " nan: nan:49 49\n",
      "\n",
      "4949nan:  \n",
      "\n",
      "nan:nan: 49\n",
      "49 nan:nan:49\n",
      "  49\n",
      " nan:\n",
      "49\n",
      "49nan:49nan:\n",
      "nan: \n",
      "  \n",
      "nan:nan:nan: 49  49\n",
      "49nan:4949nan:\n",
      " \n",
      " 49nan: \n",
      "nan:4949\n",
      "  nan:\n",
      "49\n",
      "49nan:\n",
      "49nan:nan:\n",
      " \n",
      "\n",
      " nan:  nan:49nan:nan:49 4949 \n",
      "  \n",
      "49\n",
      "\n",
      "49nan:4949nan:\n",
      "nan:nan:\n",
      " \n",
      "\n",
      " nan:  nan:49nan:nan:49 4949\n",
      "   \n",
      "49nan:\n",
      "\n",
      "494949nan:\n",
      " nan:nan:\n",
      "\n",
      "\n",
      " nan:49  nan:nan:nan:49\n",
      "49 49   \n",
      "nan:\n",
      "49\n",
      "494949nan: nan:\n",
      "nan:\n",
      "\n",
      "\n",
      " 49 nan: nan:nan:nan:4949\n",
      " 49   nan:\n",
      "\n",
      "4949\n",
      "4949 nan:nan:\n",
      "\n",
      "nan:\n",
      "\n",
      "49  nan: nan:nan:nan:\n",
      "494949    nan:\n",
      "\n",
      "49\n",
      "494949 nan:nan:nan:\n",
      "\n",
      "\n",
      "\n",
      "49   nan:nan:nan:nan:4949\n",
      " 49   \n",
      "\n",
      "nan:49\n",
      "4949nan:49 nan:\n",
      "nan:\n",
      "\n",
      "\n",
      " 49  nan:nan:\n",
      "494949  nan:\n",
      "\n",
      "\n",
      "4949nan: nan:nan:\n",
      "\n",
      " 49  49nan:nan:4949\n",
      "\n",
      "  \n",
      "\n",
      "nan:49nan:49nan: nan:\n",
      "\n",
      "   49nan:49nan:4949\n",
      " \n",
      " \n",
      "\n",
      "nan:nan:4949nan:nan:\n",
      "\n",
      "    nan:49nan:494949 \n",
      " \n",
      "\n",
      "nan:\n",
      "4949nan:nan:nan: \n",
      "\n",
      "   49nan:49nan:4949\n",
      "\n",
      " \n",
      " \n",
      "49nan:nan:nan:nan:49\n",
      "    \n",
      "nan:49494949nan:\n",
      "\n",
      " \n",
      " \n",
      "nan:nan:49nan:49nan:  \n",
      "  \n",
      "4949nan:4949nan:\n",
      "\n",
      "\n",
      "\n",
      "  nan:nan:nan:49 49 \n",
      " 4949\n",
      "49\n",
      "\n",
      "nan:\n",
      " nan:49 \n",
      "49\n",
      "sub:200, time elapsed:0.10mins\n",
      "sub:400, time elapsed:0.18mins\n",
      "sub:600, time elapsed:0.28mins\n",
      "sub:800, time elapsed:0.37mins\n",
      "sub:1000, time elapsed:0.46mins\n",
      "Done.total time:0.48mins\n",
      "Slope trial norm, BILLIARD-A\n",
      "/Users/f0053cz/Dropbox (Dartmouth College)/postdoc_Dartmouth/HCP/fMRIScipts/data/coefs_trial_norm/slope_reg/coef_slopereg_trialnorm_BILLIARD-A_corrected.npy\n",
      "movie_ind: 1\n",
      "sub:0, time elapsed:0.00mins\n",
      "sub:200, time elapsed:0.11mins\n",
      "sub:400, time elapsed:0.19mins\n",
      "sub:600, time elapsed:0.29mins\n",
      "sub:800, time elapsed:0.38mins\n",
      "sub:1000, time elapsed:0.48mins\n",
      "Done.total time:0.50mins\n"
     ]
    }
   ],
   "metadata": {}
  },
  {
   "cell_type": "code",
   "execution_count": 70,
   "source": [
    "coef_slopereg_runnorm.shape"
   ],
   "outputs": [
    {
     "output_type": "execute_result",
     "data": {
      "text/plain": [
       "(1049, 268, 10)"
      ]
     },
     "metadata": {},
     "execution_count": 70
    }
   ],
   "metadata": {}
  },
  {
   "cell_type": "code",
   "execution_count": 69,
   "source": [
    "# sanity check: exploring results by plotting heatmaps for each movie (for a couple of subs and nodes)\n",
    "for i,movie_ind in enumerate(movie_inds):\n",
    "    plt.figure(i+1,figsize=(15,3))\n",
    "    plt.suptitle(f'movie {movie_ind}')\n",
    "    plt.subplot(121)\n",
    "    plt.subplot(122)\n",
    "    plt.title('slopereg, runnorm')\n",
    "    sns.heatmap(coef_slopereg_runnorm[:5,:5,i])  "
   ],
   "outputs": [
    {
     "output_type": "display_data",
     "data": {
      "image/png": "[encoded data removed]",
      "text/plain": [
       "<Figure size 1080x216 with 3 Axes>"
      ]
     },
     "metadata": {
      "needs_background": "light"
     }
    },
    {
     "output_type": "display_data",
     "data": {
      "image/png": "[encoded data removed]",
      "text/plain": [
       "<Figure size 1080x216 with 3 Axes>"
      ]
     },
     "metadata": {
      "needs_background": "light"
     }
    }
   ],
   "metadata": {}
  },
  {
   "cell_type": "markdown",
   "source": [
    "looks okay so far"
   ],
   "metadata": {}
  }
 ],
 "metadata": {
  "interpreter": {
   "hash": "30fd9c97283ec1278eec212a8f8afab06ad903f38228c32cacb469eba8e56f4f"
  },
  "kernelspec": {
   "name": "python3",
   "display_name": "Python 3.7.11 64-bit ('py37': conda)"
  },
  "language_info": {
   "codemirror_mode": {
    "name": "ipython",
    "version": 3
   },
   "file_extension": ".py",
   "mimetype": "text/x-python",
   "name": "python",
   "nbconvert_exporter": "python",
   "pygments_lexer": "ipython3",
   "version": "3.7.11"
  }
 },
 "nbformat": 4,
 "nbformat_minor": 4
}