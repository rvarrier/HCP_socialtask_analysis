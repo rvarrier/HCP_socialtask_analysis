{
 "cells": [
  {
   "cell_type": "markdown",
   "source": [
    "# Second-level analysis 2: across movies analyses"
   ],
   "metadata": {}
  },
  {
   "cell_type": "markdown",
   "source": [
    "   ACTIVATE THE PY37 ENVIRONMENT BEFORE USING THIS NOTEBOOK (FOR PYMER4)\n",
    "\n",
    "STEP4: LME of regressors across movies to find how much the slope regressor of each ROI can predict the yes vs no dichotomy\n",
    "\n",
    "TBD: (1) where does unsure fit into this scheme? (2) Sure vs unsure LME across subs?"
   ],
   "metadata": {}
  },
  {
   "cell_type": "code",
   "execution_count": 7,
   "source": [
    "# import packages, check folders\n",
    "#%reset\n",
    "from pathlib import Path\n",
    "import os\n",
    "import numpy as np\n",
    "import h5py\n",
    "import pandas as pd\n",
    "#import imagesc as imagesc #pip install imagesc\n",
    "import matplotlib.pyplot as plt\n",
    "import seaborn as sns\n",
    "from scipy import stats\n",
    "import time\n",
    "import pickle\n",
    "\n",
    "%matplotlib inline\n",
    "\n",
    "working_dir = '/Users/f0053cz/Dropbox (Dartmouth College)/postdoc_Dartmouth/HCP/fMRIScipts/code'\n",
    "#working_dir = os.getcwd()\n",
    "print('current directory:\\n',working_dir)\n",
    "path = Path(working_dir)\n",
    "parent_folder = path.parent\n",
    "#print('parent folder:', parent_folder)\n",
    "data_file_loc = os.path.join(parent_folder,'data') # to store data we extract later in this notebook"
   ],
   "outputs": [
    {
     "output_type": "stream",
     "name": "stdout",
     "text": [
      "current directory:\n",
      " /Users/f0053cz/Dropbox (Dartmouth College)/postdoc_Dartmouth/HCP/fMRIScipts/code\n"
     ]
    }
   ],
   "metadata": {}
  },
  {
   "cell_type": "code",
   "execution_count": 8,
   "source": [
    "est_movie_slope = np.load(os.path.join(data_file_loc,'betapermovie_slopereg.npy'))\n",
    "responses_slopereg = np.load(os.path.join(data_file_loc,'responses_slopereg.npy'))"
   ],
   "outputs": [],
   "metadata": {}
  },
  {
   "cell_type": "code",
   "execution_count": 9,
   "source": [
    "from pymer4.models import Lmer"
   ],
   "outputs": [
    {
     "output_type": "error",
     "ename": "ModuleNotFoundError",
     "evalue": "No module named 'pymer4'",
     "traceback": [
      "\u001b[0;31m---------------------------------------------------------------------------\u001b[0m",
      "\u001b[0;31mModuleNotFoundError\u001b[0m                       Traceback (most recent call last)",
      "\u001b[0;32m<ipython-input-9-80429e203e8a>\u001b[0m in \u001b[0;36m<module>\u001b[0;34m\u001b[0m\n\u001b[0;32m----> 1\u001b[0;31m \u001b[0;32mfrom\u001b[0m \u001b[0mpymer4\u001b[0m\u001b[0;34m.\u001b[0m\u001b[0mmodels\u001b[0m \u001b[0;32mimport\u001b[0m \u001b[0mLmer\u001b[0m\u001b[0;34m\u001b[0m\u001b[0;34m\u001b[0m\u001b[0m\n\u001b[0m",
      "\u001b[0;31mModuleNotFoundError\u001b[0m: No module named 'pymer4'"
     ]
    }
   ],
   "metadata": {}
  },
  {
   "cell_type": "code",
   "execution_count": 6,
   "source": [
    "# LME for each node\n",
    "nnodes = 268# 268\n",
    "nmovies = 10\n",
    "beta_all = np.zeros((est_movie_slope.shape[0]*nmovies,))\n",
    "responses_all = np.zeros((est_movie_slope.shape[0]*nmovies,))\n",
    "movies_all = np.zeros((est_movie_slope.shape[0]*nmovies,))\n",
    "subs_all = np.zeros((est_movie_slope.shape[0]*nmovies,))\n",
    "estResp_node = np.zeros((nnodes,))\n",
    "pvalResp_node = np.zeros((nnodes,))\n",
    "aicResp_node = np.zeros((nnodes,))\n",
    "for n in range(nnodes):\n",
    "    print('node ',n)\n",
    "    for subj in np.arange(est_movie_slope.shape[0]):\n",
    "        rows = np.arange(subj*nmovies,(subj+1)*nmovies)\n",
    "        beta_all[rows] = est_movie_slope[subj,:,n]\n",
    "        responses_all[rows] = responses_slopereg[subj,:]\n",
    "        movies_all[rows] = np.arange(0,10)\n",
    "        subs_all[rows] = subj\n",
    "\n",
    "    df_node = pd.DataFrame({'Beta': beta_all,'Response': responses_all,'Movie': movies_all, 'SubjID':subs_all})\n",
    "    #print('before:', len(df_node))\n",
    "    df_node = df_node[(df_node['Response']!=-1)& (df_node['Response']!=9)]\n",
    "    #print('after:', len(df_node))\n",
    "    model = Lmer('Response ~ Beta + (1|SubjID) + (1|Movie)', data=df_node, family = \"binomial\") # ff: M/R, prev. trial response, rf:subjID, movie\n",
    "    model.fit(summary = False, verbose = False)\n",
    "    estResp_node[n] = model.coefs['Estimate'][1]\n",
    "    pvalResp_node[n]= model.coefs['P-val'][1]\n",
    "    aicResp_node[n] = model.AIC"
   ],
   "outputs": [
    {
     "output_type": "stream",
     "name": "stdout",
     "text": [
      "node  0\n"
     ]
    },
    {
     "output_type": "error",
     "ename": "NameError",
     "evalue": "name 'Lmer' is not defined",
     "traceback": [
      "\u001b[0;31m---------------------------------------------------------------------------\u001b[0m",
      "\u001b[0;31mNameError\u001b[0m                                 Traceback (most recent call last)",
      "\u001b[0;32m<ipython-input-6-227cbc574765>\u001b[0m in \u001b[0;36m<module>\u001b[0;34m\u001b[0m\n\u001b[1;32m     22\u001b[0m     \u001b[0mdf_node\u001b[0m \u001b[0;34m=\u001b[0m \u001b[0mdf_node\u001b[0m\u001b[0;34m[\u001b[0m\u001b[0;34m(\u001b[0m\u001b[0mdf_node\u001b[0m\u001b[0;34m[\u001b[0m\u001b[0;34m'Response'\u001b[0m\u001b[0;34m]\u001b[0m\u001b[0;34m!=\u001b[0m\u001b[0;34m-\u001b[0m\u001b[0;36m1\u001b[0m\u001b[0;34m)\u001b[0m\u001b[0;34m&\u001b[0m \u001b[0;34m(\u001b[0m\u001b[0mdf_node\u001b[0m\u001b[0;34m[\u001b[0m\u001b[0;34m'Response'\u001b[0m\u001b[0;34m]\u001b[0m\u001b[0;34m!=\u001b[0m\u001b[0;36m9\u001b[0m\u001b[0;34m)\u001b[0m\u001b[0;34m]\u001b[0m\u001b[0;34m\u001b[0m\u001b[0;34m\u001b[0m\u001b[0m\n\u001b[1;32m     23\u001b[0m     \u001b[0;31m#print('after:', len(df_node))\u001b[0m\u001b[0;34m\u001b[0m\u001b[0;34m\u001b[0m\u001b[0;34m\u001b[0m\u001b[0m\n\u001b[0;32m---> 24\u001b[0;31m     \u001b[0mmodel\u001b[0m \u001b[0;34m=\u001b[0m \u001b[0mLmer\u001b[0m\u001b[0;34m(\u001b[0m\u001b[0;34m'Response ~ Beta + (1|SubjID) + (1|Movie)'\u001b[0m\u001b[0;34m,\u001b[0m \u001b[0mdata\u001b[0m\u001b[0;34m=\u001b[0m\u001b[0mdf_node\u001b[0m\u001b[0;34m,\u001b[0m \u001b[0mfamily\u001b[0m \u001b[0;34m=\u001b[0m \u001b[0;34m\"binomial\"\u001b[0m\u001b[0;34m)\u001b[0m \u001b[0;31m# ff: M/R, prev. trial response, rf:subjID, movie\u001b[0m\u001b[0;34m\u001b[0m\u001b[0;34m\u001b[0m\u001b[0m\n\u001b[0m\u001b[1;32m     25\u001b[0m     \u001b[0mmodel\u001b[0m\u001b[0;34m.\u001b[0m\u001b[0mfit\u001b[0m\u001b[0;34m(\u001b[0m\u001b[0msummary\u001b[0m \u001b[0;34m=\u001b[0m \u001b[0;32mFalse\u001b[0m\u001b[0;34m,\u001b[0m \u001b[0mverbose\u001b[0m \u001b[0;34m=\u001b[0m \u001b[0;32mFalse\u001b[0m\u001b[0;34m)\u001b[0m\u001b[0;34m\u001b[0m\u001b[0;34m\u001b[0m\u001b[0m\n\u001b[1;32m     26\u001b[0m     \u001b[0mestResp_node\u001b[0m\u001b[0;34m[\u001b[0m\u001b[0mn\u001b[0m\u001b[0;34m]\u001b[0m \u001b[0;34m=\u001b[0m \u001b[0mmodel\u001b[0m\u001b[0;34m.\u001b[0m\u001b[0mcoefs\u001b[0m\u001b[0;34m[\u001b[0m\u001b[0;34m'Estimate'\u001b[0m\u001b[0;34m]\u001b[0m\u001b[0;34m[\u001b[0m\u001b[0;36m1\u001b[0m\u001b[0;34m]\u001b[0m\u001b[0;34m\u001b[0m\u001b[0;34m\u001b[0m\u001b[0m\n",
      "\u001b[0;31mNameError\u001b[0m: name 'Lmer' is not defined"
     ]
    }
   ],
   "metadata": {}
  },
  {
   "cell_type": "code",
   "execution_count": 4,
   "source": [
    "pd.set_option('display.max_colwidth', None) # so columns are not snipped\n",
    "\n",
    "# loading the Shen atlas labels\n",
    "shen268 = pd.read_csv(os.path.join(data_file_loc,\"shen_dictionary.csv\"))\n",
    "shen268.head()"
   ],
   "outputs": [
    {
     "output_type": "execute_result",
     "data": {
      "text/html": [
       "<div>\n",
       "<style scoped>\n",
       "    .dataframe tbody tr th:only-of-type {\n",
       "        vertical-align: middle;\n",
       "    }\n",
       "\n",
       "    .dataframe tbody tr th {\n",
       "        vertical-align: top;\n",
       "    }\n",
       "\n",
       "    .dataframe thead th {\n",
       "        text-align: right;\n",
       "    }\n",
       "</style>\n",
       "<table border=\"1\" class=\"dataframe\">\n",
       "  <thead>\n",
       "    <tr style=\"text-align: right;\">\n",
       "      <th></th>\n",
       "      <th>1</th>\n",
       "      <th>2</th>\n",
       "      <th>3</th>\n",
       "      <th>4</th>\n",
       "      <th>5</th>\n",
       "      <th>6</th>\n",
       "      <th>7</th>\n",
       "      <th>8</th>\n",
       "      <th>9</th>\n",
       "      <th>10</th>\n",
       "      <th>...</th>\n",
       "      <th>259</th>\n",
       "      <th>260</th>\n",
       "      <th>261</th>\n",
       "      <th>262</th>\n",
       "      <th>263</th>\n",
       "      <th>264</th>\n",
       "      <th>265</th>\n",
       "      <th>266</th>\n",
       "      <th>267</th>\n",
       "      <th>268</th>\n",
       "    </tr>\n",
       "  </thead>\n",
       "  <tbody>\n",
       "    <tr>\n",
       "      <th>0</th>\n",
       "      <td>{'coords': [14.083200000000005, 56.6944, -16.684799999999996], 'name': '92.80% Frontal_Pole; 7.20% Frontal_Medial_Cortex'}</td>\n",
       "      <td>{'coords': [9.599999999999994, 17.61882352941177, -19.53411764705882], 'name': '60.56% Subcallosal_Cortex; 38.73% Frontal_Orbital_Cortex'}</td>\n",
       "      <td>{'coords': [5.270633397312864, 35.03262955854126, -17.5278310940499], 'name': '58.54% Frontal_Medial_Cortex; 34.55% Subcallosal_Cortex'}</td>\n",
       "      <td>{'coords': [15.647840531561457, 34.18604651162792, -22.544850498338867], 'name': '54.15% Frontal_Pole; 41.86% Frontal_Orbital_Cortex'}</td>\n",
       "      <td>{'coords': [8.283887468030684, 46.05882352941177, -1.6700767263427139], 'name': '47.25% Paracingulate_Gyrus; 25.03% Cingulate_Gyrus_anterior_division; 16.35% Frontal_Medial_Cortex; 10.86% Frontal_Pole'}</td>\n",
       "      <td>{'coords': [14.581460674157299, 64.75280898876406, 3.682584269662925], 'name': '100.00% Frontal_Pole'}</td>\n",
       "      <td>{'coords': [30.41914191419142, 54.79537953795381, -3.3267326732673297], 'name': '100.00% Frontal_Pole'}</td>\n",
       "      <td>{'coords': [44.469325153374236, 46.095092024539866, -4.917177914110425], 'name': '99.85% Frontal_Pole'}</td>\n",
       "      <td>{'coords': [28.814814814814817, 51.163163163163176, 18.73473473473473], 'name': '100.00% Frontal_Pole'}</td>\n",
       "      <td>{'coords': [8.521081081081078, 53.28, 23.885405405405407], 'name': '48.54% Frontal_Pole; 32.43% Paracingulate_Gyrus; 19.03% Superior_Frontal_Gyrus'}</td>\n",
       "      <td>...</td>\n",
       "      <td>{'coords': [-10.399527186761233, 10.877068557919614, -8.056737588652481], 'name': '20.66% Subcallosal_Cortex; 19.95% Left_Putamen; 19.83% Left_Accumbens; 14.40% Left_Caudate; 13.81% no_label; 5.67% Frontal_Orbital_Cortex'}</td>\n",
       "      <td>{'coords': [-14.491582491582491, -3.54882154882155, 20.909090909090907], 'name': '55.03% Left_Caudate; 29.53% Left_Lateral_Ventrical; 11.07% Left_Thalamus'}</td>\n",
       "      <td>{'coords': [-24.77079107505071, 5.537525354969574, -0.07302231237322587], 'name': '96.96% Left_Putamen'}</td>\n",
       "      <td>{'coords': [-9.427230046948353, -25.539906103286384, -1.3755868544600958], 'name': '72.56% Left_Thalamus; 21.40% Brain-Stem; 5.58% no_label'}</td>\n",
       "      <td>{'coords': [-4.68474576271187, -10.2406779661017, 5.877966101694909], 'name': '82.71% Left_Thalamus; 13.90% Left_Lateral_Ventrical'}</td>\n",
       "      <td>{'coords': [-11.407792207792212, -25.563636363636363, 14.883116883116884], 'name': '61.82% Left_Thalamus; 31.43% Left_Lateral_Ventrical'}</td>\n",
       "      <td>{'coords': [-4.821052631578951, -21.51157894736842, -15.890526315789472], 'name': '71.16% Brain-Stem; 25.89% no_label'}</td>\n",
       "      <td>{'coords': [-4.227272727272734, -37.89772727272728, -53.26704545454545], 'name': '100.00% Brain-Stem'}</td>\n",
       "      <td>{'coords': [-6.9375, -33.13068181818181, -39.34659090909091], 'name': '99.15% Brain-Stem'}</td>\n",
       "      <td>{'coords': [-5.697885196374628, -18.966767371601208, -36.81570996978852], 'name': '100.00% Brain-Stem'}</td>\n",
       "    </tr>\n",
       "  </tbody>\n",
       "</table>\n",
       "<p>1 rows × 268 columns</p>\n",
       "</div>"
      ],
      "text/plain": [
       "                                                                                                                            1  \\\n",
       "0  {'coords': [14.083200000000005, 56.6944, -16.684799999999996], 'name': '92.80% Frontal_Pole; 7.20% Frontal_Medial_Cortex'}   \n",
       "\n",
       "                                                                                                                                            2  \\\n",
       "0  {'coords': [9.599999999999994, 17.61882352941177, -19.53411764705882], 'name': '60.56% Subcallosal_Cortex; 38.73% Frontal_Orbital_Cortex'}   \n",
       "\n",
       "                                                                                                                                          3  \\\n",
       "0  {'coords': [5.270633397312864, 35.03262955854126, -17.5278310940499], 'name': '58.54% Frontal_Medial_Cortex; 34.55% Subcallosal_Cortex'}   \n",
       "\n",
       "                                                                                                                                        4  \\\n",
       "0  {'coords': [15.647840531561457, 34.18604651162792, -22.544850498338867], 'name': '54.15% Frontal_Pole; 41.86% Frontal_Orbital_Cortex'}   \n",
       "\n",
       "                                                                                                                                                                                                            5  \\\n",
       "0  {'coords': [8.283887468030684, 46.05882352941177, -1.6700767263427139], 'name': '47.25% Paracingulate_Gyrus; 25.03% Cingulate_Gyrus_anterior_division; 16.35% Frontal_Medial_Cortex; 10.86% Frontal_Pole'}   \n",
       "\n",
       "                                                                                                        6  \\\n",
       "0  {'coords': [14.581460674157299, 64.75280898876406, 3.682584269662925], 'name': '100.00% Frontal_Pole'}   \n",
       "\n",
       "                                                                                                         7  \\\n",
       "0  {'coords': [30.41914191419142, 54.79537953795381, -3.3267326732673297], 'name': '100.00% Frontal_Pole'}   \n",
       "\n",
       "                                                                                                         8  \\\n",
       "0  {'coords': [44.469325153374236, 46.095092024539866, -4.917177914110425], 'name': '99.85% Frontal_Pole'}   \n",
       "\n",
       "                                                                                                         9  \\\n",
       "0  {'coords': [28.814814814814817, 51.163163163163176, 18.73473473473473], 'name': '100.00% Frontal_Pole'}   \n",
       "\n",
       "                                                                                                                                                     10  \\\n",
       "0  {'coords': [8.521081081081078, 53.28, 23.885405405405407], 'name': '48.54% Frontal_Pole; 32.43% Paracingulate_Gyrus; 19.03% Superior_Frontal_Gyrus'}   \n",
       "\n",
       "   ...  \\\n",
       "0  ...   \n",
       "\n",
       "                                                                                                                                                                                                                              259  \\\n",
       "0  {'coords': [-10.399527186761233, 10.877068557919614, -8.056737588652481], 'name': '20.66% Subcallosal_Cortex; 19.95% Left_Putamen; 19.83% Left_Accumbens; 14.40% Left_Caudate; 13.81% no_label; 5.67% Frontal_Orbital_Cortex'}   \n",
       "\n",
       "                                                                                                                                                            260  \\\n",
       "0  {'coords': [-14.491582491582491, -3.54882154882155, 20.909090909090907], 'name': '55.03% Left_Caudate; 29.53% Left_Lateral_Ventrical; 11.07% Left_Thalamus'}   \n",
       "\n",
       "                                                                                                        261  \\\n",
       "0  {'coords': [-24.77079107505071, 5.537525354969574, -0.07302231237322587], 'name': '96.96% Left_Putamen'}   \n",
       "\n",
       "                                                                                                                                             262  \\\n",
       "0  {'coords': [-9.427230046948353, -25.539906103286384, -1.3755868544600958], 'name': '72.56% Left_Thalamus; 21.40% Brain-Stem; 5.58% no_label'}   \n",
       "\n",
       "                                                                                                                                    263  \\\n",
       "0  {'coords': [-4.68474576271187, -10.2406779661017, 5.877966101694909], 'name': '82.71% Left_Thalamus; 13.90% Left_Lateral_Ventrical'}   \n",
       "\n",
       "                                                                                                                                         264  \\\n",
       "0  {'coords': [-11.407792207792212, -25.563636363636363, 14.883116883116884], 'name': '61.82% Left_Thalamus; 31.43% Left_Lateral_Ventrical'}   \n",
       "\n",
       "                                                                                                                       265  \\\n",
       "0  {'coords': [-4.821052631578951, -21.51157894736842, -15.890526315789472], 'name': '71.16% Brain-Stem; 25.89% no_label'}   \n",
       "\n",
       "                                                                                                      266  \\\n",
       "0  {'coords': [-4.227272727272734, -37.89772727272728, -53.26704545454545], 'name': '100.00% Brain-Stem'}   \n",
       "\n",
       "                                                                                          267  \\\n",
       "0  {'coords': [-6.9375, -33.13068181818181, -39.34659090909091], 'name': '99.15% Brain-Stem'}   \n",
       "\n",
       "                                                                                                       268  \n",
       "0  {'coords': [-5.697885196374628, -18.966767371601208, -36.81570996978852], 'name': '100.00% Brain-Stem'}  \n",
       "\n",
       "[1 rows x 268 columns]"
      ]
     },
     "metadata": {},
     "execution_count": 4
    }
   ],
   "metadata": {}
  },
  {
   "cell_type": "code",
   "execution_count": 5,
   "source": [
    "# Plotting results and picking out maximum T-scores\n",
    "from nltools.data import Brain_Data\n",
    "from nltools.mask import expand_mask, roi_to_brain\n",
    "\n",
    "vidnames = [\"COAXING-B\", \"BILLIARD-A\", \"DRIFTING-A\", \"Fishing\", \"Random mechanical\", \"Scaring\", \"SEDUCING-B\", \"STAR-A\", \"SURPRISING-B\", \"TENNIS-A\"]\n",
    "lbl = [str.upper(x[0:4]) for x in vidnames]\n",
    "\n",
    "mask = Brain_Data('https://neurovault.org/media/images/8423/shen_2mm_268_parcellation.nii.gz')\n",
    "mask_x = expand_mask(mask)\n",
    "t = estResp_node\n",
    "p = pvalResp_node\n",
    "psig =  np.zeros_like(p)\n",
    "psig[p <= 0.05] = 1\n",
    "tsig = np.multiply(t,psig)\n",
    "tsig = np.array(tsig)\n",
    "img = roi_to_brain(pd.Series(tsig), mask_x)\n",
    "img.plot(colorbar=True, title = 'YesvsNo')\n",
    "\n",
    "rois = np.where(t>=0.8*np.max(t))\n",
    "rois = rois[0]\n",
    "roi_lbl = [\"\" for x in range(len(rois))]\n",
    "ind = -1\n",
    "for node_nr in rois:\n",
    "    ind += 1\n",
    "    roi_lbl[ind] = shen268[str(node_nr+1)][0]\n",
    "max_rois_list = pd.DataFrame({'ROIs': rois+1, 'T-scores': t[rois], 'p-values':p[rois], 'ROINames':roi_lbl})\n",
    "max_rois_list = max_rois_list.sort_values(by = ['T-scores'],ascending = False)\n",
    "max_rois_list = max_rois_list.reset_index()\n",
    "\n",
    "\n",
    "rois = np.where(t<=0.8*np.min(t))\n",
    "rois = rois[0]\n",
    "roi_lbl = [\"\" for x in range(len(rois))]\n",
    "ind = -1\n",
    "for node_nr in rois:\n",
    "    ind += 1\n",
    "    roi_lbl[ind] = shen268[str(node_nr+1)][0]\n",
    "min_rois_list = pd.DataFrame({'ROIs': rois+1, 'T-scores': t[rois], 'p-values':p[rois], 'ROINames':roi_lbl})\n",
    "min_rois_list = min_rois_list.sort_values(by = ['T-scores'],ascending = True)\n",
    "min_rois_list = min_rois_list.reset_index()\n",
    "\n",
    "  \n",
    "print(max_rois_list.head())\n",
    "print(min_rois_list.head())"
   ],
   "outputs": [
    {
     "output_type": "error",
     "ename": "NameError",
     "evalue": "name 'estResp_node' is not defined",
     "traceback": [
      "\u001b[0;31m---------------------------------------------------------------------------\u001b[0m",
      "\u001b[0;31mNameError\u001b[0m                                 Traceback (most recent call last)",
      "\u001b[0;32m<ipython-input-5-6a532d47dfe7>\u001b[0m in \u001b[0;36m<module>\u001b[0;34m\u001b[0m\n\u001b[1;32m      8\u001b[0m \u001b[0mmask\u001b[0m \u001b[0;34m=\u001b[0m \u001b[0mBrain_Data\u001b[0m\u001b[0;34m(\u001b[0m\u001b[0;34m'https://neurovault.org/media/images/8423/shen_2mm_268_parcellation.nii.gz'\u001b[0m\u001b[0;34m)\u001b[0m\u001b[0;34m\u001b[0m\u001b[0;34m\u001b[0m\u001b[0m\n\u001b[1;32m      9\u001b[0m \u001b[0mmask_x\u001b[0m \u001b[0;34m=\u001b[0m \u001b[0mexpand_mask\u001b[0m\u001b[0;34m(\u001b[0m\u001b[0mmask\u001b[0m\u001b[0;34m)\u001b[0m\u001b[0;34m\u001b[0m\u001b[0;34m\u001b[0m\u001b[0m\n\u001b[0;32m---> 10\u001b[0;31m \u001b[0mt\u001b[0m \u001b[0;34m=\u001b[0m \u001b[0mestResp_node\u001b[0m\u001b[0;34m\u001b[0m\u001b[0;34m\u001b[0m\u001b[0m\n\u001b[0m\u001b[1;32m     11\u001b[0m \u001b[0mp\u001b[0m \u001b[0;34m=\u001b[0m \u001b[0mpvalResp_node\u001b[0m\u001b[0;34m\u001b[0m\u001b[0;34m\u001b[0m\u001b[0m\n\u001b[1;32m     12\u001b[0m \u001b[0mpsig\u001b[0m \u001b[0;34m=\u001b[0m  \u001b[0mnp\u001b[0m\u001b[0;34m.\u001b[0m\u001b[0mzeros_like\u001b[0m\u001b[0;34m(\u001b[0m\u001b[0mp\u001b[0m\u001b[0;34m)\u001b[0m\u001b[0;34m\u001b[0m\u001b[0;34m\u001b[0m\u001b[0m\n",
      "\u001b[0;31mNameError\u001b[0m: name 'estResp_node' is not defined"
     ]
    }
   ],
   "metadata": {}
  },
  {
   "cell_type": "code",
   "execution_count": 19,
   "source": [
    "max_rois_list.head()"
   ],
   "outputs": [
    {
     "output_type": "execute_result",
     "data": {
      "text/html": [
       "<div>\n",
       "<style scoped>\n",
       "    .dataframe tbody tr th:only-of-type {\n",
       "        vertical-align: middle;\n",
       "    }\n",
       "\n",
       "    .dataframe tbody tr th {\n",
       "        vertical-align: top;\n",
       "    }\n",
       "\n",
       "    .dataframe thead th {\n",
       "        text-align: right;\n",
       "    }\n",
       "</style>\n",
       "<table border=\"1\" class=\"dataframe\">\n",
       "  <thead>\n",
       "    <tr style=\"text-align: right;\">\n",
       "      <th></th>\n",
       "      <th>ROIs</th>\n",
       "      <th>T-scores</th>\n",
       "      <th>p-values</th>\n",
       "      <th>ROINames</th>\n",
       "    </tr>\n",
       "  </thead>\n",
       "  <tbody>\n",
       "    <tr>\n",
       "      <th>0</th>\n",
       "      <td>65</td>\n",
       "      <td>0.968149</td>\n",
       "      <td>0.000001</td>\n",
       "      <td>{'coords': [59.240374609781476, -43.72736732570239, 8.616024973985432], 'name': '51.09% Middle_Temporal_Gyrus_temporooccipital_part; 26.64% Supramarginal_Gyrus_posterior_division; 12.90% Angular_Gyrus; 6.04% Superior_Temporal_Gyrus_posterior_division'}</td>\n",
       "    </tr>\n",
       "    <tr>\n",
       "      <th>1</th>\n",
       "      <td>74</td>\n",
       "      <td>0.929053</td>\n",
       "      <td>0.000117</td>\n",
       "      <td>{'coords': [45.1231884057971, -74.23913043478261, 2.6062801932367137], 'name': '95.78% Lateral_Occipital_Cortex_inferior_division'}</td>\n",
       "    </tr>\n",
       "    <tr>\n",
       "      <th>2</th>\n",
       "      <td>206</td>\n",
       "      <td>0.929788</td>\n",
       "      <td>0.000006</td>\n",
       "      <td>{'coords': [-43.14384748700172, -70.4263431542461, -13.913344887348352], 'name': '55.19% Lateral_Occipital_Cortex_inferior_division; 29.41% Occipital_Fusiform_Gyrus; 8.65% Temporal_Occipital_Fusiform_Cortex; 6.75% Inferior_Temporal_Gyrus_temporooccipital_part'}</td>\n",
       "    </tr>\n",
       "    <tr>\n",
       "      <th>3</th>\n",
       "      <td>209</td>\n",
       "      <td>1.098929</td>\n",
       "      <td>0.000009</td>\n",
       "      <td>{'coords': [-48.17639429312581, -67.20622568093385, 0.9987029831387844], 'name': '78.86% Lateral_Occipital_Cortex_inferior_division; 15.18% Middle_Temporal_Gyrus_temporooccipital_part; 5.84% Inferior_Temporal_Gyrus_temporooccipital_part'}</td>\n",
       "    </tr>\n",
       "  </tbody>\n",
       "</table>\n",
       "</div>"
      ],
      "text/plain": [
       "   ROIs  T-scores  p-values  \\\n",
       "0    65  0.968149  0.000001   \n",
       "1    74  0.929053  0.000117   \n",
       "2   206  0.929788  0.000006   \n",
       "3   209  1.098929  0.000009   \n",
       "\n",
       "                                                                                                                                                                                                                                                                ROINames  \n",
       "0           {'coords': [59.240374609781476, -43.72736732570239, 8.616024973985432], 'name': '51.09% Middle_Temporal_Gyrus_temporooccipital_part; 26.64% Supramarginal_Gyrus_posterior_division; 12.90% Angular_Gyrus; 6.04% Superior_Temporal_Gyrus_posterior_division'}  \n",
       "1                                                                                                                                    {'coords': [45.1231884057971, -74.23913043478261, 2.6062801932367137], 'name': '95.78% Lateral_Occipital_Cortex_inferior_division'}  \n",
       "2  {'coords': [-43.14384748700172, -70.4263431542461, -13.913344887348352], 'name': '55.19% Lateral_Occipital_Cortex_inferior_division; 29.41% Occipital_Fusiform_Gyrus; 8.65% Temporal_Occipital_Fusiform_Cortex; 6.75% Inferior_Temporal_Gyrus_temporooccipital_part'}  \n",
       "3                         {'coords': [-48.17639429312581, -67.20622568093385, 0.9987029831387844], 'name': '78.86% Lateral_Occipital_Cortex_inferior_division; 15.18% Middle_Temporal_Gyrus_temporooccipital_part; 5.84% Inferior_Temporal_Gyrus_temporooccipital_part'}  "
      ]
     },
     "metadata": {},
     "execution_count": 19
    }
   ],
   "metadata": {}
  },
  {
   "cell_type": "code",
   "execution_count": 20,
   "source": [
    "min_rois_list"
   ],
   "outputs": [
    {
     "output_type": "execute_result",
     "data": {
      "text/html": [
       "<div>\n",
       "<style scoped>\n",
       "    .dataframe tbody tr th:only-of-type {\n",
       "        vertical-align: middle;\n",
       "    }\n",
       "\n",
       "    .dataframe tbody tr th {\n",
       "        vertical-align: top;\n",
       "    }\n",
       "\n",
       "    .dataframe thead th {\n",
       "        text-align: right;\n",
       "    }\n",
       "</style>\n",
       "<table border=\"1\" class=\"dataframe\">\n",
       "  <thead>\n",
       "    <tr style=\"text-align: right;\">\n",
       "      <th></th>\n",
       "      <th>ROIs</th>\n",
       "      <th>T-scores</th>\n",
       "      <th>p-values</th>\n",
       "      <th>ROINames</th>\n",
       "    </tr>\n",
       "  </thead>\n",
       "  <tbody>\n",
       "    <tr>\n",
       "      <th>0</th>\n",
       "      <td>120</td>\n",
       "      <td>-0.445001</td>\n",
       "      <td>0.037943</td>\n",
       "      <td>{'coords': [21.289999999999992, -36.39, 22.400000000000006], 'name': '89.00% Right_Lateral_Ventricle; 9.50% no_label'}</td>\n",
       "    </tr>\n",
       "    <tr>\n",
       "      <th>1</th>\n",
       "      <td>217</td>\n",
       "      <td>-0.538763</td>\n",
       "      <td>0.011572</td>\n",
       "      <td>{'coords': [-23.648648648648646, -41.29054054054055, 19.858108108108112], 'name': '65.54% Left_Lateral_Ventrical; 33.78% no_label'}</td>\n",
       "    </tr>\n",
       "  </tbody>\n",
       "</table>\n",
       "</div>"
      ],
      "text/plain": [
       "   ROIs  T-scores  p-values  \\\n",
       "0   120 -0.445001  0.037943   \n",
       "1   217 -0.538763  0.011572   \n",
       "\n",
       "                                                                                                                              ROINames  \n",
       "0               {'coords': [21.289999999999992, -36.39, 22.400000000000006], 'name': '89.00% Right_Lateral_Ventricle; 9.50% no_label'}  \n",
       "1  {'coords': [-23.648648648648646, -41.29054054054055, 19.858108108108112], 'name': '65.54% Left_Lateral_Ventrical; 33.78% no_label'}  "
      ]
     },
     "metadata": {},
     "execution_count": 20
    }
   ],
   "metadata": {}
  },
  {
   "cell_type": "code",
   "execution_count": null,
   "source": [],
   "outputs": [],
   "metadata": {}
  }
 ],
 "metadata": {
  "kernelspec": {
   "display_name": "Python 3",
   "language": "python",
   "name": "python3"
  },
  "language_info": {
   "codemirror_mode": {
    "name": "ipython",
    "version": 3
   },
   "file_extension": ".py",
   "mimetype": "text/x-python",
   "name": "python",
   "nbconvert_exporter": "python",
   "pygments_lexer": "ipython3",
   "version": "3.8.5"
  }
 },
 "nbformat": 4,
 "nbformat_minor": 4
}