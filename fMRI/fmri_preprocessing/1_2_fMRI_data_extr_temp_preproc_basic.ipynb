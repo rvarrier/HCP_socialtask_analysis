{
 "cells": [
  {
   "cell_type": "markdown",
   "source": [
    "## DATA EXTRACTION"
   ],
   "metadata": {}
  },
  {
   "cell_type": "markdown",
   "source": [
    "STEP1\n",
    "- Code to extract and save movie-wise shen-parcellated fMRI data from the Human Connectome Project (HCP)'s social task dataset. The dataset has fMRI data from 1048 subjects.\n",
    "- Task info: subjects watched 20s animations that were labelled by the experimenters and previous studies as \"mental\" and \"random\" - 5 stimuli/condition. Participants were asked to rate stimuli as mental, random or unsure after the end of the animation, \n",
    "- Our analysis of the behavioral data showed that although participants' reports in general agreed with the expter-assigned labels this was not always the case\n",
    "- The fMRI data we obtained from the HCP online repository has been already preprocessed by them (motion corrected, unwarping, spatial normalization to MNI space etc. details in Barch et al, 2013, NI).\n",
    "- Further, voxel-wise data has already been parcellated into 268 ROIs/nodes spanning the whole brain as per Shen parcellation.\n",
    "- Here we begin by (1) removing subjects with missing runs, delayed stimulus presentations etc., and then move on to (2) temporally preprocess timecourses (Z-score normalization, trialwise baseline-correction), (3) isolate data from individual trials (t-x to t+28+y, where t is the first TR for a single trial/movie, and 28 volumes were acquired in 20s, and x/y are the nr of TRs before/after the movie)\n",
    "\n",
    "\n",
    "TERMS/ABBREVIATIONS USED INTERCHANGEABLY:\n",
    "- movie <-> trial\n",
    "- mental <-> social <-> \"yes\" response/responder\n",
    "- random <-> non-social <-> \"no\" response/responder\n",
    "- nodes <-> regions of interest <-> ROIs\n",
    "- subjects <-> participants <-> subs\n",
    "\n",
    "@CODE REVIEWER: COMMENTS TO YOU START WITH \"@CODE REVIEWER\"\n",
    "\n",
    "REKHA VARRIER, OCTOBER 2021"
   ],
   "metadata": {}
  },
  {
   "cell_type": "markdown",
   "source": [
    "### Importing packages and parcellated fMRI data, exploring datatypes etc."
   ],
   "metadata": {}
  },
  {
   "cell_type": "code",
   "execution_count": 1,
   "source": [
    "# import packages, check folders\n",
    "#%reset\n",
    "from pathlib import Path\n",
    "from datetime import datetime\n",
    "import os\n",
    "import numpy as np\n",
    "import h5py\n",
    "import pandas as pd\n",
    "import matplotlib.pyplot as plt\n",
    "import seaborn as sns\n",
    "from scipy import stats\n",
    "import time\n",
    "\n",
    "%matplotlib inline\n",
    "\n",
    "working_dir = '/Users/f0053cz/Dropbox (Dartmouth College)/postdoc_Dartmouth/HCP/fMRIScipts/code'\n",
    "\n",
    "print('current directory:\\n',working_dir)\n",
    "path = Path(working_dir)\n",
    "parent_folder = path.parent\n",
    "data_file_loc = os.path.join(parent_folder,'data') # to store data we extract later in this notebook\n",
    "\n",
    "fmri_dir = \"/Users/f0053cz/Documents/HCP_SOCIALforRekha-001/HCP_SOCIALforRekha\"\n",
    "os.chdir(fmri_dir)\n",
    "print('\\nchanged current directory to:\\n', fmri_dir)\n",
    "\n",
    "''' # don't really need these, they're there just to explore data storage\n",
    "folderName = os.path.join(fmri_dir,'indiv_data') # fMRI data is stored here\n",
    "print(\"\\nnumber of folders=\",len(os.listdir(folderName)))\n",
    "\n",
    "subj_folders = [i for i in os.listdir(folderName)]\n",
    "print('subject folders',subj_folders[:10]) #beh data n=1051'''"
   ],
   "outputs": [
    {
     "output_type": "stream",
     "name": "stdout",
     "text": [
      "current directory:\n",
      " /Users/f0053cz/Dropbox (Dartmouth College)/postdoc_Dartmouth/HCP/fMRIScipts/code\n",
      "\n",
      "changed current directory to:\n",
      " /Users/f0053cz/Documents/HCP_SOCIALforRekha-001/HCP_SOCIALforRekha\n"
     ]
    },
    {
     "output_type": "execute_result",
     "data": {
      "text/plain": [
       "' # don\\'t really need these, they\\'re there just to explore data storage\\nfolderName = os.path.join(fmri_dir,\\'indiv_data\\') # fMRI data is stored here\\nprint(\"\\nnumber of folders=\",len(os.listdir(folderName)))\\n\\nsubj_folders = [i for i in os.listdir(folderName)]\\nprint(\\'subject folders\\',subj_folders[:10]) #beh data n=1051'"
      ]
     },
     "metadata": {},
     "execution_count": 1
    }
   ],
   "metadata": {}
  },
  {
   "cell_type": "code",
   "execution_count": 2,
   "source": [
    "# setting default fontsizes for plots\n",
    "\n",
    "s=16 # CHANGE FONTSIZE HERE\n",
    "\n",
    "plt.rc('font', size=s) #controls default text size\n",
    "plt.rc('axes', titlesize=s) #fontsize of the title\n",
    "plt.rc('axes', labelsize=s) #fontsize of the x and y labels\n",
    "plt.rc('xtick', labelsize=s) #fontsize of the x tick labels\n",
    "plt.rc('ytick', labelsize=s) #fontsize of the y tick labels\n",
    "plt.rc('legend', fontsize=s) #fontsize of the legend\n",
    "#import matplotlib as mpl\n",
    "#mpl.rcParams['font.weight']= 'normal'\n"
   ],
   "outputs": [],
   "metadata": {}
  },
  {
   "cell_type": "markdown",
   "source": [
    "From the plot above, it looks like timecourses are more similar across time within a node than across nodes - make sense - it could reflect firing props of neurons within that node or anything else typical of an roi\n",
    "\n",
    "Now let's get working on the dataset. First we extract the data per run"
   ],
   "metadata": {}
  },
  {
   "cell_type": "markdown",
   "source": [
    "## Extracting timecourses, subject indices"
   ],
   "metadata": {}
  },
  {
   "cell_type": "code",
   "execution_count": 3,
   "source": [
    "#extract fMRI data and subject names\n",
    "f_RL = h5py.File(\"shen268_timecourses_RL.hdf5\", \"r\") # dims: (subj*timecourseperrun*node), run 1 - first five movies\n",
    "f_LR = h5py.File(\"shen268_timecourses_LR.hdf5\", \"r\") # run 2 - next/last 5 movies\n",
    "\n",
    "dat = {}\n",
    "dat[\"run1\"] = np.array(f_RL['shen268_timecourses'])\n",
    "dat[\"run2\"] = np.array(f_LR['shen268_timecourses'])\n",
    "print('type(dat):',type(dat))\n",
    "\n",
    "# subject list\n",
    "subj_list = {}\n",
    "subj_list[\"run1\"] = [x.decode('utf8') for x in list(f_RL['subjlist'])] #RL--> order of subjects for run 1\n",
    "subj_list[\"run2\"] = [x.decode('utf8') for x in list(f_LR['subjlist'])] #LR\n",
    "# Python string method decode() decodes the string using the codec registered for encoding.\n",
    "# It defaults to the default string encoding.\n",
    "print('type(subj_list):',type(subj_list))\n"
   ],
   "outputs": [
    {
     "output_type": "stream",
     "name": "stdout",
     "text": [
      "type(dat): <class 'dict'>\n",
      "type(subj_list): <class 'dict'>\n"
     ]
    }
   ],
   "metadata": {}
  },
  {
   "cell_type": "markdown",
   "source": [
    "## Exploring timecourses"
   ],
   "metadata": {}
  },
  {
   "cell_type": "code",
   "execution_count": 4,
   "source": [
    "# movies were presented in two runs, in the same order and at the same onset times (i.e., no jitter added)\n",
    "\n",
    "vid_names = {}\n",
    "vid_names[\"run1\"] = [\"COAXING-B\", \"BILLIARD-A\", \"DRIFTING-A\", \"Fishing\", \"Random mechanical\"]#RL\n",
    "vid_names[\"run2\"] = [\"Scaring\", \"SEDUCING-B\", \"STAR-A\", \"SURPRISING-B\", \"TENNIS-A\"]#LR\n",
    "\n",
    "vid_cat = {} # video category (mental/random or social/nonsocial)\n",
    "vid_cat[\"run1\"] = [1,0,0,1,0] # 1:mental,0: random\n",
    "vid_cat[\"run2\"] = [1,1,0,1,0]"
   ],
   "outputs": [],
   "metadata": {}
  },
  {
   "cell_type": "markdown",
   "source": [
    "## Import behavioral data\n",
    "\n",
    "- Before extracting the data, let's also identify the behavioral data and remove impossibly short RTs (indicative of accidental button presses etc.)"
   ],
   "metadata": {}
  },
  {
   "cell_type": "code",
   "execution_count": 5,
   "source": [
    "#extract behavioral data, remove impossibly quick responses RT < 100ms\n",
    "# approx 10 responses per subject, hence number of rows ~=10k\n",
    "\n",
    "beh_data = pd.read_csv(\"/Users/f0053cz/Documents/HCP_SOCIALforRekha-001/HCP_SOCIALforRekha/hcp_social_behav_for_ddm_stim-coding.csv\")\n",
    "rtmin = 0.1 # threshold for impossibly short RTs\n",
    "\n",
    "print('nrows before=', beh_data.shape)\n",
    "print(\"total subjects before=\",len(np.unique(beh_data['subj_idx'])))\n",
    "\n",
    "beh_data_old = beh_data\n",
    "beh_data= beh_data[beh_data[\"rt\"]>=rtmin] # remove trials with RT<.1\n",
    "print('\\nnrows after=', beh_data.shape)\n",
    "print(\"total subjects after=\",len(np.unique(beh_data['subj_idx'])))\n",
    "#print(np.where(beh_data.index == subj_shortRT[0]))\n",
    "beh_data.head()"
   ],
   "outputs": [
    {
     "output_type": "stream",
     "name": "stdout",
     "text": [
      "nrows before= (10149, 5)\n",
      "total subjects before= 1051\n",
      "\n",
      "nrows after= (9950, 5)\n",
      "total subjects after= 1050\n"
     ]
    },
    {
     "output_type": "execute_result",
     "data": {
      "text/html": [
       "<div>\n",
       "<style scoped>\n",
       "    .dataframe tbody tr th:only-of-type {\n",
       "        vertical-align: middle;\n",
       "    }\n",
       "\n",
       "    .dataframe tbody tr th {\n",
       "        vertical-align: top;\n",
       "    }\n",
       "\n",
       "    .dataframe thead th {\n",
       "        text-align: right;\n",
       "    }\n",
       "</style>\n",
       "<table border=\"1\" class=\"dataframe\">\n",
       "  <thead>\n",
       "    <tr style=\"text-align: right;\">\n",
       "      <th></th>\n",
       "      <th>subj_idx</th>\n",
       "      <th>stim</th>\n",
       "      <th>movie</th>\n",
       "      <th>rt</th>\n",
       "      <th>response</th>\n",
       "    </tr>\n",
       "  </thead>\n",
       "  <tbody>\n",
       "    <tr>\n",
       "      <th>0</th>\n",
       "      <td>168745</td>\n",
       "      <td>Mental</td>\n",
       "      <td>Scaring.AVI</td>\n",
       "      <td>1.252</td>\n",
       "      <td>1</td>\n",
       "    </tr>\n",
       "    <tr>\n",
       "      <th>1</th>\n",
       "      <td>168745</td>\n",
       "      <td>Mental</td>\n",
       "      <td>SEDUCING-B.AVI</td>\n",
       "      <td>0.578</td>\n",
       "      <td>1</td>\n",
       "    </tr>\n",
       "    <tr>\n",
       "      <th>2</th>\n",
       "      <td>168745</td>\n",
       "      <td>Random</td>\n",
       "      <td>STAR-A.AVI</td>\n",
       "      <td>1.643</td>\n",
       "      <td>0</td>\n",
       "    </tr>\n",
       "    <tr>\n",
       "      <th>3</th>\n",
       "      <td>168745</td>\n",
       "      <td>Mental</td>\n",
       "      <td>SURPRISING-B.AVI</td>\n",
       "      <td>1.082</td>\n",
       "      <td>1</td>\n",
       "    </tr>\n",
       "    <tr>\n",
       "      <th>4</th>\n",
       "      <td>168745</td>\n",
       "      <td>Random</td>\n",
       "      <td>TENNIS-A.AVI</td>\n",
       "      <td>1.232</td>\n",
       "      <td>0</td>\n",
       "    </tr>\n",
       "  </tbody>\n",
       "</table>\n",
       "</div>"
      ],
      "text/plain": [
       "   subj_idx    stim             movie     rt  response\n",
       "0    168745  Mental       Scaring.AVI  1.252         1\n",
       "1    168745  Mental    SEDUCING-B.AVI  0.578         1\n",
       "2    168745  Random        STAR-A.AVI  1.643         0\n",
       "3    168745  Mental  SURPRISING-B.AVI  1.082         1\n",
       "4    168745  Random      TENNIS-A.AVI  1.232         0"
      ]
     },
     "metadata": {},
     "execution_count": 5
    }
   ],
   "metadata": {}
  },
  {
   "cell_type": "code",
   "execution_count": 6,
   "source": [
    "# import notebook from code 1_2_regressors\n",
    "[timepts_indiv_movie,vid_start_rel_tr] = np.load(os.path.join(data_file_loc,'Video_TRs.npy'),allow_pickle=True)\n",
    "# [timepts_indiv_movie,vid_start_rel_tr] \n",
    "#vid_start_rel_tr\n",
    "print([len(i) for i in timepts_indiv_movie])\n",
    "vid_start_rel_tr"
   ],
   "outputs": [
    {
     "output_type": "stream",
     "name": "stdout",
     "text": [
      "[49, 56, 56, 56, 56, 49, 56, 56, 56, 56]\n"
     ]
    },
    {
     "output_type": "execute_result",
     "data": {
      "text/plain": [
       "array([7, 14, 14, 14, 14, 7, 14, 14, 14, 14], dtype=object)"
      ]
     },
     "metadata": {},
     "execution_count": 6
    }
   ],
   "metadata": {}
  },
  {
   "cell_type": "markdown",
   "source": [
    "## Subject-wise preprocessing:\n",
    "- finally coming to the main step\n",
    "- Extraction of relevant TRs for each subject, normalizing and baseline-correcting it and store in a 4D array\n",
    "- code below for both with run-wise norm. and trial-wise norm. (for different analyses later)\n",
    "\n",
    "@CODE REVIEWER: FROM HERE ON, I'D LIKE YOU TO PLEASE VERIFY THAT THERE ARE NO ERRORS PLEASE"
   ],
   "metadata": {}
  },
  {
   "cell_type": "code",
   "execution_count": 7,
   "source": [
    "# setting common variables for both types of preprocessing \n",
    "\n",
    "nsubj = 1053 #1053 # total 1053 subs, but only 1048 will be in the final data (others have only one run or delayed stimulus presentation)\n",
    "nnodes = 268 #268\n",
    "#tr0_ind = 3 # timept at which t=0 for video\n",
    "ntimepts = 56\n",
    "nmovies = 10\n",
    "n_init_TRs_to_delete = 5"
   ],
   "outputs": [],
   "metadata": {}
  },
  {
   "cell_type": "code",
   "execution_count": 8,
   "source": [
    "from scipy.signal import detrend"
   ],
   "outputs": [],
   "metadata": {}
  },
  {
   "cell_type": "markdown",
   "source": [
    "### 1. RUN-wise normalisation (Zscore) and then baseline correction."
   ],
   "metadata": {}
  },
  {
   "cell_type": "code",
   "execution_count": 9,
   "source": [
    "\n",
    "# run-wise normalization is more useful when comparing responses for the same movie. Within-trial comparison is \n",
    "# more useful for across-movie comparisons\n",
    "\n",
    "start = time.time()\n",
    "\n",
    "responses = np.empty((nsubj, nmovies))\n",
    "responses[:] = np.nan # initialise responses with NaN\n",
    "responses_rt = np.empty((nsubj, nmovies))\n",
    "responses_rt[:] = np.nan # initialise responses with NaN\n",
    "sub_id_all = [] # to save subject ID\n",
    "Ynorm = np.empty((nsubj, nnodes, ntimepts, nmovies))\n",
    "Ynorm[:] = np.nan\n",
    "timecourses = np.empty((nsubj,nnodes,269,2))\n",
    "timecourses[:] = np.nan\n",
    "\n",
    "sub_ind = -1 # to store index of subject ID\n",
    "for s1 in np.arange(0,1):#nsubj):\n",
    "    if s1 % 50 == 0: # printing occasional status updates\n",
    "        now = time.time()\n",
    "        print(f'subj:{s1},time elapsed:{(now - start)/60:.2f}mins')\n",
    "    curr_subj = subj_list['run1'][s1] # Subject ID, e.g. '126628'\n",
    "    if curr_subj != '105620': # this subject had a delayed stimulus presentation (removing for ease atm)\n",
    "        try:\n",
    "            s2 = subj_list['run2'].index(curr_subj)\n",
    "            # see if the subject has data for run 2, if not don't count them (execution would go to except segment)\n",
    "\n",
    "            # proceeding if sub has data for both runs\n",
    "            curr_subj = int(curr_subj)\n",
    "            sub_id_all.append(curr_subj) # save subject ID\n",
    "\n",
    "            sub_ind += 1 # for each sub with both runs\n",
    "\n",
    "            for vid_no in range(10): # to store responses for each subject who has both runs\n",
    "                run = 'run1' if vid_no < 5 else 'run2'\n",
    "                vidName = vid_names[run][vid_no%5]\n",
    "                vidName = '.'.join((vidName,'AVI')) # add .avi\n",
    "\n",
    "                row = (beh_data['subj_idx'] == curr_subj) & (beh_data['movie'] == vidName)\n",
    "                #print(len(np.where(row)[0]))\n",
    "                if len(np.where(row)[0]) == 1: # unique row for that subj and movie\n",
    "                    responses[sub_ind,vid_no] = beh_data.loc[row,'response']\n",
    "                    responses_rt[sub_ind,vid_no] = beh_data.loc[row,'rt']\n",
    "                elif len(np.where(row)[0]) > 1:\n",
    "                    print('error!!!!') # error in behavioral data selection\n",
    "\n",
    "            # preproc step 1: within-run normalize each node\n",
    "            for node in range(nnodes):\n",
    "                tc_run1 = dat['run1'][s1,n_init_TRs_to_delete:,node] # data after removing first 5 TRs, so 274-5 TRs/run\n",
    "                tc_run2 = dat['run2'][s2,n_init_TRs_to_delete:,node] \n",
    "\n",
    "                #runSlope[sub_ind,node,0] = np.polyfit(np.arange(tc_run1.shape[0]),tc_run1,1)[0]\n",
    "                # linearly for the run, and save the slope for the run\n",
    "                #runSlope[sub_ind,node,1] = np.polyfit(np.arange(tc_run2.shape[0]),tc_run2,1)[0]\n",
    "\n",
    "                tc_run1 = detrend(tc_run1) # removing linear trends\n",
    "                tc_run2 = detrend(tc_run2)\n",
    "                tc_run1 = stats.zscore(tc_run1) # Z-score normalize values\n",
    "                tc_run2 = stats.zscore(tc_run2)\n",
    "                #tc_run1 = (tc_run1 - np.nanmean(tc_run1))/np.nanstd(tc_run1)\n",
    "                #tc_run2 = (tc_run2 - np.nanmean(tc_run2))/np.nanstd(tc_run2)\n",
    "\n",
    "                timecourses[sub_ind,node,:,0] = tc_run1\n",
    "                timecourses[sub_ind,node,:,1] = tc_run2\n",
    "\n",
    "                # baseline-correct each trial or movie\n",
    "                for vid_no in np.arange(0,nmovies): \n",
    "                    #run = 'run1' if vid_no < 5 else 'run2'\n",
    "                    image_TRs = timepts_indiv_movie[vid_no] # TRs within run corresponding to vidno\n",
    "                    Y = tc_run1[image_TRs] if vid_no<5 else tc_run2[image_TRs] # timecourse for a trial/vid_no\n",
    "\n",
    "                    # baseline correction\n",
    "                    if vid_no % 5 == 0:\n",
    "                        Ynorm[sub_ind, node, :49, vid_no] = Y - Y[vid_start_rel_tr[vid_no]] #baseline correct and assign to a 4D array\n",
    "                    else:\n",
    "                        Ynorm[sub_ind, node, :  , vid_no] = Y - Y[vid_start_rel_tr[vid_no]] #baseline correct and assign to a 4D array\n",
    "\n",
    "        except: # print error message if both runs aren't present (or there's another error in try)\n",
    "                print(['only one subject for ind ',s1,', subjID:',curr_subj])\n",
    "\n",
    "Ynorm = Ynorm[:sub_ind+1,:,:,:] # remove unused rows\n",
    "responses = responses[:sub_ind+1,:]\n",
    "responses_rt = responses_rt[:sub_ind+1,:]\n",
    "timecourses = timecourses[:sub_ind+1,:,:,:]\n",
    "#runSlope = runSlope[:sub_ind+1,:,:]\n",
    "\n",
    "if sub_ind == 1047:\n",
    "    np.save(os.path.join(data_file_loc,'timecourses_run_norm',f'timecourse-all-movies_zscorenorm'), Ynorm) # save timecourses\n",
    "    np.save(os.path.join(data_file_loc,'responses.npy'), responses) # save beh responses\n",
    "    np.save(os.path.join(data_file_loc,'responses_rt.npy'), responses_rt) # save beh responses\n",
    "    np.save(os.path.join(data_file_loc,'timecourses.npy'), timecourses) # save run timecourses (for all movie LMs)\n",
    "    np.save(os.path.join(data_file_loc,'sub_ID_all.npy'), sub_id_all) # save run timecourses (for all movie LMs)\n",
    "print('\\n\\nData saved on/at:',datetime.now()) # cell run at\n",
    "\n",
    "\n"
   ],
   "outputs": [
    {
     "output_type": "stream",
     "name": "stdout",
     "text": [
      "subj:0,time elapsed:0.02mins\n",
      "subj:50,time elapsed:0.17mins\n",
      "subj:100,time elapsed:0.30mins\n",
      "subj:150,time elapsed:0.44mins\n",
      "subj:200,time elapsed:0.56mins\n",
      "subj:250,time elapsed:0.70mins\n",
      "subj:300,time elapsed:0.82mins\n",
      "subj:350,time elapsed:0.95mins\n",
      "subj:400,time elapsed:1.08mins\n",
      "['only one subject for ind ', 438, ', subjID:', '175540']\n",
      "subj:450,time elapsed:1.22mins\n",
      "['only one subject for ind ', 453, ', subjID:', '748662']\n",
      "subj:500,time elapsed:1.34mins\n",
      "subj:550,time elapsed:1.47mins\n",
      "subj:600,time elapsed:1.60mins\n",
      "subj:650,time elapsed:1.72mins\n",
      "subj:700,time elapsed:1.85mins\n",
      "['only one subject for ind ', 710, ', subjID:', '248238']\n",
      "['only one subject for ind ', 729, ', subjID:', '103010']\n",
      "subj:750,time elapsed:1.97mins\n",
      "subj:800,time elapsed:2.10mins\n",
      "subj:850,time elapsed:2.23mins\n",
      "subj:900,time elapsed:2.35mins\n",
      "subj:950,time elapsed:2.48mins\n",
      "subj:1000,time elapsed:2.60mins\n",
      "subj:1050,time elapsed:2.73mins\n",
      "\n",
      "\n",
      "Data saved on/at: 2021-12-20 09:54:46.454380\n"
     ]
    }
   ],
   "metadata": {
    "scrolled": false
   }
  },
  {
   "cell_type": "code",
   "execution_count": 11,
   "source": [
    "len(sub_id_all)"
   ],
   "outputs": [
    {
     "output_type": "execute_result",
     "data": {
      "text/plain": [
       "1048"
      ]
     },
     "metadata": {},
     "execution_count": 11
    }
   ],
   "metadata": {}
  },
  {
   "cell_type": "markdown",
   "source": [
    "### 2. TRIAL-wise normalisation (Zscore) and then baseline correction."
   ],
   "metadata": {}
  },
  {
   "cell_type": "code",
   "execution_count": 43,
   "source": [
    "l_task = 28"
   ],
   "outputs": [],
   "metadata": {}
  },
  {
   "cell_type": "code",
   "execution_count": 44,
   "source": [
    "# trial-wise normalization is more useful when comparing responses across movies\n",
    "# takes over 10 mins!!\n",
    "\n",
    "start = time.time()\n",
    "\n",
    "Ynorm = np.empty((nsubj, nnodes, ntimepts, nmovies))\n",
    "Ynorm[:] = np.nan\n",
    "\n",
    "sub_ind = -1 # to store index of subject ID\n",
    "for s1 in np.arange(0,nsubj):\n",
    "    if s1 % 50 == 0: # printing occasional status updates\n",
    "        now = time.time()\n",
    "        print(f'subj:{s1},time elapsed:{(now - start)/60:.2f}mins')\n",
    "    curr_subj = subj_list['run1'][s1] # Subject ID, e.g. '126628'\n",
    "    if curr_subj != '105620': # this subject had a delayed stimulus presentation (removing for ease atm)\n",
    "        try:\n",
    "            s2 = subj_list['run2'].index(curr_subj)\n",
    "            # see if the subject has data for run 2, if not don't count them (execution would go to except segment)\n",
    "\n",
    "            # proceeding if sub has data for both runs\n",
    "            curr_subj = int(curr_subj)\n",
    "            #sub_id_all.append(curr_subj)\n",
    "            sub_ind += 1 # for each sub with both runs\n",
    "\n",
    "            for vid_no in range(10): # to store responses for each subject who has both runs\n",
    "                run = 'run1' if vid_no < 5 else 'run2'\n",
    "                vidName = vid_names[run][vid_no%5]\n",
    "                vidName = '.'.join((vidName,'AVI')) # add .avi\n",
    "\n",
    "                row = (beh_data['subj_idx'] == curr_subj) & (beh_data['movie'] == vidName)\n",
    "                #print(len(np.where(row)[0]))\n",
    "                if len(np.where(row)[0]) > 1:\n",
    "                    print('error!!!!') # error in behavioral data selection\n",
    "\n",
    "            # preproc step 1: within-run normalize each node\n",
    "            for node in range(nnodes):\n",
    "                tc_run1 = dat['run1'][s1,n_init_TRs_to_delete:,node] # data after removing first 5 TRs, so 274-5 TRs/run\n",
    "                tc_run2 = dat['run2'][s2,n_init_TRs_to_delete:,node] \n",
    "\n",
    "                #runSlope[sub_ind,node,0] = np.polyfit(np.arange(tc_run1.shape[0]),tc_run1,1)[0]\n",
    "                # linearly for the run, and save the slope for the run\n",
    "                #runSlope[sub_ind,node,1] = np.polyfit(np.arange(tc_run2.shape[0]),tc_run2,1)[0]\n",
    "\n",
    "                tc_run1 = detrend(tc_run1) # removing linear trends\n",
    "                tc_run2 = detrend(tc_run2)\n",
    "                #tc_run1 = stats.zscore(tc_run1) # Z-score normalize values\n",
    "                #tc_run2 = stats.zscore(tc_run2)\n",
    "                #tc_run1 = (tc_run1 - np.nanmean(tc_run1))/np.nanstd(tc_run1)\n",
    "                #tc_run2 = (tc_run2 - np.nanmean(tc_run2))/np.nanstd(tc_run2)\n",
    "\n",
    "                # normalize and baseline-correct each trial or movie\n",
    "                for vid_no in np.arange(0,nmovies): \n",
    "                    run = 'run1' if vid_no < 5 else 'run2'\n",
    "                    image_TRs = timepts_indiv_movie[vid_no] # TRs within run corresponding to vidno\n",
    "                    Y = tc_run1[image_TRs] if run == 'run1' else tc_run2[image_TRs] # timecourse for a trial/vid_no\n",
    "                    Y = stats.zscore(Y)\n",
    "                    #vid_inds = np.arange(vid_start_rel_tr[vid_no],vid_start_rel_tr[vid_no]+l_task)\n",
    "                    #Y[vid_inds] = stats.zscore(Y[vid_inds])\n",
    "                    \n",
    "                    # baseline correction\n",
    "                    if vid_no % 5 == 0:\n",
    "                        Ynorm[sub_ind,node,:49,vid_no] = Y - Y[vid_start_rel_tr[vid_no]] #baseline correct and assign to a 4D array\n",
    "                    else:\n",
    "                        Ynorm[sub_ind,node,:,vid_no]   = Y - Y[vid_start_rel_tr[vid_no]] #baseline correct and assign to a 4D array\n",
    "\n",
    "        except: # print error message if both runs aren't present (or there's another error in try)\n",
    "                print(['only one subject for ind ',s1,', subjID:',curr_subj])\n",
    "\n",
    "Ynorm = Ynorm[:sub_ind+1,:,:,:] # remove unused rows\n",
    "\n",
    "if sub_ind == 1047:\n",
    "    np.save(os.path.join(data_file_loc,'timecourses_trial_norm',f'timecourse-all-movies_zscorenorm'), Ynorm) # save timecourses\n",
    "\n",
    "print('\\n\\nData saved on/at:',datetime.now()) # cell run at\n",
    "\n",
    "\n"
   ],
   "outputs": [
    {
     "output_type": "stream",
     "name": "stdout",
     "text": [
      "subj:0,time elapsed:0.01mins\n",
      "subj:50,time elapsed:0.31mins\n",
      "subj:100,time elapsed:0.62mins\n",
      "subj:150,time elapsed:0.91mins\n",
      "subj:200,time elapsed:1.20mins\n",
      "subj:250,time elapsed:1.46mins\n",
      "subj:300,time elapsed:1.77mins\n",
      "subj:350,time elapsed:2.04mins\n",
      "subj:400,time elapsed:2.31mins\n",
      "['only one subject for ind ', 438, ', subjID:', '175540']\n",
      "subj:450,time elapsed:2.56mins\n",
      "['only one subject for ind ', 453, ', subjID:', '748662']\n",
      "subj:500,time elapsed:2.81mins\n",
      "subj:550,time elapsed:3.07mins\n",
      "subj:600,time elapsed:3.37mins\n",
      "subj:650,time elapsed:3.65mins\n",
      "subj:700,time elapsed:3.91mins\n",
      "['only one subject for ind ', 710, ', subjID:', '248238']\n",
      "['only one subject for ind ', 729, ', subjID:', '103010']\n",
      "subj:750,time elapsed:4.20mins\n",
      "subj:800,time elapsed:4.48mins\n",
      "subj:850,time elapsed:4.75mins\n",
      "subj:900,time elapsed:5.04mins\n",
      "subj:950,time elapsed:5.29mins\n",
      "subj:1000,time elapsed:5.57mins\n",
      "subj:1050,time elapsed:5.85mins\n",
      "\n",
      "\n",
      "Data saved on/at: 2021-12-02 16:05:16.376830\n"
     ]
    }
   ],
   "metadata": {}
  },
  {
   "cell_type": "code",
   "execution_count": 46,
   "source": [
    "# trial-wise normalization is more useful when comparing responses across movies\n",
    "# takes over 10 mins!!\n",
    "# tr0-7:tr28+14\n",
    "\n",
    "start = time.time()\n",
    "\n",
    "Ynorm = np.empty((nsubj, nnodes, 49, nmovies))\n",
    "Ynorm[:] = np.nan\n",
    "\n",
    "sub_ind = -1 # to store index of subject ID\n",
    "for s1 in np.arange(0,nsubj):\n",
    "    if s1 % 50 == 0: # printing occasional status updates\n",
    "        now = time.time()\n",
    "        print(f'subj:{s1},time elapsed:{(now - start)/60:.2f}mins')\n",
    "    curr_subj = subj_list['run1'][s1] # Subject ID, e.g. '126628'\n",
    "    if curr_subj != '105620': # this subject had a delayed stimulus presentation (removing for ease atm)\n",
    "        try:\n",
    "            s2 = subj_list['run2'].index(curr_subj)\n",
    "            # see if the subject has data for run 2, if not don't count them (execution would go to except segment)\n",
    "\n",
    "            # proceeding if sub has data for both runs\n",
    "            curr_subj = int(curr_subj)\n",
    "            #sub_id_all.append(curr_subj)\n",
    "            sub_ind += 1 # for each sub with both runs\n",
    "\n",
    "            for vid_no in range(10): # to store responses for each subject who has both runs\n",
    "                run = 'run1' if vid_no < 5 else 'run2'\n",
    "                vidName = vid_names[run][vid_no%5]\n",
    "                vidName = '.'.join((vidName,'AVI')) # add .avi\n",
    "\n",
    "                row = (beh_data['subj_idx'] == curr_subj) & (beh_data['movie'] == vidName)\n",
    "                #print(len(np.where(row)[0]))\n",
    "                if len(np.where(row)[0]) > 1:\n",
    "                    print('error!!!!') # error in behavioral data selection\n",
    "\n",
    "            # preproc step 1: within-run normalize each node\n",
    "            for node in range(nnodes):\n",
    "                tc_run1 = dat['run1'][s1,n_init_TRs_to_delete:,node] # data after removing first 5 TRs, so 274-5 TRs/run\n",
    "                tc_run2 = dat['run2'][s2,n_init_TRs_to_delete:,node] \n",
    "\n",
    "                #runSlope[sub_ind,node,0] = np.polyfit(np.arange(tc_run1.shape[0]),tc_run1,1)[0]\n",
    "                # linearly for the run, and save the slope for the run\n",
    "                #runSlope[sub_ind,node,1] = np.polyfit(np.arange(tc_run2.shape[0]),tc_run2,1)[0]\n",
    "\n",
    "                tc_run1 = detrend(tc_run1) # removing linear trends\n",
    "                tc_run2 = detrend(tc_run2)\n",
    "                #tc_run1 = stats.zscore(tc_run1) # Z-score normalize values\n",
    "                #tc_run2 = stats.zscore(tc_run2)\n",
    "                #tc_run1 = (tc_run1 - np.nanmean(tc_run1))/np.nanstd(tc_run1)\n",
    "                #tc_run2 = (tc_run2 - np.nanmean(tc_run2))/np.nanstd(tc_run2)\n",
    "\n",
    "                # normalize and baseline-correct each trial or movie\n",
    "                for vid_no in np.arange(0,nmovies): \n",
    "                    run = 'run1' if vid_no < 5 else 'run2'                                                                                                                                                                                                                                                                                                                                                                                                                                                                                                                                                                                  \n",
    "                    image_TRs = timepts_indiv_movie[vid_no] # TRs within run corresponding to vidno\n",
    "                    if vid_no % 5 != 0:\n",
    "                        image_TRs = image_TRs[7:]\n",
    "                    Y = tc_run1[image_TRs] if run == 'run1' else tc_run2[image_TRs] # timecourse for a trial/vid_no\n",
    "                    #Y = stats.zscore(Y)\n",
    "                    Y = (Y-np.nanmean(Y))/(np.nanmax(Y)-np.nanmin(Y))\n",
    "                    #vid_inds = np.arange(vid_start_rel_tr[vid_no],vid_start_rel_tr[vid_no]+l_task)\n",
    "                    #Y[vid_inds] = stats.zscore(Y[vid_inds])\n",
    "                    \n",
    "                    Ynorm[sub_ind,node,:,vid_no] = Y - Y[7] #baseline correct and assign to a 4D array\n",
    "\n",
    "        except: # print error message if both runs aren't present (or there's another error in try)\n",
    "                print(['only one subject for ind ',s1,', subjID:',curr_subj])\n",
    "\n",
    "Ynorm = Ynorm[:sub_ind+1,:,:,:] # remove unused rows\n",
    "\n",
    "if sub_ind == 1047:\n",
    "    np.save(os.path.join(data_file_loc,'timecourses_trial_norm',f'timecourse-all-movies_zscorenorm_maxmindiv_tr0-7_to_tr28+14.npy'), Ynorm) # save timecourses\n",
    "\n",
    "print('\\n\\nData saved on/at:',datetime.now()) # cell run at\n"
   ],
   "outputs": [
    {
     "output_type": "stream",
     "name": "stdout",
     "text": [
      "subj:0,time elapsed:0.01mins\n",
      "subj:50,time elapsed:0.21mins\n",
      "subj:100,time elapsed:0.41mins\n",
      "subj:150,time elapsed:0.61mins\n",
      "subj:200,time elapsed:0.81mins\n",
      "subj:250,time elapsed:1.01mins\n",
      "subj:300,time elapsed:1.21mins\n",
      "subj:350,time elapsed:1.41mins\n",
      "subj:400,time elapsed:1.64mins\n",
      "['only one subject for ind ', 438, ', subjID:', '175540']\n",
      "subj:450,time elapsed:1.86mins\n",
      "['only one subject for ind ', 453, ', subjID:', '748662']\n",
      "subj:500,time elapsed:2.13mins\n",
      "subj:550,time elapsed:2.36mins\n",
      "subj:600,time elapsed:2.58mins\n",
      "subj:650,time elapsed:2.79mins\n",
      "subj:700,time elapsed:3.02mins\n",
      "['only one subject for ind ', 710, ', subjID:', '248238']\n",
      "['only one subject for ind ', 729, ', subjID:', '103010']\n",
      "subj:750,time elapsed:3.22mins\n",
      "subj:800,time elapsed:3.43mins\n",
      "subj:850,time elapsed:3.67mins\n",
      "subj:900,time elapsed:3.89mins\n",
      "subj:950,time elapsed:4.11mins\n",
      "subj:1000,time elapsed:4.30mins\n",
      "subj:1050,time elapsed:4.49mins\n",
      "\n",
      "\n",
      "Data saved on/at: 2021-12-02 16:15:28.300084\n"
     ]
    }
   ],
   "metadata": {}
  },
  {
   "cell_type": "code",
   "execution_count": 47,
   "source": [
    "# trial-wise normalization is more useful when comparing responses across movies\n",
    "# takes over 10 mins!!\n",
    "# max min div\n",
    "\n",
    "start = time.time()\n",
    "\n",
    "Ynorm = np.empty((nsubj, nnodes, ntimepts, nmovies))\n",
    "Ynorm[:] = np.nan\n",
    "\n",
    "sub_ind = -1 # to store index of subject ID\n",
    "for s1 in np.arange(0,nsubj):\n",
    "    if s1 % 50 == 0: # printing occasional status updates\n",
    "        now = time.time()\n",
    "        print(f'subj:{s1},time elapsed:{(now - start)/60:.2f}mins')\n",
    "    curr_subj = subj_list['run1'][s1] # Subject ID, e.g. '126628'\n",
    "    if curr_subj != '105620': # this subject had a delayed stimulus presentation (removing for ease atm)\n",
    "        try:\n",
    "            s2 = subj_list['run2'].index(curr_subj)\n",
    "            # see if the subject has data for run 2, if not don't count them (execution would go to except segment)\n",
    "\n",
    "            # proceeding if sub has data for both runs\n",
    "            curr_subj = int(curr_subj)\n",
    "            #sub_id_all.append(curr_subj)\n",
    "            sub_ind += 1 # for each sub with both runs\n",
    "\n",
    "            for vid_no in range(10): # to store responses for each subject who has both runs\n",
    "                run = 'run1' if vid_no < 5 else 'run2'\n",
    "                vidName = vid_names[run][vid_no%5]\n",
    "                vidName = '.'.join((vidName,'AVI')) # add .avi\n",
    "\n",
    "                row = (beh_data['subj_idx'] == curr_subj) & (beh_data['movie'] == vidName)\n",
    "                #print(len(np.where(row)[0]))\n",
    "                if len(np.where(row)[0]) > 1:\n",
    "                    print('error!!!!') # error in behavioral data selection\n",
    "\n",
    "            # preproc step 1: within-run normalize each node\n",
    "            for node in range(nnodes):\n",
    "                tc_run1 = dat['run1'][s1,n_init_TRs_to_delete:,node] # data after removing first 5 TRs, so 274-5 TRs/run\n",
    "                tc_run2 = dat['run2'][s2,n_init_TRs_to_delete:,node] \n",
    "\n",
    "                #runSlope[sub_ind,node,0] = np.polyfit(np.arange(tc_run1.shape[0]),tc_run1,1)[0]\n",
    "                # linearly for the run, and save the slope for the run\n",
    "                #runSlope[sub_ind,node,1] = np.polyfit(np.arange(tc_run2.shape[0]),tc_run2,1)[0]\n",
    "\n",
    "                tc_run1 = detrend(tc_run1) # removing linear trends\n",
    "                tc_run2 = detrend(tc_run2)\n",
    "                #tc_run1 = stats.zscore(tc_run1) # Z-score normalize values\n",
    "                #tc_run2 = stats.zscore(tc_run2)\n",
    "                #tc_run1 = (tc_run1 - np.nanmean(tc_run1))/np.nanstd(tc_run1)\n",
    "                #tc_run2 = (tc_run2 - np.nanmean(tc_run2))/np.nanstd(tc_run2)\n",
    "\n",
    "                # normalize and baseline-correct each trial or movie\n",
    "                for vid_no in np.arange(0,nmovies): \n",
    "                    run = 'run1' if vid_no < 5 else 'run2'\n",
    "                    image_TRs = timepts_indiv_movie[vid_no] # TRs within run corresponding to vidno\n",
    "                    \n",
    "                    Y = tc_run1[image_TRs] if run == 'run1' else tc_run2[image_TRs] # timecourse for a trial/vid_no\n",
    "                    #Y = stats.zscore(Y)\n",
    "                    Y = (Y-np.nanmean(Y))/(np.nanmax(Y)-np.nanmin(Y))\n",
    "                    #vid_inds = np.arange(vid_start_rel_tr[vid_no],vid_start_rel_tr[vid_no]+l_task)\n",
    "                    #Y[vid_inds] = stats.zscore(Y[vid_inds])\n",
    "                    \n",
    "                    # baseline correction\n",
    "                    if vid_no % 5 == 0:\n",
    "                        Ynorm[sub_ind,node,:49,vid_no] = Y - Y[vid_start_rel_tr[vid_no]] #baseline correct and assign to a 4D array\n",
    "                    else:\n",
    "                        Ynorm[sub_ind,node,:,vid_no]   = Y - Y[vid_start_rel_tr[vid_no]] #baseline correct and assign to a 4D array\n",
    "\n",
    "        except: # print error message if both runs aren't present (or there's another error in try)\n",
    "                print(['only one subject for ind ',s1,', subjID:',curr_subj])\n",
    "\n",
    "Ynorm = Ynorm[:sub_ind+1,:,:,:] # remove unused rows\n",
    "\n",
    "if sub_ind == 1047:\n",
    "    np.save(os.path.join(data_file_loc,'timecourses_trial_norm',f'timecourse-all-movies_zscorenorm_maxmindiv'), Ynorm) # save timecourses\n",
    "\n",
    "print('\\n\\nData saved on/at:',datetime.now()) # cell run at\n"
   ],
   "outputs": [
    {
     "output_type": "stream",
     "name": "stdout",
     "text": [
      "subj:0,time elapsed:0.01mins\n",
      "subj:50,time elapsed:0.22mins\n",
      "subj:100,time elapsed:0.42mins\n",
      "subj:150,time elapsed:0.63mins\n",
      "subj:200,time elapsed:0.85mins\n",
      "subj:250,time elapsed:1.06mins\n",
      "subj:300,time elapsed:1.27mins\n",
      "subj:350,time elapsed:1.48mins\n",
      "subj:400,time elapsed:1.70mins\n",
      "['only one subject for ind ', 438, ', subjID:', '175540']\n",
      "subj:450,time elapsed:1.90mins\n",
      "['only one subject for ind ', 453, ', subjID:', '748662']\n",
      "subj:500,time elapsed:2.13mins\n",
      "subj:550,time elapsed:2.36mins\n",
      "subj:600,time elapsed:2.58mins\n",
      "subj:650,time elapsed:2.78mins\n",
      "subj:700,time elapsed:3.02mins\n",
      "['only one subject for ind ', 710, ', subjID:', '248238']\n",
      "['only one subject for ind ', 729, ', subjID:', '103010']\n",
      "subj:750,time elapsed:3.24mins\n",
      "subj:800,time elapsed:3.48mins\n",
      "subj:850,time elapsed:3.70mins\n",
      "subj:900,time elapsed:3.92mins\n",
      "subj:950,time elapsed:4.15mins\n",
      "subj:1000,time elapsed:4.37mins\n",
      "subj:1050,time elapsed:4.58mins\n",
      "\n",
      "\n",
      "Data saved on/at: 2021-12-02 16:51:54.645532\n"
     ]
    }
   ],
   "metadata": {}
  },
  {
   "cell_type": "code",
   "execution_count": null,
   "source": [
    "# trial-wise normalization is more useful when comparing responses across movies\n",
    "# takes over 10 mins!!\n",
    "# timecourse analysis\n",
    "tr0_ind = 3 \n",
    "start = time.time()\n",
    "ntimepts_tc = l_task+tr0_ind\n",
    "Ynorm = np.empty((nsubj, nnodes, ntimepts_tc, nmovies))\n",
    "Ynorm[:] = np.nan\n",
    "\n",
    "sub_ind = -1 # to store index of subject ID\n",
    "for s1 in np.arange(0,nsubj):\n",
    "    if s1 % 50 == 0: # printing occasional status updates\n",
    "        now = time.time()\n",
    "        print(f'subj:{s1},time elapsed:{(now - start)/60:.2f}mins')\n",
    "    curr_subj = subj_list['run1'][s1] # Subject ID, e.g. '126628'\n",
    "    if curr_subj != '105620': # this subject had a delayed stimulus presentation (removing for ease atm)\n",
    "        try:\n",
    "            s2 = subj_list['run2'].index(curr_subj)\n",
    "            # see if the subject has data for run 2, if not don't count them (execution would go to except segment)\n",
    "\n",
    "            # proceeding if sub has data for both runs\n",
    "            curr_subj = int(curr_subj)\n",
    "            #sub_id_all.append(curr_subj)\n",
    "            sub_ind += 1 # for each sub with both runs\n",
    "\n",
    "            for vid_no in range(10): # to store responses for each subject who has both runs\n",
    "                run = 'run1' if vid_no < 5 else 'run2'\n",
    "                vidName = vid_names[run][vid_no%5]\n",
    "                vidName = '.'.join((vidName,'AVI')) # add .avi\n",
    "\n",
    "                row = (beh_data['subj_idx'] == curr_subj) & (beh_data['movie'] == vidName)\n",
    "                #print(len(np.where(row)[0]))\n",
    "                if len(np.where(row)[0]) > 1:\n",
    "                    print('error!!!!') # error in behavioral data selection\n",
    "\n",
    "            # preproc step 1: within-run normalize each node\n",
    "            for node in range(nnodes):\n",
    "                tc_run1 = dat['run1'][s1,n_init_TRs_to_delete:,node] # data after removing first 5 TRs, so 274-5 TRs/run\n",
    "                tc_run2 = dat['run2'][s2,n_init_TRs_to_delete:,node] \n",
    "\n",
    "                tc_run1 = detrend(tc_run1) # removing linear trends\n",
    "                tc_run2 = detrend(tc_run2)\n",
    "                \n",
    "                # normalize and baseline-correct each trial or movie\n",
    "                for vid_no in np.arange(0,nmovies): \n",
    "                    run = 'run1' if vid_no < 5 else 'run2'\n",
    "                    image_TRs = timepts_indiv_movie[vid_no]\n",
    "                    image_TRs = image_TRs[vid_start_rel_tr[vid_no]-tr0_ind:vid_start_rel_tr[vid_no]+l_task] # TRs within run corresponding to vidno\n",
    "                    Y = tc_run1[image_TRs] if run == 'run1' else tc_run2[image_TRs] # timecourse for a trial/vid_no\n",
    "                    #Y = stats.zscore(Y)\n",
    "                    Y = (Y-np.nanmean(Y[tr0_ind:]))/np.nanstd(Y[tr0_ind:])#vid_inds = np.arange(vid_start_rel_tr[vid_no],vid_start_rel_tr[vid_no]+l_task)\n",
    "                    #Y[vid_inds] = stats.zscore(Y[vid_inds])\n",
    "                    \n",
    "                    # baseline correction\n",
    "                    if vid_no % 5 == 0:\n",
    "                        Ynorm[sub_ind,node,:,vid_no] = Y - Y[tr0_ind] #baseline correct and assign to a 4D array\n",
    "                    else:\n",
    "                        Ynorm[sub_ind,node,:,vid_no]   = Y - Y[tr0_ind] #baseline correct and assign to a 4D array\n",
    "\n",
    "        except: # print error message if both runs aren't present (or there's another error in try)\n",
    "                print(['only one subject for ind ',s1,', subjID:',curr_subj])\n",
    "\n",
    "Ynorm = Ynorm[:sub_ind+1,:,:,:] # remove unused rows\n",
    "\n",
    "if sub_ind == 1047:\n",
    "    np.save(os.path.join(data_file_loc,'timecourses_trial_norm',f'timecourse-all-movies_zscorenorm_tcanalysis'), Ynorm) # save timecourses\n",
    "\n",
    "print('\\n\\nData saved on/at:',datetime.now()) # cell run at\n",
    "\n",
    "\n"
   ],
   "outputs": [],
   "metadata": {}
  },
  {
   "cell_type": "code",
   "execution_count": 10,
   "source": [
    "# trial-wise normalization is more useful when comparing responses across movies\n",
    "# takes over 10 mins!!\n",
    "tr0_ind = 3 \n",
    "start = time.time()\n",
    "ntimepts_tc = l_task+tr0_ind\n",
    "Ynorm = np.empty((nsubj, nnodes, ntimepts_tc, nmovies))\n",
    "Ynorm[:] = np.nan\n",
    "\n",
    "sub_ind = -1 # to store index of subject ID\n",
    "for s1 in np.arange(0,nsubj):\n",
    "    if s1 % 50 == 0: # printing occasional status updates\n",
    "        now = time.time()\n",
    "        print(f'subj:{s1},time elapsed:{(now - start)/60:.2f}mins')\n",
    "    curr_subj = subj_list['run1'][s1] # Subject ID, e.g. '126628'\n",
    "    if curr_subj != '105620': # this subject had a delayed stimulus presentation (removing for ease atm)\n",
    "        try:\n",
    "            s2 = subj_list['run2'].index(curr_subj)\n",
    "            # see if the subject has data for run 2, if not don't count them (execution would go to except segment)\n",
    "\n",
    "            # proceeding if sub has data for both runs\n",
    "            curr_subj = int(curr_subj)\n",
    "            #sub_id_all.append(curr_subj)\n",
    "            sub_ind += 1 # for each sub with both runs\n",
    "\n",
    "            for vid_no in range(10): # to store responses for each subject who has both runs\n",
    "                run = 'run1' if vid_no < 5 else 'run2'\n",
    "                vidName = vid_names[run][vid_no%5]\n",
    "                vidName = '.'.join((vidName,'AVI')) # add .avi\n",
    "\n",
    "                row = (beh_data['subj_idx'] == curr_subj) & (beh_data['movie'] == vidName)\n",
    "                #print(len(np.where(row)[0]))\n",
    "                if len(np.where(row)[0]) > 1:\n",
    "                    print('error!!!!') # error in behavioral data selection\n",
    "\n",
    "            # preproc step 1: within-run normalize each node\n",
    "            for node in range(nnodes):\n",
    "                tc_run1 = dat['run1'][s1,n_init_TRs_to_delete:,node] # data after removing first 5 TRs, so 274-5 TRs/run\n",
    "                tc_run2 = dat['run2'][s2,n_init_TRs_to_delete:,node] \n",
    "\n",
    "                tc_run1 = detrend(tc_run1) # removing linear trends\n",
    "                tc_run2 = detrend(tc_run2)\n",
    "                \n",
    "                # normalize and baseline-correct each trial or movie\n",
    "                for vid_no in np.arange(0,nmovies): \n",
    "                    run = 'run1' if vid_no < 5 else 'run2'\n",
    "                    image_TRs = timepts_indiv_movie[vid_no]\n",
    "                    image_TRs = image_TRs[vid_start_rel_tr[vid_no]-tr0_ind:vid_start_rel_tr[vid_no]+l_task] # TRs within run corresponding to vidno\n",
    "                    Y = tc_run1[image_TRs] if run == 'run1' else tc_run2[image_TRs] # timecourse for a trial/vid_no\n",
    "                    #Y = stats.zscore(Y)\n",
    "                    #Y = (Y-np.nanmean(Y[tr0_ind:]))/np.nanstd(Y[tr0_ind:])#vid_inds = np.arange(vid_start_rel_tr[vid_no],vid_start_rel_tr[vid_no]+l_task)\n",
    "                    Y = (Y-np.nanmean(Y[tr0_ind:]))/(np.nanmax(Y[tr0_ind:])-np.nanmin(Y[tr0_ind:]))#vid_inds = np.arange(vid_start_rel_tr[vid_no],vid_start_rel_tr[vid_no]+l_task)\n",
    "                    #Y[vid_inds] = stats.zscore(Y[vid_inds])\n",
    "                    \n",
    "                    # baseline correction\n",
    "                    if vid_no % 5 == 0:\n",
    "                        Ynorm[sub_ind,node,:,vid_no] = Y - Y[tr0_ind] #baseline correct and assign to a 4D array\n",
    "                    else:\n",
    "                        Ynorm[sub_ind,node,:,vid_no]   = Y - Y[tr0_ind] #baseline correct and assign to a 4D array\n",
    "\n",
    "        except: # print error message if both runs aren't present (or there's another error in try)\n",
    "                print(['only one subject for ind ',s1,', subjID:',curr_subj])\n",
    "\n",
    "Ynorm = Ynorm[:sub_ind+1,:,:,:] # remove unused rows\n",
    "\n",
    "if sub_ind == 1047:\n",
    "    np.save(os.path.join(data_file_loc,'timecourses_trial_norm',f'timecourse-all-movies_zscorenorm_tcanalysis_maxmindiv'), Ynorm) # save timecourses\n",
    "\n",
    "print('\\n\\nData saved on/at:',datetime.now()) # cell run at\n",
    "\n",
    "\n"
   ],
   "outputs": [
    {
     "output_type": "stream",
     "name": "stdout",
     "text": [
      "subj:0,time elapsed:0.00mins\n",
      "subj:50,time elapsed:0.20mins\n",
      "subj:100,time elapsed:0.40mins\n",
      "subj:150,time elapsed:0.58mins\n",
      "subj:200,time elapsed:0.77mins\n",
      "subj:250,time elapsed:0.96mins\n",
      "subj:300,time elapsed:1.21mins\n",
      "subj:350,time elapsed:1.42mins\n",
      "subj:400,time elapsed:1.63mins\n",
      "['only one subject for ind ', 438, ', subjID:', '175540']\n",
      "subj:450,time elapsed:1.82mins\n",
      "['only one subject for ind ', 453, ', subjID:', '748662']\n",
      "subj:500,time elapsed:2.01mins\n",
      "subj:550,time elapsed:2.19mins\n",
      "subj:600,time elapsed:2.39mins\n",
      "subj:650,time elapsed:2.58mins\n",
      "subj:700,time elapsed:2.77mins\n",
      "['only one subject for ind ', 710, ', subjID:', '248238']\n",
      "['only one subject for ind ', 729, ', subjID:', '103010']\n",
      "subj:750,time elapsed:2.96mins\n",
      "subj:800,time elapsed:3.15mins\n",
      "subj:850,time elapsed:3.35mins\n",
      "subj:900,time elapsed:3.53mins\n",
      "subj:950,time elapsed:3.73mins\n",
      "subj:1000,time elapsed:3.93mins\n",
      "subj:1050,time elapsed:4.13mins\n",
      "\n",
      "\n",
      "Data saved on/at: 2021-11-30 10:46:44.738851\n"
     ]
    }
   ],
   "metadata": {}
  },
  {
   "cell_type": "code",
   "execution_count": 14,
   "source": [
    "Ynorm.shape"
   ],
   "outputs": [
    {
     "output_type": "execute_result",
     "data": {
      "text/plain": [
       "(1048, 268, 31, 10)"
      ]
     },
     "metadata": {},
     "execution_count": 14
    }
   ],
   "metadata": {}
  },
  {
   "cell_type": "markdown",
   "source": [
    "## sanity check of trialwise data"
   ],
   "metadata": {}
  },
  {
   "cell_type": "code",
   "execution_count": 34,
   "source": [
    "Ynorm[:5,0,:,0].shape"
   ],
   "outputs": [
    {
     "output_type": "execute_result",
     "data": {
      "text/plain": [
       "(5, 56)"
      ]
     },
     "metadata": {},
     "execution_count": 34
    }
   ],
   "metadata": {}
  },
  {
   "cell_type": "code",
   "execution_count": 16,
   "source": [
    "Ynorm =  np.load(os.path.join(data_file_loc,'timecourses_trial_norm',f'timecourse-all-movies_zscorenorm.npy'))\n",
    "plt.plot(Ynorm[:5,0,:,1].T)"
   ],
   "outputs": [
    {
     "output_type": "execute_result",
     "data": {
      "text/plain": [
       "[<matplotlib.lines.Line2D at 0x7fbd01beab50>,\n",
       " <matplotlib.lines.Line2D at 0x7fbd01bd2950>,\n",
       " <matplotlib.lines.Line2D at 0x7fbd01beac90>,\n",
       " <matplotlib.lines.Line2D at 0x7fbd01bead50>,\n",
       " <matplotlib.lines.Line2D at 0x7fbd01beae10>]"
      ]
     },
     "metadata": {},
     "execution_count": 16
    },
    {
     "output_type": "display_data",
     "data": {
      "image/png": "[encoded data removed]",
      "text/plain": [
       "<Figure size 432x288 with 1 Axes>"
      ]
     },
     "metadata": {
      "needs_background": "light"
     }
    }
   ],
   "metadata": {}
  },
  {
   "cell_type": "code",
   "execution_count": 35,
   "source": [
    "Ynorm =  np.load(os.path.join(data_file_loc,'timecourses_run_norm',f'timecourse-all-movies_zscorenorm.npy'))\n",
    "plt.plot(Ynorm[:5,0,:,0].T)"
   ],
   "outputs": [
    {
     "output_type": "execute_result",
     "data": {
      "text/plain": [
       "[<matplotlib.lines.Line2D at 0x7f9309ac3d10>,\n",
       " <matplotlib.lines.Line2D at 0x7f9309ae5b50>,\n",
       " <matplotlib.lines.Line2D at 0x7f9309ac3e50>,\n",
       " <matplotlib.lines.Line2D at 0x7f9309ac3f10>,\n",
       " <matplotlib.lines.Line2D at 0x7f9309ac3fd0>]"
      ]
     },
     "metadata": {},
     "execution_count": 35
    },
    {
     "output_type": "display_data",
     "data": {
      "image/png": "[encoded data removed]",
      "text/plain": [
       "<Figure size 432x288 with 1 Axes>"
      ]
     },
     "metadata": {
      "needs_background": "light"
     }
    }
   ],
   "metadata": {}
  },
  {
   "cell_type": "code",
   "execution_count": 36,
   "source": [
    "timecourses = np.load(os.path.join(data_file_loc,'timecourses.npy'))\n",
    "timecourses[0,0,:5,:] # see if values are distinct"
   ],
   "outputs": [
    {
     "output_type": "execute_result",
     "data": {
      "text/plain": [
       "array([[ 0.00364855,  0.66507549],\n",
       "       [-0.2293776 , -0.76939139],\n",
       "       [-0.40624693,  1.50187307],\n",
       "       [-0.46695373, -0.18351192],\n",
       "       [-1.36892794, -0.92859621]])"
      ]
     },
     "metadata": {},
     "execution_count": 36
    }
   ],
   "metadata": {}
  },
  {
   "cell_type": "markdown",
   "source": [
    "## Is there a linear trend?\n",
    "- this step was done when the above code did not contain a detrending step.\n",
    "- don't need to run it now that the data has already been detrended"
   ],
   "metadata": {}
  },
  {
   "cell_type": "code",
   "execution_count": 28,
   "source": [
    "# no need to run this now\n",
    "\n",
    "plt.figure(1)\n",
    "plt.errorbar(np.zeros((268,)),np.nanmedian(runSlope[:,:,0],axis=0),stats.sem(runSlope[:,:,0],axis=0),\n",
    "             marker ='o',color = 'r',ls = 'None')\n",
    "plt.errorbar(np.ones((268,)),np.nanmedian(runSlope[:,:,1],axis=0),stats.sem(runSlope[:,:,1],axis=0),\n",
    "             marker ='o',color = 'b',ls = 'None')\n",
    "print(stats.ttest_1samp(np.ndarray.flatten(runSlope[:,:,0]),0))\n",
    "\n",
    "print('nr. of nodes with a slope sig different from 0 in run 1:')\n",
    "print(sum([1 if stats.ttest_1samp(runSlope[:,n,0],0)[1]<.05 else 0 for n in range(268)]))\n",
    "\n",
    "print('nr. of nodes with a slope sig different from 0 in run 2')    \n",
    "print(sum([1 if stats.ttest_1samp(runSlope[:,n,1],0)[1]<.05 else 0 for n in range(268)]))\n",
    "\n",
    "\n",
    "print('Slope run 1: mean:',np.nanmean(np.ndarray.flatten(runSlope[:,:,0])),stats.ttest_1samp(np.ndarray.flatten(runSlope[:,:,0]),0))\n",
    "print('Slope run 2: mean:',np.nanmean(np.ndarray.flatten(runSlope[:,:,1])),stats.ttest_1samp(np.ndarray.flatten(runSlope[:,:,1]),0))\n",
    "\n",
    "# example detrending\n",
    "plt.figure(2)\n",
    "from scipy.signal import detrend\n",
    "x = dat['run1'][0,n_init_TRs_to_delete:,0]\n",
    "plt.figure(1, figsize = (25,5))\n",
    "plt.plot(x)\n",
    "plt.plot(detrend(x,type= 'linear'))"
   ],
   "outputs": [
    {
     "output_type": "stream",
     "name": "stdout",
     "text": [
      "Ttest_1sampResult(statistic=-49.98950663403359, pvalue=0.0)\n",
      "nr. of nodes with a slope sig different from 0 in run 1:\n",
      "210\n",
      "nr. of nodes with a slope sig different from 0 in run 2\n",
      "228\n",
      "Slope run 1: mean: -0.03899181115291593 Ttest_1sampResult(statistic=-49.98950663403359, pvalue=0.0)\n",
      "Slope run 2: mean: -0.07717801757289106 Ttest_1sampResult(statistic=-95.89548049424342, pvalue=0.0)\n"
     ]
    },
    {
     "output_type": "display_data",
     "data": {
      "image/png": "[encoded data removed]",
      "text/plain": [
       "<Figure size 432x288 with 1 Axes>"
      ]
     },
     "metadata": {
      "needs_background": "light"
     }
    }
   ],
   "metadata": {}
  },
  {
   "cell_type": "markdown",
   "source": [
    "- Looks like the slope in all nodes is sig < zero, although the magnitude is very small. So we should detrend before normalizing etc.\n",
    "- ^^**this has been done already**"
   ],
   "metadata": {}
  },
  {
   "cell_type": "code",
   "execution_count": null,
   "source": [
    "# this code snippet helped determine that the first 5 TRs of a run need to be removed. \n",
    "# # this has been done already, so can be run as a sanity check, but is optional\n",
    "# first 5 TRs of the run\n",
    "\n",
    "plt.figure(1,figsize =(15,10))\n",
    "for run in range(2):\n",
    "    plt.subplot(2,1,run+1)\n",
    "    plt.title(f'Run{run+1}',fontsize =24)\n",
    "    for n in np.arange(0,268):\n",
    "        plt.errorbar(range(10), np.nanmedian(all_runs_z[:,n,:10,run],axis=0),\n",
    "                     stats.sem(all_runs_z[:,n,:10,run],axis=0,nan_policy='omit'))\n",
    "                     #color = 'k',alpha = .1)\n",
    "    ymin,ymax = plt.ylim()\n",
    "    for i in range(5):\n",
    "        plt.axvspan(vid_onsets_imagenr[i],vid_onsets_imagenr[i]+28, color = 'red', alpha = .1, label = 'stim')  #vertical shading\n",
    "\n",
    "    plt.xlim(0,10)\n",
    "plt.tight_layout()\n",
    "\n"
   ],
   "outputs": [],
   "metadata": {}
  },
  {
   "cell_type": "markdown",
   "source": [
    "## Extra code\n",
    "\n",
    "### code reviewer: stop here"
   ],
   "metadata": {}
  },
  {
   "cell_type": "code",
   "execution_count": 36,
   "source": [
    "def my_moving_window(x, window=3, FUN=np.mean):\n",
    "    \"\"\"\n",
    "    Calculates a moving estimate for a signal\n",
    "\n",
    "    Args:\n",
    "      x (numpy.ndarray): a vector array of size N\n",
    "      window (int): size of the window, must be a positive integer\n",
    "      FUN (function): the function to apply to the samples in the window\n",
    "\n",
    "    Returns:\n",
    "      (numpy.ndarray): a vector array of size N, containing the moving\n",
    "      average of x, calculated with a window of size window\n",
    "\n",
    "    There are smarter and faster solutions (e.g. using convolution) but this\n",
    "    function shows what the output really means. This function skips NaNs, and\n",
    "    should not be susceptible to edge effects: it will simply use\n",
    "    all the  available samples, which means that close to the edges of the\n",
    "    signal or close to NaNs, the output will just be based on fewer samples. By\n",
    "    default, this function will apply a mean to the samples in the window, but\n",
    "    this can be changed to be a max/min/median or other function that returns a\n",
    "    single numeric value based on a sequence of values.\n",
    "    \"\"\"\n",
    "\n",
    "    # if data is a matrix, apply filter to each row:\n",
    "    if len(x.shape) == 2:\n",
    "        output = np.zeros(x.shape)\n",
    "        for rown in range(x.shape[0]):\n",
    "            output[rown, :] = my_moving_window(x[rown, :],\n",
    "                                             window=window,\n",
    "                                             FUN=FUN)\n",
    "        return output\n",
    "\n",
    "    # make output array of the same size as x:\n",
    "    output = np.zeros(x.size)\n",
    "\n",
    "    # loop through the signal in x\n",
    "    for samp_i in range(x.size):\n",
    "\n",
    "        values = []\n",
    "\n",
    "        # loop through the window:\n",
    "        for wind_i in range(int(1 - window), 1):\n",
    "\n",
    "            if ((samp_i + wind_i) < 0) or (samp_i + wind_i) > (x.size - 1):\n",
    "                # out of range\n",
    "                continue\n",
    "\n",
    "            # sample is in range and not nan, use it:\n",
    "            if not(np.isnan(x[samp_i + wind_i])):\n",
    "                values += [x[samp_i + wind_i]]\n",
    "\n",
    "        # calculate the mean in the window for this point in the output:\n",
    "        output[samp_i] = FUN(values)\n",
    "\n",
    "    return output"
   ],
   "outputs": [],
   "metadata": {}
  },
  {
   "cell_type": "code",
   "execution_count": null,
   "source": [
    "def preproc(Y):\n",
    "    # function to normalise timecourses and baseline correct them\n",
    "    #Y = my_moving_window(Y)\n",
    "    Y = Y - np.min(Y)\n",
    "    Y = Y/np.max(Y)\n",
    "    Y = Y - Y[0]\n",
    "    return Y,Y[0]"
   ],
   "outputs": [],
   "metadata": {}
  },
  {
   "cell_type": "markdown",
   "source": [
    "## Max-min normalization"
   ],
   "metadata": {}
  },
  {
   "cell_type": "code",
   "execution_count": null,
   "source": [
    "# RUN-wise normalisation (max min) and then baseline correction wrt the means of t = -3 to -1.\n",
    "\n",
    "# seeing tif maxmin norm is better\n",
    "\n",
    "# preprocess Y, store (1) moviewise timecourses, (2) baseline normY and beh responses across movies\n",
    "# save preprocessed timecourses for each movie in a single file\n",
    "start = time.time()\n",
    "\n",
    "#y0 = np.zeros((nsubj,nmovies,nnodes))\n",
    "#responses = np.empty((nsubj, nmovies))\n",
    "#responses[:] = np.nan # initialise responses with NaN\n",
    "sub_id_all = []\n",
    "Ynorm = np.zeros((nsubj, nnodes, ntimepts, nmovies))\n",
    "plot_fig = 1\n",
    "if plot_fig:\n",
    "    plt.figure(1,figsize=(10,8))\n",
    "sub_ind = -1\n",
    "for s1 in np.arange(0,nsubj):\n",
    "    if s1 % 50 == 0: # printing occasional status updates\n",
    "        now = time.time()\n",
    "        print('subj:',s1,', time elapsed:', np.round((now - start)/60,2),'mins')\n",
    "    curr_subj = subj_list['run1'][s1] # Subject ID, e.g. '126628'\n",
    "    if curr_subj != '105620':\n",
    "        try:\n",
    "            s2 = subj_list['run2'].index(curr_subj)\n",
    "            # see if the subject has data for run 2, if not don't count them (execution would go to except segment)\n",
    "\n",
    "            # proceed if sub has data for both runs\n",
    "            curr_subj = int(curr_subj)\n",
    "            sub_id_all.append(curr_subj)\n",
    "            sub_ind += 1 # for each sub with run1 and 2\n",
    "\n",
    "            for vid_no in range(10): # to store responses for each subject who has both runs\n",
    "                run = 'run1' if vid_no < 5 else 'run2'\n",
    "                #vidName = vid_names[run][vid_no%5]\n",
    "                #vidName = '.'.join((vidName,'AVI')) # add .avi\n",
    "\n",
    "                #row = (beh_data['subj_idx'] == curr_subj) & (beh_data['movie'] == vidName)\n",
    "                #if len(np.where(row)[0]) == 1: # unique row for that subj and movie\n",
    "                #    responses[sub_ind,vid_no] = beh_data.loc[row,'response']\n",
    "                #if len(np.where(row)[0]) > 1:\n",
    "                #    print('error!!!!')\n",
    "\n",
    "            # preproc step 1: within-run normalize each node\n",
    "            for node in range(nnodes):\n",
    "                tc_run1 = dat['run1'][s1,:,node] # 274 TRs/run\n",
    "                tc_run2 = dat['run2'][s2,:,node] \n",
    "\n",
    "                #tc_run1 = stats.zscore(tc_run1) # Z-score normalize values\n",
    "                #tc_run2 = stats.zscore(tc_run2)\n",
    "                \n",
    "                ## YET TO ADD DETRENDING##\n",
    "\n",
    "                tc_run1 -= min(tc_run1[5:]) # alternate option: to use max-min normalization\n",
    "                tc_run1 = np.divide(tc_run1,np.max(tc_run1[5:])) # all values within 0-1\n",
    "                tc_run2 -= min(tc_run2[5:])\n",
    "                tc_run2 = np.divide(tc_run2,np.max(tc_run2[5:])) # all values within 0-1\n",
    "                # why not just exclude the first 5 points? because this way\n",
    "                # can retain the same indices, ut data unaffected by initial random \n",
    "                # values which may skew the normalized values\n",
    "                \n",
    "                if sub_ind < 100:\n",
    "                    all_runs_maxmin[sub_ind,node,:,0] = tc_run1\n",
    "                    all_runs_maxmin[sub_ind,node,:,1] = tc_run2\n",
    "\n",
    "                # baseline-correct each trial or movie\n",
    "                for vid_no in np.arange(0,nmovies): \n",
    "\n",
    "                    run = 'run1' if vid_no < 5 else 'run2'\n",
    "                    image_TRs = timepts_indiv_movie[vid_no] # TRs within run corresponding to vidno\n",
    "                    Y = tc_run1[image_TRs] if run == 'run1' else tc_run2[image_TRs] # timecourse for a trial/vid_no\n",
    "                    if plot_fig:\n",
    "                        if node == 0:\n",
    "                            if (vid_no in [0,5]) and (sub_ind == 0) and (node==0):\n",
    "                                #print(np.nanmean(Y[0:2]))\n",
    "                                #print(Y)\n",
    "                                plt.subplot(2,1,1)\n",
    "                                plt.plot(tc_run1 if run == 'run1' else tc_run2) # plot a run for a single subject\n",
    "                            #plt.subplot(2,5,vid_no+1)\n",
    "                            #plt.plot(Y, marker ='o')\n",
    "\n",
    "                    #Y = Y-np.nanmean(Y[0:tr0_ind]) #baseline correct using the mean of the 3 TRs prior to stimulus onset\n",
    "                    Y = Y-Y[tr0_ind] #baseline correct using the mean of the 3 TRs prior to stimulus onset\n",
    "                    Ynorm[sub_ind,node,:,vid_no] = Y # assign to a 4D array\n",
    "                    if (vid_no == 0) and (sub_ind == 0) and (node==0): # plot the first tc to illustrate\n",
    "                        plt.subplot(2,2,3)\n",
    "                        plt.plot(Ynorm[sub_ind,node,:,vid_no])\n",
    "                        runs_to_plot.append(tc_run1)\n",
    "\n",
    "        except: # print error message if both runs aren't present (or there's another error in try)\n",
    "                print(['only one subject for ind ',s1,', subjID:',curr_subj])\n",
    "\n",
    "Ynorm = Ynorm[:sub_ind+1,:,:,:] # remove unused rows\n",
    "#responses = responses[:sub_ind+1,:]\n",
    "\n",
    "if plot_fig:\n",
    "    plt.tight_layout()\n",
    "    \n",
    "if nsubj == 1053:\n",
    "    np.save(os.path.join(data_file_loc,'timecourses_run_norm',f'timecourse-all-movies_maxminnorm'), Ynorm) # save timecourses\n",
    "    #np.save(os.path.join(data_file_loc,'responses.npy'), responses) # save beh responses\n",
    "\n",
    "print('\\n\\nData saved on/at:',datetime.now()) # cell run at\n",
    "\n"
   ],
   "outputs": [],
   "metadata": {}
  },
  {
   "cell_type": "code",
   "execution_count": null,
   "source": [
    "# figure for one-on-one meeting on 17.08.21\n",
    "x = np.zeros((181,))\n",
    "for i in range(len(vid_onsets_in_sec)):\n",
    "    x[vid_onsets_in_sec[i]:vid_onsets_in_sec[i]+20] = 1\n",
    "    \n",
    "for i in range(2):\n",
    "    plt.figure(i,figsize = (30,5))\n",
    "    #plt.plot(x,marker = 'o', label = 'video block (secs)')\n",
    "    x_ims = [tr*i for i in range(int(np.ceil(181/tr)))]\n",
    "    x_ims\n",
    "    #for i in vid_onsets_imagenr:\n",
    "    #    plt.vlines(x_ims[i-5:i+5],-1,1)\n",
    "    \n",
    "    if i==0:\n",
    "        plt.plot(runs_to_plot[0],label = 'zscore')\n",
    "    else:\n",
    "        plt.plot(runs_to_plot[1],label = 'max-min norm')\n",
    "    ymin,ymax = plt.ylim()\n",
    "    plt.vlines(vid_onsets_imagenr,ymin,ymax,color = 'r', label = 'onset TR (prev)')\n",
    "    plt.vlines((vid_onsets_imagenr+28),ymin,ymax,color = 'r', ls = 'dashed',label = 'offset TR (prev)')\n",
    "    plt.vlines((vid_onsets_imagenr),ymin,ymax,color = 'magenta', label = 'onset TR0')\n",
    "    plt.vlines((vid_onsets_imagenr+28),ymin,ymax,color = 'magenta', ls = 'dashed', label = 'offset TR28')\n",
    "    \n",
    "    plt.xticks(fontsize =20)\n",
    "    plt.yticks([0,1],fontsize =20)\n",
    "    #for ind in range(len(x_ims[:100])):\n",
    "    #    plt.text(x_ims[ind],5,ind,rotation=90,fontsize = 20)\n",
    "    #plt.ylim(-.2,2)\n",
    "    #plt.xlim(0,75)\n",
    "    plt.xlabel('Time in secs',fontsize =20)\n",
    "    plt.ylabel('Video = 1, Rest =0',fontsize =20)\n",
    "    plt.legend(fontsize =20, bbox_to_anchor=(0.25, -.1))"
   ],
   "outputs": [],
   "metadata": {}
  },
  {
   "cell_type": "code",
   "execution_count": 75,
   "source": [
    "# Visualizing a run\n",
    "x = np.zeros((181,))\n",
    "for i in range(len(vid_onsets_in_sec)):\n",
    "    x[int(vid_onsets_in_sec[i]):int(vid_onsets_in_sec[i])+20] = 1\n",
    "plt.figure(1,figsize = (30,2))\n",
    "plt.plot(x,marker = 'o', label = 'timept (seconds)')\n",
    "x_ims = [tr*i for i in range(int(np.ceil(181/tr)))]\n",
    "x_ims\n",
    "'''#vertical lines show 5 TRs before and 5 after the onset time for each video\n",
    "for i in vid_onsets_imagenr:\n",
    "    i = int(i)\n",
    "    plt.vlines(x_ims[i-5:i+5],-1,1) # vertical lines 5 TRs before and after\n",
    "'''\n",
    "plt.vlines(vid_onsets_imagenr*tr,-1,1,color = 'r', label = 'onset TR (t=0 for movie)')\n",
    "#plt.vlines(vid_onsets_imagenr*tr-1,-1,1,color = 'magenta', label = 'onset TR-1')\n",
    "\n",
    "#for i in range(len(x_ims)):\n",
    "#    plt.text(x_ims[i],1.1,i,rotation=90)\n",
    "plt.ylim(0,1.4)\n",
    "plt.xlim(0,200)\n",
    "plt.legend(loc = 'lower right',fontsize = 16)"
   ],
   "outputs": [
    {
     "output_type": "execute_result",
     "data": {
      "text/plain": [
       "<matplotlib.legend.Legend at 0x7fe369601ad0>"
      ]
     },
     "metadata": {},
     "execution_count": 75
    },
    {
     "output_type": "display_data",
     "data": {
      "image/png": "[encoded data removed]",
      "text/plain": [
       "<Figure size 2160x144 with 1 Axes>"
      ]
     },
     "metadata": {
      "needs_background": "light"
     }
    }
   ],
   "metadata": {}
  },
  {
   "cell_type": "code",
   "execution_count": null,
   "source": [],
   "outputs": [],
   "metadata": {}
  }
 ],
 "metadata": {
  "interpreter": {
   "hash": "30fd9c97283ec1278eec212a8f8afab06ad903f38228c32cacb469eba8e56f4f"
  },
  "kernelspec": {
   "name": "python3",
   "display_name": "Python 3.7.9 64-bit ('py37': conda)"
  },
  "language_info": {
   "codemirror_mode": {
    "name": "ipython",
    "version": 3
   },
   "file_extension": ".py",
   "mimetype": "text/x-python",
   "name": "python",
   "nbconvert_exporter": "python",
   "pygments_lexer": "ipython3",
   "version": "3.7.9"
  }
 },
 "nbformat": 4,
 "nbformat_minor": 4
}