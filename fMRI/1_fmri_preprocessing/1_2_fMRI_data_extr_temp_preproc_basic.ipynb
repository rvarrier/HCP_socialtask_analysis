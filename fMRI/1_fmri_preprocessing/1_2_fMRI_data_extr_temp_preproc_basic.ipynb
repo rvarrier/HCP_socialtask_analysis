{
 "cells": [
  {
   "cell_type": "markdown",
   "source": [
    "## DATA EXTRACTION"
   ],
   "metadata": {}
  },
  {
   "cell_type": "markdown",
   "source": [
    "STEP1\n",
    "- Code to extract and save movie-wise shen-parcellated fMRI data from the Human Connectome Project (HCP)'s social task dataset. The dataset has fMRI data from 1048 subjects.\n",
    "- Task info: subjects watched 20s animations that were labelled by the experimenters and previous studies as \"mental\" and \"random\" - 5 stimuli/condition. Participants were asked to rate stimuli as mental, random or unsure after the end of the animation, \n",
    "- Our analysis of the behavioral data showed that although participants' reports in general agreed with the expter-assigned labels this was not always the case\n",
    "- The fMRI data we obtained from the HCP online repository has been already preprocessed by them (motion corrected, unwarping, spatial normalization to MNI space etc. details in Barch et al, 2013, NI).\n",
    "- Further, voxel-wise data has already been parcellated into 268 ROIs/nodes spanning the whole brain as per Shen parcellation.\n",
    "- Here we begin by (1) removing subjects with missing runs, delayed stimulus presentations etc., and then move on to (2) temporally preprocess timecourses (Z-score normalization, trialwise baseline-correction), (3) isolate data from individual trials (t-x to t+28+y, where t is the first TR for a single trial/movie, and 28 volumes were acquired in 20s, and x/y are the nr of TRs before/after the movie)\n",
    "\n",
    "\n",
    "TERMS/ABBREVIATIONS USED INTERCHANGEABLY:\n",
    "- movie <-> trial\n",
    "- mental <-> social <-> \"yes\" response/responder\n",
    "- random <-> non-social <-> \"no\" response/responder\n",
    "- nodes <-> regions of interest <-> ROIs\n",
    "- subjects <-> participants <-> subs\n",
    "\n",
    "@CODE REVIEWER: COMMENTS TO YOU START WITH \"@CODE REVIEWER\"\n",
    "\n",
    "REKHA VARRIER, OCTOBER 2021"
   ],
   "metadata": {}
  },
  {
   "cell_type": "markdown",
   "source": [
    "### Importing packages and parcellated fMRI data, exploring datatypes etc."
   ],
   "metadata": {}
  },
  {
   "cell_type": "code",
   "execution_count": 1,
   "source": [
    "# import packages, check folders\n",
    "#%reset\n",
    "from pathlib import Path\n",
    "from datetime import datetime\n",
    "import os\n",
    "import numpy as np\n",
    "import h5py\n",
    "import pandas as pd\n",
    "import matplotlib.pyplot as plt\n",
    "import seaborn as sns\n",
    "from scipy import stats\n",
    "import time\n",
    "\n",
    "%matplotlib inline\n",
    "\n",
    "working_dir = '/Users/f0053cz/Dropbox (Dartmouth College)/postdoc_Dartmouth/HCP/fMRIScipts/code'\n",
    "\n",
    "print('current directory:\\n',working_dir)\n",
    "path = Path(working_dir)\n",
    "parent_folder = path.parent\n",
    "data_file_loc = os.path.join(parent_folder,'data') # to store data we extract later in this notebook\n",
    "\n",
    "fmri_dir = \"/Users/f0053cz/Documents/HCP_SOCIALforRekha-001/HCP_SOCIALforRekha\"\n",
    "os.chdir(fmri_dir)\n",
    "print('\\nchanged current directory to:\\n', fmri_dir)\n",
    "\n",
    "''' # don't really need these, they're there just to explore data storage\n",
    "folderName = os.path.join(fmri_dir,'indiv_data') # fMRI data is stored here\n",
    "print(\"\\nnumber of folders=\",len(os.listdir(folderName)))\n",
    "\n",
    "subj_folders = [i for i in os.listdir(folderName)]\n",
    "print('subject folders',subj_folders[:10]) #beh data n=1051'''"
   ],
   "outputs": [
    {
     "output_type": "stream",
     "name": "stdout",
     "text": [
      "current directory:\n",
      " /Users/f0053cz/Dropbox (Dartmouth College)/postdoc_Dartmouth/HCP/fMRIScipts/code\n",
      "\n",
      "changed current directory to:\n",
      " /Users/f0053cz/Documents/HCP_SOCIALforRekha-001/HCP_SOCIALforRekha\n"
     ]
    },
    {
     "output_type": "execute_result",
     "data": {
      "text/plain": [
       "' # don\\'t really need these, they\\'re there just to explore data storage\\nfolderName = os.path.join(fmri_dir,\\'indiv_data\\') # fMRI data is stored here\\nprint(\"\\nnumber of folders=\",len(os.listdir(folderName)))\\n\\nsubj_folders = [i for i in os.listdir(folderName)]\\nprint(\\'subject folders\\',subj_folders[:10]) #beh data n=1051'"
      ]
     },
     "metadata": {},
     "execution_count": 1
    }
   ],
   "metadata": {}
  },
  {
   "cell_type": "code",
   "execution_count": 2,
   "source": [
    "# setting default fontsizes for plots\n",
    "\n",
    "s=16 # CHANGE FONTSIZE HERE\n",
    "\n",
    "plt.rc('font', size=s) #controls default text size\n",
    "plt.rc('axes', titlesize=s) #fontsize of the title\n",
    "plt.rc('axes', labelsize=s) #fontsize of the x and y labels\n",
    "plt.rc('xtick', labelsize=s) #fontsize of the x tick labels\n",
    "plt.rc('ytick', labelsize=s) #fontsize of the y tick labels\n",
    "plt.rc('legend', fontsize=s) #fontsize of the legend\n",
    "#import matplotlib as mpl\n",
    "#mpl.rcParams['font.weight']= 'normal'\n"
   ],
   "outputs": [],
   "metadata": {}
  },
  {
   "cell_type": "markdown",
   "source": [
    "From the plot above, it looks like timecourses are more similar across time within a node than across nodes - make sense - it could reflect firing props of neurons within that node or anything else typical of an roi\n",
    "\n",
    "Now let's get working on the dataset. First we extract the data per run"
   ],
   "metadata": {}
  },
  {
   "cell_type": "markdown",
   "source": [
    "## Extracting timecourses, subject indices"
   ],
   "metadata": {}
  },
  {
   "cell_type": "code",
   "execution_count": 3,
   "source": [
    "#extract fMRI data and subject names\n",
    "f_RL = h5py.File(\"shen268_timecourses_RL.hdf5\", \"r\") # dims: (subj*timecourseperrun*node), run 1 - first five movies\n",
    "f_LR = h5py.File(\"shen268_timecourses_LR.hdf5\", \"r\") # run 2 - next/last 5 movies\n",
    "\n",
    "dat = {}\n",
    "dat[\"run1\"] = np.array(f_RL['shen268_timecourses'])\n",
    "dat[\"run2\"] = np.array(f_LR['shen268_timecourses'])\n",
    "print('type(dat):',type(dat))\n",
    "\n",
    "# subject list\n",
    "subj_list = {}\n",
    "subj_list[\"run1\"] = [x.decode('utf8') for x in list(f_RL['subjlist'])] #RL--> order of subjects for run 1\n",
    "subj_list[\"run2\"] = [x.decode('utf8') for x in list(f_LR['subjlist'])] #LR\n",
    "# Python string method decode() decodes the string using the codec registered for encoding.\n",
    "# It defaults to the default string encoding.\n",
    "print('type(subj_list):',type(subj_list))\n"
   ],
   "outputs": [
    {
     "output_type": "stream",
     "name": "stdout",
     "text": [
      "type(dat): <class 'dict'>\n",
      "type(subj_list): <class 'dict'>\n"
     ]
    }
   ],
   "metadata": {}
  },
  {
   "cell_type": "markdown",
   "source": [
    "## Exploring timecourses"
   ],
   "metadata": {}
  },
  {
   "cell_type": "code",
   "execution_count": 4,
   "source": [
    "# movies were presented in two runs, in the same order and at the same onset times (i.e., no jitter added)\n",
    "\n",
    "vid_names = {}\n",
    "vid_names[\"run1\"] = [\"COAXING-B\", \"BILLIARD-A\", \"DRIFTING-A\", \"Fishing\", \"Random mechanical\"]#RL\n",
    "vid_names[\"run2\"] = [\"Scaring\", \"SEDUCING-B\", \"STAR-A\", \"SURPRISING-B\", \"TENNIS-A\"]#LR\n",
    "\n",
    "vid_cat = {} # video category (mental/random or social/nonsocial)\n",
    "vid_cat[\"run1\"] = [1,0,0,1,0] # 1:mental,0: random\n",
    "vid_cat[\"run2\"] = [1,1,0,1,0]"
   ],
   "outputs": [],
   "metadata": {}
  },
  {
   "cell_type": "markdown",
   "source": [
    "## Import behavioral data\n",
    "\n",
    "- Before extracting the data, let's also identify the behavioral data and remove impossibly short RTs (indicative of accidental button presses etc.)"
   ],
   "metadata": {}
  },
  {
   "cell_type": "code",
   "execution_count": 5,
   "source": [
    "#extract behavioral data, remove impossibly quick responses RT < 100ms\n",
    "# approx 10 responses per subject, hence number of rows ~=10k\n",
    "dir_name_beh = '/Users/f0053cz/Dropbox (Dartmouth College)/postdoc_Dartmouth/HCP/BehaviorAnalyses/Documented scripts/data/'\n",
    "#beh_data = pd.read_csv(dir_name_beh + 'hcp_social_behav_for_ddm_stim-coding.csv')\n",
    "beh_data = pd.read_csv(dir_name_beh + 'hcp_social_behav_for_ddm_stim-coding_corrected.csv')\n",
    "rtmin = 0.1 # threshold for impossibly short RTs\n",
    "\n",
    "print('nrows before=', beh_data.shape)\n",
    "print(\"total subjects before=\",len(np.unique(beh_data['subj_idx'])))\n",
    "\n",
    "#beh_data_old = beh_data\n",
    "beh_data= beh_data[beh_data[\"rt\"]>=rtmin] # remove trials with RT<.1\n",
    "print('\\nnrows after=', beh_data.shape)\n",
    "print(\"total subjects after=\",len(np.unique(beh_data['subj_idx'])))\n",
    "#print(np.where(beh_data.index == subj_shortRT[0]))\n",
    "beh_data.head()"
   ],
   "outputs": [
    {
     "output_type": "stream",
     "name": "stdout",
     "text": [
      "nrows before= (10149, 5)\n",
      "total subjects before= 1051\n",
      "\n",
      "nrows after= (10146, 5)\n",
      "total subjects after= 1051\n"
     ]
    },
    {
     "output_type": "execute_result",
     "data": {
      "text/html": [
       "<div>\n",
       "<style scoped>\n",
       "    .dataframe tbody tr th:only-of-type {\n",
       "        vertical-align: middle;\n",
       "    }\n",
       "\n",
       "    .dataframe tbody tr th {\n",
       "        vertical-align: top;\n",
       "    }\n",
       "\n",
       "    .dataframe thead th {\n",
       "        text-align: right;\n",
       "    }\n",
       "</style>\n",
       "<table border=\"1\" class=\"dataframe\">\n",
       "  <thead>\n",
       "    <tr style=\"text-align: right;\">\n",
       "      <th></th>\n",
       "      <th>subj_idx</th>\n",
       "      <th>stim</th>\n",
       "      <th>movie</th>\n",
       "      <th>rt</th>\n",
       "      <th>response</th>\n",
       "    </tr>\n",
       "  </thead>\n",
       "  <tbody>\n",
       "    <tr>\n",
       "      <th>0</th>\n",
       "      <td>168745</td>\n",
       "      <td>Mental</td>\n",
       "      <td>Scaring.AVI</td>\n",
       "      <td>1.252</td>\n",
       "      <td>1</td>\n",
       "    </tr>\n",
       "    <tr>\n",
       "      <th>1</th>\n",
       "      <td>168745</td>\n",
       "      <td>Mental</td>\n",
       "      <td>SEDUCING-B.AVI</td>\n",
       "      <td>0.578</td>\n",
       "      <td>1</td>\n",
       "    </tr>\n",
       "    <tr>\n",
       "      <th>2</th>\n",
       "      <td>168745</td>\n",
       "      <td>Random</td>\n",
       "      <td>STAR-A.AVI</td>\n",
       "      <td>1.643</td>\n",
       "      <td>0</td>\n",
       "    </tr>\n",
       "    <tr>\n",
       "      <th>3</th>\n",
       "      <td>168745</td>\n",
       "      <td>Mental</td>\n",
       "      <td>SURPRISING-B.AVI</td>\n",
       "      <td>1.082</td>\n",
       "      <td>1</td>\n",
       "    </tr>\n",
       "    <tr>\n",
       "      <th>4</th>\n",
       "      <td>168745</td>\n",
       "      <td>Random</td>\n",
       "      <td>TENNIS-A.AVI</td>\n",
       "      <td>1.232</td>\n",
       "      <td>0</td>\n",
       "    </tr>\n",
       "  </tbody>\n",
       "</table>\n",
       "</div>"
      ],
      "text/plain": [
       "   subj_idx    stim             movie     rt  response\n",
       "0    168745  Mental       Scaring.AVI  1.252         1\n",
       "1    168745  Mental    SEDUCING-B.AVI  0.578         1\n",
       "2    168745  Random        STAR-A.AVI  1.643         0\n",
       "3    168745  Mental  SURPRISING-B.AVI  1.082         1\n",
       "4    168745  Random      TENNIS-A.AVI  1.232         0"
      ]
     },
     "metadata": {},
     "execution_count": 5
    }
   ],
   "metadata": {}
  },
  {
   "cell_type": "code",
   "execution_count": 6,
   "source": [
    "# import notebook from code 1_2_regressors\n",
    "[timepts_indiv_movie,vid_start_rel_tr] = np.load(os.path.join(data_file_loc,'Video_TRs.npy'),allow_pickle=True)\n",
    "# [timepts_indiv_movie,vid_start_rel_tr] \n",
    "#vid_start_rel_tr\n",
    "print([len(i) for i in timepts_indiv_movie])\n",
    "vid_start_rel_tr"
   ],
   "outputs": [
    {
     "output_type": "stream",
     "name": "stdout",
     "text": [
      "[49, 56, 56, 56, 56, 49, 56, 56, 56, 56]\n"
     ]
    },
    {
     "output_type": "execute_result",
     "data": {
      "text/plain": [
       "array([6, 13, 13, 13, 13, 6, 13, 13, 13, 13], dtype=object)"
      ]
     },
     "metadata": {},
     "execution_count": 6
    }
   ],
   "metadata": {}
  },
  {
   "cell_type": "markdown",
   "source": [
    "## Subject-wise preprocessing:\n",
    "- finally coming to the main step\n",
    "- Extraction of relevant TRs for each subject, normalizing and baseline-correcting it and store in a 4D array\n",
    "- code below for both with run-wise norm. and trial-wise norm. (for different analyses later)\n",
    "\n",
    "@CODE REVIEWER: FROM HERE ON, I'D LIKE YOU TO PLEASE VERIFY THAT THERE ARE NO ERRORS PLEASE"
   ],
   "metadata": {}
  },
  {
   "cell_type": "code",
   "execution_count": 7,
   "source": [
    "len(np.unique(beh_data['subj_idx']))"
   ],
   "outputs": [
    {
     "output_type": "execute_result",
     "data": {
      "text/plain": [
       "1051"
      ]
     },
     "metadata": {},
     "execution_count": 7
    }
   ],
   "metadata": {}
  },
  {
   "cell_type": "code",
   "execution_count": 9,
   "source": [
    "# setting common variables for both types of preprocessing \n",
    "\n",
    "nsubj = len(subj_list['run1']) #1053 # total 1053 subs, but only 1048 will be in the final data (others have only one run or delayed stimulus presentation)\n",
    "print('nsubj=',nsubj)\n",
    "nnodes = 268 #268\n",
    "#tr0_ind = 3 # timept at which t=0 for video\n",
    "ntimepts = 56\n",
    "nmovies = 10\n",
    "n_init_TRs_to_delete = 5"
   ],
   "outputs": [
    {
     "output_type": "stream",
     "name": "stdout",
     "text": [
      "nsubj= 1053\n"
     ]
    }
   ],
   "metadata": {}
  },
  {
   "cell_type": "code",
   "execution_count": 10,
   "source": [
    "from scipy.signal import detrend"
   ],
   "outputs": [],
   "metadata": {}
  },
  {
   "cell_type": "markdown",
   "source": [
    "# 1. RUN-wise normalisation (Zscore) and then baseline correction."
   ],
   "metadata": {}
  },
  {
   "cell_type": "code",
   "execution_count": 12,
   "source": [
    "#suff= ' '\n",
    "suff = '_corrected'"
   ],
   "outputs": [],
   "metadata": {}
  },
  {
   "cell_type": "code",
   "execution_count": 15,
   "source": [
    "print('vid_start_rel_tr=',vid_start_rel_tr,'\\nsuff=',suff)"
   ],
   "outputs": [
    {
     "output_type": "stream",
     "name": "stdout",
     "text": [
      "vid_start_rel_tr= [6 13 13 13 13 6 13 13 13 13] \n",
      "suff= _corrected\n"
     ]
    }
   ],
   "metadata": {}
  },
  {
   "cell_type": "code",
   "execution_count": 16,
   "source": [
    "# run-wise normalization is more useful when comparing responses for the same movie. Within-trial comparison is \n",
    "# more useful for across-movie comparisons\n",
    "\n",
    "start = time.time()\n",
    "\n",
    "responses = np.empty((nsubj, nmovies))\n",
    "responses[:] = np.nan # initialise responses with NaN\n",
    "responses_rt = np.empty((nsubj, nmovies))\n",
    "responses_rt[:] = np.nan # initialise responses with NaN\n",
    "sub_id_all = [] # to save subject ID\n",
    "Ynorm = np.empty((nsubj, nnodes, ntimepts, nmovies))\n",
    "Ynorm[:] = np.nan\n",
    "timecourses = np.empty((nsubj,nnodes,269,2))\n",
    "timecourses[:] = np.nan\n",
    "\n",
    "sub_ind = -1 # to store index of subject ID\n",
    "for s1 in np.arange(0,nsubj):\n",
    "    if s1 % 50 == 0: # printing occasional status updates\n",
    "        now = time.time()\n",
    "        print(f'subj:{s1},time elapsed:{(now - start)/60:.2f}mins')\n",
    "    curr_subj = subj_list['run1'][s1] # Subject ID, e.g. '126628'\n",
    "    \n",
    "    try:\n",
    "        s2 = subj_list['run2'].index(curr_subj)\n",
    "        # see if the subject has data for run 2, if not don't count them (execution would go to except segment)\n",
    "\n",
    "        # proceeding if sub has data for both runs\n",
    "        curr_subj = int(curr_subj)\n",
    "        sub_id_all.append(curr_subj) # save subject ID\n",
    "\n",
    "        sub_ind += 1 # for each sub with both runs\n",
    "\n",
    "        for vid_no in np.arange(10): # to store responses for each subject who has both runs\n",
    "            run = 'run1' if vid_no < 5 else 'run2'\n",
    "            vidName = vid_names[run][vid_no%5]\n",
    "            vidName = '.'.join((vidName,'AVI')) # add .avi\n",
    "\n",
    "            if ~((curr_subj == 105620) & (vid_no==0)) : \n",
    "                row = (beh_data['subj_idx'] == curr_subj) & (beh_data['movie'] == vidName)\n",
    "                #print(len(np.where(row)[0]))\n",
    "                if len(np.where(row)[0]) == 1: # unique row for that subj and movie\n",
    "                    responses[sub_ind,vid_no] = beh_data.loc[row,'response']\n",
    "                    responses_rt[sub_ind,vid_no] = beh_data.loc[row,'rt']\n",
    "                elif len(np.where(row)[0]) > 1:\n",
    "                    print('error!!!!') # error in behavioral data selection\n",
    "            \n",
    "            else:\n",
    "                print('Beh: sub_ind:',sub_ind, ',vid_no:', vid_no, 'curr_subj:',curr_subj)\n",
    "\n",
    "        # preproc step 1: within-run normalize each node\n",
    "        for node in range(nnodes):\n",
    "            tc_run1 = dat['run1'][s1,n_init_TRs_to_delete:,node] # data after removing first 5 TRs, so 274-5 TRs/run\n",
    "            tc_run2 = dat['run2'][s2,n_init_TRs_to_delete:,node] \n",
    "\n",
    "            #runSlope[sub_ind,node,0] = np.polyfit(np.arange(tc_run1.shape[0]),tc_run1,1)[0]\n",
    "            # linearly for the run, and save the slope for the run\n",
    "            #runSlope[sub_ind,node,1] = np.polyfit(np.arange(tc_run2.shape[0]),tc_run2,1)[0]\n",
    "\n",
    "            tc_run1 = detrend(tc_run1) # removing linear trends\n",
    "            tc_run2 = detrend(tc_run2)\n",
    "            tc_run1 = stats.zscore(tc_run1) # Z-score normalize values\n",
    "            tc_run2 = stats.zscore(tc_run2)\n",
    "            #tc_run1 = (tc_run1 - np.nanmean(tc_run1))/np.nanstd(tc_run1)\n",
    "            #tc_run2 = (tc_run2 - np.nanmean(tc_run2))/np.nanstd(tc_run2)\n",
    "\n",
    "            timecourses[sub_ind,node,:,0] = tc_run1\n",
    "            timecourses[sub_ind,node,:,1] = tc_run2\n",
    "\n",
    "            # baseline-correct each trial or movie\n",
    "            for vid_no in np.arange(0,nmovies): \n",
    "                #run = 'run1' if vid_no < 5 else 'run2'\n",
    "                if ~((curr_subj == 105620) & (vid_no==0)) : # this subject had a delayed stimulus presentation (removing for ease atm)\n",
    "                    image_TRs = timepts_indiv_movie[vid_no] # TRs within run corresponding to vidno\n",
    "                    Y = tc_run1[image_TRs] if vid_no<5 else tc_run2[image_TRs] # timecourse for a trial/vid_no\n",
    "\n",
    "                    # baseline correction\n",
    "                    if vid_no % 5 == 0:\n",
    "                        Ynorm[sub_ind, node, :49, vid_no] = Y - Y[vid_start_rel_tr[vid_no]] #baseline correct w.r.t the first tr before stim onset and assign to a 4D array\n",
    "                    else:\n",
    "                        Ynorm[sub_ind, node, :  , vid_no] = Y - Y[vid_start_rel_tr[vid_no]] #baseline correct w.r.t the first tr before stim onset and assign to a 4D array\n",
    "                else:\n",
    "                    print('fMRI: node:', node, 'sub_ind:',sub_ind, ',vid_no:', vid_no, 'curr_subj:',curr_subj)\n",
    "\n",
    "    except: # print error message if both runs aren't present (or there's another error in try)\n",
    "            print(['only one subject for ind ',s1,', subjID:',curr_subj])\n",
    "\n",
    "Ynorm = Ynorm[:sub_ind+1,:,:,:] # remove unused rows\n",
    "responses = responses[:sub_ind+1,:]\n",
    "responses_rt = responses_rt[:sub_ind+1,:]\n",
    "timecourses = timecourses[:sub_ind+1,:,:,:]\n",
    "#runSlope = runSlope[:sub_ind+1,:,:]"
   ],
   "outputs": [
    {
     "output_type": "stream",
     "name": "stdout",
     "text": [
      "subj:0,time elapsed:0.04mins\n",
      "subj:50,time elapsed:0.19mins\n",
      "subj:100,time elapsed:0.34mins\n",
      "Beh: sub_ind: 143 ,vid_no: 0 curr_subj: 105620\n",
      "fMRI: node: 0 sub_ind: 143 ,vid_no: 0 curr_subj: 105620\n",
      "fMRI: node: 1 sub_ind: 143 ,vid_no: 0 curr_subj: 105620\n",
      "fMRI: node: 2 sub_ind: 143 ,vid_no: 0 curr_subj: 105620\n",
      "fMRI: node: 3 sub_ind: 143 ,vid_no: 0 curr_subj: 105620\n",
      "fMRI: node: 4 sub_ind: 143 ,vid_no: 0 curr_subj: 105620\n",
      "fMRI: node: 5 sub_ind: 143 ,vid_no: 0 curr_subj: 105620\n",
      "fMRI: node: 6 sub_ind: 143 ,vid_no: 0 curr_subj: 105620\n",
      "fMRI: node: 7 sub_ind: 143 ,vid_no: 0 curr_subj: 105620\n",
      "fMRI: node: 8 sub_ind: 143 ,vid_no: 0 curr_subj: 105620\n",
      "fMRI: node: 9 sub_ind: 143 ,vid_no: 0 curr_subj: 105620\n",
      "fMRI: node: 10 sub_ind: 143 ,vid_no: 0 curr_subj: 105620\n",
      "fMRI: node: 11 sub_ind: 143 ,vid_no: 0 curr_subj: 105620\n",
      "fMRI: node: 12 sub_ind: 143 ,vid_no: 0 curr_subj: 105620\n",
      "fMRI: node: 13 sub_ind: 143 ,vid_no: 0 curr_subj: 105620\n",
      "fMRI: node: 14 sub_ind: 143 ,vid_no: 0 curr_subj: 105620\n",
      "fMRI: node: 15 sub_ind: 143 ,vid_no: 0 curr_subj: 105620\n",
      "fMRI: node: 16 sub_ind: 143 ,vid_no: 0 curr_subj: 105620\n",
      "fMRI: node: 17 sub_ind: 143 ,vid_no: 0 curr_subj: 105620\n",
      "fMRI: node: 18 sub_ind: 143 ,vid_no: 0 curr_subj: 105620\n",
      "fMRI: node: 19 sub_ind: 143 ,vid_no: 0 curr_subj: 105620\n",
      "fMRI: node: 20 sub_ind: 143 ,vid_no: 0 curr_subj: 105620\n",
      "fMRI: node: 21 sub_ind: 143 ,vid_no: 0 curr_subj: 105620\n",
      "fMRI: node: 22 sub_ind: 143 ,vid_no: 0 curr_subj: 105620\n",
      "fMRI: node: 23 sub_ind: 143 ,vid_no: 0 curr_subj: 105620\n",
      "fMRI: node: 24 sub_ind: 143 ,vid_no: 0 curr_subj: 105620\n",
      "fMRI: node: 25 sub_ind: 143 ,vid_no: 0 curr_subj: 105620\n",
      "fMRI: node: 26 sub_ind: 143 ,vid_no: 0 curr_subj: 105620\n",
      "fMRI: node: 27 sub_ind: 143 ,vid_no: 0 curr_subj: 105620\n",
      "fMRI: node: 28 sub_ind: 143 ,vid_no: 0 curr_subj: 105620\n",
      "fMRI: node: 29 sub_ind: 143 ,vid_no: 0 curr_subj: 105620\n",
      "fMRI: node: 30 sub_ind: 143 ,vid_no: 0 curr_subj: 105620\n",
      "fMRI: node: 31 sub_ind: 143 ,vid_no: 0 curr_subj: 105620\n",
      "fMRI: node: 32 sub_ind: 143 ,vid_no: 0 curr_subj: 105620\n",
      "fMRI: node: 33 sub_ind: 143 ,vid_no: 0 curr_subj: 105620\n",
      "fMRI: node: 34 sub_ind: 143 ,vid_no: 0 curr_subj: 105620\n",
      "fMRI: node: 35 sub_ind: 143 ,vid_no: 0 curr_subj: 105620\n",
      "fMRI: node: 36 sub_ind: 143 ,vid_no: 0 curr_subj: 105620\n",
      "fMRI: node: 37 sub_ind: 143 ,vid_no: 0 curr_subj: 105620\n",
      "fMRI: node: 38 sub_ind: 143 ,vid_no: 0 curr_subj: 105620\n",
      "fMRI: node: 39 sub_ind: 143 ,vid_no: 0 curr_subj: 105620\n",
      "fMRI: node: 40 sub_ind: 143 ,vid_no: 0 curr_subj: 105620\n",
      "fMRI: node: 41 sub_ind: 143 ,vid_no: 0 curr_subj: 105620\n",
      "fMRI: node: 42 sub_ind: 143 ,vid_no: 0 curr_subj: 105620\n",
      "fMRI: node: 43 sub_ind: 143 ,vid_no: 0 curr_subj: 105620\n",
      "fMRI: node: 44 sub_ind: 143 ,vid_no: 0 curr_subj: 105620\n",
      "fMRI: node: 45 sub_ind: 143 ,vid_no: 0 curr_subj: 105620\n",
      "fMRI: node: 46 sub_ind: 143 ,vid_no: 0 curr_subj: 105620\n",
      "fMRI: node: 47 sub_ind: 143 ,vid_no: 0 curr_subj: 105620\n",
      "fMRI: node: 48 sub_ind: 143 ,vid_no: 0 curr_subj: 105620\n",
      "fMRI: node: 49 sub_ind: 143 ,vid_no: 0 curr_subj: 105620\n",
      "fMRI: node: 50 sub_ind: 143 ,vid_no: 0 curr_subj: 105620\n",
      "fMRI: node: 51 sub_ind: 143 ,vid_no: 0 curr_subj: 105620\n",
      "fMRI: node: 52 sub_ind: 143 ,vid_no: 0 curr_subj: 105620\n",
      "fMRI: node: 53 sub_ind: 143 ,vid_no: 0 curr_subj: 105620\n",
      "fMRI: node: 54 sub_ind: 143 ,vid_no: 0 curr_subj: 105620\n",
      "fMRI: node: 55 sub_ind: 143 ,vid_no: 0 curr_subj: 105620\n",
      "fMRI: node: 56 sub_ind: 143 ,vid_no: 0 curr_subj: 105620\n",
      "fMRI: node: 57 sub_ind: 143 ,vid_no: 0 curr_subj: 105620\n",
      "fMRI: node: 58 sub_ind: 143 ,vid_no: 0 curr_subj: 105620\n",
      "fMRI: node: 59 sub_ind: 143 ,vid_no: 0 curr_subj: 105620\n",
      "fMRI: node: 60 sub_ind: 143 ,vid_no: 0 curr_subj: 105620\n",
      "fMRI: node: 61 sub_ind: 143 ,vid_no: 0 curr_subj: 105620\n",
      "fMRI: node: 62 sub_ind: 143 ,vid_no: 0 curr_subj: 105620\n",
      "fMRI: node: 63 sub_ind: 143 ,vid_no: 0 curr_subj: 105620\n",
      "fMRI: node: 64 sub_ind: 143 ,vid_no: 0 curr_subj: 105620\n",
      "fMRI: node: 65 sub_ind: 143 ,vid_no: 0 curr_subj: 105620\n",
      "fMRI: node: 66 sub_ind: 143 ,vid_no: 0 curr_subj: 105620\n",
      "fMRI: node: 67 sub_ind: 143 ,vid_no: 0 curr_subj: 105620\n",
      "fMRI: node: 68 sub_ind: 143 ,vid_no: 0 curr_subj: 105620\n",
      "fMRI: node: 69 sub_ind: 143 ,vid_no: 0 curr_subj: 105620\n",
      "fMRI: node: 70 sub_ind: 143 ,vid_no: 0 curr_subj: 105620\n",
      "fMRI: node: 71 sub_ind: 143 ,vid_no: 0 curr_subj: 105620\n",
      "fMRI: node: 72 sub_ind: 143 ,vid_no: 0 curr_subj: 105620\n",
      "fMRI: node: 73 sub_ind: 143 ,vid_no: 0 curr_subj: 105620\n",
      "fMRI: node: 74 sub_ind: 143 ,vid_no: 0 curr_subj: 105620\n",
      "fMRI: node: 75 sub_ind: 143 ,vid_no: 0 curr_subj: 105620\n",
      "fMRI: node: 76 sub_ind: 143 ,vid_no: 0 curr_subj: 105620\n",
      "fMRI: node: 77 sub_ind: 143 ,vid_no: 0 curr_subj: 105620\n",
      "fMRI: node: 78 sub_ind: 143 ,vid_no: 0 curr_subj: 105620\n",
      "fMRI: node: 79 sub_ind: 143 ,vid_no: 0 curr_subj: 105620\n",
      "fMRI: node: 80 sub_ind: 143 ,vid_no: 0 curr_subj: 105620\n",
      "fMRI: node: 81 sub_ind: 143 ,vid_no: 0 curr_subj: 105620\n",
      "fMRI: node: 82 sub_ind: 143 ,vid_no: 0 curr_subj: 105620\n",
      "fMRI: node: 83 sub_ind: 143 ,vid_no: 0 curr_subj: 105620\n",
      "fMRI: node: 84 sub_ind: 143 ,vid_no: 0 curr_subj: 105620\n",
      "fMRI: node: 85 sub_ind: 143 ,vid_no: 0 curr_subj: 105620\n",
      "fMRI: node: 86 sub_ind: 143 ,vid_no: 0 curr_subj: 105620\n",
      "fMRI: node: 87 sub_ind: 143 ,vid_no: 0 curr_subj: 105620\n",
      "fMRI: node: 88 sub_ind: 143 ,vid_no: 0 curr_subj: 105620\n",
      "fMRI: node: 89 sub_ind: 143 ,vid_no: 0 curr_subj: 105620\n",
      "fMRI: node: 90 sub_ind: 143 ,vid_no: 0 curr_subj: 105620\n",
      "fMRI: node: 91 sub_ind: 143 ,vid_no: 0 curr_subj: 105620\n",
      "fMRI: node: 92 sub_ind: 143 ,vid_no: 0 curr_subj: 105620\n",
      "fMRI: node: 93 sub_ind: 143 ,vid_no: 0 curr_subj: 105620\n",
      "fMRI: node: 94 sub_ind: 143 ,vid_no: 0 curr_subj: 105620\n",
      "fMRI: node: 95 sub_ind: 143 ,vid_no: 0 curr_subj: 105620\n",
      "fMRI: node: 96 sub_ind: 143 ,vid_no: 0 curr_subj: 105620\n",
      "fMRI: node: 97 sub_ind: 143 ,vid_no: 0 curr_subj: 105620\n",
      "fMRI: node: 98 sub_ind: 143 ,vid_no: 0 curr_subj: 105620\n",
      "fMRI: node: 99 sub_ind: 143 ,vid_no: 0 curr_subj: 105620\n",
      "fMRI: node: 100 sub_ind: 143 ,vid_no: 0 curr_subj: 105620\n",
      "fMRI: node: 101 sub_ind: 143 ,vid_no: 0 curr_subj: 105620\n",
      "fMRI: node: 102 sub_ind: 143 ,vid_no: 0 curr_subj: 105620\n",
      "fMRI: node: 103 sub_ind: 143 ,vid_no: 0 curr_subj: 105620\n",
      "fMRI: node: 104 sub_ind: 143 ,vid_no: 0 curr_subj: 105620\n",
      "fMRI: node: 105 sub_ind: 143 ,vid_no: 0 curr_subj: 105620\n",
      "fMRI: node: 106 sub_ind: 143 ,vid_no: 0 curr_subj: 105620\n",
      "fMRI: node: 107 sub_ind: 143 ,vid_no: 0 curr_subj: 105620\n",
      "fMRI: node: 108 sub_ind: 143 ,vid_no: 0 curr_subj: 105620\n",
      "fMRI: node: 109 sub_ind: 143 ,vid_no: 0 curr_subj: 105620\n",
      "fMRI: node: 110 sub_ind: 143 ,vid_no: 0 curr_subj: 105620\n",
      "fMRI: node: 111 sub_ind: 143 ,vid_no: 0 curr_subj: 105620\n",
      "fMRI: node: 112 sub_ind: 143 ,vid_no: 0 curr_subj: 105620\n",
      "fMRI: node: 113 sub_ind: 143 ,vid_no: 0 curr_subj: 105620\n",
      "fMRI: node: 114 sub_ind: 143 ,vid_no: 0 curr_subj: 105620\n",
      "fMRI: node: 115 sub_ind: 143 ,vid_no: 0 curr_subj: 105620\n",
      "fMRI: node: 116 sub_ind: 143 ,vid_no: 0 curr_subj: 105620\n",
      "fMRI: node: 117 sub_ind: 143 ,vid_no: 0 curr_subj: 105620\n",
      "fMRI: node: 118 sub_ind: 143 ,vid_no: 0 curr_subj: 105620\n",
      "fMRI: node: 119 sub_ind: 143 ,vid_no: 0 curr_subj: 105620\n",
      "fMRI: node: 120 sub_ind: 143 ,vid_no: 0 curr_subj: 105620\n",
      "fMRI: node: 121 sub_ind: 143 ,vid_no: 0 curr_subj: 105620\n",
      "fMRI: node: 122 sub_ind: 143 ,vid_no: 0 curr_subj: 105620\n",
      "fMRI: node: 123 sub_ind: 143 ,vid_no: 0 curr_subj: 105620\n",
      "fMRI: node: 124 sub_ind: 143 ,vid_no: 0 curr_subj: 105620\n",
      "fMRI: node: 125 sub_ind: 143 ,vid_no: 0 curr_subj: 105620\n",
      "fMRI: node: 126 sub_ind: 143 ,vid_no: 0 curr_subj: 105620\n",
      "fMRI: node: 127 sub_ind: 143 ,vid_no: 0 curr_subj: 105620\n",
      "fMRI: node: 128 sub_ind: 143 ,vid_no: 0 curr_subj: 105620\n",
      "fMRI: node: 129 sub_ind: 143 ,vid_no: 0 curr_subj: 105620\n",
      "fMRI: node: 130 sub_ind: 143 ,vid_no: 0 curr_subj: 105620\n",
      "fMRI: node: 131 sub_ind: 143 ,vid_no: 0 curr_subj: 105620\n",
      "fMRI: node: 132 sub_ind: 143 ,vid_no: 0 curr_subj: 105620\n",
      "fMRI: node: 133 sub_ind: 143 ,vid_no: 0 curr_subj: 105620\n",
      "fMRI: node: 134 sub_ind: 143 ,vid_no: 0 curr_subj: 105620\n",
      "fMRI: node: 135 sub_ind: 143 ,vid_no: 0 curr_subj: 105620\n",
      "fMRI: node: 136 sub_ind: 143 ,vid_no: 0 curr_subj: 105620\n",
      "fMRI: node: 137 sub_ind: 143 ,vid_no: 0 curr_subj: 105620\n",
      "fMRI: node: 138 sub_ind: 143 ,vid_no: 0 curr_subj: 105620\n",
      "fMRI: node: 139 sub_ind: 143 ,vid_no: 0 curr_subj: 105620\n",
      "fMRI: node: 140 sub_ind: 143 ,vid_no: 0 curr_subj: 105620\n",
      "fMRI: node: 141 sub_ind: 143 ,vid_no: 0 curr_subj: 105620\n",
      "fMRI: node: 142 sub_ind: 143 ,vid_no: 0 curr_subj: 105620\n",
      "fMRI: node: 143 sub_ind: 143 ,vid_no: 0 curr_subj: 105620\n",
      "fMRI: node: 144 sub_ind: 143 ,vid_no: 0 curr_subj: 105620\n",
      "fMRI: node: 145 sub_ind: 143 ,vid_no: 0 curr_subj: 105620\n",
      "fMRI: node: 146 sub_ind: 143 ,vid_no: 0 curr_subj: 105620\n",
      "fMRI: node: 147 sub_ind: 143 ,vid_no: 0 curr_subj: 105620\n",
      "fMRI: node: 148 sub_ind: 143 ,vid_no: 0 curr_subj: 105620\n",
      "fMRI: node: 149 sub_ind: 143 ,vid_no: 0 curr_subj: 105620\n",
      "fMRI: node: 150 sub_ind: 143 ,vid_no: 0 curr_subj: 105620\n",
      "fMRI: node: 151 sub_ind: 143 ,vid_no: 0 curr_subj: 105620\n",
      "fMRI: node: 152 sub_ind: 143 ,vid_no: 0 curr_subj: 105620\n",
      "fMRI: node: 153 sub_ind: 143 ,vid_no: 0 curr_subj: 105620\n",
      "fMRI: node: 154 sub_ind: 143 ,vid_no: 0 curr_subj: 105620\n",
      "fMRI: node: 155 sub_ind: 143 ,vid_no: 0 curr_subj: 105620\n",
      "fMRI: node: 156 sub_ind: 143 ,vid_no: 0 curr_subj: 105620\n",
      "fMRI: node: 157 sub_ind: 143 ,vid_no: 0 curr_subj: 105620\n",
      "fMRI: node: 158 sub_ind: 143 ,vid_no: 0 curr_subj: 105620\n",
      "fMRI: node: 159 sub_ind: 143 ,vid_no: 0 curr_subj: 105620\n",
      "fMRI: node: 160 sub_ind: 143 ,vid_no: 0 curr_subj: 105620\n",
      "fMRI: node: 161 sub_ind: 143 ,vid_no: 0 curr_subj: 105620\n",
      "fMRI: node: 162 sub_ind: 143 ,vid_no: 0 curr_subj: 105620\n",
      "fMRI: node: 163 sub_ind: 143 ,vid_no: 0 curr_subj: 105620\n",
      "fMRI: node: 164 sub_ind: 143 ,vid_no: 0 curr_subj: 105620\n",
      "fMRI: node: 165 sub_ind: 143 ,vid_no: 0 curr_subj: 105620\n",
      "fMRI: node: 166 sub_ind: 143 ,vid_no: 0 curr_subj: 105620\n",
      "fMRI: node: 167 sub_ind: 143 ,vid_no: 0 curr_subj: 105620\n",
      "fMRI: node: 168 sub_ind: 143 ,vid_no: 0 curr_subj: 105620\n",
      "fMRI: node: 169 sub_ind: 143 ,vid_no: 0 curr_subj: 105620\n",
      "fMRI: node: 170 sub_ind: 143 ,vid_no: 0 curr_subj: 105620\n",
      "fMRI: node: 171 sub_ind: 143 ,vid_no: 0 curr_subj: 105620\n",
      "fMRI: node: 172 sub_ind: 143 ,vid_no: 0 curr_subj: 105620\n",
      "fMRI: node: 173 sub_ind: 143 ,vid_no: 0 curr_subj: 105620\n",
      "fMRI: node: 174 sub_ind: 143 ,vid_no: 0 curr_subj: 105620\n",
      "fMRI: node: 175 sub_ind: 143 ,vid_no: 0 curr_subj: 105620\n",
      "fMRI: node: 176 sub_ind: 143 ,vid_no: 0 curr_subj: 105620\n",
      "fMRI: node: 177 sub_ind: 143 ,vid_no: 0 curr_subj: 105620\n",
      "fMRI: node: 178 sub_ind: 143 ,vid_no: 0 curr_subj: 105620\n",
      "fMRI: node: 179 sub_ind: 143 ,vid_no: 0 curr_subj: 105620\n",
      "fMRI: node: 180 sub_ind: 143 ,vid_no: 0 curr_subj: 105620\n",
      "fMRI: node: 181 sub_ind: 143 ,vid_no: 0 curr_subj: 105620\n",
      "fMRI: node: 182 sub_ind: 143 ,vid_no: 0 curr_subj: 105620\n",
      "fMRI: node: 183 sub_ind: 143 ,vid_no: 0 curr_subj: 105620\n",
      "fMRI: node: 184 sub_ind: 143 ,vid_no: 0 curr_subj: 105620\n",
      "fMRI: node: 185 sub_ind: 143 ,vid_no: 0 curr_subj: 105620\n",
      "fMRI: node: 186 sub_ind: 143 ,vid_no: 0 curr_subj: 105620\n",
      "fMRI: node: 187 sub_ind: 143 ,vid_no: 0 curr_subj: 105620\n",
      "fMRI: node: 188 sub_ind: 143 ,vid_no: 0 curr_subj: 105620\n",
      "fMRI: node: 189 sub_ind: 143 ,vid_no: 0 curr_subj: 105620\n",
      "fMRI: node: 190 sub_ind: 143 ,vid_no: 0 curr_subj: 105620\n",
      "fMRI: node: 191 sub_ind: 143 ,vid_no: 0 curr_subj: 105620\n",
      "fMRI: node: 192 sub_ind: 143 ,vid_no: 0 curr_subj: 105620\n",
      "fMRI: node: 193 sub_ind: 143 ,vid_no: 0 curr_subj: 105620\n",
      "fMRI: node: 194 sub_ind: 143 ,vid_no: 0 curr_subj: 105620\n",
      "fMRI: node: 195 sub_ind: 143 ,vid_no: 0 curr_subj: 105620\n",
      "fMRI: node: 196 sub_ind: 143 ,vid_no: 0 curr_subj: 105620\n",
      "fMRI: node: 197 sub_ind: 143 ,vid_no: 0 curr_subj: 105620\n",
      "fMRI: node: 198 sub_ind: 143 ,vid_no: 0 curr_subj: 105620\n",
      "fMRI: node: 199 sub_ind: 143 ,vid_no: 0 curr_subj: 105620\n",
      "fMRI: node: 200 sub_ind: 143 ,vid_no: 0 curr_subj: 105620\n",
      "fMRI: node: 201 sub_ind: 143 ,vid_no: 0 curr_subj: 105620\n",
      "fMRI: node: 202 sub_ind: 143 ,vid_no: 0 curr_subj: 105620\n",
      "fMRI: node: 203 sub_ind: 143 ,vid_no: 0 curr_subj: 105620\n",
      "fMRI: node: 204 sub_ind: 143 ,vid_no: 0 curr_subj: 105620\n",
      "fMRI: node: 205 sub_ind: 143 ,vid_no: 0 curr_subj: 105620\n",
      "fMRI: node: 206 sub_ind: 143 ,vid_no: 0 curr_subj: 105620\n",
      "fMRI: node: 207 sub_ind: 143 ,vid_no: 0 curr_subj: 105620\n",
      "fMRI: node: 208 sub_ind: 143 ,vid_no: 0 curr_subj: 105620\n",
      "fMRI: node: 209 sub_ind: 143 ,vid_no: 0 curr_subj: 105620\n",
      "fMRI: node: 210 sub_ind: 143 ,vid_no: 0 curr_subj: 105620\n",
      "fMRI: node: 211 sub_ind: 143 ,vid_no: 0 curr_subj: 105620\n",
      "fMRI: node: 212 sub_ind: 143 ,vid_no: 0 curr_subj: 105620\n",
      "fMRI: node: 213 sub_ind: 143 ,vid_no: 0 curr_subj: 105620\n",
      "fMRI: node: 214 sub_ind: 143 ,vid_no: 0 curr_subj: 105620\n",
      "fMRI: node: 215 sub_ind: 143 ,vid_no: 0 curr_subj: 105620\n",
      "fMRI: node: 216 sub_ind: 143 ,vid_no: 0 curr_subj: 105620\n",
      "fMRI: node: 217 sub_ind: 143 ,vid_no: 0 curr_subj: 105620\n",
      "fMRI: node: 218 sub_ind: 143 ,vid_no: 0 curr_subj: 105620\n",
      "fMRI: node: 219 sub_ind: 143 ,vid_no: 0 curr_subj: 105620\n",
      "fMRI: node: 220 sub_ind: 143 ,vid_no: 0 curr_subj: 105620\n",
      "fMRI: node: 221 sub_ind: 143 ,vid_no: 0 curr_subj: 105620\n",
      "fMRI: node: 222 sub_ind: 143 ,vid_no: 0 curr_subj: 105620\n",
      "fMRI: node: 223 sub_ind: 143 ,vid_no: 0 curr_subj: 105620\n",
      "fMRI: node: 224 sub_ind: 143 ,vid_no: 0 curr_subj: 105620\n",
      "fMRI: node: 225 sub_ind: 143 ,vid_no: 0 curr_subj: 105620\n",
      "fMRI: node: 226 sub_ind: 143 ,vid_no: 0 curr_subj: 105620\n",
      "fMRI: node: 227 sub_ind: 143 ,vid_no: 0 curr_subj: 105620\n",
      "fMRI: node: 228 sub_ind: 143 ,vid_no: 0 curr_subj: 105620\n",
      "fMRI: node: 229 sub_ind: 143 ,vid_no: 0 curr_subj: 105620\n",
      "fMRI: node: 230 sub_ind: 143 ,vid_no: 0 curr_subj: 105620\n",
      "fMRI: node: 231 sub_ind: 143 ,vid_no: 0 curr_subj: 105620\n",
      "fMRI: node: 232 sub_ind: 143 ,vid_no: 0 curr_subj: 105620\n",
      "fMRI: node: 233 sub_ind: 143 ,vid_no: 0 curr_subj: 105620\n",
      "fMRI: node: 234 sub_ind: 143 ,vid_no: 0 curr_subj: 105620\n",
      "fMRI: node: 235 sub_ind: 143 ,vid_no: 0 curr_subj: 105620\n",
      "fMRI: node: 236 sub_ind: 143 ,vid_no: 0 curr_subj: 105620\n",
      "fMRI: node: 237 sub_ind: 143 ,vid_no: 0 curr_subj: 105620\n",
      "fMRI: node: 238 sub_ind: 143 ,vid_no: 0 curr_subj: 105620\n",
      "fMRI: node: 239 sub_ind: 143 ,vid_no: 0 curr_subj: 105620\n",
      "fMRI: node: 240 sub_ind: 143 ,vid_no: 0 curr_subj: 105620\n",
      "fMRI: node: 241 sub_ind: 143 ,vid_no: 0 curr_subj: 105620\n",
      "fMRI: node: 242 sub_ind: 143 ,vid_no: 0 curr_subj: 105620\n",
      "fMRI: node: 243 sub_ind: 143 ,vid_no: 0 curr_subj: 105620\n",
      "fMRI: node: 244 sub_ind: 143 ,vid_no: 0 curr_subj: 105620\n",
      "fMRI: node: 245 sub_ind: 143 ,vid_no: 0 curr_subj: 105620\n",
      "fMRI: node: 246 sub_ind: 143 ,vid_no: 0 curr_subj: 105620\n",
      "fMRI: node: 247 sub_ind: 143 ,vid_no: 0 curr_subj: 105620\n",
      "fMRI: node: 248 sub_ind: 143 ,vid_no: 0 curr_subj: 105620\n",
      "fMRI: node: 249 sub_ind: 143 ,vid_no: 0 curr_subj: 105620\n",
      "fMRI: node: 250 sub_ind: 143 ,vid_no: 0 curr_subj: 105620\n",
      "fMRI: node: 251 sub_ind: 143 ,vid_no: 0 curr_subj: 105620\n",
      "fMRI: node: 252 sub_ind: 143 ,vid_no: 0 curr_subj: 105620\n",
      "fMRI: node: 253 sub_ind: 143 ,vid_no: 0 curr_subj: 105620\n",
      "fMRI: node: 254 sub_ind: 143 ,vid_no: 0 curr_subj: 105620\n",
      "fMRI: node: 255 sub_ind: 143 ,vid_no: 0 curr_subj: 105620\n",
      "fMRI: node: 256 sub_ind: 143 ,vid_no: 0 curr_subj: 105620\n",
      "fMRI: node: 257 sub_ind: 143 ,vid_no: 0 curr_subj: 105620\n",
      "fMRI: node: 258 sub_ind: 143 ,vid_no: 0 curr_subj: 105620\n",
      "fMRI: node: 259 sub_ind: 143 ,vid_no: 0 curr_subj: 105620\n",
      "fMRI: node: 260 sub_ind: 143 ,vid_no: 0 curr_subj: 105620\n",
      "fMRI: node: 261 sub_ind: 143 ,vid_no: 0 curr_subj: 105620\n",
      "fMRI: node: 262 sub_ind: 143 ,vid_no: 0 curr_subj: 105620\n",
      "fMRI: node: 263 sub_ind: 143 ,vid_no: 0 curr_subj: 105620\n",
      "fMRI: node: 264 sub_ind: 143 ,vid_no: 0 curr_subj: 105620\n",
      "fMRI: node: 265 sub_ind: 143 ,vid_no: 0 curr_subj: 105620\n",
      "fMRI: node: 266 sub_ind: 143 ,vid_no: 0 curr_subj: 105620\n",
      "fMRI: node: 267 sub_ind: 143 ,vid_no: 0 curr_subj: 105620\n",
      "subj:150,time elapsed:0.51mins\n",
      "subj:200,time elapsed:0.70mins\n",
      "subj:250,time elapsed:0.87mins\n",
      "subj:300,time elapsed:1.02mins\n",
      "subj:350,time elapsed:1.17mins\n",
      "subj:400,time elapsed:1.33mins\n",
      "['only one subject for ind ', 438, ', subjID:', '175540']\n",
      "subj:450,time elapsed:1.50mins\n",
      "['only one subject for ind ', 453, ', subjID:', '748662']\n",
      "subj:500,time elapsed:1.66mins\n",
      "subj:550,time elapsed:1.82mins\n",
      "subj:600,time elapsed:1.98mins\n",
      "subj:650,time elapsed:2.15mins\n",
      "subj:700,time elapsed:2.30mins\n",
      "['only one subject for ind ', 710, ', subjID:', '248238']\n",
      "['only one subject for ind ', 729, ', subjID:', '103010']\n",
      "subj:750,time elapsed:2.46mins\n",
      "subj:800,time elapsed:2.63mins\n",
      "subj:850,time elapsed:2.80mins\n",
      "subj:900,time elapsed:2.95mins\n",
      "subj:950,time elapsed:3.12mins\n",
      "subj:1000,time elapsed:3.28mins\n",
      "subj:1050,time elapsed:3.45mins\n"
     ]
    }
   ],
   "metadata": {
    "scrolled": false
   }
  },
  {
   "cell_type": "code",
   "execution_count": 17,
   "source": [
    "sub_ind"
   ],
   "outputs": [
    {
     "output_type": "execute_result",
     "data": {
      "text/plain": [
       "1048"
      ]
     },
     "metadata": {},
     "execution_count": 17
    }
   ],
   "metadata": {}
  },
  {
   "cell_type": "code",
   "execution_count": 24,
   "source": [
    "timecourses.shape"
   ],
   "outputs": [
    {
     "output_type": "execute_result",
     "data": {
      "text/plain": [
       "(1049, 268, 269, 2)"
      ]
     },
     "metadata": {},
     "execution_count": 24
    }
   ],
   "metadata": {}
  },
  {
   "cell_type": "code",
   "execution_count": 27,
   "source": [
    "x = np.load(os.path.join(data_file_loc,f'timecourses_corrected.npy'))\n",
    "x.shape"
   ],
   "outputs": [
    {
     "output_type": "execute_result",
     "data": {
      "text/plain": [
       "(1049, 268, 269, 2)"
      ]
     },
     "metadata": {},
     "execution_count": 27
    }
   ],
   "metadata": {}
  },
  {
   "cell_type": "code",
   "execution_count": 25,
   "source": [
    "x = np.load(os.path.join(data_file_loc,f'timecourses_corrected.npy'))\n",
    "x.shape"
   ],
   "outputs": [
    {
     "output_type": "execute_result",
     "data": {
      "text/plain": [
       "'_corrected'"
      ]
     },
     "metadata": {},
     "execution_count": 25
    }
   ],
   "metadata": {}
  },
  {
   "cell_type": "code",
   "execution_count": 26,
   "source": [
    "data_file_loc"
   ],
   "outputs": [
    {
     "output_type": "execute_result",
     "data": {
      "text/plain": [
       "'/Users/f0053cz/Dropbox (Dartmouth College)/postdoc_Dartmouth/HCP/fMRIScipts/data'"
      ]
     },
     "metadata": {},
     "execution_count": 26
    }
   ],
   "metadata": {}
  },
  {
   "cell_type": "code",
   "execution_count": null,
   "source": [
    "if sub_ind == 1048: # i.e., nrows of all files is 1049, suff = \"_corrected\"\n",
    "    np.save(os.path.join(data_file_loc,'timecourses_run_norm',f'timecourse-all-movies_zscorenorm{suff}.npy'), Ynorm) # save timecourses\n",
    "    np.save(os.path.join(data_file_loc,f'responses{suff}.npy'), responses) # save beh responses\n",
    "    np.save(os.path.join(data_file_loc,f'responses_rt{suff}.npy'), responses_rt) # save beh responses\n",
    "    np.save(os.path.join(data_file_loc,f'timecourses{suff}.npy'), timecourses) # save run timecourses (for all movie LMs)\n",
    "    np.save(os.path.join(data_file_loc,f'sub_ID_all{suff}.npy'), sub_id_all) # save run timecourses (for all movie LMs)\n",
    "print('\\n\\nData saved on/at:',datetime.now()) # cell run at"
   ],
   "outputs": [],
   "metadata": {}
  },
  {
   "cell_type": "code",
   "execution_count": 16,
   "source": [
    "np.where(np.array(sub_id_all)==105620)"
   ],
   "outputs": [
    {
     "output_type": "execute_result",
     "data": {
      "text/plain": [
       "(array([143]),)"
      ]
     },
     "metadata": {},
     "execution_count": 16
    }
   ],
   "metadata": {}
  },
  {
   "cell_type": "code",
   "execution_count": 16,
   "source": [
    "plt.figure(1)\n",
    "plt.hlines(0,0,49,color='k')\n",
    "plt.vlines(vid_start_rel_tr[0],-2,2,color='k')\n",
    "plt.plot(Ynorm[0,0,:,0],marker = 'o')\n",
    "\n",
    "plt.figure(2)\n",
    "plt.hlines(0,0,56,color='k')\n",
    "plt.vlines(vid_start_rel_tr[1],-2,2,color='k')\n",
    "plt.plot(Ynorm[0,0,:,1],marker = 'o')\n"
   ],
   "outputs": [
    {
     "output_type": "execute_result",
     "data": {
      "text/plain": [
       "[<matplotlib.lines.Line2D at 0x7ff260afca50>]"
      ]
     },
     "metadata": {},
     "execution_count": 16
    },
    {
     "output_type": "display_data",
     "data": {
      "image/png": "[encoded data removed]",
      "text/plain": [
       "<Figure size 432x288 with 1 Axes>"
      ]
     },
     "metadata": {
      "needs_background": "light"
     }
    },
    {
     "output_type": "display_data",
     "data": {
      "image/png": "[encoded data removed]",
      "text/plain": [
       "<Figure size 432x288 with 1 Axes>"
      ]
     },
     "metadata": {
      "needs_background": "light"
     }
    }
   ],
   "metadata": {}
  },
  {
   "cell_type": "markdown",
   "source": [
    "# 2. TRIAL-wise normalisation (Zscore) and then baseline correction."
   ],
   "metadata": {}
  },
  {
   "cell_type": "code",
   "execution_count": 17,
   "source": [
    "vid_start_rel_tr"
   ],
   "outputs": [
    {
     "output_type": "execute_result",
     "data": {
      "text/plain": [
       "array([6, 13, 13, 13, 13, 6, 13, 13, 13, 13], dtype=object)"
      ]
     },
     "metadata": {},
     "execution_count": 17
    }
   ],
   "metadata": {}
  },
  {
   "cell_type": "code",
   "execution_count": 15,
   "source": [
    "# trial-wise normalization is more useful when comparing responses across movies\n",
    "# takes over 10 mins!!\n",
    "\n",
    "start = time.time()\n",
    "\n",
    "Ynorm = np.empty((nsubj, nnodes, ntimepts, nmovies))\n",
    "Ynorm[:] = np.nan\n",
    "\n",
    "sub_ind = -1 # to store index of subject ID\n",
    "for s1 in np.arange(0,nsubj):\n",
    "    if s1 % 50 == 0: # printing occasional status updates\n",
    "        now = time.time()\n",
    "        print(f'subj:{s1},time elapsed:{(now - start)/60:.2f}mins')\n",
    "    curr_subj = subj_list['run1'][s1] # Subject ID, e.g. '126628'\n",
    "    \n",
    "    try:\n",
    "        s2 = subj_list['run2'].index(curr_subj)\n",
    "        # see if the subject has data for run 2, if not don't count them (execution would go to except segment)\n",
    "\n",
    "        # proceeding if sub has data for both runs\n",
    "        curr_subj = int(curr_subj)\n",
    "        #sub_id_all.append(curr_subj)\n",
    "        sub_ind += 1 # for each sub with both runs\n",
    "\n",
    "        # preproc step 1: within-run normalize each node\n",
    "        for node in range(nnodes):\n",
    "            tc_run1 = dat['run1'][s1,n_init_TRs_to_delete:,node] # data after removing first 5 TRs, so 274-5 TRs/run\n",
    "            tc_run2 = dat['run2'][s2,n_init_TRs_to_delete:,node] \n",
    "\n",
    "            tc_run1 = detrend(tc_run1) # removing linear trends\n",
    "            tc_run2 = detrend(tc_run2)\n",
    "            \n",
    "            # normalize and baseline-correct each trial or movie\n",
    "            for vid_no in np.arange(0,nmovies): \n",
    "                if ~((curr_subj == 105620) & (vid_no==0)) : \n",
    "                    run = 'run1' if vid_no < 5 else 'run2'\n",
    "                    image_TRs = timepts_indiv_movie[vid_no] # TRs within run corresponding to vidno\n",
    "                    Y = tc_run1[image_TRs] if run == 'run1' else tc_run2[image_TRs] # timecourse for a trial/vid_no\n",
    "                    Y = stats.zscore(Y)\n",
    "                    #vid_inds = np.arange(vid_start_rel_tr[vid_no],vid_start_rel_tr[vid_no]+l_task)\n",
    "                    #Y[vid_inds] = stats.zscore(Y[vid_inds])\n",
    "                    \n",
    "                    # baseline correction\n",
    "                    if vid_no % 5 == 0:\n",
    "                        Ynorm[sub_ind,node,:49,vid_no] = Y - Y[vid_start_rel_tr[vid_no]] #baseline correct and assign to a 4D array\n",
    "                    else:\n",
    "                        Ynorm[sub_ind,node,:,vid_no]   = Y - Y[vid_start_rel_tr[vid_no]] #baseline correct and assign to a 4D array\n",
    "                \n",
    "                else:\n",
    "                    print('fMRI: node:', node, 'sub_ind:',sub_ind, ',vid_no:', vid_no, 'curr_subj:',curr_subj)\n",
    "\n",
    "    except: # print error message if both runs aren't present (or there's another error in try)\n",
    "            print(['only one subject for ind ',s1,', subjID:',curr_subj])\n",
    "\n",
    "Ynorm = Ynorm[:sub_ind+1,:,:,:] # remove unused rows\n",
    "\n",
    "if sub_ind == 1048:\n",
    "    np.save(os.path.join(data_file_loc,'timecourses_trial_norm',f'timecourse-all-movies_zscorenorm{suff}.npy'), Ynorm) # save timecourses\n",
    "\n",
    "print('\\n\\nData saved on/at:',datetime.now()) # cell run at"
   ],
   "outputs": [
    {
     "output_type": "stream",
     "name": "stdout",
     "text": [
      "subj:0,time elapsed:0.01mins\n",
      "subj:50,time elapsed:0.26mins\n",
      "subj:100,time elapsed:0.50mins\n",
      "fMRI: node: 0 sub_ind: 143 ,vid_no: 0 curr_subj: 105620\n",
      "fMRI: node: 1 sub_ind: 143 ,vid_no: 0 curr_subj: 105620\n",
      "fMRI: node: 2 sub_ind: 143 ,vid_no: 0 curr_subj: 105620\n",
      "fMRI: node: 3 sub_ind: 143 ,vid_no: 0 curr_subj: 105620\n",
      "fMRI: node: 4 sub_ind: 143 ,vid_no: 0 curr_subj: 105620\n",
      "fMRI: node: 5 sub_ind: 143 ,vid_no: 0 curr_subj: 105620\n",
      "fMRI: node: 6 sub_ind: 143 ,vid_no: 0 curr_subj: 105620\n",
      "fMRI: node: 7 sub_ind: 143 ,vid_no: 0 curr_subj: 105620\n",
      "fMRI: node: 8 sub_ind: 143 ,vid_no: 0 curr_subj: 105620\n",
      "fMRI: node: 9 sub_ind: 143 ,vid_no: 0 curr_subj: 105620\n",
      "fMRI: node: 10 sub_ind: 143 ,vid_no: 0 curr_subj: 105620\n",
      "fMRI: node: 11 sub_ind: 143 ,vid_no: 0 curr_subj: 105620\n",
      "fMRI: node: 12 sub_ind: 143 ,vid_no: 0 curr_subj: 105620\n",
      "fMRI: node: 13 sub_ind: 143 ,vid_no: 0 curr_subj: 105620\n",
      "fMRI: node: 14 sub_ind: 143 ,vid_no: 0 curr_subj: 105620\n",
      "fMRI: node: 15 sub_ind: 143 ,vid_no: 0 curr_subj: 105620\n",
      "fMRI: node: 16 sub_ind: 143 ,vid_no: 0 curr_subj: 105620\n",
      "fMRI: node: 17 sub_ind: 143 ,vid_no: 0 curr_subj: 105620\n",
      "fMRI: node: 18 sub_ind: 143 ,vid_no: 0 curr_subj: 105620\n",
      "fMRI: node: 19 sub_ind: 143 ,vid_no: 0 curr_subj: 105620\n",
      "fMRI: node: 20 sub_ind: 143 ,vid_no: 0 curr_subj: 105620\n",
      "fMRI: node: 21 sub_ind: 143 ,vid_no: 0 curr_subj: 105620\n",
      "fMRI: node: 22 sub_ind: 143 ,vid_no: 0 curr_subj: 105620\n",
      "fMRI: node: 23 sub_ind: 143 ,vid_no: 0 curr_subj: 105620\n",
      "fMRI: node: 24 sub_ind: 143 ,vid_no: 0 curr_subj: 105620\n",
      "fMRI: node: 25 sub_ind: 143 ,vid_no: 0 curr_subj: 105620\n",
      "fMRI: node: 26 sub_ind: 143 ,vid_no: 0 curr_subj: 105620\n",
      "fMRI: node: 27 sub_ind: 143 ,vid_no: 0 curr_subj: 105620\n",
      "fMRI: node: 28 sub_ind: 143 ,vid_no: 0 curr_subj: 105620\n",
      "fMRI: node: 29 sub_ind: 143 ,vid_no: 0 curr_subj: 105620\n",
      "fMRI: node: 30 sub_ind: 143 ,vid_no: 0 curr_subj: 105620\n",
      "fMRI: node: 31 sub_ind: 143 ,vid_no: 0 curr_subj: 105620\n",
      "fMRI: node: 32 sub_ind: 143 ,vid_no: 0 curr_subj: 105620\n",
      "fMRI: node: 33 sub_ind: 143 ,vid_no: 0 curr_subj: 105620\n",
      "fMRI: node: 34 sub_ind: 143 ,vid_no: 0 curr_subj: 105620\n",
      "fMRI: node: 35 sub_ind: 143 ,vid_no: 0 curr_subj: 105620\n",
      "fMRI: node: 36 sub_ind: 143 ,vid_no: 0 curr_subj: 105620\n",
      "fMRI: node: 37 sub_ind: 143 ,vid_no: 0 curr_subj: 105620\n",
      "fMRI: node: 38 sub_ind: 143 ,vid_no: 0 curr_subj: 105620\n",
      "fMRI: node: 39 sub_ind: 143 ,vid_no: 0 curr_subj: 105620\n",
      "fMRI: node: 40 sub_ind: 143 ,vid_no: 0 curr_subj: 105620\n",
      "fMRI: node: 41 sub_ind: 143 ,vid_no: 0 curr_subj: 105620\n",
      "fMRI: node: 42 sub_ind: 143 ,vid_no: 0 curr_subj: 105620\n",
      "fMRI: node: 43 sub_ind: 143 ,vid_no: 0 curr_subj: 105620\n",
      "fMRI: node: 44 sub_ind: 143 ,vid_no: 0 curr_subj: 105620\n",
      "fMRI: node: 45 sub_ind: 143 ,vid_no: 0 curr_subj: 105620\n",
      "fMRI: node: 46 sub_ind: 143 ,vid_no: 0 curr_subj: 105620\n",
      "fMRI: node: 47 sub_ind: 143 ,vid_no: 0 curr_subj: 105620\n",
      "fMRI: node: 48 sub_ind: 143 ,vid_no: 0 curr_subj: 105620\n",
      "fMRI: node: 49 sub_ind: 143 ,vid_no: 0 curr_subj: 105620\n",
      "fMRI: node: 50 sub_ind: 143 ,vid_no: 0 curr_subj: 105620\n",
      "fMRI: node: 51 sub_ind: 143 ,vid_no: 0 curr_subj: 105620\n",
      "fMRI: node: 52 sub_ind: 143 ,vid_no: 0 curr_subj: 105620\n",
      "fMRI: node: 53 sub_ind: 143 ,vid_no: 0 curr_subj: 105620\n",
      "fMRI: node: 54 sub_ind: 143 ,vid_no: 0 curr_subj: 105620\n",
      "fMRI: node: 55 sub_ind: 143 ,vid_no: 0 curr_subj: 105620\n",
      "fMRI: node: 56 sub_ind: 143 ,vid_no: 0 curr_subj: 105620\n",
      "fMRI: node: 57 sub_ind: 143 ,vid_no: 0 curr_subj: 105620\n",
      "fMRI: node: 58 sub_ind: 143 ,vid_no: 0 curr_subj: 105620\n",
      "fMRI: node: 59 sub_ind: 143 ,vid_no: 0 curr_subj: 105620\n",
      "fMRI: node: 60 sub_ind: 143 ,vid_no: 0 curr_subj: 105620\n",
      "fMRI: node: 61 sub_ind: 143 ,vid_no: 0 curr_subj: 105620\n",
      "fMRI: node: 62 sub_ind: 143 ,vid_no: 0 curr_subj: 105620\n",
      "fMRI: node: 63 sub_ind: 143 ,vid_no: 0 curr_subj: 105620\n",
      "fMRI: node: 64 sub_ind: 143 ,vid_no: 0 curr_subj: 105620\n",
      "fMRI: node: 65 sub_ind: 143 ,vid_no: 0 curr_subj: 105620\n",
      "fMRI: node: 66 sub_ind: 143 ,vid_no: 0 curr_subj: 105620\n",
      "fMRI: node: 67 sub_ind: 143 ,vid_no: 0 curr_subj: 105620\n",
      "fMRI: node: 68 sub_ind: 143 ,vid_no: 0 curr_subj: 105620\n",
      "fMRI: node: 69 sub_ind: 143 ,vid_no: 0 curr_subj: 105620\n",
      "fMRI: node: 70 sub_ind: 143 ,vid_no: 0 curr_subj: 105620\n",
      "fMRI: node: 71 sub_ind: 143 ,vid_no: 0 curr_subj: 105620\n",
      "fMRI: node: 72 sub_ind: 143 ,vid_no: 0 curr_subj: 105620\n",
      "fMRI: node: 73 sub_ind: 143 ,vid_no: 0 curr_subj: 105620\n",
      "fMRI: node: 74 sub_ind: 143 ,vid_no: 0 curr_subj: 105620\n",
      "fMRI: node: 75 sub_ind: 143 ,vid_no: 0 curr_subj: 105620\n",
      "fMRI: node: 76 sub_ind: 143 ,vid_no: 0 curr_subj: 105620\n",
      "fMRI: node: 77 sub_ind: 143 ,vid_no: 0 curr_subj: 105620\n",
      "fMRI: node: 78 sub_ind: 143 ,vid_no: 0 curr_subj: 105620\n",
      "fMRI: node: 79 sub_ind: 143 ,vid_no: 0 curr_subj: 105620\n",
      "fMRI: node: 80 sub_ind: 143 ,vid_no: 0 curr_subj: 105620\n",
      "fMRI: node: 81 sub_ind: 143 ,vid_no: 0 curr_subj: 105620\n",
      "fMRI: node: 82 sub_ind: 143 ,vid_no: 0 curr_subj: 105620\n",
      "fMRI: node: 83 sub_ind: 143 ,vid_no: 0 curr_subj: 105620\n",
      "fMRI: node: 84 sub_ind: 143 ,vid_no: 0 curr_subj: 105620\n",
      "fMRI: node: 85 sub_ind: 143 ,vid_no: 0 curr_subj: 105620\n",
      "fMRI: node: 86 sub_ind: 143 ,vid_no: 0 curr_subj: 105620\n",
      "fMRI: node: 87 sub_ind: 143 ,vid_no: 0 curr_subj: 105620\n",
      "fMRI: node: 88 sub_ind: 143 ,vid_no: 0 curr_subj: 105620\n",
      "fMRI: node: 89 sub_ind: 143 ,vid_no: 0 curr_subj: 105620\n",
      "fMRI: node: 90 sub_ind: 143 ,vid_no: 0 curr_subj: 105620\n",
      "fMRI: node: 91 sub_ind: 143 ,vid_no: 0 curr_subj: 105620\n",
      "fMRI: node: 92 sub_ind: 143 ,vid_no: 0 curr_subj: 105620\n",
      "fMRI: node: 93 sub_ind: 143 ,vid_no: 0 curr_subj: 105620\n",
      "fMRI: node: 94 sub_ind: 143 ,vid_no: 0 curr_subj: 105620\n",
      "fMRI: node: 95 sub_ind: 143 ,vid_no: 0 curr_subj: 105620\n",
      "fMRI: node: 96 sub_ind: 143 ,vid_no: 0 curr_subj: 105620\n",
      "fMRI: node: 97 sub_ind: 143 ,vid_no: 0 curr_subj: 105620\n",
      "fMRI: node: 98 sub_ind: 143 ,vid_no: 0 curr_subj: 105620\n",
      "fMRI: node: 99 sub_ind: 143 ,vid_no: 0 curr_subj: 105620\n",
      "fMRI: node: 100 sub_ind: 143 ,vid_no: 0 curr_subj: 105620\n",
      "fMRI: node: 101 sub_ind: 143 ,vid_no: 0 curr_subj: 105620\n",
      "fMRI: node: 102 sub_ind: 143 ,vid_no: 0 curr_subj: 105620\n",
      "fMRI: node: 103 sub_ind: 143 ,vid_no: 0 curr_subj: 105620\n",
      "fMRI: node: 104 sub_ind: 143 ,vid_no: 0 curr_subj: 105620\n",
      "fMRI: node: 105 sub_ind: 143 ,vid_no: 0 curr_subj: 105620\n",
      "fMRI: node: 106 sub_ind: 143 ,vid_no: 0 curr_subj: 105620\n",
      "fMRI: node: 107 sub_ind: 143 ,vid_no: 0 curr_subj: 105620\n",
      "fMRI: node: 108 sub_ind: 143 ,vid_no: 0 curr_subj: 105620\n",
      "fMRI: node: 109 sub_ind: 143 ,vid_no: 0 curr_subj: 105620\n",
      "fMRI: node: 110 sub_ind: 143 ,vid_no: 0 curr_subj: 105620\n",
      "fMRI: node: 111 sub_ind: 143 ,vid_no: 0 curr_subj: 105620\n",
      "fMRI: node: 112 sub_ind: 143 ,vid_no: 0 curr_subj: 105620\n",
      "fMRI: node: 113 sub_ind: 143 ,vid_no: 0 curr_subj: 105620\n",
      "fMRI: node: 114 sub_ind: 143 ,vid_no: 0 curr_subj: 105620\n",
      "fMRI: node: 115 sub_ind: 143 ,vid_no: 0 curr_subj: 105620\n",
      "fMRI: node: 116 sub_ind: 143 ,vid_no: 0 curr_subj: 105620\n",
      "fMRI: node: 117 sub_ind: 143 ,vid_no: 0 curr_subj: 105620\n",
      "fMRI: node: 118 sub_ind: 143 ,vid_no: 0 curr_subj: 105620\n",
      "fMRI: node: 119 sub_ind: 143 ,vid_no: 0 curr_subj: 105620\n",
      "fMRI: node: 120 sub_ind: 143 ,vid_no: 0 curr_subj: 105620\n",
      "fMRI: node: 121 sub_ind: 143 ,vid_no: 0 curr_subj: 105620\n",
      "fMRI: node: 122 sub_ind: 143 ,vid_no: 0 curr_subj: 105620\n",
      "fMRI: node: 123 sub_ind: 143 ,vid_no: 0 curr_subj: 105620\n",
      "fMRI: node: 124 sub_ind: 143 ,vid_no: 0 curr_subj: 105620\n",
      "fMRI: node: 125 sub_ind: 143 ,vid_no: 0 curr_subj: 105620\n",
      "fMRI: node: 126 sub_ind: 143 ,vid_no: 0 curr_subj: 105620\n",
      "fMRI: node: 127 sub_ind: 143 ,vid_no: 0 curr_subj: 105620\n",
      "fMRI: node: 128 sub_ind: 143 ,vid_no: 0 curr_subj: 105620\n",
      "fMRI: node: 129 sub_ind: 143 ,vid_no: 0 curr_subj: 105620\n",
      "fMRI: node: 130 sub_ind: 143 ,vid_no: 0 curr_subj: 105620\n",
      "fMRI: node: 131 sub_ind: 143 ,vid_no: 0 curr_subj: 105620\n",
      "fMRI: node: 132 sub_ind: 143 ,vid_no: 0 curr_subj: 105620\n",
      "fMRI: node: 133 sub_ind: 143 ,vid_no: 0 curr_subj: 105620\n",
      "fMRI: node: 134 sub_ind: 143 ,vid_no: 0 curr_subj: 105620\n",
      "fMRI: node: 135 sub_ind: 143 ,vid_no: 0 curr_subj: 105620\n",
      "fMRI: node: 136 sub_ind: 143 ,vid_no: 0 curr_subj: 105620\n",
      "fMRI: node: 137 sub_ind: 143 ,vid_no: 0 curr_subj: 105620\n",
      "fMRI: node: 138 sub_ind: 143 ,vid_no: 0 curr_subj: 105620\n",
      "fMRI: node: 139 sub_ind: 143 ,vid_no: 0 curr_subj: 105620\n",
      "fMRI: node: 140 sub_ind: 143 ,vid_no: 0 curr_subj: 105620\n",
      "fMRI: node: 141 sub_ind: 143 ,vid_no: 0 curr_subj: 105620\n",
      "fMRI: node: 142 sub_ind: 143 ,vid_no: 0 curr_subj: 105620\n",
      "fMRI: node: 143 sub_ind: 143 ,vid_no: 0 curr_subj: 105620\n",
      "fMRI: node: 144 sub_ind: 143 ,vid_no: 0 curr_subj: 105620\n",
      "fMRI: node: 145 sub_ind: 143 ,vid_no: 0 curr_subj: 105620\n",
      "fMRI: node: 146 sub_ind: 143 ,vid_no: 0 curr_subj: 105620\n",
      "fMRI: node: 147 sub_ind: 143 ,vid_no: 0 curr_subj: 105620\n",
      "fMRI: node: 148 sub_ind: 143 ,vid_no: 0 curr_subj: 105620\n",
      "fMRI: node: 149 sub_ind: 143 ,vid_no: 0 curr_subj: 105620\n",
      "fMRI: node: 150 sub_ind: 143 ,vid_no: 0 curr_subj: 105620\n",
      "fMRI: node: 151 sub_ind: 143 ,vid_no: 0 curr_subj: 105620\n",
      "fMRI: node: 152 sub_ind: 143 ,vid_no: 0 curr_subj: 105620\n",
      "fMRI: node: 153 sub_ind: 143 ,vid_no: 0 curr_subj: 105620\n",
      "fMRI: node: 154 sub_ind: 143 ,vid_no: 0 curr_subj: 105620\n",
      "fMRI: node: 155 sub_ind: 143 ,vid_no: 0 curr_subj: 105620\n",
      "fMRI: node: 156 sub_ind: 143 ,vid_no: 0 curr_subj: 105620\n",
      "fMRI: node: 157 sub_ind: 143 ,vid_no: 0 curr_subj: 105620\n",
      "fMRI: node: 158 sub_ind: 143 ,vid_no: 0 curr_subj: 105620\n",
      "fMRI: node: 159 sub_ind: 143 ,vid_no: 0 curr_subj: 105620\n",
      "fMRI: node: 160 sub_ind: 143 ,vid_no: 0 curr_subj: 105620\n",
      "fMRI: node: 161 sub_ind: 143 ,vid_no: 0 curr_subj: 105620\n",
      "fMRI: node: 162 sub_ind: 143 ,vid_no: 0 curr_subj: 105620\n",
      "fMRI: node: 163 sub_ind: 143 ,vid_no: 0 curr_subj: 105620\n",
      "fMRI: node: 164 sub_ind: 143 ,vid_no: 0 curr_subj: 105620\n",
      "fMRI: node: 165 sub_ind: 143 ,vid_no: 0 curr_subj: 105620\n",
      "fMRI: node: 166 sub_ind: 143 ,vid_no: 0 curr_subj: 105620\n",
      "fMRI: node: 167 sub_ind: 143 ,vid_no: 0 curr_subj: 105620\n",
      "fMRI: node: 168 sub_ind: 143 ,vid_no: 0 curr_subj: 105620\n",
      "fMRI: node: 169 sub_ind: 143 ,vid_no: 0 curr_subj: 105620\n",
      "fMRI: node: 170 sub_ind: 143 ,vid_no: 0 curr_subj: 105620\n",
      "fMRI: node: 171 sub_ind: 143 ,vid_no: 0 curr_subj: 105620\n",
      "fMRI: node: 172 sub_ind: 143 ,vid_no: 0 curr_subj: 105620\n",
      "fMRI: node: 173 sub_ind: 143 ,vid_no: 0 curr_subj: 105620\n",
      "fMRI: node: 174 sub_ind: 143 ,vid_no: 0 curr_subj: 105620\n",
      "fMRI: node: 175 sub_ind: 143 ,vid_no: 0 curr_subj: 105620\n",
      "fMRI: node: 176 sub_ind: 143 ,vid_no: 0 curr_subj: 105620\n",
      "fMRI: node: 177 sub_ind: 143 ,vid_no: 0 curr_subj: 105620\n",
      "fMRI: node: 178 sub_ind: 143 ,vid_no: 0 curr_subj: 105620\n",
      "fMRI: node: 179 sub_ind: 143 ,vid_no: 0 curr_subj: 105620\n",
      "fMRI: node: 180 sub_ind: 143 ,vid_no: 0 curr_subj: 105620\n",
      "fMRI: node: 181 sub_ind: 143 ,vid_no: 0 curr_subj: 105620\n",
      "fMRI: node: 182 sub_ind: 143 ,vid_no: 0 curr_subj: 105620\n",
      "fMRI: node: 183 sub_ind: 143 ,vid_no: 0 curr_subj: 105620\n",
      "fMRI: node: 184 sub_ind: 143 ,vid_no: 0 curr_subj: 105620\n",
      "fMRI: node: 185 sub_ind: 143 ,vid_no: 0 curr_subj: 105620\n",
      "fMRI: node: 186 sub_ind: 143 ,vid_no: 0 curr_subj: 105620\n",
      "fMRI: node: 187 sub_ind: 143 ,vid_no: 0 curr_subj: 105620\n",
      "fMRI: node: 188 sub_ind: 143 ,vid_no: 0 curr_subj: 105620\n",
      "fMRI: node: 189 sub_ind: 143 ,vid_no: 0 curr_subj: 105620\n",
      "fMRI: node: 190 sub_ind: 143 ,vid_no: 0 curr_subj: 105620\n",
      "fMRI: node: 191 sub_ind: 143 ,vid_no: 0 curr_subj: 105620\n",
      "fMRI: node: 192 sub_ind: 143 ,vid_no: 0 curr_subj: 105620\n",
      "fMRI: node: 193 sub_ind: 143 ,vid_no: 0 curr_subj: 105620\n",
      "fMRI: node: 194 sub_ind: 143 ,vid_no: 0 curr_subj: 105620\n",
      "fMRI: node: 195 sub_ind: 143 ,vid_no: 0 curr_subj: 105620\n",
      "fMRI: node: 196 sub_ind: 143 ,vid_no: 0 curr_subj: 105620\n",
      "fMRI: node: 197 sub_ind: 143 ,vid_no: 0 curr_subj: 105620\n",
      "fMRI: node: 198 sub_ind: 143 ,vid_no: 0 curr_subj: 105620\n",
      "fMRI: node: 199 sub_ind: 143 ,vid_no: 0 curr_subj: 105620\n",
      "fMRI: node: 200 sub_ind: 143 ,vid_no: 0 curr_subj: 105620\n",
      "fMRI: node: 201 sub_ind: 143 ,vid_no: 0 curr_subj: 105620\n",
      "fMRI: node: 202 sub_ind: 143 ,vid_no: 0 curr_subj: 105620\n",
      "fMRI: node: 203 sub_ind: 143 ,vid_no: 0 curr_subj: 105620\n",
      "fMRI: node: 204 sub_ind: 143 ,vid_no: 0 curr_subj: 105620\n",
      "fMRI: node: 205 sub_ind: 143 ,vid_no: 0 curr_subj: 105620\n",
      "fMRI: node: 206 sub_ind: 143 ,vid_no: 0 curr_subj: 105620\n",
      "fMRI: node: 207 sub_ind: 143 ,vid_no: 0 curr_subj: 105620\n",
      "fMRI: node: 208 sub_ind: 143 ,vid_no: 0 curr_subj: 105620\n",
      "fMRI: node: 209 sub_ind: 143 ,vid_no: 0 curr_subj: 105620\n",
      "fMRI: node: 210 sub_ind: 143 ,vid_no: 0 curr_subj: 105620\n",
      "fMRI: node: 211 sub_ind: 143 ,vid_no: 0 curr_subj: 105620\n",
      "fMRI: node: 212 sub_ind: 143 ,vid_no: 0 curr_subj: 105620\n",
      "fMRI: node: 213 sub_ind: 143 ,vid_no: 0 curr_subj: 105620\n",
      "fMRI: node: 214 sub_ind: 143 ,vid_no: 0 curr_subj: 105620\n",
      "fMRI: node: 215 sub_ind: 143 ,vid_no: 0 curr_subj: 105620\n",
      "fMRI: node: 216 sub_ind: 143 ,vid_no: 0 curr_subj: 105620\n",
      "fMRI: node: 217 sub_ind: 143 ,vid_no: 0 curr_subj: 105620\n",
      "fMRI: node: 218 sub_ind: 143 ,vid_no: 0 curr_subj: 105620\n",
      "fMRI: node: 219 sub_ind: 143 ,vid_no: 0 curr_subj: 105620\n",
      "fMRI: node: 220 sub_ind: 143 ,vid_no: 0 curr_subj: 105620\n",
      "fMRI: node: 221 sub_ind: 143 ,vid_no: 0 curr_subj: 105620\n",
      "fMRI: node: 222 sub_ind: 143 ,vid_no: 0 curr_subj: 105620\n",
      "fMRI: node: 223 sub_ind: 143 ,vid_no: 0 curr_subj: 105620\n",
      "fMRI: node: 224 sub_ind: 143 ,vid_no: 0 curr_subj: 105620\n",
      "fMRI: node: 225 sub_ind: 143 ,vid_no: 0 curr_subj: 105620\n",
      "fMRI: node: 226 sub_ind: 143 ,vid_no: 0 curr_subj: 105620\n",
      "fMRI: node: 227 sub_ind: 143 ,vid_no: 0 curr_subj: 105620\n",
      "fMRI: node: 228 sub_ind: 143 ,vid_no: 0 curr_subj: 105620\n",
      "fMRI: node: 229 sub_ind: 143 ,vid_no: 0 curr_subj: 105620\n",
      "fMRI: node: 230 sub_ind: 143 ,vid_no: 0 curr_subj: 105620\n",
      "fMRI: node: 231 sub_ind: 143 ,vid_no: 0 curr_subj: 105620\n",
      "fMRI: node: 232 sub_ind: 143 ,vid_no: 0 curr_subj: 105620\n",
      "fMRI: node: 233 sub_ind: 143 ,vid_no: 0 curr_subj: 105620\n",
      "fMRI: node: 234 sub_ind: 143 ,vid_no: 0 curr_subj: 105620\n",
      "fMRI: node: 235 sub_ind: 143 ,vid_no: 0 curr_subj: 105620\n",
      "fMRI: node: 236 sub_ind: 143 ,vid_no: 0 curr_subj: 105620\n",
      "fMRI: node: 237 sub_ind: 143 ,vid_no: 0 curr_subj: 105620\n",
      "fMRI: node: 238 sub_ind: 143 ,vid_no: 0 curr_subj: 105620\n",
      "fMRI: node: 239 sub_ind: 143 ,vid_no: 0 curr_subj: 105620\n",
      "fMRI: node: 240 sub_ind: 143 ,vid_no: 0 curr_subj: 105620\n",
      "fMRI: node: 241 sub_ind: 143 ,vid_no: 0 curr_subj: 105620\n",
      "fMRI: node: 242 sub_ind: 143 ,vid_no: 0 curr_subj: 105620\n",
      "fMRI: node: 243 sub_ind: 143 ,vid_no: 0 curr_subj: 105620\n",
      "fMRI: node: 244 sub_ind: 143 ,vid_no: 0 curr_subj: 105620\n",
      "fMRI: node: 245 sub_ind: 143 ,vid_no: 0 curr_subj: 105620\n",
      "fMRI: node: 246 sub_ind: 143 ,vid_no: 0 curr_subj: 105620\n",
      "fMRI: node: 247 sub_ind: 143 ,vid_no: 0 curr_subj: 105620\n",
      "fMRI: node: 248 sub_ind: 143 ,vid_no: 0 curr_subj: 105620\n",
      "fMRI: node: 249 sub_ind: 143 ,vid_no: 0 curr_subj: 105620\n",
      "fMRI: node: 250 sub_ind: 143 ,vid_no: 0 curr_subj: 105620\n",
      "fMRI: node: 251 sub_ind: 143 ,vid_no: 0 curr_subj: 105620\n",
      "fMRI: node: 252 sub_ind: 143 ,vid_no: 0 curr_subj: 105620\n",
      "fMRI: node: 253 sub_ind: 143 ,vid_no: 0 curr_subj: 105620\n",
      "fMRI: node: 254 sub_ind: 143 ,vid_no: 0 curr_subj: 105620\n",
      "fMRI: node: 255 sub_ind: 143 ,vid_no: 0 curr_subj: 105620\n",
      "fMRI: node: 256 sub_ind: 143 ,vid_no: 0 curr_subj: 105620\n",
      "fMRI: node: 257 sub_ind: 143 ,vid_no: 0 curr_subj: 105620\n",
      "fMRI: node: 258 sub_ind: 143 ,vid_no: 0 curr_subj: 105620\n",
      "fMRI: node: 259 sub_ind: 143 ,vid_no: 0 curr_subj: 105620\n",
      "fMRI: node: 260 sub_ind: 143 ,vid_no: 0 curr_subj: 105620\n",
      "fMRI: node: 261 sub_ind: 143 ,vid_no: 0 curr_subj: 105620\n",
      "fMRI: node: 262 sub_ind: 143 ,vid_no: 0 curr_subj: 105620\n",
      "fMRI: node: 263 sub_ind: 143 ,vid_no: 0 curr_subj: 105620\n",
      "fMRI: node: 264 sub_ind: 143 ,vid_no: 0 curr_subj: 105620\n",
      "fMRI: node: 265 sub_ind: 143 ,vid_no: 0 curr_subj: 105620\n",
      "fMRI: node: 266 sub_ind: 143 ,vid_no: 0 curr_subj: 105620\n",
      "fMRI: node: 267 sub_ind: 143 ,vid_no: 0 curr_subj: 105620\n",
      "subj:150,time elapsed:0.74mins\n",
      "subj:200,time elapsed:0.99mins\n",
      "subj:250,time elapsed:1.22mins\n",
      "subj:300,time elapsed:1.47mins\n",
      "subj:350,time elapsed:1.71mins\n",
      "subj:400,time elapsed:1.96mins\n",
      "['only one subject for ind ', 438, ', subjID:', '175540']\n",
      "subj:450,time elapsed:2.20mins\n",
      "['only one subject for ind ', 453, ', subjID:', '748662']\n",
      "subj:500,time elapsed:2.44mins\n",
      "subj:550,time elapsed:2.68mins\n",
      "subj:600,time elapsed:2.93mins\n",
      "subj:650,time elapsed:3.16mins\n",
      "subj:700,time elapsed:3.40mins\n",
      "['only one subject for ind ', 710, ', subjID:', '248238']\n",
      "['only one subject for ind ', 729, ', subjID:', '103010']\n",
      "subj:750,time elapsed:3.63mins\n",
      "subj:800,time elapsed:3.87mins\n",
      "subj:850,time elapsed:4.11mins\n",
      "subj:900,time elapsed:4.35mins\n",
      "subj:950,time elapsed:4.64mins\n",
      "subj:1000,time elapsed:4.92mins\n",
      "subj:1050,time elapsed:5.18mins\n",
      "\n",
      "\n",
      "Data saved on/at: 2022-03-13 18:40:16.170755\n"
     ]
    }
   ],
   "metadata": {}
  },
  {
   "cell_type": "code",
   "execution_count": 55,
   "source": [
    "sub_id_all[143]"
   ],
   "outputs": [
    {
     "output_type": "execute_result",
     "data": {
      "text/plain": [
       "105620"
      ]
     },
     "metadata": {},
     "execution_count": 55
    }
   ],
   "metadata": {}
  },
  {
   "cell_type": "markdown",
   "source": [
    "# Sanity checks"
   ],
   "metadata": {}
  },
  {
   "cell_type": "code",
   "execution_count": 53,
   "source": [
    "print(sub_id_all.index(105620))\n",
    "print(responses[143,:])\n",
    "print(responses_rt[143,:])\n",
    "Ynorm[143,0,:,0] \n",
    "# verifying that this sub has NaNs for COAXING, but values for all else"
   ],
   "outputs": [
    {
     "output_type": "stream",
     "name": "stdout",
     "text": [
      "143\n",
      "[nan  0.  0.  1.  0.  1.  1.  0.  1.  0.]\n",
      "[  nan 1.327 0.586 2.657 0.93  0.562 0.588 0.457 0.805 0.61 ]\n"
     ]
    },
    {
     "output_type": "execute_result",
     "data": {
      "text/plain": [
       "array([nan, nan, nan, nan, nan, nan, nan, nan, nan, nan, nan, nan, nan,\n",
       "       nan, nan, nan, nan, nan, nan, nan, nan, nan, nan, nan, nan, nan,\n",
       "       nan, nan, nan, nan, nan, nan, nan, nan, nan, nan, nan, nan, nan,\n",
       "       nan, nan, nan, nan, nan, nan, nan, nan, nan, nan, nan, nan, nan,\n",
       "       nan, nan, nan, nan])"
      ]
     },
     "metadata": {},
     "execution_count": 53
    }
   ],
   "metadata": {}
  },
  {
   "cell_type": "code",
   "execution_count": 54,
   "source": [
    "plt.figure(1,figsize=(15,5))\n",
    "n=65\n",
    "title = ['trial norm','run-norm']\n",
    "for ind in range(2):\n",
    "    if ind == 0:\n",
    "        Ynorm = np.load(os.path.join(data_file_loc,'timecourses_trial_norm',f'timecourse-all-movies_zscorenorm{suff}.npy'))\n",
    "    else:\n",
    "        Ynorm = np.load(os.path.join(data_file_loc,'timecourses_run_norm',f'timecourse-all-movies_zscorenorm{suff}.npy'))\n",
    "\n",
    "    plt.subplot(1,2,ind+1)\n",
    "    plt.hlines(0,0,49,color='k')\n",
    "    plt.vlines(vid_start_rel_tr[0],-2,2,color = 'r')\n",
    "    plt.plot(Ynorm[0,n,:,0],marker = 'o',color = 'r',label = vid_names['run1'][0] +  '_' + title[ind])\n",
    "    \n",
    "    plt.vlines(vid_start_rel_tr[1],-2,2,color='b')\n",
    "    plt.plot(Ynorm[0,n,:,1],marker = 'o',color = 'b',label = vid_names['run1'][1] + '_' + title[ind])\n",
    "    plt.ylim(-3,3)\n",
    "    plt.title(title[ind])\n",
    "    plt.legend()\n"
   ],
   "outputs": [
    {
     "output_type": "display_data",
     "data": {
      "image/png": "[encoded data removed]",
      "text/plain": [
       "<Figure size 1080x360 with 2 Axes>"
      ]
     },
     "metadata": {
      "needs_background": "light"
     }
    }
   ],
   "metadata": {}
  },
  {
   "cell_type": "code",
   "execution_count": 44,
   "source": [
    "Ynorm = np.load(os.path.join(data_file_loc,'timecourses_run_norm',f'timecourse-all-movies_zscorenorm{suff}.npy'))\n",
    "s,n = 1,65\n",
    "plt.figure(1,figsize=(10,3))\n",
    "sns.heatmap(Ynorm[s,n,:,:].T,cmap = 'RdBu_r',vmin = -3, vmax = 3) # timepts*movie\n",
    "Ynorm[0,0,-1,:] # in the heatmap, looks like the last timept is NaN, but it's not (as printed below)"
   ],
   "outputs": [
    {
     "output_type": "execute_result",
     "data": {
      "text/plain": [
       "array([        nan, -0.90923003,  2.89356614,  2.09221406, -0.28926285,\n",
       "               nan,  0.85306412,  1.8421299 ,  0.13717167,  1.31634213])"
      ]
     },
     "metadata": {},
     "execution_count": 44
    },
    {
     "output_type": "display_data",
     "data": {
      "image/png": "[encoded data removed]",
      "text/plain": [
       "<Figure size 720x216 with 2 Axes>"
      ]
     },
     "metadata": {
      "needs_background": "light"
     }
    }
   ],
   "metadata": {}
  },
  {
   "cell_type": "code",
   "execution_count": 45,
   "source": [
    "Ynorm =  np.load(os.path.join(data_file_loc,'timecourses_trial_norm',f'timecourse-all-movies_zscorenorm{suff}.npy'))\n",
    "plt.plot(Ynorm[:5,0,:,1].T)"
   ],
   "outputs": [
    {
     "output_type": "execute_result",
     "data": {
      "text/plain": [
       "[<matplotlib.lines.Line2D at 0x7ff27ae4c910>,\n",
       " <matplotlib.lines.Line2D at 0x7ff27ae3d950>,\n",
       " <matplotlib.lines.Line2D at 0x7ff27ae4cc10>,\n",
       " <matplotlib.lines.Line2D at 0x7ff27ae4cd10>,\n",
       " <matplotlib.lines.Line2D at 0x7ff27ae3d750>]"
      ]
     },
     "metadata": {},
     "execution_count": 45
    },
    {
     "output_type": "display_data",
     "data": {
      "image/png": "[encoded data removed]",
      "text/plain": [
       "<Figure size 432x288 with 1 Axes>"
      ]
     },
     "metadata": {
      "needs_background": "light"
     }
    }
   ],
   "metadata": {}
  },
  {
   "cell_type": "code",
   "execution_count": 35,
   "source": [
    "Ynorm =  np.load(os.path.join(data_file_loc,'timecourses_run_norm',f'timecourse-all-movies_zscorenorm.npy'))\n",
    "plt.plot(Ynorm[:5,0,:,0].T)"
   ],
   "outputs": [
    {
     "output_type": "execute_result",
     "data": {
      "text/plain": [
       "[<matplotlib.lines.Line2D at 0x7f9309ac3d10>,\n",
       " <matplotlib.lines.Line2D at 0x7f9309ae5b50>,\n",
       " <matplotlib.lines.Line2D at 0x7f9309ac3e50>,\n",
       " <matplotlib.lines.Line2D at 0x7f9309ac3f10>,\n",
       " <matplotlib.lines.Line2D at 0x7f9309ac3fd0>]"
      ]
     },
     "metadata": {},
     "execution_count": 35
    },
    {
     "output_type": "display_data",
     "data": {
      "image/png": "[encoded data removed]",
      "text/plain": [
       "<Figure size 432x288 with 1 Axes>"
      ]
     },
     "metadata": {
      "needs_background": "light"
     }
    }
   ],
   "metadata": {}
  },
  {
   "cell_type": "code",
   "execution_count": 36,
   "source": [
    "timecourses = np.load(os.path.join(data_file_loc,'timecourses.npy'))\n",
    "timecourses[0,0,:5,:] # see if values are distinct"
   ],
   "outputs": [
    {
     "output_type": "execute_result",
     "data": {
      "text/plain": [
       "array([[ 0.00364855,  0.66507549],\n",
       "       [-0.2293776 , -0.76939139],\n",
       "       [-0.40624693,  1.50187307],\n",
       "       [-0.46695373, -0.18351192],\n",
       "       [-1.36892794, -0.92859621]])"
      ]
     },
     "metadata": {},
     "execution_count": 36
    }
   ],
   "metadata": {}
  },
  {
   "cell_type": "markdown",
   "source": [
    "## Is there a linear trend?\n",
    "- this step was done when the above code did not contain a detrending step.\n",
    "- don't need to run it now that the data has already been detrended"
   ],
   "metadata": {}
  },
  {
   "cell_type": "code",
   "execution_count": 28,
   "source": [
    "# no need to run this now\n",
    "\n",
    "plt.figure(1)\n",
    "plt.errorbar(np.zeros((268,)),np.nanmedian(runSlope[:,:,0],axis=0),stats.sem(runSlope[:,:,0],axis=0),\n",
    "             marker ='o',color = 'r',ls = 'None')\n",
    "plt.errorbar(np.ones((268,)),np.nanmedian(runSlope[:,:,1],axis=0),stats.sem(runSlope[:,:,1],axis=0),\n",
    "             marker ='o',color = 'b',ls = 'None')\n",
    "print(stats.ttest_1samp(np.ndarray.flatten(runSlope[:,:,0]),0))\n",
    "\n",
    "print('nr. of nodes with a slope sig different from 0 in run 1:')\n",
    "print(sum([1 if stats.ttest_1samp(runSlope[:,n,0],0)[1]<.05 else 0 for n in range(268)]))\n",
    "\n",
    "print('nr. of nodes with a slope sig different from 0 in run 2')    \n",
    "print(sum([1 if stats.ttest_1samp(runSlope[:,n,1],0)[1]<.05 else 0 for n in range(268)]))\n",
    "\n",
    "\n",
    "print('Slope run 1: mean:',np.nanmean(np.ndarray.flatten(runSlope[:,:,0])),stats.ttest_1samp(np.ndarray.flatten(runSlope[:,:,0]),0))\n",
    "print('Slope run 2: mean:',np.nanmean(np.ndarray.flatten(runSlope[:,:,1])),stats.ttest_1samp(np.ndarray.flatten(runSlope[:,:,1]),0))\n",
    "\n",
    "# example detrending\n",
    "plt.figure(2)\n",
    "from scipy.signal import detrend\n",
    "x = dat['run1'][0,n_init_TRs_to_delete:,0]\n",
    "plt.figure(1, figsize = (25,5))\n",
    "plt.plot(x)\n",
    "plt.plot(detrend(x,type= 'linear'))"
   ],
   "outputs": [
    {
     "output_type": "stream",
     "name": "stdout",
     "text": [
      "Ttest_1sampResult(statistic=-49.98950663403359, pvalue=0.0)\n",
      "nr. of nodes with a slope sig different from 0 in run 1:\n",
      "210\n",
      "nr. of nodes with a slope sig different from 0 in run 2\n",
      "228\n",
      "Slope run 1: mean: -0.03899181115291593 Ttest_1sampResult(statistic=-49.98950663403359, pvalue=0.0)\n",
      "Slope run 2: mean: -0.07717801757289106 Ttest_1sampResult(statistic=-95.89548049424342, pvalue=0.0)\n"
     ]
    },
    {
     "output_type": "display_data",
     "data": {
      "image/png": "[encoded data removed]",
      "text/plain": [
       "<Figure size 432x288 with 1 Axes>"
      ]
     },
     "metadata": {
      "needs_background": "light"
     }
    }
   ],
   "metadata": {}
  },
  {
   "cell_type": "markdown",
   "source": [
    "- Looks like the slope in all nodes is sig < zero, although the magnitude is very small. So we should detrend before normalizing etc.\n",
    "- ^^**this has been done already**"
   ],
   "metadata": {}
  },
  {
   "cell_type": "code",
   "execution_count": null,
   "source": [
    "# this code snippet helped determine that the first 5 TRs of a run need to be removed. \n",
    "# # this has been done already, so can be run as a sanity check, but is optional\n",
    "# first 5 TRs of the run\n",
    "\n",
    "plt.figure(1,figsize =(15,10))\n",
    "for run in range(2):\n",
    "    plt.subplot(2,1,run+1)\n",
    "    plt.title(f'Run{run+1}',fontsize =24)\n",
    "    for n in np.arange(0,268):\n",
    "        plt.errorbar(range(10), np.nanmedian(all_runs_z[:,n,:10,run],axis=0),\n",
    "                     stats.sem(all_runs_z[:,n,:10,run],axis=0,nan_policy='omit'))\n",
    "                     #color = 'k',alpha = .1)\n",
    "    ymin,ymax = plt.ylim()\n",
    "    for i in range(5):\n",
    "        plt.axvspan(vid_onsets_imagenr[i],vid_onsets_imagenr[i]+28, color = 'red', alpha = .1, label = 'stim')  #vertical shading\n",
    "\n",
    "    plt.xlim(0,10)\n",
    "plt.tight_layout()"
   ],
   "outputs": [],
   "metadata": {}
  }
 ],
 "metadata": {
  "interpreter": {
   "hash": "30fd9c97283ec1278eec212a8f8afab06ad903f38228c32cacb469eba8e56f4f"
  },
  "kernelspec": {
   "name": "python3",
   "display_name": "Python 3.7.11 64-bit ('py37': conda)"
  },
  "language_info": {
   "name": "python",
   "version": "3.7.11",
   "mimetype": "text/x-python",
   "codemirror_mode": {
    "name": "ipython",
    "version": 3
   },
   "pygments_lexer": "ipython3",
   "nbconvert_exporter": "python",
   "file_extension": ".py"
  }
 },
 "nbformat": 4,
 "nbformat_minor": 4
}