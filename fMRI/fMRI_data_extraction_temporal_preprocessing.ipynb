{
 "cells": [
  {
   "cell_type": "markdown",
   "metadata": {},
   "source": [
    "## DATA EXTRACTION"
   ]
  },
  {
   "cell_type": "markdown",
   "metadata": {},
   "source": [
    "STEP1\n",
    "- Code to extract and save movie-wise shen-parcellated fMRI data\n",
    "- Each timecourse consists of the stimulus block (20s or 28images), the response screen (3s or 4images) and a part (7s or 10images) of the total fixation window (15s)\n"
   ]
  },
  {
   "cell_type": "code",
   "execution_count": 1,
   "metadata": {},
   "outputs": [
    {
     "name": "stdout",
     "output_type": "stream",
     "text": [
      "current directory:\n",
      " /Users/f0053cz/Dropbox (Dartmouth College)/postdoc_Dartmouth/HCP/fMRIScipts/code\n",
      "\n",
      "changed current directory to:\n",
      " /Users/f0053cz/Documents/HCP_SOCIALforRekha-001/HCP_SOCIALforRekha\n",
      "\n",
      "number of folders= 1114\n",
      "subject folders ['239136', '531940', '103414', '339847', '115320', '173132', '148941', '212318', '990366', '206727']\n"
     ]
    }
   ],
   "source": [
    "# import packages, check folders\n",
    "#%reset\n",
    "from pathlib import Path\n",
    "import os\n",
    "import numpy as np\n",
    "import h5py\n",
    "import pandas as pd\n",
    "#import imagesc as imagesc #pip install imagesc\n",
    "import matplotlib.pyplot as plt\n",
    "import seaborn as sns\n",
    "from scipy import stats\n",
    "import time\n",
    "\n",
    "%matplotlib inline\n",
    "\n",
    "working_dir = '/Users/f0053cz/Dropbox (Dartmouth College)/postdoc_Dartmouth/HCP/fMRIScipts/code'\n",
    "#working_dir = os.getcwd()\n",
    "print('current directory:\\n',working_dir)\n",
    "path = Path(working_dir)\n",
    "parent_folder = path.parent\n",
    "#print('parent folder:', parent_folder)\n",
    "data_file_loc = os.path.join(parent_folder,'data') # to store data we extract later in this notebook\n",
    "\n",
    "fmri_dir = \"/Users/f0053cz/Documents/HCP_SOCIALforRekha-001/HCP_SOCIALforRekha\"\n",
    "os.chdir(fmri_dir)\n",
    "print('\\nchanged current directory to:\\n', fmri_dir)\n",
    "\n",
    "folderName = os.path.join(fmri_dir,'indiv_data')\n",
    "n = len(os.listdir(folderName))\n",
    "print(\"\\nnumber of folders=\",n)\n",
    "subj_folders = [i for i in os.listdir(folderName)]\n",
    "print('subject folders',subj_folders[:10]) #beh data n=1051"
   ]
  },
  {
   "cell_type": "code",
   "execution_count": 2,
   "metadata": {},
   "outputs": [
    {
     "name": "stdout",
     "output_type": "stream",
     "text": [
      "/Users/f0053cz/Documents/HCP_SOCIALforRekha-001/HCP_SOCIALforRekha\n"
     ]
    }
   ],
   "source": [
    "print(os.getcwd())"
   ]
  },
  {
   "cell_type": "code",
   "execution_count": 3,
   "metadata": {},
   "outputs": [],
   "source": [
    "#read in the shen-parcellated timecourses for all subjects and all nodes (subj*timecourseperrun*node)\n",
    "f_RL = h5py.File(\"shen268_timecourses_RL.hdf5\", \"r\") \n",
    "f_LR = h5py.File(\"shen268_timecourses_LR.hdf5\", \"r\")"
   ]
  },
  {
   "cell_type": "code",
   "execution_count": 4,
   "metadata": {},
   "outputs": [
    {
     "name": "stdout",
     "output_type": "stream",
     "text": [
      "f_RL.keys()= <KeysViewHDF5 ['shen268_timecourses', 'subjlist']> \n",
      "\n",
      "type(d)= <class 'h5py._hl.dataset.Dataset'>\n",
      "d.shape= (1053, 274, 268)\n",
      "d.dtype= float64\n",
      "d= <HDF5 dataset \"shen268_timecourses\": shape (1053, 274, 268), type \"<f8\"> \n",
      "\n",
      "type(d_RL): <class 'numpy.ndarray'>\n",
      "d_RL.shape (1053, 274, 268)\n",
      "d_RL.shape (1053, 274, 268)\n"
     ]
    },
    {
     "data": {
      "image/png": "[encoded data removed]",
      "text/plain": [
       "<Figure size 432x288 with 2 Axes>"
      ]
     },
     "metadata": {
      "needs_background": "light"
     },
     "output_type": "display_data"
    }
   ],
   "source": [
    "#playing around with this datatype\n",
    "type(f_RL)\n",
    "print('f_RL.keys()=',f_RL.keys(), '\\n') # h5py.File() acts like a dictionary\n",
    "\n",
    "# Exploring the datatype\n",
    "d = f_RL['shen268_timecourses'] \n",
    "print('type(d)=', type(d))# d is of type Dataset. Like NumPy arrays, datasets have both a shape and a data type.\n",
    "print('d.shape=',d.shape) # subjects, scan volumes, nodes\n",
    "print('d.dtype=',d.dtype)\n",
    "print('d=',d, \"\\n\")\n",
    "\n",
    "d_RL = np.array(f_RL['shen268_timecourses']) # extracting timecourses and converting them to arrays\n",
    "print('type(d_RL):',type(d_RL))\n",
    "print('d_RL.shape',d_RL.shape)\n",
    "#plt.matshow(d_RL[0,1:50,1:100]) # time vs. nodes\n",
    "sns.heatmap(d_RL[0,1:50,1:100]) # plot a few timepts and nodes to get an idea\n",
    "plt.xlabel(\"nodes\")\n",
    "plt.ylabel(\"timecourse\")\n",
    "print('d_RL.shape',d_RL.shape)"
   ]
  },
  {
   "cell_type": "markdown",
   "metadata": {},
   "source": [
    "Looks like timecourses are more similar across time within a node than across nodes - make sense - it could reflect firing props of neurons within that node or anything else typical of an roi\n",
    "\n",
    "Now let's get working on the dataset. First we extract the data per run"
   ]
  },
  {
   "cell_type": "code",
   "execution_count": 5,
   "metadata": {},
   "outputs": [],
   "source": [
    "#extract fMRI data and subject names\n",
    "dat = {}\n",
    "dat[\"run1\"] = np.array(f_RL['shen268_timecourses'])\n",
    "dat[\"run2\"] = np.array(f_LR['shen268_timecourses'])\n",
    "\n",
    "subj_list = {}\n",
    "subj_list[\"run1\"] = [x.decode('utf8') for x in list(f_RL['subjlist'])] #RL--> order of subjects for run 1\n",
    "subj_list[\"run2\"] = [x.decode('utf8') for x in list(f_LR['subjlist'])] #LR"
   ]
  },
  {
   "cell_type": "code",
   "execution_count": 6,
   "metadata": {},
   "outputs": [],
   "source": [
    "#names of videos per run (always presented the same across subjects)\n",
    "vid_names = {}\n",
    "vid_names[\"run1\"] = [\"COAXING-B\", \"BILLIARD-A\", \"DRIFTING-A\", \"Fishing\", \"Random mechanical\"]#RL\n",
    "vid_names[\"run2\"] = [\"Scaring\", \"SEDUCING-B\", \"STAR-A\", \"SURPRISING-B\", \"TENNIS-A\"]#LR\n",
    "vid_joined = [\"COAXING-B\", \"BILLIARD-A\", \"DRIFTING-A\", \"Fishing\", \"Random mechanical\", \"Scaring\", \"SEDUCING-B\", \"STAR-A\", \"SURPRISING-B\", \"TENNIS-A\"]\n",
    "vid_cat = {}\n",
    "vid_cat[\"run1\"] = [1,0,0,1,0] # 1:mental,0: random\n",
    "vid_cat[\"run2\"] = [1,1,0,1,0]"
   ]
  },
  {
   "cell_type": "code",
   "execution_count": 7,
   "metadata": {},
   "outputs": [
    {
     "name": "stdout",
     "output_type": "stream",
     "text": [
      "Duration of task block: 28\n",
      "Nr of fixation images: 21.0\n",
      "setting baseline images at: 14\n",
      "Duration of resp screen: 4\n"
     ]
    }
   ],
   "source": [
    "# info needed to make a  regressor\n",
    "vid_onsets_in_sec = [8, 46, 84, 122, 160]\n",
    "tr = 0.72\n",
    "#l = 34 # duration\n",
    "duration_secs = 20\n",
    "l_task = int(np.round(duration_secs/tr))  # duration measured in nr of images = 28 for 20s\n",
    "print('Duration of task block:', l_task)\n",
    "print('Nr of fixation images:', np.round(15/tr))\n",
    "l_fix_start = 0\n",
    "l_fix_end = int(l_task/2)\n",
    "print('setting baseline images at:',l_fix_end) # since there's fixation pre and post task block\n",
    "l_resp_screen = int(np.round(3/tr))\n",
    "print(\"Duration of resp screen:\", l_resp_screen)"
   ]
  },
  {
   "cell_type": "code",
   "execution_count": 8,
   "metadata": {},
   "outputs": [
    {
     "name": "stdout",
     "output_type": "stream",
     "text": [
      "[ 10  62 115 168 221]\n",
      "[52 53 53 53]\n"
     ]
    }
   ],
   "source": [
    "#exploring the timecourse\n",
    "vid_onsets_imagenr = np.zeros_like(vid_onsets_in_sec)\n",
    "for i in range(5):\n",
    "    vid_onsets_imagenr[i] = np.floor((vid_onsets_in_sec[i]/tr)-1) # seconds to image nr (-1 since indices start from 0)\n",
    "print(vid_onsets_imagenr)\n",
    "print(np.diff(vid_onsets_imagenr)) # sanity check: are the distances between onset images the same?"
   ]
  },
  {
   "cell_type": "markdown",
   "metadata": {},
   "source": [
    "# Creating the regressor"
   ]
  },
  {
   "cell_type": "code",
   "execution_count": 9,
   "metadata": {},
   "outputs": [
    {
     "data": {
      "text/plain": [
       "Text(0.5, 0, 'Time')"
      ]
     },
     "execution_count": 9,
     "metadata": {},
     "output_type": "execute_result"
    },
    {
     "data": {
      "image/png": "[encoded data removed]",
      "text/plain": [
       "<Figure size 432x288 with 1 Axes>"
      ]
     },
     "metadata": {
      "needs_background": "light"
     },
     "output_type": "display_data"
    }
   ],
   "source": [
    "#defining the hrf\n",
    "from nltools.external import glover_hrf\n",
    "\n",
    "#hrf function\n",
    "hrf = glover_hrf(tr, oversampling=1)\n",
    "plt.plot(hrf, linewidth=3)\n",
    "plt.ylabel('Intensity', fontsize=18)\n",
    "plt.xlabel('Time', fontsize=18)"
   ]
  },
  {
   "cell_type": "code",
   "execution_count": 10,
   "metadata": {},
   "outputs": [
    {
     "data": {
      "image/png": "[encoded data removed]",
      "text/plain": [
       "<Figure size 432x288 with 1 Axes>"
      ]
     },
     "metadata": {
      "needs_background": "light"
     },
     "output_type": "display_data"
    }
   ],
   "source": [
    "# Here we (1) store moviewise time windows, and, in this time window,\n",
    "# (2) create movie_wise SLOPE regressors and (3) response regressors.\n",
    "\n",
    "nmovies = 10\n",
    "timepts_indiv_movie = [] # to store timepts (prestim fix if applicable + stim + poststim fix) for each movie\n",
    "reg_all = [] # slope regressor per movie\n",
    "reg_conv_all = [] # to store slope regressors for all movies\n",
    "respreg_all = [] # to store response regressors for all movies\n",
    "respreg_conv_all = [] # response window in block per movie\n",
    "\n",
    "for vid_no in range(nmovies):\n",
    "    run = \"run1\" if vid_no < 5 else \"run2\"\n",
    "    vrun = vid_no%5\n",
    "    vid = vid_names[run][vrun]\n",
    "    #print(vid)\n",
    "    \n",
    "    vidonset_imnr = np.floor((vid_onsets_in_sec[vrun]/tr)-1) # converting video onset image\n",
    "                                                             # nr from onset time in secs\n",
    "    start_frame = int(vidonset_imnr) - l_fix_start # change l_fix_start to start the \n",
    "                                                   # regressor earlier\n",
    "    end_frame = int(vidonset_imnr) + l_task + l_fix_end  # onset frame + length of video +\n",
    "                                                         # (response screen+fixation time)\n",
    "    # part 1\n",
    "    timepts = np.arange(start_frame, end_frame+1) \n",
    "    timepts_indiv_movie.append(timepts)  # timepts (stim+ fix) for each movie\n",
    "    \n",
    "    # part 2\n",
    "    vid_start = int(vidonset_imnr) \n",
    "    vid_start = vid_start - start_frame # 0 if same pt, >0 otherwise\n",
    "    #print('vid_start',vid_start)\n",
    "    vid_end = vid_start + l_task\n",
    "    #print('vid_end',vid_end)\n",
    "    reg = np.zeros((end_frame+1-start_frame))\n",
    "    reg[vid_start:vid_end+1] = np.arange(0,l_task+1)/np.max(np.arange(0,l_task+1)) # normalised ascending slope regressor \n",
    "                                                            # during video, 0 before and after video\n",
    "    reg_conv = np.convolve(reg, hrf) # convolve reg with HRF\n",
    "    reg_conv = reg_conv[:len(reg)] # make convolved regressor same length as original regressor\n",
    "    \n",
    "    if vid_no == 0:\n",
    "        plt.figure(figsize = (6,4))\n",
    "        plt.plot(reg,      label = 'slope reg.', color = 'k')\n",
    "        plt.plot(reg_conv, label = 'reg. conv.', color = 'k', ls = 'dashed')\n",
    "        plt.xlabel('Image #', fontsize = 16)\n",
    "        plt.yticks([0,1],['',''], fontsize = 16)\n",
    "    reg_all.append(reg)\n",
    "    reg_conv_all.append(reg_conv) # slope regressors for each movie\n",
    "    \n",
    "    # part 3\n",
    "    resp_screen_start = vid_end # get the relevant frames by converting sec to tr\n",
    "    resp_screen_end = resp_screen_start + l_resp_screen\n",
    "    respreg = np.zeros((end_frame+1-start_frame))\n",
    "    respreg[resp_screen_start:resp_screen_end+1] = 1\n",
    "    respreg_conv = np.convolve(respreg, hrf)\n",
    "    respreg_conv = respreg_conv[:len(respreg)]\n",
    "    if vid_no == 0:\n",
    "        plt.plot(respreg, label = 'resp reg.', color = 'gray')\n",
    "        plt.plot(respreg_conv,    label = 'resp reg. conv.', color = 'grey', ls = 'dashed')\n",
    "        plt.legend(loc = 'best', fontsize = 16)\n",
    "        #plt.xlabel('Image #', fontsize = 16)\n",
    "        #plt.yticks([0,1],['',''], fontsize = 16)\n",
    "    respreg_all.append(respreg)\n",
    "    respreg_conv_all.append(respreg_conv) # block response regressors for each movie\n",
    "\n"
   ]
  },
  {
   "cell_type": "code",
   "execution_count": 11,
   "metadata": {},
   "outputs": [
    {
     "data": {
      "text/plain": [
       "'/Users/f0053cz/Documents/HCP_SOCIALforRekha-001/HCP_SOCIALforRekha'"
      ]
     },
     "execution_count": 11,
     "metadata": {},
     "output_type": "execute_result"
    }
   ],
   "source": [
    "os.getcwd()"
   ]
  },
  {
   "cell_type": "code",
   "execution_count": 12,
   "metadata": {},
   "outputs": [
    {
     "ename": "SyntaxError",
     "evalue": "invalid syntax (<ipython-input-12-a8b10118035d>, line 8)",
     "output_type": "error",
     "traceback": [
      "\u001b[0;36m  File \u001b[0;32m\"<ipython-input-12-a8b10118035d>\"\u001b[0;36m, line \u001b[0;32m8\u001b[0m\n\u001b[0;31m    timepts_indiv_movie, reg_all, reg_conv_all, respreg_all, respreg_conv_all =\u001b[0m\n\u001b[0m                                                                                ^\u001b[0m\n\u001b[0;31mSyntaxError\u001b[0m\u001b[0;31m:\u001b[0m invalid syntax\n"
     ]
    }
   ],
   "source": [
    "#save regressor variables\n",
    "\n",
    "import pickle\n",
    "os.chdir(data_file_loc)\n",
    "pickle.dump([timepts_indiv_movie, reg_all, reg_conv_all, respreg_all, respreg_conv_all],\n",
    "            open(\"movie_wise_regs_windows.p\", \"wb\")) # saving regressor vaeriables\n",
    "\n",
    "timepts_indiv_movie, reg_all, reg_conv_all, respreg_all, respreg_conv_all = \n",
    "            pickle.load(open(\"movie_wise_regs_windows.p\",\"rb\")) # to verify the saved variables"
   ]
  },
  {
   "cell_type": "code",
   "execution_count": 21,
   "metadata": {},
   "outputs": [
    {
     "name": "stdout",
     "output_type": "stream",
     "text": [
      "nrows before= (10149, 5)\n",
      "total subjects before= 1051\n",
      "\n",
      "nrows after= (9950, 5)\n",
      "total subjects after= 1050\n"
     ]
    }
   ],
   "source": [
    "#extract behavioral data, remove impossibly quick responses\n",
    "\n",
    "beh_data = pd.read_csv(\"/Users/f0053cz/Documents/HCP_SOCIALforRekha-001/HCP_SOCIALforRekha/hcp_social_behav_for_ddm_stim-coding.csv\")\n",
    "rtmin = 0.1 # threshold for impossibly short RTs\n",
    "\n",
    "print('nrows before=', beh_data.shape)\n",
    "print(\"total subjects before=\",len(np.unique(beh_data['subj_idx'])))\n",
    "beh_data_old = beh_data\n",
    "beh_data= beh_data[beh_data[\"rt\"]>=rtmin]\n",
    "print('\\nnrows after=', beh_data.shape)\n",
    "print(\"total subjects after=\",len(np.unique(beh_data['subj_idx'])))\n",
    "#print(np.where(beh_data.index == subj_shortRT[0]))"
   ]
  },
  {
   "cell_type": "code",
   "execution_count": 26,
   "metadata": {},
   "outputs": [
    {
     "data": {
      "text/plain": [
       "873"
      ]
     },
     "execution_count": 26,
     "metadata": {},
     "output_type": "execute_result"
    }
   ],
   "source": [
    "len(np.where(beh_data_old['movie'] == 'Random mechanical.AVI')[0])"
   ]
  },
  {
   "cell_type": "code",
   "execution_count": 25,
   "metadata": {},
   "outputs": [
    {
     "data": {
      "text/plain": [
       "1018"
      ]
     },
     "execution_count": 25,
     "metadata": {},
     "output_type": "execute_result"
    }
   ],
   "source": [
    "len(np.where(beh_data_old['movie'] == 'Fishing.AVI')[0])"
   ]
  },
  {
   "cell_type": "code",
   "execution_count": 68,
   "metadata": {},
   "outputs": [],
   "source": [
    "def my_moving_window(x, window=3, FUN=np.mean):\n",
    "    \"\"\"\n",
    "    Calculates a moving estimate for a signal\n",
    "\n",
    "    Args:\n",
    "      x (numpy.ndarray): a vector array of size N\n",
    "      window (int): size of the window, must be a positive integer\n",
    "      FUN (function): the function to apply to the samples in the window\n",
    "\n",
    "    Returns:\n",
    "      (numpy.ndarray): a vector array of size N, containing the moving\n",
    "      average of x, calculated with a window of size window\n",
    "\n",
    "    There are smarter and faster solutions (e.g. using convolution) but this\n",
    "    function shows what the output really means. This function skips NaNs, and\n",
    "    should not be susceptible to edge effects: it will simply use\n",
    "    all the  available samples, which means that close to the edges of the\n",
    "    signal or close to NaNs, the output will just be based on fewer samples. By\n",
    "    default, this function will apply a mean to the samples in the window, but\n",
    "    this can be changed to be a max/min/median or other function that returns a\n",
    "    single numeric value based on a sequence of values.\n",
    "    \"\"\"\n",
    "\n",
    "    # if data is a matrix, apply filter to each row:\n",
    "    if len(x.shape) == 2:\n",
    "        output = np.zeros(x.shape)\n",
    "        for rown in range(x.shape[0]):\n",
    "            output[rown, :] = my_moving_window(x[rown, :],\n",
    "                                             window=window,\n",
    "                                             FUN=FUN)\n",
    "        return output\n",
    "\n",
    "    # make output array of the same size as x:\n",
    "    output = np.zeros(x.size)\n",
    "\n",
    "    # loop through the signal in x\n",
    "    for samp_i in range(x.size):\n",
    "\n",
    "        values = []\n",
    "\n",
    "        # loop through the window:\n",
    "        for wind_i in range(int(1 - window), 1):\n",
    "\n",
    "            if ((samp_i + wind_i) < 0) or (samp_i + wind_i) > (x.size - 1):\n",
    "                # out of range\n",
    "                continue\n",
    "\n",
    "            # sample is in range and not nan, use it:\n",
    "            if not(np.isnan(x[samp_i + wind_i])):\n",
    "                values += [x[samp_i + wind_i]]\n",
    "\n",
    "        # calculate the mean in the window for this point in the output:\n",
    "        output[samp_i] = FUN(values)\n",
    "\n",
    "    return output"
   ]
  },
  {
   "cell_type": "code",
   "execution_count": 69,
   "metadata": {},
   "outputs": [],
   "source": [
    "def preproc(Y):\n",
    "    # function to normalise timecourses and baseline correct them\n",
    "    Y = my_moving_window(Y)\n",
    "    Y = Y - np.min(Y)\n",
    "    Y = Y/np.max(Y)\n",
    "    Y = Y - Y[0]\n",
    "    return Y,Y[0]"
   ]
  },
  {
   "cell_type": "code",
   "execution_count": 71,
   "metadata": {},
   "outputs": [
    {
     "data": {
      "text/plain": [
       "'/Users/f0053cz/Dropbox (Dartmouth College)/postdoc_Dartmouth/HCP/fMRIScipts/data'"
      ]
     },
     "execution_count": 71,
     "metadata": {},
     "output_type": "execute_result"
    }
   ],
   "source": [
    "os.chdir(data_file_loc)\n",
    "os.getcwd()"
   ]
  },
  {
   "cell_type": "code",
   "execution_count": 78,
   "metadata": {},
   "outputs": [
    {
     "name": "stdout",
     "output_type": "stream",
     "text": [
      "['only one subject for ind ', 438, ', subjID:', '175540']\n",
      "['only one subject for ind ', 453, ', subjID:', '748662']\n",
      "['only one subject for ind ', 710, ', subjID:', '248238']\n",
      "['only one subject for ind ', 729, ', subjID:', '103010']\n",
      "Finished video 0 , elapsed time: 153.57377934455872\n",
      "['only one subject for ind ', 438, ', subjID:', '175540']\n",
      "['only one subject for ind ', 453, ', subjID:', '748662']\n",
      "['only one subject for ind ', 710, ', subjID:', '248238']\n",
      "['only one subject for ind ', 729, ', subjID:', '103010']\n",
      "Finished video 1 , elapsed time: 311.26968717575073\n",
      "['only one subject for ind ', 438, ', subjID:', '175540']\n",
      "['only one subject for ind ', 453, ', subjID:', '748662']\n",
      "['only one subject for ind ', 710, ', subjID:', '248238']\n",
      "['only one subject for ind ', 729, ', subjID:', '103010']\n",
      "Finished video 2 , elapsed time: 788.555064201355\n",
      "['only one subject for ind ', 438, ', subjID:', '175540']\n",
      "['only one subject for ind ', 453, ', subjID:', '748662']\n",
      "['only one subject for ind ', 710, ', subjID:', '248238']\n",
      "['only one subject for ind ', 729, ', subjID:', '103010']\n",
      "Finished video 3 , elapsed time: 949.5949161052704\n",
      "['only one subject for ind ', 438, ', subjID:', '175540']\n",
      "['only one subject for ind ', 453, ', subjID:', '748662']\n",
      "['only one subject for ind ', 710, ', subjID:', '248238']\n",
      "['only one subject for ind ', 729, ', subjID:', '103010']\n",
      "Finished video 4 , elapsed time: 1108.2876501083374\n",
      "['only one subject for ind ', 438, ', subjID:', '175540']\n",
      "['only one subject for ind ', 453, ', subjID:', '748662']\n",
      "['only one subject for ind ', 710, ', subjID:', '248238']\n",
      "['only one subject for ind ', 729, ', subjID:', '103010']\n",
      "Finished video 5 , elapsed time: 1270.9067010879517\n",
      "['only one subject for ind ', 438, ', subjID:', '175540']\n",
      "['only one subject for ind ', 453, ', subjID:', '748662']\n",
      "['only one subject for ind ', 710, ', subjID:', '248238']\n",
      "['only one subject for ind ', 729, ', subjID:', '103010']\n",
      "Finished video 6 , elapsed time: 1432.7165031433105\n",
      "['only one subject for ind ', 438, ', subjID:', '175540']\n",
      "['only one subject for ind ', 453, ', subjID:', '748662']\n",
      "['only one subject for ind ', 710, ', subjID:', '248238']\n",
      "['only one subject for ind ', 729, ', subjID:', '103010']\n",
      "Finished video 7 , elapsed time: 1591.5147833824158\n",
      "['only one subject for ind ', 438, ', subjID:', '175540']\n",
      "['only one subject for ind ', 453, ', subjID:', '748662']\n",
      "['only one subject for ind ', 710, ', subjID:', '248238']\n",
      "['only one subject for ind ', 729, ', subjID:', '103010']\n",
      "Finished video 8 , elapsed time: 1750.674836397171\n",
      "['only one subject for ind ', 438, ', subjID:', '175540']\n",
      "['only one subject for ind ', 453, ', subjID:', '748662']\n",
      "['only one subject for ind ', 710, ', subjID:', '248238']\n",
      "['only one subject for ind ', 729, ', subjID:', '103010']\n",
      "Finished video 9 , elapsed time: 1919.943903207779\n"
     ]
    },
    {
     "data": {
      "image/png": "[encoded data removed]",
      "text/plain": [
       "<Figure size 432x288 with 1 Axes>"
      ]
     },
     "metadata": {
      "needs_background": "light"
     },
     "output_type": "display_data"
    }
   ],
   "source": [
    "# takes 30mins to run, watch out!\n",
    "# preprocess Y, store (1) moviewise timecourses, (2) baseline normY and beh responses across movies\n",
    "# save preprocessed timecourses for each movie in 10 files (each file about 96MB)\n",
    "nsubj = 1053 #1053\n",
    "nmovies = 10#10\n",
    "nnodes = 268 #268\n",
    "start = time.time()\n",
    "\n",
    "y0 = np.zeros((nsubj,nmovies,nnodes))\n",
    "responses = np.zeros((nsubj,nmovies))-1 # initialise responses with -1\n",
    "    \n",
    "for vid_no in np.arange(0,nmovies):\n",
    "    run = 'run1' if vid_no < 5 else 'run2'\n",
    "    vidName = vid_names[run][vid_no%5]\n",
    "    vidName = '.'.join((vidName,'AVI')) # add .avi\n",
    "         \n",
    "    ntimepts  = len(timepts_indiv_movie[vid_no])\n",
    "    Ynorm = np.zeros((nsubj, nnodes, ntimepts))\n",
    "\n",
    "    sub_ind = -1\n",
    "    for s1 in np.arange(0,nsubj):\n",
    "        now = time.time()\n",
    "        #print('subj:',s1,', time elapsed:', (now - start))\n",
    "        curr_subj = subj_list['run1'][s1]\n",
    "        try:\n",
    "            s2 = subj_list['run2'].index(curr_subj) \n",
    "                # see if the subject has data for run 2, if not don't count them\n",
    "            \n",
    "            # proceed if sub has data for both runs\n",
    "            curr_subj = int(curr_subj)\n",
    "            sub_ind += 1 # for each sub with run1 and 2\n",
    "\n",
    "            row = (beh_data['subj_idx'] == curr_subj) & (beh_data['movie'] == vidName)\n",
    "            if len(np.where(row)[0]) == 1: # unique row for that subj and movie\n",
    "                responses[sub_ind,vid_no] = beh_data.loc[row,'response']\n",
    "\n",
    "            for node in range(nnodes):\n",
    "                rows = timepts_indiv_movie[vid_no] # rows within run for that video\n",
    "                if run == 'run1':\n",
    "                    Y = dat[run][s1,rows,node] \n",
    "                elif run == 'run2':\n",
    "                    Y = dat[run][s2,rows,node]\n",
    "                \n",
    "                Ynorm[sub_ind,node,:],y0[sub_ind,vid_no,node] = preproc(Y) # baseline correction and normalisation\n",
    "                if (vid_no == 0) and (s1 == 0) and (node==0):\n",
    "                    plt.plot(Ynorm[sub_ind,node,:])\n",
    "        except:\n",
    "                print(['only one subject for ind ',s1,', subjID:',curr_subj])\n",
    "\n",
    "    Ynorm = Ynorm[:sub_ind+1,:,:]\n",
    "    now = time.time()\n",
    "    np.save(f'timecourse-movie{vid_no}', Ynorm)\n",
    "    print('Finished video', vid_no, ', elapsed time:', now-start)\n",
    "\n",
    "responses = responses[:sub_ind+1,:]\n",
    "y0 = responses[:sub_ind+1,:]\n",
    "np.save('beh_responses', responses)\n",
    "np.save('ybsln_slopereg', y0)"
   ]
  },
  {
   "cell_type": "code",
   "execution_count": 79,
   "metadata": {},
   "outputs": [
    {
     "data": {
      "text/plain": [
       "31.983333333333334"
      ]
     },
     "execution_count": 79,
     "metadata": {},
     "output_type": "execute_result"
    }
   ],
   "source": [
    "1919/60"
   ]
  },
  {
   "cell_type": "code",
   "execution_count": null,
   "metadata": {},
   "outputs": [],
   "source": []
  }
 ],
 "metadata": {
  "kernelspec": {
   "display_name": "Python 3",
   "language": "python",
   "name": "python3"
  },
  "language_info": {
   "codemirror_mode": {
    "name": "ipython",
    "version": 3
   },
   "file_extension": ".py",
   "mimetype": "text/x-python",
   "name": "python",
   "nbconvert_exporter": "python",
   "pygments_lexer": "ipython3",
   "version": "3.8.5"
  }
 },
 "nbformat": 4,
 "nbformat_minor": 4
}
