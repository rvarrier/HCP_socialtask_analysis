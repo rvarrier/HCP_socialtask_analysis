{
 "cells": [
  {
   "cell_type": "code",
   "execution_count": 1,
   "source": [
    "# import general packages, check folders\n",
    "#%reset\n",
    "import os\n",
    "import numpy as np\n",
    "import h5py\n",
    "import pandas as pd\n",
    "#import imagesc as imagesc #pip install imagesc\n",
    "import matplotlib.pyplot as plt\n",
    "import seaborn as sns\n",
    "from scipy import stats\n",
    "import time\n",
    "from pathlib import Path\n",
    "\n",
    "# TO DO - REMOVE THE UNNECESSARY LIBRARY IMPORTS\n",
    "\n",
    "%matplotlib inline\n",
    "\n",
    "working_dir = '/Users/f0053cz/Dropbox (Dartmouth College)/postdoc_Dartmouth/HCP/fMRIScipts/code'\n",
    "#working_dir = os.getcwd()\n",
    "print('current directory:\\n',working_dir)\n",
    "path = Path(working_dir)\n",
    "parent_folder = path.parent\n",
    "#print('parent folder:', parent_folder)\n",
    "data_file_loc = os.path.join(parent_folder,'data') # to store data we extract later in this notebook"
   ],
   "outputs": [
    {
     "output_type": "stream",
     "name": "stdout",
     "text": [
      "current directory:\n",
      " /Users/f0053cz/Dropbox (Dartmouth College)/postdoc_Dartmouth/HCP/fMRIScipts/code\n"
     ]
    }
   ],
   "metadata": {}
  },
  {
   "cell_type": "code",
   "execution_count": 2,
   "source": [
    "# setting default fontsizes for plots\n",
    "\n",
    "s=16 # CHANGE FONTSIZE HERE\n",
    "plt.rc('font', size=s) #controls default text size\n",
    "plt.rc('axes', titlesize=s) #fontsize of the title\n",
    "plt.rc('axes', labelsize=s) #fontsize of the x and y labels\n",
    "plt.rc('xtick', labelsize=s) #fontsize of the x tick labels\n",
    "plt.rc('ytick', labelsize=s) #fontsize of the y tick labels\n",
    "plt.rc('legend', fontsize=s) #fontsize of the legend\n",
    "#import matplotlib as mpl\n",
    "#mpl.rcParams['font.weight']= 'normal'"
   ],
   "outputs": [],
   "metadata": {}
  },
  {
   "cell_type": "code",
   "execution_count": 3,
   "source": [
    "#suff= ' '\n",
    "suff = '_corrected'"
   ],
   "outputs": [],
   "metadata": {}
  },
  {
   "cell_type": "code",
   "execution_count": 4,
   "source": [
    "# load behavioral data - coded 1 for \"social\", 0 for \"nonsocial\" and 9 for \"unsure\", nan for missed response\n",
    "# even if using the Mental/Random labels, need this to sub-select subs who have responded on all trials\n",
    "responses = np.load(os.path.join(data_file_loc,f'responses{suff}.npy'))\n",
    "responses.shape # subs *movies"
   ],
   "outputs": [
    {
     "output_type": "execute_result",
     "data": {
      "text/plain": [
       "(1049, 10)"
      ]
     },
     "metadata": {},
     "execution_count": 4
    }
   ],
   "metadata": {}
  },
  {
   "cell_type": "code",
   "execution_count": 5,
   "source": [
    "vid_joined = [\"COAXING-B\", \"BILLIARD-A\", \"DRIFTING-A\", \"Fishing\", \"Random mechanical\",\"Scaring\", \"SEDUCING-B\", \"STAR-A\", \"SURPRISING-B\", \"TENNIS-A\"]\n",
    "vid_joined"
   ],
   "outputs": [
    {
     "output_type": "execute_result",
     "data": {
      "text/plain": [
       "['COAXING-B',\n",
       " 'BILLIARD-A',\n",
       " 'DRIFTING-A',\n",
       " 'Fishing',\n",
       " 'Random mechanical',\n",
       " 'Scaring',\n",
       " 'SEDUCING-B',\n",
       " 'STAR-A',\n",
       " 'SURPRISING-B',\n",
       " 'TENNIS-A']"
      ]
     },
     "metadata": {},
     "execution_count": 5
    }
   ],
   "metadata": {}
  },
  {
   "cell_type": "code",
   "execution_count": 6,
   "source": [
    "print('Nr of complete subs:',len(np.where(np.array([len(np.where(~np.isnan(responses[s,:]))[0]) for s in range(responses.shape[0])])==10)[0]))\n",
    "print('total subs:', responses.shape[0])"
   ],
   "outputs": [
    {
     "output_type": "stream",
     "name": "stdout",
     "text": [
      "Nr of complete subs: 814\n",
      "total subs: 1049\n"
     ]
    }
   ],
   "metadata": {}
  },
  {
   "cell_type": "code",
   "execution_count": 42,
   "source": [
    "[timepts_indiv_movie,vid_start_rel_tr] = np.load(os.path.join(data_file_loc,'Video_TRs.npy'),allow_pickle=True)\n",
    "vid_start_rel_tr"
   ],
   "outputs": [
    {
     "output_type": "execute_result",
     "data": {
      "text/plain": [
       "array([6, 13, 13, 13, 13, 6, 13, 13, 13, 13], dtype=object)"
      ]
     },
     "metadata": {},
     "execution_count": 42
    }
   ],
   "metadata": {}
  },
  {
   "cell_type": "markdown",
   "source": [
    "# LME stim label vs. response label"
   ],
   "metadata": {}
  },
  {
   "cell_type": "code",
   "execution_count": 43,
   "source": [
    "vidnames = [\"COAXING-B\", \"BILLIARD-A\", \"DRIFTING-A\", \"Fishing\", \"Random mechanical\",\"Scaring\", \"SEDUCING-B\", \"STAR-A\", \"SURPRISING-B\", \"TENNIS-A\"]\n",
    "\n",
    "# creating a 3D array of beta coeffs across movies from individual movie files\n",
    "all_coefs = np.zeros((responses.shape[0],268,10))\n",
    "\n",
    "for m in range(10):\n",
    "    fileName =  os.path.join(data_file_loc,'coefs_run_norm','slope_reg',f'coef_slopereg_runnorm_{vidnames[m]}{suff}.npy')\n",
    "    all_coefs[:,:,m] = np.load(fileName)\n",
    "    #print(dat.shape)\n",
    "\n",
    "all_coefs[:10,0,:2]"
   ],
   "outputs": [
    {
     "output_type": "execute_result",
     "data": {
      "text/plain": [
       "array([[ 9.33693863e-01,  1.66709840e-01],\n",
       "       [ 2.46438372e+00,  6.79413212e-01],\n",
       "       [-4.82038901e-01, -6.60210885e-01],\n",
       "       [ 9.71036189e-01,  1.97436306e+00],\n",
       "       [-8.99258171e-01, -2.68430814e-01],\n",
       "       [ 6.55118512e-01, -1.78271651e-03],\n",
       "       [ 1.27985989e+00, -7.11127922e-01],\n",
       "       [ 5.54624492e-01,  1.54513876e-01],\n",
       "       [ 9.87224895e-01,  2.01677021e+00],\n",
       "       [ 6.72424811e-02,  4.51586746e-01]])"
      ]
     },
     "metadata": {},
     "execution_count": 43
    }
   ],
   "metadata": {}
  },
  {
   "cell_type": "code",
   "execution_count": 44,
   "source": [
    "# first of all, best to remove subjects with < 10 responses for power in general\n",
    "count_resp = np.zeros((responses.shape[0],))\n",
    "for i in range(responses.shape[0]):\n",
    "    count_resp[i] = len(np.where(~np.isnan(responses[i,:]))[0])\n",
    "subs_10resp = np.where(count_resp == 10)[0]\n",
    "len(subs_10resp)"
   ],
   "outputs": [
    {
     "output_type": "execute_result",
     "data": {
      "text/plain": [
       "814"
      ]
     },
     "metadata": {},
     "execution_count": 44
    }
   ],
   "metadata": {}
  },
  {
   "cell_type": "code",
   "execution_count": 45,
   "source": [
    "#install lme functions\n",
    "from pymer4.models import Lmer\n",
    "#from pymer4.models import Lm\n",
    "import time\n",
    "from datetime import datetime\n",
    "stimType = [1,0,0,1,0,1,1,0,1,0]"
   ],
   "outputs": [],
   "metadata": {}
  },
  {
   "cell_type": "code",
   "execution_count": 46,
   "source": [
    "coef_ALL_stim, coef_ALL_resp = [np.empty((268,)) for _ in range(2)]\n",
    "coef_ALL_stim[:], coef_ALL_resp[:] = [np.nan]*2\n",
    "\n",
    "pval_ALL_stim, pval_ALL_resp = [np.empty((268,)) for _ in range(2)]\n",
    "pval_ALL_stim[:], pval_ALL_resp[:] = [np.nan]*2\n",
    "\n",
    "AIC_ALL_stim, AIC_ALL_resp = [np.empty((268,)) for _ in range(2)]\n",
    "AIC_ALL_stim[:], AIC_ALL_resp[:] = [np.nan]*2\n"
   ],
   "outputs": [],
   "metadata": {}
  },
  {
   "cell_type": "code",
   "execution_count": 79,
   "source": [
    "# STMTYPE BASED\n",
    "load_all = 1 # 1: load saved coefs, 0: run the LME\n",
    "if load_all == 1:\n",
    "     df_all_coefs = pd.read_csv(os.path.join(data_file_loc,'coefs_run_norm','slope_reg','LME_S_NS_revision1','lmecoefs_all_S_NS_stimType.csv'))\n",
    "     #[coef_ALL_stim,pval_ALL_stim] = np.load(os.path.join(data_file_loc,'coefs_run_norm','slope_reg','LME_S_NS_revision1','lmecoefs_all_S_NS_stimType.npy'), allow_pickle=True)\n",
    "else:\n",
    "    start_time =  time.time()\n",
    "    for n in range(268):\n",
    "        if n%10 == 0:\n",
    "            print(f'node {n+1},time={(time.time()-start_time)/60:.2f} mins')\n",
    "        \n",
    "        df = pd.DataFrame(columns = ['coefs','stimType','subID','movie'])\n",
    "        for m in range(10):\n",
    "            df_temp = pd.DataFrame({'coefs': all_coefs[subs_10resp,n,m],'stimType':stimType[m], 'response':responses[subs_10resp,m],'subID':subs_10resp,\\\n",
    "                 'movie':np.repeat(m,len(subs_10resp))})\n",
    "            df = df.append(df_temp,ignore_index=True)\n",
    "            df = df.loc[df['response'] != 9] # yes v no\n",
    "        \n",
    "        df['stimType'] = df['stimType'].map({1.0: \"Mental\", 0.0:  \"Random\"})\n",
    "        df['response'] = df['response'].map({1.0: \"Non-social\", 0.0:  \"Social\"})\n",
    "        \n",
    "        model1 = Lmer('coefs ~  stimType +(1|subID) + (1|movie)', data=df) # ff: mean response, rf:subjID\n",
    "        model1.fit(factors={\"stimType\":[\"Random\",\"Mental\"]},summary = False, verbose = False)\n",
    "        model2 = Lmer('coefs ~  response +(1|subID) + (1|movie)', data=df) # ff: mean response, rf:subjID\n",
    "        model2.fit(factors={\"response\":[\"Non-social\",\"Social\"]},summary = False, verbose = False)\n",
    "\n",
    "        if n == 0:\n",
    "            print('model:',model1.fit(factors={\"stimType\":[\"Random\",\"Mental\"]}))\n",
    "            print('model:',model2.fit(factors={\"response\":[\"Non-social\",\"Social\"]}))\n",
    "\n",
    "        coef_ALL_stim[n] = model1.coefs['Estimate'][1]\n",
    "        pval_ALL_stim[n]= model1.coefs['P-val'][1]\n",
    "        AIC_ALL_stim[n]= model1.AIC\n",
    "\n",
    "        coef_ALL_resp[n] = model2.coefs['Estimate'][1]\n",
    "        pval_ALL_resp[n]= model2.coefs['P-val'][1]\n",
    "        AIC_ALL_resp[n]= model2.AIC\n",
    "        \n",
    "    df_all_coefs = pd.DataFrame({'Node': np.arange(268), 'coef_stim': coef_ALL_stim, 'pval_stim': pval_ALL_stim, 'AIC_stim': AIC_ALL_stim,\\\n",
    "        'coef_resp': coef_ALL_resp, 'pval_resp': pval_ALL_resp, 'AIC_resp': AIC_ALL_resp})\n",
    "    df_all_coefs.to_csv(os.path.join(data_file_loc,'coefs_run_norm','slope_reg','LME_S_NS_revision1','lmecoefs_all_S_NS_stimType.csv'))\n",
    "    #np.save(os.path.join(data_file_loc,'coefs_run_norm','slope_reg','LME_S_NS_revision1','lmecoefs_all_S_NS_stimType.npy'), [coef_ALL_stim,pval_ALL_stim])\n",
    "    print('Done on/at:',datetime.now()) # cell run at)"
   ],
   "outputs": [],
   "metadata": {}
  },
  {
   "cell_type": "code",
   "execution_count": 80,
   "source": [
    "df_all_coefs['AIC resp-stim']= df_all_coefs['AIC_resp'] - df_all_coefs['AIC_stim']\n",
    "df_all_coefs['AIC resp-stim'].hist()"
   ],
   "outputs": [
    {
     "output_type": "execute_result",
     "data": {
      "text/plain": [
       "<AxesSubplot:>"
      ]
     },
     "metadata": {},
     "execution_count": 80
    },
    {
     "output_type": "display_data",
     "data": {
      "image/png": "[encoded data removed]",
      "text/plain": [
       "<Figure size 432x288 with 1 Axes>"
      ]
     },
     "metadata": {
      "needs_background": "light"
     }
    }
   ],
   "metadata": {}
  },
  {
   "cell_type": "markdown",
   "source": [
    "# Plot AIC on brain"
   ],
   "metadata": {}
  },
  {
   "cell_type": "code",
   "execution_count": 81,
   "source": [
    "from nilearn.surface import vol_to_surf\n",
    "from nilearn.plotting import plot_glass_brain, plot_surf_roi,plot_stat_map,plot_img,plot_surf_contours\n",
    "import nibabel as nib\n",
    "from nilearn import datasets\n",
    "bg_img = datasets.load_mni152_template()\n",
    "fig_save_loc = os.path.join('/Users/f0053cz/Dropbox (Dartmouth College)/postdoc_Dartmouth/HCP/paper_prep/figures/fig3_glm_soc_vs_nonsoc/ALL_MentalRandom')\n",
    "\n",
    "from nilearn.datasets import fetch_surf_fsaverage\n",
    "fsaverage = fetch_surf_fsaverage()\n",
    "\n",
    "from nilearn import datasets\n",
    "bg_img = datasets.load_mni152_template()\n",
    "\n",
    "from nltools.data import Brain_Data\n",
    "from nltools.mask import expand_mask, roi_to_brain\n",
    "\n",
    "mask = Brain_Data('https://neurovault.org/media/images/8423/shen_2mm_268_parcellation.nii.gz')\n",
    "mask_x = expand_mask(mask)\n",
    "\n",
    "\n",
    "def color_rois(values):\n",
    "    \n",
    "    \"\"\"\n",
    "    This function assumes you are passing a vector \"values\" with the same length as the number of nodes in the atlas.\n",
    "    \"\"\"\n",
    "    shen268 = nib.load(os.path.join(data_file_loc,\"shen_2mm_268_parcellation.nii.gz\"))\n",
    "    shen268_data = shen268.get_fdata()\n",
    "    img = np.zeros(shen268_data.shape)\n",
    "    #print(shen268_data.shape)\n",
    "    for roi in range(len(values)):\n",
    "        itemindex = np.where(shen268_data==roi+1) # find voxels in this node (add 1 to account for zero-indexing)\n",
    "        #print(len(itemindex[0]))\n",
    "        img[itemindex] = values[roi] # color them by the desired value \n",
    "\n",
    "    affine = shen268.affine\n",
    "    img_nii = nib.Nifti1Image(img, affine)\n",
    "    \n",
    "    return img_nii"
   ],
   "outputs": [],
   "metadata": {}
  },
  {
   "cell_type": "code",
   "execution_count": 82,
   "source": [
    "data_file_loc"
   ],
   "outputs": [
    {
     "output_type": "execute_result",
     "data": {
      "text/plain": [
       "'/Users/f0053cz/Dropbox (Dartmouth College)/postdoc_Dartmouth/HCP/fMRIScipts/data'"
      ]
     },
     "metadata": {},
     "execution_count": 82
    }
   ],
   "metadata": {}
  },
  {
   "cell_type": "code",
   "execution_count": 83,
   "source": [
    "nodes_coaxbill_rand_all = np.load(os.path.join(data_file_loc,'nodes_coaxbill_rand_all.npy')) # sig nodes hihglighted in the first S>NS GLM\n",
    "# for contours"
   ],
   "outputs": [],
   "metadata": {}
  },
  {
   "cell_type": "code",
   "execution_count": 62,
   "source": [
    "def surf_plot1(fig,ax,nodes,params, thresh):\n",
    "\n",
    "    title_txt = params['title']\n",
    "    txt  = params['txt']\n",
    "    vmin = params['vmin']\n",
    "    vmax = params['vmax']\n",
    "\n",
    "    #LH\n",
    "    ax_surf = ax[0,0]\n",
    "    texture = vol_to_surf(color_rois(nodes), fsaverage.pial_left,interpolation='nearest',radius =1, n_samples=1)\n",
    "    surf_plot1=plot_surf_roi(fsaverage.infl_left, texture, hemi='left',cmap = cmap, colorbar=False, symmetric_cmap=True, vmin = vmin, vmax = vmax,\n",
    "                                bg_map=fsaverage.sulc_left,axes = ax_surf, threshold =  thresh)#)#,vol_to_surf_kwargs={\"n_samples\": 10, \"radius\": 10, \"interpolation\": \"nearest\",\"kind\":'ball'})\n",
    "\n",
    "    texture_contour = vol_to_surf(color_rois(nodes_coaxbill_rand_all), fsaverage.pial_left,interpolation='nearest',radius =1, n_samples=1)\n",
    "    plot_surf_contours(fsaverage.infl_left, texture_contour, axes = ax_surf,figure=surf_plot1, legend=True,levels = [1], colors=['k'])\n",
    "\n",
    "    ax_surf = ax[1,0]\n",
    "    surf_plot2=plot_surf_roi(fsaverage.infl_left, texture, hemi='left',cmap = cmap, colorbar=False, symmetric_cmap=True, vmin = vmin, vmax = vmax,\n",
    "                                bg_map=fsaverage.sulc_left, view = 'medial',axes = ax_surf, threshold =  thresh)#,vol_to_surf_kwargs={\"n_samples\": 10, \"radius\": 10, \"interpolation\": \"nearest\",\"kind\":'ball'})\n",
    "    plot_surf_contours(fsaverage.infl_left, texture_contour, axes = ax_surf,figure=surf_plot2, legend=True,levels = [1], colors=['k'])\n",
    "\n",
    "\n",
    "    #RH\n",
    "    ax_surf = ax[0,1]\n",
    "    texture = vol_to_surf(color_rois(nodes), fsaverage.pial_right,interpolation='nearest',radius =1, n_samples=1)\n",
    "    surf_plot3=plot_surf_roi(fsaverage.infl_right, texture, hemi='right',cmap = cmap, colorbar=True,symmetric_cmap=True, vmin = vmin, vmax = vmax,\n",
    "                                bg_map=fsaverage.sulc_right,axes = ax_surf, threshold =  thresh)#)#,vol_to_surf_kwargs={\"n_samples\": 10, \"radius\": 10, \"interpolation\": \"nearest\",\"kind\":'ball'})\n",
    "    texture_contour = vol_to_surf(color_rois(nodes_coaxbill_rand_all), fsaverage.pial_right,interpolation='nearest',radius =1, n_samples=1)\n",
    "    plot_surf_contours(fsaverage.infl_right, texture_contour, axes = ax_surf,figure=surf_plot3, legend=True,levels = [1], colors=['k'])\n",
    "\n",
    "    surf_plot3.axes[4].text(10,.5*vmax,s=txt,fontsize=20, fontdict = {'verticalalignment':'top','horizontalalignment':'left','rotation':0})\n",
    "    box = surf_plot3.axes[4].get_position()\n",
    "    surf_plot3.axes[4].set_position([box.x0*.93, box.y0-.5, box.width, box.height*2])  # move a bit the bar to the right, need to divide by number of columns (to move relative to last figure only, not to overall row, else will get too far away)\n",
    "    \n",
    "\n",
    "    ax_surf = ax[1,1]\n",
    "    surf_plot4=plot_surf_roi(fsaverage.infl_right, texture, hemi='right',cmap = cmap, colorbar=False,symmetric_cmap=True, vmin = vmin, vmax = vmax,\n",
    "                                bg_map=fsaverage.sulc_right, view ='medial',axes = ax_surf, threshold =  thresh)#)#,vol_to_surf_kwargs={\"n_samples\": 10, \"radius\": 10, \"interpolation\": \"nearest\",\"kind\":'ball'})\n",
    "    plot_surf_contours(fsaverage.infl_right, texture_contour, axes = ax_surf,figure=surf_plot4, legend=True, levels = [1], colors=['k'])#, labels=['Sig. (q<.05) across\\n(a),(c),(d)'])\n",
    "    \n",
    "    #v5_texture = vol_to_surf(v5_roi_nii,                          fsaverage.pial_right,interpolation='nearest',radius =1, n_samples=1)\n",
    "    #thr99 = np.quantile(v5_texture,.99)\n",
    "    #v5_texture[v5_texture<thr99] = 0\n",
    "    #v5_texture[v5_texture!=0] = 1\n",
    "    #plot_surf_contours(fsaverage.infl_right, v5_texture, figure=surf_plot3, legend=False, axes=ax[0,1],levels=[1],colors=['g'])#,levels = [texture],  labels=['Fig 3 nodes'])\n",
    "    #plot_surf_contours(fsaverage.infl_right, v5_texture, figure=surf_plot4, legend=False, axes=ax[0,1],levels=[1],colors=['g'])#,levels = [texture],  labels=['Fig 3 nodes'])\n",
    "\n",
    "\n",
    "    ax[0,0].dist = 7 # change viewing distance to \"zoom in\" to surface plots\n",
    "    ax[0,1].dist = 7\n",
    "    ax[1,0].dist = 7\n",
    "    ax[1,1].dist = 7\n",
    "\n",
    "    #fig.colorbar(surf_plot3.axes[2])\n",
    "    plt.subplots_adjust(left=0,\n",
    "                        bottom=0, \n",
    "                        right=.8, \n",
    "                        top=1, \n",
    "                        wspace=0.0, \n",
    "                        hspace=-.1)\n",
    "    #fig.colorbar(surf_plot2, shrink=2, aspect=10)\n",
    "#box = surf_plot3.axes[4].get_position()\n",
    "#surf_plot3.axes[4].set_position([box.x0, box.y0, box.width, box.height])  # move a bit the bar to the right, need to divide by number of columns (to move relative to last figure only, not to overall row, else will get too far away)\n",
    "    "
   ],
   "outputs": [],
   "metadata": {}
  },
  {
   "cell_type": "code",
   "execution_count": 63,
   "source": [
    "'''fig_save_loc = os.path.join('/Users/f0053cz/Dropbox (Dartmouth College)/postdoc_Dartmouth/HCP/paper_prep/figures/fig3_glm_soc_vs_nonsoc/ALL_MentalRandom')\n",
    "from importlib import reload\n",
    "reload(brain_plot_functions)'''\n",
    "#v5_roi = 'v5_association-test_z_FDR_0.01.nii'\n",
    "#v5_roi_loc = f'/Users/f0053cz/Dropbox (Dartmouth College)/postdoc_Dartmouth/HCP/fMRIScipts/data/ROIs/{v5_roi}'\n",
    "#v5_roi_nii = nib.load(v5_roi_loc)\n",
    "min(df_all_coefs['AIC resp-stim']),max(df_all_coefs['AIC resp-stim'])"
   ],
   "outputs": [
    {
     "output_type": "execute_result",
     "data": {
      "text/plain": [
       "(-28.326528419351234, 17.53925560431162)"
      ]
     },
     "metadata": {},
     "execution_count": 63
    }
   ],
   "metadata": {}
  },
  {
   "cell_type": "code",
   "execution_count": 115,
   "source": [
    "# surface plots\n",
    "vmin,vmax = -30,30\n",
    "cmap = 'PiYG' #'RdBu_r'\n",
    "#txt = r' $\\overline{\\beta}(\\\"\"\")-$' + '\\n' + r'$\\overline{\\beta}_{Non-social}$'+ '\\n'\n",
    "title_txt = 'AIC RESP V. STIM'\n",
    " \n",
    "nodes = np.zeros((268,))\n",
    "txt = ''#'AIC response-\\nbased LME - \\nstim-based LME' #'AIC S/NS LME - M/R LME'#r\"$\\overline{\\beta}{(diff)}$\"\n",
    "nodes = df_all_coefs['AIC resp-stim']\n",
    "thresh = 5\n",
    "\n",
    "fig,ax = plt.subplots(nrows=2, ncols= 2,figsize=(6,4),subplot_kw={'projection': '3d'})\n",
    "params = {'title':title_txt,'txt':txt, 'vmin': vmin, 'vmax':vmax}\n",
    "surf_plot1(fig,ax,nodes,params, thresh)\n",
    "plt.savefig(os.path.join(fig_save_loc,f'AIC_surf_thresh{thresh}.png'),dpi=300,bbox_inches='tight',facecolor='white', edgecolor='none')\n",
    "    \n",
    "img = roi_to_brain(pd.Series(nodes), mask_x)\n",
    "coords = [-44,-34,-24] # initial exploration\n",
    "ax_plot = plot_img(img.to_nifti(), display_mode = 'z',vmin = vmin, vmax = vmax, cut_coords =coords,cmap = cmap, bg_img = bg_img,colorbar= False,threshold = thresh)\n",
    "ax_plot.add_contours(color_rois(nodes_coaxbill_rand_all),linewidths=1, colors=['k'],linestyles ='-',filled=False)\n",
    "\n",
    "plt.savefig(os.path.join(fig_save_loc,f'AIC_axial_thresh{thresh}.png'),dpi=300,bbox_inches='tight',facecolor='white', edgecolor='none')\n",
    "#plt.clf()"
   ],
   "outputs": [
    {
     "output_type": "display_data",
     "data": {
      "image/png": "[encoded data removed]",
      "text/plain": [
       "<Figure size 432x288 with 5 Axes>"
      ]
     },
     "metadata": {
      "needs_background": "light"
     }
    },
    {
     "output_type": "display_data",
     "data": {
      "image/png": "[encoded data removed]",
      "text/plain": [
       "<Figure size 475.2x165.6 with 4 Axes>"
      ]
     },
     "metadata": {}
    }
   ],
   "metadata": {}
  },
  {
   "cell_type": "code",
   "execution_count": 84,
   "source": [
    "df_all_coefs['AIC resp-stim'].values"
   ],
   "outputs": [
    {
     "output_type": "execute_result",
     "data": {
      "text/plain": [
       "array([ 3.40020183e+00,  4.72754722e+00,  3.21637952e+00,  1.97842115e-01,\n",
       "        2.22760003e+00,  8.21262312e+00,  4.98884845e-01,  7.87753205e-01,\n",
       "       -1.92030714e+00, -1.70187374e-01,  5.08226188e-01, -4.66292402e+00,\n",
       "       -5.14528343e-01, -4.87260904e+00,  2.37373461e+00, -1.06163900e+01,\n",
       "        7.09045023e-01,  1.11887048e+01, -4.72048191e+00, -7.47193854e+00,\n",
       "       -6.30586283e+00, -7.11751470e+00,  2.13111372e+00,  4.64312055e+00,\n",
       "        8.72579173e+00,  7.31802932e+00, -1.24245880e+01, -4.42219292e+00,\n",
       "       -1.15661866e+01, -6.00441296e-01, -1.91895722e+01,  4.64640881e+00,\n",
       "        1.00953445e+00,  5.67317799e-01,  3.50028811e+00, -4.59760728e+00,\n",
       "        1.65858593e-01,  2.83810351e+00,  1.09777524e+00,  8.39430979e-01,\n",
       "        5.18627684e+00,  6.21828197e-01, -1.01504597e+01, -1.06418742e+00,\n",
       "        1.68736530e+00,  1.64956848e+00, -4.61441372e+00, -5.26236708e-01,\n",
       "       -1.32758395e+01, -2.83265284e+01,  5.38522333e+00,  1.54771602e+01,\n",
       "        1.75392556e+01,  1.36721976e+01,  2.68542088e+00, -4.09750793e+00,\n",
       "        1.61567906e+01, -2.36975968e+00,  2.09687879e+00,  8.05754804e+00,\n",
       "        1.51829396e+00,  9.68260828e-01,  1.08253487e+01,  1.00657517e+01,\n",
       "       -1.65960665e+01, -1.76199784e+01, -1.24184017e+01,  4.02732983e+00,\n",
       "       -1.20329498e+01, -1.53558706e+00, -8.80976420e+00,  1.36119551e+00,\n",
       "       -7.34893514e+00, -1.61853378e+01, -9.16484341e+00, -3.89561795e+00,\n",
       "       -1.65515811e+00, -4.25922287e+00,  1.69804213e+00, -3.87920194e-01,\n",
       "       -5.01809495e+00, -1.05294533e+00,  2.29096456e+00,  3.73339236e+00,\n",
       "       -1.79945496e-01,  5.18300970e+00, -1.52832775e+00,  3.48189317e+00,\n",
       "        4.16858477e+00,  3.07324639e+00,  2.93096217e+00,  1.10690613e+01,\n",
       "       -9.23800152e-01,  3.28660467e+00,  1.09751052e+01,  6.86841623e+00,\n",
       "        6.78325244e+00,  1.86001433e+00, -3.13204408e+00, -1.36023083e+01,\n",
       "        3.47857262e-01, -1.14041980e+01, -1.16844372e+01, -1.77493377e+01,\n",
       "       -4.08243122e-01, -9.87982205e+00,  2.02738447e+00, -2.03371018e+00,\n",
       "        7.21534719e-01,  3.19244019e-01, -4.09270268e+00, -7.84112744e+00,\n",
       "       -1.46280820e+01, -1.44981713e+01, -5.62913999e-01, -1.04087538e+01,\n",
       "        1.30016896e+00,  1.31776257e+00, -3.87641936e+00, -1.11677817e+00,\n",
       "       -1.06440044e+01, -1.95343542e+00,  4.23095016e-01, -4.15751205e+00,\n",
       "        1.72958795e+00, -8.59882078e-01,  1.80275585e+00, -9.94829752e+00,\n",
       "        5.16748619e-01, -4.76315655e-01,  6.20646241e-01,  1.90412889e-01,\n",
       "       -4.54561893e+00, -3.46990660e-01, -7.18256274e+00, -2.29954259e-01,\n",
       "        2.83033383e+00,  2.54095829e+00, -5.20237527e+00, -6.78255949e-01,\n",
       "        8.47439914e-01, -3.80499044e+00, -2.14602174e+01, -6.89743991e+00,\n",
       "       -1.00049584e+01, -4.61739636e+00, -1.28124564e+01, -7.66969840e+00,\n",
       "       -2.28622537e+01, -1.10989946e+01, -2.52165492e+01, -6.38528797e+00,\n",
       "       -5.45803822e+00, -1.29616632e+01, -1.20529077e+01, -2.60566400e+01,\n",
       "       -1.54077846e+01,  8.89898499e-01,  3.74173015e+00,  4.15091520e+00,\n",
       "        6.20312343e+00, -4.42776033e-01,  1.68167587e+00, -7.94673085e+00,\n",
       "       -3.19361484e-01,  7.34361018e+00, -3.15758542e+00,  7.72284555e+00,\n",
       "        1.10161631e-01, -1.35500254e-01,  2.64324266e+00,  6.42090844e-01,\n",
       "        4.59570995e-01,  1.83459362e+00,  5.65904341e+00,  1.89093008e+00,\n",
       "       -6.89358414e+00,  4.18413336e-01,  6.56897694e-01,  2.33158958e+00,\n",
       "       -1.21855331e+00, -3.34275287e+00, -1.53710451e+01, -1.46304320e+01,\n",
       "        9.82108874e-01,  6.32115226e+00,  6.98534203e+00,  8.68141158e+00,\n",
       "        3.90763401e-01,  1.50212187e+00, -9.97938303e+00, -1.93037910e+01,\n",
       "        4.06474650e-01, -8.34700757e+00,  1.06066716e+01, -8.56704969e-01,\n",
       "       -3.14578657e+00, -1.04816837e+01, -5.71250076e+00, -1.44198320e+01,\n",
       "       -2.56140212e+01,  1.31118115e+01, -2.15936228e+01, -2.48703176e+00,\n",
       "       -4.31090509e+00, -1.94419757e+01, -9.55208532e+00, -2.90219134e+00,\n",
       "       -2.04633192e+01, -5.81040945e+00, -1.19122437e+01,  9.17139264e-01,\n",
       "       -8.04694562e+00, -4.05884036e+00, -4.60777711e+00,  1.25499092e+00,\n",
       "       -6.16453032e+00,  5.76162856e+00, -1.68874731e+00, -6.83143859e-01,\n",
       "        4.68299297e+00,  3.18472300e+00,  1.50677509e+00, -1.46468141e-01,\n",
       "        1.52697620e+00, -8.06895634e-02,  1.63978729e+00,  2.90850182e+00,\n",
       "        7.41077231e-01,  1.14462697e+00,  2.83021774e+00,  6.79833173e+00,\n",
       "        2.38447077e+00,  7.65640245e+00,  7.61068714e+00, -1.15172992e+01,\n",
       "       -3.67752096e+00, -1.11343936e+00, -4.62438671e+00, -1.14485326e+01,\n",
       "       -2.75645813e+00,  5.85534597e+00,  1.20220443e+00, -2.05665129e-01,\n",
       "       -9.90608723e-01, -1.26381149e+00, -2.01944538e+00, -9.47111917e+00,\n",
       "       -9.16690407e-01,  8.46516873e-02,  2.09998840e-02,  1.01124166e+00,\n",
       "       -1.48454504e+01, -1.16496691e+00, -3.27165310e+00, -1.15493491e+01,\n",
       "        1.35784687e+00, -6.33092374e+00,  8.55423982e-01, -1.74704576e+00,\n",
       "       -6.94221606e+00, -2.10998451e+00, -2.04691545e+00, -5.59927829e-01,\n",
       "       -2.72032171e+00,  2.18240779e-02,  5.22691552e+00,  9.30243032e-01])"
      ]
     },
     "metadata": {},
     "execution_count": 84
    }
   ],
   "metadata": {}
  },
  {
   "cell_type": "code",
   "execution_count": 103,
   "source": [
    "diff2_nodes = np.where(np.abs(df_all_coefs['AIC resp-stim'].values) > 2)[0]\n",
    "diff2_nodes, len(diff2_nodes)"
   ],
   "outputs": [
    {
     "output_type": "execute_result",
     "data": {
      "text/plain": [
       "(array([  0,   1,   2,   4,   5,  11,  13,  14,  15,  17,  18,  19,  20,\n",
       "         21,  22,  23,  24,  25,  26,  27,  28,  30,  31,  34,  35,  37,\n",
       "         40,  42,  46,  48,  49,  50,  51,  52,  53,  54,  55,  56,  57,\n",
       "         58,  59,  62,  63,  64,  65,  66,  67,  68,  70,  72,  73,  74,\n",
       "         75,  77,  80,  82,  83,  85,  87,  88,  89,  90,  91,  93,  94,\n",
       "         95,  96,  98,  99, 101, 102, 103, 105, 106, 107, 110, 111, 112,\n",
       "        113, 115, 118, 120, 123, 127, 132, 134, 136, 137, 138, 141, 142,\n",
       "        143, 144, 145, 146, 147, 148, 149, 150, 151, 152, 153, 154, 155,\n",
       "        156, 158, 159, 160, 163, 165, 166, 167, 170, 174, 176, 179, 181,\n",
       "        182, 183, 185, 186, 187, 190, 191, 193, 194, 196, 197, 198, 199,\n",
       "        200, 201, 202, 203, 204, 205, 206, 207, 208, 209, 210, 212, 213,\n",
       "        214, 216, 217, 220, 221, 227, 230, 231, 232, 233, 234, 235, 236,\n",
       "        238, 239, 240, 241, 246, 247, 252, 254, 255, 257, 260, 261, 262,\n",
       "        264, 266]),\n",
       " 171)"
      ]
     },
     "metadata": {},
     "execution_count": 103
    }
   ],
   "metadata": {}
  },
  {
   "cell_type": "code",
   "execution_count": 104,
   "source": [
    "diff5_nodes = np.where(np.abs(df_all_coefs['AIC resp-stim'].values) > 5)[0]\n",
    "diff5_nodes, len(diff5_nodes)"
   ],
   "outputs": [
    {
     "output_type": "execute_result",
     "data": {
      "text/plain": [
       "(array([  5,  15,  17,  19,  20,  21,  24,  25,  26,  28,  30,  40,  42,\n",
       "         48,  49,  50,  51,  52,  53,  56,  59,  62,  63,  64,  65,  66,\n",
       "         68,  70,  72,  73,  74,  80,  85,  91,  94,  95,  96,  99, 101,\n",
       "        102, 103, 105, 111, 112, 113, 115, 120, 127, 134, 138, 142, 143,\n",
       "        144, 146, 147, 148, 149, 150, 151, 152, 153, 154, 155, 156, 160,\n",
       "        163, 165, 167, 174, 176, 182, 183, 185, 186, 187, 190, 191, 193,\n",
       "        194, 197, 198, 199, 200, 201, 202, 205, 206, 208, 209, 210, 212,\n",
       "        216, 217, 231, 233, 234, 235, 239, 241, 247, 252, 255, 257, 260,\n",
       "        266]),\n",
       " 105)"
      ]
     },
     "metadata": {},
     "execution_count": 104
    }
   ],
   "metadata": {}
  },
  {
   "cell_type": "code",
   "execution_count": 105,
   "source": [
    "nodes_common = np.where(nodes_coaxbill_rand_all)[0]\n",
    "nodes_common, len(nodes_common)"
   ],
   "outputs": [
    {
     "output_type": "execute_result",
     "data": {
      "text/plain": [
       "(array([  8,   9,  11,  12,  13,  15,  18,  19,  21,  28,  29,  30,  42,\n",
       "         47,  48,  49,  64,  65,  66,  68,  69,  70,  72,  73,  75,  80,\n",
       "         89,  99, 101, 103, 104, 106, 107, 110, 111, 112, 113, 115, 116,\n",
       "        118, 127, 144, 146, 148, 150, 152, 154, 155, 156, 176, 191, 198,\n",
       "        199, 200, 203, 205, 206, 208, 209, 212, 213, 235, 239, 240, 241,\n",
       "        245, 246, 251, 252, 255]),\n",
       " 70)"
      ]
     },
     "metadata": {},
     "execution_count": 105
    }
   ],
   "metadata": {}
  },
  {
   "cell_type": "code",
   "execution_count": 113,
   "source": [
    "test_AIC_diff = -2\n",
    "np.exp(test_AIC_diff/2)"
   ],
   "outputs": [
    {
     "output_type": "execute_result",
     "data": {
      "text/plain": [
       "0.36787944117144233"
      ]
     },
     "metadata": {},
     "execution_count": 113
    }
   ],
   "metadata": {}
  },
  {
   "cell_type": "code",
   "execution_count": 107,
   "source": [
    "len(set(nodes_common) & set(diff2_nodes))"
   ],
   "outputs": [
    {
     "output_type": "execute_result",
     "data": {
      "text/plain": [
       "60"
      ]
     },
     "metadata": {},
     "execution_count": 107
    }
   ],
   "metadata": {}
  },
  {
   "cell_type": "code",
   "execution_count": 102,
   "source": [
    "set(nodes_common) & set(diff5_nodes), len(set(nodes_common) & set(diff5_nodes))"
   ],
   "outputs": [
    {
     "output_type": "execute_result",
     "data": {
      "text/plain": [
       "({15,\n",
       "  19,\n",
       "  21,\n",
       "  28,\n",
       "  30,\n",
       "  42,\n",
       "  48,\n",
       "  49,\n",
       "  64,\n",
       "  65,\n",
       "  66,\n",
       "  68,\n",
       "  70,\n",
       "  72,\n",
       "  73,\n",
       "  80,\n",
       "  99,\n",
       "  101,\n",
       "  103,\n",
       "  111,\n",
       "  112,\n",
       "  113,\n",
       "  115,\n",
       "  127,\n",
       "  144,\n",
       "  146,\n",
       "  148,\n",
       "  150,\n",
       "  152,\n",
       "  154,\n",
       "  155,\n",
       "  156,\n",
       "  176,\n",
       "  191,\n",
       "  198,\n",
       "  199,\n",
       "  200,\n",
       "  205,\n",
       "  206,\n",
       "  208,\n",
       "  209,\n",
       "  212,\n",
       "  235,\n",
       "  239,\n",
       "  241,\n",
       "  252,\n",
       "  255},\n",
       " 47)"
      ]
     },
     "metadata": {},
     "execution_count": 102
    }
   ],
   "metadata": {}
  },
  {
   "cell_type": "code",
   "execution_count": null,
   "source": [],
   "outputs": [],
   "metadata": {}
  },
  {
   "cell_type": "code",
   "execution_count": null,
   "source": [],
   "outputs": [],
   "metadata": {}
  }
 ],
 "metadata": {
  "orig_nbformat": 4,
  "language_info": {
   "name": "python",
   "version": "3.7.11",
   "mimetype": "text/x-python",
   "codemirror_mode": {
    "name": "ipython",
    "version": 3
   },
   "pygments_lexer": "ipython3",
   "nbconvert_exporter": "python",
   "file_extension": ".py"
  },
  "kernelspec": {
   "name": "python3",
   "display_name": "Python 3.7.11 64-bit ('py37': conda)"
  },
  "interpreter": {
   "hash": "30fd9c97283ec1278eec212a8f8afab06ad903f38228c32cacb469eba8e56f4f"
  }
 },
 "nbformat": 4,
 "nbformat_minor": 2
}