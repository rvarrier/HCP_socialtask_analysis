{
 "cells": [
  {
   "cell_type": "markdown",
   "source": [
    "# code to run runwise GLMs based on stimType - main analysis: Mental vs. Random, and mdoel comparison between stim-based and response-based models\n",
    "\n",
    "- created on July 5 to address reviewer qns"
   ],
   "metadata": {}
  },
  {
   "cell_type": "code",
   "execution_count": 1,
   "source": [
    "# import general packages, check folders\n",
    "#%reset\n",
    "import os\n",
    "import numpy as np\n",
    "import h5py\n",
    "import pandas as pd\n",
    "#import imagesc as imagesc #pip install imagesc\n",
    "import matplotlib.pyplot as plt\n",
    "import seaborn as sns\n",
    "from scipy import stats\n",
    "import time\n",
    "from pathlib import Path\n",
    "\n",
    "# TO DO - REMOVE THE UNNECESSARY LIBRARY IMPORTS\n",
    "\n",
    "%matplotlib inline\n",
    "\n",
    "working_dir = '/Users/f0053cz/Dropbox (Dartmouth College)/postdoc_Dartmouth/HCP/fMRIScipts/code'\n",
    "#working_dir = os.getcwd()\n",
    "print('current directory:\\n',working_dir)\n",
    "path = Path(working_dir)\n",
    "parent_folder = path.parent\n",
    "#print('parent folder:', parent_folder)\n",
    "data_file_loc = os.path.join(parent_folder,'data') # to store data we extract later in this notebook"
   ],
   "outputs": [
    {
     "output_type": "stream",
     "name": "stdout",
     "text": [
      "current directory:\n",
      " /Users/f0053cz/Dropbox (Dartmouth College)/postdoc_Dartmouth/HCP/fMRIScipts/code\n"
     ]
    }
   ],
   "metadata": {}
  },
  {
   "cell_type": "code",
   "execution_count": 2,
   "source": [
    "# setting default fontsizes for plots\n",
    "\n",
    "s=16 # CHANGE FONTSIZE HERE\n",
    "plt.rc('font', size=s) #controls default text size\n",
    "plt.rc('axes', titlesize=s) #fontsize of the title\n",
    "plt.rc('axes', labelsize=s) #fontsize of the x and y labels\n",
    "plt.rc('xtick', labelsize=s) #fontsize of the x tick labels\n",
    "plt.rc('ytick', labelsize=s) #fontsize of the y tick labels\n",
    "plt.rc('legend', fontsize=s) #fontsize of the legend\n",
    "#import matplotlib as mpl\n",
    "#mpl.rcParams['font.weight']= 'normal'"
   ],
   "outputs": [],
   "metadata": {}
  },
  {
   "cell_type": "code",
   "execution_count": 3,
   "source": [
    "#suff= ' '\n",
    "suff = '_corrected'"
   ],
   "outputs": [],
   "metadata": {}
  },
  {
   "cell_type": "code",
   "execution_count": 4,
   "source": [
    "# load behavioral data - coded 1 for \"social\", 0 for \"nonsocial\" and 9 for \"unsure\", nan for missed response\n",
    "# even if using the Mental/Random labels, need this to sub-select subs who have responded on all trials\n",
    "responses = np.load(os.path.join(data_file_loc,f'responses{suff}.npy'))\n",
    "responses.shape # subs *movies"
   ],
   "outputs": [
    {
     "output_type": "execute_result",
     "data": {
      "text/plain": [
       "(1049, 10)"
      ]
     },
     "metadata": {},
     "execution_count": 4
    }
   ],
   "metadata": {}
  },
  {
   "cell_type": "code",
   "execution_count": 5,
   "source": [
    "vid_joined = [\"COAXING-B\", \"BILLIARD-A\", \"DRIFTING-A\", \"Fishing\", \"Random mechanical\",\"Scaring\", \"SEDUCING-B\", \"STAR-A\", \"SURPRISING-B\", \"TENNIS-A\"]\n",
    "vid_joined"
   ],
   "outputs": [
    {
     "output_type": "execute_result",
     "data": {
      "text/plain": [
       "['COAXING-B',\n",
       " 'BILLIARD-A',\n",
       " 'DRIFTING-A',\n",
       " 'Fishing',\n",
       " 'Random mechanical',\n",
       " 'Scaring',\n",
       " 'SEDUCING-B',\n",
       " 'STAR-A',\n",
       " 'SURPRISING-B',\n",
       " 'TENNIS-A']"
      ]
     },
     "metadata": {},
     "execution_count": 5
    }
   ],
   "metadata": {}
  },
  {
   "cell_type": "code",
   "execution_count": 6,
   "source": [
    "print('Nr of complete subs:',len(np.where(np.array([len(np.where(~np.isnan(responses[s,:]))[0]) for s in range(responses.shape[0])])==10)[0]))\n",
    "print('total subs:', responses.shape[0])"
   ],
   "outputs": [
    {
     "output_type": "stream",
     "name": "stdout",
     "text": [
      "Nr of complete subs: 814\n",
      "total subs: 1049\n"
     ]
    }
   ],
   "metadata": {}
  },
  {
   "cell_type": "code",
   "execution_count": 7,
   "source": [
    "timecourses = np.load(os.path.join(data_file_loc,f'timecourses{suff}.npy'))\n",
    "timecourses.shape"
   ],
   "outputs": [
    {
     "output_type": "execute_result",
     "data": {
      "text/plain": [
       "(1049, 268, 269, 2)"
      ]
     },
     "metadata": {},
     "execution_count": 7
    }
   ],
   "metadata": {}
  },
  {
   "cell_type": "code",
   "execution_count": 8,
   "source": [
    "[timepts_indiv_movie,vid_start_rel_tr] = np.load(os.path.join(data_file_loc,'Video_TRs.npy'),allow_pickle=True)\n",
    "vid_start_rel_tr"
   ],
   "outputs": [
    {
     "output_type": "execute_result",
     "data": {
      "text/plain": [
       "array([6, 13, 13, 13, 13, 6, 13, 13, 13, 13], dtype=object)"
      ]
     },
     "metadata": {},
     "execution_count": 8
    }
   ],
   "metadata": {}
  },
  {
   "cell_type": "markdown",
   "source": [
    "# LME stim label vs. response label"
   ],
   "metadata": {}
  },
  {
   "cell_type": "code",
   "execution_count": 9,
   "source": [
    "vidnames = [\"COAXING-B\", \"BILLIARD-A\", \"DRIFTING-A\", \"Fishing\", \"Random mechanical\",\"Scaring\", \"SEDUCING-B\", \"STAR-A\", \"SURPRISING-B\", \"TENNIS-A\"]\n",
    "\n",
    "# creating a 3D array of beta coeffs across movies from individual movie files\n",
    "all_coefs = np.zeros((responses.shape[0],268,10))\n",
    "\n",
    "for m in range(10):\n",
    "    fileName =  os.path.join(data_file_loc,'coefs_run_norm','slope_reg',f'coef_slopereg_runnorm_{vidnames[m]}{suff}.npy')\n",
    "    all_coefs[:,:,m] = np.load(fileName)\n",
    "    #print(dat.shape)\n",
    "\n",
    "all_coefs[:10,0,:2]"
   ],
   "outputs": [
    {
     "output_type": "execute_result",
     "data": {
      "text/plain": [
       "array([[ 9.33693863e-01,  1.66709840e-01],\n",
       "       [ 2.46438372e+00,  6.79413212e-01],\n",
       "       [-4.82038901e-01, -6.60210885e-01],\n",
       "       [ 9.71036189e-01,  1.97436306e+00],\n",
       "       [-8.99258171e-01, -2.68430814e-01],\n",
       "       [ 6.55118512e-01, -1.78271651e-03],\n",
       "       [ 1.27985989e+00, -7.11127922e-01],\n",
       "       [ 5.54624492e-01,  1.54513876e-01],\n",
       "       [ 9.87224895e-01,  2.01677021e+00],\n",
       "       [ 6.72424811e-02,  4.51586746e-01]])"
      ]
     },
     "metadata": {},
     "execution_count": 9
    }
   ],
   "metadata": {}
  },
  {
   "cell_type": "code",
   "execution_count": 10,
   "source": [
    "# first of all, best to remove subjects with < 10 responses for power in general\n",
    "count_resp = np.zeros((responses.shape[0],))\n",
    "for i in range(responses.shape[0]):\n",
    "    count_resp[i] = len(np.where(~np.isnan(responses[i,:]))[0])\n",
    "subs_10resp = np.where(count_resp == 10)[0]\n",
    "len(subs_10resp)"
   ],
   "outputs": [
    {
     "output_type": "execute_result",
     "data": {
      "text/plain": [
       "814"
      ]
     },
     "metadata": {},
     "execution_count": 10
    }
   ],
   "metadata": {}
  },
  {
   "cell_type": "code",
   "execution_count": 11,
   "source": [
    "#install lme functions\n",
    "from pymer4.models import Lmer\n",
    "#from pymer4.models import Lm\n",
    "import time"
   ],
   "outputs": [],
   "metadata": {}
  },
  {
   "cell_type": "code",
   "execution_count": 12,
   "source": [
    "coef_ALL_stim, coef_ALL_resp = [np.empty((268,)) for _ in range(2)]\n",
    "coef_ALL_stim[:], coef_ALL_resp[:] = [np.nan]*2\n",
    "\n",
    "pval_ALL_stim, pval_ALL_resp = [np.empty((268,)) for _ in range(2)]\n",
    "pval_ALL_stim[:], pval_ALL_resp[:] = [np.nan]*2\n",
    "\n",
    "AIC_ALL_stim, AIC_ALL_resp = [np.empty((268,)) for _ in range(2)]\n",
    "AIC_ALL_stim[:], AIC_ALL_resp[:] = [np.nan]*2"
   ],
   "outputs": [],
   "metadata": {}
  },
  {
   "cell_type": "code",
   "execution_count": 13,
   "source": [
    "stimType = [1,0,0,1,0,1,1,0,1,0]"
   ],
   "outputs": [],
   "metadata": {}
  },
  {
   "cell_type": "code",
   "execution_count": 14,
   "source": [
    "from datetime import datetime"
   ],
   "outputs": [],
   "metadata": {}
  },
  {
   "cell_type": "code",
   "execution_count": 15,
   "source": [
    "# STMTYPE BASED\n",
    "load_all = 0 # 1: load saved coefs, 0: run the LME\n",
    "if load_all == 1:\n",
    "     df_all_coefs = pd.read_csv(os.path.join(data_file_loc,'coefs_run_norm','slope_reg','LME_S_NS_revision1','lmecoefs_all_S_NS_stimType.csv'))\n",
    "     #[coef_ALL_stim,pval_ALL_stim] = np.load(os.path.join(data_file_loc,'coefs_run_norm','slope_reg','LME_S_NS_revision1','lmecoefs_all_S_NS_stimType.npy'), allow_pickle=True)\n",
    "else:\n",
    "    start_time =  time.time()\n",
    "    for n in range(268):\n",
    "        if n%10 == 0:\n",
    "            print(f'node {n+1},time={(time.time()-start_time)/60:.2f} mins')\n",
    "        \n",
    "        df = pd.DataFrame(columns = ['coefs','stimType','subID','movie'])\n",
    "        for m in range(10):\n",
    "            df_temp = pd.DataFrame({'coefs': all_coefs[subs_10resp,n,m],'stimType':stimType[m], 'response':responses[subs_10resp,m],'subID':subs_10resp,\\\n",
    "                 'movie':np.repeat(m,len(subs_10resp))})\n",
    "            df = df.append(df_temp,ignore_index=True)\n",
    "            df = df.loc[df['response'] != 9] # yes v no\n",
    "        \n",
    "        df['stimType'] = df['stimType'].map({1.0: \"Mental\", 0.0:  \"Random\"})\n",
    "        df['response'] = df['response'].map({1.0: \"Non-social\", 0.0:  \"Social\"})\n",
    "        \n",
    "        model1 = Lmer('coefs ~  stimType +(1|subID) + (1|movie)', data=df) # ff: mean response, rf:subjID\n",
    "        model1.fit(factors={\"stimType\":[\"Random\",\"Mental\"]},summary = False, verbose = False)\n",
    "        model2 = Lmer('coefs ~  response +(1|subID) + (1|movie)', data=df) # ff: mean response, rf:subjID\n",
    "        model2.fit(factors={\"response\":[\"Non-social\",\"Social\"]},summary = False, verbose = False)\n",
    "\n",
    "        if n == 0:\n",
    "            print('model:',model1.fit(factors={\"stimType\":[\"Random\",\"Mental\"]}))\n",
    "            print('model:',model2.fit(factors={\"response\":[\"Non-social\",\"Social\"]}))\n",
    "\n",
    "        coef_ALL_stim[n] = model1.coefs['Estimate'][1]\n",
    "        pval_ALL_stim[n]= model1.coefs['P-val'][1]\n",
    "        AIC_ALL_stim[n]= model1.AIC\n",
    "\n",
    "        coef_ALL_resp[n] = model2.coefs['Estimate'][1]\n",
    "        pval_ALL_resp[n]= model2.coefs['P-val'][1]\n",
    "        AIC_ALL_resp[n]= model2.AIC\n",
    "        \n",
    "    df_all_coefs = pd.DataFrame({'Node': np.arange(268), 'coef_stim': coef_ALL_stim, 'pval_stim': pval_ALL_stim, 'AIC_stim': AIC_ALL_stim,\\\n",
    "        'coef_resp': coef_ALL_resp, 'pval_resp': pval_ALL_resp, 'AIC_resp': AIC_ALL_resp})\n",
    "    df_all_coefs.to_csv(os.path.join(data_file_loc,'coefs_run_norm','slope_reg','LME_S_NS_revision1','lmecoefs_all_S_NS_stimType.csv'))\n",
    "    #np.save(os.path.join(data_file_loc,'coefs_run_norm','slope_reg','LME_S_NS_revision1','lmecoefs_all_S_NS_stimType.npy'), [coef_ALL_stim,pval_ALL_stim])\n",
    "    print('Done on/at:',datetime.now()) # cell run at)"
   ],
   "outputs": [
    {
     "output_type": "stream",
     "name": "stdout",
     "text": [
      "node 1,time=0.00 mins\n",
      "Formula: coefs~stimType+(1|subID)+(1|movie)\n",
      "\n",
      "Family: gaussian\t Inference: parametric\n",
      "\n",
      "Number of observations: 7646\t Groups: {'subID': 814.0, 'movie': 10.0}\n",
      "\n",
      "Log-likelihood: -9539.239 \t AIC: 19078.479\n",
      "\n",
      "Random effects:\n",
      "\n",
      "                 Name    Var    Std\n",
      "subID     (Intercept)  0.063  0.251\n",
      "movie     (Intercept)  0.005  0.068\n",
      "Residual               0.661  0.813\n",
      "\n",
      "No random effect correlations specified\n",
      "\n",
      "Fixed effects:\n",
      "\n",
      "model:              Estimate  2.5_ci  97.5_ci     SE    DF  T-stat  P-val  Sig\n",
      "(Intercept)     0.227    0.16    0.294  0.034  9.42   6.617  0.000  ***\n",
      "stimType1       0.162    0.07    0.254  0.047  8.12   3.463  0.008   **\n",
      "Formula: coefs~response+(1|subID)+(1|movie)\n",
      "\n",
      "Family: gaussian\t Inference: parametric\n",
      "\n",
      "Number of observations: 7646\t Groups: {'subID': 814.0, 'movie': 10.0}\n",
      "\n",
      "Log-likelihood: -9540.940 \t AIC: 19081.879\n",
      "\n",
      "Random effects:\n",
      "\n",
      "                 Name    Var    Std\n",
      "subID     (Intercept)  0.063  0.251\n",
      "movie     (Intercept)  0.006  0.075\n",
      "Residual               0.661  0.813\n",
      "\n",
      "No random effect correlations specified\n",
      "\n",
      "Fixed effects:\n",
      "\n",
      "model:              Estimate  2.5_ci  97.5_ci     SE      DF  T-stat  P-val  Sig\n",
      "(Intercept)     0.360   0.295    0.424  0.033  12.424  10.945  0.000  ***\n",
      "response1      -0.106  -0.182   -0.030  0.039  28.197  -2.719  0.011    *\n",
      "node 11,time=0.26 mins\n",
      "node 21,time=0.46 mins\n",
      "node 31,time=0.66 mins\n",
      "node 41,time=0.87 mins\n",
      "node 51,time=1.07 mins\n",
      "node 61,time=1.28 mins\n",
      "node 71,time=1.47 mins\n",
      "node 81,time=1.65 mins\n",
      "node 91,time=1.85 mins\n",
      "node 101,time=2.03 mins\n",
      "node 111,time=2.22 mins\n",
      "node 121,time=2.42 mins\n",
      "node 131,time=2.63 mins\n",
      "node 141,time=2.84 mins\n",
      "node 151,time=3.04 mins\n",
      "node 161,time=3.25 mins\n",
      "node 171,time=3.45 mins\n",
      "node 181,time=3.65 mins\n",
      "node 191,time=3.85 mins\n",
      "node 201,time=4.09 mins\n",
      "node 211,time=4.34 mins\n",
      "node 221,time=4.59 mins\n",
      "node 231,time=4.82 mins\n",
      "node 241,time=5.04 mins\n",
      "node 251,time=5.26 mins\n",
      "node 261,time=5.47 mins\n",
      "Done on/at: 2022-07-08 13:07:10.388340\n"
     ]
    }
   ],
   "metadata": {}
  },
  {
   "cell_type": "code",
   "execution_count": 22,
   "source": [
    "df_all_coefs['AIC resp-stim']= df_all_coefs['AIC_resp'] - df_all_coefs['AIC_stim']\n",
    "df_all_coefs['AIC resp-stim'].hist()"
   ],
   "outputs": [
    {
     "output_type": "execute_result",
     "data": {
      "text/plain": [
       "<AxesSubplot:>"
      ]
     },
     "metadata": {},
     "execution_count": 22
    },
    {
     "output_type": "display_data",
     "data": {
      "image/png": "[encoded data removed]",
      "text/plain": [
       "<Figure size 432x288 with 1 Axes>"
      ]
     },
     "metadata": {
      "needs_background": "light"
     }
    }
   ],
   "metadata": {}
  },
  {
   "cell_type": "markdown",
   "source": [
    "# GLM analysis"
   ],
   "metadata": {}
  },
  {
   "cell_type": "code",
   "execution_count": 23,
   "source": [
    "# function needed for the GLM\n",
    "from sklearn.linear_model import LinearRegression\n",
    "from multiprocessing import Pool\n",
    "from joblib import cpu_count\n",
    "import time"
   ],
   "outputs": [],
   "metadata": {}
  },
  {
   "cell_type": "code",
   "execution_count": 24,
   "source": [
    "#defining the hrf\n",
    "from nltools.external import glover_hrf\n",
    "tr = .72\n",
    "#hrf function\n",
    "hrf = glover_hrf(tr, oversampling=1)\n",
    "plt.plot(hrf, linewidth=3)\n",
    "plt.ylabel('Intensity', fontsize=18)\n",
    "plt.xlabel('Time', fontsize=18)"
   ],
   "outputs": [
    {
     "output_type": "execute_result",
     "data": {
      "text/plain": [
       "Text(0.5, 0, 'Time')"
      ]
     },
     "metadata": {},
     "execution_count": 24
    },
    {
     "output_type": "display_data",
     "data": {
      "image/png": "[encoded data removed]",
      "text/plain": [
       "<Figure size 432x288 with 1 Axes>"
      ]
     },
     "metadata": {
      "needs_background": "light"
     }
    }
   ],
   "metadata": {}
  },
  {
   "cell_type": "code",
   "execution_count": 25,
   "source": [
    "# functions that will be parallelized across nodes. For use in the next cell\n",
    "def lm_estimate(XY):\n",
    "    # function to perform a linear regression and to return the reg. coefft.\n",
    "    X = XY[:int(.5*len(XY))].reshape((-1,1))\n",
    "    Y = XY[int(.5*len(XY)):] \n",
    "    model = LinearRegression().fit(X, Y) \n",
    "    return model.coef_[0] \n"
   ],
   "outputs": [],
   "metadata": {}
  },
  {
   "cell_type": "code",
   "execution_count": 26,
   "source": [
    "l_task = 28\n",
    "load = 0 # 1 = load previously saved reg coeffts for all movies, 0 = estimate coefts freshly\n",
    "timepts_indiv_movie[0]"
   ],
   "outputs": [
    {
     "output_type": "execute_result",
     "data": {
      "text/plain": [
       "array([ 0,  1,  2,  3,  4,  5,  6,  7,  8,  9, 10, 11, 12, 13, 14, 15, 16,\n",
       "       17, 18, 19, 20, 21, 22, 23, 24, 25, 26, 27, 28, 29, 30, 31, 32, 33,\n",
       "       34, 35, 36, 37, 38, 39, 40, 41, 42, 43, 44, 45, 46, 47, 48])"
      ]
     },
     "metadata": {},
     "execution_count": 26
    }
   ],
   "metadata": {}
  },
  {
   "cell_type": "code",
   "execution_count": 27,
   "source": [
    "timecourses.shape"
   ],
   "outputs": [
    {
     "output_type": "execute_result",
     "data": {
      "text/plain": [
       "(1049, 268, 269, 2)"
      ]
     },
     "metadata": {},
     "execution_count": 27
    }
   ],
   "metadata": {}
  },
  {
   "cell_type": "code",
   "execution_count": 28,
   "source": [
    "# Store block/slope regressors per run based on responses\n",
    "\n",
    "if load == 0:\n",
    "    coef_block = np.empty((timecourses.shape[0],268,2))\n",
    "    coef_slope = np.empty_like(coef_block)\n",
    "    coef_block[:] = np.nan\n",
    "    coef_slope[:] = np.nan\n",
    "    start = time.time()\n",
    "    if __name__ == '__main__':\n",
    "        pool = Pool(processes=cpu_count()) # helps to parallelize processing\n",
    "\n",
    "        for s in range(timecourses.shape[0]):\n",
    "            if s%100 ==0:\n",
    "                print(s,'time:',time.time()-start) \n",
    "            if len(np.where(np.isnan(responses[s,:]))[0]) == 0: # if the subject responded to all stimuli (excluding incomeplete subs)\n",
    "                for vid_no in range(10):\n",
    "                    #resp = responses[s,vid_no] # response for a subject and video nr.\n",
    "                    stimType_s = stimType[vid_no]\n",
    "                    #inds       = timepts_indiv_movie[vid_no][vid_start_rel_tr[vid_no]:vid_start_rel_tr[vid_no]+l_task+1] # to i\n",
    "                    inds_block = timepts_indiv_movie[vid_no][(vid_start_rel_tr[vid_no]+1):(vid_start_rel_tr[vid_no]+l_task+1)]\n",
    "                    inds_slope = timepts_indiv_movie[vid_no][(vid_start_rel_tr[vid_no]):(vid_start_rel_tr[vid_no]+l_task+1)]\n",
    "    \n",
    "                    if vid_no==0:\n",
    "                        boxcar_run = np.zeros((269,2)) # to store runwise block regressors\n",
    "                        slope_run = np.zeros_like(boxcar_run) # to store runwise slope regressors\n",
    "                    \n",
    "                    r = 1 if vid_no>=5 else 0\n",
    "                    if stimType_s == 1: #resp == 1:\n",
    "                        boxcar_run[inds_block,r] = 1 \n",
    "                        slope_run[inds_slope,r] = np.linspace(0,1,len(inds_slope)) \n",
    "                    \n",
    "                    elif stimType_s == 0: #resp == 0:\n",
    "                        boxcar_run[inds_block,r] = -1\n",
    "                        slope_run[inds_slope,r] = -1*np.linspace(0,1,len(inds_slope))\n",
    "                    \n",
    "                    if (s==1) and (vid_no ==9):\n",
    "                        plt.figure(1,figsize=(10,3))\n",
    "                        plt.subplot(211)\n",
    "                        plt.plot(boxcar_run[:,r], label = 'block reg run 2')\n",
    "                        plt.xticks([])\n",
    "                        plt.subplot(212)\n",
    "                        plt.plot(slope_run[:,r], label = 'slope reg run 2')\n",
    "                        plt.xticks([])\n",
    "                        plt.tight_layout()\n",
    "\n",
    "                #for node in range(268):\n",
    "                for r in range(2):\n",
    "\n",
    "                    boxcar_run[:,r] = np.convolve(boxcar_run[:,r], hrf)[:len(boxcar_run[:,r])]\n",
    "                    slope_run[:,r] = np.convolve(slope_run[:,r], hrf)[:len(slope_run[:,r])]\n",
    "\n",
    "                    if (s == 1) and (r ==1):\n",
    "                        plt.subplot(211)\n",
    "                        plt.plot(boxcar_run[:,r], label = 'block reg conv run 2')\n",
    "                        plt.subplot(212)\n",
    "                        plt.plot(slope_run[:,r], label = 'slope reg conv run 2')\n",
    "   \n",
    "                    #Y = timecourses[s,node,:,r]\n",
    "                    Y = timecourses[s,:,:,r] # nodes * ntimepts\n",
    "                    \n",
    "                    XY = np.hstack((np.tile(boxcar_run[:,r],(268,1)),Y))\n",
    "                    #print(XY)\n",
    "                    XY = [i for i in XY]\n",
    "                    #X = boxcar_run[:,r].reshape((-1, 1))\n",
    "                    coef_block[s,:,r] = pool.map(lm_estimate,XY)\n",
    "\n",
    "                    XY = np.hstack((np.tile(slope_run[:,r],(268,1)),Y))\n",
    "                    XY = [i for i in XY]\n",
    "                    coef_slope[s,:,r] = pool.map(lm_estimate,XY)\n",
    "    \n",
    "    fileName = os.path.join(data_file_loc,f'coef_blockreg_all{suff}_MentalRandom.npy')\n",
    "    np.save(fileName,coef_block)\n",
    "    fileName = os.path.join(data_file_loc,f'coef_slopereg_all{suff}_MentalRandom.npy')\n",
    "    np.save(fileName,coef_slope)\n",
    "\n",
    "elif load == 1:\n",
    "    fileName = os.path.join(data_file_loc,f'coef_blockreg_all{suff}_MentalRandom.npy')\n",
    "    coef_block = np.load(fileName)\n",
    "    fileName = os.path.join(data_file_loc,f'coef_slopereg_all{suff}_MentalRandom.npy')\n",
    "    coef_slope = np.load(fileName)\n",
    "plt.legend(bbox_to_anchor = [1.01,1])"
   ],
   "outputs": [
    {
     "output_type": "stream",
     "name": "stdout",
     "text": [
      "0 time: 0.06905913352966309\n",
      "100 time: 6.370908260345459\n",
      "200 time: 13.739320278167725\n",
      "300 time: 21.446734189987183\n",
      "400 time: 30.134393215179443\n",
      "500 time: 38.58603501319885\n",
      "600 time: 46.98448896408081\n",
      "700 time: 59.1611111164093\n",
      "800 time: 68.0819730758667\n",
      "900 time: 75.66128635406494\n",
      "1000 time: 83.6807610988617\n"
     ]
    },
    {
     "output_type": "execute_result",
     "data": {
      "text/plain": [
       "<matplotlib.legend.Legend at 0x7fef8d311c90>"
      ]
     },
     "metadata": {},
     "execution_count": 28
    },
    {
     "output_type": "display_data",
     "data": {
      "image/png": "[encoded data removed]",
      "text/plain": [
       "<Figure size 720x216 with 2 Axes>"
      ]
     },
     "metadata": {
      "needs_background": "light"
     }
    }
   ],
   "metadata": {}
  },
  {
   "cell_type": "code",
   "execution_count": 29,
   "source": [
    "plt.figure(1,figsize=(10,5))\n",
    "plt.subplot(121)\n",
    "sns.heatmap(coef_block[:5,:5,1],vmin=-1,vmax=1,cmap='RdBu_r')\n",
    "plt.subplot(122)\n",
    "sns.heatmap(coef_slope[:5,:5,1],vmin=-1,vmax=1,cmap='RdBu_r')"
   ],
   "outputs": [
    {
     "output_type": "execute_result",
     "data": {
      "text/plain": [
       "<AxesSubplot:>"
      ]
     },
     "metadata": {},
     "execution_count": 29
    },
    {
     "output_type": "display_data",
     "data": {
      "image/png": "[encoded data removed]",
      "text/plain": [
       "<Figure size 720x360 with 4 Axes>"
      ]
     },
     "metadata": {
      "needs_background": "light"
     }
    }
   ],
   "metadata": {}
  },
  {
   "cell_type": "code",
   "execution_count": null,
   "source": [],
   "outputs": [],
   "metadata": {}
  }
 ],
 "metadata": {
  "interpreter": {
   "hash": "30fd9c97283ec1278eec212a8f8afab06ad903f38228c32cacb469eba8e56f4f"
  },
  "kernelspec": {
   "name": "python3",
   "display_name": "Python 3.7.11 64-bit ('py37': conda)"
  },
  "language_info": {
   "codemirror_mode": {
    "name": "ipython",
    "version": 3
   },
   "file_extension": ".py",
   "mimetype": "text/x-python",
   "name": "python",
   "nbconvert_exporter": "python",
   "pygments_lexer": "ipython3",
   "version": "3.7.11"
  }
 },
 "nbformat": 4,
 "nbformat_minor": 4
}