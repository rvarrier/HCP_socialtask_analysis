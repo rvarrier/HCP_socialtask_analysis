{
 "cells": [
  {
   "cell_type": "markdown",
   "metadata": {},
   "source": [
    "# First-level subjectwise GLM analysis"
   ]
  },
  {
   "cell_type": "markdown",
   "metadata": {},
   "source": [
    "STEP 2: Subject-wise GLM for the slope regressor"
   ]
  },
  {
   "cell_type": "code",
   "execution_count": 1,
   "metadata": {},
   "outputs": [
    {
     "name": "stdout",
     "output_type": "stream",
     "text": [
      "current directory:\n",
      " /Users/f0053cz/Dropbox (Dartmouth College)/postdoc_Dartmouth/HCP/fMRIScipts/code\n"
     ]
    }
   ],
   "source": [
    "# import packages, check folders\n",
    "#%reset\n",
    "from pathlib import Path\n",
    "import os\n",
    "import numpy as np\n",
    "import h5py\n",
    "import pandas as pd\n",
    "#import imagesc as imagesc #pip install imagesc\n",
    "import matplotlib.pyplot as plt\n",
    "import seaborn as sns\n",
    "from scipy import stats\n",
    "import time\n",
    "import pickle\n",
    "\n",
    "%matplotlib inline\n",
    "\n",
    "working_dir = '/Users/f0053cz/Dropbox (Dartmouth College)/postdoc_Dartmouth/HCP/fMRIScipts/code'\n",
    "#working_dir = os.getcwd()\n",
    "print('current directory:\\n',working_dir)\n",
    "path = Path(working_dir)\n",
    "parent_folder = path.parent\n",
    "#print('parent folder:', parent_folder)\n",
    "data_file_loc = os.path.join(parent_folder,'data') # to store data we extract later in this notebook"
   ]
  },
  {
   "cell_type": "code",
   "execution_count": 2,
   "metadata": {},
   "outputs": [],
   "source": [
    "# load regressors\n",
    "timepts_indiv_movie, reg_all, reg_conv_all, respreg_all, respreg_conv_all = pickle.load(open(os.path.join(data_file_loc,'movie_wise_regs_windows.p'),\"rb\"))\n",
    "                                                                                        # load regs\n",
    "    \n",
    "# each is a list of 10: each element a timecourse"
   ]
  },
  {
   "cell_type": "code",
   "execution_count": 3,
   "metadata": {},
   "outputs": [
    {
     "data": {
      "text/plain": [
       "<matplotlib.legend.Legend at 0x7ff1a12ac8e0>"
      ]
     },
     "execution_count": 3,
     "metadata": {},
     "output_type": "execute_result"
    },
    {
     "data": {
      "image/png": "[encoded data removed]",
      "text/plain": [
       "<Figure size 432x288 with 1 Axes>"
      ]
     },
     "metadata": {
      "needs_background": "light"
     },
     "output_type": "display_data"
    }
   ],
   "source": [
    "#verify regressors\n",
    "plt.plot(reg_all[0],label ='reg_all[0]')\n",
    "plt.plot(reg_conv_all[0], label = 'reg_conv_all[0]')\n",
    "plt.plot(respreg_all[0],label ='respreg_all[0]')\n",
    "plt.plot(respreg_conv_all[0], label = 'respreg_conv_all[0]')\n",
    "plt.legend()"
   ]
  },
  {
   "cell_type": "code",
   "execution_count": 4,
   "metadata": {},
   "outputs": [],
   "source": [
    "from sklearn.linear_model import LinearRegression"
   ]
  },
  {
   "cell_type": "code",
   "execution_count": 6,
   "metadata": {},
   "outputs": [
    {
     "data": {
      "text/plain": [
       "(43, 2)"
      ]
     },
     "execution_count": 6,
     "metadata": {},
     "output_type": "execute_result"
    }
   ],
   "source": [
    "X.shape"
   ]
  },
  {
   "cell_type": "code",
   "execution_count": 7,
   "metadata": {},
   "outputs": [
    {
     "name": "stdout",
     "output_type": "stream",
     "text": [
      "/Users/f0053cz/Dropbox (Dartmouth College)/postdoc_Dartmouth/HCP/fMRIScipts/data/timecourse-movie0.npy\n",
      "268\n",
      "movie: 0 , time elapsed: 52.86664390563965\n",
      "/Users/f0053cz/Dropbox (Dartmouth College)/postdoc_Dartmouth/HCP/fMRIScipts/data/timecourse-movie1.npy\n",
      "movie: 1 , time elapsed: 108.18975782394409\n",
      "/Users/f0053cz/Dropbox (Dartmouth College)/postdoc_Dartmouth/HCP/fMRIScipts/data/timecourse-movie2.npy\n",
      "movie: 2 , time elapsed: 160.3668031692505\n",
      "/Users/f0053cz/Dropbox (Dartmouth College)/postdoc_Dartmouth/HCP/fMRIScipts/data/timecourse-movie3.npy\n",
      "movie: 3 , time elapsed: 209.45847296714783\n",
      "/Users/f0053cz/Dropbox (Dartmouth College)/postdoc_Dartmouth/HCP/fMRIScipts/data/timecourse-movie4.npy\n",
      "movie: 4 , time elapsed: 258.8802070617676\n",
      "/Users/f0053cz/Dropbox (Dartmouth College)/postdoc_Dartmouth/HCP/fMRIScipts/data/timecourse-movie5.npy\n",
      "movie: 5 , time elapsed: 307.8416938781738\n",
      "/Users/f0053cz/Dropbox (Dartmouth College)/postdoc_Dartmouth/HCP/fMRIScipts/data/timecourse-movie6.npy\n",
      "movie: 6 , time elapsed: 357.541622877121\n",
      "/Users/f0053cz/Dropbox (Dartmouth College)/postdoc_Dartmouth/HCP/fMRIScipts/data/timecourse-movie7.npy\n",
      "movie: 7 , time elapsed: 410.68647480010986\n",
      "/Users/f0053cz/Dropbox (Dartmouth College)/postdoc_Dartmouth/HCP/fMRIScipts/data/timecourse-movie8.npy\n",
      "movie: 8 , time elapsed: 464.8298931121826\n",
      "/Users/f0053cz/Dropbox (Dartmouth College)/postdoc_Dartmouth/HCP/fMRIScipts/data/timecourse-movie9.npy\n",
      "movie: 9 , time elapsed: 514.3950319290161\n"
     ]
    }
   ],
   "source": [
    "# load each movie, perform linear regression for each sub and roi for that movie\n",
    "nmovies = 10\n",
    "start = time.time()\n",
    "for m in range(nmovies): #50s per movie\n",
    "    fileName = os.path.join(data_file_loc,f'timecourse-movie{m}.npy')\n",
    "    print(fileName)\n",
    "    movieTC = np.load(fileName) # nsubs * nnodes * ntimepts\n",
    "    \n",
    "    if m == 0:\n",
    "        nnodes = movieTC.shape[1]\n",
    "        print(nnodes)\n",
    "        est_movie_slope = np.zeros((movieTC.shape[0],nmovies,nnodes))\n",
    "        \n",
    "    X = np.array([reg_conv_all[m],respreg_conv_all[m]])\n",
    "    X = X.T\n",
    "    X = X[:28,:]\n",
    "    for s in range(movieTC.shape[0]):\n",
    "        for n in range(nnodes):\n",
    "            Y = movieTC[s,n,:28]\n",
    "            model = LinearRegression().fit(X, Y)\n",
    "            est_movie_slope[s, m, n] = model.coef_[0]\n",
    "    now = time.time()\n",
    "    print('movie:',m,', time elapsed:', (now - start))"
   ]
  },
  {
   "cell_type": "code",
   "execution_count": 26,
   "metadata": {},
   "outputs": [],
   "source": [
    "#save betaper movie in data folder\n",
    "fileName = os.path.join(data_file_loc,'betapermovie_slopereg.npy')\n",
    "np.save(fileName, est_movie_slope)"
   ]
  },
  {
   "cell_type": "code",
   "execution_count": null,
   "metadata": {},
   "outputs": [],
   "source": []
  }
 ],
 "metadata": {
  "kernelspec": {
   "display_name": "Python 3",
   "language": "python",
   "name": "python3"
  },
  "language_info": {
   "codemirror_mode": {
    "name": "ipython",
    "version": 3
   },
   "file_extension": ".py",
   "mimetype": "text/x-python",
   "name": "python",
   "nbconvert_exporter": "python",
   "pygments_lexer": "ipython3",
   "version": "3.8.5"
  }
 },
 "nbformat": 4,
 "nbformat_minor": 4
}
