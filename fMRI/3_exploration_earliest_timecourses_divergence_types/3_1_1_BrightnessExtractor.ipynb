{
 "cells": [
  {
   "cell_type": "markdown",
   "source": [
    "# Extract brightness timecourses for all 10 HCP movies"
   ],
   "metadata": {}
  },
  {
   "cell_type": "markdown",
   "source": [
    "- Used to regress out brightness-related low level input\n",
    "\n",
    "Rekha Varrier (code adapted from C.Grall, E.S.Finn)"
   ],
   "metadata": {}
  },
  {
   "cell_type": "code",
   "execution_count": 1,
   "source": [
    "import imageio\n",
    "# imageio.plugins.ffmpeg.download()\n",
    "import pandas as pd\n",
    "from matplotlib import pyplot as plt\n",
    "import seaborn as sns\n",
    "import pliers\n",
    "%matplotlib inline\n",
    "\n",
    "import os\n",
    "\n",
    "from pliers.extractors import BrightnessExtractor\n",
    "from pliers.stimuli import VideoStim\n"
   ],
   "outputs": [],
   "metadata": {}
  },
  {
   "cell_type": "code",
   "execution_count": 2,
   "source": [
    "vid_names = ['COAXING-B', 'BILLIARD-A', 'DRIFTING-A', 'Fishing', 'RandomMechanical', 'Scaring','SEDUCING-B','STAR-A','SURPRISING-B','TENNIS-A']"
   ],
   "outputs": [],
   "metadata": {}
  },
  {
   "cell_type": "code",
   "execution_count": 5,
   "source": [
    "for vid_name in vid_names[2:]:\n",
    "\n",
    "    print(vid_name)\n",
    "\n",
    "    video = VideoStim('/Users/f0053cz/Dropbox (Dartmouth College)/postdoc_Dartmouth/HCP/social_stimuli/SOCIAL Stimuli/mp4/hcp10/' + vid_name + '.mp4')\n",
    "    \n",
    "    bright_ext = BrightnessExtractor()\n",
    "    bright_result = bright_ext.transform(video)\n",
    "    result_df = [f.to_df() for f in bright_result]\n",
    "    result_df = pd.concat(result_df)\n",
    "    \n",
    "    result_df.to_csv('/Users/f0053cz/Dropbox (Dartmouth College)/postdoc_Dartmouth/HCP/social_stimuli/SOCIAL Stimuli/mp4/hcp10/csv/BrightnessExtractor_' + vid_name + '.csv', index = False)\n"
   ],
   "outputs": [
    {
     "output_type": "stream",
     "name": "stdout",
     "text": [
      "DRIFTING-A\n"
     ]
    },
    {
     "output_type": "stream",
     "name": "stderr",
     "text": [
      "Stim: 583it [00:03, 166.46it/s]\n"
     ]
    },
    {
     "output_type": "stream",
     "name": "stdout",
     "text": [
      "Fishing\n"
     ]
    },
    {
     "output_type": "stream",
     "name": "stderr",
     "text": [
      "Stim: 678it [00:02, 268.02it/s]\n"
     ]
    },
    {
     "output_type": "stream",
     "name": "stdout",
     "text": [
      "RandomMechanical\n"
     ]
    },
    {
     "output_type": "stream",
     "name": "stderr",
     "text": [
      "Stim: 603it [00:02, 271.87it/s]\n"
     ]
    },
    {
     "output_type": "stream",
     "name": "stdout",
     "text": [
      "Scaring\n"
     ]
    },
    {
     "output_type": "stream",
     "name": "stderr",
     "text": [
      "Stim: 603it [00:02, 230.36it/s]\n"
     ]
    },
    {
     "output_type": "stream",
     "name": "stdout",
     "text": [
      "SEDUCING-B\n"
     ]
    },
    {
     "output_type": "stream",
     "name": "stderr",
     "text": [
      "Stim: 541it [00:03, 165.31it/s]\n"
     ]
    },
    {
     "output_type": "stream",
     "name": "stdout",
     "text": [
      "STAR-A\n"
     ]
    },
    {
     "output_type": "stream",
     "name": "stderr",
     "text": [
      "Stim: 573it [00:03, 163.10it/s]\n"
     ]
    },
    {
     "output_type": "stream",
     "name": "stdout",
     "text": [
      "SURPRISING-B\n"
     ]
    },
    {
     "output_type": "stream",
     "name": "stderr",
     "text": [
      "Stim: 615it [00:03, 167.38it/s]\n"
     ]
    },
    {
     "output_type": "stream",
     "name": "stdout",
     "text": [
      "TENNIS-A\n"
     ]
    },
    {
     "output_type": "stream",
     "name": "stderr",
     "text": [
      "Stim: 618it [00:03, 168.44it/s]\n"
     ]
    }
   ],
   "metadata": {}
  },
  {
   "cell_type": "code",
   "execution_count": 4,
   "source": [
    "result_df.head()"
   ],
   "outputs": [
    {
     "output_type": "execute_result",
     "data": {
      "text/html": [
       "<div>\n",
       "<style scoped>\n",
       "    .dataframe tbody tr th:only-of-type {\n",
       "        vertical-align: middle;\n",
       "    }\n",
       "\n",
       "    .dataframe tbody tr th {\n",
       "        vertical-align: top;\n",
       "    }\n",
       "\n",
       "    .dataframe thead th {\n",
       "        text-align: right;\n",
       "    }\n",
       "</style>\n",
       "<table border=\"1\" class=\"dataframe\">\n",
       "  <thead>\n",
       "    <tr style=\"text-align: right;\">\n",
       "      <th></th>\n",
       "      <th>order</th>\n",
       "      <th>duration</th>\n",
       "      <th>onset</th>\n",
       "      <th>object_id</th>\n",
       "      <th>brightness</th>\n",
       "    </tr>\n",
       "  </thead>\n",
       "  <tbody>\n",
       "    <tr>\n",
       "      <th>0</th>\n",
       "      <td>NaN</td>\n",
       "      <td>0.033333</td>\n",
       "      <td>0.000000</td>\n",
       "      <td>0</td>\n",
       "      <td>0.978018</td>\n",
       "    </tr>\n",
       "    <tr>\n",
       "      <th>0</th>\n",
       "      <td>NaN</td>\n",
       "      <td>0.033333</td>\n",
       "      <td>0.033333</td>\n",
       "      <td>0</td>\n",
       "      <td>0.978044</td>\n",
       "    </tr>\n",
       "    <tr>\n",
       "      <th>0</th>\n",
       "      <td>NaN</td>\n",
       "      <td>0.033333</td>\n",
       "      <td>0.066667</td>\n",
       "      <td>0</td>\n",
       "      <td>0.978154</td>\n",
       "    </tr>\n",
       "    <tr>\n",
       "      <th>0</th>\n",
       "      <td>NaN</td>\n",
       "      <td>0.033333</td>\n",
       "      <td>0.100000</td>\n",
       "      <td>0</td>\n",
       "      <td>0.978383</td>\n",
       "    </tr>\n",
       "    <tr>\n",
       "      <th>0</th>\n",
       "      <td>NaN</td>\n",
       "      <td>0.033333</td>\n",
       "      <td>0.133333</td>\n",
       "      <td>0</td>\n",
       "      <td>0.978722</td>\n",
       "    </tr>\n",
       "  </tbody>\n",
       "</table>\n",
       "</div>"
      ],
      "text/plain": [
       "   order  duration     onset  object_id  brightness\n",
       "0    NaN  0.033333  0.000000          0    0.978018\n",
       "0    NaN  0.033333  0.033333          0    0.978044\n",
       "0    NaN  0.033333  0.066667          0    0.978154\n",
       "0    NaN  0.033333  0.100000          0    0.978383\n",
       "0    NaN  0.033333  0.133333          0    0.978722"
      ]
     },
     "metadata": {},
     "execution_count": 4
    }
   ],
   "metadata": {}
  },
  {
   "cell_type": "code",
   "execution_count": 11,
   "source": [
    "plt.plot(result_df.onset,result_df.brightness)"
   ],
   "outputs": [
    {
     "output_type": "execute_result",
     "data": {
      "text/plain": [
       "[<matplotlib.lines.Line2D at 0x7fb2ebe91a10>]"
      ]
     },
     "metadata": {},
     "execution_count": 11
    },
    {
     "output_type": "display_data",
     "data": {
      "image/png": "[encoded data removed]",
      "text/plain": [
       "<Figure size 432x288 with 1 Axes>"
      ]
     },
     "metadata": {
      "needs_background": "light"
     }
    }
   ],
   "metadata": {}
  },
  {
   "cell_type": "code",
   "execution_count": null,
   "source": [],
   "outputs": [],
   "metadata": {
    "collapsed": true
   }
  }
 ],
 "metadata": {
  "kernelspec": {
   "name": "python3",
   "display_name": "Python 3.7.11 64-bit ('py37': conda)"
  },
  "language_info": {
   "codemirror_mode": {
    "name": "ipython",
    "version": 3
   },
   "file_extension": ".py",
   "mimetype": "text/x-python",
   "name": "python",
   "nbconvert_exporter": "python",
   "pygments_lexer": "ipython3",
   "version": "3.7.11"
  },
  "interpreter": {
   "hash": "30fd9c97283ec1278eec212a8f8afab06ad903f38228c32cacb469eba8e56f4f"
  }
 },
 "nbformat": 4,
 "nbformat_minor": 2
}