{
 "cells": [
  {
   "cell_type": "markdown",
   "source": [
    "# Analysis of HCP behavioral dataset\n",
    "\n",
    "Rekha Varrier, main analyses Nov 2020 - Jan 2021.\n",
    "- Some of the results were presented in an OHBM 2021 poster"
   ],
   "metadata": {}
  },
  {
   "cell_type": "markdown",
   "source": [
    "Below are the steps to analyse the behavioral data of the HCP social task"
   ],
   "metadata": {}
  },
  {
   "cell_type": "code",
   "execution_count": 296,
   "source": [
    "#Importing data and packages, creating convenient variables\n",
    "#%reset\n",
    "import os\n",
    "from pathlib import Path\n",
    "import pandas as pd\n",
    "import numpy as np\n",
    "import scipy.stats as stats\n",
    "import seaborn as sns\n",
    "import matplotlib.pyplot as plt\n",
    "import scipy\n",
    "%matplotlib inline\n",
    "\n",
    "\n",
    "folder = os.getcwd()\n",
    "print('current dir: ',folder)\n",
    "path = Path(folder)\n",
    "parent_folder = path.parent\n",
    "file_loc = os.path.join(parent_folder,'data')\n",
    "print('data folder:',file_loc)\n",
    "dataFile  = os.path.join(file_loc,'hcp_social_behav_for_ddm_stim-coding.csv')\n"
   ],
   "outputs": [
    {
     "output_type": "stream",
     "name": "stdout",
     "text": [
      "current dir:  /Users/f0053cz/Dropbox (Dartmouth College)/postdoc_Dartmouth/HCP/BehaviorAnalyses/Documented scripts/code\n",
      "data folder: /Users/f0053cz/Dropbox (Dartmouth College)/postdoc_Dartmouth/HCP/BehaviorAnalyses/Documented scripts/data\n"
     ]
    }
   ],
   "metadata": {}
  },
  {
   "cell_type": "code",
   "execution_count": 297,
   "source": [
    "# setting default fontsizes for plots\n",
    "\n",
    "s=16 # CHANGE FONTSIZE HERE\n",
    "\n",
    "plt.rc('font', size=s) #controls default text size\n",
    "plt.rc('axes', titlesize=s) #fontsize of the title\n",
    "plt.rc('axes', labelsize=s) #fontsize of the x and y labels\n",
    "plt.rc('xtick', labelsize=s) #fontsize of the x tick labels\n",
    "plt.rc('ytick', labelsize=s) #fontsize of the y tick labels\n",
    "plt.rc('legend', fontsize=s) #fontsize of the legend\n",
    "#import matplotlib as mpl\n",
    "#mpl.rcParams['font.weight']= 'normal'\n"
   ],
   "outputs": [],
   "metadata": {}
  },
  {
   "cell_type": "code",
   "execution_count": 305,
   "source": [
    "vid_names = {}\n",
    "vid_names[\"run1\"] = [\"COAXING-B\", \"BILLIARD-A\", \"DRIFTING-A\", \"Fishing\", \"Random mechanical\"]\n",
    "vid_names[\"run2\"] = [\"Scaring\", \"SEDUCING-B\", \"STAR-A\", \"SURPRISING-B\", \"TENNIS-A\"]\n",
    "\n",
    "dat = pd.read_csv(dataFile)# , index_col = \"subj_idx\")\n",
    "dat[\"run\"] = [\"run2\" if x.split('.')[0] in vid_names[\"run1\"] else \"run1\" for x in dat[\"movie\"]]\n",
    "dat[\"run\"] = [0 if x.split('.')[0] in vid_names[\"run1\"] else 1 for x in dat[\"movie\"]]\n",
    "\n",
    "print(\"n=\",len(np.unique(dat[\"subj_idx\"])))\n",
    "dat.head(10)"
   ],
   "outputs": [
    {
     "output_type": "stream",
     "name": "stdout",
     "text": [
      "n= 1051\n"
     ]
    },
    {
     "output_type": "execute_result",
     "data": {
      "text/html": [
       "<div>\n",
       "<style scoped>\n",
       "    .dataframe tbody tr th:only-of-type {\n",
       "        vertical-align: middle;\n",
       "    }\n",
       "\n",
       "    .dataframe tbody tr th {\n",
       "        vertical-align: top;\n",
       "    }\n",
       "\n",
       "    .dataframe thead th {\n",
       "        text-align: right;\n",
       "    }\n",
       "</style>\n",
       "<table border=\"1\" class=\"dataframe\">\n",
       "  <thead>\n",
       "    <tr style=\"text-align: right;\">\n",
       "      <th></th>\n",
       "      <th>subj_idx</th>\n",
       "      <th>stim</th>\n",
       "      <th>movie</th>\n",
       "      <th>rt</th>\n",
       "      <th>response</th>\n",
       "      <th>run</th>\n",
       "    </tr>\n",
       "  </thead>\n",
       "  <tbody>\n",
       "    <tr>\n",
       "      <th>0</th>\n",
       "      <td>168745</td>\n",
       "      <td>Mental</td>\n",
       "      <td>Scaring.AVI</td>\n",
       "      <td>1.252</td>\n",
       "      <td>1</td>\n",
       "      <td>1</td>\n",
       "    </tr>\n",
       "    <tr>\n",
       "      <th>1</th>\n",
       "      <td>168745</td>\n",
       "      <td>Mental</td>\n",
       "      <td>SEDUCING-B.AVI</td>\n",
       "      <td>0.578</td>\n",
       "      <td>1</td>\n",
       "      <td>1</td>\n",
       "    </tr>\n",
       "    <tr>\n",
       "      <th>2</th>\n",
       "      <td>168745</td>\n",
       "      <td>Random</td>\n",
       "      <td>STAR-A.AVI</td>\n",
       "      <td>1.643</td>\n",
       "      <td>0</td>\n",
       "      <td>1</td>\n",
       "    </tr>\n",
       "    <tr>\n",
       "      <th>3</th>\n",
       "      <td>168745</td>\n",
       "      <td>Mental</td>\n",
       "      <td>SURPRISING-B.AVI</td>\n",
       "      <td>1.082</td>\n",
       "      <td>1</td>\n",
       "      <td>1</td>\n",
       "    </tr>\n",
       "    <tr>\n",
       "      <th>4</th>\n",
       "      <td>168745</td>\n",
       "      <td>Random</td>\n",
       "      <td>TENNIS-A.AVI</td>\n",
       "      <td>1.232</td>\n",
       "      <td>0</td>\n",
       "      <td>1</td>\n",
       "    </tr>\n",
       "    <tr>\n",
       "      <th>5</th>\n",
       "      <td>668361</td>\n",
       "      <td>Mental</td>\n",
       "      <td>COAXING-B.AVI</td>\n",
       "      <td>1.796</td>\n",
       "      <td>9</td>\n",
       "      <td>0</td>\n",
       "    </tr>\n",
       "    <tr>\n",
       "      <th>6</th>\n",
       "      <td>668361</td>\n",
       "      <td>Random</td>\n",
       "      <td>BILLIARD-A.AVI</td>\n",
       "      <td>1.254</td>\n",
       "      <td>0</td>\n",
       "      <td>0</td>\n",
       "    </tr>\n",
       "    <tr>\n",
       "      <th>7</th>\n",
       "      <td>668361</td>\n",
       "      <td>Random</td>\n",
       "      <td>DRIFTING-A.AVI</td>\n",
       "      <td>0.590</td>\n",
       "      <td>0</td>\n",
       "      <td>0</td>\n",
       "    </tr>\n",
       "    <tr>\n",
       "      <th>8</th>\n",
       "      <td>668361</td>\n",
       "      <td>Mental</td>\n",
       "      <td>Fishing.AVI</td>\n",
       "      <td>0.993</td>\n",
       "      <td>0</td>\n",
       "      <td>0</td>\n",
       "    </tr>\n",
       "    <tr>\n",
       "      <th>9</th>\n",
       "      <td>668361</td>\n",
       "      <td>Random</td>\n",
       "      <td>Random mechanical.AVI</td>\n",
       "      <td>0.816</td>\n",
       "      <td>0</td>\n",
       "      <td>0</td>\n",
       "    </tr>\n",
       "  </tbody>\n",
       "</table>\n",
       "</div>"
      ],
      "text/plain": [
       "   subj_idx    stim                  movie     rt  response  run\n",
       "0    168745  Mental            Scaring.AVI  1.252         1    1\n",
       "1    168745  Mental         SEDUCING-B.AVI  0.578         1    1\n",
       "2    168745  Random             STAR-A.AVI  1.643         0    1\n",
       "3    168745  Mental       SURPRISING-B.AVI  1.082         1    1\n",
       "4    168745  Random           TENNIS-A.AVI  1.232         0    1\n",
       "5    668361  Mental          COAXING-B.AVI  1.796         9    0\n",
       "6    668361  Random         BILLIARD-A.AVI  1.254         0    0\n",
       "7    668361  Random         DRIFTING-A.AVI  0.590         0    0\n",
       "8    668361  Mental            Fishing.AVI  0.993         0    0\n",
       "9    668361  Random  Random mechanical.AVI  0.816         0    0"
      ]
     },
     "metadata": {},
     "execution_count": 305
    }
   ],
   "metadata": {}
  },
  {
   "cell_type": "code",
   "execution_count": 306,
   "source": [
    "#add accuracy as an additional column, remove impossible RTs\n",
    "\n",
    "# add accuracy\n",
    "acc = np.zeros((dat.shape[0],)) -1 # initialize accuracy with -1\n",
    "correct = np.where(((dat['stim'] == 'Mental') & (dat['response'] == 1)) | ((dat['stim'] == 'Random') & (dat['response'] == 0)))[0]\n",
    "wrong = np.where(((dat['stim'] == 'Mental') & (dat['response'] == 0)) | ((dat['stim'] == 'Random') & (dat['response'] == 1)))[0]\n",
    "unsure = np.where(dat['response'] == 9)[0]\n",
    "acc[correct] = 1\n",
    "acc[wrong]= 0\n",
    "acc[unsure] = 9\n",
    "dat['accuracy'] = acc\n",
    "\n",
    "# remove imppossible RTs\n",
    "rtmin = 0.15 # threshold for impossibly short RTs\n",
    "print('nrows before=',dat.shape[0])\n",
    "dat= dat.loc[dat['rt']>=rtmin,:]\n",
    "print('nrows after=',dat.shape[0])\n",
    "#dat.head()\n"
   ],
   "outputs": [
    {
     "output_type": "stream",
     "name": "stdout",
     "text": [
      "nrows before= 10149\n",
      "nrows after= 9948\n"
     ]
    }
   ],
   "metadata": {}
  },
  {
   "cell_type": "code",
   "execution_count": 307,
   "source": [
    "#excluding bad subs: defined as those who have less than 'thresh' trials\n",
    "# defined as 8/10 responses \"sure\", i.e., yes/no\n",
    "# did this to make sure we have a good number of trials/subject - since our main analyses were only on the \n",
    "# sure trials\n",
    "\n",
    "thresh = 10\n",
    "trial_counts = dat.groupby(\"subj_idx\").count()[\"rt\"]\n",
    "bad_subs = trial_counts[(trial_counts < thresh)].index\n",
    "#print(bad_subs)\n",
    "dat  = dat.reset_index() # add index as an additional column \"index\"\n",
    "dat = dat.set_index('subj_idx') # make subj_idx the index\n",
    "dat.drop(bad_subs, inplace=True) # remove bad subjects\n",
    "dat = dat.reset_index() #bring back subj_idx as a column\n",
    "dat = dat.set_index('index') # make the column \"index\" as the index (as in the beginning)\n",
    "\n",
    "print(\"Nr. of subjects left\",len(dat.groupby(\"subj_idx\")))\n",
    "print(\"Nr. of rows:\",dat.shape)"
   ],
   "outputs": [
    {
     "output_type": "stream",
     "name": "stdout",
     "text": [
      "Nr. of subjects left 821\n",
      "Nr. of rows: (8210, 7)\n"
     ]
    }
   ],
   "metadata": {}
  },
  {
   "cell_type": "code",
   "execution_count": 308,
   "source": [
    "#Sort into sure and unsure trials dfs\n",
    "data_sure = dat[dat[\"response\"]!=9]\n",
    "data_unsure = dat[dat[\"response\"] ==9]\n",
    "len(np.unique(data_sure['subj_idx']))"
   ],
   "outputs": [
    {
     "output_type": "execute_result",
     "data": {
      "text/plain": [
       "821"
      ]
     },
     "metadata": {},
     "execution_count": 308
    }
   ],
   "metadata": {}
  },
  {
   "cell_type": "markdown",
   "source": [
    "### 1. Descriptives\n",
    "### (a) Number of yes/no responses per sub (for paper)"
   ],
   "metadata": {}
  },
  {
   "cell_type": "markdown",
   "source": [
    "- to evaluate if there are more Yes responses than No responses on average - suggesting a Yes bias"
   ],
   "metadata": {}
  },
  {
   "cell_type": "code",
   "execution_count": 309,
   "source": [
    "counts_per_subj = data_sure.groupby(['subj_idx', 'response']).count().movie # Mean count per subject for Mental and Random\n",
    "counts_per_subj = counts_per_subj.unstack(level = -1)\n",
    "counts_per_subj['diff'] = counts_per_subj[1]-counts_per_subj[0]\n",
    "counts_per_subj['sum'] = counts_per_subj[1]+counts_per_subj[0]\n",
    "counts_per_subj\n"
   ],
   "outputs": [
    {
     "output_type": "execute_result",
     "data": {
      "text/html": [
       "<div>\n",
       "<style scoped>\n",
       "    .dataframe tbody tr th:only-of-type {\n",
       "        vertical-align: middle;\n",
       "    }\n",
       "\n",
       "    .dataframe tbody tr th {\n",
       "        vertical-align: top;\n",
       "    }\n",
       "\n",
       "    .dataframe thead th {\n",
       "        text-align: right;\n",
       "    }\n",
       "</style>\n",
       "<table border=\"1\" class=\"dataframe\">\n",
       "  <thead>\n",
       "    <tr style=\"text-align: right;\">\n",
       "      <th>response</th>\n",
       "      <th>0</th>\n",
       "      <th>1</th>\n",
       "      <th>diff</th>\n",
       "      <th>sum</th>\n",
       "    </tr>\n",
       "    <tr>\n",
       "      <th>subj_idx</th>\n",
       "      <th></th>\n",
       "      <th></th>\n",
       "      <th></th>\n",
       "      <th></th>\n",
       "    </tr>\n",
       "  </thead>\n",
       "  <tbody>\n",
       "    <tr>\n",
       "      <th>100206</th>\n",
       "      <td>1.0</td>\n",
       "      <td>9.0</td>\n",
       "      <td>8.0</td>\n",
       "      <td>10.0</td>\n",
       "    </tr>\n",
       "    <tr>\n",
       "      <th>100307</th>\n",
       "      <td>4.0</td>\n",
       "      <td>5.0</td>\n",
       "      <td>1.0</td>\n",
       "      <td>9.0</td>\n",
       "    </tr>\n",
       "    <tr>\n",
       "      <th>100408</th>\n",
       "      <td>4.0</td>\n",
       "      <td>5.0</td>\n",
       "      <td>1.0</td>\n",
       "      <td>9.0</td>\n",
       "    </tr>\n",
       "    <tr>\n",
       "      <th>100610</th>\n",
       "      <td>5.0</td>\n",
       "      <td>5.0</td>\n",
       "      <td>0.0</td>\n",
       "      <td>10.0</td>\n",
       "    </tr>\n",
       "    <tr>\n",
       "      <th>101309</th>\n",
       "      <td>2.0</td>\n",
       "      <td>5.0</td>\n",
       "      <td>3.0</td>\n",
       "      <td>7.0</td>\n",
       "    </tr>\n",
       "    <tr>\n",
       "      <th>...</th>\n",
       "      <td>...</td>\n",
       "      <td>...</td>\n",
       "      <td>...</td>\n",
       "      <td>...</td>\n",
       "    </tr>\n",
       "    <tr>\n",
       "      <th>991267</th>\n",
       "      <td>4.0</td>\n",
       "      <td>5.0</td>\n",
       "      <td>1.0</td>\n",
       "      <td>9.0</td>\n",
       "    </tr>\n",
       "    <tr>\n",
       "      <th>992673</th>\n",
       "      <td>5.0</td>\n",
       "      <td>5.0</td>\n",
       "      <td>0.0</td>\n",
       "      <td>10.0</td>\n",
       "    </tr>\n",
       "    <tr>\n",
       "      <th>992774</th>\n",
       "      <td>4.0</td>\n",
       "      <td>5.0</td>\n",
       "      <td>1.0</td>\n",
       "      <td>9.0</td>\n",
       "    </tr>\n",
       "    <tr>\n",
       "      <th>993675</th>\n",
       "      <td>5.0</td>\n",
       "      <td>5.0</td>\n",
       "      <td>0.0</td>\n",
       "      <td>10.0</td>\n",
       "    </tr>\n",
       "    <tr>\n",
       "      <th>996782</th>\n",
       "      <td>5.0</td>\n",
       "      <td>5.0</td>\n",
       "      <td>0.0</td>\n",
       "      <td>10.0</td>\n",
       "    </tr>\n",
       "  </tbody>\n",
       "</table>\n",
       "<p>821 rows × 4 columns</p>\n",
       "</div>"
      ],
      "text/plain": [
       "response    0    1  diff   sum\n",
       "subj_idx                      \n",
       "100206    1.0  9.0   8.0  10.0\n",
       "100307    4.0  5.0   1.0   9.0\n",
       "100408    4.0  5.0   1.0   9.0\n",
       "100610    5.0  5.0   0.0  10.0\n",
       "101309    2.0  5.0   3.0   7.0\n",
       "...       ...  ...   ...   ...\n",
       "991267    4.0  5.0   1.0   9.0\n",
       "992673    5.0  5.0   0.0  10.0\n",
       "992774    4.0  5.0   1.0   9.0\n",
       "993675    5.0  5.0   0.0  10.0\n",
       "996782    5.0  5.0   0.0  10.0\n",
       "\n",
       "[821 rows x 4 columns]"
      ]
     },
     "metadata": {},
     "execution_count": 309
    }
   ],
   "metadata": {}
  },
  {
   "cell_type": "code",
   "execution_count": 310,
   "source": [
    "# exclude subs with 0 responses in social/nonsocial and subjs with fewer than 8 yes/no responses\n",
    "rows = ~np.isnan(counts_per_subj['diff'])\n",
    "counts_per_subj = counts_per_subj.loc[rows,:]\n",
    "counts_per_subj.shape"
   ],
   "outputs": [
    {
     "output_type": "execute_result",
     "data": {
      "text/plain": [
       "(819, 4)"
      ]
     },
     "metadata": {},
     "execution_count": 310
    }
   ],
   "metadata": {}
  },
  {
   "cell_type": "code",
   "execution_count": 311,
   "source": [
    "# compute response perceptages and theur diiference\n",
    "counts_per_subj.loc[:,'No_pc']  = 100*counts_per_subj.loc[:,0]/counts_per_subj.loc[:,'sum']\n",
    "counts_per_subj.loc[:,'Yes_pc'] = 100*counts_per_subj.loc[:,1]/counts_per_subj.loc[:,'sum']\n",
    "counts_per_subj.loc[:,'Soc-NonSoc_pc'] = counts_per_subj.loc[:,'Yes_pc'] - counts_per_subj.loc[:,'No_pc']\n",
    "counts_per_subj"
   ],
   "outputs": [
    {
     "output_type": "stream",
     "name": "stderr",
     "text": [
      "/Users/f0053cz/anaconda3/envs/py37/lib/python3.7/site-packages/pandas/core/indexing.py:1596: SettingWithCopyWarning: \n",
      "A value is trying to be set on a copy of a slice from a DataFrame.\n",
      "Try using .loc[row_indexer,col_indexer] = value instead\n",
      "\n",
      "See the caveats in the documentation: https://pandas.pydata.org/pandas-docs/stable/user_guide/indexing.html#returning-a-view-versus-a-copy\n",
      "  self.obj[key] = _infer_fill_value(value)\n",
      "/Users/f0053cz/anaconda3/envs/py37/lib/python3.7/site-packages/pandas/core/indexing.py:1783: SettingWithCopyWarning: \n",
      "A value is trying to be set on a copy of a slice from a DataFrame.\n",
      "Try using .loc[row_indexer,col_indexer] = value instead\n",
      "\n",
      "See the caveats in the documentation: https://pandas.pydata.org/pandas-docs/stable/user_guide/indexing.html#returning-a-view-versus-a-copy\n",
      "  self.obj[item_labels[indexer[info_axis]]] = value\n"
     ]
    },
    {
     "output_type": "execute_result",
     "data": {
      "text/html": [
       "<div>\n",
       "<style scoped>\n",
       "    .dataframe tbody tr th:only-of-type {\n",
       "        vertical-align: middle;\n",
       "    }\n",
       "\n",
       "    .dataframe tbody tr th {\n",
       "        vertical-align: top;\n",
       "    }\n",
       "\n",
       "    .dataframe thead th {\n",
       "        text-align: right;\n",
       "    }\n",
       "</style>\n",
       "<table border=\"1\" class=\"dataframe\">\n",
       "  <thead>\n",
       "    <tr style=\"text-align: right;\">\n",
       "      <th>response</th>\n",
       "      <th>0</th>\n",
       "      <th>1</th>\n",
       "      <th>diff</th>\n",
       "      <th>sum</th>\n",
       "      <th>No_pc</th>\n",
       "      <th>Yes_pc</th>\n",
       "      <th>Soc-NonSoc_pc</th>\n",
       "    </tr>\n",
       "    <tr>\n",
       "      <th>subj_idx</th>\n",
       "      <th></th>\n",
       "      <th></th>\n",
       "      <th></th>\n",
       "      <th></th>\n",
       "      <th></th>\n",
       "      <th></th>\n",
       "      <th></th>\n",
       "    </tr>\n",
       "  </thead>\n",
       "  <tbody>\n",
       "    <tr>\n",
       "      <th>100206</th>\n",
       "      <td>1.0</td>\n",
       "      <td>9.0</td>\n",
       "      <td>8.0</td>\n",
       "      <td>10.0</td>\n",
       "      <td>10.000000</td>\n",
       "      <td>90.000000</td>\n",
       "      <td>80.000000</td>\n",
       "    </tr>\n",
       "    <tr>\n",
       "      <th>100307</th>\n",
       "      <td>4.0</td>\n",
       "      <td>5.0</td>\n",
       "      <td>1.0</td>\n",
       "      <td>9.0</td>\n",
       "      <td>44.444444</td>\n",
       "      <td>55.555556</td>\n",
       "      <td>11.111111</td>\n",
       "    </tr>\n",
       "    <tr>\n",
       "      <th>100408</th>\n",
       "      <td>4.0</td>\n",
       "      <td>5.0</td>\n",
       "      <td>1.0</td>\n",
       "      <td>9.0</td>\n",
       "      <td>44.444444</td>\n",
       "      <td>55.555556</td>\n",
       "      <td>11.111111</td>\n",
       "    </tr>\n",
       "    <tr>\n",
       "      <th>100610</th>\n",
       "      <td>5.0</td>\n",
       "      <td>5.0</td>\n",
       "      <td>0.0</td>\n",
       "      <td>10.0</td>\n",
       "      <td>50.000000</td>\n",
       "      <td>50.000000</td>\n",
       "      <td>0.000000</td>\n",
       "    </tr>\n",
       "    <tr>\n",
       "      <th>101309</th>\n",
       "      <td>2.0</td>\n",
       "      <td>5.0</td>\n",
       "      <td>3.0</td>\n",
       "      <td>7.0</td>\n",
       "      <td>28.571429</td>\n",
       "      <td>71.428571</td>\n",
       "      <td>42.857143</td>\n",
       "    </tr>\n",
       "    <tr>\n",
       "      <th>...</th>\n",
       "      <td>...</td>\n",
       "      <td>...</td>\n",
       "      <td>...</td>\n",
       "      <td>...</td>\n",
       "      <td>...</td>\n",
       "      <td>...</td>\n",
       "      <td>...</td>\n",
       "    </tr>\n",
       "    <tr>\n",
       "      <th>991267</th>\n",
       "      <td>4.0</td>\n",
       "      <td>5.0</td>\n",
       "      <td>1.0</td>\n",
       "      <td>9.0</td>\n",
       "      <td>44.444444</td>\n",
       "      <td>55.555556</td>\n",
       "      <td>11.111111</td>\n",
       "    </tr>\n",
       "    <tr>\n",
       "      <th>992673</th>\n",
       "      <td>5.0</td>\n",
       "      <td>5.0</td>\n",
       "      <td>0.0</td>\n",
       "      <td>10.0</td>\n",
       "      <td>50.000000</td>\n",
       "      <td>50.000000</td>\n",
       "      <td>0.000000</td>\n",
       "    </tr>\n",
       "    <tr>\n",
       "      <th>992774</th>\n",
       "      <td>4.0</td>\n",
       "      <td>5.0</td>\n",
       "      <td>1.0</td>\n",
       "      <td>9.0</td>\n",
       "      <td>44.444444</td>\n",
       "      <td>55.555556</td>\n",
       "      <td>11.111111</td>\n",
       "    </tr>\n",
       "    <tr>\n",
       "      <th>993675</th>\n",
       "      <td>5.0</td>\n",
       "      <td>5.0</td>\n",
       "      <td>0.0</td>\n",
       "      <td>10.0</td>\n",
       "      <td>50.000000</td>\n",
       "      <td>50.000000</td>\n",
       "      <td>0.000000</td>\n",
       "    </tr>\n",
       "    <tr>\n",
       "      <th>996782</th>\n",
       "      <td>5.0</td>\n",
       "      <td>5.0</td>\n",
       "      <td>0.0</td>\n",
       "      <td>10.0</td>\n",
       "      <td>50.000000</td>\n",
       "      <td>50.000000</td>\n",
       "      <td>0.000000</td>\n",
       "    </tr>\n",
       "  </tbody>\n",
       "</table>\n",
       "<p>819 rows × 7 columns</p>\n",
       "</div>"
      ],
      "text/plain": [
       "response    0    1  diff   sum      No_pc     Yes_pc  Soc-NonSoc_pc\n",
       "subj_idx                                                           \n",
       "100206    1.0  9.0   8.0  10.0  10.000000  90.000000      80.000000\n",
       "100307    4.0  5.0   1.0   9.0  44.444444  55.555556      11.111111\n",
       "100408    4.0  5.0   1.0   9.0  44.444444  55.555556      11.111111\n",
       "100610    5.0  5.0   0.0  10.0  50.000000  50.000000       0.000000\n",
       "101309    2.0  5.0   3.0   7.0  28.571429  71.428571      42.857143\n",
       "...       ...  ...   ...   ...        ...        ...            ...\n",
       "991267    4.0  5.0   1.0   9.0  44.444444  55.555556      11.111111\n",
       "992673    5.0  5.0   0.0  10.0  50.000000  50.000000       0.000000\n",
       "992774    4.0  5.0   1.0   9.0  44.444444  55.555556      11.111111\n",
       "993675    5.0  5.0   0.0  10.0  50.000000  50.000000       0.000000\n",
       "996782    5.0  5.0   0.0  10.0  50.000000  50.000000       0.000000\n",
       "\n",
       "[819 rows x 7 columns]"
      ]
     },
     "metadata": {},
     "execution_count": 311
    }
   ],
   "metadata": {}
  },
  {
   "cell_type": "code",
   "execution_count": 312,
   "source": [
    "plt.figure(1,figsize=(5,3))\n",
    "sns.histplot(data=counts_per_subj,bins=20,x='Soc-NonSoc_pc',color='b')\n",
    "plt.xlabel('% Social-% NonSocial\\nresponses')\n",
    "plt.ylabel('Number of\\nsubjects')\n",
    "ymin,ymax = plt.ylim()\n",
    "plt.vlines(counts_per_subj.mean()['Soc-NonSoc_pc'],ymin,ymax,color = 'r',label = 'Mean\\nS-NS')\n",
    "plt.xticks([-75,-50,-25,0,25,50,75])\n",
    "plt.legend(loc='upper right')\n",
    "plt.xlim(-60,85)\n",
    "xmin,xmax = plt.ylim()\n",
    "plt.axvspan(0,xmax, facecolor= '0', alpha=0.2) # background color for the first 5 bars(mental?)\n",
    "plt.axvspan(xmin,0, facecolor='0.1', alpha=0.2) # background color for the first 5 bars(mental?)\n",
    "\n",
    "plt.text(-30,100,'\"Non-social\"\\nbias', ha='center', color = 'black')\n",
    "plt.text(45,100,'\"Social\"\\nbias', ha='center', color = 'black')\n",
    "plt.title(\"Social v. nonsocial responses\",fontweight='bold')\n",
    "\n",
    "stats.ttest_1samp(counts_per_subj['Soc-NonSoc_pc'], 0)\n"
   ],
   "outputs": [
    {
     "output_type": "execute_result",
     "data": {
      "text/plain": [
       "Ttest_1sampResult(statistic=9.9485142257805, pvalue=4.333749690340175e-22)"
      ]
     },
     "metadata": {},
     "execution_count": 312
    },
    {
     "output_type": "display_data",
     "data": {
      "image/png": "[encoded data removed]",
      "text/plain": [
       "<Figure size 360x216 with 1 Axes>"
      ]
     },
     "metadata": {
      "needs_background": "light"
     }
    }
   ],
   "metadata": {}
  },
  {
   "cell_type": "code",
   "execution_count": 313,
   "source": [
    "for q in [.25,.5,.75]:\n",
    "    print(np.quantile(counts_per_subj['Yes_pc'],q))\n",
    "for q in [.25,.5,.75]:\n",
    "    print(np.quantile(counts_per_subj['No_pc'],q))"
   ],
   "outputs": [
    {
     "output_type": "stream",
     "name": "stdout",
     "text": [
      "50.0\n",
      "50.0\n",
      "55.55555555555556\n",
      "44.44444444444444\n",
      "50.0\n",
      "50.0\n"
     ]
    }
   ],
   "metadata": {}
  },
  {
   "cell_type": "code",
   "execution_count": 314,
   "source": [
    "def box_plot(data, edge_color, fill_color,pos,v):\n",
    "    bp = ax.boxplot(data, positions = [pos], patch_artist=True,widths=.5,vert=v)\n",
    "    \n",
    "    for element in ['boxes', 'whiskers', 'fliers', 'means', 'medians', 'caps']:\n",
    "        plt.setp(bp[element], color=edge_color)\n",
    "    for element in ['medians']:\n",
    "        plt.setp(bp[element], color='k',linewidth=2,ls='dashed')\n",
    "\n",
    "    for patch in bp['boxes']:\n",
    "        patch.set(facecolor='w')       \n",
    "        \n",
    "    return bp\n",
    "    \n",
    "'''example_data1 = [[1,2,0.8], [0.5,2,2], [3,2,1]]\n",
    "example_data2 = [[5,3, 4], [6,4,3,8], [6,4,9]]\n",
    "\n",
    "bp1 = box_plot(example_data1, 'red', 'tan')\n",
    "bp2 = box_plot(example_data2, 'blue', 'cyan')\n",
    "ax.legend([bp1[\"boxes\"][0], bp2[\"boxes\"][0]], ['Data 1', 'Data 2'])\n",
    "ax.set_ylim(0, 10)\n",
    "plt.show()'''"
   ],
   "outputs": [
    {
     "output_type": "execute_result",
     "data": {
      "text/plain": [
       "'example_data1 = [[1,2,0.8], [0.5,2,2], [3,2,1]]\\nexample_data2 = [[5,3, 4], [6,4,3,8], [6,4,9]]\\n\\nbp1 = box_plot(example_data1, \\'red\\', \\'tan\\')\\nbp2 = box_plot(example_data2, \\'blue\\', \\'cyan\\')\\nax.legend([bp1[\"boxes\"][0], bp2[\"boxes\"][0]], [\\'Data 1\\', \\'Data 2\\'])\\nax.set_ylim(0, 10)\\nplt.show()'"
      ]
     },
     "metadata": {},
     "execution_count": 314
    }
   ],
   "metadata": {}
  },
  {
   "cell_type": "code",
   "execution_count": 315,
   "source": [
    "fig, ax = plt.subplots(figsize=(4,4))\n",
    "#plt.figure(1,figsize=(3,4))\n",
    "#plt.boxplot([counts_per_subj['Yes_pc'],counts_per_subj['No_pc']],positions = [1,0],widths =.8, color='r')\n",
    "#ax.boxplot(counts_per_subj['Yes_pc'], positions = [0], patch_artist=True)\n",
    "bp1 = box_plot(counts_per_subj['Yes_pc'], 'red', 'tan',1,True)\n",
    "bp2 = box_plot(counts_per_subj['No_pc'], 'blue', 'cyan',0,True)\n",
    "#ax.set_ylim(0, 10)\n",
    "\n",
    "#plt.axhspan(0,50, facecolor= '0.5', alpha=0.2) # background color for the first 5 bars(mental?)\n",
    "#sns.barplot(data=counts_per_subj.loc[:,['No_pc','Yes_pc']].melt(),x='response',y='value',edgecolor = 'k',alpha=.5)\n",
    "plt.xticks(range(2),['\"Non-\\nsocial\"','\"Social\"'])\n",
    "plt.ylabel('Percent of responses/\\nsubject')\n",
    "xmin,xmax = plt.xlim()\n",
    "#plt.hlines(50,xmin,xmax,color= 'grey',ls='dashed')\n",
    "#for i in range(counts_per_subj.shape[0]):\n",
    "#    plt.plot(range(2),counts_per_subj.iloc[i,4:6],color='k',alpha=.2,label = 'subject')\n",
    "#    if i ==0:\n",
    "#       plt.legend()\n",
    "#sns.lineplot(data=counts_per_subj.loc[:,['Yes_pc','No_pc']].T,color='g',alpha=.2)\n",
    "plt.xlabel('')\n",
    "\n",
    "print('mean diff:',np.nanmean(counts_per_subj['Yes_pc']-counts_per_subj['No_pc']))\n",
    "stats.ttest_rel(counts_per_subj['No_pc'],counts_per_subj['Yes_pc'])"
   ],
   "outputs": [
    {
     "output_type": "stream",
     "name": "stdout",
     "text": [
      "mean diff: 5.57232009612962\n"
     ]
    },
    {
     "output_type": "execute_result",
     "data": {
      "text/plain": [
       "Ttest_relResult(statistic=-9.9485142257805, pvalue=4.333749690340175e-22)"
      ]
     },
     "metadata": {},
     "execution_count": 315
    },
    {
     "output_type": "display_data",
     "data": {
      "image/png": "[encoded data removed]",
      "text/plain": [
       "<Figure size 288x288 with 1 Axes>"
      ]
     },
     "metadata": {
      "needs_background": "light"
     }
    }
   ],
   "metadata": {}
  },
  {
   "cell_type": "code",
   "execution_count": 316,
   "source": [
    "# compare yes vs. no responses, exploring df\n",
    "\n",
    "ones = np.where(data_sure['response']==1)[0]\n",
    "zeros = np.where(data_sure['response']==0)[0]\n",
    "\n",
    "plt.figure(1, figsize=(3,3))\n",
    "plt.bar(np.arange(1,3),[len(ones),len(zeros)],color = 'grey')\n",
    "plt.xticks(np.arange(1,3),['Yes','No'], fontsize = 14)\n",
    "plt.title('Total Responses \\nacross subjects', fontsize =14, fontweight = 'bold')\n",
    "plt.xlim(0,3)\n",
    "plt.ylim(0,5500)\n",
    "\n",
    "stats.ttest_1samp(data_sure.groupby(['subj_idx']).mean().response.values,.5,nan_policy='omit')"
   ],
   "outputs": [
    {
     "output_type": "execute_result",
     "data": {
      "text/plain": [
       "Ttest_1sampResult(statistic=9.971103525085562, pvalue=3.516092221705134e-22)"
      ]
     },
     "metadata": {},
     "execution_count": 316
    },
    {
     "output_type": "display_data",
     "data": {
      "image/png": "[encoded data removed]",
      "text/plain": [
       "<Figure size 216x216 with 1 Axes>"
      ]
     },
     "metadata": {
      "needs_background": "light"
     }
    }
   ],
   "metadata": {}
  },
  {
   "cell_type": "markdown",
   "source": [
    "### (b) Accuracies social v. nonsocial (OHBM 2021 ABSTRACT FIG 1A)"
   ],
   "metadata": {}
  },
  {
   "cell_type": "code",
   "execution_count": 321,
   "source": [
    "# compare social and random trial accuracies, exploring df \n",
    "\n",
    "accuracy_per_subj = data_sure.groupby(['subj_idx', 'stim']).mean().accuracy # Mean acc. per subject for Mental and Random\n",
    "cols = accuracy_per_subj.unstack(level = -1)\n",
    "print(cols,'\\n') # subj_idx and stim are indices, so unstack makes stim columns (with the default level value)\n",
    "print('MEAN ',cols.mean(),'\\n') # mean acc across subjects\n",
    "print('SEM ',cols.sem(),'\\n') # sem acc across subjects\n",
    "#print('COLUMNS', cols.columns) # Mental and random become columns with unstack\n",
    "\n",
    "plt.figure(1, figsize=(8,3))\n",
    "plt.subplot(121)\n",
    "plt.bar(range(2),cols.mean(),color = 'grey')\n",
    "#plt.plot(0,cols.mean(),cols.sem(), color = 'black', ls = 'none', marker = 'o', markersize = 8)\n",
    "plt.errorbar(range(2),cols.mean(),cols.sem(), color = 'black', ls = 'none', marker = 'o', markersize = 8)\n",
    "plt.tight_layout()\n",
    "plt.xticks((range(2)),('Social','Non-social'), fontsize = 14)\n",
    "plt.title('Accuracy', fontsize =14, fontweight = 'bold')\n",
    "plt.ylim(0.9,0.97)\n",
    "\n",
    "stats.ttest_rel(cols['Mental'],cols['Random'],nan_policy='omit')\n",
    "\n",
    "\n",
    "responses_per_subj = data_sure.groupby(['subj_idx']).mean().response # Mean acc. per subject for Mental and Random\n",
    "\n",
    "plt.subplot(122)\n",
    "plt.bar(1,np.nanmean(responses_per_subj.values),color = 'grey')\n",
    "#plt.plot(0,cols.mean(),cols.sem(), color = 'black', ls = 'none', marker = 'o', markersize = 8)\n",
    "plt.errorbar(1,np.nanmean(responses_per_subj.values),stats.sem(responses_per_subj,nan_policy='omit'), color = 'black', ls = 'none', marker = 'o', markersize = 8)\n",
    "plt.tight_layout()\n",
    "plt.yticks([0.4,0.5,0.6],['0.4','fr.Yes=\\nfr.No','0.6'], fontsize = 14)\n",
    "plt.title('Responses', fontsize =14, fontweight = 'bold')\n",
    "plt.ylim(0.4,0.6)\n",
    "plt.xlim(0,2)\n",
    "plt.xticks([])\n",
    "\n",
    "plt.tight_layout()\n",
    "stats.ttest_1samp(responses_per_subj.values,.5,nan_policy='omit')"
   ],
   "outputs": [
    {
     "output_type": "stream",
     "name": "stdout",
     "text": [
      "stim      Mental  Random\n",
      "subj_idx                \n",
      "100206       1.0     0.2\n",
      "100307       1.0     0.8\n",
      "100408       1.0     1.0\n",
      "100610       1.0     1.0\n",
      "101309       1.0     1.0\n",
      "...          ...     ...\n",
      "991267       1.0     1.0\n",
      "992673       1.0     1.0\n",
      "992774       1.0     1.0\n",
      "993675       1.0     1.0\n",
      "996782       1.0     1.0\n",
      "\n",
      "[821 rows x 2 columns] \n",
      "\n",
      "MEAN  stim\n",
      "Mental    0.976269\n",
      "Random    0.956090\n",
      "dtype: float64 \n",
      "\n",
      "SEM  stim\n",
      "Mental    0.00262\n",
      "Random    0.00420\n",
      "dtype: float64 \n",
      "\n"
     ]
    },
    {
     "output_type": "execute_result",
     "data": {
      "text/plain": [
       "Ttest_1sampResult(statistic=9.971103525085562, pvalue=3.516092221705134e-22)"
      ]
     },
     "metadata": {},
     "execution_count": 321
    },
    {
     "output_type": "display_data",
     "data": {
      "image/png": "[encoded data removed]",
      "text/plain": [
       "<Figure size 576x216 with 2 Axes>"
      ]
     },
     "metadata": {
      "needs_background": "light"
     }
    }
   ],
   "metadata": {}
  },
  {
   "cell_type": "markdown",
   "source": [
    "### 2. Movie-wise trends - Accuracy per movie  and #unsure responses/movie"
   ],
   "metadata": {}
  },
  {
   "cell_type": "code",
   "execution_count": 267,
   "source": [
    "#Accuracy per movie (OHBM ABSTRACT FIG 2A)\n",
    "acc_per_movie = data_sure.groupby(['stim','movie']).mean().accuracy\n",
    "print('acc_per_movie')\n",
    "print(acc_per_movie)\n",
    "\n",
    "# (for the figure axlabels) creating groupwise movie name labels from the variable acc_per_movie\n",
    "movieNames_grouped = []\n",
    "for i in range(len(acc_per_movie.index)):\n",
    "    movieNames_grouped.append(acc_per_movie.index[i][1])\n",
    "#print('movieNames_grouped:',movieNames_grouped)\n",
    "lbl = [str.upper(i[0:5]) for i in movieNames_grouped] # first four letters of each movie name\n",
    "\n",
    "acc_per_movie.plot.bar(color = [0,0.3,0.5], alpha = 0.5)\n",
    "plt.xlabel(\"Movie name\")\n",
    "plt.ylabel('Accuracy per movie', fontsize = 20)\n",
    "lbl = [str.upper(i[0:4]) for i in movieNames_grouped] # first four letters of each movie name\n",
    "plt.xticks(range(10),lbl, rotation = 40)\n",
    "plt.axvspan(-0.5,4.5, facecolor='0.2', alpha=0.2) # background color for the first 5 bars(mental?)\n",
    "plt.axvspan(4.5,10, facecolor='0.3', alpha=0.1) # bgcolor for the next 5 bars (random?)\n",
    "plt.xlim(-0.5,9.5)\n",
    "plt.ylim(0.8,1)"
   ],
   "outputs": [
    {
     "output_type": "stream",
     "name": "stdout",
     "text": [
      "acc_per_movie\n",
      "stim    movie                \n",
      "Mental  COAXING-B.AVI            0.989842\n",
      "        Fishing.AVI              0.893827\n",
      "        SEDUCING-B.AVI           0.989853\n",
      "        SURPRISING-B.AVI         0.990022\n",
      "        Scaring.AVI              0.971751\n",
      "Random  BILLIARD-A.AVI           0.984848\n",
      "        DRIFTING-A.AVI           0.963387\n",
      "        Random mechanical.AVI    0.869102\n",
      "        STAR-A.AVI               0.968858\n",
      "        TENNIS-A.AVI             0.949005\n",
      "Name: accuracy, dtype: float64\n"
     ]
    },
    {
     "output_type": "execute_result",
     "data": {
      "text/plain": [
       "(0.8, 1.0)"
      ]
     },
     "metadata": {},
     "execution_count": 267
    },
    {
     "output_type": "display_data",
     "data": {
      "image/png": "[encoded data removed]",
      "text/plain": [
       "<Figure size 432x288 with 1 Axes>"
      ]
     },
     "metadata": {
      "needs_background": "light"
     }
    }
   ],
   "metadata": {}
  },
  {
   "cell_type": "code",
   "execution_count": 268,
   "source": [
    "#Unsure trials per movie\n",
    "count_unsure_per_movie = data_unsure.groupby(['stim','movie']).size()\n",
    "print('count_unsure_per_movie')\n",
    "print(count_unsure_per_movie)\n",
    "\n",
    "# Plot no. of uncertain responses per movie\n",
    "count_unsure_per_movie.plot(figsize = (4,4), x ='', y ='', linestyle = 'None', marker = 'o', markersize = 16, alpha = 0.3)\n",
    "plt.ylabel('Unsure responses per movie', fontsize = 12)\n",
    "plt.xticks(range(10),lbl, rotation = 30)\n",
    "\n"
   ],
   "outputs": [
    {
     "output_type": "stream",
     "name": "stdout",
     "text": [
      "count_unsure_per_movie\n",
      "stim    movie                \n",
      "Mental  COAXING-B.AVI              9\n",
      "        Fishing.AVI               90\n",
      "        SEDUCING-B.AVI            25\n",
      "        SURPRISING-B.AVI          11\n",
      "        Scaring.AVI               32\n",
      "Random  BILLIARD-A.AVI            47\n",
      "        DRIFTING-A.AVI            57\n",
      "        Random mechanical.AVI    187\n",
      "        STAR-A.AVI                59\n",
      "        TENNIS-A.AVI             124\n",
      "dtype: int64\n"
     ]
    },
    {
     "output_type": "execute_result",
     "data": {
      "text/plain": [
       "([<matplotlib.axis.XTick at 0x7fd1b4474a10>,\n",
       "  <matplotlib.axis.XTick at 0x7fd1a29bcbd0>,\n",
       "  <matplotlib.axis.XTick at 0x7fd1b4487d50>,\n",
       "  <matplotlib.axis.XTick at 0x7fd1a2b96290>,\n",
       "  <matplotlib.axis.XTick at 0x7fd1a2b96490>,\n",
       "  <matplotlib.axis.XTick at 0x7fd1a2b96d90>,\n",
       "  <matplotlib.axis.XTick at 0x7fd1b4468250>,\n",
       "  <matplotlib.axis.XTick at 0x7fd1a2b9e350>,\n",
       "  <matplotlib.axis.XTick at 0x7fd1a2b9e490>,\n",
       "  <matplotlib.axis.XTick at 0x7fd1a2b9ef50>],\n",
       " [Text(0, 0, 'COAX'),\n",
       "  Text(1, 0, 'FISH'),\n",
       "  Text(2, 0, 'SEDU'),\n",
       "  Text(3, 0, 'SURP'),\n",
       "  Text(4, 0, 'SCAR'),\n",
       "  Text(5, 0, 'BILL'),\n",
       "  Text(6, 0, 'DRIF'),\n",
       "  Text(7, 0, 'RAND'),\n",
       "  Text(8, 0, 'STAR'),\n",
       "  Text(9, 0, 'TENN')])"
      ]
     },
     "metadata": {},
     "execution_count": 268
    },
    {
     "output_type": "display_data",
     "data": {
      "image/png": "[encoded data removed]",
      "text/plain": [
       "<Figure size 288x288 with 1 Axes>"
      ]
     },
     "metadata": {
      "needs_background": "light"
     }
    }
   ],
   "metadata": {
    "scrolled": true
   }
  },
  {
   "cell_type": "markdown",
   "source": [
    "- So looks like there are movie-specific differences in uncertainty and accuracy - are these correlated?"
   ],
   "metadata": {}
  },
  {
   "cell_type": "code",
   "execution_count": 269,
   "source": [
    "stats.pearsonr(count_unsure_per_movie.values,acc_per_movie.values)"
   ],
   "outputs": [
    {
     "output_type": "execute_result",
     "data": {
      "text/plain": [
       "(-0.88128945446883, 0.0007510816838114219)"
      ]
     },
     "metadata": {},
     "execution_count": 269
    }
   ],
   "metadata": {}
  },
  {
   "cell_type": "markdown",
   "source": [
    "- Indeed, looks like there's a negative correlation - i.e., movies with higher uncertainty have lower accuracies - which makes sense"
   ],
   "metadata": {}
  },
  {
   "cell_type": "code",
   "execution_count": null,
   "source": [
    "stim_mean = data_sure.groupby(['movie']).mean().response # this shouldn't include unsure data\n",
    "stim_mean.shape\n",
    "n = len(vid_names[\"run1\"])+len(vid_names[\"run2\"])\n",
    "\n",
    "socialness = np.zeros(len(data_sure['response']))\n",
    "for m in range(n):\n",
    "    rows = np.where(data_sure[\"movie\"] == stim_mean.index[m])[0]\n",
    "    socialness[rows] = stim_mean[m]\n",
    "data_sure['socialness'] = socialness # add new column\n",
    "data_sure.head(10)"
   ],
   "outputs": [],
   "metadata": {}
  },
  {
   "cell_type": "code",
   "execution_count": 270,
   "source": [
    "# another interesting variable - mean responses or mean socialness, but we don't need \n",
    "# this rn\n",
    "resp_per_movie = data_sure.groupby(['stim','movie']).mean().response\n",
    "print('resp_per_movie')\n",
    "print(resp_per_movie)\n",
    "\n",
    "resp_per_movie.plot.bar(x ='', y ='', linestyle = 'None', alpha = 0.3)\n",
    "plt.xticks(range(10),lbl, rotation = 30)\n",
    "plt.axvspan(-0.5,4.5, facecolor='0.2', alpha=0.2)\n",
    "plt.axvspan(4.5,10, facecolor='0.3', alpha=0.1)\n",
    "plt.xlim(-0.5,9.5)\n",
    "plt.ylim(0,1)\n",
    "plt.xlabel(\"Movie name\")\n",
    "plt.title('Mean responses',fontsize = 20)\n",
    "plt.ylabel('Mean response per movie \\n(socialness)', fontsize = 20)"
   ],
   "outputs": [
    {
     "output_type": "stream",
     "name": "stdout",
     "text": [
      "resp_per_movie\n",
      "stim    movie                \n",
      "Mental  COAXING-B.AVI            0.989842\n",
      "        Fishing.AVI              0.893827\n",
      "        SEDUCING-B.AVI           0.989853\n",
      "        SURPRISING-B.AVI         0.990022\n",
      "        Scaring.AVI              0.971751\n",
      "Random  BILLIARD-A.AVI           0.015152\n",
      "        DRIFTING-A.AVI           0.036613\n",
      "        Random mechanical.AVI    0.130898\n",
      "        STAR-A.AVI               0.031142\n",
      "        TENNIS-A.AVI             0.050995\n",
      "Name: response, dtype: float64\n"
     ]
    },
    {
     "output_type": "execute_result",
     "data": {
      "text/plain": [
       "Text(0, 0.5, 'Mean response per movie \\n(socialness)')"
      ]
     },
     "metadata": {},
     "execution_count": 270
    },
    {
     "output_type": "display_data",
     "data": {
      "image/png": "[encoded data removed]",
      "text/plain": [
       "<Figure size 432x288 with 1 Axes>"
      ]
     },
     "metadata": {
      "needs_background": "light"
     }
    }
   ],
   "metadata": {}
  },
  {
   "cell_type": "code",
   "execution_count": 271,
   "source": [
    "# another interesting variable--> unambiguity or distance from the centre (0.5), but we don't need this rn\n",
    "# in the initial days/presentations, this variable was called 'certainty'\n",
    "\n",
    "unambiguity = resp_per_movie.reset_index()\n",
    "print(unambiguity.values.shape)\n",
    "unambiguity['response'] = np.abs(0.5-unambiguity['response'])\n",
    "\n",
    "unambiguity.plot.bar(x ='movie', y ='response', linestyle = 'None', alpha = 0.3, legend = None)\n",
    "plt.xticks(range(10),lbl, rotation = 30)\n",
    "plt.axvspan(-0.5,4.5, facecolor='0.2', alpha=0.2)\n",
    "plt.axvspan(4.5,10, facecolor='0.3', alpha=0.1)\n",
    "plt.xlim(-0.5,9.5)\n",
    "plt.ylim(0,0.5)\n",
    "plt.ylabel('Umambiguity')"
   ],
   "outputs": [
    {
     "output_type": "stream",
     "name": "stdout",
     "text": [
      "(10, 3)\n"
     ]
    },
    {
     "output_type": "execute_result",
     "data": {
      "text/plain": [
       "Text(0, 0.5, 'Umambiguity')"
      ]
     },
     "metadata": {},
     "execution_count": 271
    },
    {
     "output_type": "display_data",
     "data": {
      "image/png": "[encoded data removed]",
      "text/plain": [
       "<Figure size 432x288 with 1 Axes>"
      ]
     },
     "metadata": {
      "needs_background": "light"
     }
    }
   ],
   "metadata": {}
  },
  {
   "cell_type": "code",
   "execution_count": 272,
   "source": [
    "#mean responses per subject - if this is above 0.5, it shows a bias for '1' or 'yes' responses\n",
    "\n",
    "mean_r = data_sure.groupby([\"subj_idx\"]).mean().response # pandas series of mean responses per subj\n",
    "plt.hist(mean_r, bins = 10, alpha = 0.5)\n",
    "plt.xlabel(\"Fraction of 'yes' responses\")\n",
    "plt.ylabel(\"Number of subjects\")\n",
    "ymin,ymax = plt.ylim()\n",
    "plt.vlines(.5,ymin,ymax, 'k', linestyle = 'dashed', label = '0.5')\n",
    "plt.vlines(np.mean(mean_r),ymin,ymax, 'r', linestyle = 'dashed', label = 'mean')\n",
    "plt.ylim(0,450)\n",
    "plt.tight_layout()\n",
    "plt.legend()"
   ],
   "outputs": [
    {
     "output_type": "execute_result",
     "data": {
      "text/plain": [
       "<matplotlib.legend.Legend at 0x7fd1c57a1990>"
      ]
     },
     "metadata": {},
     "execution_count": 272
    },
    {
     "output_type": "display_data",
     "data": {
      "image/png": "[encoded data removed]",
      "text/plain": [
       "<Figure size 432x288 with 1 Axes>"
      ]
     },
     "metadata": {
      "needs_background": "light"
     }
    }
   ],
   "metadata": {}
  },
  {
   "cell_type": "code",
   "execution_count": 273,
   "source": [
    "# another way to test for a social bias: look at the #yes/#no ratio --> if >1 this suggests \n",
    "# a yes bias\n",
    "mean_r = data_sure.groupby([\"subj_idx\",\"response\"]).count().stim\n",
    "resp_grouped = mean_r.unstack()\n",
    "print(resp_grouped)\n",
    "yes_to_no = resp_grouped[1]/resp_grouped[0]\n",
    "\n",
    "plt.figure(1, figsize=(5,4))\n",
    "yes_to_no.hist(bins = 30,alpha = 0.4)\n",
    "plt.grid(None)\n",
    "#print(np.unique(yes_to_no))\n",
    "plt.xlabel(\"YES/NO ratio\")\n",
    "plt.xticks(range(10))\n",
    "plt.ylabel(\"Number of subjects\")\n",
    "plt.plot(np.ones((11,1))*np.mean(yes_to_no), np.arange(0,550,50), 'r', ls = 'dashed',label = 'mean')\n",
    "#plt.ylim(0,450)\n",
    "plt.tight_layout()\n",
    "plt.legend()\n",
    "#print(np.mean(yes_to_no))\n",
    "stats.wilcoxon(yes_to_no-1)"
   ],
   "outputs": [
    {
     "output_type": "stream",
     "name": "stdout",
     "text": [
      "response    0    1\n",
      "subj_idx          \n",
      "100206    1.0  9.0\n",
      "100307    4.0  5.0\n",
      "100408    4.0  5.0\n",
      "100610    5.0  5.0\n",
      "101410    5.0  5.0\n",
      "...       ...  ...\n",
      "991267    4.0  5.0\n",
      "992673    5.0  5.0\n",
      "992774    4.0  5.0\n",
      "993675    5.0  5.0\n",
      "996782    5.0  5.0\n",
      "\n",
      "[904 rows x 2 columns]\n"
     ]
    },
    {
     "output_type": "execute_result",
     "data": {
      "text/plain": [
       "WilcoxonResult(statistic=18742.0, pvalue=1.5539747440486606e-35)"
      ]
     },
     "metadata": {},
     "execution_count": 273
    },
    {
     "output_type": "display_data",
     "data": {
      "image/png": "[encoded data removed]",
      "text/plain": [
       "<Figure size 360x288 with 1 Axes>"
      ]
     },
     "metadata": {
      "needs_background": "light"
     }
    }
   ],
   "metadata": {}
  },
  {
   "cell_type": "markdown",
   "source": [
    "- Hence, the yes to no ratio is greater than 1 and significant --> i.e., more yes's than no's overall"
   ],
   "metadata": {}
  },
  {
   "cell_type": "markdown",
   "source": [
    "## 2. SDT estimates for our data"
   ],
   "metadata": {}
  },
  {
   "cell_type": "markdown",
   "source": [
    "- in addition to counting one or the other responses, we can also use signal detection measures to see how they align with experimenter-assigned labels. For example, a higher number of \"social\" responses could show in a net(1) response bias towards social, and/or (2) an decrease in d prime (?)"
   ],
   "metadata": {}
  },
  {
   "cell_type": "code",
   "execution_count": 274,
   "source": [
    "# Function to compute SDT measures like dprime, critia etc. \n",
    "from scipy.stats import norm\n",
    "import math\n",
    "Z = norm.ppf\n",
    " \n",
    "def SDT(hits, misses, fas, crs):\n",
    "    \"\"\" returns a dict with d-prime measures given hits, misses, false alarms, and correct rejections\"\"\"\n",
    "    # Floors an ceilings are replaced by half hits and half FA's\n",
    "    half_hit = 0.5 / (hits + misses)\n",
    "    half_fa = 0.5 / (fas + crs)\n",
    " \n",
    "    # Calculate hit_rate and avoid d' infinity\n",
    "    hit_rate = hits / (hits + misses)\n",
    "    if hit_rate == 1: \n",
    "        hit_rate = 1 - half_hit\n",
    "    if hit_rate == 0: \n",
    "        hit_rate = half_hit\n",
    " \n",
    "    # Calculate false alarm rate and avoid d' infinity\n",
    "    fa_rate = fas / (fas + crs)\n",
    "    if fa_rate == 1: \n",
    "        fa_rate = 1 - half_fa\n",
    "    if fa_rate == 0: \n",
    "        fa_rate = half_fa\n",
    " \n",
    "    # Return d', beta, c and Ad'\n",
    "    out = {}\n",
    "    out['d'] = Z(hit_rate) - Z(fa_rate)\n",
    "    out['beta'] = math.exp((Z(fa_rate)**2 - Z(hit_rate)**2) / 2)\n",
    "    out['c'] = -(Z(hit_rate) + Z(fa_rate)) / 2\n",
    "    out['Ad'] = norm.cdf(out['d'] / math.sqrt(2))\n",
    "    \n",
    "    return(out)"
   ],
   "outputs": [],
   "metadata": {}
  },
  {
   "cell_type": "code",
   "execution_count": 275,
   "source": [
    "#creating a matrix of hits, FAs, FNs and CRs per subject\n",
    "\n",
    "matrix = data_sure.groupby([\"subj_idx\", \"stim\"])[\"response\"].value_counts().unstack().fillna(0) #/n_trials\n",
    "matrix.head(10)\n",
    "\n",
    "hits = matrix[matrix.index.get_level_values(\"stim\")==\"Mental\"].reset_index(\"stim\")[1] # '1' responses for Mental\n",
    "misses = matrix[matrix.index.get_level_values(\"stim\")==\"Mental\"].reset_index(\"stim\")[0] # '0' responses for Mental\n",
    "false_alarms = matrix[matrix.index.get_level_values(\"stim\")==\"Random\"].reset_index(\"stim\")[1]\n",
    "correct_rejects = matrix[matrix.index.get_level_values(\"stim\")==\"Random\"].reset_index(\"stim\")[0]\n",
    "\n",
    "hits.name='hits'\n",
    "misses.name='misses'\n",
    "false_alarms.name='false_alarms'\n",
    "correct_rejects.name='correct_rejects'\n",
    "\n",
    "sdt_data = pd.concat([hits, misses, false_alarms, correct_rejects], axis=1)\n",
    "sdt_data.head()\n",
    "\n",
    "sdt_data.transpose().plot(legend = None, alpha = 0.1)"
   ],
   "outputs": [
    {
     "output_type": "execute_result",
     "data": {
      "text/plain": [
       "<AxesSubplot:>"
      ]
     },
     "metadata": {},
     "execution_count": 275
    },
    {
     "output_type": "display_data",
     "data": {
      "image/png": "[encoded data removed]",
      "text/plain": [
       "<Figure size 432x288 with 1 Axes>"
      ]
     },
     "metadata": {
      "needs_background": "light"
     }
    }
   ],
   "metadata": {}
  },
  {
   "cell_type": "code",
   "execution_count": 276,
   "source": [
    "#invoke the SDT functions + sample results for subj1\n",
    "s = 0\n",
    "SDT(sdt_data[\"hits\"].iloc[s], sdt_data[\"misses\"].iloc[s], sdt_data[\"false_alarms\"].iloc[s], sdt_data[\"correct_rejects\"].iloc[s])"
   ],
   "outputs": [
    {
     "output_type": "execute_result",
     "data": {
      "text/plain": [
       "{'d': 0.4399303319716861,\n",
       " 'beta': 0.6268650096300457,\n",
       " 'c': -1.0615863995587573,\n",
       " 'Ad': 0.622129231220526}"
      ]
     },
     "metadata": {},
     "execution_count": 276
    }
   ],
   "metadata": {}
  },
  {
   "cell_type": "code",
   "execution_count": 277,
   "source": [
    "# extracting SDT measures for each subject and saving in a dataframe\n",
    "results = {}\n",
    "for s, subj in enumerate(sdt_data.index.values):\n",
    "    results[subj] = SDT(sdt_data[\"hits\"].iloc[s], sdt_data[\"misses\"].iloc[s], sdt_data[\"false_alarms\"].iloc[s], sdt_data[\"correct_rejects\"].iloc[s])\n",
    "\n",
    "sdt_measures = pd.DataFrame.from_dict(results, orient=\"index\")\n",
    "sdt_measures.head()"
   ],
   "outputs": [
    {
     "output_type": "execute_result",
     "data": {
      "text/html": [
       "<div>\n",
       "<style scoped>\n",
       "    .dataframe tbody tr th:only-of-type {\n",
       "        vertical-align: middle;\n",
       "    }\n",
       "\n",
       "    .dataframe tbody tr th {\n",
       "        vertical-align: top;\n",
       "    }\n",
       "\n",
       "    .dataframe thead th {\n",
       "        text-align: right;\n",
       "    }\n",
       "</style>\n",
       "<table border=\"1\" class=\"dataframe\">\n",
       "  <thead>\n",
       "    <tr style=\"text-align: right;\">\n",
       "      <th></th>\n",
       "      <th>d</th>\n",
       "      <th>beta</th>\n",
       "      <th>c</th>\n",
       "      <th>Ad</th>\n",
       "    </tr>\n",
       "  </thead>\n",
       "  <tbody>\n",
       "    <tr>\n",
       "      <th>100206</th>\n",
       "      <td>0.439930</td>\n",
       "      <td>0.626865</td>\n",
       "      <td>-1.061586</td>\n",
       "      <td>0.622129</td>\n",
       "    </tr>\n",
       "    <tr>\n",
       "      <th>100307</th>\n",
       "      <td>1.991971</td>\n",
       "      <td>0.735291</td>\n",
       "      <td>-0.154364</td>\n",
       "      <td>0.920514</td>\n",
       "    </tr>\n",
       "    <tr>\n",
       "      <th>100408</th>\n",
       "      <td>2.431901</td>\n",
       "      <td>0.852540</td>\n",
       "      <td>-0.065601</td>\n",
       "      <td>0.957249</td>\n",
       "    </tr>\n",
       "    <tr>\n",
       "      <th>100610</th>\n",
       "      <td>2.563103</td>\n",
       "      <td>1.000000</td>\n",
       "      <td>-0.000000</td>\n",
       "      <td>0.965037</td>\n",
       "    </tr>\n",
       "    <tr>\n",
       "      <th>101410</th>\n",
       "      <td>2.563103</td>\n",
       "      <td>1.000000</td>\n",
       "      <td>-0.000000</td>\n",
       "      <td>0.965037</td>\n",
       "    </tr>\n",
       "  </tbody>\n",
       "</table>\n",
       "</div>"
      ],
      "text/plain": [
       "               d      beta         c        Ad\n",
       "100206  0.439930  0.626865 -1.061586  0.622129\n",
       "100307  1.991971  0.735291 -0.154364  0.920514\n",
       "100408  2.431901  0.852540 -0.065601  0.957249\n",
       "100610  2.563103  1.000000 -0.000000  0.965037\n",
       "101410  2.563103  1.000000 -0.000000  0.965037"
      ]
     },
     "metadata": {},
     "execution_count": 277
    }
   ],
   "metadata": {}
  },
  {
   "cell_type": "code",
   "execution_count": 278,
   "source": [
    "plt.scatter(sdt_measures['d'],sdt_measures['c'],alpha = .2)\n",
    "stats.spearmanr(sdt_measures['d'],sdt_measures['c'])\n",
    "plt.xlabel('d-prime per subject')\n",
    "plt.ylabel('criterion per subject')\n"
   ],
   "outputs": [
    {
     "output_type": "execute_result",
     "data": {
      "text/plain": [
       "Text(0, 0.5, 'criterion per subject')"
      ]
     },
     "metadata": {},
     "execution_count": 278
    },
    {
     "output_type": "display_data",
     "data": {
      "image/png": "[encoded data removed]",
      "text/plain": [
       "<Figure size 432x288 with 1 Axes>"
      ]
     },
     "metadata": {
      "needs_background": "light"
     }
    }
   ],
   "metadata": {}
  },
  {
   "cell_type": "code",
   "execution_count": 279,
   "source": [
    "sdt_measures.shape"
   ],
   "outputs": [
    {
     "output_type": "execute_result",
     "data": {
      "text/plain": [
       "(904, 4)"
      ]
     },
     "metadata": {},
     "execution_count": 279
    }
   ],
   "metadata": {}
  },
  {
   "cell_type": "code",
   "execution_count": 280,
   "source": [
    "# Plotting the distributions of dprimes and criteria across subjects\n",
    "# second figure used in the OHBM poster\n",
    "\n",
    "plt.figure(1,figsize =(3,3))\n",
    "sdt_measures['d'].hist(bins=20, alpha = 0.5)\n",
    "plt.plot(np.zeros((10,1))+np.median(sdt_measures['d']), np.arange(0,500,50), 'r', linestyle = 'dashed',label = \"Median d'\")\n",
    "plt.grid(None)\n",
    "plt.ylabel('Nr. of subjects', fontsize = 12)\n",
    "plt.xlabel(\"dprime\")\n",
    "plt.legend()\n",
    "\n",
    "std,pd = stats.wilcoxon(sdt_measures['d'], alternative = 'greater') # non parametric alternative to one-sample ttest\n",
    "print(std,',',pd)\n",
    "\n",
    "plt.figure(2,figsize =(5,4))\n",
    "#plt.title('Response bias', fontweight = 'bold')\n",
    "plt.axvspan(-1,0,color=[.8,.8,.8])\n",
    "#sns.distplot(sdt_measures['c'], bins= 30, label = 'criterion bias across subjects', norm_hist = False)\n",
    "sdt_measures['c'].hist(bins=25, alpha = .7, color = 'm',edgecolor = 'white')\n",
    "#plt.vlines(np.nanmean(sdt_measures['c']),0,500,color='r', linewidth = 3,linestyle = 'solid',\n",
    "#           label = f'mean={np.round(np.nanmean(sdt_measures[\"c\"]),2)},\\np(Wilc.)=\\n{1.9e-26}')\n",
    "plt.vlines(np.nanmean(sdt_measures['c']),0,500,color='k', linestyle = 'dashed',\n",
    "          label = f'mean\\n={np.round(np.nanmean(sdt_measures[\"c\"]),2)}')\n",
    "\n",
    "           #plt.plot(np.zeros((10,1)), np.linspace(0,450,10),\\\n",
    "#         'grey', linestyle = 'dashed',label = f'0(No bias)')\n",
    "\n",
    "plt.grid(None)\n",
    "plt.ylabel('Nr. of subjects')\n",
    "plt.xlabel(\"SDT Criterion\")\n",
    "plt.xlim(-.75,.75)\n",
    "plt.ylim(0,500)\n",
    "#plt.xticks([-.75,-.5,-.25,0,.25,.5,.75], rotation=30)\n",
    "#plt.legend(fontsize = 14,bbox_to_anchor=(1.02, 1), loc='upper left')\n",
    "plt.legend()#bbox_to_anchor = (1.05,1))\n",
    "\n",
    "plt.text(-.4,100,'\"Social\"\\nbias', ha='center',  color = 'red')\n",
    "plt.text(.38,100,'\"Non-social\"\\nbias', ha='center', color = 'blue')\n",
    "\n",
    "#plt.legend(handles=[p1, p2], title='title', bbox_to_anchor=(1.05, 1), loc='upper left', prop=fontP)\n",
    "stc, pc = stats.wilcoxon(sdt_measures['c'])\n",
    "print(stc,',',pc)\n",
    "\n",
    "plt.tight_layout()"
   ],
   "outputs": [
    {
     "output_type": "stream",
     "name": "stdout",
     "text": [
      "409060.0 , 1.182885237030678e-152\n",
      "32681.0 , 7.783930802409245e-19\n"
     ]
    },
    {
     "output_type": "display_data",
     "data": {
      "image/png": "[encoded data removed]",
      "text/plain": [
       "<Figure size 216x216 with 1 Axes>"
      ]
     },
     "metadata": {
      "needs_background": "light"
     }
    },
    {
     "output_type": "display_data",
     "data": {
      "image/png": "[encoded data removed]",
      "text/plain": [
       "<Figure size 360x288 with 1 Axes>"
      ]
     },
     "metadata": {
      "needs_background": "light"
     }
    }
   ],
   "metadata": {}
  },
  {
   "cell_type": "code",
   "execution_count": 98,
   "source": [
    "# Distribution of #responses all 4 response types, esp. errors\n",
    "print(data_sure.groupby(['stim','response']).count())\n",
    "data_sure.groupby(['stim','response']).count().transpose().loc['accuracy',:].plot.bar()\n",
    "plt.xticks(range(4),('Miss','Hit','CR','FA'), rotation = 0)\n",
    "plt.ylabel('Number of responses')\n",
    "plt.xlabel(\"\")\n",
    "\n",
    "fig,ax = plt.subplots(figsize = (5,4))\n",
    "data_sure.groupby(['stim','response']).count().transpose().iloc[1,[0,3]].plot.bar()\n",
    "plt.xticks(range(2),('Miss','FA'), rotation = 0)\n",
    "plt.ylabel('Number of responses')\n",
    "plt.xlabel(\"\")\n"
   ],
   "outputs": [
    {
     "output_type": "stream",
     "name": "stdout",
     "text": [
      "                 subj_idx  movie    rt   run  accuracy  logRT\n",
      "stim   response                                              \n",
      "Mental 0              138    138   138   138       138    138\n",
      "       1             4232   4232  4232  4232      4232   4232\n",
      "Random 0             3861   3861  3861  3861      3861   3861\n",
      "       1              199    199   199   199       199    199\n"
     ]
    },
    {
     "output_type": "execute_result",
     "data": {
      "text/plain": [
       "Text(0.5, 0, '')"
      ]
     },
     "metadata": {},
     "execution_count": 98
    },
    {
     "output_type": "display_data",
     "data": {
      "image/png": "[encoded data removed]",
      "text/plain": [
       "<Figure size 432x288 with 1 Axes>"
      ]
     },
     "metadata": {
      "needs_background": "light"
     }
    },
    {
     "output_type": "display_data",
     "data": {
      "image/png": "[encoded data removed]",
      "text/plain": [
       "<Figure size 360x288 with 1 Axes>"
      ]
     },
     "metadata": {
      "needs_background": "light"
     }
    }
   ],
   "metadata": {}
  },
  {
   "cell_type": "markdown",
   "source": [
    "## Response modelling"
   ],
   "metadata": {}
  },
  {
   "cell_type": "markdown",
   "source": [
    "Subject and stimulus being random factors that could've influenced results, it's important to control for them. LMEM lets us control for their effects on the DV using random intercepts and sometimes also on how the regressors affect the DV (using random slopes). The following cells show various LMEMs."
   ],
   "metadata": {}
  },
  {
   "cell_type": "code",
   "execution_count": 281,
   "source": [
    "# We use the Python version called pymer4 of the R package lme4.\n",
    "\n",
    "#from pymer4.test_install import test_install; test_install() # to test pyme4r install\n",
    "# important: pymer installed in the conda environment py37 (python v3.7x), \n",
    "# so if module can't be found here, quit Jupyter and type 'conda activate py37' into terminal\n",
    "\n",
    "#install lme functions\n",
    "from pymer4.models import Lmer\n",
    "#from pymer4.models import Lm"
   ],
   "outputs": [],
   "metadata": {}
  },
  {
   "cell_type": "code",
   "execution_count": 100,
   "source": [
    "# model to look for a general bias in responses. The analysis below is a logistic regression,\n",
    "# so our hypothesis is  if logOR of intercept > 0?\n",
    "model = Lmer('response ~ (1|subj_idx) + (1|movie)', data=data_sure, family = \"binomial\") # ff: M/R, prev. trial response, rf:subjID, movie\n",
    "print(model.fit()) "
   ],
   "outputs": [
    {
     "output_type": "stream",
     "name": "stdout",
     "text": [
      "Formula: response~(1|subj_idx)+(1|movie)\n",
      "\n",
      "Family: binomial\t Inference: parametric\n",
      "\n",
      "Number of observations: 8430\t Groups: {'subj_idx': 904.0, 'movie': 10.0}\n",
      "\n",
      "Log-likelihood: -1312.917 \t AIC: 2631.834\n",
      "\n",
      "Random effects:\n",
      "\n",
      "                 Name     Var    Std\n",
      "subj_idx  (Intercept)   0.226  0.476\n",
      "movie     (Intercept)  13.945  3.734\n",
      "\n",
      "No random effect correlations specified\n",
      "\n",
      "Fixed effects:\n",
      "\n",
      "             Estimate  2.5_ci  97.5_ci     SE     OR  OR_2.5_ci  OR_97.5_ci  \\\n",
      "(Intercept)     0.379   -1.94    2.698  1.183  1.461      0.144      14.857   \n",
      "\n",
      "              Prob  Prob_2.5_ci  Prob_97.5_ci  Z-stat  P-val Sig  \n",
      "(Intercept)  0.594        0.126         0.937    0.32  0.749      \n"
     ]
    }
   ],
   "metadata": {}
  },
  {
   "cell_type": "markdown",
   "source": [
    "Interpreting the logistic regression results given above:\n",
    "log(p(r=1)/p(r=0)) = .379 So p(r=1)/p(r=0) = exp(.379) > 1, so p(r=1) is more likely, BUT p-value = 0.749 so results are not significant."
   ],
   "metadata": {}
  },
  {
   "cell_type": "code",
   "execution_count": 21,
   "source": [
    "# Next model: response = f(stimulus Type)\n",
    "model = Lmer('response ~ stim + (1|subj_idx)', data=data_sure, family = \"binomial\") # ff: M/R, prev. trial response, rf:subjID, movie\n",
    "print(model.fit(factors={\"stim\":[\"Random\",\"Mental\"]})) # to make \"Random\" as the reference intercept term\n",
    "#print(model.fit())"
   ],
   "outputs": [
    {
     "output_type": "stream",
     "name": "stdout",
     "text": [
      "Formula: response~stim+(1|subj_idx)\n",
      "\n",
      "Family: binomial\t Inference: parametric\n",
      "\n",
      "Number of observations: 8430\t Groups: {'subj_idx': 904.0}\n",
      "\n",
      "Log-likelihood: -1403.805 \t AIC: 2813.610\n",
      "\n",
      "Random effects:\n",
      "\n",
      "                 Name    Var    Std\n",
      "subj_idx  (Intercept)  0.588  0.767\n",
      "\n",
      "No random effect correlations specified\n",
      "\n",
      "Fixed effects:\n",
      "\n",
      "             Estimate  2.5_ci  97.5_ci     SE       OR  OR_2.5_ci  OR_97.5_ci  \\\n",
      "(Intercept)    -3.213  -3.445   -2.980  0.118    0.040      0.032       0.051   \n",
      "stim1           6.887   6.474    7.299  0.211  979.002    648.015    1479.047   \n",
      "\n",
      "              Prob  Prob_2.5_ci  Prob_97.5_ci  Z-stat  P-val  Sig  \n",
      "(Intercept)  0.039        0.031         0.048 -27.133    0.0  ***  \n",
      "stim1        0.999        0.998         0.999  32.711    0.0  ***  \n"
     ]
    }
   ],
   "metadata": {}
  },
  {
   "cell_type": "markdown",
   "source": [
    "Results indicate that logOR for stim >0, i.e., p(r=1)/p(r=0) increases from the intercept for Mental compared to random"
   ],
   "metadata": {}
  },
  {
   "cell_type": "code",
   "execution_count": 58,
   "source": [
    "#Does adding movie improve the model?\n",
    "model = Lmer('response ~ stim + (1|subj_idx) + (1|movie)', data=data_sure, family = \"binomial\") # ff: M/R, prev. trial response, rf:subjID, movie\n",
    "print(model.fit(factors={\"stim\":[\"Random\",\"Mental\"]})) # to make \"Random\" as the reference intercept term\n",
    "#print(model.fit())"
   ],
   "outputs": [
    {
     "output_type": "stream",
     "name": "stdout",
     "text": [
      "Formula: response~stim+(1|subj_idx)+(1|movie)\n",
      "\n",
      "Family: binomial\t Inference: parametric\n",
      "\n",
      "Number of observations: 8430\t Groups: {'subj_idx': 904.0, 'movie': 10.0}\n",
      "\n",
      "Log-likelihood: -1298.486 \t AIC: 2604.971\n",
      "\n",
      "Random effects:\n",
      "\n",
      "                 Name    Var    Std\n",
      "subj_idx  (Intercept)  0.251  0.501\n",
      "movie     (Intercept)  0.739  0.860\n",
      "\n",
      "No random effect correlations specified\n",
      "\n",
      "Fixed effects:\n",
      "\n",
      "             Estimate  2.5_ci  97.5_ci     SE        OR  OR_2.5_ci  \\\n",
      "(Intercept)    -3.247  -4.026   -2.468  0.397     0.039      0.018   \n",
      "stim1           7.229   6.104    8.355  0.574  1379.435    447.673   \n",
      "\n",
      "             OR_97.5_ci   Prob  Prob_2.5_ci  Prob_97.5_ci  Z-stat  P-val  Sig  \n",
      "(Intercept)       0.085  0.037        0.018         0.078  -8.169    0.0  ***  \n",
      "stim1          4250.513  0.999        0.998         1.000  12.591    0.0  ***  \n"
     ]
    }
   ],
   "metadata": {}
  },
  {
   "cell_type": "markdown",
   "source": [
    "Results are still significant, and AIC reduces so model does improve"
   ],
   "metadata": {}
  },
  {
   "cell_type": "code",
   "execution_count": 26,
   "source": [
    "# Plotting response vs. stimulus. \n",
    "fig,ax = plt.subplots(figsize = (2,2))\n",
    "\n",
    "sns.stripplot(data=data_sure, x=\"stim\",y=\"response\", order = [\"Random\",\"Mental\"],ax=ax, alpha = 0.005, size=16)\n",
    "ax.set_yticks(range(2))\n",
    "ax.set_yticklabels([\"No\",\"Yes\"],size=14)\n",
    "ax.set_xticklabels([\"Random\",\"Mental\"],size=14)\n",
    "ax.set_ylabel('Responses',size = 14)\n",
    "ax.set_xlabel('')\n",
    "\n",
    "#A different way to look at this - subjectwise mean responses per category \n",
    "#(for mental, Y-values closer to 1 is more accurate, and for random, values near 0)\n",
    "\n",
    "fig,ax = plt.subplots(figsize = (2,2))\n",
    "summary = data_sure.groupby(['subj_idx','stim']).mean()\n",
    "sns.lineplot(data=summary, x=\"stim\", y=\"response\", style=\"subj_idx\",legend = False)\n",
    "ax.set_ylabel(\"mean response per cat.\")"
   ],
   "outputs": [
    {
     "output_type": "execute_result",
     "data": {
      "text/plain": [
       "Text(0, 0.5, 'mean response per cat.')"
      ]
     },
     "metadata": {},
     "execution_count": 26
    },
    {
     "output_type": "display_data",
     "data": {
      "image/png": "[encoded data removed]",
      "text/plain": [
       "<Figure size 144x144 with 1 Axes>"
      ]
     },
     "metadata": {
      "needs_background": "light"
     }
    },
    {
     "output_type": "display_data",
     "data": {
      "image/png": "[encoded data removed]",
      "text/plain": [
       "<Figure size 144x144 with 1 Axes>"
      ]
     },
     "metadata": {
      "needs_background": "light"
     }
    }
   ],
   "metadata": {}
  },
  {
   "cell_type": "code",
   "execution_count": 76,
   "source": [
    "# adding random slopes for subject\n",
    "model = Lmer('response ~ stim + (stim|subj_idx) + (1|movie)', data=data_sure, family = \"binomial\") # ff: M/R, prev. trial response, rf:subjID, movie\n",
    "print(model.fit(factors={\"stim\":[\"Random\",\"Mental\"]})) # to make \"Random\" as the reference intercept term\n",
    "#print(model.fit())"
   ],
   "outputs": [
    {
     "output_type": "stream",
     "name": "stdout",
     "text": [
      "Formula: response~stim+(stim|subj_idx)+(1|movie)\n",
      "\n",
      "Family: binomial\t Inference: parametric\n",
      "\n",
      "Number of observations: 8430\t Groups: {'subj_idx': 904.0, 'movie': 10.0}\n",
      "\n",
      "Log-likelihood: -1255.479 \t AIC: 2522.957\n",
      "\n",
      "Random effects:\n",
      "\n",
      "                 Name    Var    Std\n",
      "subj_idx  (Intercept)  2.164  1.471\n",
      "subj_idx   stimMental  6.595  2.568\n",
      "movie     (Intercept)  0.594  0.770\n",
      "\n",
      "                  IV1         IV2   Corr\n",
      "subj_idx  (Intercept)  stimMental -0.958\n",
      "\n",
      "Fixed effects:\n",
      "\n",
      "             Estimate  2.5_ci  97.5_ci     SE        OR  OR_2.5_ci  \\\n",
      "(Intercept)    -4.014  -4.805   -3.224  0.403     0.018      0.008   \n",
      "stim1           8.565   7.412    9.718  0.588  5245.025   1655.070   \n",
      "\n",
      "             OR_97.5_ci   Prob  Prob_2.5_ci  Prob_97.5_ci  Z-stat  P-val  Sig  \n",
      "(Intercept)       0.040  0.018        0.008         0.038  -9.951    0.0  ***  \n",
      "stim1         16621.829  1.000        0.999         1.000  14.554    0.0  ***  \n"
     ]
    }
   ],
   "metadata": {}
  },
  {
   "cell_type": "markdown",
   "source": [
    "model improves a little on adding RS"
   ],
   "metadata": {}
  },
  {
   "cell_type": "markdown",
   "source": [
    "## Reaction time LMEMs"
   ],
   "metadata": {}
  },
  {
   "cell_type": "code",
   "execution_count": 282,
   "source": [
    "#log-transforming RT makes the distribution closer to a Gaussian\n",
    "data_sure = data_sure.assign(logRT = np.log(data_sure['rt'])) # add a column for logRT\n",
    "data_sure.head()\n",
    "\n",
    "plt.figure(1, figsize=(10,4))\n",
    "plt.subplot(1,2,1)\n",
    "plt.title(\"RT before log-transformation\")\n",
    "data_sure['rt'].hist()\n",
    "plt.subplot(1,2,2)\n",
    "plt.title(\"RT after log-transformation\")\n",
    "data_sure['logRT'].hist()\n",
    "plt.tight_layout()"
   ],
   "outputs": [
    {
     "output_type": "display_data",
     "data": {
      "image/png": "[encoded data removed]",
      "text/plain": [
       "<Figure size 720x288 with 2 Axes>"
      ]
     },
     "metadata": {
      "needs_background": "light"
     }
    }
   ],
   "metadata": {}
  },
  {
   "cell_type": "markdown",
   "source": [
    "- Most of the analyses will be done on the sure responses.\n",
    "- RT is skewed and hence we take its log-transform (still not fully normal)\n",
    "\n",
    "<font color=red> TODO sometime: Look for the best family of distribution for RT (better than log) potentially using KL divergence, shift to glmer function and perhaps R </font>"
   ],
   "metadata": {}
  },
  {
   "cell_type": "code",
   "execution_count": 210,
   "source": [],
   "outputs": [
    {
     "output_type": "execute_result",
     "data": {
      "text/html": [
       "<div>\n",
       "<style scoped>\n",
       "    .dataframe tbody tr th:only-of-type {\n",
       "        vertical-align: middle;\n",
       "    }\n",
       "\n",
       "    .dataframe tbody tr th {\n",
       "        vertical-align: top;\n",
       "    }\n",
       "\n",
       "    .dataframe thead th {\n",
       "        text-align: right;\n",
       "    }\n",
       "</style>\n",
       "<table border=\"1\" class=\"dataframe\">\n",
       "  <thead>\n",
       "    <tr style=\"text-align: right;\">\n",
       "      <th></th>\n",
       "      <th>subj_idx</th>\n",
       "      <th>stim</th>\n",
       "      <th>movie</th>\n",
       "      <th>rt</th>\n",
       "      <th>response</th>\n",
       "      <th>run</th>\n",
       "      <th>accuracy</th>\n",
       "      <th>socialness</th>\n",
       "    </tr>\n",
       "    <tr>\n",
       "      <th>index</th>\n",
       "      <th></th>\n",
       "      <th></th>\n",
       "      <th></th>\n",
       "      <th></th>\n",
       "      <th></th>\n",
       "      <th></th>\n",
       "      <th></th>\n",
       "      <th></th>\n",
       "    </tr>\n",
       "  </thead>\n",
       "  <tbody>\n",
       "    <tr>\n",
       "      <th>0</th>\n",
       "      <td>168745</td>\n",
       "      <td>Mental</td>\n",
       "      <td>Scaring.AVI</td>\n",
       "      <td>1.252</td>\n",
       "      <td>1</td>\n",
       "      <td>1</td>\n",
       "      <td>1.0</td>\n",
       "      <td>0.972490</td>\n",
       "    </tr>\n",
       "    <tr>\n",
       "      <th>1</th>\n",
       "      <td>168745</td>\n",
       "      <td>Mental</td>\n",
       "      <td>SEDUCING-B.AVI</td>\n",
       "      <td>0.578</td>\n",
       "      <td>1</td>\n",
       "      <td>1</td>\n",
       "      <td>1.0</td>\n",
       "      <td>0.993122</td>\n",
       "    </tr>\n",
       "    <tr>\n",
       "      <th>2</th>\n",
       "      <td>168745</td>\n",
       "      <td>Random</td>\n",
       "      <td>STAR-A.AVI</td>\n",
       "      <td>1.643</td>\n",
       "      <td>0</td>\n",
       "      <td>1</td>\n",
       "      <td>1.0</td>\n",
       "      <td>0.023578</td>\n",
       "    </tr>\n",
       "    <tr>\n",
       "      <th>3</th>\n",
       "      <td>168745</td>\n",
       "      <td>Mental</td>\n",
       "      <td>SURPRISING-B.AVI</td>\n",
       "      <td>1.082</td>\n",
       "      <td>1</td>\n",
       "      <td>1</td>\n",
       "      <td>1.0</td>\n",
       "      <td>1.000000</td>\n",
       "    </tr>\n",
       "    <tr>\n",
       "      <th>4</th>\n",
       "      <td>168745</td>\n",
       "      <td>Random</td>\n",
       "      <td>TENNIS-A.AVI</td>\n",
       "      <td>1.232</td>\n",
       "      <td>0</td>\n",
       "      <td>1</td>\n",
       "      <td>1.0</td>\n",
       "      <td>0.044733</td>\n",
       "    </tr>\n",
       "    <tr>\n",
       "      <th>6</th>\n",
       "      <td>668361</td>\n",
       "      <td>Random</td>\n",
       "      <td>BILLIARD-A.AVI</td>\n",
       "      <td>1.254</td>\n",
       "      <td>0</td>\n",
       "      <td>0</td>\n",
       "      <td>1.0</td>\n",
       "      <td>0.009655</td>\n",
       "    </tr>\n",
       "    <tr>\n",
       "      <th>7</th>\n",
       "      <td>668361</td>\n",
       "      <td>Random</td>\n",
       "      <td>DRIFTING-A.AVI</td>\n",
       "      <td>0.590</td>\n",
       "      <td>0</td>\n",
       "      <td>0</td>\n",
       "      <td>1.0</td>\n",
       "      <td>0.006925</td>\n",
       "    </tr>\n",
       "    <tr>\n",
       "      <th>8</th>\n",
       "      <td>668361</td>\n",
       "      <td>Mental</td>\n",
       "      <td>Fishing.AVI</td>\n",
       "      <td>0.993</td>\n",
       "      <td>0</td>\n",
       "      <td>0</td>\n",
       "      <td>0.0</td>\n",
       "      <td>0.925180</td>\n",
       "    </tr>\n",
       "    <tr>\n",
       "      <th>9</th>\n",
       "      <td>668361</td>\n",
       "      <td>Random</td>\n",
       "      <td>Random mechanical.AVI</td>\n",
       "      <td>0.816</td>\n",
       "      <td>0</td>\n",
       "      <td>0</td>\n",
       "      <td>1.0</td>\n",
       "      <td>0.126230</td>\n",
       "    </tr>\n",
       "    <tr>\n",
       "      <th>10</th>\n",
       "      <td>165638</td>\n",
       "      <td>Mental</td>\n",
       "      <td>COAXING-B.AVI</td>\n",
       "      <td>0.842</td>\n",
       "      <td>1</td>\n",
       "      <td>0</td>\n",
       "      <td>1.0</td>\n",
       "      <td>0.990424</td>\n",
       "    </tr>\n",
       "  </tbody>\n",
       "</table>\n",
       "</div>"
      ],
      "text/plain": [
       "       subj_idx    stim                  movie     rt  response  run  \\\n",
       "index                                                                  \n",
       "0        168745  Mental            Scaring.AVI  1.252         1    1   \n",
       "1        168745  Mental         SEDUCING-B.AVI  0.578         1    1   \n",
       "2        168745  Random             STAR-A.AVI  1.643         0    1   \n",
       "3        168745  Mental       SURPRISING-B.AVI  1.082         1    1   \n",
       "4        168745  Random           TENNIS-A.AVI  1.232         0    1   \n",
       "6        668361  Random         BILLIARD-A.AVI  1.254         0    0   \n",
       "7        668361  Random         DRIFTING-A.AVI  0.590         0    0   \n",
       "8        668361  Mental            Fishing.AVI  0.993         0    0   \n",
       "9        668361  Random  Random mechanical.AVI  0.816         0    0   \n",
       "10       165638  Mental          COAXING-B.AVI  0.842         1    0   \n",
       "\n",
       "       accuracy  socialness  \n",
       "index                        \n",
       "0           1.0    0.972490  \n",
       "1           1.0    0.993122  \n",
       "2           1.0    0.023578  \n",
       "3           1.0    1.000000  \n",
       "4           1.0    0.044733  \n",
       "6           1.0    0.009655  \n",
       "7           1.0    0.006925  \n",
       "8           0.0    0.925180  \n",
       "9           1.0    0.126230  \n",
       "10          1.0    0.990424  "
      ]
     },
     "metadata": {},
     "execution_count": 210
    }
   ],
   "metadata": {}
  },
  {
   "cell_type": "code",
   "execution_count": null,
   "source": [],
   "outputs": [],
   "metadata": {}
  },
  {
   "cell_type": "code",
   "execution_count": 283,
   "source": [
    "#rt_per_resptype_mean = data_sure.groupby(['response']).mean().rt\n",
    "#rt_per_resptype_sem = data_sure.groupby(['response']).sem().rt\n",
    "\n",
    "\n",
    "#plt.figure(1, figsize=(5,2))\n",
    "fig, ax = plt.subplots(figsize=(5,3))\n",
    "#plt.figure(1,figsize=(3,4))\n",
    "#plt.boxplot([counts_per_subj['Yes_pc'],counts_per_subj['No_pc']],positions = [1,0],widths =.8, color='r')\n",
    "#ax.boxplot(counts_per_subj['Yes_pc'], positions = [0], patch_artist=True)\n",
    "bp1 = box_plot(data_sure.loc[data_sure['response']==1,'rt'], 'red', 'tan',1,False)\n",
    "bp2 = box_plot(data_sure.loc[data_sure['response']==0,'rt'], 'blue', 'cyan',0,False)\n",
    "\n",
    "rts_per_subj = data_sure.groupby(['subj_idx', 'response']).mean().logRT.unstack(level=-1) # Mean count per subject for Mental and Random\n",
    "rts_per_subj['diff'] = rts_per_subj[1]-rts_per_subj[0]\n",
    "\n",
    "\n",
    "plt.ylabel('')\n",
    "plt.yticks((range(2)),('\"Non-\\nsocial\"\\n(0)','\"Social\"\\n(1)'))\n",
    "plt.xlabel('Response time(sec)')\n",
    "#plt.title('Reaction time', fontsize =20, fontweight = 'bold')\n",
    "#plt.ylim(0.9,1.1)\n",
    "\n",
    "\n"
   ],
   "outputs": [
    {
     "output_type": "execute_result",
     "data": {
      "text/plain": [
       "Text(0.5, 0, 'Response time(sec)')"
      ]
     },
     "metadata": {},
     "execution_count": 283
    },
    {
     "output_type": "display_data",
     "data": {
      "image/png": "[encoded data removed]",
      "text/plain": [
       "<Figure size 360x216 with 1 Axes>"
      ]
     },
     "metadata": {
      "needs_background": "light"
     }
    }
   ],
   "metadata": {}
  },
  {
   "cell_type": "code",
   "execution_count": 284,
   "source": [
    "rts_per_subj.shape"
   ],
   "outputs": [
    {
     "output_type": "execute_result",
     "data": {
      "text/plain": [
       "(904, 3)"
      ]
     },
     "metadata": {},
     "execution_count": 284
    }
   ],
   "metadata": {}
  },
  {
   "cell_type": "code",
   "execution_count": 236,
   "source": [
    "plt.figure(2, figsize=(6,2))\n",
    "data = rts_per_subj['diff'].values\n",
    "data  = data[~np.isnan(data)]\n",
    "_, bins, _ = plt.hist(data, 20, density=1, alpha=0.5,color = 'grey', align = 'mid',edgecolor = 'k')\n",
    "mu, sigma = scipy.stats.norm.fit(data)\n",
    "xpts = np.linspace(-1.5,1,20)\n",
    "best_fit_line = scipy.stats.norm.pdf(xpts, mu, sigma)\n",
    "plt.plot(xpts, best_fit_line, color = 'k',label = 'Best fit line', marker = 'o')\n",
    "ymin,ymax = plt.ylim()\n",
    "plt.vlines(mu,ymin,ymax,color = 'g',label = 'Mean')\n",
    "plt.vlines(0,ymin,ymax,color = 'k',label = 'Zero',ls = 'dashed')\n",
    "plt.xlabel('RTSoc-RTNonSoc per sub.')\n",
    "#plt.xticks([-5,-3,-1,0,1,3,5,7], rotation=30)\n",
    "plt.ylabel('Density')\n",
    "plt.legend(bbox_to_anchor = [0.5,0.2])\n",
    "\n",
    "plt.figure(3, figsize=(8,2))\n",
    "sns.boxplot(x=data)\n",
    "ymin,ymax = plt.ylim()\n",
    "#plt.vlines(mu,ymin,ymax,color = 'g',label = 'Mean')\n",
    "plt.vlines(0,ymin,ymax,color = 'k',label = 'Zero',ls = 'dashed')\n",
    "plt.xlabel('RTSoc-RTNonSoc per sub.')\n",
    "#plt.xticks([-5,-3,-1,0,1,3,5,7], rotation=30)\n",
    "#plt.ylabel('Density')\n",
    "#plt.legend(bbox_to_anchor = [1,1])\n",
    "\n",
    "#sns.boxplot(x = \"response\",y=\"rt\", data = rts_per_subj)\n",
    "\n",
    "#plt.bar(range(2),rt_per_resptype_mean,color = 'grey',alpha = .4)\n",
    "#plt.plot(0,cols.mean(),cols.sem(), color = 'black', ls = 'none', marker = 'o', markersize = 8)\n",
    "#plt.errorbar(range(2),rt_per_resptype_mean,rt_per_resptype_sem, color = 'black', ls = 'none', marker = 'o', markersize = 8)\n",
    "#plt.tight_layout()\n",
    "#plt.xlabel('')\n",
    "#plt.xticks((range(2)),('Non-\\nsocial\\n(0)','Social\\n(1)'), fontsize = 20, rotation =30)\n",
    "#plt.ylabel('Time (secs)',fontsize = 24)\n",
    "#plt.title('Reaction time', fontsize =20, fontweight = 'bold')\n",
    "#plt.ylim(0.9,1.1)"
   ],
   "outputs": [
    {
     "output_type": "execute_result",
     "data": {
      "text/plain": [
       "Text(0.5, 0, 'RTSoc-RTNonSoc per sub.')"
      ]
     },
     "metadata": {},
     "execution_count": 236
    },
    {
     "output_type": "display_data",
     "data": {
      "image/png": "[encoded data removed]",
      "text/plain": [
       "<Figure size 432x144 with 1 Axes>"
      ]
     },
     "metadata": {
      "needs_background": "light"
     }
    },
    {
     "output_type": "display_data",
     "data": {
      "image/png": "[encoded data removed]",
      "text/plain": [
       "<Figure size 576x144 with 1 Axes>"
      ]
     },
     "metadata": {
      "needs_background": "light"
     }
    }
   ],
   "metadata": {}
  },
  {
   "cell_type": "code",
   "execution_count": 110,
   "source": [
    "rt_per_subj = data_sure.groupby(['subj_idx', 'response']).mean().rt # Mean count per subject for Mental and Random\n",
    "cols = rt_per_subj.unstack(level = -1)\n",
    "print(cols)\n",
    "plt.figure(1, figsize=(3,3))\n",
    "#plt.bar(range(2),cols.mean(),color = 'grey')\n",
    "#plt.plot(0,cols.mean(),cols.sem(), color = 'black', ls = 'none', marker = 'o', markersize = 8)\n",
    "#plt.errorbar(range(2),cols.mean(),cols.sem(), color = 'black', ls = 'none', marker = 'o', markersize = 8)\n",
    "#plt.tight_layout()\n",
    "plt.boxplot([cols.loc[~np.isnan(cols.iloc[:,0]),0], cols.loc[~np.isnan(cols.iloc[:,1]),1]])\n",
    "\n",
    "plt.xticks((1+np.arange(2)),('Non-\\nsocial','Social'), fontsize = 16)\n",
    "plt.yticks([.5,1,1.5,2,2.5], [str(i) for i in [.5,1,1.5,2,2.5]],fontsize = 16)\n",
    "\n",
    "plt.title('Mean RT per\\nsubject(s)', fontsize =16, fontweight = 'bold')\n",
    "stats.ttest_rel(cols[0],cols[1],nan_policy='omit')\n",
    "\n"
   ],
   "outputs": [
    {
     "output_type": "stream",
     "name": "stdout",
     "text": [
      "response        0       1\n",
      "subj_idx                 \n",
      "100206    0.68300  1.1220\n",
      "100307    0.70150  0.6224\n",
      "100408    1.32925  1.2596\n",
      "100610    0.87040  1.1614\n",
      "101410    1.19880  0.7750\n",
      "...           ...     ...\n",
      "991267    0.98275  0.8480\n",
      "992673    1.31420  1.2486\n",
      "992774    0.50275  0.5860\n",
      "993675    1.03840  1.4302\n",
      "996782    0.82120  0.9080\n",
      "\n",
      "[904 rows x 2 columns]\n"
     ]
    },
    {
     "output_type": "execute_result",
     "data": {
      "text/plain": [
       "Ttest_relResult(statistic=4.000196929971676, pvalue=6.84811954804191e-05)"
      ]
     },
     "metadata": {},
     "execution_count": 110
    },
    {
     "output_type": "display_data",
     "data": {
      "image/png": "[encoded data removed]",
      "text/plain": [
       "<Figure size 216x216 with 1 Axes>"
      ]
     },
     "metadata": {
      "needs_background": "light"
     }
    }
   ],
   "metadata": {}
  },
  {
   "cell_type": "code",
   "execution_count": 238,
   "source": [
    "print(np.nanmean(data_sure.loc[data_sure['response']==1,'rt']),np.nanmean(data_sure.loc[data_sure['response']==0,'rt']))\n",
    "stats.ttest_ind(data_sure.loc[data_sure['response']==1,'rt'],data_sure.loc[data_sure['response']==0,'rt'],nan_policy='omit')\n"
   ],
   "outputs": [
    {
     "output_type": "stream",
     "name": "stdout",
     "text": [
      "0.9901060523446019 1.0144508484493857\n"
     ]
    },
    {
     "output_type": "execute_result",
     "data": {
      "text/plain": [
       "Ttest_indResult(statistic=-2.225069519660046, pvalue=0.026107941896374907)"
      ]
     },
     "metadata": {},
     "execution_count": 238
    }
   ],
   "metadata": {}
  },
  {
   "cell_type": "code",
   "execution_count": 247,
   "source": [
    "# since RT is quantitative, these analyses are linear regressions\n",
    "model = Lmer('logRT ~  stim +(stim|subj_idx) + (1|movie)', data=data_sure) # ff: M/R, prev. trial response, rf:subjID, movie\n",
    "print(model.fit(factors={\"stim\":[\"Random\",\"Mental\"]})) # to make \"Random\" as the reference intercept term\n",
    "\n",
    "# plotting the results\n",
    "fig,ax = plt.subplots(figsize = (5,5))\n",
    "sns.violinplot(data=data_sure, x=\"stim\",y=\"logRT\", ax=ax)\n",
    "ax.axhline(0, linestyle='--')\n",
    "print(data_sure.groupby(\"stim\").mean().rt)"
   ],
   "outputs": [
    {
     "output_type": "stream",
     "name": "stdout",
     "text": [
      "Model failed to converge with max|grad| = 0.00268499 (tol = 0.002, component 1) \n",
      "\n",
      "Formula: logRT~stim+(stim|subj_idx)+(1|movie)\n",
      "\n",
      "Family: gaussian\t Inference: parametric\n",
      "\n",
      "Number of observations: 4620\t Groups: {'subj_idx': 462.0, 'movie': 10.0}\n",
      "\n",
      "Log-likelihood: -1782.142 \t AIC: 3564.283\n",
      "\n",
      "Random effects:\n",
      "\n",
      "                 Name    Var    Std\n",
      "subj_idx  (Intercept)  0.048  0.220\n",
      "subj_idx   stimMental  0.013  0.115\n",
      "movie     (Intercept)  0.034  0.185\n",
      "Residual               0.105  0.324\n",
      "\n",
      "                  IV1         IV2   Corr\n",
      "subj_idx  (Intercept)  stimMental -0.554\n",
      "\n",
      "Fixed effects:\n",
      "\n",
      "             Estimate  2.5_ci  97.5_ci     SE     DF  T-stat  P-val Sig\n",
      "(Intercept)    -0.113  -0.276    0.051  0.083  8.244  -1.348  0.214    \n",
      "stim1           0.005  -0.225    0.235  0.117  8.032   0.041  0.968    \n",
      "stim\n",
      "Mental    0.973113\n",
      "Random    0.985567\n",
      "Name: rt, dtype: float64\n"
     ]
    },
    {
     "output_type": "display_data",
     "data": {
      "image/png": "[encoded data removed]",
      "text/plain": [
       "<Figure size 360x360 with 1 Axes>"
      ]
     },
     "metadata": {
      "needs_background": "light"
     }
    }
   ],
   "metadata": {}
  },
  {
   "cell_type": "markdown",
   "source": [
    "stimtype has no effect on RTs in a model that accounts for subj and movies"
   ],
   "metadata": {}
  },
  {
   "cell_type": "markdown",
   "source": [
    "Is response a better predictor than stimulus of the RT?"
   ],
   "metadata": {}
  },
  {
   "cell_type": "code",
   "execution_count": 285,
   "source": [
    "model = Lmer('logRT ~  response +(response|subj_idx) + (1|movie)', data=data_sure) # ff: mean response, rf:subjID\n",
    "print(model.fit())\n",
    "#sns.regplot(x= 'response',y= 'residuals', data= model.data, fit_reg= False)\n",
    "plt.hist(model.residuals)\n",
    "stats.normaltest(model.residuals)"
   ],
   "outputs": [
    {
     "output_type": "stream",
     "name": "stdout",
     "text": [
      "Formula: logRT~response+(response|subj_idx)+(1|movie)\n",
      "\n",
      "Family: gaussian\t Inference: parametric\n",
      "\n",
      "Number of observations: 8430\t Groups: {'subj_idx': 904.0, 'movie': 10.0}\n",
      "\n",
      "Log-likelihood: -3428.105 \t AIC: 6856.211\n",
      "\n",
      "Random effects:\n",
      "\n",
      "                 Name    Var    Std\n",
      "subj_idx  (Intercept)  0.059  0.243\n",
      "subj_idx     response  0.022  0.150\n",
      "movie     (Intercept)  0.031  0.176\n",
      "Residual               0.107  0.327\n",
      "\n",
      "                  IV1       IV2   Corr\n",
      "subj_idx  (Intercept)  response -0.602\n",
      "\n",
      "Fixed effects:\n",
      "\n",
      "             Estimate  2.5_ci  97.5_ci     SE        DF  T-stat  P-val Sig\n",
      "(Intercept)    -0.055  -0.167    0.058  0.057     9.957  -0.956  0.362    \n",
      "response       -0.036  -0.076    0.003  0.020  4753.711  -1.813  0.070   .\n"
     ]
    },
    {
     "output_type": "execute_result",
     "data": {
      "text/plain": [
       "NormaltestResult(statistic=290.3770083009352, pvalue=8.819293820861547e-64)"
      ]
     },
     "metadata": {},
     "execution_count": 285
    },
    {
     "output_type": "display_data",
     "data": {
      "image/png": "[encoded data removed]",
      "text/plain": [
       "<Figure size 432x288 with 1 Axes>"
      ]
     },
     "metadata": {
      "needs_background": "light"
     }
    }
   ],
   "metadata": {}
  },
  {
   "cell_type": "code",
   "execution_count": 286,
   "source": [
    "model = Lmer('logRT ~  response +(response|subj_idx)', data=data_sure) # ff: mean response, rf:subjID\n",
    "print(model.fit())\n",
    "#sns.regplot(x= 'response',y= 'residuals', data= model.data, fit_reg= False)\n",
    "plt.hist(model.residuals)\n",
    "stats.normaltest(model.residuals)"
   ],
   "outputs": [
    {
     "output_type": "stream",
     "name": "stdout",
     "text": [
      "Formula: logRT~response+(response|subj_idx)\n",
      "\n",
      "Family: gaussian\t Inference: parametric\n",
      "\n",
      "Number of observations: 8430\t Groups: {'subj_idx': 904.0}\n",
      "\n",
      "Log-likelihood: -4363.387 \t AIC: 8726.775\n",
      "\n",
      "Random effects:\n",
      "\n",
      "                 Name    Var    Std\n",
      "subj_idx  (Intercept)  0.050  0.224\n",
      "subj_idx     response  0.007  0.086\n",
      "Residual               0.143  0.378\n",
      "\n",
      "                  IV1       IV2   Corr\n",
      "subj_idx  (Intercept)  response -0.701\n",
      "\n",
      "Fixed effects:\n",
      "\n",
      "             Estimate  2.5_ci  97.5_ci     SE       DF  T-stat  P-val  Sig\n",
      "(Intercept)    -0.070  -0.089   -0.051  0.010  873.407  -7.314  0.000  ***\n",
      "response       -0.017  -0.034    0.000  0.009  867.795  -1.916  0.056    .\n"
     ]
    },
    {
     "output_type": "execute_result",
     "data": {
      "text/plain": [
       "NormaltestResult(statistic=157.98464285049153, pvalue=4.94391154961759e-35)"
      ]
     },
     "metadata": {},
     "execution_count": 286
    },
    {
     "output_type": "display_data",
     "data": {
      "image/png": "[encoded data removed]",
      "text/plain": [
       "<Figure size 432x288 with 1 Axes>"
      ]
     },
     "metadata": {
      "needs_background": "light"
     }
    }
   ],
   "metadata": {}
  },
  {
   "cell_type": "code",
   "execution_count": 116,
   "source": [
    "model = Lmer('logRT ~  response + movie + (response|subj_idx)', data=data_sure) # ff: mean response, rf:subjID\n",
    "print(model.fit())\n",
    "#sns.regplot(x= 'response',y= 'residuals', data= model.data, fit_reg= False)\n",
    "plt.hist(model.residuals)\n",
    "stats.normaltest(model.residuals)"
   ],
   "outputs": [
    {
     "output_type": "stream",
     "name": "stdout",
     "text": [
      "Formula: logRT~response+movie+(response|subj_idx)\n",
      "\n",
      "Family: gaussian\t Inference: parametric\n",
      "\n",
      "Number of observations: 8430\t Groups: {'subj_idx': 904.0}\n",
      "\n",
      "Log-likelihood: -3429.787 \t AIC: 6859.573\n",
      "\n",
      "Random effects:\n",
      "\n",
      "                 Name    Var    Std\n",
      "subj_idx  (Intercept)  0.059  0.243\n",
      "subj_idx     response  0.022  0.150\n",
      "Residual               0.107  0.327\n",
      "\n",
      "                  IV1       IV2   Corr\n",
      "subj_idx  (Intercept)  response -0.602\n",
      "\n",
      "Fixed effects:\n",
      "\n",
      "                            Estimate  2.5_ci  97.5_ci     SE        DF  \\\n",
      "(Intercept)                    0.120   0.092    0.147  0.014  3248.426   \n",
      "response                      -0.037  -0.077    0.003  0.020  6686.734   \n",
      "movieCOAXING-B.AVI             0.081   0.033    0.130  0.025  7467.250   \n",
      "movieDRIFTING-A.AVI           -0.199  -0.230   -0.168  0.016  6709.762   \n",
      "movieFishing.AVI              -0.005  -0.052    0.042  0.024  7588.158   \n",
      "movieRandom mechanical.AVI    -0.078  -0.112   -0.044  0.017  6993.272   \n",
      "movieSEDUCING-B.AVI           -0.392  -0.441   -0.344  0.025  7469.356   \n",
      "movieSTAR-A.AVI               -0.467  -0.498   -0.436  0.016  6732.162   \n",
      "movieSURPRISING-B.AVI         -0.269  -0.318   -0.221  0.025  7463.547   \n",
      "movieScaring.AVI              -0.232  -0.280   -0.184  0.025  7489.607   \n",
      "movieTENNIS-A.AVI             -0.177  -0.209   -0.146  0.016  6832.754   \n",
      "\n",
      "                            T-stat  P-val  Sig  \n",
      "(Intercept)                  8.642  0.000  ***  \n",
      "response                    -1.816  0.069    .  \n",
      "movieCOAXING-B.AVI           3.267  0.001   **  \n",
      "movieDRIFTING-A.AVI        -12.629  0.000  ***  \n",
      "movieFishing.AVI            -0.218  0.827       \n",
      "movieRandom mechanical.AVI  -4.517  0.000  ***  \n",
      "movieSEDUCING-B.AVI        -15.774  0.000  ***  \n",
      "movieSTAR-A.AVI            -29.541  0.000  ***  \n",
      "movieSURPRISING-B.AVI      -10.842  0.000  ***  \n",
      "movieScaring.AVI            -9.412  0.000  ***  \n",
      "movieTENNIS-A.AVI          -10.956  0.000  ***  \n"
     ]
    },
    {
     "output_type": "execute_result",
     "data": {
      "text/plain": [
       "NormaltestResult(statistic=290.1200301207868, pvalue=1.0028498513591465e-63)"
      ]
     },
     "metadata": {},
     "execution_count": 116
    },
    {
     "output_type": "display_data",
     "data": {
      "image/png": "[encoded data removed]",
      "text/plain": [
       "<Figure size 432x288 with 1 Axes>"
      ]
     },
     "metadata": {
      "needs_background": "light"
     }
    }
   ],
   "metadata": {}
  },
  {
   "cell_type": "code",
   "execution_count": 119,
   "source": [
    "model = Lmer('logRT ~  response +(response|subj_idx)', data=data_sure) # ff: mean response, rf:subjID\n",
    "print(model.fit())\n",
    "#sns.regplot(x= 'response',y= 'residuals', data= model.data, fit_reg= False)\n",
    "plt.hist(model.residuals)\n",
    "stats.normaltest(model.residuals)"
   ],
   "outputs": [
    {
     "output_type": "stream",
     "name": "stdout",
     "text": [
      "Formula: logRT~response+(response|subj_idx)\n",
      "\n",
      "Family: gaussian\t Inference: parametric\n",
      "\n",
      "Number of observations: 8430\t Groups: {'subj_idx': 904.0}\n",
      "\n",
      "Log-likelihood: -4363.387 \t AIC: 8726.775\n",
      "\n",
      "Random effects:\n",
      "\n",
      "                 Name    Var    Std\n",
      "subj_idx  (Intercept)  0.050  0.224\n",
      "subj_idx     response  0.007  0.086\n",
      "Residual               0.143  0.378\n",
      "\n",
      "                  IV1       IV2   Corr\n",
      "subj_idx  (Intercept)  response -0.701\n",
      "\n",
      "Fixed effects:\n",
      "\n",
      "             Estimate  2.5_ci  97.5_ci     SE       DF  T-stat  P-val  Sig\n",
      "(Intercept)    -0.070  -0.089   -0.051  0.010  873.407  -7.314  0.000  ***\n",
      "response       -0.017  -0.034    0.000  0.009  867.795  -1.916  0.056    .\n"
     ]
    },
    {
     "output_type": "execute_result",
     "data": {
      "text/plain": [
       "NormaltestResult(statistic=157.98464285049153, pvalue=4.94391154961759e-35)"
      ]
     },
     "metadata": {},
     "execution_count": 119
    },
    {
     "output_type": "display_data",
     "data": {
      "image/png": "[encoded data removed]",
      "text/plain": [
       "<Figure size 432x288 with 1 Axes>"
      ]
     },
     "metadata": {
      "needs_background": "light"
     }
    }
   ],
   "metadata": {}
  },
  {
   "cell_type": "code",
   "execution_count": 118,
   "source": [
    "model = Lmer('logRT ~  response +(response|subj_idx) + (1|movie)', data=data_sure) # ff: mean response, rf:subjID\n",
    "print(model.fit())\n",
    "#sns.regplot(x= 'response',y= 'residuals', data= model.data, fit_reg= False)\n",
    "plt.hist(model.residuals)\n",
    "stats.normaltest(model.residuals)"
   ],
   "outputs": [
    {
     "output_type": "stream",
     "name": "stdout",
     "text": [
      "Formula: logRT~response+(response|subj_idx)+(1|movie)\n",
      "\n",
      "Family: gaussian\t Inference: parametric\n",
      "\n",
      "Number of observations: 8430\t Groups: {'subj_idx': 904.0, 'movie': 10.0}\n",
      "\n",
      "Log-likelihood: -3428.105 \t AIC: 6856.211\n",
      "\n",
      "Random effects:\n",
      "\n",
      "                 Name    Var    Std\n",
      "subj_idx  (Intercept)  0.059  0.243\n",
      "subj_idx     response  0.022  0.150\n",
      "movie     (Intercept)  0.031  0.176\n",
      "Residual               0.107  0.327\n",
      "\n",
      "                  IV1       IV2   Corr\n",
      "subj_idx  (Intercept)  response -0.602\n",
      "\n",
      "Fixed effects:\n",
      "\n",
      "             Estimate  2.5_ci  97.5_ci     SE        DF  T-stat  P-val Sig\n",
      "(Intercept)    -0.055  -0.167    0.058  0.057     9.957  -0.956  0.362    \n",
      "response       -0.036  -0.076    0.003  0.020  4753.711  -1.813  0.070   .\n"
     ]
    },
    {
     "output_type": "execute_result",
     "data": {
      "text/plain": [
       "NormaltestResult(statistic=290.3770083009352, pvalue=8.819293820861547e-64)"
      ]
     },
     "metadata": {},
     "execution_count": 118
    },
    {
     "output_type": "display_data",
     "data": {
      "image/png": "[encoded data removed]",
      "text/plain": [
       "<Figure size 432x288 with 1 Axes>"
      ]
     },
     "metadata": {
      "needs_background": "light"
     }
    }
   ],
   "metadata": {}
  },
  {
   "cell_type": "markdown",
   "source": [
    "Model residuals are not normally distributed as shown above - so in the future, need to pick a better family of distribution for RT. Log RT reduces nonnormality a bit but not enough"
   ],
   "metadata": {}
  },
  {
   "cell_type": "code",
   "execution_count": 120,
   "source": [
    "plt.figure(1,figsize = (10,4))\n",
    "plt.subplot(121)\n",
    "sns.boxplot(data=data_sure, x=\"stim\", y=\"logRT\")\n",
    "plt.title('Stim. vs. logRT')\n",
    "\n",
    "plt.subplot(122)\n",
    "sns.boxplot(data=data_sure, x=\"response\", y=\"logRT\")\n",
    "plt.title('Resp. vs. logRT')\n",
    "\n",
    "plt.tight_layout()"
   ],
   "outputs": [
    {
     "output_type": "display_data",
     "data": {
      "image/png": "[encoded data removed]",
      "text/plain": [
       "<Figure size 720x288 with 2 Axes>"
      ]
     },
     "metadata": {
      "needs_background": "light"
     }
    }
   ],
   "metadata": {}
  },
  {
   "cell_type": "code",
   "execution_count": 164,
   "source": [
    "# does the influence of stim and response depend on each other?\n",
    "model = Lmer('logRT ~  stim*response + (1|subj_idx) + (1|movie)', data=data_sure) # ff: M/R, prev. trial response, rf:subjID, movie\n",
    "print(model.fit(factors={\"stim\":[\"Random\",\"Mental\"]}))"
   ],
   "outputs": [
    {
     "output_type": "stream",
     "name": "stdout",
     "text": [
      "Formula: logRT~stim*response+(1|subj_idx)+(1|movie)\n",
      "\n",
      "Family: gaussian\t Inference: parametric\n",
      "\n",
      "Number of observations: 8430\t Groups: {'subj_idx': 904.0, 'movie': 10.0}\n",
      "\n",
      "Log-likelihood: -3454.088 \t AIC: 6908.176\n",
      "\n",
      "Random effects:\n",
      "\n",
      "                 Name    Var    Std\n",
      "subj_idx  (Intercept)  0.041  0.202\n",
      "movie     (Intercept)  0.034  0.184\n",
      "Residual               0.112  0.335\n",
      "\n",
      "No random effect correlations specified\n",
      "\n",
      "Fixed effects:\n",
      "\n",
      "                Estimate  2.5_ci  97.5_ci     SE        DF  T-stat  P-val  Sig\n",
      "(Intercept)       -0.073  -0.235    0.089  0.083     8.116  -0.883  0.403     \n",
      "stim1              0.182  -0.054    0.419  0.121     9.120   1.514  0.164     \n",
      "response           0.078   0.026    0.129  0.026  8041.464   2.948  0.003   **\n",
      "stim1:response    -0.273  -0.354   -0.192  0.041  8090.170  -6.607  0.000  ***\n"
     ]
    }
   ],
   "metadata": {}
  },
  {
   "cell_type": "markdown",
   "source": [
    "looks like there's a strong interaction"
   ],
   "metadata": {}
  },
  {
   "cell_type": "code",
   "execution_count": 166,
   "source": [
    "# Distribution of all 4 response types, esp. errors\n",
    "\n",
    "rt_per_respType = data_sure.groupby(['stim','accuracy']).mean().rt\n",
    "print(rt_per_respType.index)\n",
    "print(rt_per_respType)\n",
    "fig,ax = plt.subplots(figsize = (10,4))\n",
    "#acc_per_movie.plot.bar()\n",
    "rt_per_respType.plot.bar(figsize = (4,4), alpha = 0.3)\n",
    "ax.set_ylabel('Mean RT', fontsize = 12)\n",
    "ax.set_xticks(range(4))\n",
    "lbl = ['FN','Hit','FP','CR'] # first four letters of each movie name\n",
    "ax.set_xticklabels(lbl, rotation = 30)\n",
    "\n",
    "ax.set_xlabel('')"
   ],
   "outputs": [
    {
     "output_type": "stream",
     "name": "stdout",
     "text": [
      "MultiIndex([('Mental', 0.0),\n",
      "            ('Mental', 1.0),\n",
      "            ('Random', 0.0),\n",
      "            ('Random', 1.0)],\n",
      "           names=['stim', 'accuracy'])\n",
      "stim    accuracy\n",
      "Mental  0.0         1.343870\n",
      "        1.0         0.990035\n",
      "Random  0.0         1.152970\n",
      "        1.0         1.018044\n",
      "Name: rt, dtype: float64\n"
     ]
    },
    {
     "output_type": "execute_result",
     "data": {
      "text/plain": [
       "Text(0.5, 0, '')"
      ]
     },
     "metadata": {},
     "execution_count": 166
    },
    {
     "output_type": "display_data",
     "data": {
      "image/png": "[encoded data removed]",
      "text/plain": [
       "<Figure size 288x288 with 1 Axes>"
      ]
     },
     "metadata": {
      "needs_background": "light"
     }
    }
   ],
   "metadata": {}
  },
  {
   "cell_type": "code",
   "execution_count": 171,
   "source": [
    "# logRT =f(accuracy)\n",
    "model = Lmer('logRT ~  accuracy +(accuracy|subj_idx) + (1|movie)', data=data_sure) # ff: mean response, rf:subjID\n",
    "#print(model.fit(factors={\"stim\":[\"Random\",\"Mental\"]}))\n",
    "print(model.fit())\n",
    "#sns.regplot(x= 'response',y= 'residuals', data= model.data, fit_reg= False)\n",
    "plt.hist(model.residuals)"
   ],
   "outputs": [
    {
     "output_type": "stream",
     "name": "stdout",
     "text": [
      "Formula: logRT~accuracy+(accuracy|subj_idx)+(1|movie)\n",
      "\n",
      "Family: gaussian\t Inference: parametric\n",
      "\n",
      "Number of observations: 8430\t Groups: {'subj_idx': 904.0, 'movie': 10.0}\n",
      "\n",
      "Log-likelihood: -3438.260 \t AIC: 6876.520\n",
      "\n",
      "Random effects:\n",
      "\n",
      "                 Name    Var    Std\n",
      "subj_idx  (Intercept)  0.066  0.257\n",
      "subj_idx     accuracy  0.057  0.239\n",
      "movie     (Intercept)  0.030  0.174\n",
      "Residual               0.110  0.332\n",
      "\n",
      "                  IV1       IV2   Corr\n",
      "subj_idx  (Intercept)  accuracy -0.657\n",
      "\n",
      "Fixed effects:\n",
      "\n",
      "             Estimate  2.5_ci  97.5_ci     SE       DF  T-stat  P-val  Sig\n",
      "(Intercept)     0.058  -0.061    0.176  0.060   12.908   0.955  0.357     \n",
      "accuracy       -0.137  -0.186   -0.088  0.025  215.413  -5.483  0.000  ***\n"
     ]
    },
    {
     "output_type": "execute_result",
     "data": {
      "text/plain": [
       "(array([2.000e+00, 5.000e+00, 2.300e+01, 3.120e+02, 1.915e+03, 3.468e+03,\n",
       "        1.843e+03, 6.780e+02, 1.670e+02, 1.700e+01]),\n",
       " array([-1.72793118, -1.42103992, -1.11414866, -0.8072574 , -0.50036615,\n",
       "        -0.19347489,  0.11341637,  0.42030763,  0.72719889,  1.03409015,\n",
       "         1.34098141]),\n",
       " <BarContainer object of 10 artists>)"
      ]
     },
     "metadata": {},
     "execution_count": 171
    },
    {
     "output_type": "display_data",
     "data": {
      "image/png": "[encoded data removed]",
      "text/plain": [
       "<Figure size 432x288 with 1 Axes>"
      ]
     },
     "metadata": {
      "needs_background": "light"
     }
    }
   ],
   "metadata": {}
  },
  {
   "cell_type": "markdown",
   "source": [
    "not very different in terms of AIC from the model with response regressor. P-value is sig  and estimate negative\n",
    "meaning that correct responses have shorter RTs"
   ],
   "metadata": {}
  },
  {
   "cell_type": "markdown",
   "source": [
    "## 3. Uncertainty plots"
   ],
   "metadata": {}
  },
  {
   "cell_type": "code",
   "execution_count": 64,
   "source": [
    "# going back to the whole data with sure and unsure trials\n",
    "dat.head(10)"
   ],
   "outputs": [
    {
     "output_type": "execute_result",
     "data": {
      "text/html": [
       "<div>\n",
       "<style scoped>\n",
       "    .dataframe tbody tr th:only-of-type {\n",
       "        vertical-align: middle;\n",
       "    }\n",
       "\n",
       "    .dataframe tbody tr th {\n",
       "        vertical-align: top;\n",
       "    }\n",
       "\n",
       "    .dataframe thead th {\n",
       "        text-align: right;\n",
       "    }\n",
       "</style>\n",
       "<table border=\"1\" class=\"dataframe\">\n",
       "  <thead>\n",
       "    <tr style=\"text-align: right;\">\n",
       "      <th></th>\n",
       "      <th>subj_idx</th>\n",
       "      <th>stim</th>\n",
       "      <th>movie</th>\n",
       "      <th>rt</th>\n",
       "      <th>response</th>\n",
       "      <th>run</th>\n",
       "      <th>accuracy</th>\n",
       "    </tr>\n",
       "  </thead>\n",
       "  <tbody>\n",
       "    <tr>\n",
       "      <th>0</th>\n",
       "      <td>168745</td>\n",
       "      <td>Mental</td>\n",
       "      <td>Scaring.AVI</td>\n",
       "      <td>1.252</td>\n",
       "      <td>1</td>\n",
       "      <td>1</td>\n",
       "      <td>1.0</td>\n",
       "    </tr>\n",
       "    <tr>\n",
       "      <th>1</th>\n",
       "      <td>168745</td>\n",
       "      <td>Mental</td>\n",
       "      <td>SEDUCING-B.AVI</td>\n",
       "      <td>0.578</td>\n",
       "      <td>1</td>\n",
       "      <td>1</td>\n",
       "      <td>1.0</td>\n",
       "    </tr>\n",
       "    <tr>\n",
       "      <th>2</th>\n",
       "      <td>168745</td>\n",
       "      <td>Random</td>\n",
       "      <td>STAR-A.AVI</td>\n",
       "      <td>1.643</td>\n",
       "      <td>0</td>\n",
       "      <td>1</td>\n",
       "      <td>1.0</td>\n",
       "    </tr>\n",
       "    <tr>\n",
       "      <th>3</th>\n",
       "      <td>168745</td>\n",
       "      <td>Mental</td>\n",
       "      <td>SURPRISING-B.AVI</td>\n",
       "      <td>1.082</td>\n",
       "      <td>1</td>\n",
       "      <td>1</td>\n",
       "      <td>1.0</td>\n",
       "    </tr>\n",
       "    <tr>\n",
       "      <th>4</th>\n",
       "      <td>168745</td>\n",
       "      <td>Random</td>\n",
       "      <td>TENNIS-A.AVI</td>\n",
       "      <td>1.232</td>\n",
       "      <td>0</td>\n",
       "      <td>1</td>\n",
       "      <td>1.0</td>\n",
       "    </tr>\n",
       "    <tr>\n",
       "      <th>5</th>\n",
       "      <td>668361</td>\n",
       "      <td>Mental</td>\n",
       "      <td>COAXING-B.AVI</td>\n",
       "      <td>1.796</td>\n",
       "      <td>9</td>\n",
       "      <td>0</td>\n",
       "      <td>9.0</td>\n",
       "    </tr>\n",
       "    <tr>\n",
       "      <th>6</th>\n",
       "      <td>668361</td>\n",
       "      <td>Random</td>\n",
       "      <td>BILLIARD-A.AVI</td>\n",
       "      <td>1.254</td>\n",
       "      <td>0</td>\n",
       "      <td>0</td>\n",
       "      <td>1.0</td>\n",
       "    </tr>\n",
       "    <tr>\n",
       "      <th>7</th>\n",
       "      <td>668361</td>\n",
       "      <td>Random</td>\n",
       "      <td>DRIFTING-A.AVI</td>\n",
       "      <td>0.590</td>\n",
       "      <td>0</td>\n",
       "      <td>0</td>\n",
       "      <td>1.0</td>\n",
       "    </tr>\n",
       "    <tr>\n",
       "      <th>8</th>\n",
       "      <td>668361</td>\n",
       "      <td>Mental</td>\n",
       "      <td>Fishing.AVI</td>\n",
       "      <td>0.993</td>\n",
       "      <td>0</td>\n",
       "      <td>0</td>\n",
       "      <td>0.0</td>\n",
       "    </tr>\n",
       "    <tr>\n",
       "      <th>9</th>\n",
       "      <td>668361</td>\n",
       "      <td>Random</td>\n",
       "      <td>Random mechanical.AVI</td>\n",
       "      <td>0.816</td>\n",
       "      <td>0</td>\n",
       "      <td>0</td>\n",
       "      <td>1.0</td>\n",
       "    </tr>\n",
       "  </tbody>\n",
       "</table>\n",
       "</div>"
      ],
      "text/plain": [
       "   subj_idx    stim                  movie     rt  response  run  accuracy\n",
       "0    168745  Mental            Scaring.AVI  1.252         1    1       1.0\n",
       "1    168745  Mental         SEDUCING-B.AVI  0.578         1    1       1.0\n",
       "2    168745  Random             STAR-A.AVI  1.643         0    1       1.0\n",
       "3    168745  Mental       SURPRISING-B.AVI  1.082         1    1       1.0\n",
       "4    168745  Random           TENNIS-A.AVI  1.232         0    1       1.0\n",
       "5    668361  Mental          COAXING-B.AVI  1.796         9    0       9.0\n",
       "6    668361  Random         BILLIARD-A.AVI  1.254         0    0       1.0\n",
       "7    668361  Random         DRIFTING-A.AVI  0.590         0    0       1.0\n",
       "8    668361  Mental            Fishing.AVI  0.993         0    0       0.0\n",
       "9    668361  Random  Random mechanical.AVI  0.816         0    0       1.0"
      ]
     },
     "metadata": {},
     "execution_count": 64
    }
   ],
   "metadata": {}
  },
  {
   "cell_type": "code",
   "execution_count": 288,
   "source": [
    "certainty = np.ones(len(dat['response']))\n",
    "certainty = [1 if i != 9 else 0 for i in dat['response'].values]\n",
    "dat['certainty'] = certainty\n",
    "uncertainty = [0 if i != 9 else 1 for i in dat['response'].values]\n",
    "dat['uncertainty'] = uncertainty\n",
    "\n",
    "#dat = dat.assign(certainty)\n",
    "dat.head(10)"
   ],
   "outputs": [
    {
     "output_type": "execute_result",
     "data": {
      "text/html": [
       "<div>\n",
       "<style scoped>\n",
       "    .dataframe tbody tr th:only-of-type {\n",
       "        vertical-align: middle;\n",
       "    }\n",
       "\n",
       "    .dataframe tbody tr th {\n",
       "        vertical-align: top;\n",
       "    }\n",
       "\n",
       "    .dataframe thead th {\n",
       "        text-align: right;\n",
       "    }\n",
       "</style>\n",
       "<table border=\"1\" class=\"dataframe\">\n",
       "  <thead>\n",
       "    <tr style=\"text-align: right;\">\n",
       "      <th></th>\n",
       "      <th>subj_idx</th>\n",
       "      <th>stim</th>\n",
       "      <th>movie</th>\n",
       "      <th>rt</th>\n",
       "      <th>response</th>\n",
       "      <th>run</th>\n",
       "      <th>accuracy</th>\n",
       "      <th>certainty</th>\n",
       "      <th>uncertainty</th>\n",
       "    </tr>\n",
       "  </thead>\n",
       "  <tbody>\n",
       "    <tr>\n",
       "      <th>0</th>\n",
       "      <td>168745</td>\n",
       "      <td>Mental</td>\n",
       "      <td>Scaring.AVI</td>\n",
       "      <td>1.252</td>\n",
       "      <td>1</td>\n",
       "      <td>1</td>\n",
       "      <td>1.0</td>\n",
       "      <td>1</td>\n",
       "      <td>0</td>\n",
       "    </tr>\n",
       "    <tr>\n",
       "      <th>1</th>\n",
       "      <td>168745</td>\n",
       "      <td>Mental</td>\n",
       "      <td>SEDUCING-B.AVI</td>\n",
       "      <td>0.578</td>\n",
       "      <td>1</td>\n",
       "      <td>1</td>\n",
       "      <td>1.0</td>\n",
       "      <td>1</td>\n",
       "      <td>0</td>\n",
       "    </tr>\n",
       "    <tr>\n",
       "      <th>2</th>\n",
       "      <td>168745</td>\n",
       "      <td>Random</td>\n",
       "      <td>STAR-A.AVI</td>\n",
       "      <td>1.643</td>\n",
       "      <td>0</td>\n",
       "      <td>1</td>\n",
       "      <td>1.0</td>\n",
       "      <td>1</td>\n",
       "      <td>0</td>\n",
       "    </tr>\n",
       "    <tr>\n",
       "      <th>3</th>\n",
       "      <td>168745</td>\n",
       "      <td>Mental</td>\n",
       "      <td>SURPRISING-B.AVI</td>\n",
       "      <td>1.082</td>\n",
       "      <td>1</td>\n",
       "      <td>1</td>\n",
       "      <td>1.0</td>\n",
       "      <td>1</td>\n",
       "      <td>0</td>\n",
       "    </tr>\n",
       "    <tr>\n",
       "      <th>4</th>\n",
       "      <td>168745</td>\n",
       "      <td>Random</td>\n",
       "      <td>TENNIS-A.AVI</td>\n",
       "      <td>1.232</td>\n",
       "      <td>0</td>\n",
       "      <td>1</td>\n",
       "      <td>1.0</td>\n",
       "      <td>1</td>\n",
       "      <td>0</td>\n",
       "    </tr>\n",
       "    <tr>\n",
       "      <th>5</th>\n",
       "      <td>668361</td>\n",
       "      <td>Mental</td>\n",
       "      <td>COAXING-B.AVI</td>\n",
       "      <td>1.796</td>\n",
       "      <td>9</td>\n",
       "      <td>0</td>\n",
       "      <td>9.0</td>\n",
       "      <td>0</td>\n",
       "      <td>1</td>\n",
       "    </tr>\n",
       "    <tr>\n",
       "      <th>6</th>\n",
       "      <td>668361</td>\n",
       "      <td>Random</td>\n",
       "      <td>BILLIARD-A.AVI</td>\n",
       "      <td>1.254</td>\n",
       "      <td>0</td>\n",
       "      <td>0</td>\n",
       "      <td>1.0</td>\n",
       "      <td>1</td>\n",
       "      <td>0</td>\n",
       "    </tr>\n",
       "    <tr>\n",
       "      <th>7</th>\n",
       "      <td>668361</td>\n",
       "      <td>Random</td>\n",
       "      <td>DRIFTING-A.AVI</td>\n",
       "      <td>0.590</td>\n",
       "      <td>0</td>\n",
       "      <td>0</td>\n",
       "      <td>1.0</td>\n",
       "      <td>1</td>\n",
       "      <td>0</td>\n",
       "    </tr>\n",
       "    <tr>\n",
       "      <th>8</th>\n",
       "      <td>668361</td>\n",
       "      <td>Mental</td>\n",
       "      <td>Fishing.AVI</td>\n",
       "      <td>0.993</td>\n",
       "      <td>0</td>\n",
       "      <td>0</td>\n",
       "      <td>0.0</td>\n",
       "      <td>1</td>\n",
       "      <td>0</td>\n",
       "    </tr>\n",
       "    <tr>\n",
       "      <th>9</th>\n",
       "      <td>668361</td>\n",
       "      <td>Random</td>\n",
       "      <td>Random mechanical.AVI</td>\n",
       "      <td>0.816</td>\n",
       "      <td>0</td>\n",
       "      <td>0</td>\n",
       "      <td>1.0</td>\n",
       "      <td>1</td>\n",
       "      <td>0</td>\n",
       "    </tr>\n",
       "  </tbody>\n",
       "</table>\n",
       "</div>"
      ],
      "text/plain": [
       "   subj_idx    stim                  movie     rt  response  run  accuracy  \\\n",
       "0    168745  Mental            Scaring.AVI  1.252         1    1       1.0   \n",
       "1    168745  Mental         SEDUCING-B.AVI  0.578         1    1       1.0   \n",
       "2    168745  Random             STAR-A.AVI  1.643         0    1       1.0   \n",
       "3    168745  Mental       SURPRISING-B.AVI  1.082         1    1       1.0   \n",
       "4    168745  Random           TENNIS-A.AVI  1.232         0    1       1.0   \n",
       "5    668361  Mental          COAXING-B.AVI  1.796         9    0       9.0   \n",
       "6    668361  Random         BILLIARD-A.AVI  1.254         0    0       1.0   \n",
       "7    668361  Random         DRIFTING-A.AVI  0.590         0    0       1.0   \n",
       "8    668361  Mental            Fishing.AVI  0.993         0    0       0.0   \n",
       "9    668361  Random  Random mechanical.AVI  0.816         0    0       1.0   \n",
       "\n",
       "   certainty  uncertainty  \n",
       "0          1            0  \n",
       "1          1            0  \n",
       "2          1            0  \n",
       "3          1            0  \n",
       "4          1            0  \n",
       "5          0            1  \n",
       "6          1            0  \n",
       "7          1            0  \n",
       "8          1            0  \n",
       "9          1            0  "
      ]
     },
     "metadata": {},
     "execution_count": 288
    }
   ],
   "metadata": {}
  },
  {
   "cell_type": "code",
   "execution_count": 66,
   "source": [
    "stim_mean = data_sure.groupby(['movie']).mean().response # this shouldn't include unsure data\n",
    "stim_mean.shape"
   ],
   "outputs": [
    {
     "output_type": "execute_result",
     "data": {
      "text/plain": [
       "(10,)"
      ]
     },
     "metadata": {},
     "execution_count": 66
    }
   ],
   "metadata": {}
  },
  {
   "cell_type": "code",
   "execution_count": 68,
   "source": [
    "n = len(vid_names[\"run1\"])+len(vid_names[\"run2\"])\n",
    "socialness = np.zeros(len(dat['response']))\n",
    "for m in range(n):\n",
    "    rows = np.where(dat[\"movie\"] == stim_mean.index[m])[0]\n",
    "    socialness[rows] = stim_mean[m]\n",
    "dat['socialness'] = socialness # add new column\n",
    "dat.head()"
   ],
   "outputs": [
    {
     "output_type": "execute_result",
     "data": {
      "text/html": [
       "<div>\n",
       "<style scoped>\n",
       "    .dataframe tbody tr th:only-of-type {\n",
       "        vertical-align: middle;\n",
       "    }\n",
       "\n",
       "    .dataframe tbody tr th {\n",
       "        vertical-align: top;\n",
       "    }\n",
       "\n",
       "    .dataframe thead th {\n",
       "        text-align: right;\n",
       "    }\n",
       "</style>\n",
       "<table border=\"1\" class=\"dataframe\">\n",
       "  <thead>\n",
       "    <tr style=\"text-align: right;\">\n",
       "      <th></th>\n",
       "      <th>subj_idx</th>\n",
       "      <th>stim</th>\n",
       "      <th>movie</th>\n",
       "      <th>rt</th>\n",
       "      <th>response</th>\n",
       "      <th>run</th>\n",
       "      <th>accuracy</th>\n",
       "      <th>certainty</th>\n",
       "      <th>uncertainty</th>\n",
       "      <th>socialness</th>\n",
       "    </tr>\n",
       "  </thead>\n",
       "  <tbody>\n",
       "    <tr>\n",
       "      <th>0</th>\n",
       "      <td>168745</td>\n",
       "      <td>Mental</td>\n",
       "      <td>Scaring.AVI</td>\n",
       "      <td>1.252</td>\n",
       "      <td>1</td>\n",
       "      <td>1</td>\n",
       "      <td>1.0</td>\n",
       "      <td>1</td>\n",
       "      <td>0</td>\n",
       "      <td>0.964824</td>\n",
       "    </tr>\n",
       "    <tr>\n",
       "      <th>1</th>\n",
       "      <td>168745</td>\n",
       "      <td>Mental</td>\n",
       "      <td>SEDUCING-B.AVI</td>\n",
       "      <td>0.578</td>\n",
       "      <td>1</td>\n",
       "      <td>1</td>\n",
       "      <td>1.0</td>\n",
       "      <td>1</td>\n",
       "      <td>0</td>\n",
       "      <td>0.981057</td>\n",
       "    </tr>\n",
       "    <tr>\n",
       "      <th>2</th>\n",
       "      <td>168745</td>\n",
       "      <td>Random</td>\n",
       "      <td>STAR-A.AVI</td>\n",
       "      <td>1.643</td>\n",
       "      <td>0</td>\n",
       "      <td>1</td>\n",
       "      <td>1.0</td>\n",
       "      <td>1</td>\n",
       "      <td>0</td>\n",
       "      <td>0.043433</td>\n",
       "    </tr>\n",
       "    <tr>\n",
       "      <th>3</th>\n",
       "      <td>168745</td>\n",
       "      <td>Mental</td>\n",
       "      <td>SURPRISING-B.AVI</td>\n",
       "      <td>1.082</td>\n",
       "      <td>1</td>\n",
       "      <td>1</td>\n",
       "      <td>1.0</td>\n",
       "      <td>1</td>\n",
       "      <td>0</td>\n",
       "      <td>0.983317</td>\n",
       "    </tr>\n",
       "    <tr>\n",
       "      <th>4</th>\n",
       "      <td>168745</td>\n",
       "      <td>Random</td>\n",
       "      <td>TENNIS-A.AVI</td>\n",
       "      <td>1.232</td>\n",
       "      <td>0</td>\n",
       "      <td>1</td>\n",
       "      <td>1.0</td>\n",
       "      <td>1</td>\n",
       "      <td>0</td>\n",
       "      <td>0.055879</td>\n",
       "    </tr>\n",
       "  </tbody>\n",
       "</table>\n",
       "</div>"
      ],
      "text/plain": [
       "   subj_idx    stim             movie     rt  response  run  accuracy  \\\n",
       "0    168745  Mental       Scaring.AVI  1.252         1    1       1.0   \n",
       "1    168745  Mental    SEDUCING-B.AVI  0.578         1    1       1.0   \n",
       "2    168745  Random        STAR-A.AVI  1.643         0    1       1.0   \n",
       "3    168745  Mental  SURPRISING-B.AVI  1.082         1    1       1.0   \n",
       "4    168745  Random      TENNIS-A.AVI  1.232         0    1       1.0   \n",
       "\n",
       "   certainty  uncertainty  socialness  \n",
       "0          1            0    0.964824  \n",
       "1          1            0    0.981057  \n",
       "2          1            0    0.043433  \n",
       "3          1            0    0.983317  \n",
       "4          1            0    0.055879  "
      ]
     },
     "metadata": {},
     "execution_count": 68
    }
   ],
   "metadata": {}
  },
  {
   "cell_type": "code",
   "execution_count": 141,
   "source": [
    "# certainty of responses as a function of perceived socialness\n",
    "model = Lmer('certainty ~  socialness +(socialness|subj_idx) + (1|movie)', data=dat,family = \"binomial\") # ff: mean response, rf:subjID\n",
    "print(model.fit())\n",
    "#sns.regplot(x= 'response',y= 'residuals', data= model.data, fit_reg= False)\n",
    "plt.hist(model.residuals)"
   ],
   "outputs": [
    {
     "output_type": "stream",
     "name": "stdout",
     "text": [
      "Formula: certainty~socialness+(socialness|subj_idx)+(1|movie)\n",
      "\n",
      "Family: binomial\t Inference: parametric\n",
      "\n",
      "Number of observations: 9948\t Groups: {'subj_idx': 1050.0, 'movie': 10.0}\n",
      "\n",
      "Log-likelihood: -2119.136 \t AIC: 4250.272\n",
      "\n",
      "Random effects:\n",
      "\n",
      "                 Name    Var    Std\n",
      "subj_idx  (Intercept)  0.976  0.988\n",
      "subj_idx   socialness  0.766  0.875\n",
      "movie     (Intercept)  0.577  0.760\n",
      "\n",
      "                  IV1         IV2  Corr\n",
      "subj_idx  (Intercept)  socialness -0.54\n",
      "\n",
      "Fixed effects:\n",
      "\n",
      "             Estimate  2.5_ci  97.5_ci     SE      OR  OR_2.5_ci  OR_97.5_ci  \\\n",
      "(Intercept)     2.646   1.922    3.370  0.370  14.098      6.832      29.092   \n",
      "socialness      1.467   0.380    2.554  0.554   4.336      1.462      12.854   \n",
      "\n",
      "              Prob  Prob_2.5_ci  Prob_97.5_ci  Z-stat  P-val  Sig  \n",
      "(Intercept)  0.934        0.872         0.967   7.159  0.000  ***  \n",
      "socialness   0.813        0.594         0.928   2.645  0.008   **  \n"
     ]
    },
    {
     "output_type": "execute_result",
     "data": {
      "text/plain": [
       "(array([4.000e+01, 1.620e+02, 3.270e+02, 9.500e+01, 1.600e+01, 1.000e+00,\n",
       "        0.000e+00, 8.035e+03, 1.233e+03, 3.900e+01]),\n",
       " array([-2.93294977, -2.50620858, -2.0794674 , -1.65272621, -1.22598502,\n",
       "        -0.79924384, -0.37250265,  0.05423853,  0.48097972,  0.9077209 ,\n",
       "         1.33446209]),\n",
       " <BarContainer object of 10 artists>)"
      ]
     },
     "metadata": {},
     "execution_count": 141
    },
    {
     "output_type": "display_data",
     "data": {
      "image/png": "[encoded data removed]",
      "text/plain": [
       "<Figure size 432x288 with 1 Axes>"
      ]
     },
     "metadata": {
      "needs_background": "light"
     }
    }
   ],
   "metadata": {}
  },
  {
   "cell_type": "code",
   "execution_count": 144,
   "source": [
    "# certainty as a function of stimtype\n",
    "model = Lmer('certainty ~  stim +(stim|subj_idx) + (1|movie)', data=dat,family = \"binomial\") # ff: mean response, rf:subjID\n",
    "#print(model.fit(factors={\"stim\":[\"Random\",\"Mental\"]}))\n",
    "print(model.fit())\n",
    "#sns.regplot(x= 'response',y= 'residuals', data= model.data, fit_reg= False)\n",
    "plt.hist(model.residuals)"
   ],
   "outputs": [
    {
     "output_type": "stream",
     "name": "stdout",
     "text": [
      "Formula: certainty~stim+(stim|subj_idx)+(1|movie)\n",
      "\n",
      "Family: binomial\t Inference: parametric\n",
      "\n",
      "Number of observations: 9948\t Groups: {'subj_idx': 1050.0, 'movie': 10.0}\n",
      "\n",
      "Log-likelihood: -2119.181 \t AIC: 4250.363\n",
      "\n",
      "Random effects:\n",
      "\n",
      "                 Name    Var    Std\n",
      "subj_idx  (Intercept)  0.833  0.912\n",
      "subj_idx   stimRandom  0.626  0.791\n",
      "movie     (Intercept)  0.560  0.748\n",
      "\n",
      "                  IV1         IV2   Corr\n",
      "subj_idx  (Intercept)  stimRandom -0.382\n",
      "\n",
      "Fixed effects:\n",
      "\n",
      "             Estimate  2.5_ci  97.5_ci     SE      OR  OR_2.5_ci  OR_97.5_ci  \\\n",
      "(Intercept)     4.083   3.371    4.796  0.364  59.336     29.096     121.003   \n",
      "stimRandom     -1.373  -2.350   -0.396  0.499   0.253      0.095       0.673   \n",
      "\n",
      "              Prob  Prob_2.5_ci  Prob_97.5_ci  Z-stat  P-val  Sig  \n",
      "(Intercept)  0.983        0.967         0.992  11.231  0.000  ***  \n",
      "stimRandom   0.202        0.087         0.402  -2.753  0.006   **  \n"
     ]
    },
    {
     "output_type": "execute_result",
     "data": {
      "text/plain": [
       "(array([3.800e+01, 1.340e+02, 2.430e+02, 2.100e+02, 1.500e+01, 1.000e+00,\n",
       "        0.000e+00, 8.030e+03, 1.238e+03, 3.900e+01]),\n",
       " array([-2.93187413, -2.50715138, -2.08242863, -1.65770587, -1.23298312,\n",
       "        -0.80826037, -0.38353761,  0.04118514,  0.46590789,  0.89063065,\n",
       "         1.3153534 ]),\n",
       " <BarContainer object of 10 artists>)"
      ]
     },
     "metadata": {},
     "execution_count": 144
    },
    {
     "output_type": "display_data",
     "data": {
      "image/png": "[encoded data removed]",
      "text/plain": [
       "<Figure size 432x288 with 1 Axes>"
      ]
     },
     "metadata": {
      "needs_background": "light"
     }
    }
   ],
   "metadata": {}
  },
  {
   "cell_type": "code",
   "execution_count": 289,
   "source": [
    "# certainty as a function of stimtype\n",
    "model = Lmer('uncertainty ~  stim +(stim|subj_idx) + (1|movie)', data=dat,family = \"binomial\") # ff: mean response, rf:subjID\n",
    "print(model.fit(factors={\"stim\":[\"Random\",\"Mental\"]}))\n",
    "#print(model.fit())\n",
    "#sns.regplot(x= 'response',y= 'residuals', data= model.data, fit_reg= False)\n",
    "plt.hist(model.residuals)"
   ],
   "outputs": [
    {
     "output_type": "stream",
     "name": "stdout",
     "text": [
      "Formula: uncertainty~stim+(stim|subj_idx)+(1|movie)\n",
      "\n",
      "Family: binomial\t Inference: parametric\n",
      "\n",
      "Number of observations: 9948\t Groups: {'subj_idx': 1050.0, 'movie': 10.0}\n",
      "\n",
      "Log-likelihood: -2119.179 \t AIC: 4250.358\n",
      "\n",
      "Random effects:\n",
      "\n",
      "                 Name    Var    Std\n",
      "subj_idx  (Intercept)  0.905  0.952\n",
      "subj_idx   stimMental  0.627  0.792\n",
      "movie     (Intercept)  0.560  0.748\n",
      "\n",
      "                  IV1         IV2   Corr\n",
      "subj_idx  (Intercept)  stimMental -0.462\n",
      "\n",
      "Fixed effects:\n",
      "\n",
      "             Estimate  2.5_ci  97.5_ci     SE     OR  OR_2.5_ci  OR_97.5_ci  \\\n",
      "(Intercept)    -2.710  -3.383   -2.037  0.343  0.067      0.034       0.130   \n",
      "stim1          -1.375  -2.352   -0.398  0.499  0.253      0.095       0.672   \n",
      "\n",
      "              Prob  Prob_2.5_ci  Prob_97.5_ci  Z-stat  P-val  Sig  \n",
      "(Intercept)  0.062        0.033         0.115  -7.891  0.000  ***  \n",
      "stim1        0.202        0.087         0.402  -2.759  0.006   **  \n"
     ]
    },
    {
     "output_type": "execute_result",
     "data": {
      "text/plain": [
       "(array([3.900e+01, 1.239e+03, 8.029e+03, 0.000e+00, 1.000e+00, 1.500e+01,\n",
       "        2.100e+02, 2.420e+02, 1.350e+02, 3.800e+01]),\n",
       " array([-1.31489627, -0.89027337, -0.46565046, -0.04102756,  0.38359535,\n",
       "         0.80821826,  1.23284116,  1.65746407,  2.08208697,  2.50670988,\n",
       "         2.93133278]),\n",
       " <BarContainer object of 10 artists>)"
      ]
     },
     "metadata": {},
     "execution_count": 289
    },
    {
     "output_type": "display_data",
     "data": {
      "image/png": "[encoded data removed]",
      "text/plain": [
       "<Figure size 432x288 with 1 Axes>"
      ]
     },
     "metadata": {
      "needs_background": "light"
     }
    }
   ],
   "metadata": {}
  },
  {
   "cell_type": "markdown",
   "source": [
    "In both the analyses above, the regressors where significant indicating that response certainty can be predicted from binary stimType or continuous (based on general consensus) socialness"
   ],
   "metadata": {}
  },
  {
   "cell_type": "code",
   "execution_count": 159,
   "source": [
    "print('Mental')\n",
    "for q in [.25,.5,.75]:\n",
    "    print(np.quantile(summary['Mental'],q))\n",
    "print('Random')\n",
    "for q in [.25,.5,.75]:\n",
    "    print(np.quantile(summary['Random'],q))"
   ],
   "outputs": [
    {
     "output_type": "stream",
     "name": "stdout",
     "text": [
      "Mental\n",
      "0.0\n",
      "0.0\n",
      "0.0\n",
      "Random\n",
      "0.0\n",
      "0.0\n",
      "20.0\n"
     ]
    }
   ],
   "metadata": {}
  },
  {
   "cell_type": "code",
   "execution_count": 290,
   "source": [
    "#plt.figure(1,figsize = (3,3))\n",
    "fig,ax=plt.subplots(figsize = (4,4))\n",
    "summary = 100*dat.groupby(['subj_idx','stim']).mean().uncertainty.unstack(level=-1)\n",
    "cols = summary.columns.tolist()\n",
    "cols = cols[-1:] + cols[:-1]\n",
    "summary = summary[cols]\n",
    "summary = summary.loc[(~np.isnan(summary['Random'])&(~np.isnan(summary['Mental']))),:]\n",
    "print(summary.head())\n",
    "mn = summary.mean()\n",
    "sem = summary.sem()\n",
    "\n",
    "bp1 = box_plot(summary['Random'], 'grey', 'tan',0,True)\n",
    "bp2 = box_plot(summary['Mental'], 'black', 'cyan',1,True)\n",
    "\n",
    "'''for i in range(rts_per_subj.shape[0]):\n",
    "    plt.plot(range(2),rts_per_subj.iloc[i,:2],color='k',alpha=.1,label = 'subject')\n",
    "    if i ==0:\n",
    "        plt.legend(bbox_to_anchor=(1.05,1))'''\n",
    "\n",
    "        \n",
    "#Figure 1c in the submitted OHBM abstract\n",
    "#sns.barplot(data=summary,alpha=.5,edgecolor='k')\n",
    "plt.xticks((0,1),('Random','Mental'))\n",
    "plt.xlabel('')\n",
    "plt.ylabel(\"Unsure responses\\n(in percent)\")\n",
    "#plt.title('Unsure responses',fontweight='bold')"
   ],
   "outputs": [
    {
     "output_type": "stream",
     "name": "stdout",
     "text": [
      "stim      Random  Mental\n",
      "subj_idx                \n",
      "100206       0.0     0.0\n",
      "100307       0.0    20.0\n",
      "100408      20.0     0.0\n",
      "100610       0.0     0.0\n",
      "101006      25.0     0.0\n"
     ]
    },
    {
     "output_type": "execute_result",
     "data": {
      "text/plain": [
       "Text(0, 0.5, 'Unsure responses\\n(in percent)')"
      ]
     },
     "metadata": {},
     "execution_count": 290
    },
    {
     "output_type": "display_data",
     "data": {
      "image/png": "[encoded data removed]",
      "text/plain": [
       "<Figure size 288x288 with 1 Axes>"
      ]
     },
     "metadata": {
      "needs_background": "light"
     }
    }
   ],
   "metadata": {
    "scrolled": true
   }
  },
  {
   "cell_type": "code",
   "execution_count": 293,
   "source": [
    "dat.shape"
   ],
   "outputs": [
    {
     "output_type": "execute_result",
     "data": {
      "text/plain": [
       "(9948, 9)"
      ]
     },
     "metadata": {},
     "execution_count": 293
    }
   ],
   "metadata": {}
  },
  {
   "cell_type": "code",
   "execution_count": 291,
   "source": [
    "# certainty as a function of stimtype\n",
    "model = Lmer('uncertainty ~  stim +(stim|subj_idx)', data=dat,family = \"binomial\") # ff: mean response, rf:subjID\n",
    "print(model.fit(factors={\"stim\":[\"Random\",\"Mental\"]}))\n",
    "#print(model.fit())\n",
    "#sns.regplot(x= 'response',y= 'residuals', data= model.data, fit_reg= False)\n",
    "#plt.hist(model.residuals)"
   ],
   "outputs": [
    {
     "output_type": "stream",
     "name": "stdout",
     "text": [
      "Formula: uncertainty~stim+(stim|subj_idx)\n",
      "\n",
      "Family: binomial\t Inference: parametric\n",
      "\n",
      "Number of observations: 9948\t Groups: {'subj_idx': 1050.0}\n",
      "\n",
      "Log-likelihood: -2249.163 \t AIC: 4508.326\n",
      "\n",
      "Random effects:\n",
      "\n",
      "                 Name    Var    Std\n",
      "subj_idx  (Intercept)  0.889  0.943\n",
      "subj_idx   stimMental  2.737  1.654\n",
      "\n",
      "                  IV1         IV2   Corr\n",
      "subj_idx  (Intercept)  stimMental -0.349\n",
      "\n",
      "Fixed effects:\n",
      "\n",
      "             Estimate  2.5_ci  97.5_ci     SE     OR  OR_2.5_ci  OR_97.5_ci  \\\n",
      "(Intercept)    -2.571  -2.740   -2.402  0.086  0.076      0.065       0.091   \n",
      "stim1          -1.796  -2.292   -1.300  0.253  0.166      0.101       0.273   \n",
      "\n",
      "              Prob  Prob_2.5_ci  Prob_97.5_ci  Z-stat  P-val  Sig  \n",
      "(Intercept)  0.071        0.061         0.083 -29.745    0.0  ***  \n",
      "stim1        0.142        0.092         0.214  -7.093    0.0  ***  \n"
     ]
    }
   ],
   "metadata": {}
  },
  {
   "cell_type": "code",
   "execution_count": 148,
   "source": [
    "# Alternate version of the last plot showing individual values\n",
    "fig,ax = plt.subplots(figsize = (4,4))\n",
    "summary = dat.groupby(['subj_idx','stim']).mean()\n",
    "print(summary.reset_index().groupby('stim').mean().certainty)\n",
    "sns.lineplot(data=summary, x=\"stim\", y=\"certainty\", style=\"subj_idx\",legend = False, alpha = 0.05)\n",
    "plt.plot(summary.reset_index().groupby('stim').mean().certainty, color = 'black', marker = 'o')\n",
    "#summary.plot(x=\"stim\",y=\"response\", stacked = True)\n",
    "#ax.set_xticks((0,1))\n",
    "#ax.set_xticklabels(('No','Yes'), fontsize = 'x-large')\n",
    "#ax.set_ylabel(\"RT\", fontsize = 'x-large')"
   ],
   "outputs": [
    {
     "output_type": "stream",
     "name": "stdout",
     "text": [
      "stim\n",
      "Mental    0.966444\n",
      "Random    0.902034\n",
      "Name: certainty, dtype: float64\n"
     ]
    },
    {
     "output_type": "execute_result",
     "data": {
      "text/plain": [
       "[<matplotlib.lines.Line2D at 0x7f96b6e88710>]"
      ]
     },
     "metadata": {},
     "execution_count": 148
    },
    {
     "output_type": "display_data",
     "data": {
      "image/png": "[encoded data removed]",
      "text/plain": [
       "<Figure size 288x288 with 1 Axes>"
      ]
     },
     "metadata": {
      "needs_background": "light"
     }
    }
   ],
   "metadata": {}
  },
  {
   "cell_type": "code",
   "execution_count": 161,
   "source": [
    "#RT across mean socialness values (or movies)\n",
    "fig,ax = plt.subplots(figsize = (10,5))\n",
    "sns.violinplot(x=\"movie\",y=\"rt\",data=data_sure, ax=ax)\n",
    "ax.set_xticks(range(10))\n",
    "ax.set_xlabel('movies',fontsize = 12)\n",
    "ax.set_ylabel('RT',fontsize = 12)\n",
    "ax.axhline(0, linestyle='--')"
   ],
   "outputs": [
    {
     "output_type": "execute_result",
     "data": {
      "text/plain": [
       "<matplotlib.lines.Line2D at 0x7f9644863510>"
      ]
     },
     "metadata": {},
     "execution_count": 161
    },
    {
     "output_type": "display_data",
     "data": {
      "image/png": "[encoded data removed]",
      "text/plain": [
       "<Figure size 720x360 with 1 Axes>"
      ]
     },
     "metadata": {
      "needs_background": "light"
     }
    }
   ],
   "metadata": {}
  },
  {
   "cell_type": "markdown",
   "source": [
    "# Extra code"
   ],
   "metadata": {}
  },
  {
   "cell_type": "code",
   "execution_count": 249,
   "source": [
    "fig = plt.figure(1, figsize=(4,2))\n",
    "\n",
    "data = counts_per_subj['Soc-NonSoc_pc'].values\n",
    "_, bins, _ = plt.hist(data, 12, density=1, alpha=0.5,color = 'grey',label = 'nSoc-\\nnNonSoc', align = 'mid',edgecolor = 'k')\n",
    "#plt.hist(data,bins=bins)\n",
    "\n",
    "mu, sigma = scipy.stats.norm.fit(data)\n",
    "xmin,xmax = plt.xlim()\n",
    "x =  np.linspace(xmin,xmax,20)\n",
    "best_fit_line = scipy.stats.norm.pdf(x, mu, sigma)\n",
    "plt.plot(x, best_fit_line, color = 'k',label = 'Best fit line', marker = 'o')\n",
    "ymin,ymax = plt.ylim()\n",
    "plt.vlines(mu,ymin,ymax,color = 'g',label = 'Mean')\n",
    "plt.vlines(0,ymin,ymax,color = 'k',label = 'Zero',ls = 'dashed')\n",
    "plt.xlabel('Nr.Social-\\nNonSocial responses per sub.')\n",
    "#plt.xticks([-5,-3,-1,0,1,3,5,7], rotation=30)\n",
    "plt.ylabel('Density')\n",
    "plt.legend(bbox_to_anchor = [1,1.05])\n",
    "\n",
    "plt.figure(2, figsize=(4,2))\n",
    "\n",
    "sns.boxplot(x=data)\n",
    "#sns.boxplot(x=\"diff\", data = cols)\n",
    "ymin,ymax = plt.ylim()\n",
    "plt.vlines(0,ymin,ymax,color = 'k',label = 'Zero',ls = 'dashed')\n",
    "plt.xlabel('nSoc-nNonSoc per sub.')\n",
    "\n",
    "plt.figure(3, figsize=(4,2))\n",
    "sns.stripplot(x = \"diff\", data = counts_per_subj, color = 'k',  alpha = .1)\n",
    "\n"
   ],
   "outputs": [
    {
     "output_type": "execute_result",
     "data": {
      "text/plain": [
       "<AxesSubplot:xlabel='diff'>"
      ]
     },
     "metadata": {},
     "execution_count": 249
    },
    {
     "output_type": "display_data",
     "data": {
      "image/png": "[encoded data removed]",
      "text/plain": [
       "<Figure size 288x144 with 1 Axes>"
      ]
     },
     "metadata": {
      "needs_background": "light"
     }
    },
    {
     "output_type": "display_data",
     "data": {
      "image/png": "[encoded data removed]",
      "text/plain": [
       "<Figure size 288x144 with 1 Axes>"
      ]
     },
     "metadata": {
      "needs_background": "light"
     }
    },
    {
     "output_type": "display_data",
     "data": {
      "image/png": "[encoded data removed]",
      "text/plain": [
       "<Figure size 288x144 with 1 Axes>"
      ]
     },
     "metadata": {
      "needs_background": "light"
     }
    }
   ],
   "metadata": {}
  },
  {
   "cell_type": "markdown",
   "source": [],
   "metadata": {}
  }
 ],
 "metadata": {
  "kernelspec": {
   "name": "python3",
   "display_name": "Python 3.7.9 64-bit ('py37': conda)"
  },
  "language_info": {
   "codemirror_mode": {
    "name": "ipython",
    "version": 3
   },
   "file_extension": ".py",
   "mimetype": "text/x-python",
   "name": "python",
   "nbconvert_exporter": "python",
   "pygments_lexer": "ipython3",
   "version": "3.7.9"
  },
  "interpreter": {
   "hash": "30fd9c97283ec1278eec212a8f8afab06ad903f38228c32cacb469eba8e56f4f"
  }
 },
 "nbformat": 4,
 "nbformat_minor": 4
}