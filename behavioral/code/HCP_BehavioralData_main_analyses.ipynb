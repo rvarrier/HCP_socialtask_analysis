{
 "cells": [
  {
   "cell_type": "markdown",
   "source": [
    "# Analysis of HCP behavioral dataset\n",
    "\n",
    "Rekha Varrier, main analyses Nov 2020 - Jan 2021.\n",
    "- Some of the results were presented in an OHBM 2021 and 2022 poster, and are now published in JNeuro November edition.\n",
    "\n",
    "\n",
    "Note: every reference to \"fullDat\" was a parallel analysis performed without one of the exclusion criteria (removing trials with RT < 100ms) and was performed in response to a reviewer question."
   ],
   "metadata": {}
  },
  {
   "cell_type": "markdown",
   "source": [
    "Below are the steps to analyse the behavioral data of the HCP social task"
   ],
   "metadata": {}
  },
  {
   "cell_type": "code",
   "execution_count": 1,
   "source": [
    "#Importing data and packages, creating convenient variables\n",
    "#%reset\n",
    "import os\n",
    "from pathlib import Path\n",
    "import pandas as pd\n",
    "import numpy as np\n",
    "import scipy.stats as stats\n",
    "import seaborn as sns\n",
    "import matplotlib.pyplot as plt\n",
    "import scipy\n",
    "%matplotlib inline\n",
    "\n",
    "\n",
    "folder = os.getcwd()\n",
    "print('current dir: ',folder)\n",
    "path = Path(folder)\n",
    "parent_folder = path.parent\n",
    "file_loc = os.path.join(parent_folder,'data')\n",
    "print('data folder:',file_loc)\n",
    "#old_dataFile  = os.path.join(file_loc,'hcp_social_behav_for_ddm_stim-coding.csv')\n",
    "dataFile  = os.path.join(file_loc,'hcp_social_behav_for_ddm_stim-coding_corrected.csv')"
   ],
   "outputs": [
    {
     "output_type": "stream",
     "name": "stdout",
     "text": [
      "current dir:  /Users/f0053cz/Dropbox (Dartmouth College)/postdoc_Dartmouth/HCP/BehaviorAnalyses/Documented scripts/code\n",
      "data folder: /Users/f0053cz/Dropbox (Dartmouth College)/postdoc_Dartmouth/HCP/BehaviorAnalyses/Documented scripts/data\n"
     ]
    }
   ],
   "metadata": {}
  },
  {
   "cell_type": "code",
   "execution_count": 2,
   "source": [
    "\n",
    "vid_names = {}\n",
    "vid_names[\"run1\"] = [\"COAXING-B\", \"BILLIARD-A\", \"DRIFTING-A\", \"Fishing\", \"Random mechanical\"]\n",
    "vid_names[\"run2\"] = [\"Scaring\", \"SEDUCING-B\", \"STAR-A\", \"SURPRISING-B\", \"TENNIS-A\"]\n",
    "vid_joined = [\"COAXING-B\", \"BILLIARD-A\", \"DRIFTING-A\", \"Fishing\", \"Random mechanical\",\"Scaring\", \"SEDUCING-B\", \"STAR-A\", \"SURPRISING-B\", \"TENNIS-A\"]\n",
    "\n",
    "# read data and assign each row a run number based on the movie (movies were not randomized in the HCP study)\n",
    "dat = pd.read_csv(dataFile)# , index_col = \"subj_idx\")\n",
    "#dat_old = pd.read_csv(old_dataFile) # to compare with the old version\n",
    "dat[\"run\"] = [\"run2\" if x.split('.')[0] in vid_names[\"run1\"] else \"run1\" for x in dat[\"movie\"]]\n",
    "dat[\"run\"] = [0 if x.split('.')[0] in vid_names[\"run1\"] else 1 for x in dat[\"movie\"]]\n",
    "\n",
    "print(\"n=\",len(np.unique(dat[\"subj_idx\"])))\n",
    "dat.head(10) "
   ],
   "outputs": [
    {
     "output_type": "stream",
     "name": "stdout",
     "text": [
      "n= 1051\n"
     ]
    },
    {
     "output_type": "execute_result",
     "data": {
      "text/html": [
       "<div>\n",
       "<style scoped>\n",
       "    .dataframe tbody tr th:only-of-type {\n",
       "        vertical-align: middle;\n",
       "    }\n",
       "\n",
       "    .dataframe tbody tr th {\n",
       "        vertical-align: top;\n",
       "    }\n",
       "\n",
       "    .dataframe thead th {\n",
       "        text-align: right;\n",
       "    }\n",
       "</style>\n",
       "<table border=\"1\" class=\"dataframe\">\n",
       "  <thead>\n",
       "    <tr style=\"text-align: right;\">\n",
       "      <th></th>\n",
       "      <th>subj_idx</th>\n",
       "      <th>stim</th>\n",
       "      <th>movie</th>\n",
       "      <th>rt</th>\n",
       "      <th>response</th>\n",
       "      <th>run</th>\n",
       "    </tr>\n",
       "  </thead>\n",
       "  <tbody>\n",
       "    <tr>\n",
       "      <th>0</th>\n",
       "      <td>168745</td>\n",
       "      <td>Mental</td>\n",
       "      <td>Scaring.AVI</td>\n",
       "      <td>1.252</td>\n",
       "      <td>1</td>\n",
       "      <td>1</td>\n",
       "    </tr>\n",
       "    <tr>\n",
       "      <th>1</th>\n",
       "      <td>168745</td>\n",
       "      <td>Mental</td>\n",
       "      <td>SEDUCING-B.AVI</td>\n",
       "      <td>0.578</td>\n",
       "      <td>1</td>\n",
       "      <td>1</td>\n",
       "    </tr>\n",
       "    <tr>\n",
       "      <th>2</th>\n",
       "      <td>168745</td>\n",
       "      <td>Random</td>\n",
       "      <td>STAR-A.AVI</td>\n",
       "      <td>1.643</td>\n",
       "      <td>0</td>\n",
       "      <td>1</td>\n",
       "    </tr>\n",
       "    <tr>\n",
       "      <th>3</th>\n",
       "      <td>168745</td>\n",
       "      <td>Mental</td>\n",
       "      <td>SURPRISING-B.AVI</td>\n",
       "      <td>1.082</td>\n",
       "      <td>1</td>\n",
       "      <td>1</td>\n",
       "    </tr>\n",
       "    <tr>\n",
       "      <th>4</th>\n",
       "      <td>168745</td>\n",
       "      <td>Random</td>\n",
       "      <td>TENNIS-A.AVI</td>\n",
       "      <td>1.232</td>\n",
       "      <td>0</td>\n",
       "      <td>1</td>\n",
       "    </tr>\n",
       "    <tr>\n",
       "      <th>5</th>\n",
       "      <td>668361</td>\n",
       "      <td>Mental</td>\n",
       "      <td>COAXING-B.AVI</td>\n",
       "      <td>1.796</td>\n",
       "      <td>9</td>\n",
       "      <td>0</td>\n",
       "    </tr>\n",
       "    <tr>\n",
       "      <th>6</th>\n",
       "      <td>668361</td>\n",
       "      <td>Random</td>\n",
       "      <td>BILLIARD-A.AVI</td>\n",
       "      <td>1.254</td>\n",
       "      <td>0</td>\n",
       "      <td>0</td>\n",
       "    </tr>\n",
       "    <tr>\n",
       "      <th>7</th>\n",
       "      <td>668361</td>\n",
       "      <td>Random</td>\n",
       "      <td>DRIFTING-A.AVI</td>\n",
       "      <td>0.590</td>\n",
       "      <td>0</td>\n",
       "      <td>0</td>\n",
       "    </tr>\n",
       "    <tr>\n",
       "      <th>8</th>\n",
       "      <td>668361</td>\n",
       "      <td>Mental</td>\n",
       "      <td>Fishing.AVI</td>\n",
       "      <td>0.993</td>\n",
       "      <td>0</td>\n",
       "      <td>0</td>\n",
       "    </tr>\n",
       "    <tr>\n",
       "      <th>9</th>\n",
       "      <td>668361</td>\n",
       "      <td>Random</td>\n",
       "      <td>Random mechanical.AVI</td>\n",
       "      <td>0.816</td>\n",
       "      <td>0</td>\n",
       "      <td>0</td>\n",
       "    </tr>\n",
       "  </tbody>\n",
       "</table>\n",
       "</div>"
      ],
      "text/plain": [
       "   subj_idx    stim                  movie     rt  response  run\n",
       "0    168745  Mental            Scaring.AVI  1.252         1    1\n",
       "1    168745  Mental         SEDUCING-B.AVI  0.578         1    1\n",
       "2    168745  Random             STAR-A.AVI  1.643         0    1\n",
       "3    168745  Mental       SURPRISING-B.AVI  1.082         1    1\n",
       "4    168745  Random           TENNIS-A.AVI  1.232         0    1\n",
       "5    668361  Mental          COAXING-B.AVI  1.796         9    0\n",
       "6    668361  Random         BILLIARD-A.AVI  1.254         0    0\n",
       "7    668361  Random         DRIFTING-A.AVI  0.590         0    0\n",
       "8    668361  Mental            Fishing.AVI  0.993         0    0\n",
       "9    668361  Random  Random mechanical.AVI  0.816         0    0"
      ]
     },
     "metadata": {},
     "execution_count": 2
    }
   ],
   "metadata": {}
  },
  {
   "cell_type": "code",
   "execution_count": 3,
   "source": [
    "# setting default fontsizes for plots\n",
    "s=16 # CHANGE FONTSIZE HERE\n",
    "plt.rc('font', size=s) #controls default text size\n",
    "plt.rc('axes', titlesize=s) #fontsize of the title\n",
    "plt.rc('axes', labelsize=s) #fontsize of the x and y labels\n",
    "plt.rc('xtick', labelsize=s) #fontsize of the x tick labels\n",
    "plt.rc('ytick', labelsize=s) #fontsize of the y tick labels\n",
    "plt.rc('legend', fontsize=s) #fontsize of the legend\n",
    "#import matplotlib as mpl\n",
    "#mpl.rcParams['font.weight']= 'normal'"
   ],
   "outputs": [],
   "metadata": {}
  },
  {
   "cell_type": "code",
   "execution_count": null,
   "source": [
    "#print('ncorrected =:', dat.groupby(['movie']).count().subj_idx, '\\n\\ old:', dat_old.groupby(['movie']).count().subj_idx)"
   ],
   "outputs": [],
   "metadata": {}
  },
  {
   "cell_type": "code",
   "execution_count": 5,
   "source": [
    "#add accuracy as an additional column\n",
    "acc = np.zeros((dat.shape[0],)) -1 # initialize accuracy with -1\n",
    "acc[((dat['stim'] == 'Mental') & (dat['response'] == 1)) | ((dat['stim'] == 'Random') & (dat['response'] == 0))] = 1\n",
    "acc[((dat['stim'] == 'Mental') & (dat['response'] == 0)) | ((dat['stim'] == 'Random') & (dat['response'] == 1))] = 0\n",
    "acc[dat['response'] == 9] = 9\n",
    "dat['accuracy'] = acc"
   ],
   "outputs": [],
   "metadata": {}
  },
  {
   "cell_type": "code",
   "execution_count": 6,
   "source": [
    "# exploring what happens if we don't exclude any trials based on RT.\n",
    "allRTs = dat['rt'].values\n",
    "print(allRTs[allRTs<=.1])\n",
    "fullDat =  dat.loc[dat['rt']>=0,:]\n",
    "fullDat.shape,dat.shape"
   ],
   "outputs": [
    {
     "output_type": "stream",
     "name": "stdout",
     "text": [
      "[0.084 0.    0.03 ]\n"
     ]
    },
    {
     "output_type": "execute_result",
     "data": {
      "text/plain": [
       "((10149, 7), (10149, 7))"
      ]
     },
     "metadata": {},
     "execution_count": 6
    }
   ],
   "metadata": {}
  },
  {
   "cell_type": "markdown",
   "source": [
    "- You will see that all of our analyses were also repeated on the full data without removing trials/subjects based on RTs (i.e., with 3 more trials from 3 distinct subs, i.e., 3 more subs). This was done to address a reviewer question. As you see below, there weren't any big differences, so we did not include the analysis with data that did not exclude trials based on RT (fullDat) in the manuscript"
   ],
   "metadata": {}
  },
  {
   "cell_type": "code",
   "execution_count": 8,
   "source": [
    "# remove imppossible RTs\n",
    "rtmin = 0.1 # threshold for impossibly short RTs\n",
    "print('nrows before=',dat.shape[0])\n",
    "dat= dat.loc[dat['rt']>=rtmin,:]\n",
    "print('nrows after=',dat.shape[0])\n",
    "fullDat.shape,dat.shape"
   ],
   "outputs": [
    {
     "output_type": "stream",
     "name": "stdout",
     "text": [
      "nrows before= 10149\n",
      "nrows after= 10146\n"
     ]
    },
    {
     "output_type": "execute_result",
     "data": {
      "text/plain": [
       "((10149, 7), (10146, 7))"
      ]
     },
     "metadata": {},
     "execution_count": 8
    }
   ],
   "metadata": {}
  },
  {
   "cell_type": "code",
   "execution_count": 9,
   "source": [
    "# exclude bad subjects (with <10 yes/no/unsure responses)\n",
    "thresh = 10\n",
    "trial_counts = dat.groupby(\"subj_idx\").count()[\"rt\"]\n",
    "bad_subs = trial_counts[(trial_counts < thresh)].index\n",
    "dat  = dat.reset_index() # add index as an additional column \"index\"\n",
    "dat = dat.set_index('subj_idx') # make subj_idx the index\n",
    "dat.drop(bad_subs, inplace=True) # remove bad subjects\n",
    "dat = dat.reset_index() #bring back subj_idx as a column\n",
    "dat = dat.set_index('index') # make the column \"index\" as the index (as in the beginning)\n",
    "print(\"Nr. of subjects left\",len(dat.groupby(\"subj_idx\")))\n",
    "print(\"Nr. of rows:\",dat.shape)\n",
    "\n",
    "# the group not excluded based on RTs\n",
    "trial_counts_fullDat = fullDat.groupby(\"subj_idx\").count()[\"rt\"]\n",
    "bad_subs_fullDat = trial_counts_fullDat[(trial_counts_fullDat < thresh)].index\n",
    "fullDat  = fullDat.reset_index() # add index as an additional column \"index\"\n",
    "fullDat = fullDat.set_index('subj_idx') # make subj_idx the index\n",
    "fullDat.drop(bad_subs_fullDat, inplace=True) # remove bad subjects\n",
    "fullDat = fullDat.reset_index() #bring back subj_idx as a column\n",
    "fullDat = fullDat.set_index('index') # make the column \"index\" as the index (as in the beginning)\n",
    "print(\"Full data, Nr. of subjects left\",len(fullDat.groupby(\"subj_idx\")))\n",
    "print(\"Full data, Nr. of rows:\",fullDat.shape)"
   ],
   "outputs": [
    {
     "output_type": "stream",
     "name": "stdout",
     "text": [
      "Nr. of subjects left 823\n",
      "Nr. of rows: (8230, 7)\n",
      "Full data, Nr. of subjects left 826\n",
      "Full data, Nr. of rows: (8260, 7)\n"
     ]
    }
   ],
   "metadata": {}
  },
  {
   "cell_type": "code",
   "execution_count": 10,
   "source": [
    "#red_rgb = [103,0,31] # edges of RdBu\n",
    "#blue_rgb = [5,48,97] # edges of RdBu\n",
    "red_rgb =[188,61,62] # from Emily\n",
    "blue_rgb = [54,122,177] # from Emily\n",
    "red_rgb = np.array(red_rgb)/255\n",
    "blue_rgb = np.array(blue_rgb)/255\n",
    "alpha = .2 # transparency inside boxplots, for datapts etc."
   ],
   "outputs": [],
   "metadata": {}
  },
  {
   "cell_type": "code",
   "execution_count": 11,
   "source": [
    "dat.to_csv(os.path.join(file_loc,'data_for_paper','hcp_social_826subs.csv')) # file name is wrong - there are only 823 subs actually\n",
    "fullDat.to_csv(os.path.join(file_loc,'data_for_paper','fullDat_hcp_social_826subs.csv'))"
   ],
   "outputs": [],
   "metadata": {}
  },
  {
   "cell_type": "code",
   "execution_count": 12,
   "source": [
    "#Sort into sure and unsure trials dfs\n",
    "data_sure = dat[dat[\"response\"]!=9]\n",
    "data_unsure = dat[dat[\"response\"] ==9]\n",
    "print(len(np.unique(data_sure['subj_idx'])))\n",
    "\n",
    "#Sort into sure and unsure trials dfs\n",
    "data_sure_fullDat = fullDat[fullDat[\"response\"]!=9]\n",
    "data_unsure_fullDat = fullDat[fullDat[\"response\"] ==9]\n",
    "len(np.unique(data_sure_fullDat['subj_idx']))"
   ],
   "outputs": [
    {
     "output_type": "stream",
     "name": "stdout",
     "text": [
      "823\n"
     ]
    },
    {
     "output_type": "execute_result",
     "data": {
      "text/plain": [
       "826"
      ]
     },
     "metadata": {},
     "execution_count": 12
    }
   ],
   "metadata": {}
  },
  {
   "cell_type": "code",
   "execution_count": 22,
   "source": [
    "# defining \"bad\" subs with lower thresholds - not used in the manuscript\n",
    "#excluding bad subs: defined as those who have less than 'thresh' trials\n",
    "# defined as 8/10 responses \"sure\", i.e., yes/no\n",
    "# did this to make sure we have a good number of trials/subject - since our main analyses were only on the \n",
    "# sure trials\n",
    "\n",
    "'''thresh = 8\n",
    "trial_counts = data_sure.groupby(\"subj_idx\").count()[\"rt\"]\n",
    "bad_subs = trial_counts[(trial_counts < thresh)].index\n",
    "#print(bad_subs)\n",
    "data_sure  = data_sure.reset_index() # add index as an additional column \"index\"\n",
    "data_sure = data_sure.set_index('subj_idx') # make subj_idx the index\n",
    "data_sure.drop(bad_subs, inplace=True) # remove bad subjects\n",
    "data_sure = data_sure.reset_index() #bring back subj_idx as a column\n",
    "data_sure = data_sure.set_index('index') # make the column \"index\" as the index (as in the beginning)\n",
    "\n",
    "print(\"Nr. of subjects left\",len(data_sure.groupby(\"subj_idx\")))\n",
    "print(\"Nr. of rows:\",data_sure.shape)'''"
   ],
   "outputs": [
    {
     "output_type": "execute_result",
     "data": {
      "text/plain": [
       "'thresh = 8\\ntrial_counts = data_sure.groupby(\"subj_idx\").count()[\"rt\"]\\nbad_subs = trial_counts[(trial_counts < thresh)].index\\n#print(bad_subs)\\ndata_sure  = data_sure.reset_index() # add index as an additional column \"index\"\\ndata_sure = data_sure.set_index(\\'subj_idx\\') # make subj_idx the index\\ndata_sure.drop(bad_subs, inplace=True) # remove bad subjects\\ndata_sure = data_sure.reset_index() #bring back subj_idx as a column\\ndata_sure = data_sure.set_index(\\'index\\') # make the column \"index\" as the index (as in the beginning)\\n\\nprint(\"Nr. of subjects left\",len(data_sure.groupby(\"subj_idx\")))\\nprint(\"Nr. of rows:\",data_sure.shape)'"
      ]
     },
     "metadata": {},
     "execution_count": 22
    }
   ],
   "metadata": {}
  },
  {
   "cell_type": "markdown",
   "source": [
    "# 1(a) Number of responses per movie"
   ],
   "metadata": {}
  },
  {
   "cell_type": "code",
   "execution_count": 23,
   "source": [
    "movies_list = list(dat['movie'].values)\n",
    "print(movies_list[:5])\n",
    "dat['movies_ind']=[np.where(vid_joined==np.array(i[:-4]))[0][0] for i in movies_list]\n",
    "dat.head()"
   ],
   "outputs": [
    {
     "output_type": "stream",
     "name": "stdout",
     "text": [
      "['Scaring.AVI', 'SEDUCING-B.AVI', 'STAR-A.AVI', 'SURPRISING-B.AVI', 'TENNIS-A.AVI']\n"
     ]
    },
    {
     "output_type": "execute_result",
     "data": {
      "text/html": [
       "<div>\n",
       "<style scoped>\n",
       "    .dataframe tbody tr th:only-of-type {\n",
       "        vertical-align: middle;\n",
       "    }\n",
       "\n",
       "    .dataframe tbody tr th {\n",
       "        vertical-align: top;\n",
       "    }\n",
       "\n",
       "    .dataframe thead th {\n",
       "        text-align: right;\n",
       "    }\n",
       "</style>\n",
       "<table border=\"1\" class=\"dataframe\">\n",
       "  <thead>\n",
       "    <tr style=\"text-align: right;\">\n",
       "      <th></th>\n",
       "      <th>subj_idx</th>\n",
       "      <th>stim</th>\n",
       "      <th>movie</th>\n",
       "      <th>rt</th>\n",
       "      <th>response</th>\n",
       "      <th>run</th>\n",
       "      <th>accuracy</th>\n",
       "      <th>movies_ind</th>\n",
       "    </tr>\n",
       "    <tr>\n",
       "      <th>index</th>\n",
       "      <th></th>\n",
       "      <th></th>\n",
       "      <th></th>\n",
       "      <th></th>\n",
       "      <th></th>\n",
       "      <th></th>\n",
       "      <th></th>\n",
       "      <th></th>\n",
       "    </tr>\n",
       "  </thead>\n",
       "  <tbody>\n",
       "    <tr>\n",
       "      <th>0</th>\n",
       "      <td>168745</td>\n",
       "      <td>Mental</td>\n",
       "      <td>Scaring.AVI</td>\n",
       "      <td>1.252</td>\n",
       "      <td>1</td>\n",
       "      <td>1</td>\n",
       "      <td>1.0</td>\n",
       "      <td>5</td>\n",
       "    </tr>\n",
       "    <tr>\n",
       "      <th>1</th>\n",
       "      <td>168745</td>\n",
       "      <td>Mental</td>\n",
       "      <td>SEDUCING-B.AVI</td>\n",
       "      <td>0.578</td>\n",
       "      <td>1</td>\n",
       "      <td>1</td>\n",
       "      <td>1.0</td>\n",
       "      <td>6</td>\n",
       "    </tr>\n",
       "    <tr>\n",
       "      <th>2</th>\n",
       "      <td>168745</td>\n",
       "      <td>Random</td>\n",
       "      <td>STAR-A.AVI</td>\n",
       "      <td>1.643</td>\n",
       "      <td>0</td>\n",
       "      <td>1</td>\n",
       "      <td>1.0</td>\n",
       "      <td>7</td>\n",
       "    </tr>\n",
       "    <tr>\n",
       "      <th>3</th>\n",
       "      <td>168745</td>\n",
       "      <td>Mental</td>\n",
       "      <td>SURPRISING-B.AVI</td>\n",
       "      <td>1.082</td>\n",
       "      <td>1</td>\n",
       "      <td>1</td>\n",
       "      <td>1.0</td>\n",
       "      <td>8</td>\n",
       "    </tr>\n",
       "    <tr>\n",
       "      <th>4</th>\n",
       "      <td>168745</td>\n",
       "      <td>Random</td>\n",
       "      <td>TENNIS-A.AVI</td>\n",
       "      <td>1.232</td>\n",
       "      <td>0</td>\n",
       "      <td>1</td>\n",
       "      <td>1.0</td>\n",
       "      <td>9</td>\n",
       "    </tr>\n",
       "  </tbody>\n",
       "</table>\n",
       "</div>"
      ],
      "text/plain": [
       "       subj_idx    stim             movie     rt  response  run  accuracy  \\\n",
       "index                                                                       \n",
       "0        168745  Mental       Scaring.AVI  1.252         1    1       1.0   \n",
       "1        168745  Mental    SEDUCING-B.AVI  0.578         1    1       1.0   \n",
       "2        168745  Random        STAR-A.AVI  1.643         0    1       1.0   \n",
       "3        168745  Mental  SURPRISING-B.AVI  1.082         1    1       1.0   \n",
       "4        168745  Random      TENNIS-A.AVI  1.232         0    1       1.0   \n",
       "\n",
       "       movies_ind  \n",
       "index              \n",
       "0               5  \n",
       "1               6  \n",
       "2               7  \n",
       "3               8  \n",
       "4               9  "
      ]
     },
     "metadata": {},
     "execution_count": 23
    }
   ],
   "metadata": {}
  },
  {
   "cell_type": "code",
   "execution_count": 24,
   "source": [
    "movies_list_fullDat = list(fullDat['movie'].values)\n",
    "fullDat['movies_ind']=[np.where(vid_joined==np.array(i[:-4]))[0][0] for i in movies_list_fullDat]\n",
    "fullDat.head()"
   ],
   "outputs": [
    {
     "output_type": "execute_result",
     "data": {
      "text/html": [
       "<div>\n",
       "<style scoped>\n",
       "    .dataframe tbody tr th:only-of-type {\n",
       "        vertical-align: middle;\n",
       "    }\n",
       "\n",
       "    .dataframe tbody tr th {\n",
       "        vertical-align: top;\n",
       "    }\n",
       "\n",
       "    .dataframe thead th {\n",
       "        text-align: right;\n",
       "    }\n",
       "</style>\n",
       "<table border=\"1\" class=\"dataframe\">\n",
       "  <thead>\n",
       "    <tr style=\"text-align: right;\">\n",
       "      <th></th>\n",
       "      <th>subj_idx</th>\n",
       "      <th>stim</th>\n",
       "      <th>movie</th>\n",
       "      <th>rt</th>\n",
       "      <th>response</th>\n",
       "      <th>run</th>\n",
       "      <th>accuracy</th>\n",
       "      <th>movies_ind</th>\n",
       "    </tr>\n",
       "    <tr>\n",
       "      <th>index</th>\n",
       "      <th></th>\n",
       "      <th></th>\n",
       "      <th></th>\n",
       "      <th></th>\n",
       "      <th></th>\n",
       "      <th></th>\n",
       "      <th></th>\n",
       "      <th></th>\n",
       "    </tr>\n",
       "  </thead>\n",
       "  <tbody>\n",
       "    <tr>\n",
       "      <th>0</th>\n",
       "      <td>168745</td>\n",
       "      <td>Mental</td>\n",
       "      <td>Scaring.AVI</td>\n",
       "      <td>1.252</td>\n",
       "      <td>1</td>\n",
       "      <td>1</td>\n",
       "      <td>1.0</td>\n",
       "      <td>5</td>\n",
       "    </tr>\n",
       "    <tr>\n",
       "      <th>1</th>\n",
       "      <td>168745</td>\n",
       "      <td>Mental</td>\n",
       "      <td>SEDUCING-B.AVI</td>\n",
       "      <td>0.578</td>\n",
       "      <td>1</td>\n",
       "      <td>1</td>\n",
       "      <td>1.0</td>\n",
       "      <td>6</td>\n",
       "    </tr>\n",
       "    <tr>\n",
       "      <th>2</th>\n",
       "      <td>168745</td>\n",
       "      <td>Random</td>\n",
       "      <td>STAR-A.AVI</td>\n",
       "      <td>1.643</td>\n",
       "      <td>0</td>\n",
       "      <td>1</td>\n",
       "      <td>1.0</td>\n",
       "      <td>7</td>\n",
       "    </tr>\n",
       "    <tr>\n",
       "      <th>3</th>\n",
       "      <td>168745</td>\n",
       "      <td>Mental</td>\n",
       "      <td>SURPRISING-B.AVI</td>\n",
       "      <td>1.082</td>\n",
       "      <td>1</td>\n",
       "      <td>1</td>\n",
       "      <td>1.0</td>\n",
       "      <td>8</td>\n",
       "    </tr>\n",
       "    <tr>\n",
       "      <th>4</th>\n",
       "      <td>168745</td>\n",
       "      <td>Random</td>\n",
       "      <td>TENNIS-A.AVI</td>\n",
       "      <td>1.232</td>\n",
       "      <td>0</td>\n",
       "      <td>1</td>\n",
       "      <td>1.0</td>\n",
       "      <td>9</td>\n",
       "    </tr>\n",
       "  </tbody>\n",
       "</table>\n",
       "</div>"
      ],
      "text/plain": [
       "       subj_idx    stim             movie     rt  response  run  accuracy  \\\n",
       "index                                                                       \n",
       "0        168745  Mental       Scaring.AVI  1.252         1    1       1.0   \n",
       "1        168745  Mental    SEDUCING-B.AVI  0.578         1    1       1.0   \n",
       "2        168745  Random        STAR-A.AVI  1.643         0    1       1.0   \n",
       "3        168745  Mental  SURPRISING-B.AVI  1.082         1    1       1.0   \n",
       "4        168745  Random      TENNIS-A.AVI  1.232         0    1       1.0   \n",
       "\n",
       "       movies_ind  \n",
       "index              \n",
       "0               5  \n",
       "1               6  \n",
       "2               7  \n",
       "3               8  \n",
       "4               9  "
      ]
     },
     "metadata": {},
     "execution_count": 24
    }
   ],
   "metadata": {}
  },
  {
   "cell_type": "code",
   "execution_count": 25,
   "source": [
    "counts = dat.groupby(['movies_ind','response']).count().subj_idx.unstack(level=-1)\n",
    "counts[np.isnan(counts)] = 0\n",
    "counts['sum'] = counts[0]+counts[1]+counts[9]\n",
    "#counts = counts.sort_values(by=['movies_ind','response'])\n",
    "#counts = counts.append({'movies_ind':8,'response':0,'subj_idx':0},ignore_index=True)\n",
    "counts['socialness'] = counts[1]/counts['sum']\n",
    "socialness = counts['socialness'].values\n",
    "counts =  counts.sort_values(by=['socialness'])\n",
    "counts"
   ],
   "outputs": [
    {
     "output_type": "execute_result",
     "data": {
      "text/html": [
       "<div>\n",
       "<style scoped>\n",
       "    .dataframe tbody tr th:only-of-type {\n",
       "        vertical-align: middle;\n",
       "    }\n",
       "\n",
       "    .dataframe tbody tr th {\n",
       "        vertical-align: top;\n",
       "    }\n",
       "\n",
       "    .dataframe thead th {\n",
       "        text-align: right;\n",
       "    }\n",
       "</style>\n",
       "<table border=\"1\" class=\"dataframe\">\n",
       "  <thead>\n",
       "    <tr style=\"text-align: right;\">\n",
       "      <th>response</th>\n",
       "      <th>0</th>\n",
       "      <th>1</th>\n",
       "      <th>9</th>\n",
       "      <th>sum</th>\n",
       "      <th>socialness</th>\n",
       "    </tr>\n",
       "    <tr>\n",
       "      <th>movies_ind</th>\n",
       "      <th></th>\n",
       "      <th></th>\n",
       "      <th></th>\n",
       "      <th></th>\n",
       "      <th></th>\n",
       "    </tr>\n",
       "  </thead>\n",
       "  <tbody>\n",
       "    <tr>\n",
       "      <th>2</th>\n",
       "      <td>780.0</td>\n",
       "      <td>6.0</td>\n",
       "      <td>37.0</td>\n",
       "      <td>823.0</td>\n",
       "      <td>0.007290</td>\n",
       "    </tr>\n",
       "    <tr>\n",
       "      <th>1</th>\n",
       "      <td>778.0</td>\n",
       "      <td>11.0</td>\n",
       "      <td>34.0</td>\n",
       "      <td>823.0</td>\n",
       "      <td>0.013366</td>\n",
       "    </tr>\n",
       "    <tr>\n",
       "      <th>7</th>\n",
       "      <td>759.0</td>\n",
       "      <td>20.0</td>\n",
       "      <td>44.0</td>\n",
       "      <td>823.0</td>\n",
       "      <td>0.024301</td>\n",
       "    </tr>\n",
       "    <tr>\n",
       "      <th>9</th>\n",
       "      <td>691.0</td>\n",
       "      <td>35.0</td>\n",
       "      <td>97.0</td>\n",
       "      <td>823.0</td>\n",
       "      <td>0.042527</td>\n",
       "    </tr>\n",
       "    <tr>\n",
       "      <th>4</th>\n",
       "      <td>563.0</td>\n",
       "      <td>85.0</td>\n",
       "      <td>175.0</td>\n",
       "      <td>823.0</td>\n",
       "      <td>0.103281</td>\n",
       "    </tr>\n",
       "    <tr>\n",
       "      <th>3</th>\n",
       "      <td>58.0</td>\n",
       "      <td>698.0</td>\n",
       "      <td>67.0</td>\n",
       "      <td>823.0</td>\n",
       "      <td>0.848117</td>\n",
       "    </tr>\n",
       "    <tr>\n",
       "      <th>5</th>\n",
       "      <td>24.0</td>\n",
       "      <td>780.0</td>\n",
       "      <td>19.0</td>\n",
       "      <td>823.0</td>\n",
       "      <td>0.947752</td>\n",
       "    </tr>\n",
       "    <tr>\n",
       "      <th>6</th>\n",
       "      <td>5.0</td>\n",
       "      <td>802.0</td>\n",
       "      <td>16.0</td>\n",
       "      <td>823.0</td>\n",
       "      <td>0.974484</td>\n",
       "    </tr>\n",
       "    <tr>\n",
       "      <th>0</th>\n",
       "      <td>7.0</td>\n",
       "      <td>810.0</td>\n",
       "      <td>6.0</td>\n",
       "      <td>823.0</td>\n",
       "      <td>0.984204</td>\n",
       "    </tr>\n",
       "    <tr>\n",
       "      <th>8</th>\n",
       "      <td>0.0</td>\n",
       "      <td>820.0</td>\n",
       "      <td>3.0</td>\n",
       "      <td>823.0</td>\n",
       "      <td>0.996355</td>\n",
       "    </tr>\n",
       "  </tbody>\n",
       "</table>\n",
       "</div>"
      ],
      "text/plain": [
       "response        0      1      9    sum  socialness\n",
       "movies_ind                                        \n",
       "2           780.0    6.0   37.0  823.0    0.007290\n",
       "1           778.0   11.0   34.0  823.0    0.013366\n",
       "7           759.0   20.0   44.0  823.0    0.024301\n",
       "9           691.0   35.0   97.0  823.0    0.042527\n",
       "4           563.0   85.0  175.0  823.0    0.103281\n",
       "3            58.0  698.0   67.0  823.0    0.848117\n",
       "5            24.0  780.0   19.0  823.0    0.947752\n",
       "6             5.0  802.0   16.0  823.0    0.974484\n",
       "0             7.0  810.0    6.0  823.0    0.984204\n",
       "8             0.0  820.0    3.0  823.0    0.996355"
      ]
     },
     "metadata": {},
     "execution_count": 25
    }
   ],
   "metadata": {}
  },
  {
   "cell_type": "code",
   "execution_count": 26,
   "source": [
    "counts_fullDat = fullDat.groupby(['movies_ind','response']).count().subj_idx.unstack(level=-1)\n",
    "counts_fullDat[np.isnan(counts_fullDat)] = 0\n",
    "counts_fullDat['sum'] = counts_fullDat[0]+counts_fullDat[1]+counts_fullDat[9]\n",
    "#counts = counts.sort_values(by=['movies_ind','response'])\n",
    "#counts = counts.append({'movies_ind':8,'response':0,'subj_idx':0},ignore_index=True)\n",
    "counts_fullDat['socialness'] = counts_fullDat[1]/counts_fullDat['sum']\n",
    "socialness_fullDat = counts_fullDat['socialness'].values\n",
    "counts_fullDat =  counts_fullDat.sort_values(by=['socialness'])\n",
    "counts_fullDat"
   ],
   "outputs": [
    {
     "output_type": "execute_result",
     "data": {
      "text/html": [
       "<div>\n",
       "<style scoped>\n",
       "    .dataframe tbody tr th:only-of-type {\n",
       "        vertical-align: middle;\n",
       "    }\n",
       "\n",
       "    .dataframe tbody tr th {\n",
       "        vertical-align: top;\n",
       "    }\n",
       "\n",
       "    .dataframe thead th {\n",
       "        text-align: right;\n",
       "    }\n",
       "</style>\n",
       "<table border=\"1\" class=\"dataframe\">\n",
       "  <thead>\n",
       "    <tr style=\"text-align: right;\">\n",
       "      <th>response</th>\n",
       "      <th>0</th>\n",
       "      <th>1</th>\n",
       "      <th>9</th>\n",
       "      <th>sum</th>\n",
       "      <th>socialness</th>\n",
       "    </tr>\n",
       "    <tr>\n",
       "      <th>movies_ind</th>\n",
       "      <th></th>\n",
       "      <th></th>\n",
       "      <th></th>\n",
       "      <th></th>\n",
       "      <th></th>\n",
       "    </tr>\n",
       "  </thead>\n",
       "  <tbody>\n",
       "    <tr>\n",
       "      <th>2</th>\n",
       "      <td>782.0</td>\n",
       "      <td>6.0</td>\n",
       "      <td>38.0</td>\n",
       "      <td>826.0</td>\n",
       "      <td>0.007264</td>\n",
       "    </tr>\n",
       "    <tr>\n",
       "      <th>1</th>\n",
       "      <td>781.0</td>\n",
       "      <td>11.0</td>\n",
       "      <td>34.0</td>\n",
       "      <td>826.0</td>\n",
       "      <td>0.013317</td>\n",
       "    </tr>\n",
       "    <tr>\n",
       "      <th>7</th>\n",
       "      <td>761.0</td>\n",
       "      <td>20.0</td>\n",
       "      <td>45.0</td>\n",
       "      <td>826.0</td>\n",
       "      <td>0.024213</td>\n",
       "    </tr>\n",
       "    <tr>\n",
       "      <th>9</th>\n",
       "      <td>694.0</td>\n",
       "      <td>35.0</td>\n",
       "      <td>97.0</td>\n",
       "      <td>826.0</td>\n",
       "      <td>0.042373</td>\n",
       "    </tr>\n",
       "    <tr>\n",
       "      <th>4</th>\n",
       "      <td>564.0</td>\n",
       "      <td>86.0</td>\n",
       "      <td>176.0</td>\n",
       "      <td>826.0</td>\n",
       "      <td>0.104116</td>\n",
       "    </tr>\n",
       "    <tr>\n",
       "      <th>3</th>\n",
       "      <td>58.0</td>\n",
       "      <td>701.0</td>\n",
       "      <td>67.0</td>\n",
       "      <td>826.0</td>\n",
       "      <td>0.848668</td>\n",
       "    </tr>\n",
       "    <tr>\n",
       "      <th>5</th>\n",
       "      <td>24.0</td>\n",
       "      <td>783.0</td>\n",
       "      <td>19.0</td>\n",
       "      <td>826.0</td>\n",
       "      <td>0.947942</td>\n",
       "    </tr>\n",
       "    <tr>\n",
       "      <th>6</th>\n",
       "      <td>5.0</td>\n",
       "      <td>805.0</td>\n",
       "      <td>16.0</td>\n",
       "      <td>826.0</td>\n",
       "      <td>0.974576</td>\n",
       "    </tr>\n",
       "    <tr>\n",
       "      <th>0</th>\n",
       "      <td>7.0</td>\n",
       "      <td>813.0</td>\n",
       "      <td>6.0</td>\n",
       "      <td>826.0</td>\n",
       "      <td>0.984262</td>\n",
       "    </tr>\n",
       "    <tr>\n",
       "      <th>8</th>\n",
       "      <td>0.0</td>\n",
       "      <td>823.0</td>\n",
       "      <td>3.0</td>\n",
       "      <td>826.0</td>\n",
       "      <td>0.996368</td>\n",
       "    </tr>\n",
       "  </tbody>\n",
       "</table>\n",
       "</div>"
      ],
      "text/plain": [
       "response        0      1      9    sum  socialness\n",
       "movies_ind                                        \n",
       "2           782.0    6.0   38.0  826.0    0.007264\n",
       "1           781.0   11.0   34.0  826.0    0.013317\n",
       "7           761.0   20.0   45.0  826.0    0.024213\n",
       "9           694.0   35.0   97.0  826.0    0.042373\n",
       "4           564.0   86.0  176.0  826.0    0.104116\n",
       "3            58.0  701.0   67.0  826.0    0.848668\n",
       "5            24.0  783.0   19.0  826.0    0.947942\n",
       "6             5.0  805.0   16.0  826.0    0.974576\n",
       "0             7.0  813.0    6.0  826.0    0.984262\n",
       "8             0.0  823.0    3.0  826.0    0.996368"
      ]
     },
     "metadata": {},
     "execution_count": 26
    }
   ],
   "metadata": {}
  },
  {
   "cell_type": "code",
   "execution_count": 27,
   "source": [
    "np.save(os.path.join(file_loc,'hcp_socialness.npy'),socialness)\n",
    "np.save(os.path.join(file_loc,'hcp_socialness_fullDat.npy'),socialness_fullDat)"
   ],
   "outputs": [],
   "metadata": {}
  },
  {
   "cell_type": "code",
   "execution_count": 28,
   "source": [
    "vid_joined"
   ],
   "outputs": [
    {
     "output_type": "execute_result",
     "data": {
      "text/plain": [
       "['COAXING-B',\n",
       " 'BILLIARD-A',\n",
       " 'DRIFTING-A',\n",
       " 'Fishing',\n",
       " 'Random mechanical',\n",
       " 'Scaring',\n",
       " 'SEDUCING-B',\n",
       " 'STAR-A',\n",
       " 'SURPRISING-B',\n",
       " 'TENNIS-A']"
      ]
     },
     "metadata": {},
     "execution_count": 28
    }
   ],
   "metadata": {}
  },
  {
   "cell_type": "code",
   "execution_count": 29,
   "source": [
    "# prettify movie names by removing suffixes and renaming random mechanical\n",
    "vid_movie_ticks = [str.upper(vid_joined[i].split('-')[0]) for i in counts.index] \n",
    "vid_movie_ticks[4] = 'RAND MECH'\n",
    "vid_movie_ticks"
   ],
   "outputs": [
    {
     "output_type": "execute_result",
     "data": {
      "text/plain": [
       "['DRIFTING',\n",
       " 'BILLIARD',\n",
       " 'STAR',\n",
       " 'TENNIS',\n",
       " 'RAND MECH',\n",
       " 'FISHING',\n",
       " 'SCARING',\n",
       " 'SEDUCING',\n",
       " 'COAXING',\n",
       " 'SURPRISING']"
      ]
     },
     "metadata": {},
     "execution_count": 29
    }
   ],
   "metadata": {}
  },
  {
   "cell_type": "code",
   "execution_count": 30,
   "source": [
    "def plot_fig_1a(ax,counts):\n",
    "    #function to plot figure 1a from the manuscript\n",
    "    ax.barh(range(10),counts[1],color=red_rgb,label='\"Social\"',edgecolor='k')\n",
    "    ax.barh(range(10),counts[0],left=counts[1],edgecolor='k',color=blue_rgb,label='\"Non-social\"')\n",
    "    ax.barh(range(10),counts[9],left=counts[0]+counts[1],color='grey',edgecolor='k',label='\"Unsure')\n",
    "\n",
    "    ax.legend(loc='upper left',framealpha=1)\n",
    "    #ax.legend(bbox_to_anchor=[1.01,1])\n",
    "    ax.set_yticks(range(10))\n",
    "    ax.set_yticklabels(vid_movie_ticks)\n",
    "    ax.set_xlabel('Nr. of participants')\n",
    "    #ax.set_title('Animations(least to most \"Social\")')\n",
    "    ax.set_xlim(0,counts['sum'][0])\n",
    "    ax.set_ylim(-.5,9.5)\n",
    "\n",
    "fig = plt.figure(1,figsize=(10,5))\n",
    "ax =  fig.add_subplot(111)\n",
    "plot_fig_1a(ax,counts)"
   ],
   "outputs": [
    {
     "output_type": "display_data",
     "data": {
      "image/png": "[encoded data removed]",
      "text/plain": [
       "<Figure size 720x360 with 1 Axes>"
      ]
     },
     "metadata": {
      "needs_background": "light"
     }
    }
   ],
   "metadata": {}
  },
  {
   "cell_type": "code",
   "execution_count": 31,
   "source": [
    "fig = plt.figure(1,figsize=(10,5))\n",
    "ax =  fig.add_subplot(111)\n",
    "plot_fig_1a(ax,counts_fullDat)"
   ],
   "outputs": [
    {
     "output_type": "display_data",
     "data": {
      "image/png": "[encoded data removed]",
      "text/plain": [
       "<Figure size 720x360 with 1 Axes>"
      ]
     },
     "metadata": {
      "needs_background": "light"
     }
    }
   ],
   "metadata": {}
  },
  {
   "cell_type": "markdown",
   "source": [
    "### 1(b) Number of yes/no responses per sub (for paper)"
   ],
   "metadata": {}
  },
  {
   "cell_type": "markdown",
   "source": [
    "- to evaluate if there are more Yes (\"Social\" or 1) responses than No (\"Non-social\" or 0) responses on average - suggesting a Yes bias"
   ],
   "metadata": {}
  },
  {
   "cell_type": "code",
   "execution_count": 32,
   "source": [
    "counts_per_subj = data_sure.groupby(['subj_idx', 'response']).count().movie # Mean count per subject for Mental and Random\n",
    "counts_per_subj = counts_per_subj.unstack(level = -1)\n",
    "counts_per_subj['diff'] = counts_per_subj[1]-counts_per_subj[0]\n",
    "counts_per_subj['sum'] = counts_per_subj[1]+counts_per_subj[0]\n",
    "counts_per_subj"
   ],
   "outputs": [
    {
     "output_type": "execute_result",
     "data": {
      "text/html": [
       "<div>\n",
       "<style scoped>\n",
       "    .dataframe tbody tr th:only-of-type {\n",
       "        vertical-align: middle;\n",
       "    }\n",
       "\n",
       "    .dataframe tbody tr th {\n",
       "        vertical-align: top;\n",
       "    }\n",
       "\n",
       "    .dataframe thead th {\n",
       "        text-align: right;\n",
       "    }\n",
       "</style>\n",
       "<table border=\"1\" class=\"dataframe\">\n",
       "  <thead>\n",
       "    <tr style=\"text-align: right;\">\n",
       "      <th>response</th>\n",
       "      <th>0</th>\n",
       "      <th>1</th>\n",
       "      <th>diff</th>\n",
       "      <th>sum</th>\n",
       "    </tr>\n",
       "    <tr>\n",
       "      <th>subj_idx</th>\n",
       "      <th></th>\n",
       "      <th></th>\n",
       "      <th></th>\n",
       "      <th></th>\n",
       "    </tr>\n",
       "  </thead>\n",
       "  <tbody>\n",
       "    <tr>\n",
       "      <th>100206</th>\n",
       "      <td>1.0</td>\n",
       "      <td>9.0</td>\n",
       "      <td>8.0</td>\n",
       "      <td>10.0</td>\n",
       "    </tr>\n",
       "    <tr>\n",
       "      <th>100307</th>\n",
       "      <td>4.0</td>\n",
       "      <td>5.0</td>\n",
       "      <td>1.0</td>\n",
       "      <td>9.0</td>\n",
       "    </tr>\n",
       "    <tr>\n",
       "      <th>100408</th>\n",
       "      <td>4.0</td>\n",
       "      <td>5.0</td>\n",
       "      <td>1.0</td>\n",
       "      <td>9.0</td>\n",
       "    </tr>\n",
       "    <tr>\n",
       "      <th>100610</th>\n",
       "      <td>5.0</td>\n",
       "      <td>5.0</td>\n",
       "      <td>0.0</td>\n",
       "      <td>10.0</td>\n",
       "    </tr>\n",
       "    <tr>\n",
       "      <th>101309</th>\n",
       "      <td>2.0</td>\n",
       "      <td>5.0</td>\n",
       "      <td>3.0</td>\n",
       "      <td>7.0</td>\n",
       "    </tr>\n",
       "    <tr>\n",
       "      <th>...</th>\n",
       "      <td>...</td>\n",
       "      <td>...</td>\n",
       "      <td>...</td>\n",
       "      <td>...</td>\n",
       "    </tr>\n",
       "    <tr>\n",
       "      <th>991267</th>\n",
       "      <td>4.0</td>\n",
       "      <td>5.0</td>\n",
       "      <td>1.0</td>\n",
       "      <td>9.0</td>\n",
       "    </tr>\n",
       "    <tr>\n",
       "      <th>992673</th>\n",
       "      <td>5.0</td>\n",
       "      <td>5.0</td>\n",
       "      <td>0.0</td>\n",
       "      <td>10.0</td>\n",
       "    </tr>\n",
       "    <tr>\n",
       "      <th>992774</th>\n",
       "      <td>4.0</td>\n",
       "      <td>5.0</td>\n",
       "      <td>1.0</td>\n",
       "      <td>9.0</td>\n",
       "    </tr>\n",
       "    <tr>\n",
       "      <th>993675</th>\n",
       "      <td>5.0</td>\n",
       "      <td>5.0</td>\n",
       "      <td>0.0</td>\n",
       "      <td>10.0</td>\n",
       "    </tr>\n",
       "    <tr>\n",
       "      <th>996782</th>\n",
       "      <td>5.0</td>\n",
       "      <td>5.0</td>\n",
       "      <td>0.0</td>\n",
       "      <td>10.0</td>\n",
       "    </tr>\n",
       "  </tbody>\n",
       "</table>\n",
       "<p>823 rows × 4 columns</p>\n",
       "</div>"
      ],
      "text/plain": [
       "response    0    1  diff   sum\n",
       "subj_idx                      \n",
       "100206    1.0  9.0   8.0  10.0\n",
       "100307    4.0  5.0   1.0   9.0\n",
       "100408    4.0  5.0   1.0   9.0\n",
       "100610    5.0  5.0   0.0  10.0\n",
       "101309    2.0  5.0   3.0   7.0\n",
       "...       ...  ...   ...   ...\n",
       "991267    4.0  5.0   1.0   9.0\n",
       "992673    5.0  5.0   0.0  10.0\n",
       "992774    4.0  5.0   1.0   9.0\n",
       "993675    5.0  5.0   0.0  10.0\n",
       "996782    5.0  5.0   0.0  10.0\n",
       "\n",
       "[823 rows x 4 columns]"
      ]
     },
     "metadata": {},
     "execution_count": 32
    }
   ],
   "metadata": {}
  },
  {
   "cell_type": "code",
   "execution_count": 33,
   "source": [
    "counts_per_subj_fullDat = data_sure_fullDat.groupby(['subj_idx', 'response']).count().movie # Mean count per subject for Mental and Random\n",
    "counts_per_subj_fullDat = counts_per_subj_fullDat.unstack(level = -1)\n",
    "counts_per_subj_fullDat['diff'] = counts_per_subj_fullDat[1]-counts_per_subj_fullDat[0]\n",
    "counts_per_subj_fullDat['sum'] = counts_per_subj_fullDat[1]+counts_per_subj_fullDat[0]\n",
    "counts_per_subj_fullDat"
   ],
   "outputs": [
    {
     "output_type": "execute_result",
     "data": {
      "text/html": [
       "<div>\n",
       "<style scoped>\n",
       "    .dataframe tbody tr th:only-of-type {\n",
       "        vertical-align: middle;\n",
       "    }\n",
       "\n",
       "    .dataframe tbody tr th {\n",
       "        vertical-align: top;\n",
       "    }\n",
       "\n",
       "    .dataframe thead th {\n",
       "        text-align: right;\n",
       "    }\n",
       "</style>\n",
       "<table border=\"1\" class=\"dataframe\">\n",
       "  <thead>\n",
       "    <tr style=\"text-align: right;\">\n",
       "      <th>response</th>\n",
       "      <th>0</th>\n",
       "      <th>1</th>\n",
       "      <th>diff</th>\n",
       "      <th>sum</th>\n",
       "    </tr>\n",
       "    <tr>\n",
       "      <th>subj_idx</th>\n",
       "      <th></th>\n",
       "      <th></th>\n",
       "      <th></th>\n",
       "      <th></th>\n",
       "    </tr>\n",
       "  </thead>\n",
       "  <tbody>\n",
       "    <tr>\n",
       "      <th>100206</th>\n",
       "      <td>1.0</td>\n",
       "      <td>9.0</td>\n",
       "      <td>8.0</td>\n",
       "      <td>10.0</td>\n",
       "    </tr>\n",
       "    <tr>\n",
       "      <th>100307</th>\n",
       "      <td>4.0</td>\n",
       "      <td>5.0</td>\n",
       "      <td>1.0</td>\n",
       "      <td>9.0</td>\n",
       "    </tr>\n",
       "    <tr>\n",
       "      <th>100408</th>\n",
       "      <td>4.0</td>\n",
       "      <td>5.0</td>\n",
       "      <td>1.0</td>\n",
       "      <td>9.0</td>\n",
       "    </tr>\n",
       "    <tr>\n",
       "      <th>100610</th>\n",
       "      <td>5.0</td>\n",
       "      <td>5.0</td>\n",
       "      <td>0.0</td>\n",
       "      <td>10.0</td>\n",
       "    </tr>\n",
       "    <tr>\n",
       "      <th>101309</th>\n",
       "      <td>2.0</td>\n",
       "      <td>5.0</td>\n",
       "      <td>3.0</td>\n",
       "      <td>7.0</td>\n",
       "    </tr>\n",
       "    <tr>\n",
       "      <th>...</th>\n",
       "      <td>...</td>\n",
       "      <td>...</td>\n",
       "      <td>...</td>\n",
       "      <td>...</td>\n",
       "    </tr>\n",
       "    <tr>\n",
       "      <th>991267</th>\n",
       "      <td>4.0</td>\n",
       "      <td>5.0</td>\n",
       "      <td>1.0</td>\n",
       "      <td>9.0</td>\n",
       "    </tr>\n",
       "    <tr>\n",
       "      <th>992673</th>\n",
       "      <td>5.0</td>\n",
       "      <td>5.0</td>\n",
       "      <td>0.0</td>\n",
       "      <td>10.0</td>\n",
       "    </tr>\n",
       "    <tr>\n",
       "      <th>992774</th>\n",
       "      <td>4.0</td>\n",
       "      <td>5.0</td>\n",
       "      <td>1.0</td>\n",
       "      <td>9.0</td>\n",
       "    </tr>\n",
       "    <tr>\n",
       "      <th>993675</th>\n",
       "      <td>5.0</td>\n",
       "      <td>5.0</td>\n",
       "      <td>0.0</td>\n",
       "      <td>10.0</td>\n",
       "    </tr>\n",
       "    <tr>\n",
       "      <th>996782</th>\n",
       "      <td>5.0</td>\n",
       "      <td>5.0</td>\n",
       "      <td>0.0</td>\n",
       "      <td>10.0</td>\n",
       "    </tr>\n",
       "  </tbody>\n",
       "</table>\n",
       "<p>826 rows × 4 columns</p>\n",
       "</div>"
      ],
      "text/plain": [
       "response    0    1  diff   sum\n",
       "subj_idx                      \n",
       "100206    1.0  9.0   8.0  10.0\n",
       "100307    4.0  5.0   1.0   9.0\n",
       "100408    4.0  5.0   1.0   9.0\n",
       "100610    5.0  5.0   0.0  10.0\n",
       "101309    2.0  5.0   3.0   7.0\n",
       "...       ...  ...   ...   ...\n",
       "991267    4.0  5.0   1.0   9.0\n",
       "992673    5.0  5.0   0.0  10.0\n",
       "992774    4.0  5.0   1.0   9.0\n",
       "993675    5.0  5.0   0.0  10.0\n",
       "996782    5.0  5.0   0.0  10.0\n",
       "\n",
       "[826 rows x 4 columns]"
      ]
     },
     "metadata": {},
     "execution_count": 33
    }
   ],
   "metadata": {}
  },
  {
   "cell_type": "code",
   "execution_count": 34,
   "source": [
    "# identify NaNs (i.e., rows which either didn't have any 0s or 1s)\n",
    "print(np.where(np.isnan(counts_per_subj)))\n",
    "counts_per_subj.iloc[[60,181],:]"
   ],
   "outputs": [
    {
     "output_type": "stream",
     "name": "stdout",
     "text": [
      "(array([ 60,  60,  60, 181, 181, 181]), array([0, 2, 3, 0, 2, 3]))\n"
     ]
    },
    {
     "output_type": "execute_result",
     "data": {
      "text/html": [
       "<div>\n",
       "<style scoped>\n",
       "    .dataframe tbody tr th:only-of-type {\n",
       "        vertical-align: middle;\n",
       "    }\n",
       "\n",
       "    .dataframe tbody tr th {\n",
       "        vertical-align: top;\n",
       "    }\n",
       "\n",
       "    .dataframe thead th {\n",
       "        text-align: right;\n",
       "    }\n",
       "</style>\n",
       "<table border=\"1\" class=\"dataframe\">\n",
       "  <thead>\n",
       "    <tr style=\"text-align: right;\">\n",
       "      <th>response</th>\n",
       "      <th>0</th>\n",
       "      <th>1</th>\n",
       "      <th>diff</th>\n",
       "      <th>sum</th>\n",
       "    </tr>\n",
       "    <tr>\n",
       "      <th>subj_idx</th>\n",
       "      <th></th>\n",
       "      <th></th>\n",
       "      <th></th>\n",
       "      <th></th>\n",
       "    </tr>\n",
       "  </thead>\n",
       "  <tbody>\n",
       "    <tr>\n",
       "      <th>118528</th>\n",
       "      <td>NaN</td>\n",
       "      <td>9.0</td>\n",
       "      <td>NaN</td>\n",
       "      <td>NaN</td>\n",
       "    </tr>\n",
       "    <tr>\n",
       "      <th>153126</th>\n",
       "      <td>NaN</td>\n",
       "      <td>8.0</td>\n",
       "      <td>NaN</td>\n",
       "      <td>NaN</td>\n",
       "    </tr>\n",
       "  </tbody>\n",
       "</table>\n",
       "</div>"
      ],
      "text/plain": [
       "response   0    1  diff  sum\n",
       "subj_idx                    \n",
       "118528   NaN  9.0   NaN  NaN\n",
       "153126   NaN  8.0   NaN  NaN"
      ]
     },
     "metadata": {},
     "execution_count": 34
    }
   ],
   "metadata": {}
  },
  {
   "cell_type": "code",
   "execution_count": 35,
   "source": [
    "# identify NaNs (i.e., rows which either didn't have any 0s or 1s)\n",
    "print(np.where(np.isnan(counts_per_subj_fullDat)))\n",
    "counts_per_subj_fullDat.iloc[[62,183],:]"
   ],
   "outputs": [
    {
     "output_type": "stream",
     "name": "stdout",
     "text": [
      "(array([ 62,  62,  62, 183, 183, 183]), array([0, 2, 3, 0, 2, 3]))\n"
     ]
    },
    {
     "output_type": "execute_result",
     "data": {
      "text/html": [
       "<div>\n",
       "<style scoped>\n",
       "    .dataframe tbody tr th:only-of-type {\n",
       "        vertical-align: middle;\n",
       "    }\n",
       "\n",
       "    .dataframe tbody tr th {\n",
       "        vertical-align: top;\n",
       "    }\n",
       "\n",
       "    .dataframe thead th {\n",
       "        text-align: right;\n",
       "    }\n",
       "</style>\n",
       "<table border=\"1\" class=\"dataframe\">\n",
       "  <thead>\n",
       "    <tr style=\"text-align: right;\">\n",
       "      <th>response</th>\n",
       "      <th>0</th>\n",
       "      <th>1</th>\n",
       "      <th>diff</th>\n",
       "      <th>sum</th>\n",
       "    </tr>\n",
       "    <tr>\n",
       "      <th>subj_idx</th>\n",
       "      <th></th>\n",
       "      <th></th>\n",
       "      <th></th>\n",
       "      <th></th>\n",
       "    </tr>\n",
       "  </thead>\n",
       "  <tbody>\n",
       "    <tr>\n",
       "      <th>118528</th>\n",
       "      <td>NaN</td>\n",
       "      <td>9.0</td>\n",
       "      <td>NaN</td>\n",
       "      <td>NaN</td>\n",
       "    </tr>\n",
       "    <tr>\n",
       "      <th>153126</th>\n",
       "      <td>NaN</td>\n",
       "      <td>8.0</td>\n",
       "      <td>NaN</td>\n",
       "      <td>NaN</td>\n",
       "    </tr>\n",
       "  </tbody>\n",
       "</table>\n",
       "</div>"
      ],
      "text/plain": [
       "response   0    1  diff  sum\n",
       "subj_idx                    \n",
       "118528   NaN  9.0   NaN  NaN\n",
       "153126   NaN  8.0   NaN  NaN"
      ]
     },
     "metadata": {},
     "execution_count": 35
    }
   ],
   "metadata": {}
  },
  {
   "cell_type": "code",
   "execution_count": 36,
   "source": [
    "# relabel NaN\n",
    "counts_per_subj.iloc[[60,181],0] = 0\n",
    "counts_per_subj.iloc[[60,181],2] = counts_per_subj.iloc[[60,181],1]\n",
    "counts_per_subj.iloc[[60,181],3] = counts_per_subj.iloc[[60,181],1]\n",
    "counts_per_subj.iloc[[60,181],:]\n",
    "\n",
    "counts_per_subj_fullDat.iloc[[62,183],0] = 0\n",
    "counts_per_subj_fullDat.iloc[[62,183],2] = counts_per_subj_fullDat.iloc[[62,183],1]\n",
    "counts_per_subj_fullDat.iloc[[62,183],3] = counts_per_subj_fullDat.iloc[[62,183],1]\n",
    "counts_per_subj_fullDat.iloc[[62,183],:]"
   ],
   "outputs": [
    {
     "output_type": "execute_result",
     "data": {
      "text/html": [
       "<div>\n",
       "<style scoped>\n",
       "    .dataframe tbody tr th:only-of-type {\n",
       "        vertical-align: middle;\n",
       "    }\n",
       "\n",
       "    .dataframe tbody tr th {\n",
       "        vertical-align: top;\n",
       "    }\n",
       "\n",
       "    .dataframe thead th {\n",
       "        text-align: right;\n",
       "    }\n",
       "</style>\n",
       "<table border=\"1\" class=\"dataframe\">\n",
       "  <thead>\n",
       "    <tr style=\"text-align: right;\">\n",
       "      <th>response</th>\n",
       "      <th>0</th>\n",
       "      <th>1</th>\n",
       "      <th>diff</th>\n",
       "      <th>sum</th>\n",
       "    </tr>\n",
       "    <tr>\n",
       "      <th>subj_idx</th>\n",
       "      <th></th>\n",
       "      <th></th>\n",
       "      <th></th>\n",
       "      <th></th>\n",
       "    </tr>\n",
       "  </thead>\n",
       "  <tbody>\n",
       "    <tr>\n",
       "      <th>118528</th>\n",
       "      <td>0.0</td>\n",
       "      <td>9.0</td>\n",
       "      <td>9.0</td>\n",
       "      <td>9.0</td>\n",
       "    </tr>\n",
       "    <tr>\n",
       "      <th>153126</th>\n",
       "      <td>0.0</td>\n",
       "      <td>8.0</td>\n",
       "      <td>8.0</td>\n",
       "      <td>8.0</td>\n",
       "    </tr>\n",
       "  </tbody>\n",
       "</table>\n",
       "</div>"
      ],
      "text/plain": [
       "response    0    1  diff  sum\n",
       "subj_idx                     \n",
       "118528    0.0  9.0   9.0  9.0\n",
       "153126    0.0  8.0   8.0  8.0"
      ]
     },
     "metadata": {},
     "execution_count": 36
    }
   ],
   "metadata": {}
  },
  {
   "cell_type": "code",
   "execution_count": 37,
   "source": [
    "# exclude subs with 0 responses in social/nonsocial (extremes)\n",
    "#rows = ~np.isnan(counts_per_subj['diff'])\n",
    "#counts_per_subj = counts_per_subj.loc[rows,:]\n",
    "counts_per_subj.shape, counts_per_subj_fullDat.shape"
   ],
   "outputs": [
    {
     "output_type": "execute_result",
     "data": {
      "text/plain": [
       "((823, 4), (826, 4))"
      ]
     },
     "metadata": {},
     "execution_count": 37
    }
   ],
   "metadata": {}
  },
  {
   "cell_type": "code",
   "execution_count": null,
   "source": [
    "# compute response perceptages and theur diiference\n",
    "counts_per_subj.loc[:,'No_pc']  = 100*counts_per_subj.loc[:,0]/counts_per_subj.loc[:,'sum']\n",
    "counts_per_subj.loc[:,'Yes_pc'] = 100*counts_per_subj.loc[:,1]/counts_per_subj.loc[:,'sum']\n",
    "counts_per_subj.loc[:,'Soc-NonSoc_pc'] = counts_per_subj.loc[:,'Yes_pc'] - counts_per_subj.loc[:,'No_pc']\n",
    "#counts_per_subj\n",
    "\n",
    "counts_per_subj_fullDat.loc[:,'No_pc']  = 100*counts_per_subj_fullDat.loc[:,0]/counts_per_subj_fullDat.loc[:,'sum']\n",
    "counts_per_subj_fullDat.loc[:,'Yes_pc'] = 100*counts_per_subj_fullDat.loc[:,1]/counts_per_subj_fullDat.loc[:,'sum']\n",
    "counts_per_subj_fullDat.loc[:,'Soc-NonSoc_pc'] = counts_per_subj_fullDat.loc[:,'Yes_pc'] - counts_per_subj_fullDat.loc[:,'No_pc']\n",
    "#counts_per_subj_fullDat"
   ],
   "outputs": [],
   "metadata": {}
  },
  {
   "cell_type": "code",
   "execution_count": 39,
   "source": [
    "counts_per_subj.mean(),counts_per_subj.sem()"
   ],
   "outputs": [
    {
     "output_type": "execute_result",
     "data": {
      "text/plain": [
       "(response\n",
       " 0                 4.453220\n",
       " 1                 4.941677\n",
       " diff              0.488457\n",
       " sum               9.394897\n",
       " No_pc            47.107803\n",
       " Yes_pc           52.892197\n",
       " Soc-NonSoc_pc     5.784393\n",
       " dtype: float64,\n",
       " response\n",
       " 0                0.033162\n",
       " 1                0.024413\n",
       " diff             0.051001\n",
       " sum              0.028113\n",
       " No_pc            0.290525\n",
       " Yes_pc           0.290525\n",
       " Soc-NonSoc_pc    0.581051\n",
       " dtype: float64)"
      ]
     },
     "metadata": {},
     "execution_count": 39
    }
   ],
   "metadata": {}
  },
  {
   "cell_type": "code",
   "execution_count": 40,
   "source": [
    "counts_per_subj_fullDat.mean(),counts_per_subj_fullDat.sem()"
   ],
   "outputs": [
    {
     "output_type": "execute_result",
     "data": {
      "text/plain": [
       "(response\n",
       " 0                 4.450363\n",
       " 1                 4.943099\n",
       " diff              0.492736\n",
       " sum               9.393462\n",
       " No_pc            47.080259\n",
       " Yes_pc           52.919741\n",
       " Soc-NonSoc_pc     5.839483\n",
       " dtype: float64,\n",
       " response\n",
       " 0                0.033185\n",
       " 1                0.024358\n",
       " diff             0.050942\n",
       " sum              0.028179\n",
       " No_pc            0.290486\n",
       " Yes_pc           0.290486\n",
       " Soc-NonSoc_pc    0.580973\n",
       " dtype: float64)"
      ]
     },
     "metadata": {},
     "execution_count": 40
    }
   ],
   "metadata": {}
  },
  {
   "cell_type": "code",
   "execution_count": 41,
   "source": [
    "# informative figure, but not used in the paper\n",
    "# NOT DONE FOR THE FULL DATA VERSION\n",
    "fig = plt.figure(1,figsize=(5,3))\n",
    "ax = fig.add_subplot(111)\n",
    "sns.histplot(data=counts_per_subj,bins=20,x='Soc-NonSoc_pc',color='grey')\n",
    "ax.set_xlabel('% Social-% NonSocial\\nresponses')\n",
    "ax.set_ylabel('Number of\\nsubjects')\n",
    "ymin,ymax = ax.get_ylim()\n",
    "ax.vlines(counts_per_subj.mean()['Soc-NonSoc_pc'],ymin,ymax,color = 'r',label = 'Mean\\nS-NS')\n",
    "ax.set_xticks([-75,-50,-25,0,25,50,75])\n",
    "ax.legend(loc='upper right')\n",
    "ax.set_xlim(-60,85)\n",
    "xmin,xmax = ax.get_ylim()\n",
    "ax.axvspan(0,xmax, facecolor= '0', alpha=0.2) # background color for the first 5 bars(mental?)\n",
    "ax.axvspan(xmin,0, facecolor='0.1', alpha=0.2) # background color for the first 5 bars(mental?)\n",
    "\n",
    "ax.text(-30,100,'\"Non-social\"\\nbias', ha='center', color = 'black')\n",
    "ax.text(45,100,'\"Social\"\\nbias', ha='center', color = 'black')\n",
    "ax.set_title(\"Social v. nonsocial responses\",fontweight='bold')\n",
    "stats.ttest_1samp(counts_per_subj['Soc-NonSoc_pc'], 0)\n",
    "\n",
    "print(f\"25%:{np.quantile(counts_per_subj['Yes_pc'],.25):.2f}, 50%:{np.quantile(counts_per_subj['Yes_pc'],.5):.2f}, 75%:{np.quantile(counts_per_subj['Yes_pc'],.75):.2f}\")\n",
    "print(f\"25%:{np.quantile(counts_per_subj['No_pc'],.25):.2f}, 50%:{np.quantile(counts_per_subj['No_pc'],.5):.2f}, 75%:{np.quantile(counts_per_subj['No_pc'],.75)}\")"
   ],
   "outputs": [
    {
     "output_type": "stream",
     "name": "stdout",
     "text": [
      "25%:50.00, 50%:50.00, 75%:55.56\n",
      "25%:44.44, 50%:50.00, 75%:50.0\n"
     ]
    },
    {
     "output_type": "display_data",
     "data": {
      "image/png": "[encoded data removed]",
      "text/plain": [
       "<Figure size 360x216 with 1 Axes>"
      ]
     },
     "metadata": {
      "needs_background": "light"
     }
    }
   ],
   "metadata": {}
  },
  {
   "cell_type": "code",
   "execution_count": 42,
   "source": [
    "def box_plot(data, edge_color, fill_color,pos,v):\n",
    "    # code to customize boxplots\n",
    "\n",
    "    alpha= .2\n",
    "    bp = ax.boxplot(data, positions = [pos], patch_artist=True,widths=.5,vert=v,flierprops = dict(markeredgecolor=edge_color,\n",
    "    markerfacecolor=fill_color, alpha=alpha))\n",
    "    \n",
    "    for element in ['boxes', 'whiskers', 'fliers', 'means', 'caps']:\n",
    "        plt.setp(bp[element], color=edge_color)\n",
    "    for element in ['medians']:\n",
    "        plt.setp(bp[element], color='k',linewidth=2,ls='dashed')\n",
    "    #for element in ['fliers']:\n",
    "    #    plt.setp(bp[element], marker= (5,2,0))#'*')\n",
    "\n",
    "    for patch in bp['boxes']:\n",
    "        patch.set(facecolor=fill_color,alpha=alpha)#'w'\n",
    "    return bp\n",
    "\n",
    "# exploring colors \n",
    "#import matplotlib.cm\n",
    "#for i in range(len(matplotlib.cm.datad[\"RdBu\"])):\n",
    "#    print(np.array(matplotlib.cm.datad[\"RdBu\"][i])*255)\n",
    "#red_rgb = np.array(matplotlib.cm.datad[\"RdBu\"][0])*255\n",
    "#blue_rgb = np.array(matplotlib.cm.datad[\"RdBu\"][-1])*255\n",
    "#print('red:',red_rgb,',\\n blue:',blue_rgb)"
   ],
   "outputs": [],
   "metadata": {}
  },
  {
   "cell_type": "markdown",
   "source": [
    "- asterisks convention:\n",
    "- p <.05: *\n",
    "- p < .01 **\n",
    "- p < .001 ***\n",
    "- p > .05 but  <.1 +"
   ],
   "metadata": {}
  },
  {
   "cell_type": "code",
   "execution_count": 43,
   "source": [
    "def plot_fig_1b(ax,counts_per_subj):\n",
    "    #function to plot figure 1b from the manuscript\n",
    "    \n",
    "    bp1 = box_plot(counts_per_subj['Yes_pc'], red_rgb, red_rgb,1,True)\n",
    "    bp2 = box_plot(counts_per_subj['No_pc'], blue_rgb, blue_rgb,0,True)\n",
    "    plt.xticks(range(2),['\"Non-\\nsocial\"','\"Social\"'])\n",
    "    plt.ylabel(\"% of responses\\nper participant\")\n",
    "    plt.ylim(0,102)\n",
    "    plt.yticks([0,20,40,60,80,100])\n",
    "    xmin,xmax = plt.xlim()\n",
    "    plt.xlabel('')\n",
    "    plt.plot([0,0,1,1],[93,95,95,93],linewidth = 1,color='k')\n",
    "    plt.plot([0.4,0.5,0.6],[97]*3,'*',color='k')\n",
    "    print('mean diff:',np.nanmean(counts_per_subj['Yes_pc']-counts_per_subj['No_pc']))\n",
    "    print(stats.ttest_rel(counts_per_subj['No_pc'],counts_per_subj['Yes_pc']))\n",
    "    print('when writing as p<10^(-...), reduce the expo value by 1 (i.e., 1.06e-18 is p< 10^-17!!')\n",
    "\n",
    "fig = plt.figure(figsize=(4,4))\n",
    "ax =  fig.add_subplot(111)\n",
    "plot_fig_1b(ax,counts_per_subj)"
   ],
   "outputs": [
    {
     "output_type": "stream",
     "name": "stdout",
     "text": [
      "mean diff: 5.7843931416227905\n",
      "Ttest_relResult(statistic=-9.955057612909297, pvalue=4.0348763675618627e-22)\n",
      "when writing as p<10^(-...), reduce the expo value by 1 (i.e., 1.06e-18 is p< 10^-17!!\n"
     ]
    },
    {
     "output_type": "display_data",
     "data": {
      "image/png": "[encoded data removed]",
      "text/plain": [
       "<Figure size 288x288 with 1 Axes>"
      ]
     },
     "metadata": {
      "needs_background": "light"
     }
    }
   ],
   "metadata": {}
  },
  {
   "cell_type": "code",
   "execution_count": 44,
   "source": [
    "fig = plt.figure(figsize=(4,4))\n",
    "ax =  fig.add_subplot(111)\n",
    "plot_fig_1b(ax,counts_per_subj_fullDat)"
   ],
   "outputs": [
    {
     "output_type": "stream",
     "name": "stdout",
     "text": [
      "mean diff: 5.839482685729659\n",
      "Ttest_relResult(statistic=-10.0512171700471, pvalue=1.680706301406872e-22)\n",
      "when writing as p<10^(-...), reduce the expo value by 1 (i.e., 1.06e-18 is p< 10^-17!!\n"
     ]
    },
    {
     "output_type": "display_data",
     "data": {
      "image/png": "[encoded data removed]",
      "text/plain": [
       "<Figure size 288x288 with 1 Axes>"
      ]
     },
     "metadata": {
      "needs_background": "light"
     }
    }
   ],
   "metadata": {}
  },
  {
   "cell_type": "code",
   "execution_count": 45,
   "source": [
    "# save data for trait analysis etc\n",
    "counts_per_subj = counts_per_subj.rename(columns={0: 'countNonSoc(No)', 1: 'countSoc(Yes)','diff':'Yes-No','sum':'Yes+No'})\n",
    "#counts_per_subj\n",
    "\n",
    "# save data for trait analysis etc\n",
    "counts_per_subj_fullDat = counts_per_subj_fullDat.rename(columns={0: 'countNonSoc(No)', 1: 'countSoc(Yes)','diff':'Yes-No','sum':'Yes+No'})\n",
    "#counts_per_subj_fullDat"
   ],
   "outputs": [
    {
     "output_type": "execute_result",
     "data": {
      "text/html": [
       "<div>\n",
       "<style scoped>\n",
       "    .dataframe tbody tr th:only-of-type {\n",
       "        vertical-align: middle;\n",
       "    }\n",
       "\n",
       "    .dataframe tbody tr th {\n",
       "        vertical-align: top;\n",
       "    }\n",
       "\n",
       "    .dataframe thead th {\n",
       "        text-align: right;\n",
       "    }\n",
       "</style>\n",
       "<table border=\"1\" class=\"dataframe\">\n",
       "  <thead>\n",
       "    <tr style=\"text-align: right;\">\n",
       "      <th>response</th>\n",
       "      <th>countNonSoc(No)</th>\n",
       "      <th>countSoc(Yes)</th>\n",
       "      <th>Yes-No</th>\n",
       "      <th>Yes+No</th>\n",
       "      <th>No_pc</th>\n",
       "      <th>Yes_pc</th>\n",
       "      <th>Soc-NonSoc_pc</th>\n",
       "    </tr>\n",
       "    <tr>\n",
       "      <th>subj_idx</th>\n",
       "      <th></th>\n",
       "      <th></th>\n",
       "      <th></th>\n",
       "      <th></th>\n",
       "      <th></th>\n",
       "      <th></th>\n",
       "      <th></th>\n",
       "    </tr>\n",
       "  </thead>\n",
       "  <tbody>\n",
       "    <tr>\n",
       "      <th>100206</th>\n",
       "      <td>1.0</td>\n",
       "      <td>9.0</td>\n",
       "      <td>8.0</td>\n",
       "      <td>10.0</td>\n",
       "      <td>10.000000</td>\n",
       "      <td>90.000000</td>\n",
       "      <td>80.000000</td>\n",
       "    </tr>\n",
       "    <tr>\n",
       "      <th>100307</th>\n",
       "      <td>4.0</td>\n",
       "      <td>5.0</td>\n",
       "      <td>1.0</td>\n",
       "      <td>9.0</td>\n",
       "      <td>44.444444</td>\n",
       "      <td>55.555556</td>\n",
       "      <td>11.111111</td>\n",
       "    </tr>\n",
       "    <tr>\n",
       "      <th>100408</th>\n",
       "      <td>4.0</td>\n",
       "      <td>5.0</td>\n",
       "      <td>1.0</td>\n",
       "      <td>9.0</td>\n",
       "      <td>44.444444</td>\n",
       "      <td>55.555556</td>\n",
       "      <td>11.111111</td>\n",
       "    </tr>\n",
       "    <tr>\n",
       "      <th>100610</th>\n",
       "      <td>5.0</td>\n",
       "      <td>5.0</td>\n",
       "      <td>0.0</td>\n",
       "      <td>10.0</td>\n",
       "      <td>50.000000</td>\n",
       "      <td>50.000000</td>\n",
       "      <td>0.000000</td>\n",
       "    </tr>\n",
       "    <tr>\n",
       "      <th>101309</th>\n",
       "      <td>2.0</td>\n",
       "      <td>5.0</td>\n",
       "      <td>3.0</td>\n",
       "      <td>7.0</td>\n",
       "      <td>28.571429</td>\n",
       "      <td>71.428571</td>\n",
       "      <td>42.857143</td>\n",
       "    </tr>\n",
       "    <tr>\n",
       "      <th>...</th>\n",
       "      <td>...</td>\n",
       "      <td>...</td>\n",
       "      <td>...</td>\n",
       "      <td>...</td>\n",
       "      <td>...</td>\n",
       "      <td>...</td>\n",
       "      <td>...</td>\n",
       "    </tr>\n",
       "    <tr>\n",
       "      <th>991267</th>\n",
       "      <td>4.0</td>\n",
       "      <td>5.0</td>\n",
       "      <td>1.0</td>\n",
       "      <td>9.0</td>\n",
       "      <td>44.444444</td>\n",
       "      <td>55.555556</td>\n",
       "      <td>11.111111</td>\n",
       "    </tr>\n",
       "    <tr>\n",
       "      <th>992673</th>\n",
       "      <td>5.0</td>\n",
       "      <td>5.0</td>\n",
       "      <td>0.0</td>\n",
       "      <td>10.0</td>\n",
       "      <td>50.000000</td>\n",
       "      <td>50.000000</td>\n",
       "      <td>0.000000</td>\n",
       "    </tr>\n",
       "    <tr>\n",
       "      <th>992774</th>\n",
       "      <td>4.0</td>\n",
       "      <td>5.0</td>\n",
       "      <td>1.0</td>\n",
       "      <td>9.0</td>\n",
       "      <td>44.444444</td>\n",
       "      <td>55.555556</td>\n",
       "      <td>11.111111</td>\n",
       "    </tr>\n",
       "    <tr>\n",
       "      <th>993675</th>\n",
       "      <td>5.0</td>\n",
       "      <td>5.0</td>\n",
       "      <td>0.0</td>\n",
       "      <td>10.0</td>\n",
       "      <td>50.000000</td>\n",
       "      <td>50.000000</td>\n",
       "      <td>0.000000</td>\n",
       "    </tr>\n",
       "    <tr>\n",
       "      <th>996782</th>\n",
       "      <td>5.0</td>\n",
       "      <td>5.0</td>\n",
       "      <td>0.0</td>\n",
       "      <td>10.0</td>\n",
       "      <td>50.000000</td>\n",
       "      <td>50.000000</td>\n",
       "      <td>0.000000</td>\n",
       "    </tr>\n",
       "  </tbody>\n",
       "</table>\n",
       "<p>826 rows × 7 columns</p>\n",
       "</div>"
      ],
      "text/plain": [
       "response  countNonSoc(No)  countSoc(Yes)  Yes-No  Yes+No      No_pc  \\\n",
       "subj_idx                                                              \n",
       "100206                1.0            9.0     8.0    10.0  10.000000   \n",
       "100307                4.0            5.0     1.0     9.0  44.444444   \n",
       "100408                4.0            5.0     1.0     9.0  44.444444   \n",
       "100610                5.0            5.0     0.0    10.0  50.000000   \n",
       "101309                2.0            5.0     3.0     7.0  28.571429   \n",
       "...                   ...            ...     ...     ...        ...   \n",
       "991267                4.0            5.0     1.0     9.0  44.444444   \n",
       "992673                5.0            5.0     0.0    10.0  50.000000   \n",
       "992774                4.0            5.0     1.0     9.0  44.444444   \n",
       "993675                5.0            5.0     0.0    10.0  50.000000   \n",
       "996782                5.0            5.0     0.0    10.0  50.000000   \n",
       "\n",
       "response     Yes_pc  Soc-NonSoc_pc  \n",
       "subj_idx                            \n",
       "100206    90.000000      80.000000  \n",
       "100307    55.555556      11.111111  \n",
       "100408    55.555556      11.111111  \n",
       "100610    50.000000       0.000000  \n",
       "101309    71.428571      42.857143  \n",
       "...             ...            ...  \n",
       "991267    55.555556      11.111111  \n",
       "992673    50.000000       0.000000  \n",
       "992774    55.555556      11.111111  \n",
       "993675    50.000000       0.000000  \n",
       "996782    50.000000       0.000000  \n",
       "\n",
       "[826 rows x 7 columns]"
      ]
     },
     "metadata": {},
     "execution_count": 45
    }
   ],
   "metadata": {}
  },
  {
   "cell_type": "code",
   "execution_count": 46,
   "source": [
    "counts_per_subj.to_csv(os.path.join(file_loc,'data_for_paper','1b_S_NS_responses_per_subj.csv'))\n",
    "counts_per_subj_fullDat.to_csv(os.path.join(file_loc,'data_for_paper','1b_S_NS_responses_per_subj_fullDat.csv'))"
   ],
   "outputs": [],
   "metadata": {}
  },
  {
   "cell_type": "markdown",
   "source": [
    "## 1(c) SDT estimates for our data"
   ],
   "metadata": {}
  },
  {
   "cell_type": "markdown",
   "source": [
    "- in addition to counting one or the other responses, we can also use signal detection measures to see how they align with experimenter-assigned labels. For example, a higher number of \"social\" responses could show in a net(1) response bias towards social, and/or (2) an decrease in d prime (?)"
   ],
   "metadata": {}
  },
  {
   "cell_type": "code",
   "execution_count": 47,
   "source": [
    "# Function to compute SDT measures like dprime, critia etc. \n",
    "\n",
    "from scipy.stats import norm\n",
    "import math\n",
    "Z = norm.ppf\n",
    " \n",
    "def SDT(hits, misses, fas, crs):\n",
    "    \"\"\" returns a dict with d-prime measures given hits, misses, false alarms, and correct rejections\"\"\"\n",
    "    # Floors an ceilings are replaced by half hits and half FA's\n",
    "    half_hit = 0.5 / (hits + misses)\n",
    "    half_fa = 0.5 / (fas + crs)\n",
    " \n",
    "    # Calculate hit_rate and avoid d' infinity\n",
    "    hit_rate = hits / (hits + misses)\n",
    "    if hit_rate == 1: \n",
    "        hit_rate = 1 - half_hit\n",
    "    if hit_rate == 0: \n",
    "        hit_rate = half_hit\n",
    " \n",
    "    # Calculate false alarm rate and avoid d' infinity\n",
    "    fa_rate = fas / (fas + crs)\n",
    "    if fa_rate == 1: \n",
    "        fa_rate = 1 - half_fa\n",
    "    if fa_rate == 0: \n",
    "        fa_rate = half_fa\n",
    " \n",
    "    # Return d', beta, c and Ad'\n",
    "    out = {}\n",
    "    out['d'] = Z(hit_rate) - Z(fa_rate)\n",
    "    out['beta'] = math.exp((Z(fa_rate)**2 - Z(hit_rate)**2) / 2)\n",
    "    out['c'] = -(Z(hit_rate) + Z(fa_rate)) / 2\n",
    "    out['Ad'] = norm.cdf(out['d'] / math.sqrt(2))\n",
    "    \n",
    "    return(out)"
   ],
   "outputs": [],
   "metadata": {}
  },
  {
   "cell_type": "code",
   "execution_count": 48,
   "source": [
    "#creating a matrix of hits, FAs, FNs and CRs per subject\n",
    "\n",
    "matrix = data_sure.groupby([\"subj_idx\", \"stim\"])[\"response\"].value_counts().unstack().fillna(0) #/n_trials\n",
    "#matrix.head(10)\n",
    "\n",
    "matrix_fullDat = data_sure_fullDat.groupby([\"subj_idx\", \"stim\"])[\"response\"].value_counts().unstack().fillna(0) #/n_trials\n",
    "#matrix_fullDat.head(10)"
   ],
   "outputs": [
    {
     "output_type": "execute_result",
     "data": {
      "text/html": [
       "<div>\n",
       "<style scoped>\n",
       "    .dataframe tbody tr th:only-of-type {\n",
       "        vertical-align: middle;\n",
       "    }\n",
       "\n",
       "    .dataframe tbody tr th {\n",
       "        vertical-align: top;\n",
       "    }\n",
       "\n",
       "    .dataframe thead th {\n",
       "        text-align: right;\n",
       "    }\n",
       "</style>\n",
       "<table border=\"1\" class=\"dataframe\">\n",
       "  <thead>\n",
       "    <tr style=\"text-align: right;\">\n",
       "      <th></th>\n",
       "      <th>response</th>\n",
       "      <th>0</th>\n",
       "      <th>1</th>\n",
       "    </tr>\n",
       "    <tr>\n",
       "      <th>subj_idx</th>\n",
       "      <th>stim</th>\n",
       "      <th></th>\n",
       "      <th></th>\n",
       "    </tr>\n",
       "  </thead>\n",
       "  <tbody>\n",
       "    <tr>\n",
       "      <th rowspan=\"2\" valign=\"top\">100206</th>\n",
       "      <th>Mental</th>\n",
       "      <td>0.0</td>\n",
       "      <td>5.0</td>\n",
       "    </tr>\n",
       "    <tr>\n",
       "      <th>Random</th>\n",
       "      <td>1.0</td>\n",
       "      <td>4.0</td>\n",
       "    </tr>\n",
       "    <tr>\n",
       "      <th rowspan=\"2\" valign=\"top\">100307</th>\n",
       "      <th>Mental</th>\n",
       "      <td>0.0</td>\n",
       "      <td>4.0</td>\n",
       "    </tr>\n",
       "    <tr>\n",
       "      <th>Random</th>\n",
       "      <td>4.0</td>\n",
       "      <td>1.0</td>\n",
       "    </tr>\n",
       "    <tr>\n",
       "      <th rowspan=\"2\" valign=\"top\">100408</th>\n",
       "      <th>Mental</th>\n",
       "      <td>0.0</td>\n",
       "      <td>5.0</td>\n",
       "    </tr>\n",
       "    <tr>\n",
       "      <th>Random</th>\n",
       "      <td>4.0</td>\n",
       "      <td>0.0</td>\n",
       "    </tr>\n",
       "    <tr>\n",
       "      <th rowspan=\"2\" valign=\"top\">100610</th>\n",
       "      <th>Mental</th>\n",
       "      <td>0.0</td>\n",
       "      <td>5.0</td>\n",
       "    </tr>\n",
       "    <tr>\n",
       "      <th>Random</th>\n",
       "      <td>5.0</td>\n",
       "      <td>0.0</td>\n",
       "    </tr>\n",
       "    <tr>\n",
       "      <th rowspan=\"2\" valign=\"top\">101309</th>\n",
       "      <th>Mental</th>\n",
       "      <td>0.0</td>\n",
       "      <td>5.0</td>\n",
       "    </tr>\n",
       "    <tr>\n",
       "      <th>Random</th>\n",
       "      <td>2.0</td>\n",
       "      <td>0.0</td>\n",
       "    </tr>\n",
       "  </tbody>\n",
       "</table>\n",
       "</div>"
      ],
      "text/plain": [
       "response           0    1\n",
       "subj_idx stim            \n",
       "100206   Mental  0.0  5.0\n",
       "         Random  1.0  4.0\n",
       "100307   Mental  0.0  4.0\n",
       "         Random  4.0  1.0\n",
       "100408   Mental  0.0  5.0\n",
       "         Random  4.0  0.0\n",
       "100610   Mental  0.0  5.0\n",
       "         Random  5.0  0.0\n",
       "101309   Mental  0.0  5.0\n",
       "         Random  2.0  0.0"
      ]
     },
     "metadata": {},
     "execution_count": 48
    }
   ],
   "metadata": {}
  },
  {
   "cell_type": "code",
   "execution_count": null,
   "source": [
    "hits = matrix[matrix.index.get_level_values(\"stim\")==\"Mental\"].reset_index(\"stim\")[1] # '1' responses for Mental\n",
    "misses = matrix[matrix.index.get_level_values(\"stim\")==\"Mental\"].reset_index(\"stim\")[0] # '0' responses for Mental\n",
    "false_alarms = matrix[matrix.index.get_level_values(\"stim\")==\"Random\"].reset_index(\"stim\")[1]\n",
    "correct_rejects = matrix[matrix.index.get_level_values(\"stim\")==\"Random\"].reset_index(\"stim\")[0]\n",
    "\n",
    "hits.name='hits'\n",
    "misses.name='misses'\n",
    "false_alarms.name='false_alarms'\n",
    "correct_rejects.name='correct_rejects'\n",
    "\n",
    "sdt_data = pd.concat([hits, misses, false_alarms, correct_rejects], axis=1)\n",
    "#sdt_data.head()\n",
    "#sdt_data.transpose().plot(legend = None, alpha = 0.1)\n",
    "\n",
    "hits_fullDat = matrix_fullDat[matrix_fullDat.index.get_level_values(\"stim\")==\"Mental\"].reset_index(\"stim\")[1] # '1' responses for Mental\n",
    "misses_fullDat = matrix_fullDat[matrix_fullDat.index.get_level_values(\"stim\")==\"Mental\"].reset_index(\"stim\")[0] # '0' responses for Mental\n",
    "false_alarms_fullDat = matrix_fullDat[matrix_fullDat.index.get_level_values(\"stim\")==\"Random\"].reset_index(\"stim\")[1]\n",
    "correct_rejects_fullDat = matrix_fullDat[matrix_fullDat.index.get_level_values(\"stim\")==\"Random\"].reset_index(\"stim\")[0]\n",
    "\n",
    "hits_fullDat.name='hits'\n",
    "misses_fullDat.name='misses'\n",
    "false_alarms_fullDat.name='false_alarms'\n",
    "correct_rejects_fullDat.name='correct_rejects'\n",
    "\n",
    "sdt_data_fullDat = pd.concat([hits_fullDat, misses_fullDat, false_alarms_fullDat, correct_rejects_fullDat], axis=1)\n",
    "#sdt_data_fullDat.head()\n",
    "#sdt_data.transpose().plot(legend = None, alpha = 0.1)"
   ],
   "outputs": [],
   "metadata": {}
  },
  {
   "cell_type": "code",
   "execution_count": null,
   "source": [
    "# extracting SDT measures for each subject and saving in a dataframe\n",
    "results = {}\n",
    "for s, subj in enumerate(sdt_data.index.values):\n",
    "    results[subj] = SDT(sdt_data[\"hits\"].iloc[s], sdt_data[\"misses\"].iloc[s], sdt_data[\"false_alarms\"].iloc[s], sdt_data[\"correct_rejects\"].iloc[s])\n",
    "\n",
    "sdt_measures = pd.DataFrame.from_dict(results, orient=\"index\")\n",
    "#sdt_measures.head()\n",
    "\n",
    "results_fullDat = {}\n",
    "for s, subj in enumerate(sdt_data_fullDat.index.values):\n",
    "    results_fullDat[subj] = SDT(sdt_data_fullDat[\"hits\"].iloc[s], sdt_data_fullDat[\"misses\"].iloc[s], \\\n",
    "        sdt_data_fullDat[\"false_alarms\"].iloc[s], sdt_data_fullDat[\"correct_rejects\"].iloc[s])\n",
    "\n",
    "sdt_measures_fullDat = pd.DataFrame.from_dict(results_fullDat, orient=\"index\")\n",
    "#sdt_measures_fullDat.head()"
   ],
   "outputs": [],
   "metadata": {}
  },
  {
   "cell_type": "code",
   "execution_count": 57,
   "source": [
    "# Plotting the distributions of dprimes and criteria across subjects\n",
    "# d-prime values not used in the paper, but for the reviewer in revision 1\n",
    "\n",
    "plt.figure(1,figsize =(3,3))\n",
    "sdt_measures['d'].hist(bins=20, alpha = 0.5)\n",
    "plt.plot(np.zeros((10,1))+np.median(sdt_measures['d']), np.arange(0,500,50), 'r', linestyle = 'dashed',label = \"med\")\n",
    "plt.title('d-prime distribution\\n(RT >100ms, n=823)')\n",
    "plt.grid(None)\n",
    "plt.ylabel('Nr. of subjects')\n",
    "plt.xlabel(\"dprime\")\n",
    "plt.legend()\n",
    "\n",
    "print('dat\\nmean:', sdt_measures['d'].mean(), ', sem:', sdt_measures['d'].sem()) # for the reviewer in revision 1\n",
    "std,pdprime = stats.wilcoxon(sdt_measures['d'], alternative = 'greater') # non parametric alternative to one-sample ttest\n",
    "print(std,',',pdprime)\n",
    "\n",
    "plt.figure(2,figsize =(3,3))\n",
    "sdt_measures_fullDat['d'].hist(bins=20, alpha = 0.5)\n",
    "plt.plot(np.zeros((10,1))+np.median(sdt_measures_fullDat['d']), np.arange(0,500,50), 'r', linestyle = 'dashed',label = \"med\")\n",
    "plt.title('d-prime distribution\\n(all trials, n=826)')\n",
    "plt.grid(None)\n",
    "plt.ylabel('Nr. of subjects')\n",
    "plt.xlabel(\"dprime\")\n",
    "plt.legend()\n",
    "\n",
    "print('full dat\\nmean:',sdt_measures_fullDat['d'].mean(), ',sem:', sdt_measures_fullDat['d'].sem()) # for the reviewer in revision 1\n",
    "std,pdprime = stats.wilcoxon(sdt_measures_fullDat['d'], alternative = 'greater') # non parametric alternative to one-sample ttest\n",
    "print(std,',',pdprime)\n"
   ],
   "outputs": [
    {
     "output_type": "stream",
     "name": "stdout",
     "text": [
      "dat\n",
      "mean: 2.3269282788643113 , sem: 0.012587219730840642\n",
      "339076.0 , 6.663292598494334e-140\n",
      "full dat\n",
      "mean: 2.3265185118054186 ,sem: 0.012555199944471952\n",
      "341551.0 , 2.1581726642417955e-140\n"
     ]
    },
    {
     "output_type": "display_data",
     "data": {
      "image/png": "[encoded data removed]",
      "text/plain": [
       "<Figure size 216x216 with 1 Axes>"
      ]
     },
     "metadata": {
      "needs_background": "light"
     }
    },
    {
     "output_type": "display_data",
     "data": {
      "image/png": "[encoded data removed]",
      "text/plain": [
       "<Figure size 216x216 with 1 Axes>"
      ]
     },
     "metadata": {
      "needs_background": "light"
     }
    }
   ],
   "metadata": {}
  },
  {
   "cell_type": "code",
   "execution_count": 78,
   "source": [
    "sdt_measures['beta-1'] = sdt_measures['beta'] - 1 \n",
    "sdt_measures_fullDat['beta-1'] = sdt_measures_fullDat['beta'] - 1 "
   ],
   "outputs": [],
   "metadata": {}
  },
  {
   "cell_type": "code",
   "execution_count": 58,
   "source": [
    "# for reviewer 2 in revision 1\n",
    "plt.figure(1,figsize =(3,3))\n",
    "sdt_measures['beta'].hist(bins=20, alpha = 0.5)\n",
    "plt.plot(np.zeros((10,1))+np.median(sdt_measures['beta']), np.arange(0,500,50), 'r', linestyle = 'dashed',label = \"med\")\n",
    "plt.title('bias distribution\\n(RT >100, n=823)')\n",
    "plt.grid(None)\n",
    "plt.ylabel('Nr. of subjects')\n",
    "plt.xlabel(\"bias\")\n",
    "plt.legend(bbox_to_anchor = [1.01,1])\n",
    "plt.savefig('/Users/f0053cz/Dropbox (Dartmouth College)/postdoc_Dartmouth/HCP/paper_prep/figures/revision1/bias_823.png',dpi=300,bbox_inches='tight',facecolor='w')\n",
    "\n",
    "print('dat\\nmean:', sdt_measures['beta'].mean(), ', sem:', sdt_measures['beta'].sem()) # for the reviewer in revision 1\n",
    "std,pbeta = stats.wilcoxon(sdt_measures['beta'], alternative = 'greater') # non parametric alternative to one-sample ttest\n",
    "print(std,',',pbeta)\n",
    "\n",
    "# for reviewer 2 in revision 1\n",
    "plt.figure(2,figsize =(3,3))\n",
    "sdt_measures_fullDat['beta'].hist(bins=20, alpha = 0.5)\n",
    "plt.plot(np.zeros((10,1))+np.median(sdt_measures_fullDat['beta']), np.arange(0,500,50), 'r', linestyle = 'dashed',label = \"med\")\n",
    "plt.title('bias distribution\\n(all trials, n=826)')\n",
    "plt.grid(None)\n",
    "plt.ylabel('Nr. of subjects')\n",
    "plt.xlabel(\"bias\")\n",
    "plt.legend(bbox_to_anchor = [1.01,1])\n",
    "plt.savefig('/Users/f0053cz/Dropbox (Dartmouth College)/postdoc_Dartmouth/HCP/paper_prep/figures/revision1/bias_all.png',dpi=300,bbox_inches='tight',facecolor='w')\n",
    "\n",
    "print('dat\\nmean:', sdt_measures_fullDat['beta'].mean(), ', sem:', sdt_measures_fullDat['beta'].sem()) # for the reviewer in revision 1\n",
    "std,pbeta = stats.wilcoxon(sdt_measures_fullDat['beta'], alternative = 'greater') # non parametric alternative to one-sample ttest\n",
    "print(std,',',pbeta)"
   ],
   "outputs": [
    {
     "output_type": "stream",
     "name": "stdout",
     "text": [
      "dat\n",
      "mean: 0.9545053541793677 , sem: 0.008846875340468362\n",
      "339076.0 , 4.4562663326571415e-140\n",
      "dat\n",
      "mean: 0.9536768051715554 , sem: 0.008837223845901677\n",
      "341551.0 , 1.441437161773569e-140\n"
     ]
    },
    {
     "output_type": "display_data",
     "data": {
      "image/png": "[encoded data removed]",
      "text/plain": [
       "<Figure size 216x216 with 1 Axes>"
      ]
     },
     "metadata": {
      "needs_background": "light"
     }
    },
    {
     "output_type": "display_data",
     "data": {
      "image/png": "[encoded data removed]",
      "text/plain": [
       "<Figure size 216x216 with 1 Axes>"
      ]
     },
     "metadata": {
      "needs_background": "light"
     }
    }
   ],
   "metadata": {}
  },
  {
   "cell_type": "code",
   "execution_count": 95,
   "source": [
    "stats.wilcoxon(sdt_measures['beta'], np.ones((sdt_measures.shape[0],))) # non parametric alternative to one-sample ttest"
   ],
   "outputs": [
    {
     "output_type": "execute_result",
     "data": {
      "text/plain": [
       "WilcoxonResult(statistic=35263.0, pvalue=1.1813177242431023e-08)"
      ]
     },
     "metadata": {},
     "execution_count": 95
    }
   ],
   "metadata": {}
  },
  {
   "cell_type": "code",
   "execution_count": 92,
   "source": [
    "stats.wilcoxon(sdt_measures_fullDat['beta'], np.ones((sdt_measures_fullDat.shape[0],))) # non parametric alternative to one-sample ttest"
   ],
   "outputs": [
    {
     "output_type": "execute_result",
     "data": {
      "text/plain": [
       "WilcoxonResult(statistic=35360.0, pvalue=6.930161198437038e-09)"
      ]
     },
     "metadata": {},
     "execution_count": 92
    }
   ],
   "metadata": {}
  },
  {
   "cell_type": "code",
   "execution_count": 208,
   "source": [
    "sdt_measures_fullDat['c'].mean(), sdt_measures_fullDat['c'].sem() # for revision 1"
   ],
   "outputs": [
    {
     "output_type": "execute_result",
     "data": {
      "text/plain": [
       "(-0.047499453931695565, 0.005924944659365216)"
      ]
     },
     "metadata": {},
     "execution_count": 208
    }
   ],
   "metadata": {}
  },
  {
   "cell_type": "code",
   "execution_count": 210,
   "source": [
    "def plot_fig_1c(ax,sdt_measures):\n",
    "    # Figure 1c in the paper\n",
    "\n",
    "    stc, pc = stats.wilcoxon(sdt_measures['c'])\n",
    "    print(stc,',',pc, 'when writing as p<10^(-...), reduce the expo value by 1 (i.e., 1.06e-18 is p< 10^-17!!')\n",
    "\n",
    "    ax.axvspan(-1,0,color=red_rgb,alpha=alpha)\n",
    "    ax.axvspan(0,1,color=blue_rgb,alpha=alpha)\n",
    "    sdt_measures['c'].hist(bins=25, alpha = .7, color = [.2,.2,.2],edgecolor = 'white')\n",
    "    ax.vlines(np.nanmean(sdt_measures['c']),0,500,color='k', linestyle = 'dashed',\n",
    "            label = f\"Mean=\\n{np.round(np.nanmean(sdt_measures['c']),2)}***\")# \\n\"r\"(p<$10^{-18}$)\"\n",
    "\n",
    "    ax.grid(None)\n",
    "    ax.set_ylabel('Nr. of participants\\n ')\n",
    "    ax.set_xlabel(\"SDT Criterion\")\n",
    "    ax.set_xlim(-.75,.75)\n",
    "    ax.set_ylim(0,500)\n",
    "    #plt.xticks([-.75,-.5,-.25,0,.25,.5,.75], rotation=30)\n",
    "    #plt.legend(fontsize = 14,bbox_to_anchor=(1.02, 1), loc='upper left')\n",
    "    ax.legend()#bbox_to_anchor = (1.05,1))\n",
    "\n",
    "    ax.text(-.4,100,'\"Social\"\\nbias', ha='center',  color = 'k')\n",
    "    ax.text(.38,100,'\"Non-social\"\\nbias', ha='center', color = 'k')\n",
    "\n",
    "    #plt.legend(handles=[p1, p2], title='title', bbox_to_anchor=(1.05, 1), loc='upper left', prop=fontP)\n",
    "\n",
    "fig = plt.figure(1,figsize=(5,5))\n",
    "ax = fig.add_subplot(111)\n",
    "plot_fig_1c(ax,sdt_measures)"
   ],
   "outputs": [
    {
     "output_type": "stream",
     "name": "stdout",
     "text": [
      "26813.5 , 1.0623685894361655e-18 when writing as p<10^(-...), reduce the expo value by 1 (i.e., 1.06e-18 is p< 10^-17!!\n"
     ]
    },
    {
     "output_type": "display_data",
     "data": {
      "image/png": "[encoded data removed]",
      "text/plain": [
       "<Figure size 360x360 with 1 Axes>"
      ]
     },
     "metadata": {
      "needs_background": "light"
     }
    }
   ],
   "metadata": {}
  },
  {
   "cell_type": "code",
   "execution_count": 211,
   "source": [
    "fig = plt.figure(1,figsize=(5,5))\n",
    "ax = fig.add_subplot(111)\n",
    "plot_fig_1c(ax,sdt_measures_fullDat)"
   ],
   "outputs": [
    {
     "output_type": "stream",
     "name": "stdout",
     "text": [
      "26834.0 , 4.435764321171681e-19 when writing as p<10^(-...), reduce the expo value by 1 (i.e., 1.06e-18 is p< 10^-17!!\n"
     ]
    },
    {
     "output_type": "display_data",
     "data": {
      "image/png": "[encoded data removed]",
      "text/plain": [
       "<Figure size 360x360 with 1 Axes>"
      ]
     },
     "metadata": {
      "needs_background": "light"
     }
    }
   ],
   "metadata": {}
  },
  {
   "cell_type": "code",
   "execution_count": 114,
   "source": [
    "# save data for trait analysis etc\n",
    "sdt_measures.to_csv(os.path.join(file_loc,'data_for_paper','1c_SDTmeasures_per_subj.csv'))\n",
    "sdt_measures_fullDat.to_csv(os.path.join(file_loc,'data_for_paper','1c_SDTmeasures_per_subj_fulldata.csv'))"
   ],
   "outputs": [],
   "metadata": {}
  },
  {
   "cell_type": "markdown",
   "source": [
    "# LMEMs for the trial-level analyses (Response time and unure responses - Figures 1d and 1e in the manuscript)"
   ],
   "metadata": {}
  },
  {
   "cell_type": "code",
   "execution_count": 115,
   "source": [
    "# LMEM: We use the Python version called pymer4 of the R package lme4.\n",
    "# from pymer4.test_install import test_install; test_install() # to test pyme4r install\n",
    "# important: pymer installed in the conda environment py37 (python v3.7x), \n",
    "# so if module can't be found here, quit Jupyter and type 'conda activate py37' into terminal\n",
    "\n",
    "#install lme functions\n",
    "from pymer4.models import Lmer\n",
    "#from pymer4.models import Lm"
   ],
   "outputs": [],
   "metadata": {}
  },
  {
   "cell_type": "markdown",
   "source": [
    "- Subject and stimulus being random factors that could've influenced results, it's important to control for them. LMEM lets us control for their effects on the DV using random intercepts and sometimes also on how the regressors affect the DV (using random slopes). The following cells show various LMEMs."
   ],
   "metadata": {}
  },
  {
   "cell_type": "markdown",
   "source": [
    "Interpreting the logistic regression results : if coef= .379\n",
    "log(p(r=1)/p(r=0)) = .379 So p(r=1)/p(r=0) = exp(.379) > 1, so p(r=1) is more likely, BUT p-value = 0.749 so results are not significant."
   ],
   "metadata": {}
  },
  {
   "cell_type": "markdown",
   "source": [
    "## Reaction time"
   ],
   "metadata": {}
  },
  {
   "cell_type": "code",
   "execution_count": 116,
   "source": [
    "#log-transforming RT makes the distribution closer to a Gaussian (and its residuals too - which is an assumption in LMEMs)\n",
    "\n",
    "data_sure = data_sure.assign(logRT = np.log(data_sure['rt'])) # add a column for logRT\n",
    "data_sure.head()\n",
    "\n",
    "plt.figure(1, figsize=(10,4))\n",
    "plt.subplot(1,2,1)\n",
    "plt.title(\"RT before log-transformation\")\n",
    "data_sure['rt'].hist()\n",
    "plt.subplot(1,2,2)\n",
    "plt.title(\"RT after log-transformation\")\n",
    "data_sure['logRT'].hist()\n",
    "plt.tight_layout()"
   ],
   "outputs": [
    {
     "output_type": "display_data",
     "data": {
      "image/png": "[encoded data removed]",
      "text/plain": [
       "<Figure size 720x288 with 2 Axes>"
      ]
     },
     "metadata": {
      "needs_background": "light"
     }
    }
   ],
   "metadata": {}
  },
  {
   "cell_type": "code",
   "execution_count": 130,
   "source": [
    "# same as above, but for the fullData\n",
    "data_sure_fullDat.loc[data_sure_fullDat['rt']==0,'rt'] = np.nan\n",
    "data_sure_fullDat = data_sure_fullDat.assign(logRT = np.log(data_sure_fullDat['rt'])) # add a column for logRT\n",
    "data_sure_fullDat.head()\n",
    "\n",
    "plt.figure(1, figsize=(10,4))\n",
    "plt.subplot(1,2,1)\n",
    "plt.title(\"RT before log-transformation\")\n",
    "data_sure_fullDat['rt'].hist()\n",
    "plt.subplot(1,2,2)\n",
    "plt.title(\"RT after log-transformation\")\n",
    "data_sure_fullDat['logRT'].hist()\n",
    "plt.tight_layout()"
   ],
   "outputs": [
    {
     "output_type": "display_data",
     "data": {
      "image/png": "[encoded data removed]",
      "text/plain": [
       "<Figure size 720x288 with 2 Axes>"
      ]
     },
     "metadata": {
      "needs_background": "light"
     }
    }
   ],
   "metadata": {}
  },
  {
   "cell_type": "markdown",
   "source": [
    "- Most of the analyses will be done on the sure responses.\n",
    "- RT is skewed and hence we take its log-transform (still not fully normal)"
   ],
   "metadata": {}
  },
  {
   "cell_type": "markdown",
   "source": [
    "## Qn: Are \"social\" responses faster than \"nonsocial\" responses?"
   ],
   "metadata": {}
  },
  {
   "cell_type": "markdown",
   "source": [
    "- asterisks convention:\n",
    "- p <.05: *\n",
    "- p < .01 **\n",
    "- p < .001 ***\n",
    "- p > .05 but  <.1 +"
   ],
   "metadata": {}
  },
  {
   "cell_type": "code",
   "execution_count": 132,
   "source": [
    "def plot_fig_1d(ax, p_rt):\n",
    "    # Figure 1d in the manuscript\n",
    "\n",
    "    bp1 = box_plot(data_sure.loc[data_sure['response']==1,'rt'], red_rgb, red_rgb,1,False)\n",
    "    bp2 = box_plot(data_sure.loc[data_sure['response']==0,'rt'], blue_rgb, blue_rgb,0,False)\n",
    "    ax.set_yticks(range(2))\n",
    "    ax.set_yticklabels(('\"Non-\\nsocial\"','\"Social\"'))\n",
    "    ax.set_ylabel('')\n",
    "    ax.set_xlabel('Response time (s)')\n",
    "    ax.plot([3.1,3.15,3.15,3.1],[0,0,1,1],color='k', linewidth=1)\n",
    "\n",
    "    if p_rt < .001:\n",
    "        plt.plot([3.2]*3,[.5,.4,.6],'*',color='k') # 3 asterisks based on the paired Wilcoxon test which had p< 10^-3\n",
    "    elif p_rt < .01:\n",
    "        plt.plot([3.2]*2,[.45,.55],'*',color='k') # 3 asterisks based on the paired Wilcoxon test which had p< 10^-3\n",
    "    elif p_rt < .05:\n",
    "        plt.plot([3.2]*1,[.5],'*',color='k') # 3 asterisks based on the paired Wilcoxon test which had p< 10^-3#return rts_per_subj\n",
    "\n",
    "fig = plt.figure(figsize=(5,3))\n",
    "ax = fig.add_subplot(111)\n",
    "rts_per_subj = data_sure.groupby(['subj_idx', 'response']).median().rt.unstack(level=-1) # Mean count per subject for Mental and Random\n",
    "rts_per_subj['diff'] = rts_per_subj[1]-rts_per_subj[0]\n",
    "\n",
    "rts_per_subj.dropna(inplace=True) # remove NaN rows\n",
    "rts_per_subj = rts_per_subj.rename(columns={0: 'medianRT_NonSoc(No)', 1: 'medianRT_Soc(Yes)','diff':'medianYes-medianNo'})\n",
    "st_rt, p_rt = stats.wilcoxon(rts_per_subj['medianRT_Soc(Yes)'],rts_per_subj['medianRT_NonSoc(No)'])#rts_per_subj['diff'])\n",
    "print('Observer responses as labels:\\ntest stat=',st_rt,', p=',p_rt)\n",
    "\n",
    "plot_fig_1d(ax, p_rt)\n"
   ],
   "outputs": [
    {
     "output_type": "stream",
     "name": "stdout",
     "text": [
      "Observer responses as labels:\n",
      "test stat= 144885.0 , p= 0.0005566263911873042\n"
     ]
    },
    {
     "output_type": "display_data",
     "data": {
      "image/png": "[encoded data removed]",
      "text/plain": [
       "<Figure size 360x216 with 1 Axes>"
      ]
     },
     "metadata": {
      "needs_background": "light"
     }
    }
   ],
   "metadata": {}
  },
  {
   "cell_type": "code",
   "execution_count": 217,
   "source": [
    "rts_per_subj.median(), rts_per_subj.sem()"
   ],
   "outputs": [
    {
     "output_type": "execute_result",
     "data": {
      "text/plain": [
       "(response\n",
       " medianRT_NonSoc(No)    0.900\n",
       " medianRT_Soc(Yes)      0.870\n",
       " medianYes-medianNo    -0.023\n",
       " dtype: float64,\n",
       " response\n",
       " medianRT_NonSoc(No)    0.011850\n",
       " medianRT_Soc(Yes)      0.009195\n",
       " medianYes-medianNo     0.011437\n",
       " dtype: float64)"
      ]
     },
     "metadata": {},
     "execution_count": 217
    }
   ],
   "metadata": {}
  },
  {
   "cell_type": "code",
   "execution_count": 134,
   "source": [
    "# RT analysis on the full data\n",
    "fig = plt.figure(figsize=(5,3))\n",
    "ax = fig.add_subplot(111)\n",
    "rts_per_subj_fullDat = data_sure_fullDat.groupby(['subj_idx', 'response']).median().rt.unstack(level=-1) # Mean count per subject for Mental and Random\n",
    "rts_per_subj_fullDat['diff'] = rts_per_subj_fullDat[1]-rts_per_subj_fullDat[0]\n",
    "\n",
    "rts_per_subj_fullDat.dropna(inplace=True) # remove NaN rows\n",
    "rts_per_subj_fullDat = rts_per_subj_fullDat.rename(columns={0: 'medianRT_NonSoc(No)', 1: 'medianRT_Soc(Yes)','diff':'medianYes-medianNo'})\n",
    "st_rt_fullDat, p_rt_fullDat = stats.wilcoxon(rts_per_subj_fullDat['medianRT_Soc(Yes)'],rts_per_subj_fullDat['medianRT_NonSoc(No)'])#rts_per_subj['diff'])\n",
    "print('Observer responses as labels:\\ntest stat=',st_rt_fullDat,', p=',p_rt_fullDat)\n",
    "\n",
    "plot_fig_1d(ax, p_rt_fullDat)"
   ],
   "outputs": [
    {
     "output_type": "stream",
     "name": "stdout",
     "text": [
      "Observer responses as labels:\n",
      "test stat= 145488.0 , p= 0.00042281593662054994\n"
     ]
    },
    {
     "output_type": "display_data",
     "data": {
      "image/png": "[encoded data removed]",
      "text/plain": [
       "<Figure size 360x216 with 1 Axes>"
      ]
     },
     "metadata": {
      "needs_background": "light"
     }
    }
   ],
   "metadata": {}
  },
  {
   "cell_type": "code",
   "execution_count": 218,
   "source": [
    "rts_per_subj_fullDat.median(),rts_per_subj_fullDat.sem()"
   ],
   "outputs": [
    {
     "output_type": "execute_result",
     "data": {
      "text/plain": [
       "(response\n",
       " medianRT_NonSoc(No)    0.9005\n",
       " medianRT_Soc(Yes)      0.8695\n",
       " medianYes-medianNo    -0.0230\n",
       " dtype: float64,\n",
       " response\n",
       " medianRT_NonSoc(No)    0.011816\n",
       " medianRT_Soc(Yes)      0.009173\n",
       " medianYes-medianNo     0.011414\n",
       " dtype: float64)"
      ]
     },
     "metadata": {},
     "execution_count": 218
    }
   ],
   "metadata": {}
  },
  {
   "cell_type": "code",
   "execution_count": 135,
   "source": [
    "def plot_fig_1d_MentalRandom(ax,p_rt_MentalRandom):\n",
    "    # repeating figure 1d but for Mental vs. Random (experimenter label-based) comparisons. \n",
    "\n",
    "    bp1 = box_plot(data_sure.loc[data_sure['stim']=='Mental','rt'], red_rgb, red_rgb,1,False)\n",
    "    bp2 = box_plot(data_sure.loc[data_sure['stim']=='Random','rt'], blue_rgb, blue_rgb,0,False)\n",
    "\n",
    "    ax.set_yticks(range(2))\n",
    "    ax.set_yticklabels(('Random','Mental'))\n",
    "    ax.set_ylabel('')\n",
    "    ax.set_xlabel('Response time (s)')\n",
    "    ax.plot([3.1,3.15,3.15,3.1],[0,0,1,1],color='k', linewidth=1)\n",
    "\n",
    "    if p_rt_MentalRandom < .001:\n",
    "        plt.plot([3.2]*3,[.5,.4,.6],'*',color='k') # 3 asterisks based on the paired Wilcoxon test which had p< 10^-3\n",
    "    elif p_rt_MentalRandom < .01:\n",
    "        plt.plot([3.2]*2,[.45,.55],'*',color='k') # 3 asterisks based on the paired Wilcoxon test which had p< 10^-3\n",
    "    elif p_rt_MentalRandom < .05:\n",
    "        plt.plot([3.2]*1,[.5],'*',color='k') # 3 asterisks based on the paired Wilcoxon test which had p< 10^-3#return rts_per_subj\n",
    "\n",
    "\n",
    "    plt.plot([3.2]*3,[.5,.4,.6],'*',color='k') # 3 asterisks based on the paired Wilcoxon test which had p< 10^-3\n",
    "\n",
    "fig = plt.figure(figsize=(5,3))\n",
    "ax = fig.add_subplot(111)\n",
    "rts_per_subj_MentalRandom = data_sure.groupby(['subj_idx', 'stim']).median().rt.unstack(level=-1) # Mean count per subject for Mental and Random\n",
    "rts_per_subj_MentalRandom['diff'] = rts_per_subj_MentalRandom['Mental']-rts_per_subj_MentalRandom['Random']\n",
    "\n",
    "rts_per_subj_MentalRandom.dropna(inplace=True) # remove NaN rows\n",
    "rts_per_subj_MentalRandom = rts_per_subj_MentalRandom.rename(columns={'Random': 'medianRT_Random', 'Mental': 'medianRT_Mental','diff':'medianMental-medianRandom'})\n",
    "st_rt_MentalRandom, p_rt_MentalRandom = stats.wilcoxon(rts_per_subj_MentalRandom['medianRT_Mental'],rts_per_subj_MentalRandom['medianRT_Random'])#rts_per_subj['diff'])\n",
    "print('Experimenter labels:\\ntest stat=',st_rt_MentalRandom,', p=',p_rt_MentalRandom)\n",
    "\n",
    "plot_fig_1d_MentalRandom(ax,p_rt_MentalRandom)"
   ],
   "outputs": [
    {
     "output_type": "stream",
     "name": "stdout",
     "text": [
      "Experimenter labels:\n",
      "test stat= 142604.0 , p= 0.00012223828267660035\n"
     ]
    },
    {
     "output_type": "display_data",
     "data": {
      "image/png": "[encoded data removed]",
      "text/plain": [
       "<Figure size 360x216 with 1 Axes>"
      ]
     },
     "metadata": {
      "needs_background": "light"
     }
    }
   ],
   "metadata": {}
  },
  {
   "cell_type": "code",
   "execution_count": 137,
   "source": [
    "fig = plt.figure(figsize=(5,3))\n",
    "ax = fig.add_subplot(111)\n",
    "rts_per_subj_MentalRandom_fullDat = data_sure_fullDat.groupby(['subj_idx', 'stim']).median().rt.unstack(level=-1) # Mean count per subject for Mental and Random\n",
    "rts_per_subj_MentalRandom_fullDat['diff'] = rts_per_subj_MentalRandom_fullDat['Mental']-rts_per_subj_MentalRandom_fullDat['Random']\n",
    "\n",
    "rts_per_subj_MentalRandom_fullDat.dropna(inplace=True) # remove NaN rows\n",
    "rts_per_subj_MentalRandom_fullDat = rts_per_subj_MentalRandom_fullDat.rename(columns={'Random': 'medianRT_Random', 'Mental': 'medianRT_Mental','diff':'medianMental-medianRandom'})\n",
    "st_rt_MentalRandom_fullDat, p_rt_MentalRandom_fullDat = stats.wilcoxon(rts_per_subj_MentalRandom_fullDat['medianRT_Mental'],rts_per_subj_MentalRandom_fullDat['medianRT_Random'])#rts_per_subj['diff'])\n",
    "print('Experimenter labels:\\ntest stat=',st_rt_MentalRandom_fullDat,', p=',p_rt_MentalRandom_fullDat)\n",
    "\n",
    "plot_fig_1d_MentalRandom(ax,p_rt_MentalRandom_fullDat)\n"
   ],
   "outputs": [
    {
     "output_type": "stream",
     "name": "stdout",
     "text": [
      "Experimenter labels:\n",
      "test stat= 143352.0 , p= 9.949081293607178e-05\n"
     ]
    },
    {
     "output_type": "display_data",
     "data": {
      "image/png": "[encoded data removed]",
      "text/plain": [
       "<Figure size 360x216 with 1 Axes>"
      ]
     },
     "metadata": {
      "needs_background": "light"
     }
    }
   ],
   "metadata": {}
  },
  {
   "cell_type": "code",
   "execution_count": 216,
   "source": [
    "rts_per_subj_MentalRandom.mean()"
   ],
   "outputs": [
    {
     "output_type": "execute_result",
     "data": {
      "text/plain": [
       "stim\n",
       "medianRT_Mental              0.916100\n",
       "medianRT_Random              0.967869\n",
       "medianMental-medianRandom   -0.051769\n",
       "dtype: float64"
      ]
     },
     "metadata": {},
     "execution_count": 216
    }
   ],
   "metadata": {}
  },
  {
   "cell_type": "code",
   "execution_count": 139,
   "source": [
    "# identify NaN rows\n",
    "print(np.where(np.isnan(rts_per_subj_MentalRandom)))\n",
    "print(rts_per_subj_MentalRandom.iloc[[60,181],:])\n",
    "rts_per_subj_MentalRandom.shape\n",
    "\n",
    "#print(st_rt,',',p_rt,np.nanmean(rts_per_subj_MentalRandom['medianMental-medianRandom']))\n",
    "#rts_per_subj_MentalRandom.median(),rts_per_subj_MentalRandom.sem()"
   ],
   "outputs": [
    {
     "output_type": "stream",
     "name": "stdout",
     "text": [
      "(array([], dtype=int64), array([], dtype=int64))\n",
      "stim      medianRT_Mental  medianRT_Random  medianMental-medianRandom\n",
      "subj_idx                                                             \n",
      "118528              0.856           1.2375                    -0.3815\n",
      "153126              0.859           0.7720                     0.0870\n"
     ]
    },
    {
     "output_type": "execute_result",
     "data": {
      "text/plain": [
       "(823, 3)"
      ]
     },
     "metadata": {},
     "execution_count": 139
    }
   ],
   "metadata": {}
  },
  {
   "cell_type": "markdown",
   "source": [
    "- so overall, there's no difference between Mental/Random and Social/Non-social above"
   ],
   "metadata": {}
  },
  {
   "cell_type": "code",
   "execution_count": 144,
   "source": [
    "# save data for trait analysis etc\n",
    "data_sure.to_csv(os.path.join(file_loc,'data_for_paper','1d_sure_responses.csv'),index=False)\n",
    "data_sure_fullDat.to_csv(os.path.join(file_loc,'data_for_paper','1d_sure_responses_fullDat.csv'),index=False)\n",
    "rts_per_subj.to_csv(os.path.join(file_loc,'data_for_paper','extra_medianRT_per_subj.csv'))\n",
    "rts_per_subj_MentalRandom.to_csv(os.path.join(file_loc,'data_for_paper','extra_medianRT_per_subj_MentalRandom.csv'))"
   ],
   "outputs": [],
   "metadata": {}
  },
  {
   "cell_type": "markdown",
   "source": [
    "## RT data analysis using LMEMs"
   ],
   "metadata": {}
  },
  {
   "cell_type": "code",
   "execution_count": 147,
   "source": [
    "# USED IN THE PAPER!!\n",
    "model = Lmer('logRT ~  response +(1|subj_idx) + (1|movie)', data=data_sure)#data_sure_nobiasedsubs) # ff: mean response, rf:subjID\n",
    "print(model.fit())\n",
    "#sns.regplot(x= 'response',y= 'residuals', data= model.data, fit_reg= False)\n",
    "plt.hist(model.residuals)\n",
    "stats.normaltest(model.residuals)"
   ],
   "outputs": [
    {
     "output_type": "stream",
     "name": "stdout",
     "text": [
      "Formula: logRT~response+(1|subj_idx)+(1|movie)\n",
      "\n",
      "Family: gaussian\t Inference: parametric\n",
      "\n",
      "Number of observations: 7732\t Groups: {'subj_idx': 823.0, 'movie': 10.0}\n",
      "\n",
      "Log-likelihood: -3117.835 \t AIC: 6235.670\n",
      "\n",
      "Random effects:\n",
      "\n",
      "                 Name    Var    Std\n",
      "subj_idx  (Intercept)  0.042  0.205\n",
      "movie     (Intercept)  0.029  0.171\n",
      "Residual               0.111  0.333\n",
      "\n",
      "No random effect correlations specified\n",
      "\n",
      "Fixed effects:\n",
      "\n",
      "             Estimate  2.5_ci  97.5_ci     SE        DF  T-stat  P-val Sig\n",
      "(Intercept)    -0.066  -0.176    0.044  0.056    10.126  -1.175  0.267    \n",
      "response       -0.037  -0.081    0.008  0.023  3509.453  -1.626  0.104    \n"
     ]
    },
    {
     "output_type": "execute_result",
     "data": {
      "text/plain": [
       "NormaltestResult(statistic=287.54123357855724, pvalue=3.6409479346292417e-63)"
      ]
     },
     "metadata": {},
     "execution_count": 147
    },
    {
     "output_type": "display_data",
     "data": {
      "image/png": "[encoded data removed]",
      "text/plain": [
       "<Figure size 432x288 with 1 Axes>"
      ]
     },
     "metadata": {
      "needs_background": "light"
     }
    }
   ],
   "metadata": {}
  },
  {
   "cell_type": "code",
   "execution_count": 150,
   "source": [
    "data_sure_fullDat_nonan = data_sure_fullDat.loc[~np.isnan(data_sure_fullDat['rt']),:]\n",
    "data_sure_fullDat_nonan.shape,data_sure_fullDat.shape"
   ],
   "outputs": [
    {
     "output_type": "execute_result",
     "data": {
      "text/plain": [
       "((7758, 8), (7759, 8))"
      ]
     },
     "metadata": {},
     "execution_count": 150
    }
   ],
   "metadata": {}
  },
  {
   "cell_type": "code",
   "execution_count": 152,
   "source": [
    "model = Lmer('logRT ~  response +(1|subj_idx) + (1|movie)', data=data_sure_fullDat_nonan)#data_sure_nobiasedsubs) # ff: mean response, rf:subjID\n",
    "print(model.fit())\n",
    "plt.hist(model.residuals)\n",
    "stats.normaltest(model.residuals)"
   ],
   "outputs": [
    {
     "output_type": "stream",
     "name": "stdout",
     "text": [
      "Formula: logRT~response+(1|subj_idx)+(1|movie)\n",
      "\n",
      "Family: gaussian\t Inference: parametric\n",
      "\n",
      "Number of observations: 7758\t Groups: {'subj_idx': 826.0, 'movie': 10.0}\n",
      "\n",
      "Log-likelihood: -3205.671 \t AIC: 6411.343\n",
      "\n",
      "Random effects:\n",
      "\n",
      "                 Name    Var    Std\n",
      "subj_idx  (Intercept)  0.042  0.205\n",
      "movie     (Intercept)  0.029  0.170\n",
      "Residual               0.113  0.336\n",
      "\n",
      "No random effect correlations specified\n",
      "\n",
      "Fixed effects:\n",
      "\n",
      "             Estimate  2.5_ci  97.5_ci     SE        DF  T-stat  P-val Sig\n",
      "(Intercept)    -0.065  -0.175    0.044  0.056    10.150  -1.172  0.268    \n",
      "response       -0.040  -0.085    0.005  0.023  3415.352  -1.755  0.079   .\n"
     ]
    },
    {
     "output_type": "execute_result",
     "data": {
      "text/plain": [
       "NormaltestResult(statistic=472.27147664442975, pvalue=2.8025403008216897e-103)"
      ]
     },
     "metadata": {},
     "execution_count": 152
    },
    {
     "output_type": "display_data",
     "data": {
      "image/png": "[encoded data removed]",
      "text/plain": [
       "<Figure size 432x288 with 1 Axes>"
      ]
     },
     "metadata": {
      "needs_background": "light"
     }
    }
   ],
   "metadata": {}
  },
  {
   "cell_type": "code",
   "execution_count": 153,
   "source": [
    "# in preparing to respond to the first revision, repeat model with stimtype \n",
    "model = Lmer('logRT ~  stim +(1|subj_idx) + (1|movie)', data=data_sure)#data_sure_nobiasedsubs) # ff: mean response, rf:subjID\n",
    "print(model.fit(factors={\"stim\":[\"Random\",\"Mental\"]})) # to make \"Random\" as the reference intercept term\n",
    "#print(model.fit())\n",
    "#sns.regplot(x= 'response',y= 'residuals', data= modelb\n",
    "# .data, fit_reg= False)\n",
    "plt.hist(model.residuals)\n",
    "stats.normaltest(model.residuals)"
   ],
   "outputs": [
    {
     "output_type": "stream",
     "name": "stdout",
     "text": [
      "Formula: logRT~stim+(1|subj_idx)+(1|movie)\n",
      "\n",
      "Family: gaussian\t Inference: parametric\n",
      "\n",
      "Number of observations: 7732\t Groups: {'subj_idx': 823.0, 'movie': 10.0}\n",
      "\n",
      "Log-likelihood: -3117.557 \t AIC: 6235.114\n",
      "\n",
      "Random effects:\n",
      "\n",
      "                 Name    Var    Std\n",
      "subj_idx  (Intercept)  0.042  0.205\n",
      "movie     (Intercept)  0.033  0.181\n",
      "Residual               0.111  0.333\n",
      "\n",
      "No random effect correlations specified\n",
      "\n",
      "Fixed effects:\n",
      "\n",
      "             Estimate  2.5_ci  97.5_ci     SE     DF  T-stat  P-val Sig\n",
      "(Intercept)    -0.079  -0.238    0.081  0.081  8.129  -0.966  0.362    \n",
      "stim1          -0.012  -0.237    0.213  0.115  8.002  -0.103  0.920    \n"
     ]
    },
    {
     "output_type": "execute_result",
     "data": {
      "text/plain": [
       "NormaltestResult(statistic=287.7385573507574, pvalue=3.298877249791852e-63)"
      ]
     },
     "metadata": {},
     "execution_count": 153
    },
    {
     "output_type": "display_data",
     "data": {
      "image/png": "[encoded data removed]",
      "text/plain": [
       "<Figure size 432x288 with 1 Axes>"
      ]
     },
     "metadata": {
      "needs_background": "light"
     }
    }
   ],
   "metadata": {}
  },
  {
   "cell_type": "code",
   "execution_count": 154,
   "source": [
    "# in preparing to respond to the first revision, repeat model with stimtype \n",
    "\n",
    "model = Lmer('logRT ~  stim +(1|subj_idx) + (1|movie)', data=data_sure_fullDat_nonan)#data_sure_nobiasedsubs) # ff: mean response, rf:subjID\n",
    "print(model.fit(factors={\"stim\":[\"Random\",\"Mental\"]})) # to make \"Random\" as the reference intercept term\n",
    "#print(model.fit())\n",
    "#sns.regplot(x= 'response',y= 'residuals', data= modelb\n",
    "# .data, fit_reg= False)\n",
    "plt.hist(model.residuals)\n",
    "stats.normaltest(model.residuals)"
   ],
   "outputs": [
    {
     "output_type": "stream",
     "name": "stdout",
     "text": [
      "Formula: logRT~stim+(1|subj_idx)+(1|movie)\n",
      "\n",
      "Family: gaussian\t Inference: parametric\n",
      "\n",
      "Number of observations: 7758\t Groups: {'subj_idx': 826.0, 'movie': 10.0}\n",
      "\n",
      "Log-likelihood: -3205.622 \t AIC: 6411.245\n",
      "\n",
      "Random effects:\n",
      "\n",
      "                 Name    Var    Std\n",
      "subj_idx  (Intercept)  0.042  0.205\n",
      "movie     (Intercept)  0.032  0.180\n",
      "Residual               0.113  0.336\n",
      "\n",
      "No random effect correlations specified\n",
      "\n",
      "Fixed effects:\n",
      "\n",
      "             Estimate  2.5_ci  97.5_ci     SE     DF  T-stat  P-val Sig\n",
      "(Intercept)    -0.079  -0.238     0.08  0.081  8.130  -0.975  0.357    \n",
      "stim1          -0.014  -0.237     0.21  0.114  8.002  -0.118  0.909    \n"
     ]
    },
    {
     "output_type": "execute_result",
     "data": {
      "text/plain": [
       "NormaltestResult(statistic=472.12339452121074, pvalue=3.0179183866444107e-103)"
      ]
     },
     "metadata": {},
     "execution_count": 154
    },
    {
     "output_type": "display_data",
     "data": {
      "image/png": "[encoded data removed]",
      "text/plain": [
       "<Figure size 432x288 with 1 Axes>"
      ]
     },
     "metadata": {
      "needs_background": "light"
     }
    }
   ],
   "metadata": {}
  },
  {
   "cell_type": "markdown",
   "source": [
    "## Uncertainty analyses (Figure 1e in manuscript)"
   ],
   "metadata": {}
  },
  {
   "cell_type": "code",
   "execution_count": 171,
   "source": [
    "certainty = np.ones(len(dat['response']))\n",
    "certainty = [1 if i != 9 else 0 for i in dat['response'].values]\n",
    "dat['certainty'] = certainty\n",
    "uncertainty = [0 if i != 9 else 1 for i in dat['response'].values]\n",
    "dat['uncertainty'] = uncertainty\n",
    "#dat = dat.assign(certainty)\n",
    "dat.head(10)"
   ],
   "outputs": [
    {
     "output_type": "execute_result",
     "data": {
      "text/html": [
       "<div>\n",
       "<style scoped>\n",
       "    .dataframe tbody tr th:only-of-type {\n",
       "        vertical-align: middle;\n",
       "    }\n",
       "\n",
       "    .dataframe tbody tr th {\n",
       "        vertical-align: top;\n",
       "    }\n",
       "\n",
       "    .dataframe thead th {\n",
       "        text-align: right;\n",
       "    }\n",
       "</style>\n",
       "<table border=\"1\" class=\"dataframe\">\n",
       "  <thead>\n",
       "    <tr style=\"text-align: right;\">\n",
       "      <th></th>\n",
       "      <th>subj_idx</th>\n",
       "      <th>stim</th>\n",
       "      <th>movie</th>\n",
       "      <th>rt</th>\n",
       "      <th>response</th>\n",
       "      <th>run</th>\n",
       "      <th>accuracy</th>\n",
       "      <th>movies_ind</th>\n",
       "      <th>certainty</th>\n",
       "      <th>uncertainty</th>\n",
       "    </tr>\n",
       "    <tr>\n",
       "      <th>index</th>\n",
       "      <th></th>\n",
       "      <th></th>\n",
       "      <th></th>\n",
       "      <th></th>\n",
       "      <th></th>\n",
       "      <th></th>\n",
       "      <th></th>\n",
       "      <th></th>\n",
       "      <th></th>\n",
       "      <th></th>\n",
       "    </tr>\n",
       "  </thead>\n",
       "  <tbody>\n",
       "    <tr>\n",
       "      <th>0</th>\n",
       "      <td>168745</td>\n",
       "      <td>Mental</td>\n",
       "      <td>Scaring.AVI</td>\n",
       "      <td>1.252</td>\n",
       "      <td>1</td>\n",
       "      <td>1</td>\n",
       "      <td>1.0</td>\n",
       "      <td>5</td>\n",
       "      <td>1</td>\n",
       "      <td>0</td>\n",
       "    </tr>\n",
       "    <tr>\n",
       "      <th>1</th>\n",
       "      <td>168745</td>\n",
       "      <td>Mental</td>\n",
       "      <td>SEDUCING-B.AVI</td>\n",
       "      <td>0.578</td>\n",
       "      <td>1</td>\n",
       "      <td>1</td>\n",
       "      <td>1.0</td>\n",
       "      <td>6</td>\n",
       "      <td>1</td>\n",
       "      <td>0</td>\n",
       "    </tr>\n",
       "    <tr>\n",
       "      <th>2</th>\n",
       "      <td>168745</td>\n",
       "      <td>Random</td>\n",
       "      <td>STAR-A.AVI</td>\n",
       "      <td>1.643</td>\n",
       "      <td>0</td>\n",
       "      <td>1</td>\n",
       "      <td>1.0</td>\n",
       "      <td>7</td>\n",
       "      <td>1</td>\n",
       "      <td>0</td>\n",
       "    </tr>\n",
       "    <tr>\n",
       "      <th>3</th>\n",
       "      <td>168745</td>\n",
       "      <td>Mental</td>\n",
       "      <td>SURPRISING-B.AVI</td>\n",
       "      <td>1.082</td>\n",
       "      <td>1</td>\n",
       "      <td>1</td>\n",
       "      <td>1.0</td>\n",
       "      <td>8</td>\n",
       "      <td>1</td>\n",
       "      <td>0</td>\n",
       "    </tr>\n",
       "    <tr>\n",
       "      <th>4</th>\n",
       "      <td>168745</td>\n",
       "      <td>Random</td>\n",
       "      <td>TENNIS-A.AVI</td>\n",
       "      <td>1.232</td>\n",
       "      <td>0</td>\n",
       "      <td>1</td>\n",
       "      <td>1.0</td>\n",
       "      <td>9</td>\n",
       "      <td>1</td>\n",
       "      <td>0</td>\n",
       "    </tr>\n",
       "    <tr>\n",
       "      <th>5</th>\n",
       "      <td>668361</td>\n",
       "      <td>Mental</td>\n",
       "      <td>COAXING-B.AVI</td>\n",
       "      <td>1.796</td>\n",
       "      <td>9</td>\n",
       "      <td>0</td>\n",
       "      <td>9.0</td>\n",
       "      <td>0</td>\n",
       "      <td>0</td>\n",
       "      <td>1</td>\n",
       "    </tr>\n",
       "    <tr>\n",
       "      <th>6</th>\n",
       "      <td>668361</td>\n",
       "      <td>Random</td>\n",
       "      <td>BILLIARD-A.AVI</td>\n",
       "      <td>1.254</td>\n",
       "      <td>0</td>\n",
       "      <td>0</td>\n",
       "      <td>1.0</td>\n",
       "      <td>1</td>\n",
       "      <td>1</td>\n",
       "      <td>0</td>\n",
       "    </tr>\n",
       "    <tr>\n",
       "      <th>7</th>\n",
       "      <td>668361</td>\n",
       "      <td>Random</td>\n",
       "      <td>DRIFTING-A.AVI</td>\n",
       "      <td>0.590</td>\n",
       "      <td>0</td>\n",
       "      <td>0</td>\n",
       "      <td>1.0</td>\n",
       "      <td>2</td>\n",
       "      <td>1</td>\n",
       "      <td>0</td>\n",
       "    </tr>\n",
       "    <tr>\n",
       "      <th>8</th>\n",
       "      <td>668361</td>\n",
       "      <td>Mental</td>\n",
       "      <td>Fishing.AVI</td>\n",
       "      <td>0.993</td>\n",
       "      <td>0</td>\n",
       "      <td>0</td>\n",
       "      <td>0.0</td>\n",
       "      <td>3</td>\n",
       "      <td>1</td>\n",
       "      <td>0</td>\n",
       "    </tr>\n",
       "    <tr>\n",
       "      <th>9</th>\n",
       "      <td>668361</td>\n",
       "      <td>Random</td>\n",
       "      <td>Random mechanical.AVI</td>\n",
       "      <td>0.816</td>\n",
       "      <td>0</td>\n",
       "      <td>0</td>\n",
       "      <td>1.0</td>\n",
       "      <td>4</td>\n",
       "      <td>1</td>\n",
       "      <td>0</td>\n",
       "    </tr>\n",
       "  </tbody>\n",
       "</table>\n",
       "</div>"
      ],
      "text/plain": [
       "       subj_idx    stim                  movie     rt  response  run  \\\n",
       "index                                                                  \n",
       "0        168745  Mental            Scaring.AVI  1.252         1    1   \n",
       "1        168745  Mental         SEDUCING-B.AVI  0.578         1    1   \n",
       "2        168745  Random             STAR-A.AVI  1.643         0    1   \n",
       "3        168745  Mental       SURPRISING-B.AVI  1.082         1    1   \n",
       "4        168745  Random           TENNIS-A.AVI  1.232         0    1   \n",
       "5        668361  Mental          COAXING-B.AVI  1.796         9    0   \n",
       "6        668361  Random         BILLIARD-A.AVI  1.254         0    0   \n",
       "7        668361  Random         DRIFTING-A.AVI  0.590         0    0   \n",
       "8        668361  Mental            Fishing.AVI  0.993         0    0   \n",
       "9        668361  Random  Random mechanical.AVI  0.816         0    0   \n",
       "\n",
       "       accuracy  movies_ind  certainty  uncertainty  \n",
       "index                                                \n",
       "0           1.0           5          1            0  \n",
       "1           1.0           6          1            0  \n",
       "2           1.0           7          1            0  \n",
       "3           1.0           8          1            0  \n",
       "4           1.0           9          1            0  \n",
       "5           9.0           0          0            1  \n",
       "6           1.0           1          1            0  \n",
       "7           1.0           2          1            0  \n",
       "8           0.0           3          1            0  \n",
       "9           1.0           4          1            0  "
      ]
     },
     "metadata": {},
     "execution_count": 171
    }
   ],
   "metadata": {}
  },
  {
   "cell_type": "code",
   "execution_count": 172,
   "source": [
    "certainty_fullDat = np.ones(len(fullDat['response']))\n",
    "certainty_fullDat = [1 if i != 9 else 0 for i in fullDat['response'].values]\n",
    "fullDat['certainty'] = certainty_fullDat\n",
    "uncertainty_fullDat = [0 if i != 9 else 1 for i in fullDat['response'].values]\n",
    "fullDat['uncertainty'] = uncertainty_fullDat\n",
    "#dat = dat.assign(certainty)\n",
    "fullDat.head(10)"
   ],
   "outputs": [
    {
     "output_type": "execute_result",
     "data": {
      "text/html": [
       "<div>\n",
       "<style scoped>\n",
       "    .dataframe tbody tr th:only-of-type {\n",
       "        vertical-align: middle;\n",
       "    }\n",
       "\n",
       "    .dataframe tbody tr th {\n",
       "        vertical-align: top;\n",
       "    }\n",
       "\n",
       "    .dataframe thead th {\n",
       "        text-align: right;\n",
       "    }\n",
       "</style>\n",
       "<table border=\"1\" class=\"dataframe\">\n",
       "  <thead>\n",
       "    <tr style=\"text-align: right;\">\n",
       "      <th></th>\n",
       "      <th>subj_idx</th>\n",
       "      <th>stim</th>\n",
       "      <th>movie</th>\n",
       "      <th>rt</th>\n",
       "      <th>response</th>\n",
       "      <th>run</th>\n",
       "      <th>accuracy</th>\n",
       "      <th>movies_ind</th>\n",
       "      <th>certainty</th>\n",
       "      <th>uncertainty</th>\n",
       "    </tr>\n",
       "    <tr>\n",
       "      <th>index</th>\n",
       "      <th></th>\n",
       "      <th></th>\n",
       "      <th></th>\n",
       "      <th></th>\n",
       "      <th></th>\n",
       "      <th></th>\n",
       "      <th></th>\n",
       "      <th></th>\n",
       "      <th></th>\n",
       "      <th></th>\n",
       "    </tr>\n",
       "  </thead>\n",
       "  <tbody>\n",
       "    <tr>\n",
       "      <th>0</th>\n",
       "      <td>168745</td>\n",
       "      <td>Mental</td>\n",
       "      <td>Scaring.AVI</td>\n",
       "      <td>1.252</td>\n",
       "      <td>1</td>\n",
       "      <td>1</td>\n",
       "      <td>1.0</td>\n",
       "      <td>5</td>\n",
       "      <td>1</td>\n",
       "      <td>0</td>\n",
       "    </tr>\n",
       "    <tr>\n",
       "      <th>1</th>\n",
       "      <td>168745</td>\n",
       "      <td>Mental</td>\n",
       "      <td>SEDUCING-B.AVI</td>\n",
       "      <td>0.578</td>\n",
       "      <td>1</td>\n",
       "      <td>1</td>\n",
       "      <td>1.0</td>\n",
       "      <td>6</td>\n",
       "      <td>1</td>\n",
       "      <td>0</td>\n",
       "    </tr>\n",
       "    <tr>\n",
       "      <th>2</th>\n",
       "      <td>168745</td>\n",
       "      <td>Random</td>\n",
       "      <td>STAR-A.AVI</td>\n",
       "      <td>1.643</td>\n",
       "      <td>0</td>\n",
       "      <td>1</td>\n",
       "      <td>1.0</td>\n",
       "      <td>7</td>\n",
       "      <td>1</td>\n",
       "      <td>0</td>\n",
       "    </tr>\n",
       "    <tr>\n",
       "      <th>3</th>\n",
       "      <td>168745</td>\n",
       "      <td>Mental</td>\n",
       "      <td>SURPRISING-B.AVI</td>\n",
       "      <td>1.082</td>\n",
       "      <td>1</td>\n",
       "      <td>1</td>\n",
       "      <td>1.0</td>\n",
       "      <td>8</td>\n",
       "      <td>1</td>\n",
       "      <td>0</td>\n",
       "    </tr>\n",
       "    <tr>\n",
       "      <th>4</th>\n",
       "      <td>168745</td>\n",
       "      <td>Random</td>\n",
       "      <td>TENNIS-A.AVI</td>\n",
       "      <td>1.232</td>\n",
       "      <td>0</td>\n",
       "      <td>1</td>\n",
       "      <td>1.0</td>\n",
       "      <td>9</td>\n",
       "      <td>1</td>\n",
       "      <td>0</td>\n",
       "    </tr>\n",
       "    <tr>\n",
       "      <th>5</th>\n",
       "      <td>668361</td>\n",
       "      <td>Mental</td>\n",
       "      <td>COAXING-B.AVI</td>\n",
       "      <td>1.796</td>\n",
       "      <td>9</td>\n",
       "      <td>0</td>\n",
       "      <td>9.0</td>\n",
       "      <td>0</td>\n",
       "      <td>0</td>\n",
       "      <td>1</td>\n",
       "    </tr>\n",
       "    <tr>\n",
       "      <th>6</th>\n",
       "      <td>668361</td>\n",
       "      <td>Random</td>\n",
       "      <td>BILLIARD-A.AVI</td>\n",
       "      <td>1.254</td>\n",
       "      <td>0</td>\n",
       "      <td>0</td>\n",
       "      <td>1.0</td>\n",
       "      <td>1</td>\n",
       "      <td>1</td>\n",
       "      <td>0</td>\n",
       "    </tr>\n",
       "    <tr>\n",
       "      <th>7</th>\n",
       "      <td>668361</td>\n",
       "      <td>Random</td>\n",
       "      <td>DRIFTING-A.AVI</td>\n",
       "      <td>0.590</td>\n",
       "      <td>0</td>\n",
       "      <td>0</td>\n",
       "      <td>1.0</td>\n",
       "      <td>2</td>\n",
       "      <td>1</td>\n",
       "      <td>0</td>\n",
       "    </tr>\n",
       "    <tr>\n",
       "      <th>8</th>\n",
       "      <td>668361</td>\n",
       "      <td>Mental</td>\n",
       "      <td>Fishing.AVI</td>\n",
       "      <td>0.993</td>\n",
       "      <td>0</td>\n",
       "      <td>0</td>\n",
       "      <td>0.0</td>\n",
       "      <td>3</td>\n",
       "      <td>1</td>\n",
       "      <td>0</td>\n",
       "    </tr>\n",
       "    <tr>\n",
       "      <th>9</th>\n",
       "      <td>668361</td>\n",
       "      <td>Random</td>\n",
       "      <td>Random mechanical.AVI</td>\n",
       "      <td>0.816</td>\n",
       "      <td>0</td>\n",
       "      <td>0</td>\n",
       "      <td>1.0</td>\n",
       "      <td>4</td>\n",
       "      <td>1</td>\n",
       "      <td>0</td>\n",
       "    </tr>\n",
       "  </tbody>\n",
       "</table>\n",
       "</div>"
      ],
      "text/plain": [
       "       subj_idx    stim                  movie     rt  response  run  \\\n",
       "index                                                                  \n",
       "0        168745  Mental            Scaring.AVI  1.252         1    1   \n",
       "1        168745  Mental         SEDUCING-B.AVI  0.578         1    1   \n",
       "2        168745  Random             STAR-A.AVI  1.643         0    1   \n",
       "3        168745  Mental       SURPRISING-B.AVI  1.082         1    1   \n",
       "4        168745  Random           TENNIS-A.AVI  1.232         0    1   \n",
       "5        668361  Mental          COAXING-B.AVI  1.796         9    0   \n",
       "6        668361  Random         BILLIARD-A.AVI  1.254         0    0   \n",
       "7        668361  Random         DRIFTING-A.AVI  0.590         0    0   \n",
       "8        668361  Mental            Fishing.AVI  0.993         0    0   \n",
       "9        668361  Random  Random mechanical.AVI  0.816         0    0   \n",
       "\n",
       "       accuracy  movies_ind  certainty  uncertainty  \n",
       "index                                                \n",
       "0           1.0           5          1            0  \n",
       "1           1.0           6          1            0  \n",
       "2           1.0           7          1            0  \n",
       "3           1.0           8          1            0  \n",
       "4           1.0           9          1            0  \n",
       "5           9.0           0          0            1  \n",
       "6           1.0           1          1            0  \n",
       "7           1.0           2          1            0  \n",
       "8           0.0           3          1            0  \n",
       "9           1.0           4          1            0  "
      ]
     },
     "metadata": {},
     "execution_count": 172
    }
   ],
   "metadata": {}
  },
  {
   "cell_type": "code",
   "execution_count": 173,
   "source": [
    "def plot_fig_1e(ax,summary):\n",
    "    # figure 1e in the manuscript\n",
    "    cols = summary.columns.tolist()\n",
    "    cols = cols[-1:] + cols[:-1]\n",
    "    summary = summary[cols]\n",
    "    print('before:',summary.shape)\n",
    "    summary = summary.loc[(~np.isnan(summary['Random'])&(~np.isnan(summary['Mental']))),:]\n",
    "    print('after:',summary.shape)\n",
    "    mn = summary.mean()\n",
    "    sem = summary.sem()\n",
    "\n",
    "    bp1 = box_plot(summary['Random'], 'grey', 'grey',0,True)\n",
    "    bp2 = box_plot(summary['Mental'], 'black', 'black',1,True)\n",
    "\n",
    "    plt.xticks((0,1),('Random','Mental'))\n",
    "    plt.xlabel('')\n",
    "    plt.ylabel('% of \"Unsure\" responses\\nper participant')\n",
    "    plt.ylim(0,100)\n",
    "\n",
    "    plt.plot([0,0,1,1],[90,92,92,90],color='k',linewidth=1)\n",
    "    plt.plot([0.45,0.55],[95,95],'*',color='k')\n",
    "    print(f\"Mental: 25%:{np.quantile(summary['Mental'],.25):.2f}, 50%:{np.quantile(summary['Mental'],.5):.2f}, 75%:{np.quantile(summary['Mental'],.75):.2f}\")\n",
    "    print(f\"Random: 25%:{np.quantile(summary['Random'],.25):.2f}, 50%:{np.quantile(summary['Random'],.5):.2f}, 75%:{np.quantile(summary['Random'],.75):.2f}\")\n",
    "    return summary\n",
    "    \n",
    "summary = 100*dat.groupby(['subj_idx','stim']).mean().uncertainty.unstack(level=-1)\n",
    "summary.shape\n",
    "fig = plt.figure(1,figsize = (3,3))\n",
    "ax = fig.add_subplot(111)\n",
    "summary = plot_fig_1e(ax,summary)\n"
   ],
   "outputs": [
    {
     "output_type": "stream",
     "name": "stdout",
     "text": [
      "before: (823, 2)\n",
      "after: (823, 2)\n",
      "Mental: 25%:0.00, 50%:0.00, 75%:0.00\n",
      "Random: 25%:0.00, 50%:0.00, 75%:20.00\n"
     ]
    },
    {
     "output_type": "display_data",
     "data": {
      "image/png": "[encoded data removed]",
      "text/plain": [
       "<Figure size 216x216 with 1 Axes>"
      ]
     },
     "metadata": {
      "needs_background": "light"
     }
    }
   ],
   "metadata": {}
  },
  {
   "cell_type": "code",
   "execution_count": 174,
   "source": [
    "summary_fullDat = 100*fullDat.groupby(['subj_idx','stim']).mean().uncertainty.unstack(level=-1)\n",
    "summary_fullDat.shape\n",
    "fig = plt.figure(1,figsize = (3,3))\n",
    "ax = fig.add_subplot(111)\n",
    "summary_fullDat = plot_fig_1e(ax,summary_fullDat)"
   ],
   "outputs": [
    {
     "output_type": "stream",
     "name": "stdout",
     "text": [
      "before: (826, 2)\n",
      "after: (826, 2)\n",
      "Mental: 25%:0.00, 50%:0.00, 75%:0.00\n",
      "Random: 25%:0.00, 50%:0.00, 75%:20.00\n"
     ]
    },
    {
     "output_type": "display_data",
     "data": {
      "image/png": "[encoded data removed]",
      "text/plain": [
       "<Figure size 216x216 with 1 Axes>"
      ]
     },
     "metadata": {
      "needs_background": "light"
     }
    }
   ],
   "metadata": {}
  },
  {
   "cell_type": "code",
   "execution_count": 185,
   "source": [
    "summary1 = summary.rename(columns={'Random': 'pc_unc_Rand', 'Mental': 'pc_unc_Mental'})\n",
    "summary1.mean(),summary1.sem()"
   ],
   "outputs": [
    {
     "output_type": "execute_result",
     "data": {
      "text/plain": [
       "(stim\n",
       " pc_unc_Rand      9.404617\n",
       " pc_unc_Mental    2.697448\n",
       " dtype: float64,\n",
       " stim\n",
       " pc_unc_Rand      0.502480\n",
       " pc_unc_Mental    0.259658\n",
       " dtype: float64)"
      ]
     },
     "metadata": {},
     "execution_count": 185
    }
   ],
   "metadata": {}
  },
  {
   "cell_type": "code",
   "execution_count": 186,
   "source": [
    "summary1_fullDat = summary_fullDat.rename(columns={'Random': 'pc_unc_Rand', 'Mental': 'pc_unc_Mental'})\n",
    "summary1_fullDat.mean(),summary1_fullDat.sem()"
   ],
   "outputs": [
    {
     "output_type": "execute_result",
     "data": {
      "text/plain": [
       "(stim\n",
       " pc_unc_Rand      9.443099\n",
       " pc_unc_Mental    2.687651\n",
       " dtype: float64,\n",
       " stim\n",
       " pc_unc_Rand      0.504647\n",
       " pc_unc_Mental    0.258776\n",
       " dtype: float64)"
      ]
     },
     "metadata": {},
     "execution_count": 186
    }
   ],
   "metadata": {}
  },
  {
   "cell_type": "code",
   "execution_count": 177,
   "source": [
    "# certainty as a function of stimtype\n",
    "model = Lmer('uncertainty ~  stim + (1|subj_idx)', data=dat,family = \"binomial\") # ff: mean response, rf:subjID\n",
    "print(model.fit(factors={\"stim\":[\"Random\",\"Mental\"]}))\n",
    "#sns.regplot(x= 'response',y= 'residuals', data= model.data, fit_reg= False)\n",
    "plt.hist(model.residuals)"
   ],
   "outputs": [
    {
     "output_type": "stream",
     "name": "stdout",
     "text": [
      "Formula: uncertainty~stim+(1|subj_idx)\n",
      "\n",
      "Family: binomial\t Inference: parametric\n",
      "\n",
      "Number of observations: 8230\t Groups: {'subj_idx': 823.0}\n",
      "\n",
      "Log-likelihood: -1786.132 \t AIC: 3578.264\n",
      "\n",
      "Random effects:\n",
      "\n",
      "                 Name    Var    Std\n",
      "subj_idx  (Intercept)  0.412  0.642\n",
      "\n",
      "No random effect correlations specified\n",
      "\n",
      "Fixed effects:\n",
      "\n",
      "             Estimate  2.5_ci  97.5_ci     SE     OR  OR_2.5_ci  OR_97.5_ci  \\\n",
      "(Intercept)    -2.430  -2.576   -2.283  0.075  0.088      0.076       0.102   \n",
      "stim1          -1.345  -1.563   -1.127  0.111  0.261      0.210       0.324   \n",
      "\n",
      "              Prob  Prob_2.5_ci  Prob_97.5_ci  Z-stat  P-val  Sig  \n",
      "(Intercept)  0.081        0.071         0.093 -32.561    0.0  ***  \n",
      "stim1        0.207        0.173         0.245 -12.107    0.0  ***  \n"
     ]
    },
    {
     "output_type": "execute_result",
     "data": {
      "text/plain": [
       "(array([3738., 3994.,    0.,    0.,    0.,    0.,    0.,   66.,  321.,\n",
       "         111.]),\n",
       " array([-0.68206587, -0.34415181, -0.00623775,  0.33167631,  0.66959038,\n",
       "         1.00750444,  1.3454185 ,  1.68333257,  2.02124663,  2.35916069,\n",
       "         2.69707476]),\n",
       " <BarContainer object of 10 artists>)"
      ]
     },
     "metadata": {},
     "execution_count": 177
    },
    {
     "output_type": "display_data",
     "data": {
      "image/png": "[encoded data removed]",
      "text/plain": [
       "<Figure size 432x288 with 1 Axes>"
      ]
     },
     "metadata": {
      "needs_background": "light"
     }
    }
   ],
   "metadata": {}
  },
  {
   "cell_type": "code",
   "execution_count": 178,
   "source": [
    "# certainty as a function of stimtype\n",
    "model = Lmer('uncertainty ~  stim + (1|subj_idx)', data=fullDat,family = \"binomial\") # ff: mean response, rf:subjID\n",
    "print(model.fit(factors={\"stim\":[\"Random\",\"Mental\"]}))\n",
    "#sns.regplot(x= 'response',y= 'residuals', data= model.data, fit_reg= False)\n",
    "plt.hist(model.residuals)"
   ],
   "outputs": [
    {
     "output_type": "stream",
     "name": "stdout",
     "text": [
      "Formula: uncertainty~stim+(1|subj_idx)\n",
      "\n",
      "Family: binomial\t Inference: parametric\n",
      "\n",
      "Number of observations: 8260\t Groups: {'subj_idx': 826.0}\n",
      "\n",
      "Log-likelihood: -1794.225 \t AIC: 3594.450\n",
      "\n",
      "Random effects:\n",
      "\n",
      "                 Name    Var    Std\n",
      "subj_idx  (Intercept)  0.426  0.653\n",
      "\n",
      "No random effect correlations specified\n",
      "\n",
      "Fixed effects:\n",
      "\n",
      "             Estimate  2.5_ci  97.5_ci     SE     OR  OR_2.5_ci  OR_97.5_ci  \\\n",
      "(Intercept)    -2.430  -2.577   -2.284  0.075  0.088      0.076       0.102   \n",
      "stim1          -1.354  -1.572   -1.137  0.111  0.258      0.208       0.321   \n",
      "\n",
      "              Prob  Prob_2.5_ci  Prob_97.5_ci  Z-stat  P-val  Sig  \n",
      "(Intercept)  0.081        0.071         0.092 -32.587    0.0  ***  \n",
      "stim1        0.205        0.172         0.243 -12.197    0.0  ***  \n"
     ]
    },
    {
     "output_type": "execute_result",
     "data": {
      "text/plain": [
       "(array([3750., 4009.,    0.,    0.,    0.,    0.,    0.,   69.,  321.,\n",
       "         111.]),\n",
       " array([-0.68973961, -0.35087539, -0.01201118,  0.32685304,  0.66571726,\n",
       "         1.00458147,  1.34344569,  1.68230991,  2.02117412,  2.36003834,\n",
       "         2.69890256]),\n",
       " <BarContainer object of 10 artists>)"
      ]
     },
     "metadata": {},
     "execution_count": 178
    },
    {
     "output_type": "display_data",
     "data": {
      "image/png": "[encoded data removed]",
      "text/plain": [
       "<Figure size 432x288 with 1 Axes>"
      ]
     },
     "metadata": {
      "needs_background": "light"
     }
    }
   ],
   "metadata": {}
  },
  {
   "cell_type": "code",
   "execution_count": 53,
   "source": [
    "# certainty as a function of stimtype - REPORTED IN THE PAPER!\n",
    "model = Lmer('uncertainty ~  stim +(1|subj_idx) + (1|movie)', data=dat,family = \"binomial\") # ff: mean response, rf:subjID\n",
    "print(model.fit(factors={\"stim\":[\"Random\",\"Mental\"]}))\n",
    "#print(model.fit())\n",
    "#sns.regplot(x= 'response',y= 'residuals', data= model.data, fit_reg= False)\n",
    "plt.hist(model.residuals)"
   ],
   "outputs": [
    {
     "output_type": "stream",
     "name": "stdout",
     "text": [
      "Formula: uncertainty~stim+(1|subj_idx)+(1|movie)\n",
      "\n",
      "Family: binomial\t Inference: parametric\n",
      "\n",
      "Number of observations: 8230\t Groups: {'subj_idx': 823.0, 'movie': 10.0}\n",
      "\n",
      "Log-likelihood: -1657.524 \t AIC: 3323.049\n",
      "\n",
      "Random effects:\n",
      "\n",
      "                 Name    Var    Std\n",
      "subj_idx  (Intercept)  0.404  0.635\n",
      "movie     (Intercept)  0.769  0.877\n",
      "\n",
      "No random effect correlations specified\n",
      "\n",
      "Fixed effects:\n",
      "\n",
      "             Estimate  2.5_ci  97.5_ci     SE     OR  OR_2.5_ci  OR_97.5_ci  \\\n",
      "(Intercept)    -2.642  -3.426   -1.858  0.400  0.071      0.033       0.156   \n",
      "stim1          -1.607  -2.732   -0.482  0.574  0.200      0.065       0.617   \n",
      "\n",
      "              Prob  Prob_2.5_ci  Prob_97.5_ci  Z-stat  P-val  Sig  \n",
      "(Intercept)  0.066        0.032         0.135  -6.607  0.000  ***  \n",
      "stim1        0.167        0.061         0.382  -2.800  0.005   **  \n"
     ]
    },
    {
     "output_type": "execute_result",
     "data": {
      "text/plain": [
       "(array([ 709., 6308.,  715.,    0.,    0.,   15.,  234.,  181.,   59.,\n",
       "           9.]),\n",
       " array([-0.94263935, -0.52749636, -0.11235337,  0.30278962,  0.71793261,\n",
       "         1.1330756 ,  1.54821859,  1.96336158,  2.37850457,  2.79364756,\n",
       "         3.20879055]),\n",
       " <BarContainer object of 10 artists>)"
      ]
     },
     "metadata": {},
     "execution_count": 53
    },
    {
     "output_type": "display_data",
     "data": {
      "image/png": "[encoded data removed]",
      "text/plain": [
       "<Figure size 432x288 with 1 Axes>"
      ]
     },
     "metadata": {
      "needs_background": "light"
     }
    }
   ],
   "metadata": {}
  },
  {
   "cell_type": "code",
   "execution_count": 179,
   "source": [
    "# same as above but for the full data (without excluding based on RT)\n",
    "model = Lmer('uncertainty ~  stim +(1|subj_idx) + (1|movie)', data=fullDat,family = \"binomial\") # ff: mean response, rf:subjID\n",
    "print(model.fit(factors={\"stim\":[\"Random\",\"Mental\"]}))\n",
    "#print(model.fit())\n",
    "#sns.regplot(x= 'response',y= 'residuals', data= model.data, fit_reg= False)\n",
    "plt.hist(model.residuals)"
   ],
   "outputs": [
    {
     "output_type": "stream",
     "name": "stdout",
     "text": [
      "Formula: uncertainty~stim+(1|subj_idx)+(1|movie)\n",
      "\n",
      "Family: binomial\t Inference: parametric\n",
      "\n",
      "Number of observations: 8260\t Groups: {'subj_idx': 826.0, 'movie': 10.0}\n",
      "\n",
      "Log-likelihood: -1666.108 \t AIC: 3340.216\n",
      "\n",
      "Random effects:\n",
      "\n",
      "                 Name    Var    Std\n",
      "subj_idx  (Intercept)  0.417  0.646\n",
      "movie     (Intercept)  0.764  0.874\n",
      "\n",
      "No random effect correlations specified\n",
      "\n",
      "Fixed effects:\n",
      "\n",
      "             Estimate  2.5_ci  97.5_ci     SE     OR  OR_2.5_ci  OR_97.5_ci  \\\n",
      "(Intercept)    -2.639  -3.421   -1.858  0.399  0.071      0.033       0.156   \n",
      "stim1          -1.619  -2.742   -0.497  0.573  0.198      0.064       0.608   \n",
      "\n",
      "              Prob  Prob_2.5_ci  Prob_97.5_ci  Z-stat  P-val  Sig  \n",
      "(Intercept)  0.067        0.032         0.135  -6.619  0.000  ***  \n",
      "stim1        0.165        0.061         0.378  -2.828  0.005   **  \n"
     ]
    },
    {
     "output_type": "execute_result",
     "data": {
      "text/plain": [
       "(array([ 713., 5865., 1181.,    0.,    0.,   16.,  234.,  183.,   59.,\n",
       "           9.]),\n",
       " array([-0.94999613, -0.53405553, -0.11811492,  0.29782569,  0.7137663 ,\n",
       "         1.1297069 ,  1.54564751,  1.96158812,  2.37752873,  2.79346934,\n",
       "         3.20940994]),\n",
       " <BarContainer object of 10 artists>)"
      ]
     },
     "metadata": {},
     "execution_count": 179
    },
    {
     "output_type": "display_data",
     "data": {
      "image/png": "[encoded data removed]",
      "text/plain": [
       "<Figure size 432x288 with 1 Axes>"
      ]
     },
     "metadata": {
      "needs_background": "light"
     }
    }
   ],
   "metadata": {}
  },
  {
   "cell_type": "code",
   "execution_count": 187,
   "source": [
    "# save data for trait analysis etc.\n",
    "summary1.to_csv(os.path.join(file_loc,'data_for_paper','1e_S_NS_pc_uncertainResp_per_subj.csv'))\n",
    "summary1_fullDat.to_csv(os.path.join(file_loc,'data_for_paper','1e_S_NS_pc_uncertainResp_per_subj_fullDat.csv'))"
   ],
   "outputs": [],
   "metadata": {}
  },
  {
   "cell_type": "markdown",
   "source": [
    "## Plot all subplots together"
   ],
   "metadata": {}
  },
  {
   "cell_type": "code",
   "execution_count": null,
   "source": [
    "font = {'family' : 'normal',\n",
    "        'weight' : 'normal',\n",
    "        'size'   : 24}\n",
    "\n",
    "matplotlib.rc('font', **font)"
   ],
   "outputs": [],
   "metadata": {}
  },
  {
   "cell_type": "code",
   "execution_count": 189,
   "source": [
    "import matplotlib.pyplot as plt\n",
    "\n",
    "SMALL_SIZE = 20\n",
    "MEDIUM_SIZE = 20\n",
    "BIGGER_SIZE = 24\n",
    "\n",
    "plt.rc('font', size=SMALL_SIZE)          # controls default text sizes\n",
    "plt.rc('axes', titlesize=SMALL_SIZE)     # fontsize of the axes title\n",
    "plt.rc('axes', labelsize=MEDIUM_SIZE)    # fontsize of the x and y labels\n",
    "plt.rc('xtick', labelsize=SMALL_SIZE)    # fontsize of the tick labels\n",
    "plt.rc('ytick', labelsize=SMALL_SIZE)    # fontsize of the tick labels\n",
    "plt.rc('legend', fontsize=SMALL_SIZE)    # legend fontsize\n",
    "plt.rc('figure', titlesize=BIGGER_SIZE)  # fontsize of the figure title"
   ],
   "outputs": [],
   "metadata": {}
  },
  {
   "cell_type": "code",
   "execution_count": 190,
   "source": [
    "fig_save_loc = '/Users/f0053cz/Dropbox (Dartmouth College)/postdoc_Dartmouth/HCP/paper_prep/figures/fig1_hcpbeh'"
   ],
   "outputs": [],
   "metadata": {}
  },
  {
   "cell_type": "code",
   "execution_count": 192,
   "source": [
    "fig = plt.figure(1,figsize = (15,17))\n",
    "ax = fig.add_subplot(311)\n",
    "plot_fig_1a(ax,counts)\n",
    "\n",
    "ax = fig.add_subplot(323)\n",
    "plot_fig_1b(ax,counts_per_subj)\n",
    "ax.set_xlim(-0.3,1.3)\n",
    "\n",
    "ax = fig.add_subplot(324)\n",
    "plot_fig_1c(ax,sdt_measures)\n",
    "\n",
    "ax = fig.add_subplot(325)\n",
    "plot_fig_1d(ax, p_rt)\n",
    "\n",
    "ax = fig.add_subplot(326)\n",
    "summary = 100*dat.groupby(['subj_idx','stim']).mean().uncertainty.unstack(level=-1)\n",
    "summary.shape\n",
    "fig = plt.figure(1,figsize = (3,3))\n",
    "summary = plot_fig_1e(ax,summary)\n",
    "\n",
    "fig.text(0,.91,'(a)',fontsize=20)\n",
    "fig.text(0,.6,'(b)',fontsize=20)\n",
    "fig.text(0,.31,'(d)',fontsize=20)\n",
    "fig.text(0.45,.6,'(c)',fontsize=20)\n",
    "fig.text(0.45,.31,'(e)',fontsize=20)\n",
    "\n",
    "plt.subplots_adjust(left=0.1,\n",
    "                    bottom=0.1, \n",
    "                    right=0.9, \n",
    "                    top=0.9, \n",
    "                    wspace=0.5, \n",
    "                    hspace=0.4)\n",
    "\n",
    "\n",
    "plt.savefig(os.path.join(fig_save_loc,'Figure1.png'),dpi=300,bbox_inches='tight',facecolor='w')"
   ],
   "outputs": [
    {
     "output_type": "stream",
     "name": "stdout",
     "text": [
      "mean diff: 5.7843931416227905\n",
      "Ttest_relResult(statistic=-9.955057612909297, pvalue=4.0348763675618627e-22)\n",
      "when writing as p<10^(-...), reduce the expo value by 1 (i.e., 1.06e-18 is p< 10^-17!!\n",
      "26813.5 , 1.0623685894361655e-18 when writing as p<10^(-...), reduce the expo value by 1 (i.e., 1.06e-18 is p< 10^-17!!\n",
      "before: (823, 2)\n",
      "after: (823, 2)\n",
      "Mental: 25%:0.00, 50%:0.00, 75%:0.00\n",
      "Random: 25%:0.00, 50%:0.00, 75%:20.00\n"
     ]
    },
    {
     "output_type": "display_data",
     "data": {
      "image/png": "[encoded data removed]",
      "text/plain": [
       "<Figure size 1080x1224 with 5 Axes>"
      ]
     },
     "metadata": {
      "needs_background": "light"
     }
    }
   ],
   "metadata": {}
  },
  {
   "cell_type": "code",
   "execution_count": 195,
   "source": [
    "# full data\n",
    "\n",
    "fig = plt.figure(1,figsize = (15,17))\n",
    "ax = fig.add_subplot(311)\n",
    "plot_fig_1a(ax,counts_fullDat)\n",
    "\n",
    "ax = fig.add_subplot(323)\n",
    "plot_fig_1b(ax,counts_per_subj_fullDat)\n",
    "ax.set_xlim(-0.3,1.3)\n",
    "\n",
    "ax = fig.add_subplot(324)\n",
    "plot_fig_1c(ax,sdt_measures_fullDat)\n",
    "\n",
    "ax = fig.add_subplot(325)\n",
    "plot_fig_1d(ax, p_rt_fullDat)\n",
    "\n",
    "ax = fig.add_subplot(326)\n",
    "summary_fullDat = 100*fullDat.groupby(['subj_idx','stim']).mean().uncertainty.unstack(level=-1)\n",
    "summary_fullDat.shape\n",
    "fig = plt.figure(1,figsize = (3,3))\n",
    "summary_fullDat = plot_fig_1e(ax,summary_fullDat)\n",
    "\n",
    "fig.text(0,.91,'(a)',fontsize=20)\n",
    "fig.text(0,.6,'(b)',fontsize=20)\n",
    "fig.text(0,.31,'(d)',fontsize=20)\n",
    "fig.text(0.45,.6,'(c)',fontsize=20)\n",
    "fig.text(0.45,.31,'(e)',fontsize=20)\n",
    "\n",
    "plt.subplots_adjust(left=0.1,\n",
    "                    bottom=0.1, \n",
    "                    right=0.9, \n",
    "                    top=0.9, \n",
    "                    wspace=0.5, \n",
    "                    hspace=0.4)\n",
    "\n",
    "plt.savefig(os.path.join(fig_save_loc,'Figure1_fullDat.png'),dpi=300,bbox_inches='tight',facecolor='w')"
   ],
   "outputs": [
    {
     "output_type": "stream",
     "name": "stdout",
     "text": [
      "mean diff: 5.839482685729659\n",
      "Ttest_relResult(statistic=-10.0512171700471, pvalue=1.680706301406872e-22)\n",
      "when writing as p<10^(-...), reduce the expo value by 1 (i.e., 1.06e-18 is p< 10^-17!!\n",
      "26834.0 , 4.435764321171681e-19 when writing as p<10^(-...), reduce the expo value by 1 (i.e., 1.06e-18 is p< 10^-17!!\n",
      "before: (826, 2)\n",
      "after: (826, 2)\n",
      "Mental: 25%:0.00, 50%:0.00, 75%:0.00\n",
      "Random: 25%:0.00, 50%:0.00, 75%:20.00\n"
     ]
    },
    {
     "output_type": "display_data",
     "data": {
      "image/png": "[encoded data removed]",
      "text/plain": [
       "<Figure size 1080x1224 with 5 Axes>"
      ]
     },
     "metadata": {
      "needs_background": "light"
     }
    }
   ],
   "metadata": {}
  }
 ],
 "metadata": {
  "kernelspec": {
   "name": "python3",
   "display_name": "Python 3.7.11 64-bit ('py37': conda)"
  },
  "language_info": {
   "codemirror_mode": {
    "name": "ipython",
    "version": 3
   },
   "file_extension": ".py",
   "mimetype": "text/x-python",
   "name": "python",
   "nbconvert_exporter": "python",
   "pygments_lexer": "ipython3",
   "version": "3.7.11"
  },
  "interpreter": {
   "hash": "30fd9c97283ec1278eec212a8f8afab06ad903f38228c32cacb469eba8e56f4f"
  }
 },
 "nbformat": 4,
 "nbformat_minor": 4
}