{
 "cells": [
  {
   "cell_type": "markdown",
   "source": [
    "# Analysis of HCP behavioral dataset\n",
    "\n",
    "Rekha Varrier, main analyses Nov 2020 - Jan 2021.\n",
    "- Some of the results were presented in an OHBM 2021 poster"
   ],
   "metadata": {}
  },
  {
   "cell_type": "markdown",
   "source": [
    "Below are the steps to analyse the behavioral data of the HCP social task"
   ],
   "metadata": {}
  },
  {
   "cell_type": "code",
   "execution_count": 1,
   "source": [
    "#Importing data and packages, creating convenient variables\n",
    "#%reset\n",
    "import os\n",
    "from pathlib import Path\n",
    "import pandas as pd\n",
    "import numpy as np\n",
    "import scipy.stats as stats\n",
    "import seaborn as sns\n",
    "import matplotlib.pyplot as plt\n",
    "import scipy\n",
    "%matplotlib inline\n",
    "\n",
    "\n",
    "folder = os.getcwd()\n",
    "print('current dir: ',folder)\n",
    "path = Path(folder)\n",
    "parent_folder = path.parent\n",
    "file_loc = os.path.join(parent_folder,'data')\n",
    "print('data folder:',file_loc)\n",
    "dataFile  = os.path.join(file_loc,'hcp_social_behav_for_ddm_stim-coding.csv')\n"
   ],
   "outputs": [
    {
     "output_type": "stream",
     "name": "stdout",
     "text": [
      "current dir:  /Users/f0053cz/Dropbox (Dartmouth College)/postdoc_Dartmouth/HCP/BehaviorAnalyses/Documented scripts/code\n",
      "data folder: /Users/f0053cz/Dropbox (Dartmouth College)/postdoc_Dartmouth/HCP/BehaviorAnalyses/Documented scripts/data\n"
     ]
    }
   ],
   "metadata": {}
  },
  {
   "cell_type": "code",
   "execution_count": 2,
   "source": [
    "file_loc"
   ],
   "outputs": [
    {
     "output_type": "execute_result",
     "data": {
      "text/plain": [
       "'/Users/f0053cz/Dropbox (Dartmouth College)/postdoc_Dartmouth/HCP/BehaviorAnalyses/Documented scripts/data'"
      ]
     },
     "metadata": {},
     "execution_count": 2
    }
   ],
   "metadata": {}
  },
  {
   "cell_type": "code",
   "execution_count": 3,
   "source": [
    "# setting default fontsizes for plots\n",
    "\n",
    "s=16 # CHANGE FONTSIZE HERE\n",
    "\n",
    "plt.rc('font', size=s) #controls default text size\n",
    "plt.rc('axes', titlesize=s) #fontsize of the title\n",
    "plt.rc('axes', labelsize=s) #fontsize of the x and y labels\n",
    "plt.rc('xtick', labelsize=s) #fontsize of the x tick labels\n",
    "plt.rc('ytick', labelsize=s) #fontsize of the y tick labels\n",
    "plt.rc('legend', fontsize=s) #fontsize of the legend\n",
    "#import matplotlib as mpl\n",
    "#mpl.rcParams['font.weight']= 'normal'\n"
   ],
   "outputs": [],
   "metadata": {}
  },
  {
   "cell_type": "code",
   "execution_count": 4,
   "source": [
    "vid_names = {}\n",
    "vid_names[\"run1\"] = [\"COAXING-B\", \"BILLIARD-A\", \"DRIFTING-A\", \"Fishing\", \"Random mechanical\"]\n",
    "vid_names[\"run2\"] = [\"Scaring\", \"SEDUCING-B\", \"STAR-A\", \"SURPRISING-B\", \"TENNIS-A\"]\n",
    "vid_joined = [\"COAXING-B\", \"BILLIARD-A\", \"DRIFTING-A\", \"Fishing\", \"Random mechanical\",\"Scaring\", \"SEDUCING-B\", \"STAR-A\", \"SURPRISING-B\", \"TENNIS-A\"]\n",
    "\n",
    "\n",
    "dat = pd.read_csv(dataFile)# , index_col = \"subj_idx\")\n",
    "dat[\"run\"] = [\"run2\" if x.split('.')[0] in vid_names[\"run1\"] else \"run1\" for x in dat[\"movie\"]]\n",
    "dat[\"run\"] = [0 if x.split('.')[0] in vid_names[\"run1\"] else 1 for x in dat[\"movie\"]]\n",
    "\n",
    "print(\"n=\",len(np.unique(dat[\"subj_idx\"])))\n",
    "dat.head(10)"
   ],
   "outputs": [
    {
     "output_type": "stream",
     "name": "stdout",
     "text": [
      "n= 1051\n"
     ]
    },
    {
     "output_type": "execute_result",
     "data": {
      "text/html": [
       "<div>\n",
       "<style scoped>\n",
       "    .dataframe tbody tr th:only-of-type {\n",
       "        vertical-align: middle;\n",
       "    }\n",
       "\n",
       "    .dataframe tbody tr th {\n",
       "        vertical-align: top;\n",
       "    }\n",
       "\n",
       "    .dataframe thead th {\n",
       "        text-align: right;\n",
       "    }\n",
       "</style>\n",
       "<table border=\"1\" class=\"dataframe\">\n",
       "  <thead>\n",
       "    <tr style=\"text-align: right;\">\n",
       "      <th></th>\n",
       "      <th>subj_idx</th>\n",
       "      <th>stim</th>\n",
       "      <th>movie</th>\n",
       "      <th>rt</th>\n",
       "      <th>response</th>\n",
       "      <th>run</th>\n",
       "    </tr>\n",
       "  </thead>\n",
       "  <tbody>\n",
       "    <tr>\n",
       "      <th>0</th>\n",
       "      <td>168745</td>\n",
       "      <td>Mental</td>\n",
       "      <td>Scaring.AVI</td>\n",
       "      <td>1.252</td>\n",
       "      <td>1</td>\n",
       "      <td>1</td>\n",
       "    </tr>\n",
       "    <tr>\n",
       "      <th>1</th>\n",
       "      <td>168745</td>\n",
       "      <td>Mental</td>\n",
       "      <td>SEDUCING-B.AVI</td>\n",
       "      <td>0.578</td>\n",
       "      <td>1</td>\n",
       "      <td>1</td>\n",
       "    </tr>\n",
       "    <tr>\n",
       "      <th>2</th>\n",
       "      <td>168745</td>\n",
       "      <td>Random</td>\n",
       "      <td>STAR-A.AVI</td>\n",
       "      <td>1.643</td>\n",
       "      <td>0</td>\n",
       "      <td>1</td>\n",
       "    </tr>\n",
       "    <tr>\n",
       "      <th>3</th>\n",
       "      <td>168745</td>\n",
       "      <td>Mental</td>\n",
       "      <td>SURPRISING-B.AVI</td>\n",
       "      <td>1.082</td>\n",
       "      <td>1</td>\n",
       "      <td>1</td>\n",
       "    </tr>\n",
       "    <tr>\n",
       "      <th>4</th>\n",
       "      <td>168745</td>\n",
       "      <td>Random</td>\n",
       "      <td>TENNIS-A.AVI</td>\n",
       "      <td>1.232</td>\n",
       "      <td>0</td>\n",
       "      <td>1</td>\n",
       "    </tr>\n",
       "    <tr>\n",
       "      <th>5</th>\n",
       "      <td>668361</td>\n",
       "      <td>Mental</td>\n",
       "      <td>COAXING-B.AVI</td>\n",
       "      <td>1.796</td>\n",
       "      <td>9</td>\n",
       "      <td>0</td>\n",
       "    </tr>\n",
       "    <tr>\n",
       "      <th>6</th>\n",
       "      <td>668361</td>\n",
       "      <td>Random</td>\n",
       "      <td>BILLIARD-A.AVI</td>\n",
       "      <td>1.254</td>\n",
       "      <td>0</td>\n",
       "      <td>0</td>\n",
       "    </tr>\n",
       "    <tr>\n",
       "      <th>7</th>\n",
       "      <td>668361</td>\n",
       "      <td>Random</td>\n",
       "      <td>DRIFTING-A.AVI</td>\n",
       "      <td>0.590</td>\n",
       "      <td>0</td>\n",
       "      <td>0</td>\n",
       "    </tr>\n",
       "    <tr>\n",
       "      <th>8</th>\n",
       "      <td>668361</td>\n",
       "      <td>Mental</td>\n",
       "      <td>Fishing.AVI</td>\n",
       "      <td>0.993</td>\n",
       "      <td>0</td>\n",
       "      <td>0</td>\n",
       "    </tr>\n",
       "    <tr>\n",
       "      <th>9</th>\n",
       "      <td>668361</td>\n",
       "      <td>Random</td>\n",
       "      <td>Random mechanical.AVI</td>\n",
       "      <td>0.816</td>\n",
       "      <td>0</td>\n",
       "      <td>0</td>\n",
       "    </tr>\n",
       "  </tbody>\n",
       "</table>\n",
       "</div>"
      ],
      "text/plain": [
       "   subj_idx    stim                  movie     rt  response  run\n",
       "0    168745  Mental            Scaring.AVI  1.252         1    1\n",
       "1    168745  Mental         SEDUCING-B.AVI  0.578         1    1\n",
       "2    168745  Random             STAR-A.AVI  1.643         0    1\n",
       "3    168745  Mental       SURPRISING-B.AVI  1.082         1    1\n",
       "4    168745  Random           TENNIS-A.AVI  1.232         0    1\n",
       "5    668361  Mental          COAXING-B.AVI  1.796         9    0\n",
       "6    668361  Random         BILLIARD-A.AVI  1.254         0    0\n",
       "7    668361  Random         DRIFTING-A.AVI  0.590         0    0\n",
       "8    668361  Mental            Fishing.AVI  0.993         0    0\n",
       "9    668361  Random  Random mechanical.AVI  0.816         0    0"
      ]
     },
     "metadata": {},
     "execution_count": 4
    }
   ],
   "metadata": {}
  },
  {
   "cell_type": "code",
   "execution_count": 5,
   "source": [
    "# exclude bad subjects (with <10 yes/no/unsure responses)\n",
    "\n",
    "thresh = 10\n",
    "trial_counts = dat.groupby(\"subj_idx\").count()[\"rt\"]\n",
    "bad_subs = trial_counts[(trial_counts < thresh)].index\n",
    "#print(bad_subs)\n",
    "dat  = dat.reset_index() # add index as an additional column \"index\"\n",
    "dat = dat.set_index('subj_idx') # make subj_idx the index\n",
    "dat.drop(bad_subs, inplace=True) # remove bad subjects\n",
    "dat = dat.reset_index() #bring back subj_idx as a column\n",
    "dat = dat.set_index('index') # make the column \"index\" as the index (as in the beginning)\n",
    "\n",
    "print(\"Nr. of subjects left\",len(dat.groupby(\"subj_idx\")))\n",
    "print(\"Nr. of rows:\",dat.shape)"
   ],
   "outputs": [
    {
     "output_type": "stream",
     "name": "stdout",
     "text": [
      "Nr. of subjects left 826\n",
      "Nr. of rows: (8260, 6)\n"
     ]
    }
   ],
   "metadata": {}
  },
  {
   "cell_type": "code",
   "execution_count": 6,
   "source": [
    "#add accuracy as an additional column, remove impossible RTs\n",
    "\n",
    "# add accuracy\n",
    "acc = np.zeros((dat.shape[0],)) -1 # initialize accuracy with -1\n",
    "acc[((dat['stim'] == 'Mental') & (dat['response'] == 1)) | ((dat['stim'] == 'Random') & (dat['response'] == 0))] = 1\n",
    "acc[((dat['stim'] == 'Mental') & (dat['response'] == 0)) | ((dat['stim'] == 'Random') & (dat['response'] == 1))] = 0\n",
    "acc[dat['response'] == 9] = 9\n",
    "dat['accuracy'] = acc\n",
    "\n",
    "# remove imppossible RTs\n",
    "rtmin = 0.1 # threshold for impossibly short RTs\n",
    "print('nrows before=',dat.shape[0])\n",
    "dat= dat.loc[dat['rt']>=rtmin,:]\n",
    "print('nrows after=',dat.shape[0])\n",
    "#dat.head()\n"
   ],
   "outputs": [
    {
     "output_type": "stream",
     "name": "stdout",
     "text": [
      "nrows before= 8260\n",
      "nrows after= 8257\n"
     ]
    }
   ],
   "metadata": {}
  },
  {
   "cell_type": "code",
   "execution_count": 6,
   "source": [
    "#red_rgb = [103,0,31] # edges of RdBu\n",
    "#blue_rgb = [5,48,97] # edges of RdBu\n",
    "red_rgb =[188,61,62] # from Emily\n",
    "blue_rgb = [54,122,177] # from Emily\n",
    "red_rgb = np.array(red_rgb)/255\n",
    "blue_rgb = np.array(blue_rgb)/255\n",
    "alpha = .2 # transparency inside boxplots, for datapts etc."
   ],
   "outputs": [],
   "metadata": {}
  },
  {
   "cell_type": "code",
   "execution_count": 7,
   "source": [
    "dat.to_csv(os.path.join(file_loc,'data_for_paper','hcp_social_826subs.csv'))"
   ],
   "outputs": [],
   "metadata": {}
  },
  {
   "cell_type": "code",
   "execution_count": 8,
   "source": [
    "#Sort into sure and unsure trials dfs\n",
    "data_sure = dat[dat[\"response\"]!=9]\n",
    "data_unsure = dat[dat[\"response\"] ==9]\n",
    "len(np.unique(data_sure['subj_idx']))"
   ],
   "outputs": [
    {
     "output_type": "execute_result",
     "data": {
      "text/plain": [
       "826"
      ]
     },
     "metadata": {},
     "execution_count": 8
    }
   ],
   "metadata": {}
  },
  {
   "cell_type": "code",
   "execution_count": 9,
   "source": [
    "#excluding bad subs: defined as those who have less than 'thresh' trials\n",
    "# defined as 8/10 responses \"sure\", i.e., yes/no\n",
    "# did this to make sure we have a good number of trials/subject - since our main analyses were only on the \n",
    "# sure trials\n",
    "\n",
    "'''thresh = 8\n",
    "trial_counts = data_sure.groupby(\"subj_idx\").count()[\"rt\"]\n",
    "bad_subs = trial_counts[(trial_counts < thresh)].index\n",
    "#print(bad_subs)\n",
    "data_sure  = data_sure.reset_index() # add index as an additional column \"index\"\n",
    "data_sure = data_sure.set_index('subj_idx') # make subj_idx the index\n",
    "data_sure.drop(bad_subs, inplace=True) # remove bad subjects\n",
    "data_sure = data_sure.reset_index() #bring back subj_idx as a column\n",
    "data_sure = data_sure.set_index('index') # make the column \"index\" as the index (as in the beginning)\n",
    "\n",
    "print(\"Nr. of subjects left\",len(data_sure.groupby(\"subj_idx\")))\n",
    "print(\"Nr. of rows:\",data_sure.shape)'''"
   ],
   "outputs": [
    {
     "output_type": "execute_result",
     "data": {
      "text/plain": [
       "'thresh = 8\\ntrial_counts = data_sure.groupby(\"subj_idx\").count()[\"rt\"]\\nbad_subs = trial_counts[(trial_counts < thresh)].index\\n#print(bad_subs)\\ndata_sure  = data_sure.reset_index() # add index as an additional column \"index\"\\ndata_sure = data_sure.set_index(\\'subj_idx\\') # make subj_idx the index\\ndata_sure.drop(bad_subs, inplace=True) # remove bad subjects\\ndata_sure = data_sure.reset_index() #bring back subj_idx as a column\\ndata_sure = data_sure.set_index(\\'index\\') # make the column \"index\" as the index (as in the beginning)\\n\\nprint(\"Nr. of subjects left\",len(data_sure.groupby(\"subj_idx\")))\\nprint(\"Nr. of rows:\",data_sure.shape)'"
      ]
     },
     "metadata": {},
     "execution_count": 9
    }
   ],
   "metadata": {}
  },
  {
   "cell_type": "markdown",
   "source": [
    "# 1(a) Number of responses per movie"
   ],
   "metadata": {}
  },
  {
   "cell_type": "code",
   "execution_count": 10,
   "source": [
    "movies_list = list(dat['movie'].values)\n",
    "print(movies_list[:5])\n",
    "dat['movies_ind']=[np.where(vid_joined==np.array(i[:-4]))[0][0] for i in movies_list]\n",
    "dat"
   ],
   "outputs": [
    {
     "output_type": "stream",
     "name": "stdout",
     "text": [
      "['Scaring.AVI', 'SEDUCING-B.AVI', 'STAR-A.AVI', 'SURPRISING-B.AVI', 'TENNIS-A.AVI']\n"
     ]
    },
    {
     "output_type": "execute_result",
     "data": {
      "text/html": [
       "<div>\n",
       "<style scoped>\n",
       "    .dataframe tbody tr th:only-of-type {\n",
       "        vertical-align: middle;\n",
       "    }\n",
       "\n",
       "    .dataframe tbody tr th {\n",
       "        vertical-align: top;\n",
       "    }\n",
       "\n",
       "    .dataframe thead th {\n",
       "        text-align: right;\n",
       "    }\n",
       "</style>\n",
       "<table border=\"1\" class=\"dataframe\">\n",
       "  <thead>\n",
       "    <tr style=\"text-align: right;\">\n",
       "      <th></th>\n",
       "      <th>subj_idx</th>\n",
       "      <th>stim</th>\n",
       "      <th>movie</th>\n",
       "      <th>rt</th>\n",
       "      <th>response</th>\n",
       "      <th>run</th>\n",
       "      <th>accuracy</th>\n",
       "      <th>movies_ind</th>\n",
       "    </tr>\n",
       "    <tr>\n",
       "      <th>index</th>\n",
       "      <th></th>\n",
       "      <th></th>\n",
       "      <th></th>\n",
       "      <th></th>\n",
       "      <th></th>\n",
       "      <th></th>\n",
       "      <th></th>\n",
       "      <th></th>\n",
       "    </tr>\n",
       "  </thead>\n",
       "  <tbody>\n",
       "    <tr>\n",
       "      <th>0</th>\n",
       "      <td>168745</td>\n",
       "      <td>Mental</td>\n",
       "      <td>Scaring.AVI</td>\n",
       "      <td>1.252</td>\n",
       "      <td>1</td>\n",
       "      <td>1</td>\n",
       "      <td>1.0</td>\n",
       "      <td>5</td>\n",
       "    </tr>\n",
       "    <tr>\n",
       "      <th>1</th>\n",
       "      <td>168745</td>\n",
       "      <td>Mental</td>\n",
       "      <td>SEDUCING-B.AVI</td>\n",
       "      <td>0.578</td>\n",
       "      <td>1</td>\n",
       "      <td>1</td>\n",
       "      <td>1.0</td>\n",
       "      <td>6</td>\n",
       "    </tr>\n",
       "    <tr>\n",
       "      <th>2</th>\n",
       "      <td>168745</td>\n",
       "      <td>Random</td>\n",
       "      <td>STAR-A.AVI</td>\n",
       "      <td>1.643</td>\n",
       "      <td>0</td>\n",
       "      <td>1</td>\n",
       "      <td>1.0</td>\n",
       "      <td>7</td>\n",
       "    </tr>\n",
       "    <tr>\n",
       "      <th>3</th>\n",
       "      <td>168745</td>\n",
       "      <td>Mental</td>\n",
       "      <td>SURPRISING-B.AVI</td>\n",
       "      <td>1.082</td>\n",
       "      <td>1</td>\n",
       "      <td>1</td>\n",
       "      <td>1.0</td>\n",
       "      <td>8</td>\n",
       "    </tr>\n",
       "    <tr>\n",
       "      <th>4</th>\n",
       "      <td>168745</td>\n",
       "      <td>Random</td>\n",
       "      <td>TENNIS-A.AVI</td>\n",
       "      <td>1.232</td>\n",
       "      <td>0</td>\n",
       "      <td>1</td>\n",
       "      <td>1.0</td>\n",
       "      <td>9</td>\n",
       "    </tr>\n",
       "    <tr>\n",
       "      <th>...</th>\n",
       "      <td>...</td>\n",
       "      <td>...</td>\n",
       "      <td>...</td>\n",
       "      <td>...</td>\n",
       "      <td>...</td>\n",
       "      <td>...</td>\n",
       "      <td>...</td>\n",
       "      <td>...</td>\n",
       "    </tr>\n",
       "    <tr>\n",
       "      <th>10144</th>\n",
       "      <td>175136</td>\n",
       "      <td>Mental</td>\n",
       "      <td>COAXING-B.AVI</td>\n",
       "      <td>1.542</td>\n",
       "      <td>1</td>\n",
       "      <td>0</td>\n",
       "      <td>1.0</td>\n",
       "      <td>0</td>\n",
       "    </tr>\n",
       "    <tr>\n",
       "      <th>10145</th>\n",
       "      <td>175136</td>\n",
       "      <td>Random</td>\n",
       "      <td>BILLIARD-A.AVI</td>\n",
       "      <td>0.893</td>\n",
       "      <td>0</td>\n",
       "      <td>0</td>\n",
       "      <td>1.0</td>\n",
       "      <td>1</td>\n",
       "    </tr>\n",
       "    <tr>\n",
       "      <th>10146</th>\n",
       "      <td>175136</td>\n",
       "      <td>Random</td>\n",
       "      <td>DRIFTING-A.AVI</td>\n",
       "      <td>0.895</td>\n",
       "      <td>0</td>\n",
       "      <td>0</td>\n",
       "      <td>1.0</td>\n",
       "      <td>2</td>\n",
       "    </tr>\n",
       "    <tr>\n",
       "      <th>10147</th>\n",
       "      <td>175136</td>\n",
       "      <td>Mental</td>\n",
       "      <td>Fishing.AVI</td>\n",
       "      <td>0.985</td>\n",
       "      <td>1</td>\n",
       "      <td>0</td>\n",
       "      <td>1.0</td>\n",
       "      <td>3</td>\n",
       "    </tr>\n",
       "    <tr>\n",
       "      <th>10148</th>\n",
       "      <td>175136</td>\n",
       "      <td>Random</td>\n",
       "      <td>Random mechanical.AVI</td>\n",
       "      <td>1.304</td>\n",
       "      <td>0</td>\n",
       "      <td>0</td>\n",
       "      <td>1.0</td>\n",
       "      <td>4</td>\n",
       "    </tr>\n",
       "  </tbody>\n",
       "</table>\n",
       "<p>8257 rows × 8 columns</p>\n",
       "</div>"
      ],
      "text/plain": [
       "       subj_idx    stim                  movie     rt  response  run  \\\n",
       "index                                                                  \n",
       "0        168745  Mental            Scaring.AVI  1.252         1    1   \n",
       "1        168745  Mental         SEDUCING-B.AVI  0.578         1    1   \n",
       "2        168745  Random             STAR-A.AVI  1.643         0    1   \n",
       "3        168745  Mental       SURPRISING-B.AVI  1.082         1    1   \n",
       "4        168745  Random           TENNIS-A.AVI  1.232         0    1   \n",
       "...         ...     ...                    ...    ...       ...  ...   \n",
       "10144    175136  Mental          COAXING-B.AVI  1.542         1    0   \n",
       "10145    175136  Random         BILLIARD-A.AVI  0.893         0    0   \n",
       "10146    175136  Random         DRIFTING-A.AVI  0.895         0    0   \n",
       "10147    175136  Mental            Fishing.AVI  0.985         1    0   \n",
       "10148    175136  Random  Random mechanical.AVI  1.304         0    0   \n",
       "\n",
       "       accuracy  movies_ind  \n",
       "index                        \n",
       "0           1.0           5  \n",
       "1           1.0           6  \n",
       "2           1.0           7  \n",
       "3           1.0           8  \n",
       "4           1.0           9  \n",
       "...         ...         ...  \n",
       "10144       1.0           0  \n",
       "10145       1.0           1  \n",
       "10146       1.0           2  \n",
       "10147       1.0           3  \n",
       "10148       1.0           4  \n",
       "\n",
       "[8257 rows x 8 columns]"
      ]
     },
     "metadata": {},
     "execution_count": 10
    }
   ],
   "metadata": {}
  },
  {
   "cell_type": "code",
   "execution_count": 16,
   "source": [
    "counts = dat.groupby(['movies_ind','response']).count().subj_idx.unstack(level=-1)\n",
    "counts[np.isnan(counts)] = 0\n",
    "counts['sum'] = counts[0]+counts[1]+counts[9]\n",
    "#counts = counts.sort_values(by=['movies_ind','response'])\n",
    "#counts = counts.append({'movies_ind':8,'response':0,'subj_idx':0},ignore_index=True)\n",
    "counts['socialness'] = counts[1]/counts['sum']\n",
    "socialness = counts['socialness'].values\n",
    "counts =  counts.sort_values(by=['socialness'])\n",
    "counts"
   ],
   "outputs": [
    {
     "output_type": "execute_result",
     "data": {
      "text/html": [
       "<div>\n",
       "<style scoped>\n",
       "    .dataframe tbody tr th:only-of-type {\n",
       "        vertical-align: middle;\n",
       "    }\n",
       "\n",
       "    .dataframe tbody tr th {\n",
       "        vertical-align: top;\n",
       "    }\n",
       "\n",
       "    .dataframe thead th {\n",
       "        text-align: right;\n",
       "    }\n",
       "</style>\n",
       "<table border=\"1\" class=\"dataframe\">\n",
       "  <thead>\n",
       "    <tr style=\"text-align: right;\">\n",
       "      <th>response</th>\n",
       "      <th>0</th>\n",
       "      <th>1</th>\n",
       "      <th>9</th>\n",
       "      <th>sum</th>\n",
       "      <th>socialness</th>\n",
       "    </tr>\n",
       "    <tr>\n",
       "      <th>movies_ind</th>\n",
       "      <th></th>\n",
       "      <th></th>\n",
       "      <th></th>\n",
       "      <th></th>\n",
       "      <th></th>\n",
       "    </tr>\n",
       "  </thead>\n",
       "  <tbody>\n",
       "    <tr>\n",
       "      <th>2</th>\n",
       "      <td>782.0</td>\n",
       "      <td>6.0</td>\n",
       "      <td>38.0</td>\n",
       "      <td>826.0</td>\n",
       "      <td>0.007264</td>\n",
       "    </tr>\n",
       "    <tr>\n",
       "      <th>1</th>\n",
       "      <td>780.0</td>\n",
       "      <td>11.0</td>\n",
       "      <td>34.0</td>\n",
       "      <td>825.0</td>\n",
       "      <td>0.013333</td>\n",
       "    </tr>\n",
       "    <tr>\n",
       "      <th>7</th>\n",
       "      <td>761.0</td>\n",
       "      <td>20.0</td>\n",
       "      <td>45.0</td>\n",
       "      <td>826.0</td>\n",
       "      <td>0.024213</td>\n",
       "    </tr>\n",
       "    <tr>\n",
       "      <th>9</th>\n",
       "      <td>694.0</td>\n",
       "      <td>35.0</td>\n",
       "      <td>97.0</td>\n",
       "      <td>826.0</td>\n",
       "      <td>0.042373</td>\n",
       "    </tr>\n",
       "    <tr>\n",
       "      <th>4</th>\n",
       "      <td>564.0</td>\n",
       "      <td>86.0</td>\n",
       "      <td>176.0</td>\n",
       "      <td>826.0</td>\n",
       "      <td>0.104116</td>\n",
       "    </tr>\n",
       "    <tr>\n",
       "      <th>3</th>\n",
       "      <td>58.0</td>\n",
       "      <td>701.0</td>\n",
       "      <td>67.0</td>\n",
       "      <td>826.0</td>\n",
       "      <td>0.848668</td>\n",
       "    </tr>\n",
       "    <tr>\n",
       "      <th>5</th>\n",
       "      <td>24.0</td>\n",
       "      <td>783.0</td>\n",
       "      <td>19.0</td>\n",
       "      <td>826.0</td>\n",
       "      <td>0.947942</td>\n",
       "    </tr>\n",
       "    <tr>\n",
       "      <th>6</th>\n",
       "      <td>5.0</td>\n",
       "      <td>805.0</td>\n",
       "      <td>16.0</td>\n",
       "      <td>826.0</td>\n",
       "      <td>0.974576</td>\n",
       "    </tr>\n",
       "    <tr>\n",
       "      <th>0</th>\n",
       "      <td>7.0</td>\n",
       "      <td>811.0</td>\n",
       "      <td>6.0</td>\n",
       "      <td>824.0</td>\n",
       "      <td>0.984223</td>\n",
       "    </tr>\n",
       "    <tr>\n",
       "      <th>8</th>\n",
       "      <td>0.0</td>\n",
       "      <td>823.0</td>\n",
       "      <td>3.0</td>\n",
       "      <td>826.0</td>\n",
       "      <td>0.996368</td>\n",
       "    </tr>\n",
       "  </tbody>\n",
       "</table>\n",
       "</div>"
      ],
      "text/plain": [
       "response        0      1      9    sum  socialness\n",
       "movies_ind                                        \n",
       "2           782.0    6.0   38.0  826.0    0.007264\n",
       "1           780.0   11.0   34.0  825.0    0.013333\n",
       "7           761.0   20.0   45.0  826.0    0.024213\n",
       "9           694.0   35.0   97.0  826.0    0.042373\n",
       "4           564.0   86.0  176.0  826.0    0.104116\n",
       "3            58.0  701.0   67.0  826.0    0.848668\n",
       "5            24.0  783.0   19.0  826.0    0.947942\n",
       "6             5.0  805.0   16.0  826.0    0.974576\n",
       "0             7.0  811.0    6.0  824.0    0.984223\n",
       "8             0.0  823.0    3.0  826.0    0.996368"
      ]
     },
     "metadata": {},
     "execution_count": 16
    }
   ],
   "metadata": {}
  },
  {
   "cell_type": "code",
   "execution_count": 17,
   "source": [
    "socialness"
   ],
   "outputs": [
    {
     "output_type": "execute_result",
     "data": {
      "text/plain": [
       "array([0.9842233 , 0.01333333, 0.00726392, 0.84866828, 0.10411622,\n",
       "       0.94794189, 0.97457627, 0.02421308, 0.99636804, 0.04237288])"
      ]
     },
     "metadata": {},
     "execution_count": 17
    }
   ],
   "metadata": {}
  },
  {
   "cell_type": "code",
   "execution_count": 18,
   "source": [
    "np.save(os.path.join(file_loc,'hcp_socialness.npy'),socialness)"
   ],
   "outputs": [],
   "metadata": {}
  },
  {
   "cell_type": "code",
   "execution_count": 194,
   "source": [
    "def plot_fig_1a(ax):\n",
    "    ax.barh(range(10),counts[1],color=red_rgb,label='\"Social\"',edgecolor='k')\n",
    "    ax.barh(range(10),counts[0],left=counts[1],edgecolor='k',color=blue_rgb,label='\"Non-social\"')\n",
    "    ax.barh(range(10),counts[9],left=counts[0]+counts[1],color='grey',edgecolor='k',label='\"Unsure')\n",
    "\n",
    "    ax.legend(bbox_to_anchor=[1.01,1])\n",
    "    ax.set_yticks(range(10))\n",
    "    ax.set_yticklabels([str.upper(vid_joined[i][:4]) for i in counts.index])\n",
    "    ax.set_xlabel('Nr. of participants')\n",
    "    ax.set_ylabel('Movie(least to most\\n\"Social\")')\n",
    "\n",
    "fig = plt.figure(1,figsize=(10,5))\n",
    "ax =  fig.add_subplot(111)\n",
    "plot_fig_1a(ax)\n"
   ],
   "outputs": [
    {
     "output_type": "display_data",
     "data": {
      "image/png": "[encoded data removed]",
      "text/plain": [
       "<Figure size 720x360 with 1 Axes>"
      ]
     },
     "metadata": {
      "needs_background": "light"
     }
    }
   ],
   "metadata": {}
  },
  {
   "cell_type": "markdown",
   "source": [
    "### 1(b) Number of yes/no responses per sub (for paper)"
   ],
   "metadata": {}
  },
  {
   "cell_type": "markdown",
   "source": [
    "- to evaluate if there are more Yes responses than No responses on average - suggesting a Yes bias"
   ],
   "metadata": {}
  },
  {
   "cell_type": "code",
   "execution_count": 51,
   "source": [
    "counts_per_subj = data_sure.groupby(['subj_idx', 'response']).count().movie # Mean count per subject for Mental and Random\n",
    "counts_per_subj = counts_per_subj.unstack(level = -1)\n",
    "counts_per_subj['diff'] = counts_per_subj[1]-counts_per_subj[0]\n",
    "counts_per_subj['sum'] = counts_per_subj[1]+counts_per_subj[0]\n",
    "counts_per_subj\n"
   ],
   "outputs": [
    {
     "output_type": "execute_result",
     "data": {
      "text/html": [
       "<div>\n",
       "<style scoped>\n",
       "    .dataframe tbody tr th:only-of-type {\n",
       "        vertical-align: middle;\n",
       "    }\n",
       "\n",
       "    .dataframe tbody tr th {\n",
       "        vertical-align: top;\n",
       "    }\n",
       "\n",
       "    .dataframe thead th {\n",
       "        text-align: right;\n",
       "    }\n",
       "</style>\n",
       "<table border=\"1\" class=\"dataframe\">\n",
       "  <thead>\n",
       "    <tr style=\"text-align: right;\">\n",
       "      <th>response</th>\n",
       "      <th>0</th>\n",
       "      <th>1</th>\n",
       "      <th>diff</th>\n",
       "      <th>sum</th>\n",
       "    </tr>\n",
       "    <tr>\n",
       "      <th>subj_idx</th>\n",
       "      <th></th>\n",
       "      <th></th>\n",
       "      <th></th>\n",
       "      <th></th>\n",
       "    </tr>\n",
       "  </thead>\n",
       "  <tbody>\n",
       "    <tr>\n",
       "      <th>100206</th>\n",
       "      <td>1.0</td>\n",
       "      <td>9.0</td>\n",
       "      <td>8.0</td>\n",
       "      <td>10.0</td>\n",
       "    </tr>\n",
       "    <tr>\n",
       "      <th>100307</th>\n",
       "      <td>4.0</td>\n",
       "      <td>5.0</td>\n",
       "      <td>1.0</td>\n",
       "      <td>9.0</td>\n",
       "    </tr>\n",
       "    <tr>\n",
       "      <th>100408</th>\n",
       "      <td>4.0</td>\n",
       "      <td>5.0</td>\n",
       "      <td>1.0</td>\n",
       "      <td>9.0</td>\n",
       "    </tr>\n",
       "    <tr>\n",
       "      <th>100610</th>\n",
       "      <td>5.0</td>\n",
       "      <td>5.0</td>\n",
       "      <td>0.0</td>\n",
       "      <td>10.0</td>\n",
       "    </tr>\n",
       "    <tr>\n",
       "      <th>101309</th>\n",
       "      <td>2.0</td>\n",
       "      <td>5.0</td>\n",
       "      <td>3.0</td>\n",
       "      <td>7.0</td>\n",
       "    </tr>\n",
       "    <tr>\n",
       "      <th>...</th>\n",
       "      <td>...</td>\n",
       "      <td>...</td>\n",
       "      <td>...</td>\n",
       "      <td>...</td>\n",
       "    </tr>\n",
       "    <tr>\n",
       "      <th>991267</th>\n",
       "      <td>4.0</td>\n",
       "      <td>5.0</td>\n",
       "      <td>1.0</td>\n",
       "      <td>9.0</td>\n",
       "    </tr>\n",
       "    <tr>\n",
       "      <th>992673</th>\n",
       "      <td>5.0</td>\n",
       "      <td>5.0</td>\n",
       "      <td>0.0</td>\n",
       "      <td>10.0</td>\n",
       "    </tr>\n",
       "    <tr>\n",
       "      <th>992774</th>\n",
       "      <td>4.0</td>\n",
       "      <td>5.0</td>\n",
       "      <td>1.0</td>\n",
       "      <td>9.0</td>\n",
       "    </tr>\n",
       "    <tr>\n",
       "      <th>993675</th>\n",
       "      <td>5.0</td>\n",
       "      <td>5.0</td>\n",
       "      <td>0.0</td>\n",
       "      <td>10.0</td>\n",
       "    </tr>\n",
       "    <tr>\n",
       "      <th>996782</th>\n",
       "      <td>5.0</td>\n",
       "      <td>5.0</td>\n",
       "      <td>0.0</td>\n",
       "      <td>10.0</td>\n",
       "    </tr>\n",
       "  </tbody>\n",
       "</table>\n",
       "<p>826 rows × 4 columns</p>\n",
       "</div>"
      ],
      "text/plain": [
       "response    0    1  diff   sum\n",
       "subj_idx                      \n",
       "100206    1.0  9.0   8.0  10.0\n",
       "100307    4.0  5.0   1.0   9.0\n",
       "100408    4.0  5.0   1.0   9.0\n",
       "100610    5.0  5.0   0.0  10.0\n",
       "101309    2.0  5.0   3.0   7.0\n",
       "...       ...  ...   ...   ...\n",
       "991267    4.0  5.0   1.0   9.0\n",
       "992673    5.0  5.0   0.0  10.0\n",
       "992774    4.0  5.0   1.0   9.0\n",
       "993675    5.0  5.0   0.0  10.0\n",
       "996782    5.0  5.0   0.0  10.0\n",
       "\n",
       "[826 rows x 4 columns]"
      ]
     },
     "metadata": {},
     "execution_count": 51
    }
   ],
   "metadata": {}
  },
  {
   "cell_type": "code",
   "execution_count": 52,
   "source": [
    "# exclude subs with 0 responses in social/nonsocial and subjs with fewer than 8 yes/no responses\n",
    "rows = ~np.isnan(counts_per_subj['diff'])\n",
    "counts_per_subj = counts_per_subj.loc[rows,:]\n",
    "counts_per_subj.shape"
   ],
   "outputs": [
    {
     "output_type": "execute_result",
     "data": {
      "text/plain": [
       "(824, 4)"
      ]
     },
     "metadata": {},
     "execution_count": 52
    }
   ],
   "metadata": {}
  },
  {
   "cell_type": "code",
   "execution_count": 53,
   "source": [
    "# compute response perceptages and theur diiference\n",
    "counts_per_subj.loc[:,'No_pc']  = 100*counts_per_subj.loc[:,0]/counts_per_subj.loc[:,'sum']\n",
    "counts_per_subj.loc[:,'Yes_pc'] = 100*counts_per_subj.loc[:,1]/counts_per_subj.loc[:,'sum']\n",
    "counts_per_subj.loc[:,'Soc-NonSoc_pc'] = counts_per_subj.loc[:,'Yes_pc'] - counts_per_subj.loc[:,'No_pc']\n",
    "counts_per_subj"
   ],
   "outputs": [
    {
     "output_type": "stream",
     "name": "stderr",
     "text": [
      "/Users/f0053cz/anaconda3/envs/py37/lib/python3.7/site-packages/pandas/core/indexing.py:1596: SettingWithCopyWarning: \n",
      "A value is trying to be set on a copy of a slice from a DataFrame.\n",
      "Try using .loc[row_indexer,col_indexer] = value instead\n",
      "\n",
      "See the caveats in the documentation: https://pandas.pydata.org/pandas-docs/stable/user_guide/indexing.html#returning-a-view-versus-a-copy\n",
      "  self.obj[key] = _infer_fill_value(value)\n",
      "/Users/f0053cz/anaconda3/envs/py37/lib/python3.7/site-packages/pandas/core/indexing.py:1783: SettingWithCopyWarning: \n",
      "A value is trying to be set on a copy of a slice from a DataFrame.\n",
      "Try using .loc[row_indexer,col_indexer] = value instead\n",
      "\n",
      "See the caveats in the documentation: https://pandas.pydata.org/pandas-docs/stable/user_guide/indexing.html#returning-a-view-versus-a-copy\n",
      "  self.obj[item_labels[indexer[info_axis]]] = value\n"
     ]
    },
    {
     "output_type": "execute_result",
     "data": {
      "text/html": [
       "<div>\n",
       "<style scoped>\n",
       "    .dataframe tbody tr th:only-of-type {\n",
       "        vertical-align: middle;\n",
       "    }\n",
       "\n",
       "    .dataframe tbody tr th {\n",
       "        vertical-align: top;\n",
       "    }\n",
       "\n",
       "    .dataframe thead th {\n",
       "        text-align: right;\n",
       "    }\n",
       "</style>\n",
       "<table border=\"1\" class=\"dataframe\">\n",
       "  <thead>\n",
       "    <tr style=\"text-align: right;\">\n",
       "      <th>response</th>\n",
       "      <th>0</th>\n",
       "      <th>1</th>\n",
       "      <th>diff</th>\n",
       "      <th>sum</th>\n",
       "      <th>No_pc</th>\n",
       "      <th>Yes_pc</th>\n",
       "      <th>Soc-NonSoc_pc</th>\n",
       "    </tr>\n",
       "    <tr>\n",
       "      <th>subj_idx</th>\n",
       "      <th></th>\n",
       "      <th></th>\n",
       "      <th></th>\n",
       "      <th></th>\n",
       "      <th></th>\n",
       "      <th></th>\n",
       "      <th></th>\n",
       "    </tr>\n",
       "  </thead>\n",
       "  <tbody>\n",
       "    <tr>\n",
       "      <th>100206</th>\n",
       "      <td>1.0</td>\n",
       "      <td>9.0</td>\n",
       "      <td>8.0</td>\n",
       "      <td>10.0</td>\n",
       "      <td>10.000000</td>\n",
       "      <td>90.000000</td>\n",
       "      <td>80.000000</td>\n",
       "    </tr>\n",
       "    <tr>\n",
       "      <th>100307</th>\n",
       "      <td>4.0</td>\n",
       "      <td>5.0</td>\n",
       "      <td>1.0</td>\n",
       "      <td>9.0</td>\n",
       "      <td>44.444444</td>\n",
       "      <td>55.555556</td>\n",
       "      <td>11.111111</td>\n",
       "    </tr>\n",
       "    <tr>\n",
       "      <th>100408</th>\n",
       "      <td>4.0</td>\n",
       "      <td>5.0</td>\n",
       "      <td>1.0</td>\n",
       "      <td>9.0</td>\n",
       "      <td>44.444444</td>\n",
       "      <td>55.555556</td>\n",
       "      <td>11.111111</td>\n",
       "    </tr>\n",
       "    <tr>\n",
       "      <th>100610</th>\n",
       "      <td>5.0</td>\n",
       "      <td>5.0</td>\n",
       "      <td>0.0</td>\n",
       "      <td>10.0</td>\n",
       "      <td>50.000000</td>\n",
       "      <td>50.000000</td>\n",
       "      <td>0.000000</td>\n",
       "    </tr>\n",
       "    <tr>\n",
       "      <th>101309</th>\n",
       "      <td>2.0</td>\n",
       "      <td>5.0</td>\n",
       "      <td>3.0</td>\n",
       "      <td>7.0</td>\n",
       "      <td>28.571429</td>\n",
       "      <td>71.428571</td>\n",
       "      <td>42.857143</td>\n",
       "    </tr>\n",
       "    <tr>\n",
       "      <th>...</th>\n",
       "      <td>...</td>\n",
       "      <td>...</td>\n",
       "      <td>...</td>\n",
       "      <td>...</td>\n",
       "      <td>...</td>\n",
       "      <td>...</td>\n",
       "      <td>...</td>\n",
       "    </tr>\n",
       "    <tr>\n",
       "      <th>991267</th>\n",
       "      <td>4.0</td>\n",
       "      <td>5.0</td>\n",
       "      <td>1.0</td>\n",
       "      <td>9.0</td>\n",
       "      <td>44.444444</td>\n",
       "      <td>55.555556</td>\n",
       "      <td>11.111111</td>\n",
       "    </tr>\n",
       "    <tr>\n",
       "      <th>992673</th>\n",
       "      <td>5.0</td>\n",
       "      <td>5.0</td>\n",
       "      <td>0.0</td>\n",
       "      <td>10.0</td>\n",
       "      <td>50.000000</td>\n",
       "      <td>50.000000</td>\n",
       "      <td>0.000000</td>\n",
       "    </tr>\n",
       "    <tr>\n",
       "      <th>992774</th>\n",
       "      <td>4.0</td>\n",
       "      <td>5.0</td>\n",
       "      <td>1.0</td>\n",
       "      <td>9.0</td>\n",
       "      <td>44.444444</td>\n",
       "      <td>55.555556</td>\n",
       "      <td>11.111111</td>\n",
       "    </tr>\n",
       "    <tr>\n",
       "      <th>993675</th>\n",
       "      <td>5.0</td>\n",
       "      <td>5.0</td>\n",
       "      <td>0.0</td>\n",
       "      <td>10.0</td>\n",
       "      <td>50.000000</td>\n",
       "      <td>50.000000</td>\n",
       "      <td>0.000000</td>\n",
       "    </tr>\n",
       "    <tr>\n",
       "      <th>996782</th>\n",
       "      <td>5.0</td>\n",
       "      <td>5.0</td>\n",
       "      <td>0.0</td>\n",
       "      <td>10.0</td>\n",
       "      <td>50.000000</td>\n",
       "      <td>50.000000</td>\n",
       "      <td>0.000000</td>\n",
       "    </tr>\n",
       "  </tbody>\n",
       "</table>\n",
       "<p>824 rows × 7 columns</p>\n",
       "</div>"
      ],
      "text/plain": [
       "response    0    1  diff   sum      No_pc     Yes_pc  Soc-NonSoc_pc\n",
       "subj_idx                                                           \n",
       "100206    1.0  9.0   8.0  10.0  10.000000  90.000000      80.000000\n",
       "100307    4.0  5.0   1.0   9.0  44.444444  55.555556      11.111111\n",
       "100408    4.0  5.0   1.0   9.0  44.444444  55.555556      11.111111\n",
       "100610    5.0  5.0   0.0  10.0  50.000000  50.000000       0.000000\n",
       "101309    2.0  5.0   3.0   7.0  28.571429  71.428571      42.857143\n",
       "...       ...  ...   ...   ...        ...        ...            ...\n",
       "991267    4.0  5.0   1.0   9.0  44.444444  55.555556      11.111111\n",
       "992673    5.0  5.0   0.0  10.0  50.000000  50.000000       0.000000\n",
       "992774    4.0  5.0   1.0   9.0  44.444444  55.555556      11.111111\n",
       "993675    5.0  5.0   0.0  10.0  50.000000  50.000000       0.000000\n",
       "996782    5.0  5.0   0.0  10.0  50.000000  50.000000       0.000000\n",
       "\n",
       "[824 rows x 7 columns]"
      ]
     },
     "metadata": {},
     "execution_count": 53
    }
   ],
   "metadata": {}
  },
  {
   "cell_type": "code",
   "execution_count": 66,
   "source": [
    "fig = plt.figure(1,figsize=(5,3))\n",
    "ax = fig.add_subplot(111)\n",
    "sns.histplot(data=counts_per_subj,bins=20,x='Soc-NonSoc_pc',color='grey')\n",
    "ax.set_xlabel('% Social-% NonSocial\\nresponses')\n",
    "ax.set_ylabel('Number of\\nsubjects')\n",
    "ymin,ymax = ax.get_ylim()\n",
    "ax.vlines(counts_per_subj.mean()['Soc-NonSoc_pc'],ymin,ymax,color = 'r',label = 'Mean\\nS-NS')\n",
    "ax.set_xticks([-75,-50,-25,0,25,50,75])\n",
    "ax.legend(loc='upper right')\n",
    "ax.set_xlim(-60,85)\n",
    "xmin,xmax = ax.get_ylim()\n",
    "ax.axvspan(0,xmax, facecolor= '0', alpha=0.2) # background color for the first 5 bars(mental?)\n",
    "ax.axvspan(xmin,0, facecolor='0.1', alpha=0.2) # background color for the first 5 bars(mental?)\n",
    "\n",
    "ax.text(-30,100,'\"Non-social\"\\nbias', ha='center', color = 'black')\n",
    "ax.text(45,100,'\"Social\"\\nbias', ha='center', color = 'black')\n",
    "ax.set_title(\"Social v. nonsocial responses\",fontweight='bold')\n",
    "\n",
    "stats.ttest_1samp(counts_per_subj['Soc-NonSoc_pc'], 0)\n",
    "\n",
    "\n",
    "\n"
   ],
   "outputs": [
    {
     "output_type": "execute_result",
     "data": {
      "text/plain": [
       "Ttest_1sampResult(statistic=10.009446633489986, pvalue=2.466374395919296e-22)"
      ]
     },
     "metadata": {},
     "execution_count": 66
    },
    {
     "output_type": "display_data",
     "data": {
      "image/png": "[encoded data removed]",
      "text/plain": [
       "<Figure size 360x216 with 1 Axes>"
      ]
     },
     "metadata": {
      "needs_background": "light"
     }
    }
   ],
   "metadata": {}
  },
  {
   "cell_type": "code",
   "execution_count": 55,
   "source": [
    "print(f\"25%:{np.quantile(counts_per_subj['Yes_pc'],.25):.2f}, 50%:{np.quantile(counts_per_subj['Yes_pc'],.5):.2f}, 75%:{np.quantile(counts_per_subj['Yes_pc'],.75):.2f}\")\n",
    "print(f\"25%:{np.quantile(counts_per_subj['No_pc'],.25):.2f}, 50%:{np.quantile(counts_per_subj['No_pc'],.5):.2f}, 75%:{np.quantile(counts_per_subj['No_pc'],.75)}\")\n"
   ],
   "outputs": [
    {
     "output_type": "stream",
     "name": "stdout",
     "text": [
      "25%:50.00, 50%:50.00, 75%:55.56\n",
      "25%:44.44, 50%:50.00, 75%:50.0\n"
     ]
    }
   ],
   "metadata": {}
  },
  {
   "cell_type": "code",
   "execution_count": 56,
   "source": [
    "def box_plot(data, edge_color, fill_color,pos,v):\n",
    "    # customize boxplots\n",
    "    alpha= .2\n",
    "    bp = ax.boxplot(data, positions = [pos], patch_artist=True,widths=.5,vert=v,flierprops = dict(markeredgecolor=edge_color,\n",
    "    markerfacecolor=fill_color, alpha=alpha))\n",
    "    \n",
    "    for element in ['boxes', 'whiskers', 'fliers', 'means', 'caps']:\n",
    "        plt.setp(bp[element], color=edge_color)\n",
    "    for element in ['medians']:\n",
    "        plt.setp(bp[element], color='k',linewidth=2,ls='dashed')\n",
    "\n",
    "    for patch in bp['boxes']:\n",
    "        patch.set(facecolor=fill_color,alpha=alpha)#'w'       \n",
    "        \n",
    "    return bp"
   ],
   "outputs": [],
   "metadata": {}
  },
  {
   "cell_type": "code",
   "execution_count": 57,
   "source": [
    "# exploring colors \n",
    "import matplotlib.cm\n",
    "for i in range(len(matplotlib.cm.datad[\"RdBu\"])):\n",
    "    print(np.array(matplotlib.cm.datad[\"RdBu\"][i])*255)\n",
    "#red_rgb = np.array(matplotlib.cm.datad[\"RdBu\"][0])*255\n",
    "#blue_rgb = np.array(matplotlib.cm.datad[\"RdBu\"][-1])*255\n",
    "#print('red:',red_rgb,',\\n blue:',blue_rgb)\n"
   ],
   "outputs": [
    {
     "output_type": "stream",
     "name": "stdout",
     "text": [
      "[103.   0.  31.]\n",
      "[178.  24.  43.]\n",
      "[214.  96.  77.]\n",
      "[244. 165. 130.]\n",
      "[253. 219. 199.]\n",
      "[247. 247. 247.]\n",
      "[209. 229. 240.]\n",
      "[146. 197. 222.]\n",
      "[ 67. 147. 195.]\n",
      "[ 33. 102. 172.]\n",
      "[ 5. 48. 97.]\n"
     ]
    }
   ],
   "metadata": {}
  },
  {
   "cell_type": "code",
   "execution_count": 151,
   "source": [
    "def plot_fig_1b(ax):\n",
    "        \n",
    "    #plt.boxplot([counts_per_subj['Yes_pc'],counts_per_subj['No_pc']],positions = [1,0],widths =.8, color='r')\n",
    "    #ax.boxplot(counts_per_subj['Yes_pc'], positions = [0], patch_artist=True)\n",
    "    bp1 = box_plot(counts_per_subj['Yes_pc'], red_rgb, red_rgb,1,True)\n",
    "    bp2 = box_plot(counts_per_subj['No_pc'], blue_rgb, blue_rgb,0,True)\n",
    "    #ax.set_ylim(0, 10)\n",
    "\n",
    "    #plt.axhspan(0,50, facecolor= '0.5', alpha=0.2) # background color for the first 5 bars(mental?)\n",
    "    #sns.barplot(data=counts_per_subj.loc[:,['No_pc','Yes_pc']].melt(),x='response',y='value',edgecolor = 'k',alpha=.5)\n",
    "    plt.xticks(range(2),['\"Non-\\nsocial\"','\"Social\"'])\n",
    "    plt.ylabel(\"% of responses\\nper subject\")\n",
    "    plt.ylim(0,100)\n",
    "    xmin,xmax = plt.xlim()\n",
    "    plt.xlabel('')\n",
    "\n",
    "    print('mean diff:',np.nanmean(counts_per_subj['Yes_pc']-counts_per_subj['No_pc']))\n",
    "    stats.ttest_rel(counts_per_subj['No_pc'],counts_per_subj['Yes_pc'])\n",
    "\n",
    "fig = plt.figure(figsize=(4,4))\n",
    "ax =  fig.add_subplot(111)\n",
    "plot_fig_1b(ax)"
   ],
   "outputs": [
    {
     "output_type": "stream",
     "name": "stdout",
     "text": [
      "mean diff: 5.602076591154261\n"
     ]
    },
    {
     "output_type": "display_data",
     "data": {
      "image/png": "[encoded data removed]",
      "text/plain": [
       "<Figure size 288x288 with 1 Axes>"
      ]
     },
     "metadata": {
      "needs_background": "light"
     }
    }
   ],
   "metadata": {}
  },
  {
   "cell_type": "code",
   "execution_count": 152,
   "source": [
    "# save data for trait analysis etc\n",
    "counts_per_subj = counts_per_subj.rename(columns={0: 'countNonSoc(No)', 1: 'countSoc(Yes)','diff':'Yes-No','sum':'Yes+No'})\n",
    "counts_per_subj"
   ],
   "outputs": [
    {
     "output_type": "execute_result",
     "data": {
      "text/html": [
       "<div>\n",
       "<style scoped>\n",
       "    .dataframe tbody tr th:only-of-type {\n",
       "        vertical-align: middle;\n",
       "    }\n",
       "\n",
       "    .dataframe tbody tr th {\n",
       "        vertical-align: top;\n",
       "    }\n",
       "\n",
       "    .dataframe thead th {\n",
       "        text-align: right;\n",
       "    }\n",
       "</style>\n",
       "<table border=\"1\" class=\"dataframe\">\n",
       "  <thead>\n",
       "    <tr style=\"text-align: right;\">\n",
       "      <th>response</th>\n",
       "      <th>countNonSoc(No)</th>\n",
       "      <th>countSoc(Yes)</th>\n",
       "      <th>Yes-No</th>\n",
       "      <th>Yes+No</th>\n",
       "      <th>No_pc</th>\n",
       "      <th>Yes_pc</th>\n",
       "      <th>Soc-NonSoc_pc</th>\n",
       "    </tr>\n",
       "    <tr>\n",
       "      <th>subj_idx</th>\n",
       "      <th></th>\n",
       "      <th></th>\n",
       "      <th></th>\n",
       "      <th></th>\n",
       "      <th></th>\n",
       "      <th></th>\n",
       "      <th></th>\n",
       "    </tr>\n",
       "  </thead>\n",
       "  <tbody>\n",
       "    <tr>\n",
       "      <th>100206</th>\n",
       "      <td>1.0</td>\n",
       "      <td>9.0</td>\n",
       "      <td>8.0</td>\n",
       "      <td>10.0</td>\n",
       "      <td>10.000000</td>\n",
       "      <td>90.000000</td>\n",
       "      <td>80.000000</td>\n",
       "    </tr>\n",
       "    <tr>\n",
       "      <th>100307</th>\n",
       "      <td>4.0</td>\n",
       "      <td>5.0</td>\n",
       "      <td>1.0</td>\n",
       "      <td>9.0</td>\n",
       "      <td>44.444444</td>\n",
       "      <td>55.555556</td>\n",
       "      <td>11.111111</td>\n",
       "    </tr>\n",
       "    <tr>\n",
       "      <th>100408</th>\n",
       "      <td>4.0</td>\n",
       "      <td>5.0</td>\n",
       "      <td>1.0</td>\n",
       "      <td>9.0</td>\n",
       "      <td>44.444444</td>\n",
       "      <td>55.555556</td>\n",
       "      <td>11.111111</td>\n",
       "    </tr>\n",
       "    <tr>\n",
       "      <th>100610</th>\n",
       "      <td>5.0</td>\n",
       "      <td>5.0</td>\n",
       "      <td>0.0</td>\n",
       "      <td>10.0</td>\n",
       "      <td>50.000000</td>\n",
       "      <td>50.000000</td>\n",
       "      <td>0.000000</td>\n",
       "    </tr>\n",
       "    <tr>\n",
       "      <th>101309</th>\n",
       "      <td>2.0</td>\n",
       "      <td>5.0</td>\n",
       "      <td>3.0</td>\n",
       "      <td>7.0</td>\n",
       "      <td>28.571429</td>\n",
       "      <td>71.428571</td>\n",
       "      <td>42.857143</td>\n",
       "    </tr>\n",
       "    <tr>\n",
       "      <th>...</th>\n",
       "      <td>...</td>\n",
       "      <td>...</td>\n",
       "      <td>...</td>\n",
       "      <td>...</td>\n",
       "      <td>...</td>\n",
       "      <td>...</td>\n",
       "      <td>...</td>\n",
       "    </tr>\n",
       "    <tr>\n",
       "      <th>991267</th>\n",
       "      <td>4.0</td>\n",
       "      <td>5.0</td>\n",
       "      <td>1.0</td>\n",
       "      <td>9.0</td>\n",
       "      <td>44.444444</td>\n",
       "      <td>55.555556</td>\n",
       "      <td>11.111111</td>\n",
       "    </tr>\n",
       "    <tr>\n",
       "      <th>992673</th>\n",
       "      <td>5.0</td>\n",
       "      <td>5.0</td>\n",
       "      <td>0.0</td>\n",
       "      <td>10.0</td>\n",
       "      <td>50.000000</td>\n",
       "      <td>50.000000</td>\n",
       "      <td>0.000000</td>\n",
       "    </tr>\n",
       "    <tr>\n",
       "      <th>992774</th>\n",
       "      <td>4.0</td>\n",
       "      <td>5.0</td>\n",
       "      <td>1.0</td>\n",
       "      <td>9.0</td>\n",
       "      <td>44.444444</td>\n",
       "      <td>55.555556</td>\n",
       "      <td>11.111111</td>\n",
       "    </tr>\n",
       "    <tr>\n",
       "      <th>993675</th>\n",
       "      <td>5.0</td>\n",
       "      <td>5.0</td>\n",
       "      <td>0.0</td>\n",
       "      <td>10.0</td>\n",
       "      <td>50.000000</td>\n",
       "      <td>50.000000</td>\n",
       "      <td>0.000000</td>\n",
       "    </tr>\n",
       "    <tr>\n",
       "      <th>996782</th>\n",
       "      <td>5.0</td>\n",
       "      <td>5.0</td>\n",
       "      <td>0.0</td>\n",
       "      <td>10.0</td>\n",
       "      <td>50.000000</td>\n",
       "      <td>50.000000</td>\n",
       "      <td>0.000000</td>\n",
       "    </tr>\n",
       "  </tbody>\n",
       "</table>\n",
       "<p>824 rows × 7 columns</p>\n",
       "</div>"
      ],
      "text/plain": [
       "response  countNonSoc(No)  countSoc(Yes)  Yes-No  Yes+No      No_pc  \\\n",
       "subj_idx                                                              \n",
       "100206                1.0            9.0     8.0    10.0  10.000000   \n",
       "100307                4.0            5.0     1.0     9.0  44.444444   \n",
       "100408                4.0            5.0     1.0     9.0  44.444444   \n",
       "100610                5.0            5.0     0.0    10.0  50.000000   \n",
       "101309                2.0            5.0     3.0     7.0  28.571429   \n",
       "...                   ...            ...     ...     ...        ...   \n",
       "991267                4.0            5.0     1.0     9.0  44.444444   \n",
       "992673                5.0            5.0     0.0    10.0  50.000000   \n",
       "992774                4.0            5.0     1.0     9.0  44.444444   \n",
       "993675                5.0            5.0     0.0    10.0  50.000000   \n",
       "996782                5.0            5.0     0.0    10.0  50.000000   \n",
       "\n",
       "response     Yes_pc  Soc-NonSoc_pc  \n",
       "subj_idx                            \n",
       "100206    90.000000      80.000000  \n",
       "100307    55.555556      11.111111  \n",
       "100408    55.555556      11.111111  \n",
       "100610    50.000000       0.000000  \n",
       "101309    71.428571      42.857143  \n",
       "...             ...            ...  \n",
       "991267    55.555556      11.111111  \n",
       "992673    50.000000       0.000000  \n",
       "992774    55.555556      11.111111  \n",
       "993675    50.000000       0.000000  \n",
       "996782    50.000000       0.000000  \n",
       "\n",
       "[824 rows x 7 columns]"
      ]
     },
     "metadata": {},
     "execution_count": 152
    }
   ],
   "metadata": {}
  },
  {
   "cell_type": "code",
   "execution_count": 131,
   "source": [
    "counts_per_subj.to_csv(os.path.join(file_loc,'data_for_paper','1b_S_NS_responses_per_subj.csv'))"
   ],
   "outputs": [],
   "metadata": {}
  },
  {
   "cell_type": "markdown",
   "source": [
    "## 2. SDT estimates for our data"
   ],
   "metadata": {}
  },
  {
   "cell_type": "markdown",
   "source": [
    "- in addition to counting one or the other responses, we can also use signal detection measures to see how they align with experimenter-assigned labels. For example, a higher number of \"social\" responses could show in a net(1) response bias towards social, and/or (2) an decrease in d prime (?)"
   ],
   "metadata": {}
  },
  {
   "cell_type": "code",
   "execution_count": 132,
   "source": [
    "# Function to compute SDT measures like dprime, critia etc. \n",
    "from scipy.stats import norm\n",
    "import math\n",
    "Z = norm.ppf\n",
    " \n",
    "def SDT(hits, misses, fas, crs):\n",
    "    \"\"\" returns a dict with d-prime measures given hits, misses, false alarms, and correct rejections\"\"\"\n",
    "    # Floors an ceilings are replaced by half hits and half FA's\n",
    "    half_hit = 0.5 / (hits + misses)\n",
    "    half_fa = 0.5 / (fas + crs)\n",
    " \n",
    "    # Calculate hit_rate and avoid d' infinity\n",
    "    hit_rate = hits / (hits + misses)\n",
    "    if hit_rate == 1: \n",
    "        hit_rate = 1 - half_hit\n",
    "    if hit_rate == 0: \n",
    "        hit_rate = half_hit\n",
    " \n",
    "    # Calculate false alarm rate and avoid d' infinity\n",
    "    fa_rate = fas / (fas + crs)\n",
    "    if fa_rate == 1: \n",
    "        fa_rate = 1 - half_fa\n",
    "    if fa_rate == 0: \n",
    "        fa_rate = half_fa\n",
    " \n",
    "    # Return d', beta, c and Ad'\n",
    "    out = {}\n",
    "    out['d'] = Z(hit_rate) - Z(fa_rate)\n",
    "    out['beta'] = math.exp((Z(fa_rate)**2 - Z(hit_rate)**2) / 2)\n",
    "    out['c'] = -(Z(hit_rate) + Z(fa_rate)) / 2\n",
    "    out['Ad'] = norm.cdf(out['d'] / math.sqrt(2))\n",
    "    \n",
    "    return(out)"
   ],
   "outputs": [],
   "metadata": {}
  },
  {
   "cell_type": "code",
   "execution_count": 133,
   "source": [
    "#creating a matrix of hits, FAs, FNs and CRs per subject\n",
    "\n",
    "matrix = data_sure.groupby([\"subj_idx\", \"stim\"])[\"response\"].value_counts().unstack().fillna(0) #/n_trials\n",
    "matrix.head(10)\n",
    "\n",
    "hits = matrix[matrix.index.get_level_values(\"stim\")==\"Mental\"].reset_index(\"stim\")[1] # '1' responses for Mental\n",
    "misses = matrix[matrix.index.get_level_values(\"stim\")==\"Mental\"].reset_index(\"stim\")[0] # '0' responses for Mental\n",
    "false_alarms = matrix[matrix.index.get_level_values(\"stim\")==\"Random\"].reset_index(\"stim\")[1]\n",
    "correct_rejects = matrix[matrix.index.get_level_values(\"stim\")==\"Random\"].reset_index(\"stim\")[0]\n",
    "\n",
    "hits.name='hits'\n",
    "misses.name='misses'\n",
    "false_alarms.name='false_alarms'\n",
    "correct_rejects.name='correct_rejects'\n",
    "\n",
    "sdt_data = pd.concat([hits, misses, false_alarms, correct_rejects], axis=1)\n",
    "sdt_data.head()\n",
    "\n",
    "#sdt_data.transpose().plot(legend = None, alpha = 0.1)"
   ],
   "outputs": [
    {
     "output_type": "execute_result",
     "data": {
      "text/html": [
       "<div>\n",
       "<style scoped>\n",
       "    .dataframe tbody tr th:only-of-type {\n",
       "        vertical-align: middle;\n",
       "    }\n",
       "\n",
       "    .dataframe tbody tr th {\n",
       "        vertical-align: top;\n",
       "    }\n",
       "\n",
       "    .dataframe thead th {\n",
       "        text-align: right;\n",
       "    }\n",
       "</style>\n",
       "<table border=\"1\" class=\"dataframe\">\n",
       "  <thead>\n",
       "    <tr style=\"text-align: right;\">\n",
       "      <th></th>\n",
       "      <th>hits</th>\n",
       "      <th>misses</th>\n",
       "      <th>false_alarms</th>\n",
       "      <th>correct_rejects</th>\n",
       "    </tr>\n",
       "    <tr>\n",
       "      <th>subj_idx</th>\n",
       "      <th></th>\n",
       "      <th></th>\n",
       "      <th></th>\n",
       "      <th></th>\n",
       "    </tr>\n",
       "  </thead>\n",
       "  <tbody>\n",
       "    <tr>\n",
       "      <th>100206</th>\n",
       "      <td>5.0</td>\n",
       "      <td>0.0</td>\n",
       "      <td>4.0</td>\n",
       "      <td>1.0</td>\n",
       "    </tr>\n",
       "    <tr>\n",
       "      <th>100307</th>\n",
       "      <td>4.0</td>\n",
       "      <td>0.0</td>\n",
       "      <td>1.0</td>\n",
       "      <td>4.0</td>\n",
       "    </tr>\n",
       "    <tr>\n",
       "      <th>100408</th>\n",
       "      <td>5.0</td>\n",
       "      <td>0.0</td>\n",
       "      <td>0.0</td>\n",
       "      <td>4.0</td>\n",
       "    </tr>\n",
       "    <tr>\n",
       "      <th>100610</th>\n",
       "      <td>5.0</td>\n",
       "      <td>0.0</td>\n",
       "      <td>0.0</td>\n",
       "      <td>5.0</td>\n",
       "    </tr>\n",
       "    <tr>\n",
       "      <th>101309</th>\n",
       "      <td>5.0</td>\n",
       "      <td>0.0</td>\n",
       "      <td>0.0</td>\n",
       "      <td>2.0</td>\n",
       "    </tr>\n",
       "  </tbody>\n",
       "</table>\n",
       "</div>"
      ],
      "text/plain": [
       "          hits  misses  false_alarms  correct_rejects\n",
       "subj_idx                                             \n",
       "100206     5.0     0.0           4.0              1.0\n",
       "100307     4.0     0.0           1.0              4.0\n",
       "100408     5.0     0.0           0.0              4.0\n",
       "100610     5.0     0.0           0.0              5.0\n",
       "101309     5.0     0.0           0.0              2.0"
      ]
     },
     "metadata": {},
     "execution_count": 133
    }
   ],
   "metadata": {}
  },
  {
   "cell_type": "code",
   "execution_count": 134,
   "source": [
    "#invoke the SDT functions + sample results for subj1\n",
    "s = 0\n",
    "SDT(sdt_data[\"hits\"].iloc[s], sdt_data[\"misses\"].iloc[s], sdt_data[\"false_alarms\"].iloc[s], sdt_data[\"correct_rejects\"].iloc[s])"
   ],
   "outputs": [
    {
     "output_type": "execute_result",
     "data": {
      "text/plain": [
       "{'d': 0.4399303319716861,\n",
       " 'beta': 0.6268650096300457,\n",
       " 'c': -1.0615863995587573,\n",
       " 'Ad': 0.622129231220526}"
      ]
     },
     "metadata": {},
     "execution_count": 134
    }
   ],
   "metadata": {}
  },
  {
   "cell_type": "code",
   "execution_count": 70,
   "source": [
    "# extracting SDT measures for each subject and saving in a dataframe\n",
    "results = {}\n",
    "for s, subj in enumerate(sdt_data.index.values):\n",
    "    results[subj] = SDT(sdt_data[\"hits\"].iloc[s], sdt_data[\"misses\"].iloc[s], sdt_data[\"false_alarms\"].iloc[s], sdt_data[\"correct_rejects\"].iloc[s])\n",
    "\n",
    "sdt_measures = pd.DataFrame.from_dict(results, orient=\"index\")\n",
    "sdt_measures.head()"
   ],
   "outputs": [
    {
     "output_type": "execute_result",
     "data": {
      "text/html": [
       "<div>\n",
       "<style scoped>\n",
       "    .dataframe tbody tr th:only-of-type {\n",
       "        vertical-align: middle;\n",
       "    }\n",
       "\n",
       "    .dataframe tbody tr th {\n",
       "        vertical-align: top;\n",
       "    }\n",
       "\n",
       "    .dataframe thead th {\n",
       "        text-align: right;\n",
       "    }\n",
       "</style>\n",
       "<table border=\"1\" class=\"dataframe\">\n",
       "  <thead>\n",
       "    <tr style=\"text-align: right;\">\n",
       "      <th></th>\n",
       "      <th>d</th>\n",
       "      <th>beta</th>\n",
       "      <th>c</th>\n",
       "      <th>Ad</th>\n",
       "    </tr>\n",
       "  </thead>\n",
       "  <tbody>\n",
       "    <tr>\n",
       "      <th>100206</th>\n",
       "      <td>0.439930</td>\n",
       "      <td>0.626865</td>\n",
       "      <td>-1.061586</td>\n",
       "      <td>0.622129</td>\n",
       "    </tr>\n",
       "    <tr>\n",
       "      <th>100307</th>\n",
       "      <td>1.991971</td>\n",
       "      <td>0.735291</td>\n",
       "      <td>-0.154364</td>\n",
       "      <td>0.920514</td>\n",
       "    </tr>\n",
       "    <tr>\n",
       "      <th>100408</th>\n",
       "      <td>2.431901</td>\n",
       "      <td>0.852540</td>\n",
       "      <td>-0.065601</td>\n",
       "      <td>0.957249</td>\n",
       "    </tr>\n",
       "    <tr>\n",
       "      <th>100610</th>\n",
       "      <td>2.563103</td>\n",
       "      <td>1.000000</td>\n",
       "      <td>-0.000000</td>\n",
       "      <td>0.965037</td>\n",
       "    </tr>\n",
       "    <tr>\n",
       "      <th>101309</th>\n",
       "      <td>1.956041</td>\n",
       "      <td>0.552270</td>\n",
       "      <td>-0.303531</td>\n",
       "      <td>0.916688</td>\n",
       "    </tr>\n",
       "  </tbody>\n",
       "</table>\n",
       "</div>"
      ],
      "text/plain": [
       "               d      beta         c        Ad\n",
       "100206  0.439930  0.626865 -1.061586  0.622129\n",
       "100307  1.991971  0.735291 -0.154364  0.920514\n",
       "100408  2.431901  0.852540 -0.065601  0.957249\n",
       "100610  2.563103  1.000000 -0.000000  0.965037\n",
       "101309  1.956041  0.552270 -0.303531  0.916688"
      ]
     },
     "metadata": {},
     "execution_count": 70
    }
   ],
   "metadata": {}
  },
  {
   "cell_type": "code",
   "execution_count": 72,
   "source": [
    "# Plotting the distributions of dprimes and criteria across subjects\n",
    "# second figure used in the OHBM poster and paper  (1b)\n",
    "plt.figure(1,figsize =(3,3))\n",
    "sdt_measures['d'].hist(bins=20, alpha = 0.5)\n",
    "plt.plot(np.zeros((10,1))+np.median(sdt_measures['d']), np.arange(0,500,50), 'r', linestyle = 'dashed',label = \"Median d'\")\n",
    "plt.grid(None)\n",
    "plt.ylabel('Nr. of subjects', fontsize = 12)\n",
    "plt.xlabel(\"dprime\")\n",
    "plt.legend()\n",
    "\n",
    "std,pdprime = stats.wilcoxon(sdt_measures['d'], alternative = 'greater') # non parametric alternative to one-sample ttest\n",
    "print(std,',',pdprime)\n"
   ],
   "outputs": [
    {
     "output_type": "stream",
     "name": "stdout",
     "text": [
      "341551.0 , 2.2423052314575717e-140\n"
     ]
    },
    {
     "output_type": "display_data",
     "data": {
      "image/png": "[encoded data removed]",
      "text/plain": [
       "<Figure size 216x216 with 1 Axes>"
      ]
     },
     "metadata": {
      "needs_background": "light"
     }
    }
   ],
   "metadata": {}
  },
  {
   "cell_type": "code",
   "execution_count": 174,
   "source": [
    "def plot_fig_1c(ax):\n",
    "\n",
    "    #plt.title('Response bias', fontweight = 'bold')\n",
    "    ax.axvspan(-1,0,color=red_rgb,alpha=alpha)\n",
    "    ax.axvspan(0,1,color=blue_rgb,alpha=alpha)\n",
    "    #sns.distplot(sdt_measures['c'], bins= 30, label = 'criterion bias across subjects', norm_hist = False)\n",
    "    sdt_measures['c'].hist(bins=25, alpha = .7, color = [.2,.2,.2],edgecolor = 'white')\n",
    "    #plt.vlines(np.nanmean(sdt_measures['c']),0,500,color='r', linewidth = 3,linestyle = 'solid',\n",
    "    #           label = f'mean={np.round(np.nanmean(sdt_measures[\"c\"]),2)},\\np(Wilc.)=\\n{1.9e-26}')\n",
    "    ax.vlines(np.nanmean(sdt_measures['c']),0,500,color='k', linestyle = 'dashed',\n",
    "            label = f'mean\\n={np.round(np.nanmean(sdt_measures[\"c\"]),2)}')\n",
    "\n",
    "            #plt.plot(np.zeros((10,1)), np.linspace(0,450,10),\\\n",
    "    #         'grey', linestyle = 'dashed',label = f'0(No bias)')\n",
    "\n",
    "    ax.grid(None)\n",
    "    ax.set_ylabel('Nr. of subjects\\n ')\n",
    "    ax.set_xlabel(\"SDT Criterion\")\n",
    "    ax.set_xlim(-.75,.75)\n",
    "    ax.set_ylim(0,500)\n",
    "    #plt.xticks([-.75,-.5,-.25,0,.25,.5,.75], rotation=30)\n",
    "    #plt.legend(fontsize = 14,bbox_to_anchor=(1.02, 1), loc='upper left')\n",
    "    ax.legend()#bbox_to_anchor = (1.05,1))\n",
    "\n",
    "    ax.text(-.4,100,'\"Social\"\\nbias', ha='center',  color = 'k')\n",
    "    ax.text(.38,100,'\"Non-social\"\\nbias', ha='center', color = 'k')\n",
    "\n",
    "    #plt.legend(handles=[p1, p2], title='title', bbox_to_anchor=(1.05, 1), loc='upper left', prop=fontP)\n",
    "    stc, pc = stats.wilcoxon(sdt_measures['c'])\n",
    "    print(stc,',',pc)\n",
    "\n",
    "fig = plt.figure(1,figsize=(5,3))\n",
    "ax = fig.add_subplot(111)\n",
    "plot_fig_1c(ax)\n"
   ],
   "outputs": [
    {
     "output_type": "stream",
     "name": "stdout",
     "text": [
      "27043.0 , 5.418474953624208e-19\n"
     ]
    },
    {
     "output_type": "display_data",
     "data": {
      "image/png": "[encoded data removed]",
      "text/plain": [
       "<Figure size 360x216 with 1 Axes>"
      ]
     },
     "metadata": {
      "needs_background": "light"
     }
    }
   ],
   "metadata": {}
  },
  {
   "cell_type": "code",
   "execution_count": 135,
   "source": [
    "# save data for trait analysis etc\n",
    "sdt_measures.to_csv(os.path.join(file_loc,'data_for_paper','1c_SDTmeasures_per_subj.csv'))"
   ],
   "outputs": [],
   "metadata": {}
  },
  {
   "cell_type": "code",
   "execution_count": 78,
   "source": [
    "#dprime vs. criterion\n",
    "plt.figure(1,figsize =(3,3))\n",
    "plt.scatter(sdt_measures['d'],sdt_measures['c'],alpha = .2)\n",
    "stats.spearmanr(sdt_measures['d'],sdt_measures['c'])\n",
    "plt.xlabel('d-prime per subject')\n",
    "plt.ylabel('criterion per subject')\n",
    "\n"
   ],
   "outputs": [
    {
     "output_type": "execute_result",
     "data": {
      "text/plain": [
       "Text(0, 0.5, 'criterion per subject')"
      ]
     },
     "metadata": {},
     "execution_count": 78
    },
    {
     "output_type": "display_data",
     "data": {
      "image/png": "[encoded data removed]",
      "text/plain": [
       "<Figure size 216x216 with 1 Axes>"
      ]
     },
     "metadata": {
      "needs_background": "light"
     }
    }
   ],
   "metadata": {}
  },
  {
   "cell_type": "markdown",
   "source": [
    "# LMEs"
   ],
   "metadata": {}
  },
  {
   "cell_type": "code",
   "execution_count": 79,
   "source": [
    "# LME:\n",
    "\n",
    "# We use the Python version called pymer4 of the R package lme4.\n",
    "\n",
    "#from pymer4.test_install import test_install; test_install() # to test pyme4r install\n",
    "# important: pymer installed in the conda environment py37 (python v3.7x), \n",
    "# so if module can't be found here, quit Jupyter and type 'conda activate py37' into terminal\n",
    "\n",
    "#install lme functions\n",
    "from pymer4.models import Lmer\n",
    "#from pymer4.models import Lm"
   ],
   "outputs": [],
   "metadata": {}
  },
  {
   "cell_type": "markdown",
   "source": [
    "- Subject and stimulus being random factors that could've influenced results, it's important to control for them. LMEM lets us control for their effects on the DV using random intercepts and sometimes also on how the regressors affect the DV (using random slopes). The following cells show various LMEMs."
   ],
   "metadata": {}
  },
  {
   "cell_type": "markdown",
   "source": [
    "Interpreting the logistic regression results : if coef= .379\n",
    "log(p(r=1)/p(r=0)) = .379 So p(r=1)/p(r=0) = exp(.379) > 1, so p(r=1) is more likely, BUT p-value = 0.749 so results are not significant."
   ],
   "metadata": {}
  },
  {
   "cell_type": "markdown",
   "source": [
    "## Reaction time"
   ],
   "metadata": {}
  },
  {
   "cell_type": "code",
   "execution_count": 80,
   "source": [
    "#log-transforming RT makes the distribution closer to a Gaussian\n",
    "data_sure = data_sure.assign(logRT = np.log(data_sure['rt'])) # add a column for logRT\n",
    "data_sure.head()\n",
    "\n",
    "plt.figure(1, figsize=(10,4))\n",
    "plt.subplot(1,2,1)\n",
    "plt.title(\"RT before log-transformation\")\n",
    "data_sure['rt'].hist()\n",
    "plt.subplot(1,2,2)\n",
    "plt.title(\"RT after log-transformation\")\n",
    "data_sure['logRT'].hist()\n",
    "plt.tight_layout()"
   ],
   "outputs": [
    {
     "output_type": "display_data",
     "data": {
      "image/png": "[encoded data removed]",
      "text/plain": [
       "<Figure size 720x288 with 2 Axes>"
      ]
     },
     "metadata": {
      "needs_background": "light"
     }
    }
   ],
   "metadata": {}
  },
  {
   "cell_type": "markdown",
   "source": [
    "- Most of the analyses will be done on the sure responses.\n",
    "- RT is skewed and hence we take its log-transform (still not fully normal)\n",
    "\n",
    "<font color=red> TODO sometime: Look for the best family of distribution for RT (better than log) potentially using KL divergence, shift to glmer function and perhaps R </font>"
   ],
   "metadata": {}
  },
  {
   "cell_type": "markdown",
   "source": [
    "## Qn: Are \"social\" responses faster than \"nonsocial\" responses?"
   ],
   "metadata": {}
  },
  {
   "cell_type": "code",
   "execution_count": 146,
   "source": [
    "def plot_fig_1d(ax):\n",
    "\n",
    "    #rt_per_resptype_mean = data_sure.groupby(['response']).mean().rt\n",
    "    #rt_per_resptype_sem = data_sure.groupby(['response']).sem().rt\n",
    "\n",
    "    #plt.figure(1, figsize=(5,2))\n",
    "    #plt.boxplot([counts_per_subj['Yes_pc'],counts_per_subj['No_pc']],positions = [1,0],widths =.8, color='r')\n",
    "    #ax.boxplot(counts_per_subj['Yes_pc'], positions = [0], patch_artist=True)\n",
    "    bp1 = box_plot(data_sure.loc[data_sure['response']==1,'rt'], red_rgb, red_rgb,1,False)\n",
    "    bp2 = box_plot(data_sure.loc[data_sure['response']==0,'rt'], blue_rgb, blue_rgb,0,False)\n",
    "\n",
    "    rts_per_subj = data_sure.groupby(['subj_idx', 'response']).median().rt.unstack(level=-1) # Mean count per subject for Mental and Random\n",
    "    rts_per_subj['diff'] = rts_per_subj[1]-rts_per_subj[0]\n",
    "    ax.set_yticks(range(2))\n",
    "    ax.set_yticklabels(('\"Non-\\nsocial\"','\"Social\"'))\n",
    "    ax.set_ylabel('')\n",
    "    ax.set_xlabel('Response time(sec)')\n",
    "    \n",
    "    return rts_per_subj\n",
    "\n",
    "fig = plt.figure(figsize=(5,3))\n",
    "ax = fig.add_subplot(111)\n",
    "rts_per_subj = plot_fig_1d(ax)\n",
    "rts_per_subj\n"
   ],
   "outputs": [
    {
     "output_type": "execute_result",
     "data": {
      "text/html": [
       "<div>\n",
       "<style scoped>\n",
       "    .dataframe tbody tr th:only-of-type {\n",
       "        vertical-align: middle;\n",
       "    }\n",
       "\n",
       "    .dataframe tbody tr th {\n",
       "        vertical-align: top;\n",
       "    }\n",
       "\n",
       "    .dataframe thead th {\n",
       "        text-align: right;\n",
       "    }\n",
       "</style>\n",
       "<table border=\"1\" class=\"dataframe\">\n",
       "  <thead>\n",
       "    <tr style=\"text-align: right;\">\n",
       "      <th>response</th>\n",
       "      <th>0</th>\n",
       "      <th>1</th>\n",
       "      <th>diff</th>\n",
       "    </tr>\n",
       "    <tr>\n",
       "      <th>subj_idx</th>\n",
       "      <th></th>\n",
       "      <th></th>\n",
       "      <th></th>\n",
       "    </tr>\n",
       "  </thead>\n",
       "  <tbody>\n",
       "    <tr>\n",
       "      <th>100206</th>\n",
       "      <td>0.6830</td>\n",
       "      <td>0.764</td>\n",
       "      <td>0.0810</td>\n",
       "    </tr>\n",
       "    <tr>\n",
       "      <th>100307</th>\n",
       "      <td>0.5925</td>\n",
       "      <td>0.542</td>\n",
       "      <td>-0.0505</td>\n",
       "    </tr>\n",
       "    <tr>\n",
       "      <th>100408</th>\n",
       "      <td>1.2675</td>\n",
       "      <td>1.286</td>\n",
       "      <td>0.0185</td>\n",
       "    </tr>\n",
       "    <tr>\n",
       "      <th>100610</th>\n",
       "      <td>0.8480</td>\n",
       "      <td>1.267</td>\n",
       "      <td>0.4190</td>\n",
       "    </tr>\n",
       "    <tr>\n",
       "      <th>101309</th>\n",
       "      <td>1.3965</td>\n",
       "      <td>0.843</td>\n",
       "      <td>-0.5535</td>\n",
       "    </tr>\n",
       "    <tr>\n",
       "      <th>...</th>\n",
       "      <td>...</td>\n",
       "      <td>...</td>\n",
       "      <td>...</td>\n",
       "    </tr>\n",
       "    <tr>\n",
       "      <th>991267</th>\n",
       "      <td>0.9875</td>\n",
       "      <td>0.759</td>\n",
       "      <td>-0.2285</td>\n",
       "    </tr>\n",
       "    <tr>\n",
       "      <th>992673</th>\n",
       "      <td>1.3870</td>\n",
       "      <td>1.096</td>\n",
       "      <td>-0.2910</td>\n",
       "    </tr>\n",
       "    <tr>\n",
       "      <th>992774</th>\n",
       "      <td>0.5130</td>\n",
       "      <td>0.560</td>\n",
       "      <td>0.0470</td>\n",
       "    </tr>\n",
       "    <tr>\n",
       "      <th>993675</th>\n",
       "      <td>0.8920</td>\n",
       "      <td>1.274</td>\n",
       "      <td>0.3820</td>\n",
       "    </tr>\n",
       "    <tr>\n",
       "      <th>996782</th>\n",
       "      <td>0.7290</td>\n",
       "      <td>0.908</td>\n",
       "      <td>0.1790</td>\n",
       "    </tr>\n",
       "  </tbody>\n",
       "</table>\n",
       "<p>826 rows × 3 columns</p>\n",
       "</div>"
      ],
      "text/plain": [
       "response       0      1    diff\n",
       "subj_idx                       \n",
       "100206    0.6830  0.764  0.0810\n",
       "100307    0.5925  0.542 -0.0505\n",
       "100408    1.2675  1.286  0.0185\n",
       "100610    0.8480  1.267  0.4190\n",
       "101309    1.3965  0.843 -0.5535\n",
       "...          ...    ...     ...\n",
       "991267    0.9875  0.759 -0.2285\n",
       "992673    1.3870  1.096 -0.2910\n",
       "992774    0.5130  0.560  0.0470\n",
       "993675    0.8920  1.274  0.3820\n",
       "996782    0.7290  0.908  0.1790\n",
       "\n",
       "[826 rows x 3 columns]"
      ]
     },
     "metadata": {},
     "execution_count": 146
    },
    {
     "output_type": "display_data",
     "data": {
      "image/png": "[encoded data removed]",
      "text/plain": [
       "<Figure size 360x216 with 1 Axes>"
      ]
     },
     "metadata": {
      "needs_background": "light"
     }
    }
   ],
   "metadata": {}
  },
  {
   "cell_type": "code",
   "execution_count": 105,
   "source": [
    "rts_per_subj = rts_per_subj.rename(columns={0: 'medianRT_NonSoc(No)', 1: 'medianRT_Soc(Yes)','diff':'medianYes-medianNo'})\n",
    "rts_per_subj"
   ],
   "outputs": [
    {
     "output_type": "execute_result",
     "data": {
      "text/html": [
       "<div>\n",
       "<style scoped>\n",
       "    .dataframe tbody tr th:only-of-type {\n",
       "        vertical-align: middle;\n",
       "    }\n",
       "\n",
       "    .dataframe tbody tr th {\n",
       "        vertical-align: top;\n",
       "    }\n",
       "\n",
       "    .dataframe thead th {\n",
       "        text-align: right;\n",
       "    }\n",
       "</style>\n",
       "<table border=\"1\" class=\"dataframe\">\n",
       "  <thead>\n",
       "    <tr style=\"text-align: right;\">\n",
       "      <th>response</th>\n",
       "      <th>medianRT_NonSoc(No)</th>\n",
       "      <th>medianRT_Soc(Yes)</th>\n",
       "      <th>medianYes-medianNo</th>\n",
       "    </tr>\n",
       "    <tr>\n",
       "      <th>subj_idx</th>\n",
       "      <th></th>\n",
       "      <th></th>\n",
       "      <th></th>\n",
       "    </tr>\n",
       "  </thead>\n",
       "  <tbody>\n",
       "    <tr>\n",
       "      <th>100206</th>\n",
       "      <td>0.6830</td>\n",
       "      <td>0.764</td>\n",
       "      <td>0.0810</td>\n",
       "    </tr>\n",
       "    <tr>\n",
       "      <th>100307</th>\n",
       "      <td>0.5925</td>\n",
       "      <td>0.542</td>\n",
       "      <td>-0.0505</td>\n",
       "    </tr>\n",
       "    <tr>\n",
       "      <th>100408</th>\n",
       "      <td>1.2675</td>\n",
       "      <td>1.286</td>\n",
       "      <td>0.0185</td>\n",
       "    </tr>\n",
       "    <tr>\n",
       "      <th>100610</th>\n",
       "      <td>0.8480</td>\n",
       "      <td>1.267</td>\n",
       "      <td>0.4190</td>\n",
       "    </tr>\n",
       "    <tr>\n",
       "      <th>101309</th>\n",
       "      <td>1.3965</td>\n",
       "      <td>0.843</td>\n",
       "      <td>-0.5535</td>\n",
       "    </tr>\n",
       "    <tr>\n",
       "      <th>...</th>\n",
       "      <td>...</td>\n",
       "      <td>...</td>\n",
       "      <td>...</td>\n",
       "    </tr>\n",
       "    <tr>\n",
       "      <th>991267</th>\n",
       "      <td>0.9875</td>\n",
       "      <td>0.759</td>\n",
       "      <td>-0.2285</td>\n",
       "    </tr>\n",
       "    <tr>\n",
       "      <th>992673</th>\n",
       "      <td>1.3870</td>\n",
       "      <td>1.096</td>\n",
       "      <td>-0.2910</td>\n",
       "    </tr>\n",
       "    <tr>\n",
       "      <th>992774</th>\n",
       "      <td>0.5130</td>\n",
       "      <td>0.560</td>\n",
       "      <td>0.0470</td>\n",
       "    </tr>\n",
       "    <tr>\n",
       "      <th>993675</th>\n",
       "      <td>0.8920</td>\n",
       "      <td>1.274</td>\n",
       "      <td>0.3820</td>\n",
       "    </tr>\n",
       "    <tr>\n",
       "      <th>996782</th>\n",
       "      <td>0.7290</td>\n",
       "      <td>0.908</td>\n",
       "      <td>0.1790</td>\n",
       "    </tr>\n",
       "  </tbody>\n",
       "</table>\n",
       "<p>826 rows × 3 columns</p>\n",
       "</div>"
      ],
      "text/plain": [
       "response  medianRT_NonSoc(No)  medianRT_Soc(Yes)  medianYes-medianNo\n",
       "subj_idx                                                            \n",
       "100206                 0.6830              0.764              0.0810\n",
       "100307                 0.5925              0.542             -0.0505\n",
       "100408                 1.2675              1.286              0.0185\n",
       "100610                 0.8480              1.267              0.4190\n",
       "101309                 1.3965              0.843             -0.5535\n",
       "...                       ...                ...                 ...\n",
       "991267                 0.9875              0.759             -0.2285\n",
       "992673                 1.3870              1.096             -0.2910\n",
       "992774                 0.5130              0.560              0.0470\n",
       "993675                 0.8920              1.274              0.3820\n",
       "996782                 0.7290              0.908              0.1790\n",
       "\n",
       "[826 rows x 3 columns]"
      ]
     },
     "metadata": {},
     "execution_count": 105
    }
   ],
   "metadata": {}
  },
  {
   "cell_type": "code",
   "execution_count": 136,
   "source": [
    "# save data for trait analysis etc\n",
    "data_sure.to_csv(os.path.join(file_loc,'data_for_paper','1d_sure_responses.csv'),index=False)\n",
    "rts_per_subj.to_csv(os.path.join(file_loc,'data_for_paper','extra_medianRT_per_subj.csv'))"
   ],
   "outputs": [],
   "metadata": {}
  },
  {
   "cell_type": "code",
   "execution_count": 107,
   "source": [
    "# other optional figure if needed later\n",
    "plt.figure(1, figsize=(6,2))\n",
    "data = rts_per_subj['medianYes-medianNo'].values\n",
    "data  = data[~np.isnan(data)]\n",
    "_, bins, _ = plt.hist(data, 20, density=1, alpha=0.5,color = 'grey', align = 'mid',edgecolor = 'k')\n",
    "mu, sigma = scipy.stats.norm.fit(data)\n",
    "xpts = np.linspace(-1.5,1,20)\n",
    "best_fit_line = scipy.stats.norm.pdf(xpts, mu, sigma)\n",
    "plt.plot(xpts, best_fit_line, color = 'k',label = 'Best fit line', marker = 'o')\n",
    "ymin,ymax = plt.ylim()\n",
    "plt.vlines(mu,ymin,ymax,color = 'g',label = 'Mean')\n",
    "plt.vlines(0,ymin,ymax,color = 'k',label = 'Zero',ls = 'dashed')\n",
    "plt.xlabel('RTSoc-RTNonSoc per sub.')\n",
    "#plt.xticks([-5,-3,-1,0,1,3,5,7], rotation=30)\n",
    "plt.ylabel('Density')\n",
    "plt.legend(bbox_to_anchor = [0.5,0.2])\n",
    "\n",
    "plt.figure(2, figsize=(8,2))\n",
    "sns.boxplot(x=data)\n",
    "ymin,ymax = plt.ylim()\n",
    "#plt.vlines(mu,ymin,ymax,color = 'g',label = 'Mean')\n",
    "plt.vlines(0,ymin,ymax,color = 'k',label = 'Zero',ls = 'dashed')\n",
    "plt.xlabel('RTSoc-RTNonSoc per sub.')\n"
   ],
   "outputs": [
    {
     "output_type": "execute_result",
     "data": {
      "text/plain": [
       "Text(0.5, 0, 'RTSoc-RTNonSoc per sub.')"
      ]
     },
     "metadata": {},
     "execution_count": 107
    },
    {
     "output_type": "display_data",
     "data": {
      "image/png": "[encoded data removed]",
      "text/plain": [
       "<Figure size 432x144 with 1 Axes>"
      ]
     },
     "metadata": {
      "needs_background": "light"
     }
    },
    {
     "output_type": "display_data",
     "data": {
      "image/png": "[encoded data removed]",
      "text/plain": [
       "<Figure size 576x144 with 1 Axes>"
      ]
     },
     "metadata": {
      "needs_background": "light"
     }
    }
   ],
   "metadata": {}
  },
  {
   "cell_type": "markdown",
   "source": [
    "## LMEs"
   ],
   "metadata": {}
  },
  {
   "cell_type": "code",
   "execution_count": 109,
   "source": [
    "model = Lmer('rt ~  response +(response|subj_idx)', data=data_sure) # ff: mean response, rf:subjID\n",
    "print(model.fit())\n",
    "#sns.regplot(x= 'response',y= 'residuals', data= model.data, fit_reg= False)\n",
    "#plt.hist(model.residuals)\n",
    "plt.boxplot(model.residuals)\n",
    "ymin,ymax=plt.ylim()\n",
    "#plt.vlines(np.nanmean(model.residuals),ymin,ymax,color='k',label=f'mean={np.nanmean(model.residuals):.3f}')\n",
    "stat,p=stats.normaltest(model.residuals)\n",
    "plt.title(f'Residuals from\\nrt ~  response +(response|subj_idx)\\nnormality test stat={stat:.2f},p={p:.2e}')\n",
    "#plt.legend()"
   ],
   "outputs": [
    {
     "output_type": "stream",
     "name": "stdout",
     "text": [
      "Formula: rt~response+(response|subj_idx)\n",
      "\n",
      "Family: gaussian\t Inference: parametric\n",
      "\n",
      "Number of observations: 7756\t Groups: {'subj_idx': 826.0}\n",
      "\n",
      "Log-likelihood: -4657.663 \t AIC: 9315.326\n",
      "\n",
      "Random effects:\n",
      "\n",
      "                 Name    Var    Std\n",
      "subj_idx  (Intercept)  0.055  0.235\n",
      "subj_idx     response  0.014  0.118\n",
      "Residual               0.169  0.411\n",
      "\n",
      "                  IV1       IV2   Corr\n",
      "subj_idx  (Intercept)  response -0.687\n",
      "\n",
      "Fixed effects:\n",
      "\n",
      "             Estimate  2.5_ci  97.5_ci     SE       DF  T-stat  P-val  Sig\n",
      "(Intercept)     1.025   1.004    1.046  0.011  775.936  96.096    0.0  ***\n",
      "response       -0.039  -0.059   -0.019  0.010  783.139  -3.789    0.0  ***\n"
     ]
    },
    {
     "output_type": "execute_result",
     "data": {
      "text/plain": [
       "Text(0.5, 1.0, 'Residuals from\\nrt ~  response +(response|subj_idx)\\nnormality test stat=2037.46,p=0.00e+00')"
      ]
     },
     "metadata": {},
     "execution_count": 109
    },
    {
     "output_type": "display_data",
     "data": {
      "image/png": "[encoded data removed]",
      "text/plain": [
       "<Figure size 432x288 with 1 Axes>"
      ]
     },
     "metadata": {
      "needs_background": "light"
     }
    }
   ],
   "metadata": {}
  },
  {
   "cell_type": "code",
   "execution_count": 110,
   "source": [
    "len(np.unique(data_sure['subj_idx']))"
   ],
   "outputs": [
    {
     "output_type": "execute_result",
     "data": {
      "text/plain": [
       "826"
      ]
     },
     "metadata": {},
     "execution_count": 110
    }
   ],
   "metadata": {}
  },
  {
   "cell_type": "code",
   "execution_count": 111,
   "source": [
    "model = Lmer('logRT ~  response +(response|subj_idx)', data=data_sure) # ff: mean response, rf:subjID\n",
    "print(model.fit())\n",
    "#sns.regplot(x= 'response',y= 'residuals', data= model.data, fit_reg= False)\n",
    "plt.boxplot(model.residuals)\n",
    "stat,p=stats.normaltest(model.residuals)\n",
    "ymin,ymax=plt.ylim()\n",
    "#print(np.nanmean(model.residuals))\n",
    "#plt.vlines(np.nanmean(model.residuals),ymin,ymax,color='k',label=f'mean={np.nanmean(model.residuals):.3f}')\n",
    "plt.title(f'Residuals from\\nlogRT ~  response +(response|subj_idx)\\nnormality test stat={stat:.2f},p={p:.1e}')\n",
    "#plt.legend()\n"
   ],
   "outputs": [
    {
     "output_type": "stream",
     "name": "stdout",
     "text": [
      "Formula: logRT~response+(response|subj_idx)\n",
      "\n",
      "Family: gaussian\t Inference: parametric\n",
      "\n",
      "Number of observations: 7756\t Groups: {'subj_idx': 826.0}\n",
      "\n",
      "Log-likelihood: -3914.441 \t AIC: 7828.881\n",
      "\n",
      "Random effects:\n",
      "\n",
      "                 Name    Var    Std\n",
      "subj_idx  (Intercept)  0.052  0.229\n",
      "subj_idx     response  0.009  0.097\n",
      "Residual               0.138  0.372\n",
      "\n",
      "                  IV1       IV2   Corr\n",
      "subj_idx  (Intercept)  response -0.682\n",
      "\n",
      "Fixed effects:\n",
      "\n",
      "             Estimate  2.5_ci  97.5_ci     SE       DF  T-stat  P-val  Sig\n",
      "(Intercept)    -0.079  -0.098   -0.059  0.010  791.653  -7.797  0.000  ***\n",
      "response       -0.017  -0.035    0.001  0.009  786.305  -1.806  0.071    .\n"
     ]
    },
    {
     "output_type": "execute_result",
     "data": {
      "text/plain": [
       "Text(0.5, 1.0, 'Residuals from\\nlogRT ~  response +(response|subj_idx)\\nnormality test stat=149.15,p=4.1e-33')"
      ]
     },
     "metadata": {},
     "execution_count": 111
    },
    {
     "output_type": "display_data",
     "data": {
      "image/png": "[encoded data removed]",
      "text/plain": [
       "<Figure size 432x288 with 1 Axes>"
      ]
     },
     "metadata": {
      "needs_background": "light"
     }
    }
   ],
   "metadata": {}
  },
  {
   "cell_type": "code",
   "execution_count": 112,
   "source": [
    "model = Lmer('rt ~  response +(response|subj_idx) + (1|movie)', data=data_sure) # ff: mean response, rf:subjID\n",
    "print(model.fit())\n",
    "#sns.regplot(x= 'response',y= 'residuals', data= model.data, fit_reg= False)\n",
    "plt.hist(model.residuals)\n",
    "stats.normaltest(model.residuals)"
   ],
   "outputs": [
    {
     "output_type": "stream",
     "name": "stdout",
     "text": [
      "Formula: rt~response+(response|subj_idx)+(1|movie)\n",
      "\n",
      "Family: gaussian\t Inference: parametric\n",
      "\n",
      "Number of observations: 7756\t Groups: {'subj_idx': 826.0, 'movie': 10.0}\n",
      "\n",
      "Log-likelihood: -4010.147 \t AIC: 8020.294\n",
      "\n",
      "Random effects:\n",
      "\n",
      "                 Name    Var    Std\n",
      "subj_idx  (Intercept)  0.063  0.252\n",
      "subj_idx     response  0.028  0.166\n",
      "movie     (Intercept)  0.029  0.170\n",
      "Residual               0.136  0.369\n",
      "\n",
      "                  IV1       IV2  Corr\n",
      "subj_idx  (Intercept)  response -0.64\n",
      "\n",
      "Fixed effects:\n",
      "\n",
      "             Estimate  2.5_ci  97.5_ci     SE        DF  T-stat  P-val  Sig\n",
      "(Intercept)     1.032   0.922    1.142  0.056    10.510  18.381  0.000  ***\n",
      "response       -0.045  -0.096    0.005  0.026  2729.695  -1.762  0.078    .\n"
     ]
    },
    {
     "output_type": "execute_result",
     "data": {
      "text/plain": [
       "NormaltestResult(statistic=2126.236486581014, pvalue=0.0)"
      ]
     },
     "metadata": {},
     "execution_count": 112
    },
    {
     "output_type": "display_data",
     "data": {
      "image/png": "[encoded data removed]",
      "text/plain": [
       "<Figure size 432x288 with 1 Axes>"
      ]
     },
     "metadata": {
      "needs_background": "light"
     }
    }
   ],
   "metadata": {}
  },
  {
   "cell_type": "code",
   "execution_count": 113,
   "source": [
    "model = Lmer('logRT ~  response +(response|subj_idx) + (1|movie)', data=data_sure) # ff: mean response, rf:subjID\n",
    "print(model.fit())\n",
    "#sns.regplot(x= 'response',y= 'residuals', data= model.data, fit_reg= False)\n",
    "plt.hist(model.residuals)\n",
    "stats.normaltest(model.residuals)"
   ],
   "outputs": [
    {
     "output_type": "stream",
     "name": "stdout",
     "text": [
      "Formula: logRT~response+(response|subj_idx)+(1|movie)\n",
      "\n",
      "Family: gaussian\t Inference: parametric\n",
      "\n",
      "Number of observations: 7756\t Groups: {'subj_idx': 826.0, 'movie': 10.0}\n",
      "\n",
      "Log-likelihood: -3080.848 \t AIC: 6161.695\n",
      "\n",
      "Random effects:\n",
      "\n",
      "                 Name    Var    Std\n",
      "subj_idx  (Intercept)  0.061  0.246\n",
      "subj_idx     response  0.023  0.152\n",
      "movie     (Intercept)  0.029  0.172\n",
      "Residual               0.104  0.323\n",
      "\n",
      "                  IV1       IV2   Corr\n",
      "subj_idx  (Intercept)  response -0.612\n",
      "\n",
      "Fixed effects:\n",
      "\n",
      "             Estimate  2.5_ci  97.5_ci     SE        DF  T-stat  P-val Sig\n",
      "(Intercept)    -0.064  -0.175    0.046  0.056    10.246  -1.146  0.278    \n",
      "response       -0.038  -0.083    0.007  0.023  3619.873  -1.654  0.098   .\n"
     ]
    },
    {
     "output_type": "execute_result",
     "data": {
      "text/plain": [
       "NormaltestResult(statistic=300.2040135250824, pvalue=6.479279883282508e-66)"
      ]
     },
     "metadata": {},
     "execution_count": 113
    },
    {
     "output_type": "display_data",
     "data": {
      "image/png": "[encoded data removed]",
      "text/plain": [
       "<Figure size 432x288 with 1 Axes>"
      ]
     },
     "metadata": {
      "needs_background": "light"
     }
    }
   ],
   "metadata": {}
  },
  {
   "cell_type": "markdown",
   "source": [
    "Model residuals are not normally distributed as shown above - so in the future, need to pick a better family of distribution for RT. Log RT reduces nonnormality a bit but not enough"
   ],
   "metadata": {}
  },
  {
   "cell_type": "markdown",
   "source": [
    "- model with movie and random effect is generally better - however, we are also treating movies as fixed effects in this paper - so eclude movie as RFX for now.."
   ],
   "metadata": {}
  },
  {
   "cell_type": "markdown",
   "source": [
    "## 3. Uncertainty analyses"
   ],
   "metadata": {}
  },
  {
   "cell_type": "code",
   "execution_count": 114,
   "source": [
    "'''thresh = 10\n",
    "trial_counts = dat.groupby(\"subj_idx\").count()[\"rt\"]\n",
    "bad_subs = trial_counts[(trial_counts < thresh)].index\n",
    "#print(bad_subs)\n",
    "dat  = dat.reset_index() # add index as an additional column \"index\"\n",
    "dat = dat.set_index('subj_idx') # make subj_idx the index\n",
    "dat.drop(bad_subs, inplace=True) # remove bad subjects\n",
    "dat = dat.reset_index() #bring back subj_idx as a column\n",
    "dat = dat.set_index('index') # make the column \"index\" as the index (as in the beginning)\n",
    "\n",
    "print(\"Nr. of subjects left\",len(dat.groupby(\"subj_idx\")))\n",
    "print(\"Nr. of rows:\",dat.shape)'''\n"
   ],
   "outputs": [
    {
     "output_type": "execute_result",
     "data": {
      "text/plain": [
       "'thresh = 10\\ntrial_counts = dat.groupby(\"subj_idx\").count()[\"rt\"]\\nbad_subs = trial_counts[(trial_counts < thresh)].index\\n#print(bad_subs)\\ndat  = dat.reset_index() # add index as an additional column \"index\"\\ndat = dat.set_index(\\'subj_idx\\') # make subj_idx the index\\ndat.drop(bad_subs, inplace=True) # remove bad subjects\\ndat = dat.reset_index() #bring back subj_idx as a column\\ndat = dat.set_index(\\'index\\') # make the column \"index\" as the index (as in the beginning)\\n\\nprint(\"Nr. of subjects left\",len(dat.groupby(\"subj_idx\")))\\nprint(\"Nr. of rows:\",dat.shape)'"
      ]
     },
     "metadata": {},
     "execution_count": 114
    }
   ],
   "metadata": {}
  },
  {
   "cell_type": "code",
   "execution_count": 115,
   "source": [
    "certainty = np.ones(len(dat['response']))\n",
    "certainty = [1 if i != 9 else 0 for i in dat['response'].values]\n",
    "dat['certainty'] = certainty\n",
    "uncertainty = [0 if i != 9 else 1 for i in dat['response'].values]\n",
    "dat['uncertainty'] = uncertainty\n",
    "\n",
    "#dat = dat.assign(certainty)\n",
    "dat.head(10)"
   ],
   "outputs": [
    {
     "output_type": "execute_result",
     "data": {
      "text/html": [
       "<div>\n",
       "<style scoped>\n",
       "    .dataframe tbody tr th:only-of-type {\n",
       "        vertical-align: middle;\n",
       "    }\n",
       "\n",
       "    .dataframe tbody tr th {\n",
       "        vertical-align: top;\n",
       "    }\n",
       "\n",
       "    .dataframe thead th {\n",
       "        text-align: right;\n",
       "    }\n",
       "</style>\n",
       "<table border=\"1\" class=\"dataframe\">\n",
       "  <thead>\n",
       "    <tr style=\"text-align: right;\">\n",
       "      <th></th>\n",
       "      <th>subj_idx</th>\n",
       "      <th>stim</th>\n",
       "      <th>movie</th>\n",
       "      <th>rt</th>\n",
       "      <th>response</th>\n",
       "      <th>run</th>\n",
       "      <th>accuracy</th>\n",
       "      <th>movies_ind</th>\n",
       "      <th>certainty</th>\n",
       "      <th>uncertainty</th>\n",
       "    </tr>\n",
       "    <tr>\n",
       "      <th>index</th>\n",
       "      <th></th>\n",
       "      <th></th>\n",
       "      <th></th>\n",
       "      <th></th>\n",
       "      <th></th>\n",
       "      <th></th>\n",
       "      <th></th>\n",
       "      <th></th>\n",
       "      <th></th>\n",
       "      <th></th>\n",
       "    </tr>\n",
       "  </thead>\n",
       "  <tbody>\n",
       "    <tr>\n",
       "      <th>0</th>\n",
       "      <td>168745</td>\n",
       "      <td>Mental</td>\n",
       "      <td>Scaring.AVI</td>\n",
       "      <td>1.252</td>\n",
       "      <td>1</td>\n",
       "      <td>1</td>\n",
       "      <td>1.0</td>\n",
       "      <td>5</td>\n",
       "      <td>1</td>\n",
       "      <td>0</td>\n",
       "    </tr>\n",
       "    <tr>\n",
       "      <th>1</th>\n",
       "      <td>168745</td>\n",
       "      <td>Mental</td>\n",
       "      <td>SEDUCING-B.AVI</td>\n",
       "      <td>0.578</td>\n",
       "      <td>1</td>\n",
       "      <td>1</td>\n",
       "      <td>1.0</td>\n",
       "      <td>6</td>\n",
       "      <td>1</td>\n",
       "      <td>0</td>\n",
       "    </tr>\n",
       "    <tr>\n",
       "      <th>2</th>\n",
       "      <td>168745</td>\n",
       "      <td>Random</td>\n",
       "      <td>STAR-A.AVI</td>\n",
       "      <td>1.643</td>\n",
       "      <td>0</td>\n",
       "      <td>1</td>\n",
       "      <td>1.0</td>\n",
       "      <td>7</td>\n",
       "      <td>1</td>\n",
       "      <td>0</td>\n",
       "    </tr>\n",
       "    <tr>\n",
       "      <th>3</th>\n",
       "      <td>168745</td>\n",
       "      <td>Mental</td>\n",
       "      <td>SURPRISING-B.AVI</td>\n",
       "      <td>1.082</td>\n",
       "      <td>1</td>\n",
       "      <td>1</td>\n",
       "      <td>1.0</td>\n",
       "      <td>8</td>\n",
       "      <td>1</td>\n",
       "      <td>0</td>\n",
       "    </tr>\n",
       "    <tr>\n",
       "      <th>4</th>\n",
       "      <td>168745</td>\n",
       "      <td>Random</td>\n",
       "      <td>TENNIS-A.AVI</td>\n",
       "      <td>1.232</td>\n",
       "      <td>0</td>\n",
       "      <td>1</td>\n",
       "      <td>1.0</td>\n",
       "      <td>9</td>\n",
       "      <td>1</td>\n",
       "      <td>0</td>\n",
       "    </tr>\n",
       "    <tr>\n",
       "      <th>5</th>\n",
       "      <td>668361</td>\n",
       "      <td>Mental</td>\n",
       "      <td>COAXING-B.AVI</td>\n",
       "      <td>1.796</td>\n",
       "      <td>9</td>\n",
       "      <td>0</td>\n",
       "      <td>9.0</td>\n",
       "      <td>0</td>\n",
       "      <td>0</td>\n",
       "      <td>1</td>\n",
       "    </tr>\n",
       "    <tr>\n",
       "      <th>6</th>\n",
       "      <td>668361</td>\n",
       "      <td>Random</td>\n",
       "      <td>BILLIARD-A.AVI</td>\n",
       "      <td>1.254</td>\n",
       "      <td>0</td>\n",
       "      <td>0</td>\n",
       "      <td>1.0</td>\n",
       "      <td>1</td>\n",
       "      <td>1</td>\n",
       "      <td>0</td>\n",
       "    </tr>\n",
       "    <tr>\n",
       "      <th>7</th>\n",
       "      <td>668361</td>\n",
       "      <td>Random</td>\n",
       "      <td>DRIFTING-A.AVI</td>\n",
       "      <td>0.590</td>\n",
       "      <td>0</td>\n",
       "      <td>0</td>\n",
       "      <td>1.0</td>\n",
       "      <td>2</td>\n",
       "      <td>1</td>\n",
       "      <td>0</td>\n",
       "    </tr>\n",
       "    <tr>\n",
       "      <th>8</th>\n",
       "      <td>668361</td>\n",
       "      <td>Mental</td>\n",
       "      <td>Fishing.AVI</td>\n",
       "      <td>0.993</td>\n",
       "      <td>0</td>\n",
       "      <td>0</td>\n",
       "      <td>0.0</td>\n",
       "      <td>3</td>\n",
       "      <td>1</td>\n",
       "      <td>0</td>\n",
       "    </tr>\n",
       "    <tr>\n",
       "      <th>9</th>\n",
       "      <td>668361</td>\n",
       "      <td>Random</td>\n",
       "      <td>Random mechanical.AVI</td>\n",
       "      <td>0.816</td>\n",
       "      <td>0</td>\n",
       "      <td>0</td>\n",
       "      <td>1.0</td>\n",
       "      <td>4</td>\n",
       "      <td>1</td>\n",
       "      <td>0</td>\n",
       "    </tr>\n",
       "  </tbody>\n",
       "</table>\n",
       "</div>"
      ],
      "text/plain": [
       "       subj_idx    stim                  movie     rt  response  run  \\\n",
       "index                                                                  \n",
       "0        168745  Mental            Scaring.AVI  1.252         1    1   \n",
       "1        168745  Mental         SEDUCING-B.AVI  0.578         1    1   \n",
       "2        168745  Random             STAR-A.AVI  1.643         0    1   \n",
       "3        168745  Mental       SURPRISING-B.AVI  1.082         1    1   \n",
       "4        168745  Random           TENNIS-A.AVI  1.232         0    1   \n",
       "5        668361  Mental          COAXING-B.AVI  1.796         9    0   \n",
       "6        668361  Random         BILLIARD-A.AVI  1.254         0    0   \n",
       "7        668361  Random         DRIFTING-A.AVI  0.590         0    0   \n",
       "8        668361  Mental            Fishing.AVI  0.993         0    0   \n",
       "9        668361  Random  Random mechanical.AVI  0.816         0    0   \n",
       "\n",
       "       accuracy  movies_ind  certainty  uncertainty  \n",
       "index                                                \n",
       "0           1.0           5          1            0  \n",
       "1           1.0           6          1            0  \n",
       "2           1.0           7          1            0  \n",
       "3           1.0           8          1            0  \n",
       "4           1.0           9          1            0  \n",
       "5           9.0           0          0            1  \n",
       "6           1.0           1          1            0  \n",
       "7           1.0           2          1            0  \n",
       "8           0.0           3          1            0  \n",
       "9           1.0           4          1            0  "
      ]
     },
     "metadata": {},
     "execution_count": 115
    }
   ],
   "metadata": {}
  },
  {
   "cell_type": "code",
   "execution_count": 140,
   "source": [
    "def plot_fig_1e(ax,summary):\n",
    "    cols = summary.columns.tolist()\n",
    "    cols = cols[-1:] + cols[:-1]\n",
    "    summary = summary[cols]\n",
    "    print('before:',summary.shape)\n",
    "    summary = summary.loc[(~np.isnan(summary['Random'])&(~np.isnan(summary['Mental']))),:]\n",
    "    print('after:',summary.shape)\n",
    "    mn = summary.mean()\n",
    "    sem = summary.sem()\n",
    "\n",
    "    bp1 = box_plot(summary['Random'], 'grey', 'grey',0,True)\n",
    "    bp2 = box_plot(summary['Mental'], 'black', 'black',1,True)\n",
    "    \n",
    "    #Figure 1c in the submitted OHBM abstract\n",
    "    #sns.barplot(data=summary,alpha=.5,edgecolor='k')\n",
    "    plt.xticks((0,1),('Random','Mental'))\n",
    "    plt.xlabel('')\n",
    "    plt.ylabel(\"Unsure responses\\n(in %)\")\n",
    "    plt.ylim(0,100)\n",
    "    #plt.title('Unsure responses',fontweight='bold')\n",
    "\n",
    "    print(f\"Mental: 25%:{np.quantile(summary['Mental'],.25):.2f}, 50%:{np.quantile(summary['Mental'],.5):.2f}, 75%:{np.quantile(summary['Mental'],.75):.2f}\")\n",
    "    print(f\"Random: 25%:{np.quantile(summary['Random'],.25):.2f}, 50%:{np.quantile(summary['Random'],.5):.2f}, 75%:{np.quantile(summary['Random'],.75):.2f}\")\n",
    "    return summary\n",
    "    \n",
    "summary = 100*dat.groupby(['subj_idx','stim']).mean().uncertainty.unstack(level=-1)\n",
    "summary.shape\n",
    "fig = plt.figure(1,figsize = (3,3))\n",
    "ax = fig.add_subplot(111)\n",
    "summary = plot_fig_1e(ax,summary)\n"
   ],
   "outputs": [
    {
     "output_type": "stream",
     "name": "stdout",
     "text": [
      "before: (826, 2)\n",
      "after: (826, 2)\n",
      "Mental: 25%:0.00, 50%:0.00, 75%:0.00\n",
      "Random: 25%:0.00, 50%:0.00, 75%:20.00\n"
     ]
    },
    {
     "output_type": "display_data",
     "data": {
      "image/png": "[encoded data removed]",
      "text/plain": [
       "<Figure size 216x216 with 1 Axes>"
      ]
     },
     "metadata": {
      "needs_background": "light"
     }
    }
   ],
   "metadata": {}
  },
  {
   "cell_type": "code",
   "execution_count": 138,
   "source": [
    "summary1 = summary.rename(columns={'Random': 'pc_unc_Rand', 'Mental': 'pc_unc_Mental'})\n",
    "summary1"
   ],
   "outputs": [
    {
     "output_type": "execute_result",
     "data": {
      "text/html": [
       "<div>\n",
       "<style scoped>\n",
       "    .dataframe tbody tr th:only-of-type {\n",
       "        vertical-align: middle;\n",
       "    }\n",
       "\n",
       "    .dataframe tbody tr th {\n",
       "        vertical-align: top;\n",
       "    }\n",
       "\n",
       "    .dataframe thead th {\n",
       "        text-align: right;\n",
       "    }\n",
       "</style>\n",
       "<table border=\"1\" class=\"dataframe\">\n",
       "  <thead>\n",
       "    <tr style=\"text-align: right;\">\n",
       "      <th>stim</th>\n",
       "      <th>pc_unc_Rand</th>\n",
       "      <th>pc_unc_Mental</th>\n",
       "    </tr>\n",
       "    <tr>\n",
       "      <th>subj_idx</th>\n",
       "      <th></th>\n",
       "      <th></th>\n",
       "    </tr>\n",
       "  </thead>\n",
       "  <tbody>\n",
       "    <tr>\n",
       "      <th>100206</th>\n",
       "      <td>0.0</td>\n",
       "      <td>0.0</td>\n",
       "    </tr>\n",
       "    <tr>\n",
       "      <th>100307</th>\n",
       "      <td>0.0</td>\n",
       "      <td>20.0</td>\n",
       "    </tr>\n",
       "    <tr>\n",
       "      <th>100408</th>\n",
       "      <td>20.0</td>\n",
       "      <td>0.0</td>\n",
       "    </tr>\n",
       "    <tr>\n",
       "      <th>100610</th>\n",
       "      <td>0.0</td>\n",
       "      <td>0.0</td>\n",
       "    </tr>\n",
       "    <tr>\n",
       "      <th>101309</th>\n",
       "      <td>60.0</td>\n",
       "      <td>0.0</td>\n",
       "    </tr>\n",
       "    <tr>\n",
       "      <th>...</th>\n",
       "      <td>...</td>\n",
       "      <td>...</td>\n",
       "    </tr>\n",
       "    <tr>\n",
       "      <th>991267</th>\n",
       "      <td>20.0</td>\n",
       "      <td>0.0</td>\n",
       "    </tr>\n",
       "    <tr>\n",
       "      <th>992673</th>\n",
       "      <td>0.0</td>\n",
       "      <td>0.0</td>\n",
       "    </tr>\n",
       "    <tr>\n",
       "      <th>992774</th>\n",
       "      <td>20.0</td>\n",
       "      <td>0.0</td>\n",
       "    </tr>\n",
       "    <tr>\n",
       "      <th>993675</th>\n",
       "      <td>0.0</td>\n",
       "      <td>0.0</td>\n",
       "    </tr>\n",
       "    <tr>\n",
       "      <th>996782</th>\n",
       "      <td>0.0</td>\n",
       "      <td>0.0</td>\n",
       "    </tr>\n",
       "  </tbody>\n",
       "</table>\n",
       "<p>826 rows × 2 columns</p>\n",
       "</div>"
      ],
      "text/plain": [
       "stim      pc_unc_Rand  pc_unc_Mental\n",
       "subj_idx                            \n",
       "100206            0.0            0.0\n",
       "100307            0.0           20.0\n",
       "100408           20.0            0.0\n",
       "100610            0.0            0.0\n",
       "101309           60.0            0.0\n",
       "...               ...            ...\n",
       "991267           20.0            0.0\n",
       "992673            0.0            0.0\n",
       "992774           20.0            0.0\n",
       "993675            0.0            0.0\n",
       "996782            0.0            0.0\n",
       "\n",
       "[826 rows x 2 columns]"
      ]
     },
     "metadata": {},
     "execution_count": 138
    }
   ],
   "metadata": {}
  },
  {
   "cell_type": "code",
   "execution_count": 139,
   "source": [
    "# save data for trait analysis etc.\n",
    "summary1.to_csv(os.path.join(file_loc,'data_for_paper','1e_S_NS_pc_uncertainResp_per_subj.csv'))"
   ],
   "outputs": [],
   "metadata": {}
  },
  {
   "cell_type": "markdown",
   "source": [
    "## Plot all subplots together"
   ],
   "metadata": {}
  },
  {
   "cell_type": "code",
   "execution_count": 161,
   "source": [
    "font = {'family' : 'normal',\n",
    "        'weight' : 'normal',\n",
    "        'size'   : 24}\n",
    "\n",
    "matplotlib.rc('font', **font)"
   ],
   "outputs": [],
   "metadata": {}
  },
  {
   "cell_type": "code",
   "execution_count": 169,
   "source": [
    "import matplotlib.pyplot as plt\n",
    "\n",
    "SMALL_SIZE = 20\n",
    "MEDIUM_SIZE = 20\n",
    "BIGGER_SIZE = 24\n",
    "\n",
    "plt.rc('font', size=SMALL_SIZE)          # controls default text sizes\n",
    "plt.rc('axes', titlesize=SMALL_SIZE)     # fontsize of the axes title\n",
    "plt.rc('axes', labelsize=MEDIUM_SIZE)    # fontsize of the x and y labels\n",
    "plt.rc('xtick', labelsize=SMALL_SIZE)    # fontsize of the tick labels\n",
    "plt.rc('ytick', labelsize=SMALL_SIZE)    # fontsize of the tick labels\n",
    "plt.rc('legend', fontsize=SMALL_SIZE)    # legend fontsize\n",
    "plt.rc('figure', titlesize=BIGGER_SIZE)  # fontsize of the figure title"
   ],
   "outputs": [],
   "metadata": {}
  },
  {
   "cell_type": "code",
   "execution_count": 176,
   "source": [
    "fig_save_loc = '/Users/f0053cz/Dropbox (Dartmouth College)/postdoc_Dartmouth/HCP/paper_prep/figures/fig1_hcpbeh'"
   ],
   "outputs": [],
   "metadata": {}
  },
  {
   "cell_type": "code",
   "execution_count": 195,
   "source": [
    "fig = plt.figure(1,figsize = (15,15))\n",
    "ax = fig.add_subplot(311)\n",
    "plot_fig_1a(ax)\n",
    "\n",
    "ax = fig.add_subplot(323)\n",
    "plot_fig_1b(ax)\n",
    "#ax.set_ylabel(fontsize = 20)\n",
    "\n",
    "ax = fig.add_subplot(324)\n",
    "plot_fig_1c(ax)\n",
    "\n",
    "ax = fig.add_subplot(325)\n",
    "plot_fig_1d(ax)\n",
    "\n",
    "ax = fig.add_subplot(326)\n",
    "summary = plot_fig_1e(ax,summary)\n",
    "\n",
    "fig.text(0.02,.96,'(a)',fontsize=20)\n",
    "fig.text(0.02,.64,'(b)',fontsize=20)\n",
    "fig.text(0.02,.31,'(d)',fontsize=20)\n",
    "fig.text(0.4,.64,'(c)',fontsize=20)\n",
    "fig.text(0.4,.31,'(e)',fontsize=20)\n",
    "plt.tight_layout()\n",
    "\n",
    "plt.savefig(os.path.join(fig_save_loc,'Figure1.png'),dpi=300,bbox_inches='tight',facecolor='w')"
   ],
   "outputs": [
    {
     "output_type": "stream",
     "name": "stdout",
     "text": [
      "mean diff: 5.602076591154261\n",
      "27043.0 , 5.418474953624208e-19\n",
      "before: (826, 2)\n",
      "after: (826, 2)\n",
      "Mental: 25%:0.00, 50%:0.00, 75%:0.00\n",
      "Random: 25%:0.00, 50%:0.00, 75%:20.00\n"
     ]
    },
    {
     "output_type": "display_data",
     "data": {
      "image/png": "[encoded data removed]",
      "text/plain": [
       "<Figure size 1080x1080 with 5 Axes>"
      ]
     },
     "metadata": {
      "needs_background": "light"
     }
    }
   ],
   "metadata": {}
  },
  {
   "cell_type": "code",
   "execution_count": null,
   "source": [],
   "outputs": [],
   "metadata": {}
  },
  {
   "cell_type": "code",
   "execution_count": null,
   "source": [],
   "outputs": [],
   "metadata": {}
  },
  {
   "cell_type": "code",
   "execution_count": 129,
   "source": [
    "sns.barplot(data=summary.loc[:,['pc_unc_Rand','pc_unc_Mental']].melt(),x='stim',y='value')\n",
    "     \n",
    "#Figure 1c in the submitted OHBM abstract\n",
    "#sns.barplot(data=summary,alpha=.5,edgecolor='k')\n",
    "plt.xticks((0,1),('Random','Mental'))\n",
    "plt.xlabel('')\n",
    "plt.ylabel(\"Unsure responses\\n(in percent)\")\n",
    "#plt.title('Unsure responses',fontweight='bold')\n"
   ],
   "outputs": [
    {
     "output_type": "execute_result",
     "data": {
      "text/plain": [
       "Text(0, 0.5, 'Unsure responses\\n(in percent)')"
      ]
     },
     "metadata": {},
     "execution_count": 129
    },
    {
     "output_type": "display_data",
     "data": {
      "image/png": "[encoded data removed]",
      "text/plain": [
       "<Figure size 432x288 with 1 Axes>"
      ]
     },
     "metadata": {
      "needs_background": "light"
     }
    }
   ],
   "metadata": {}
  },
  {
   "cell_type": "code",
   "execution_count": 130,
   "source": [
    "# certainty as a function of stimtype\n",
    "model = Lmer('uncertainty ~  stim +(stim|subj_idx)', data=dat,family = \"binomial\") # ff: mean response, rf:subjID\n",
    "print(model.fit(factors={\"stim\":[\"Random\",\"Mental\"]}))\n",
    "#sns.regplot(x= 'response',y= 'residuals', data= model.data, fit_reg= False)\n",
    "plt.hist(model.residuals)"
   ],
   "outputs": [
    {
     "output_type": "stream",
     "name": "stdout",
     "text": [
      "Formula: uncertainty~stim+(stim|subj_idx)\n",
      "\n",
      "Family: binomial\t Inference: parametric\n",
      "\n",
      "Number of observations: 8257\t Groups: {'subj_idx': 826.0}\n",
      "\n",
      "Log-likelihood: -1778.546 \t AIC: 3567.093\n",
      "\n",
      "Random effects:\n",
      "\n",
      "                 Name    Var    Std\n",
      "subj_idx  (Intercept)  0.788  0.888\n",
      "subj_idx   stimMental  4.339  2.083\n",
      "\n",
      "                  IV1         IV2   Corr\n",
      "subj_idx  (Intercept)  stimMental -0.566\n",
      "\n",
      "Fixed effects:\n",
      "\n",
      "             Estimate  2.5_ci  97.5_ci     SE     OR  OR_2.5_ci  OR_97.5_ci  \\\n",
      "(Intercept)    -2.567  -2.747   -2.387  0.092  0.077      0.064       0.092   \n",
      "stim1          -2.151  -2.803   -1.500  0.332  0.116      0.061       0.223   \n",
      "\n",
      "              Prob  Prob_2.5_ci  Prob_97.5_ci  Z-stat  P-val  Sig  \n",
      "(Intercept)  0.071        0.060         0.084 -27.959    0.0  ***  \n",
      "stim1        0.104        0.057         0.182  -6.471    0.0  ***  \n"
     ]
    },
    {
     "output_type": "execute_result",
     "data": {
      "text/plain": [
       "(array([ 220., 3918., 3618.,    0.,    0.,    0.,    0.,   47.,  144.,\n",
       "         310.]),\n",
       " array([-0.89468299, -0.56430038, -0.23391777,  0.09646483,  0.42684744,\n",
       "         0.75723005,  1.08761266,  1.41799527,  1.74837788,  2.07876049,\n",
       "         2.4091431 ]),\n",
       " <BarContainer object of 10 artists>)"
      ]
     },
     "metadata": {},
     "execution_count": 130
    },
    {
     "output_type": "display_data",
     "data": {
      "image/png": "[encoded data removed]",
      "text/plain": [
       "<Figure size 432x288 with 1 Axes>"
      ]
     },
     "metadata": {
      "needs_background": "light"
     }
    }
   ],
   "metadata": {}
  },
  {
   "cell_type": "code",
   "execution_count": 555,
   "source": [
    "# certainty as a function of stimtype\n",
    "model = Lmer('uncertainty ~  stim +(stim|subj_idx) + (1|movie)', data=dat,family = \"binomial\") # ff: mean response, rf:subjID\n",
    "print(model.fit(factors={\"stim\":[\"Random\",\"Mental\"]}))\n",
    "#print(model.fit())\n",
    "#sns.regplot(x= 'response',y= 'residuals', data= model.data, fit_reg= False)\n",
    "plt.hist(model.residuals)"
   ],
   "outputs": [
    {
     "output_type": "stream",
     "name": "stdout",
     "text": [
      "Formula: uncertainty~stim+(stim|subj_idx)+(1|movie)\n",
      "\n",
      "Family: binomial\t Inference: parametric\n",
      "\n",
      "Number of observations: 8257\t Groups: {'subj_idx': 826.0, 'movie': 10.0}\n",
      "\n",
      "Log-likelihood: -1659.154 \t AIC: 3330.307\n",
      "\n",
      "Random effects:\n",
      "\n",
      "                 Name    Var    Std\n",
      "subj_idx  (Intercept)  0.735  0.857\n",
      "subj_idx   stimMental  1.495  1.223\n",
      "movie     (Intercept)  0.747  0.864\n",
      "\n",
      "                  IV1         IV2   Corr\n",
      "subj_idx  (Intercept)  stimMental -0.781\n",
      "\n",
      "Fixed effects:\n",
      "\n",
      "             Estimate  2.5_ci  97.5_ci     SE     OR  OR_2.5_ci  OR_97.5_ci  \\\n",
      "(Intercept)    -2.764  -3.541   -1.987  0.397  0.063      0.029       0.137   \n",
      "stim1          -1.572  -2.721   -0.424  0.586  0.208      0.066       0.654   \n",
      "\n",
      "              Prob  Prob_2.5_ci  Prob_97.5_ci  Z-stat  P-val  Sig  \n",
      "(Intercept)  0.059        0.028         0.121  -6.968  0.000  ***  \n",
      "stim1        0.172        0.062         0.396  -2.684  0.007   **  \n"
     ]
    },
    {
     "output_type": "execute_result",
     "data": {
      "text/plain": [
       "(array([ 122., 2793., 4841.,    0.,    0.,   47.,  187.,  177.,   81.,\n",
       "           9.]),\n",
       " array([-1.15276953, -0.72419787, -0.29562622,  0.13294544,  0.56151709,\n",
       "         0.99008875,  1.4186604 ,  1.84723206,  2.27580371,  2.70437537,\n",
       "         3.13294702]),\n",
       " <BarContainer object of 10 artists>)"
      ]
     },
     "metadata": {},
     "execution_count": 555
    },
    {
     "output_type": "display_data",
     "data": {
      "image/png": "[encoded data removed]",
      "text/plain": [
       "<Figure size 432x288 with 1 Axes>"
      ]
     },
     "metadata": {
      "needs_background": "light"
     }
    }
   ],
   "metadata": {}
  },
  {
   "cell_type": "markdown",
   "source": [
    "# extra analyses"
   ],
   "metadata": {}
  },
  {
   "cell_type": "markdown",
   "source": [
    "## response counts"
   ],
   "metadata": {}
  },
  {
   "cell_type": "code",
   "execution_count": null,
   "source": [
    "# - So looks like there are movie-specific differences in uncertainty and accuracy - are these correlated?\n",
    "stats.pearsonr(count_unsure_per_movie.values,acc_per_movie.values)\n",
    "\n",
    "#- Indeed, looks like there's a negative correlation - i.e., movies with higher uncertainty have lower accuracies - which makes sense\n",
    " \n",
    "#mean responses per subject - if this is above 0.5, it shows a bias for '1' or 'yes' responses\n",
    "\n",
    "plt.figure(1,figsize =(6,3))\n",
    "plt.subplot(121)\n",
    "mean_r = data_sure.groupby([\"subj_idx\"]).mean().response # pandas series of mean responses per subj\n",
    "plt.hist(mean_r, bins = 10, alpha = 0.5)\n",
    "plt.xlabel(\"Fraction of 'yes' responses\")\n",
    "plt.ylabel(\"Number of subjects\")\n",
    "ymin,ymax = plt.ylim()\n",
    "plt.vlines(.5,ymin,ymax, 'k', linestyle = 'dashed', label = '0.5')\n",
    "plt.vlines(np.mean(mean_r),ymin,ymax, 'r', linestyle = 'dashed', label = 'mean')\n",
    "plt.ylim(0,450)\n",
    "plt.tight_layout()\n",
    "plt.legend()\n",
    "\n",
    "# another way to test for a social bias: look at the #yes/#no ratio --> if >1 this suggests \n",
    "# a yes bias\n",
    "\n",
    "yes_to_no = counts_per_subj[1]/counts_per_subj[0]\n",
    "\n",
    "plt.subplot(122)\n",
    "yes_to_no.hist(bins = 30,alpha = 0.4)\n",
    "plt.grid(None)\n",
    "#print(np.unique(yes_to_no))\n",
    "plt.xlabel(\"YES/NO ratio\")\n",
    "plt.xticks(range(10))\n",
    "plt.ylabel(\"# subs\")\n",
    "plt.plot(np.ones((11,1))*np.mean(yes_to_no), np.arange(0,550,50), 'r', ls = 'dashed',label = 'mean')\n",
    "#plt.ylim(0,450)\n",
    "plt.tight_layout()\n",
    "plt.legend(bbox_to_anchor =[1.01,1])\n",
    "#print(np.mean(yes_to_no))\n",
    "stats.wilcoxon(yes_to_no-1)"
   ],
   "outputs": [],
   "metadata": {}
  },
  {
   "cell_type": "markdown",
   "source": [
    "## accuracy"
   ],
   "metadata": {}
  },
  {
   "cell_type": "code",
   "execution_count": null,
   "source": [
    "### (b) Accuracies social v. nonsocial (OHBM 2021 ABSTRACT FIG 1A)\n",
    "# compare social and random trial accuracies, exploring df \n",
    "\n",
    "accuracy_per_subj = data_sure.groupby(['subj_idx', 'stim']).mean().accuracy # Mean acc. per subject for Mental and Random\n",
    "cols = accuracy_per_subj.unstack(level = -1)\n",
    "print(cols,'\\n') # subj_idx and stim are indices, so unstack makes stim columns (with the default level value)\n",
    "print('MEAN ',cols.mean(),'\\n') # mean acc across subjects\n",
    "print('SEM ',cols.sem(),'\\n') # sem acc across subjects\n",
    "#print('COLUMNS', cols.columns) # Mental and random become columns with unstack\n",
    "\n",
    "plt.figure(1, figsize=(8,3))\n",
    "plt.subplot(121)\n",
    "plt.bar(range(2),cols.mean(),color = 'grey')\n",
    "#plt.plot(0,cols.mean(),cols.sem(), color = 'black', ls = 'none', marker = 'o', markersize = 8)\n",
    "plt.errorbar(range(2),cols.mean(),cols.sem(), color = 'black', ls = 'none', marker = 'o', markersize = 8)\n",
    "plt.tight_layout()\n",
    "plt.xticks((range(2)),('Social','Non-social'), fontsize = 14)\n",
    "plt.title('Accuracy', fontsize =14, fontweight = 'bold')\n",
    "plt.ylim(0.9,0.97)\n",
    "\n",
    "stats.ttest_rel(cols['Mental'],cols['Random'],nan_policy='omit')\n",
    "\n",
    "\n",
    "responses_per_subj = data_sure.groupby(['subj_idx']).mean().response # Mean acc. per subject for Mental and Random\n",
    "\n",
    "plt.subplot(122)\n",
    "plt.bar(1,np.nanmean(responses_per_subj.values),color = 'grey')\n",
    "#plt.plot(0,cols.mean(),cols.sem(), color = 'black', ls = 'none', marker = 'o', markersize = 8)\n",
    "plt.errorbar(1,np.nanmean(responses_per_subj.values),stats.sem(responses_per_subj,nan_policy='omit'), color = 'black', ls = 'none', marker = 'o', markersize = 8)\n",
    "plt.tight_layout()\n",
    "plt.yticks([0.4,0.5,0.6],['0.4','fr.Yes=\\nfr.No','0.6'], fontsize = 14)\n",
    "plt.title('Responses', fontsize =14, fontweight = 'bold')\n",
    "plt.ylim(0.4,0.6)\n",
    "plt.xlim(0,2)\n",
    "plt.xticks([])\n",
    "\n",
    "plt.tight_layout()\n",
    "stats.ttest_1samp(responses_per_subj.values,.5,nan_policy='omit')"
   ],
   "outputs": [],
   "metadata": {}
  },
  {
   "cell_type": "markdown",
   "source": [
    "- Hence, the yes to no ratio is greater than 1 and significant --> i.e., more yes's than no's overall"
   ],
   "metadata": {}
  },
  {
   "cell_type": "markdown",
   "source": [
    "## Supplementary analyses: Movie-wise trends - Accuracy per movie  and #unsure responses/movie\n"
   ],
   "metadata": {}
  },
  {
   "cell_type": "code",
   "execution_count": 62,
   "source": [
    "#Accuracy per movie (OHBM ABSTRACT FIG 2A)\n",
    "acc_per_movie = data_sure.groupby(['stim','movie']).mean().accuracy\n",
    "#print('acc_per_movie')\n",
    "#print(acc_per_movie)\n",
    "\n",
    "# (for the figure axlabels) creating groupwise movie name labels from the variable acc_per_movie\n",
    "movieNames_grouped = []\n",
    "for i in range(len(acc_per_movie.index)):\n",
    "    movieNames_grouped.append(acc_per_movie.index[i][1])\n",
    "#print('movieNames_grouped:',movieNames_grouped)\n",
    "lbl = [str.upper(i[0:5]) for i in movieNames_grouped] # first four letters of each movie name\n",
    "\n",
    "acc_per_movie.plot.bar(color = [0,0.3,0.5], alpha = 0.5)\n",
    "plt.xlabel(\"Movie name\")\n",
    "plt.ylabel('Accuracy per movie', fontsize = 20)\n",
    "lbl = [str.upper(i[0:4]) for i in movieNames_grouped] # first four letters of each movie name\n",
    "plt.xticks(range(10),lbl, rotation = 40)\n",
    "plt.axvspan(-0.5,4.5, facecolor='0.2', alpha=0.2) # background color for the first 5 bars(mental?)\n",
    "plt.axvspan(4.5,10, facecolor='0.3', alpha=0.1) # bgcolor for the next 5 bars (random?)\n",
    "plt.xlim(-0.5,9.5)\n",
    "plt.ylim(0.8,1)\n",
    "\n",
    "plt.figure(2)\n",
    "#Unsure trials per movie\n",
    "count_unsure_per_movie = data_unsure.groupby(['stim','movie']).size()\n",
    "#print('count_unsure_per_movie')\n",
    "#print(count_unsure_per_movie)\n",
    "\n",
    "# Plot no. of uncertain responses per movie\n",
    "count_unsure_per_movie.plot.bar(figsize = (4,4), x ='', y ='', linestyle = 'None', alpha = 0.3)\n",
    "plt.ylabel('Unsure responses per movie', fontsize = 12)\n",
    "plt.xticks(range(10),lbl, rotation = 30)\n",
    "\n"
   ],
   "outputs": [
    {
     "output_type": "execute_result",
     "data": {
      "text/plain": [
       "([<matplotlib.axis.XTick at 0x7ff60187e390>,\n",
       "  <matplotlib.axis.XTick at 0x7ff601881250>,\n",
       "  <matplotlib.axis.XTick at 0x7ff601881d10>,\n",
       "  <matplotlib.axis.XTick at 0x7ff5d18128d0>,\n",
       "  <matplotlib.axis.XTick at 0x7ff60187edd0>,\n",
       "  <matplotlib.axis.XTick at 0x7ff5d181c590>,\n",
       "  <matplotlib.axis.XTick at 0x7ff5d181c9d0>,\n",
       "  <matplotlib.axis.XTick at 0x7ff5d181cad0>,\n",
       "  <matplotlib.axis.XTick at 0x7ff5d1824490>,\n",
       "  <matplotlib.axis.XTick at 0x7ff5d18242d0>],\n",
       " [Text(0, 0, 'COAX'),\n",
       "  Text(1, 0, 'FISH'),\n",
       "  Text(2, 0, 'SEDU'),\n",
       "  Text(3, 0, 'SURP'),\n",
       "  Text(4, 0, 'SCAR'),\n",
       "  Text(5, 0, 'BILL'),\n",
       "  Text(6, 0, 'DRIF'),\n",
       "  Text(7, 0, 'RAND'),\n",
       "  Text(8, 0, 'STAR'),\n",
       "  Text(9, 0, 'TENN')])"
      ]
     },
     "metadata": {},
     "execution_count": 62
    },
    {
     "output_type": "display_data",
     "data": {
      "image/png": "[encoded data removed]",
      "text/plain": [
       "<Figure size 432x288 with 1 Axes>"
      ]
     },
     "metadata": {
      "needs_background": "light"
     }
    },
    {
     "output_type": "display_data",
     "data": {
      "image/png": "[encoded data removed]",
      "text/plain": [
       "<Figure size 288x288 with 1 Axes>"
      ]
     },
     "metadata": {
      "needs_background": "light"
     }
    }
   ],
   "metadata": {}
  },
  {
   "cell_type": "markdown",
   "source": [
    "## SDT - extra analyses"
   ],
   "metadata": {}
  },
  {
   "cell_type": "code",
   "execution_count": null,
   "source": [
    "# Distribution of #responses all 4 response types, esp. errors\n",
    "print(data_sure.groupby(['stim','response']).count())\n",
    "data_sure.groupby(['stim','response']).count().transpose().loc['accuracy',:].plot.bar()\n",
    "plt.xticks(range(4),('Miss','Hit','CR','FA'), rotation = 0)\n",
    "plt.ylabel('Number of responses')\n",
    "plt.xlabel(\"\")\n",
    "\n",
    "fig,ax = plt.subplots(figsize = (5,4))\n",
    "data_sure.groupby(['stim','response']).count().transpose().iloc[1,[0,3]].plot.bar()\n",
    "plt.xticks(range(2),('Miss','FA'), rotation = 0)\n",
    "plt.ylabel('Number of responses')\n",
    "plt.xlabel(\"\")\n",
    "\n"
   ],
   "outputs": [],
   "metadata": {}
  },
  {
   "cell_type": "markdown",
   "source": [
    "## LME - extra analysis"
   ],
   "metadata": {}
  },
  {
   "cell_type": "code",
   "execution_count": null,
   "source": [
    "## Response modelling\n",
    "# model to look for a general bias in responses. The analysis below is a logistic regression,\n",
    "# so our hypothesis is  if logOR of intercept > 0?\n",
    "model = Lmer('response ~ (1|subj_idx) + (1|movie)', data=data_sure, family = \"binomial\") # ff: M/R, prev. trial response, rf:subjID, movie\n",
    "print(model.fit()) "
   ],
   "outputs": [],
   "metadata": {}
  },
  {
   "cell_type": "markdown",
   "source": [
    "### response"
   ],
   "metadata": {}
  },
  {
   "cell_type": "code",
   "execution_count": null,
   "source": [
    "# Next model: response = f(stimulus Type)\n",
    "model = Lmer('response ~ stim + (1|subj_idx)', data=data_sure, family = \"binomial\") # ff: M/R, prev. trial response, rf:subjID, movie\n",
    "print(model.fit(factors={\"stim\":[\"Random\",\"Mental\"]})) # to make \"Random\" as the reference intercept term\n",
    "#print(model.fit())\n",
    "\n",
    "\n",
    "#Does adding movie improve the model?\n",
    "model = Lmer('response ~ stim + (1|subj_idx) + (1|movie)', data=data_sure, family = \"binomial\") # ff: M/R, prev. trial response, rf:subjID, movie\n",
    "print(model.fit(factors={\"stim\":[\"Random\",\"Mental\"]})) # to make \"Random\" as the reference intercept term\n",
    "#print(model.fit())\n",
    " \n",
    "# adding random slopes for subject\n",
    "model = Lmer('response ~ stim + (stim|subj_idx) + (1|movie)', data=data_sure, family = \"binomial\") # ff: M/R, prev. trial response, rf:subjID, movie\n",
    "print(model.fit(factors={\"stim\":[\"Random\",\"Mental\"]})) # to make \"Random\" as the reference intercept term\n",
    "#print(model.fit())"
   ],
   "outputs": [],
   "metadata": {}
  },
  {
   "cell_type": "markdown",
   "source": [
    "### RT"
   ],
   "metadata": {}
  },
  {
   "cell_type": "code",
   "execution_count": null,
   "source": [
    "# since RT is quantitative, these analyses are linear regressions\n",
    "model = Lmer('logRT ~  stim +(stim|subj_idx) + (1|movie)', data=data_sure) # ff: M/R, prev. trial response, rf:subjID, movie\n",
    "print(model.fit(factors={\"stim\":[\"Random\",\"Mental\"]})) # to make \"Random\" as the reference intercept term\n",
    "\n",
    "# plotting the results\n",
    "fig,ax = plt.subplots(figsize = (5,5))\n",
    "sns.violinplot(data=data_sure, x=\"stim\",y=\"logRT\", ax=ax)\n",
    "ax.axhline(0, linestyle='--')\n",
    "print(data_sure.groupby(\"stim\").mean().rt)"
   ],
   "outputs": [],
   "metadata": {}
  },
  {
   "cell_type": "code",
   "execution_count": null,
   "source": [
    "# Distribution of all 4 response types, esp. errors\n",
    "\n",
    "rt_per_respType = data_sure.groupby(['stim','accuracy']).mean().rt\n",
    "print(rt_per_respType.index)\n",
    "print(rt_per_respType)\n",
    "fig,ax = plt.subplots(figsize = (10,4))\n",
    "#acc_per_movie.plot.bar()\n",
    "rt_per_respType.plot.bar(figsize = (4,4), alpha = 0.3)\n",
    "ax.set_ylabel('Mean RT', fontsize = 12)\n",
    "ax.set_xticks(range(4))\n",
    "lbl = ['FN','Hit','FP','CR'] # first four letters of each movie name\n",
    "ax.set_xticklabels(lbl, rotation = 30)\n",
    "\n",
    "ax.set_xlabel('')\n",
    "\n",
    "## looks like there's a strong interaction between stim and resp\n",
    " \n",
    "# does the influence of stim and response depend on each other?\n",
    "model = Lmer('logRT ~  stim*response + (1|subj_idx) + (1|movie)', data=data_sure) # ff: M/R, prev. trial response, rf:subjID, movie\n",
    "print(model.fit(factors={\"stim\":[\"Random\",\"Mental\"]}))\n",
    "\n",
    "# logRT =f(accuracy)\n",
    "model = Lmer('logRT ~  accuracy +(accuracy|subj_idx) + (1|movie)', data=data_sure) # ff: mean response, rf:subjID\n",
    "#print(model.fit(factors={\"stim\":[\"Random\",\"Mental\"]}))\n",
    "print(model.fit())\n",
    "#sns.regplot(x= 'response',y= 'residuals', data= model.data, fit_reg= False)\n",
    "plt.hist(model.residuals)"
   ],
   "outputs": [],
   "metadata": {}
  },
  {
   "cell_type": "markdown",
   "source": [
    "## uncertainty - extra analyses"
   ],
   "metadata": {}
  },
  {
   "cell_type": "code",
   "execution_count": 68,
   "source": [
    "n = len(vid_names[\"run1\"])+len(vid_names[\"run2\"])\n",
    "socialness = np.zeros(len(dat['response']))\n",
    "for m in range(n):\n",
    "    rows = np.where(dat[\"movie\"] == stim_mean.index[m])[0]\n",
    "    socialness[rows] = stim_mean[m]\n",
    "dat['socialness'] = socialness # add new column\n",
    "dat.head()"
   ],
   "outputs": [
    {
     "output_type": "execute_result",
     "data": {
      "text/html": [
       "<div>\n",
       "<style scoped>\n",
       "    .dataframe tbody tr th:only-of-type {\n",
       "        vertical-align: middle;\n",
       "    }\n",
       "\n",
       "    .dataframe tbody tr th {\n",
       "        vertical-align: top;\n",
       "    }\n",
       "\n",
       "    .dataframe thead th {\n",
       "        text-align: right;\n",
       "    }\n",
       "</style>\n",
       "<table border=\"1\" class=\"dataframe\">\n",
       "  <thead>\n",
       "    <tr style=\"text-align: right;\">\n",
       "      <th></th>\n",
       "      <th>subj_idx</th>\n",
       "      <th>stim</th>\n",
       "      <th>movie</th>\n",
       "      <th>rt</th>\n",
       "      <th>response</th>\n",
       "      <th>run</th>\n",
       "      <th>accuracy</th>\n",
       "      <th>certainty</th>\n",
       "      <th>uncertainty</th>\n",
       "      <th>socialness</th>\n",
       "    </tr>\n",
       "  </thead>\n",
       "  <tbody>\n",
       "    <tr>\n",
       "      <th>0</th>\n",
       "      <td>168745</td>\n",
       "      <td>Mental</td>\n",
       "      <td>Scaring.AVI</td>\n",
       "      <td>1.252</td>\n",
       "      <td>1</td>\n",
       "      <td>1</td>\n",
       "      <td>1.0</td>\n",
       "      <td>1</td>\n",
       "      <td>0</td>\n",
       "      <td>0.964824</td>\n",
       "    </tr>\n",
       "    <tr>\n",
       "      <th>1</th>\n",
       "      <td>168745</td>\n",
       "      <td>Mental</td>\n",
       "      <td>SEDUCING-B.AVI</td>\n",
       "      <td>0.578</td>\n",
       "      <td>1</td>\n",
       "      <td>1</td>\n",
       "      <td>1.0</td>\n",
       "      <td>1</td>\n",
       "      <td>0</td>\n",
       "      <td>0.981057</td>\n",
       "    </tr>\n",
       "    <tr>\n",
       "      <th>2</th>\n",
       "      <td>168745</td>\n",
       "      <td>Random</td>\n",
       "      <td>STAR-A.AVI</td>\n",
       "      <td>1.643</td>\n",
       "      <td>0</td>\n",
       "      <td>1</td>\n",
       "      <td>1.0</td>\n",
       "      <td>1</td>\n",
       "      <td>0</td>\n",
       "      <td>0.043433</td>\n",
       "    </tr>\n",
       "    <tr>\n",
       "      <th>3</th>\n",
       "      <td>168745</td>\n",
       "      <td>Mental</td>\n",
       "      <td>SURPRISING-B.AVI</td>\n",
       "      <td>1.082</td>\n",
       "      <td>1</td>\n",
       "      <td>1</td>\n",
       "      <td>1.0</td>\n",
       "      <td>1</td>\n",
       "      <td>0</td>\n",
       "      <td>0.983317</td>\n",
       "    </tr>\n",
       "    <tr>\n",
       "      <th>4</th>\n",
       "      <td>168745</td>\n",
       "      <td>Random</td>\n",
       "      <td>TENNIS-A.AVI</td>\n",
       "      <td>1.232</td>\n",
       "      <td>0</td>\n",
       "      <td>1</td>\n",
       "      <td>1.0</td>\n",
       "      <td>1</td>\n",
       "      <td>0</td>\n",
       "      <td>0.055879</td>\n",
       "    </tr>\n",
       "  </tbody>\n",
       "</table>\n",
       "</div>"
      ],
      "text/plain": [
       "   subj_idx    stim             movie     rt  response  run  accuracy  \\\n",
       "0    168745  Mental       Scaring.AVI  1.252         1    1       1.0   \n",
       "1    168745  Mental    SEDUCING-B.AVI  0.578         1    1       1.0   \n",
       "2    168745  Random        STAR-A.AVI  1.643         0    1       1.0   \n",
       "3    168745  Mental  SURPRISING-B.AVI  1.082         1    1       1.0   \n",
       "4    168745  Random      TENNIS-A.AVI  1.232         0    1       1.0   \n",
       "\n",
       "   certainty  uncertainty  socialness  \n",
       "0          1            0    0.964824  \n",
       "1          1            0    0.981057  \n",
       "2          1            0    0.043433  \n",
       "3          1            0    0.983317  \n",
       "4          1            0    0.055879  "
      ]
     },
     "metadata": {},
     "execution_count": 68
    }
   ],
   "metadata": {}
  },
  {
   "cell_type": "code",
   "execution_count": 141,
   "source": [
    "# certainty of responses as a function of perceived socialness\n",
    "model = Lmer('certainty ~  socialness +(socialness|subj_idx) + (1|movie)', data=dat,family = \"binomial\") # ff: mean response, rf:subjID\n",
    "print(model.fit())\n",
    "#sns.regplot(x= 'response',y= 'residuals', data= model.data, fit_reg= False)\n",
    "plt.hist(model.residuals)"
   ],
   "outputs": [
    {
     "output_type": "stream",
     "name": "stdout",
     "text": [
      "Formula: certainty~socialness+(socialness|subj_idx)+(1|movie)\n",
      "\n",
      "Family: binomial\t Inference: parametric\n",
      "\n",
      "Number of observations: 9948\t Groups: {'subj_idx': 1050.0, 'movie': 10.0}\n",
      "\n",
      "Log-likelihood: -2119.136 \t AIC: 4250.272\n",
      "\n",
      "Random effects:\n",
      "\n",
      "                 Name    Var    Std\n",
      "subj_idx  (Intercept)  0.976  0.988\n",
      "subj_idx   socialness  0.766  0.875\n",
      "movie     (Intercept)  0.577  0.760\n",
      "\n",
      "                  IV1         IV2  Corr\n",
      "subj_idx  (Intercept)  socialness -0.54\n",
      "\n",
      "Fixed effects:\n",
      "\n",
      "             Estimate  2.5_ci  97.5_ci     SE      OR  OR_2.5_ci  OR_97.5_ci  \\\n",
      "(Intercept)     2.646   1.922    3.370  0.370  14.098      6.832      29.092   \n",
      "socialness      1.467   0.380    2.554  0.554   4.336      1.462      12.854   \n",
      "\n",
      "              Prob  Prob_2.5_ci  Prob_97.5_ci  Z-stat  P-val  Sig  \n",
      "(Intercept)  0.934        0.872         0.967   7.159  0.000  ***  \n",
      "socialness   0.813        0.594         0.928   2.645  0.008   **  \n"
     ]
    },
    {
     "output_type": "execute_result",
     "data": {
      "text/plain": [
       "(array([4.000e+01, 1.620e+02, 3.270e+02, 9.500e+01, 1.600e+01, 1.000e+00,\n",
       "        0.000e+00, 8.035e+03, 1.233e+03, 3.900e+01]),\n",
       " array([-2.93294977, -2.50620858, -2.0794674 , -1.65272621, -1.22598502,\n",
       "        -0.79924384, -0.37250265,  0.05423853,  0.48097972,  0.9077209 ,\n",
       "         1.33446209]),\n",
       " <BarContainer object of 10 artists>)"
      ]
     },
     "metadata": {},
     "execution_count": 141
    },
    {
     "output_type": "display_data",
     "data": {
      "image/png": "[encoded data removed]",
      "text/plain": [
       "<Figure size 432x288 with 1 Axes>"
      ]
     },
     "metadata": {
      "needs_background": "light"
     }
    }
   ],
   "metadata": {}
  },
  {
   "cell_type": "code",
   "execution_count": 144,
   "source": [
    "# certainty as a function of stimtype\n",
    "model = Lmer('certainty ~  stim +(stim|subj_idx) + (1|movie)', data=dat,family = \"binomial\") # ff: mean response, rf:subjID\n",
    "#print(model.fit(factors={\"stim\":[\"Random\",\"Mental\"]}))\n",
    "print(model.fit())\n",
    "#sns.regplot(x= 'response',y= 'residuals', data= model.data, fit_reg= False)\n",
    "plt.hist(model.residuals)"
   ],
   "outputs": [
    {
     "output_type": "stream",
     "name": "stdout",
     "text": [
      "Formula: certainty~stim+(stim|subj_idx)+(1|movie)\n",
      "\n",
      "Family: binomial\t Inference: parametric\n",
      "\n",
      "Number of observations: 9948\t Groups: {'subj_idx': 1050.0, 'movie': 10.0}\n",
      "\n",
      "Log-likelihood: -2119.181 \t AIC: 4250.363\n",
      "\n",
      "Random effects:\n",
      "\n",
      "                 Name    Var    Std\n",
      "subj_idx  (Intercept)  0.833  0.912\n",
      "subj_idx   stimRandom  0.626  0.791\n",
      "movie     (Intercept)  0.560  0.748\n",
      "\n",
      "                  IV1         IV2   Corr\n",
      "subj_idx  (Intercept)  stimRandom -0.382\n",
      "\n",
      "Fixed effects:\n",
      "\n",
      "             Estimate  2.5_ci  97.5_ci     SE      OR  OR_2.5_ci  OR_97.5_ci  \\\n",
      "(Intercept)     4.083   3.371    4.796  0.364  59.336     29.096     121.003   \n",
      "stimRandom     -1.373  -2.350   -0.396  0.499   0.253      0.095       0.673   \n",
      "\n",
      "              Prob  Prob_2.5_ci  Prob_97.5_ci  Z-stat  P-val  Sig  \n",
      "(Intercept)  0.983        0.967         0.992  11.231  0.000  ***  \n",
      "stimRandom   0.202        0.087         0.402  -2.753  0.006   **  \n"
     ]
    },
    {
     "output_type": "execute_result",
     "data": {
      "text/plain": [
       "(array([3.800e+01, 1.340e+02, 2.430e+02, 2.100e+02, 1.500e+01, 1.000e+00,\n",
       "        0.000e+00, 8.030e+03, 1.238e+03, 3.900e+01]),\n",
       " array([-2.93187413, -2.50715138, -2.08242863, -1.65770587, -1.23298312,\n",
       "        -0.80826037, -0.38353761,  0.04118514,  0.46590789,  0.89063065,\n",
       "         1.3153534 ]),\n",
       " <BarContainer object of 10 artists>)"
      ]
     },
     "metadata": {},
     "execution_count": 144
    },
    {
     "output_type": "display_data",
     "data": {
      "image/png": "[encoded data removed]",
      "text/plain": [
       "<Figure size 432x288 with 1 Axes>"
      ]
     },
     "metadata": {
      "needs_background": "light"
     }
    }
   ],
   "metadata": {}
  },
  {
   "cell_type": "markdown",
   "source": [
    "In both the analyses above, the regressors where significant indicating that response certainty can be predicted from binary stimType or continuous (based on general consensus) socialness"
   ],
   "metadata": {}
  },
  {
   "cell_type": "code",
   "execution_count": 291,
   "source": [
    "# certainty as a function of stimtype\n",
    "model = Lmer('uncertainty ~  stim +(stim|subj_idx)', data=dat,family = \"binomial\") # ff: mean response, rf:subjID\n",
    "print(model.fit(factors={\"stim\":[\"Random\",\"Mental\"]}))\n",
    "#print(model.fit())\n",
    "#sns.regplot(x= 'response',y= 'residuals', data= model.data, fit_reg= False)\n",
    "#plt.hist(model.residuals)"
   ],
   "outputs": [
    {
     "output_type": "stream",
     "name": "stdout",
     "text": [
      "Formula: uncertainty~stim+(stim|subj_idx)\n",
      "\n",
      "Family: binomial\t Inference: parametric\n",
      "\n",
      "Number of observations: 9948\t Groups: {'subj_idx': 1050.0}\n",
      "\n",
      "Log-likelihood: -2249.163 \t AIC: 4508.326\n",
      "\n",
      "Random effects:\n",
      "\n",
      "                 Name    Var    Std\n",
      "subj_idx  (Intercept)  0.889  0.943\n",
      "subj_idx   stimMental  2.737  1.654\n",
      "\n",
      "                  IV1         IV2   Corr\n",
      "subj_idx  (Intercept)  stimMental -0.349\n",
      "\n",
      "Fixed effects:\n",
      "\n",
      "             Estimate  2.5_ci  97.5_ci     SE     OR  OR_2.5_ci  OR_97.5_ci  \\\n",
      "(Intercept)    -2.571  -2.740   -2.402  0.086  0.076      0.065       0.091   \n",
      "stim1          -1.796  -2.292   -1.300  0.253  0.166      0.101       0.273   \n",
      "\n",
      "              Prob  Prob_2.5_ci  Prob_97.5_ci  Z-stat  P-val  Sig  \n",
      "(Intercept)  0.071        0.061         0.083 -29.745    0.0  ***  \n",
      "stim1        0.142        0.092         0.214  -7.093    0.0  ***  \n"
     ]
    }
   ],
   "metadata": {}
  },
  {
   "cell_type": "code",
   "execution_count": 148,
   "source": [
    "# Alternate version of the last plot showing individual values\n",
    "fig,ax = plt.subplots(figsize = (4,4))\n",
    "summary = dat.groupby(['subj_idx','stim']).mean()\n",
    "print(summary.reset_index().groupby('stim').mean().certainty)\n",
    "sns.lineplot(data=summary, x=\"stim\", y=\"certainty\", style=\"subj_idx\",legend = False, alpha = 0.05)\n",
    "plt.plot(summary.reset_index().groupby('stim').mean().certainty, color = 'black', marker = 'o')\n",
    "#summary.plot(x=\"stim\",y=\"response\", stacked = True)\n",
    "#ax.set_xticks((0,1))\n",
    "#ax.set_xticklabels(('No','Yes'), fontsize = 'x-large')\n",
    "#ax.set_ylabel(\"RT\", fontsize = 'x-large')"
   ],
   "outputs": [
    {
     "output_type": "stream",
     "name": "stdout",
     "text": [
      "stim\n",
      "Mental    0.966444\n",
      "Random    0.902034\n",
      "Name: certainty, dtype: float64\n"
     ]
    },
    {
     "output_type": "execute_result",
     "data": {
      "text/plain": [
       "[<matplotlib.lines.Line2D at 0x7f96b6e88710>]"
      ]
     },
     "metadata": {},
     "execution_count": 148
    },
    {
     "output_type": "display_data",
     "data": {
      "image/png": "[encoded data removed]",
      "text/plain": [
       "<Figure size 288x288 with 1 Axes>"
      ]
     },
     "metadata": {
      "needs_background": "light"
     }
    }
   ],
   "metadata": {}
  },
  {
   "cell_type": "code",
   "execution_count": 161,
   "source": [
    "#RT across mean socialness values (or movies)\n",
    "fig,ax = plt.subplots(figsize = (10,5))\n",
    "sns.violinplot(x=\"movie\",y=\"rt\",data=data_sure, ax=ax)\n",
    "ax.set_xticks(range(10))\n",
    "ax.set_xlabel('movies',fontsize = 12)\n",
    "ax.set_ylabel('RT',fontsize = 12)\n",
    "ax.axhline(0, linestyle='--')"
   ],
   "outputs": [
    {
     "output_type": "execute_result",
     "data": {
      "text/plain": [
       "<matplotlib.lines.Line2D at 0x7f9644863510>"
      ]
     },
     "metadata": {},
     "execution_count": 161
    },
    {
     "output_type": "display_data",
     "data": {
      "image/png": "[encoded data removed]",
      "text/plain": [
       "<Figure size 720x360 with 1 Axes>"
      ]
     },
     "metadata": {
      "needs_background": "light"
     }
    }
   ],
   "metadata": {}
  },
  {
   "cell_type": "markdown",
   "source": [
    "# Extra code"
   ],
   "metadata": {}
  },
  {
   "cell_type": "code",
   "execution_count": 249,
   "source": [
    "fig = plt.figure(1, figsize=(4,2))\n",
    "\n",
    "data = counts_per_subj['Soc-NonSoc_pc'].values\n",
    "_, bins, _ = plt.hist(data, 12, density=1, alpha=0.5,color = 'grey',label = 'nSoc-\\nnNonSoc', align = 'mid',edgecolor = 'k')\n",
    "#plt.hist(data,bins=bins)\n",
    "\n",
    "mu, sigma = scipy.stats.norm.fit(data)\n",
    "xmin,xmax = plt.xlim()\n",
    "x =  np.linspace(xmin,xmax,20)\n",
    "best_fit_line = scipy.stats.norm.pdf(x, mu, sigma)\n",
    "plt.plot(x, best_fit_line, color = 'k',label = 'Best fit line', marker = 'o')\n",
    "ymin,ymax = plt.ylim()\n",
    "plt.vlines(mu,ymin,ymax,color = 'g',label = 'Mean')\n",
    "plt.vlines(0,ymin,ymax,color = 'k',label = 'Zero',ls = 'dashed')\n",
    "plt.xlabel('Nr.Social-\\nNonSocial responses per sub.')\n",
    "#plt.xticks([-5,-3,-1,0,1,3,5,7], rotation=30)\n",
    "plt.ylabel('Density')\n",
    "plt.legend(bbox_to_anchor = [1,1.05])\n",
    "\n",
    "plt.figure(2, figsize=(4,2))\n",
    "\n",
    "sns.boxplot(x=data)\n",
    "#sns.boxplot(x=\"diff\", data = cols)\n",
    "ymin,ymax = plt.ylim()\n",
    "plt.vlines(0,ymin,ymax,color = 'k',label = 'Zero',ls = 'dashed')\n",
    "plt.xlabel('nSoc-nNonSoc per sub.')\n",
    "\n",
    "plt.figure(3, figsize=(4,2))\n",
    "sns.stripplot(x = \"diff\", data = counts_per_subj, color = 'k',  alpha = .1)\n",
    "\n"
   ],
   "outputs": [
    {
     "output_type": "execute_result",
     "data": {
      "text/plain": [
       "<AxesSubplot:xlabel='diff'>"
      ]
     },
     "metadata": {},
     "execution_count": 249
    },
    {
     "output_type": "display_data",
     "data": {
      "image/png": "[encoded data removed]",
      "text/plain": [
       "<Figure size 288x144 with 1 Axes>"
      ]
     },
     "metadata": {
      "needs_background": "light"
     }
    },
    {
     "output_type": "display_data",
     "data": {
      "image/png": "[encoded data removed]",
      "text/plain": [
       "<Figure size 288x144 with 1 Axes>"
      ]
     },
     "metadata": {
      "needs_background": "light"
     }
    },
    {
     "output_type": "display_data",
     "data": {
      "image/png": "[encoded data removed]",
      "text/plain": [
       "<Figure size 288x144 with 1 Axes>"
      ]
     },
     "metadata": {
      "needs_background": "light"
     }
    }
   ],
   "metadata": {}
  },
  {
   "cell_type": "markdown",
   "source": [],
   "metadata": {}
  }
 ],
 "metadata": {
  "kernelspec": {
   "name": "python3",
   "display_name": "Python 3.7.9 64-bit ('py37': conda)"
  },
  "language_info": {
   "codemirror_mode": {
    "name": "ipython",
    "version": 3
   },
   "file_extension": ".py",
   "mimetype": "text/x-python",
   "name": "python",
   "nbconvert_exporter": "python",
   "pygments_lexer": "ipython3",
   "version": "3.7.9"
  },
  "interpreter": {
   "hash": "30fd9c97283ec1278eec212a8f8afab06ad903f38228c32cacb469eba8e56f4f"
  }
 },
 "nbformat": 4,
 "nbformat_minor": 4
}